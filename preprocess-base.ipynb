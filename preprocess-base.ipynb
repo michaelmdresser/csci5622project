{
 "cells": [
  {
   "cell_type": "code",
   "execution_count": 1,
   "metadata": {},
   "outputs": [],
   "source": [
    "# This is needed for DataFrameMapper\n",
    "# %pip install sklearn-pandas"
   ]
  },
  {
   "cell_type": "code",
   "execution_count": 2,
   "metadata": {},
   "outputs": [],
   "source": [
    "# Load necessary libraries\n",
    "import numpy as np\n",
    "import pandas as pd\n",
    "import matplotlib.pyplot as plt\n",
    "import datetime\n",
    "\n",
    "# For SVM stuff\n",
    "import nltk\n",
    "from nltk.corpus import stopwords\n",
    "from nltk.tokenize import WhitespaceTokenizer\n",
    "from sklearn.preprocessing import LabelEncoder, StandardScaler, OrdinalEncoder\n",
    "from sklearn_pandas import DataFrameMapper"
   ]
  },
  {
   "cell_type": "markdown",
   "metadata": {},
   "source": [
    "Format does basic work to change the format of columns into something we can use."
   ]
  },
  {
   "cell_type": "code",
   "execution_count": 3,
   "metadata": {},
   "outputs": [],
   "source": [
    "def format_df(df):\n",
    "    df[\"deadline\"] = pd.to_datetime(df[\"deadline\"])\n",
    "    df[\"launched\"] = pd.to_datetime(df[\"launched\"])\n",
    "    df[\"success\"] = df[\"pledged\"] >= df[\"goal\"]\n",
    "    df[\"duration\"] = df[\"deadline\"] - df[\"launched\"]\n",
    "    return df"
   ]
  },
  {
   "cell_type": "markdown",
   "metadata": {},
   "source": [
    "Clean removes columns we don't care about. Namely:\n",
    "* When the duration is less than one day\n",
    "* If the project state is 'live'\n",
    "* If the project state is cancelled"
   ]
  },
  {
   "cell_type": "code",
   "execution_count": 4,
   "metadata": {},
   "outputs": [],
   "source": [
    "def clean_df(df):\n",
    "    df = df.drop(df.loc[df[\"duration\"] < datetime.timedelta(days=1)].index)\n",
    "    df = df.drop(df.loc[df[\"state\"] == \"live\"].index)\n",
    "    df = df.drop(df.loc[df[\"state\"] == \"canceled\"].index)\n",
    "    return df"
   ]
  },
  {
   "cell_type": "markdown",
   "metadata": {},
   "source": [
    "These functions define the transformations of the columns we care about into the forms we're interested in running actual algorithms on. "
   ]
  },
  {
   "cell_type": "code",
   "execution_count": 5,
   "metadata": {},
   "outputs": [],
   "source": [
    "def get_main_category_encoder():\n",
    "    main_category_le = LabelEncoder()\n",
    "    main_category_le.fit(train_clean['main_category'])\n",
    "    return main_category_le\n",
    "\n",
    "def get_category_encoder():\n",
    "    category_le = LabelEncoder()\n",
    "    category_le.fit(train_clean['category'])\n",
    "    return category_le\n",
    "\n",
    "def get_mapper():\n",
    "    main_category_le = get_main_category_encoder()\n",
    "    category_le = get_category_encoder()\n",
    "\n",
    "    mapper = DataFrameMapper([\n",
    "        ('main_category', main_category_le),\n",
    "        ('category', category_le),\n",
    "        (['duration'], StandardScaler()),\n",
    "        (['usd_goal_real'], StandardScaler()),\n",
    "        (['launched_month'], OrdinalEncoder()),\n",
    "        (['deadline_month'], OrdinalEncoder()),\n",
    "    ], df_out=True)\n",
    "    return mapper\n",
    "\n",
    "def transform_df(df, mapper, fit=False):\n",
    "    X = df[[\"name\", \"main_category\", \"category\", \"duration\", \"usd_goal_real\"]].copy()\n",
    "    X[\"launched_month\"] = df[\"launched\"].apply(lambda x: x.month)\n",
    "    X[\"deadline_month\"] = df[\"deadline\"].apply(lambda x: x.month)\n",
    "    X[\"duration_seconds\"] = X[\"duration\"].apply(lambda x: x.seconds)\n",
    "    \n",
    "    if fit:\n",
    "        X_mapped = mapper.fit_transform(X)\n",
    "    else:\n",
    "        X_mapped = mapper.transform(X)\n",
    "        \n",
    "    y = df[\"success\"].copy()\n",
    "    \n",
    "    return X_mapped, y, mapper\n",
    "    "
   ]
  },
  {
   "cell_type": "code",
   "execution_count": 6,
   "metadata": {},
   "outputs": [],
   "source": [
    "train_full = pd.read_csv(\"data/2018-train.csv\").dropna()\n",
    "validate_full = pd.read_csv(\"data/2018-validate.csv\").dropna()\n",
    "test_full = pd.read_csv(\"data/2018-test.csv\").dropna()"
   ]
  },
  {
   "cell_type": "code",
   "execution_count": 7,
   "metadata": {},
   "outputs": [],
   "source": [
    "train_format = format_df(train_full)\n",
    "validate_format = format_df(validate_full)\n",
    "test_format = format_df(test_full)"
   ]
  },
  {
   "cell_type": "code",
   "execution_count": 8,
   "metadata": {},
   "outputs": [
    {
     "data": {
      "text/html": [
       "<div>\n",
       "<style scoped>\n",
       "    .dataframe tbody tr th:only-of-type {\n",
       "        vertical-align: middle;\n",
       "    }\n",
       "\n",
       "    .dataframe tbody tr th {\n",
       "        vertical-align: top;\n",
       "    }\n",
       "\n",
       "    .dataframe thead th {\n",
       "        text-align: right;\n",
       "    }\n",
       "</style>\n",
       "<table border=\"1\" class=\"dataframe\">\n",
       "  <thead>\n",
       "    <tr style=\"text-align: right;\">\n",
       "      <th></th>\n",
       "      <th>Unnamed: 0</th>\n",
       "      <th>ID</th>\n",
       "      <th>name</th>\n",
       "      <th>category</th>\n",
       "      <th>main_category</th>\n",
       "      <th>currency</th>\n",
       "      <th>deadline</th>\n",
       "      <th>goal</th>\n",
       "      <th>launched</th>\n",
       "      <th>pledged</th>\n",
       "      <th>state</th>\n",
       "      <th>backers</th>\n",
       "      <th>country</th>\n",
       "      <th>usd pledged</th>\n",
       "      <th>usd_pledged_real</th>\n",
       "      <th>usd_goal_real</th>\n",
       "      <th>success</th>\n",
       "      <th>duration</th>\n",
       "    </tr>\n",
       "  </thead>\n",
       "  <tbody>\n",
       "    <tr>\n",
       "      <th>0</th>\n",
       "      <td>319122</td>\n",
       "      <td>695425648</td>\n",
       "      <td>Peace-building through story-making with youth...</td>\n",
       "      <td>Children's Books</td>\n",
       "      <td>Publishing</td>\n",
       "      <td>SEK</td>\n",
       "      <td>2015-06-09</td>\n",
       "      <td>6000.0</td>\n",
       "      <td>2015-05-10 14:53:53</td>\n",
       "      <td>6251.0</td>\n",
       "      <td>successful</td>\n",
       "      <td>15</td>\n",
       "      <td>SE</td>\n",
       "      <td>756.92</td>\n",
       "      <td>762.02</td>\n",
       "      <td>731.42</td>\n",
       "      <td>True</td>\n",
       "      <td>29 days 09:06:07</td>\n",
       "    </tr>\n",
       "    <tr>\n",
       "      <th>2</th>\n",
       "      <td>175494</td>\n",
       "      <td>189251239</td>\n",
       "      <td>Colored Baggies for Boardgames</td>\n",
       "      <td>Tabletop Games</td>\n",
       "      <td>Games</td>\n",
       "      <td>USD</td>\n",
       "      <td>2013-01-07</td>\n",
       "      <td>6000.0</td>\n",
       "      <td>2012-11-08 20:06:31</td>\n",
       "      <td>15151.0</td>\n",
       "      <td>successful</td>\n",
       "      <td>518</td>\n",
       "      <td>US</td>\n",
       "      <td>15151.00</td>\n",
       "      <td>15151.00</td>\n",
       "      <td>6000.00</td>\n",
       "      <td>True</td>\n",
       "      <td>59 days 03:53:29</td>\n",
       "    </tr>\n",
       "    <tr>\n",
       "      <th>4</th>\n",
       "      <td>141771</td>\n",
       "      <td>1720248225</td>\n",
       "      <td>Two Scoops of Beauty health wellness women eve...</td>\n",
       "      <td>Events</td>\n",
       "      <td>Food</td>\n",
       "      <td>USD</td>\n",
       "      <td>2016-09-04</td>\n",
       "      <td>5202.0</td>\n",
       "      <td>2016-08-05 01:26:56</td>\n",
       "      <td>0.0</td>\n",
       "      <td>failed</td>\n",
       "      <td>0</td>\n",
       "      <td>US</td>\n",
       "      <td>0.00</td>\n",
       "      <td>0.00</td>\n",
       "      <td>5202.00</td>\n",
       "      <td>False</td>\n",
       "      <td>29 days 22:33:04</td>\n",
       "    </tr>\n",
       "  </tbody>\n",
       "</table>\n",
       "</div>"
      ],
      "text/plain": [
       "   Unnamed: 0          ID                                               name  \\\n",
       "0      319122   695425648  Peace-building through story-making with youth...   \n",
       "2      175494   189251239                     Colored Baggies for Boardgames   \n",
       "4      141771  1720248225  Two Scoops of Beauty health wellness women eve...   \n",
       "\n",
       "           category main_category currency   deadline    goal  \\\n",
       "0  Children's Books    Publishing      SEK 2015-06-09  6000.0   \n",
       "2    Tabletop Games         Games      USD 2013-01-07  6000.0   \n",
       "4            Events          Food      USD 2016-09-04  5202.0   \n",
       "\n",
       "             launched  pledged       state  backers country  usd pledged  \\\n",
       "0 2015-05-10 14:53:53   6251.0  successful       15      SE       756.92   \n",
       "2 2012-11-08 20:06:31  15151.0  successful      518      US     15151.00   \n",
       "4 2016-08-05 01:26:56      0.0      failed        0      US         0.00   \n",
       "\n",
       "   usd_pledged_real  usd_goal_real  success         duration  \n",
       "0            762.02         731.42     True 29 days 09:06:07  \n",
       "2          15151.00        6000.00     True 59 days 03:53:29  \n",
       "4              0.00        5202.00    False 29 days 22:33:04  "
      ]
     },
     "execution_count": 8,
     "metadata": {},
     "output_type": "execute_result"
    }
   ],
   "source": [
    "train_clean = clean_df(train_format)\n",
    "valid_clean = clean_df(validate_format)\n",
    "test_clean = clean_df(test_format)\n",
    "train_clean.head(3)"
   ]
  },
  {
   "cell_type": "code",
   "execution_count": 9,
   "metadata": {},
   "outputs": [
    {
     "name": "stdout",
     "output_type": "stream",
     "text": [
      "CPU times: user 6.24 s, sys: 37.1 ms, total: 6.28 s\n",
      "Wall time: 6.31 s\n"
     ]
    }
   ],
   "source": [
    "%%time\n",
    "mapper = get_mapper()\n",
    "X_train, y_train, mapper = transform_df(train_clean, mapper, fit=True)\n",
    "X_valid, y_valid, mapper = transform_df(valid_clean, mapper, fit=False)\n",
    "X_test, y_test, mapper = transform_df(test_clean, mapper, fit=False)"
   ]
  },
  {
   "cell_type": "code",
   "execution_count": 10,
   "metadata": {},
   "outputs": [
    {
     "data": {
      "text/html": [
       "<div>\n",
       "<style scoped>\n",
       "    .dataframe tbody tr th:only-of-type {\n",
       "        vertical-align: middle;\n",
       "    }\n",
       "\n",
       "    .dataframe tbody tr th {\n",
       "        vertical-align: top;\n",
       "    }\n",
       "\n",
       "    .dataframe thead th {\n",
       "        text-align: right;\n",
       "    }\n",
       "</style>\n",
       "<table border=\"1\" class=\"dataframe\">\n",
       "  <thead>\n",
       "    <tr style=\"text-align: right;\">\n",
       "      <th></th>\n",
       "      <th>main_category</th>\n",
       "      <th>category</th>\n",
       "      <th>duration</th>\n",
       "      <th>usd_goal_real</th>\n",
       "      <th>launched_month</th>\n",
       "      <th>deadline_month</th>\n",
       "    </tr>\n",
       "  </thead>\n",
       "  <tbody>\n",
       "    <tr>\n",
       "      <th>0</th>\n",
       "      <td>12</td>\n",
       "      <td>19</td>\n",
       "      <td>-0.316333</td>\n",
       "      <td>-0.036515</td>\n",
       "      <td>4.0</td>\n",
       "      <td>5.0</td>\n",
       "    </tr>\n",
       "    <tr>\n",
       "      <th>2</th>\n",
       "      <td>8</td>\n",
       "      <td>136</td>\n",
       "      <td>2.025723</td>\n",
       "      <td>-0.031740</td>\n",
       "      <td>10.0</td>\n",
       "      <td>0.0</td>\n",
       "    </tr>\n",
       "    <tr>\n",
       "      <th>4</th>\n",
       "      <td>7</td>\n",
       "      <td>44</td>\n",
       "      <td>-0.272265</td>\n",
       "      <td>-0.032463</td>\n",
       "      <td>7.0</td>\n",
       "      <td>8.0</td>\n",
       "    </tr>\n",
       "    <tr>\n",
       "      <th>5</th>\n",
       "      <td>5</td>\n",
       "      <td>31</td>\n",
       "      <td>-0.400095</td>\n",
       "      <td>-0.034948</td>\n",
       "      <td>2.0</td>\n",
       "      <td>3.0</td>\n",
       "    </tr>\n",
       "    <tr>\n",
       "      <th>6</th>\n",
       "      <td>6</td>\n",
       "      <td>93</td>\n",
       "      <td>-0.326225</td>\n",
       "      <td>0.008140</td>\n",
       "      <td>0.0</td>\n",
       "      <td>2.0</td>\n",
       "    </tr>\n",
       "  </tbody>\n",
       "</table>\n",
       "</div>"
      ],
      "text/plain": [
       "   main_category  category  duration  usd_goal_real  launched_month  \\\n",
       "0             12        19 -0.316333      -0.036515             4.0   \n",
       "2              8       136  2.025723      -0.031740            10.0   \n",
       "4              7        44 -0.272265      -0.032463             7.0   \n",
       "5              5        31 -0.400095      -0.034948             2.0   \n",
       "6              6        93 -0.326225       0.008140             0.0   \n",
       "\n",
       "   deadline_month  \n",
       "0             5.0  \n",
       "2             0.0  \n",
       "4             8.0  \n",
       "5             3.0  \n",
       "6             2.0  "
      ]
     },
     "execution_count": 10,
     "metadata": {},
     "output_type": "execute_result"
    }
   ],
   "source": [
    "X_train.head(5)"
   ]
  },
  {
   "cell_type": "code",
   "execution_count": 11,
   "metadata": {},
   "outputs": [
    {
     "data": {
      "text/plain": [
       "0     True\n",
       "2     True\n",
       "4    False\n",
       "5    False\n",
       "6    False\n",
       "Name: success, dtype: bool"
      ]
     },
     "execution_count": 11,
     "metadata": {},
     "output_type": "execute_result"
    }
   ],
   "source": [
    "y_train.head(5)"
   ]
  },
  {
   "cell_type": "code",
   "execution_count": 12,
   "metadata": {
    "scrolled": true
   },
   "outputs": [],
   "source": [
    "# TODO: write to file\n",
    "X_train.to_csv(\"data/preprocess-base-x-train.csv\", header=True)\n",
    "y_train.to_csv(\"data/preprocess-base-y-train.csv\", header=True, index=False)\n",
    "X_valid.to_csv(\"data/preprocess-base-x-valid.csv\", header=True)\n",
    "y_valid.to_csv(\"data/preprocess-base-y-valid.csv\", header=True, index=False)\n",
    "X_test.to_csv(\"data/preprocess-base-x-test.csv\", header=True)\n",
    "y_test.to_csv(\"data/preprocess-base-y-test.csv\", header=True, index=False)"
   ]
  }
 ],
 "metadata": {
  "kernelspec": {
   "display_name": "Python 3",
   "language": "python",
   "name": "python3"
  },
  "language_info": {
   "codemirror_mode": {
    "name": "ipython",
    "version": 3
   },
   "file_extension": ".py",
   "mimetype": "text/x-python",
   "name": "python",
   "nbconvert_exporter": "python",
   "pygments_lexer": "ipython3",
   "version": "3.7.4"
  }
 },
 "nbformat": 4,
 "nbformat_minor": 2
}
