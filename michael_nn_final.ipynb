{
 "cells": [
  {
   "cell_type": "code",
   "execution_count": 1,
   "metadata": {},
   "outputs": [],
   "source": [
    "from pprint import pprint\n",
    "import datetime\n",
    "import pickle\n",
    "\n",
    "import numpy as np\n",
    "import matplotlib.pyplot as plt\n",
    "import pandas as pd\n",
    "\n",
    "from tensorflow.keras.models import Sequential\n",
    "from tensorflow.keras.layers import Dense, Dropout, Activation\n",
    "from tensorflow.keras.optimizers import SGD"
   ]
  },
  {
   "cell_type": "code",
   "execution_count": 2,
   "metadata": {},
   "outputs": [],
   "source": [
    "def one_hot_df(df,one_hot_cols,drop_cols):\n",
    "    dfret = df.copy()\n",
    "    dfret = pd.get_dummies(dfret,columns=one_hot_cols).drop(columns=drop_cols)\n",
    "    return dfret\n",
    "\n",
    "# THIS RETURNS TEST DATA, NOT VALID DESPITE VARIABLE NAMES\n",
    "def get_data(data_category=\"base\", data_suffix=\"\", one_hot_main=False, one_hot_both=False):\n",
    "    train_x = pd.read_csv(\"data/preprocess-%s-x-train%s.csv\" % (data_category, data_suffix), index_col=0)\n",
    "    train_y = pd.read_csv(\"data/preprocess-%s-y-train%s.csv\" % (data_category, data_suffix))\n",
    "    valid_x = pd.read_csv(\"data/preprocess-%s-x-test%s.csv\" % (data_category, data_suffix), index_col=0)\n",
    "    valid_y = pd.read_csv(\"data/preprocess-%s-y-test%s.csv\" % (data_category, data_suffix))\n",
    "    \n",
    "    if data_category == \"basic_name\" and data_suffix == \"-correct\":\n",
    "        train_x.rename(inplace=True, columns={\n",
    "            \"launched_month_deadline_month_0\": \"launched_month\",\n",
    "            \"launched_month_deadline_month_1\": \"deadline_month\"})\n",
    "        valid_x.rename(inplace=True, columns={\n",
    "            \"launched_month_deadline_month_0\": \"launched_month\",\n",
    "            \"launched_month_deadline_month_1\": \"deadline_month\"})\n",
    "        for col in train_x.columns:\n",
    "            if \"Unnamed\" in col:\n",
    "                train_x = train_x.drop(col, axis=1)\n",
    "                valid_x = valid_x.drop(col, axis=1)\n",
    "        train_y[\"success\"] = train_y[\"1\"]\n",
    "        valid_y[\"success\"] = valid_y[\"1\"]\n",
    "    train_y.success = train_y.success.apply(lambda x: 1 if x else 0)\n",
    "    valid_y.success = valid_y.success.apply(lambda x: 1 if x else 0)\n",
    "    \n",
    "    if one_hot_both:\n",
    "        one_hot_cols = ['main_category', 'category', 'launched_month','deadline_month']\n",
    "        drop_cols = []\n",
    "        train_x = one_hot_df(train_x, one_hot_cols, drop_cols)\n",
    "        valid_x = one_hot_df(valid_x, one_hot_cols, drop_cols)\n",
    "    elif one_hot_main:\n",
    "        one_hot_cols = ['main_category','launched_month','deadline_month']\n",
    "        drop_cols = ['category']\n",
    "        train_x = one_hot_df(train_x, one_hot_cols, drop_cols)\n",
    "        valid_x = one_hot_df(valid_x, one_hot_cols, drop_cols)\n",
    "    \n",
    "    train_x = np.array(train_x)\n",
    "    train_y = np.array(train_y.success).reshape((-1, 1))\n",
    "    valid_x = np.array(valid_x)\n",
    "    valid_y = np.array(valid_y.success).reshape((-1, 1))\n",
    "    \n",
    "    return train_x, train_y, valid_x, valid_y"
   ]
  },
  {
   "cell_type": "code",
   "execution_count": 3,
   "metadata": {},
   "outputs": [],
   "source": [
    "# data_base_one_hot_both = get_data(data_category=\"base\", one_hot_both=True)\n",
    "data_doc2vec_one_hot_both = get_data(data_category=\"doc2vec\", one_hot_both=True)\n",
    "# data_basicname_one_hot_both = get_data(data_category=\"basic_name\", data_suffix=\"-correct\", one_hot_both=True)"
   ]
  },
  {
   "cell_type": "code",
   "execution_count": 4,
   "metadata": {},
   "outputs": [],
   "source": [
    "def build_and_evaluate_model(\n",
    "    train_x, train_y, valid_x, valid_y,\n",
    "    epochs=20,\n",
    "    lr=0.01,\n",
    "    layer_sizes=(13, 13),\n",
    "    dropout=None,\n",
    "    verbose=True):\n",
    "    print(\"epochs:\", epochs, end=\" \")\n",
    "    print(\"layer_sizes:\", layer_sizes, end=\" \")\n",
    "    print(\"dropout:\", dropout)\n",
    "    model = Sequential()\n",
    "    for layer_size in layer_sizes:\n",
    "        model.add(Dense(layer_size, activation=\"relu\"))\n",
    "        if dropout is not None:\n",
    "            model.add(Dropout(dropout))\n",
    "    model.add(Dense(1, activation=\"sigmoid\"))\n",
    "    sgd = SGD(lr=lr, decay=1e-6, momentum=0.9, nesterov=True)\n",
    "#     sgd = SGD(lr=lr, decay=1e-6)\n",
    "    model.compile(loss=\"binary_crossentropy\",\n",
    "                 optimizer=sgd,\n",
    "                 metrics=[\"accuracy\"])\n",
    "\n",
    "    model.fit(train_x, train_y, epochs=epochs, batch_size=128, verbose=verbose)\n",
    "    score = model.evaluate(valid_x, valid_y, batch_size=128, verbose=False)\n",
    "    names = model.metrics_names\n",
    "    return {names[i]: score[i] for i in range(len(names))}"
   ]
  },
  {
   "cell_type": "code",
   "execution_count": 5,
   "metadata": {},
   "outputs": [
    {
     "name": "stdout",
     "output_type": "stream",
     "text": [
      "epochs: 20 layer_sizes: (13, 13) dropout: None\n",
      "Train on 249956 samples\n",
      "Epoch 1/20\n",
      "249956/249956 [==============================] - 13s 51us/sample - loss: 0.6378 - accuracy: 0.6378\n",
      "Epoch 2/20\n",
      "249956/249956 [==============================] - 12s 50us/sample - loss: 0.6124 - accuracy: 0.6606\n",
      "Epoch 3/20\n",
      "249956/249956 [==============================] - 12s 50us/sample - loss: 0.6079 - accuracy: 0.6645\n",
      "Epoch 4/20\n",
      "249956/249956 [==============================] - 12s 50us/sample - loss: 0.6054 - accuracy: 0.6669\n",
      "Epoch 5/20\n",
      "249956/249956 [==============================] - 13s 50us/sample - loss: 0.6041 - accuracy: 0.6669\n",
      "Epoch 6/20\n",
      "249956/249956 [==============================] - 13s 51us/sample - loss: 0.6027 - accuracy: 0.6678\n",
      "Epoch 7/20\n",
      "249956/249956 [==============================] - 13s 51us/sample - loss: 0.6016 - accuracy: 0.6690\n",
      "Epoch 8/20\n",
      "249956/249956 [==============================] - 13s 51us/sample - loss: 0.6006 - accuracy: 0.6700\n",
      "Epoch 9/20\n",
      "249956/249956 [==============================] - 13s 53us/sample - loss: 0.5995 - accuracy: 0.6711\n",
      "Epoch 10/20\n",
      "249956/249956 [==============================] - 12s 48us/sample - loss: 0.5987 - accuracy: 0.6709\n",
      "Epoch 11/20\n",
      "249956/249956 [==============================] - 12s 48us/sample - loss: 0.5980 - accuracy: 0.6725\n",
      "Epoch 12/20\n",
      "249956/249956 [==============================] - 12s 48us/sample - loss: 0.5974 - accuracy: 0.6729\n",
      "Epoch 13/20\n",
      "249956/249956 [==============================] - 12s 49us/sample - loss: 0.5970 - accuracy: 0.6734\n",
      "Epoch 14/20\n",
      "249956/249956 [==============================] - 12s 48us/sample - loss: 0.5964 - accuracy: 0.6732\n",
      "Epoch 15/20\n",
      "249956/249956 [==============================] - 12s 49us/sample - loss: 0.5960 - accuracy: 0.6734\n",
      "Epoch 16/20\n",
      "249956/249956 [==============================] - 12s 48us/sample - loss: 0.5954 - accuracy: 0.6742\n",
      "Epoch 17/20\n",
      "249956/249956 [==============================] - 10s 42us/sample - loss: 0.5951 - accuracy: 0.6736\n",
      "Epoch 18/20\n",
      "249956/249956 [==============================] - 8s 31us/sample - loss: 0.5944 - accuracy: 0.6751\n",
      "Epoch 19/20\n",
      "249956/249956 [==============================] - 7s 29us/sample - loss: 0.5943 - accuracy: 0.6750\n",
      "Epoch 20/20\n",
      "249956/249956 [==============================] - 12s 48us/sample - loss: 0.5940 - accuracy: 0.6754\n"
     ]
    }
   ],
   "source": [
    "results = build_and_evaluate_model(*data_doc2vec_one_hot_both)"
   ]
  },
  {
   "cell_type": "code",
   "execution_count": 6,
   "metadata": {},
   "outputs": [
    {
     "name": "stdout",
     "output_type": "stream",
     "text": [
      "{'accuracy': 0.6710861, 'loss': 0.5974124248647079}\n"
     ]
    }
   ],
   "source": [
    "pprint(results)"
   ]
  }
 ],
 "metadata": {
  "kernelspec": {
   "display_name": "py_3_7",
   "language": "python",
   "name": "py_3_7"
  },
  "language_info": {
   "codemirror_mode": {
    "name": "ipython",
    "version": 3
   },
   "file_extension": ".py",
   "mimetype": "text/x-python",
   "name": "python",
   "nbconvert_exporter": "python",
   "pygments_lexer": "ipython3",
   "version": "3.7.5"
  }
 },
 "nbformat": 4,
 "nbformat_minor": 2
}
