{
 "cells": [
  {
   "cell_type": "code",
   "execution_count": null,
   "metadata": {},
   "outputs": [],
   "source": [
    "%pip install sklearn-pandas\n"
   ]
  },
  {
   "cell_type": "code",
   "execution_count": 1,
   "metadata": {
    "ExecuteTime": {
     "end_time": "2019-12-08T23:59:02.863884Z",
     "start_time": "2019-12-08T23:58:55.890537Z"
    }
   },
   "outputs": [],
   "source": [
    "import pickle\n",
    "import pandas as pd\n",
    "import numpy as np\n",
    "import matplotlib.pyplot as plt\n",
    "import datetime\n",
    "import sklearn\n",
    "from copy import deepcopy\n",
    "from matplotlib.cm import CMRmap\n",
    "from sklearn.ensemble import AdaBoostClassifier\n",
    "from sklearn.tree import DecisionTreeClassifier\n",
    "from sklearn.metrics import accuracy_score, f1_score, recall_score, precision_score"
   ]
  },
  {
   "cell_type": "code",
   "execution_count": 2,
   "metadata": {
    "ExecuteTime": {
     "end_time": "2019-12-08T23:59:07.733893Z",
     "start_time": "2019-12-08T23:59:02.866876Z"
    }
   },
   "outputs": [],
   "source": [
    "#df=pd.read_csv(\"ks-projects-201801.csv\")\n",
    "\n",
    "#base data\n",
    "#x_test_base=pd.read_csv(\"./data/preprocess-base-x-test.csv\")\n",
    "x_train_base=pd.read_csv(\"./data/preprocess-base-x-train.csv\")\n",
    "y_train_base=pd.read_csv(\"./data/preprocess-base-y-train.csv\")\n",
    "x_valid_base=pd.read_csv(\"./data/preprocess-base-x-valid.csv\")\n",
    "y_valid_base=pd.read_csv(\"./data/preprocess-base-y-valid.csv\")\n",
    "\n",
    "#basic_name data\n",
    "#x_test_basic_name=pd.read_csv(\"./data/preprocess-basic_name-x-test-correct.csv\")\n",
    "x_train_basic_name=pd.read_csv(\"./data/preprocess-basic_name-x-train-correct.csv\").rename(columns={\"launched_month_deadline_month_0\": \"launched_month\", \"launched_month_deadline_month_1\": \"deadline_month\"}).drop(columns=['Unnamed: 0.1'])\n",
    "y_train_basic_name=pd.read_csv(\"./data/preprocess-basic_name-y-train-correct.csv\").rename(columns={'1':'success'})\n",
    "x_valid_basic_name=pd.read_csv(\"./data/preprocess-basic_name-x-valid-correct.csv\").rename(columns={\"launched_month_deadline_month_0\": \"launched_month\", \"launched_month_deadline_month_1\": \"deadline_month\"}).drop(columns=['Unnamed: 0.1'])\n",
    "y_valid_basic_name=pd.read_csv(\"./data/preprocess-basic_name-y-valid-correct.csv\").rename(columns={'1':'success'})\n",
    "\n",
    "#doc2vec data\n",
    "#x_test_doc2vec=pd.read_csv(\"./data/preprocess-doc2vec-x-test.csv\")\n",
    "x_train_doc2vec=pd.read_csv(\"./data/preprocess-doc2vec-x-train.csv\")\n",
    "y_train_doc2vec=pd.read_csv(\"./data/preprocess-doc2vec-y-train.csv\")\n",
    "x_valid_doc2vec=pd.read_csv(\"./data/preprocess-doc2vec-x-valid.csv\")\n",
    "y_valid_doc2vec=pd.read_csv(\"./data/preprocess-doc2vec-y-valid.csv\")\n",
    "\n"
   ]
  },
  {
   "cell_type": "code",
   "execution_count": 3,
   "metadata": {
    "ExecuteTime": {
     "end_time": "2019-12-08T23:59:07.748850Z",
     "start_time": "2019-12-08T23:59:07.736884Z"
    }
   },
   "outputs": [],
   "source": [
    "def one_hot_df(df,one_hot_cols,drop_cols):\n",
    "    dfret=deepcopy(df)\n",
    "    #dfret.astype({'launched_month': 'int32'})\n",
    "    dfret=pd.get_dummies(dfret,columns=one_hot_cols).drop(columns=drop_cols)\n",
    "    return dfret\n",
    "\n",
    "\n",
    "def cast_to_nparray(dataset,one_hot_cols,drop_cols):\n",
    "    dataset['x_train']=one_hot_df(dataset['x_train'], one_hot_cols,drop_cols)\n",
    "    dataset['x_valid']=one_hot_df(dataset['x_valid'],one_hot_cols,drop_cols)\n",
    "    #x_test=one_hot_df(x_test,one_hot_cols,drop_cols)\n",
    "    \n",
    "    dataset['x_train']=np.array(dataset['x_train'])\n",
    "    dataset['x_valid']=np.array(dataset['x_valid'])\n",
    "    #x_test=np.array(x_test)\n",
    "    \n",
    "    dataset['y_train']=np.array(dataset['y_train']['success'])\n",
    "    dataset['y_valid']=np.array(dataset['y_valid']['success'])\n",
    "    return dataset"
   ]
  },
  {
   "cell_type": "code",
   "execution_count": null,
   "metadata": {
    "ExecuteTime": {
     "end_time": "2019-12-08T00:40:37.994464Z",
     "start_time": "2019-12-08T00:40:37.848863Z"
    }
   },
   "outputs": [],
   "source": []
  },
  {
   "cell_type": "code",
   "execution_count": 4,
   "metadata": {
    "ExecuteTime": {
     "end_time": "2019-12-08T23:59:07.775779Z",
     "start_time": "2019-12-08T23:59:07.751844Z"
    }
   },
   "outputs": [],
   "source": [
    "def report_results(model, X, y):\n",
    "    pred = model.predict(X)\n",
    "    acc = accuracy_score(y, pred)\n",
    "    f1 = f1_score(y, pred)\n",
    "    prec = precision_score(y, pred)\n",
    "    rec = recall_score(y, pred)\n",
    "    result = {'f1': f1, 'acc': acc, 'precision': prec, 'recall': rec}\n",
    "    return [result, pred, model.feature_importances_]"
   ]
  },
  {
   "cell_type": "code",
   "execution_count": 32,
   "metadata": {
    "ExecuteTime": {
     "end_time": "2019-12-08T09:04:54.044997Z",
     "start_time": "2019-12-08T03:58:41.435269Z"
    }
   },
   "outputs": [
    {
     "name": "stdout",
     "output_type": "stream",
     "text": [
      "[1, 2, 4, 8, 16, 32, 64, 128, 256, 512, 1024]\n"
     ]
    },
    {
     "name": "stderr",
     "output_type": "stream",
     "text": [
      "C:\\ProgramData\\Anaconda3\\lib\\site-packages\\sklearn\\metrics\\classification.py:1437: UndefinedMetricWarning: F-score is ill-defined and being set to 0.0 due to no predicted samples.\n",
      "  'precision', 'predicted', average, warn_for)\n",
      "C:\\ProgramData\\Anaconda3\\lib\\site-packages\\sklearn\\metrics\\classification.py:1437: UndefinedMetricWarning: Precision is ill-defined and being set to 0.0 due to no predicted samples.\n",
      "  'precision', 'predicted', average, warn_for)\n"
     ]
    },
    {
     "name": "stdout",
     "output_type": "stream",
     "text": [
      " 0, 0, 0\n"
     ]
    },
    {
     "name": "stderr",
     "output_type": "stream",
     "text": [
      "C:\\ProgramData\\Anaconda3\\lib\\site-packages\\sklearn\\metrics\\classification.py:1437: UndefinedMetricWarning: F-score is ill-defined and being set to 0.0 due to no predicted samples.\n",
      "  'precision', 'predicted', average, warn_for)\n",
      "C:\\ProgramData\\Anaconda3\\lib\\site-packages\\sklearn\\metrics\\classification.py:1437: UndefinedMetricWarning: Precision is ill-defined and being set to 0.0 due to no predicted samples.\n",
      "  'precision', 'predicted', average, warn_for)\n"
     ]
    },
    {
     "name": "stdout",
     "output_type": "stream",
     "text": [
      " 0, 0, 1\n",
      " 0, 0, 2\n",
      " 0, 0, 3\n",
      " 0, 0, 4\n",
      " 0, 0, 5\n",
      " 0, 0, 6\n",
      " 0, 0, 7\n",
      " 0, 0, 8\n",
      " 0, 0, 9\n",
      " 0, 0,10\n"
     ]
    },
    {
     "name": "stderr",
     "output_type": "stream",
     "text": [
      "C:\\ProgramData\\Anaconda3\\lib\\site-packages\\sklearn\\metrics\\classification.py:1437: UndefinedMetricWarning: F-score is ill-defined and being set to 0.0 due to no predicted samples.\n",
      "  'precision', 'predicted', average, warn_for)\n",
      "C:\\ProgramData\\Anaconda3\\lib\\site-packages\\sklearn\\metrics\\classification.py:1437: UndefinedMetricWarning: Precision is ill-defined and being set to 0.0 due to no predicted samples.\n",
      "  'precision', 'predicted', average, warn_for)\n"
     ]
    },
    {
     "name": "stdout",
     "output_type": "stream",
     "text": [
      " 0, 1, 0\n"
     ]
    },
    {
     "name": "stderr",
     "output_type": "stream",
     "text": [
      "C:\\ProgramData\\Anaconda3\\lib\\site-packages\\sklearn\\metrics\\classification.py:1437: UndefinedMetricWarning: F-score is ill-defined and being set to 0.0 due to no predicted samples.\n",
      "  'precision', 'predicted', average, warn_for)\n",
      "C:\\ProgramData\\Anaconda3\\lib\\site-packages\\sklearn\\metrics\\classification.py:1437: UndefinedMetricWarning: Precision is ill-defined and being set to 0.0 due to no predicted samples.\n",
      "  'precision', 'predicted', average, warn_for)\n"
     ]
    },
    {
     "name": "stdout",
     "output_type": "stream",
     "text": [
      " 0, 1, 1\n",
      " 0, 1, 2\n",
      " 0, 1, 3\n",
      " 0, 1, 4\n",
      " 0, 1, 5\n",
      " 0, 1, 6\n",
      " 0, 1, 7\n",
      " 0, 1, 8\n",
      " 0, 1, 9\n",
      " 0, 1,10\n"
     ]
    },
    {
     "name": "stderr",
     "output_type": "stream",
     "text": [
      "C:\\ProgramData\\Anaconda3\\lib\\site-packages\\sklearn\\metrics\\classification.py:1437: UndefinedMetricWarning: F-score is ill-defined and being set to 0.0 due to no predicted samples.\n",
      "  'precision', 'predicted', average, warn_for)\n",
      "C:\\ProgramData\\Anaconda3\\lib\\site-packages\\sklearn\\metrics\\classification.py:1437: UndefinedMetricWarning: Precision is ill-defined and being set to 0.0 due to no predicted samples.\n",
      "  'precision', 'predicted', average, warn_for)\n"
     ]
    },
    {
     "name": "stdout",
     "output_type": "stream",
     "text": [
      " 0, 2, 0\n"
     ]
    },
    {
     "name": "stderr",
     "output_type": "stream",
     "text": [
      "C:\\ProgramData\\Anaconda3\\lib\\site-packages\\sklearn\\metrics\\classification.py:1437: UndefinedMetricWarning: F-score is ill-defined and being set to 0.0 due to no predicted samples.\n",
      "  'precision', 'predicted', average, warn_for)\n",
      "C:\\ProgramData\\Anaconda3\\lib\\site-packages\\sklearn\\metrics\\classification.py:1437: UndefinedMetricWarning: Precision is ill-defined and being set to 0.0 due to no predicted samples.\n",
      "  'precision', 'predicted', average, warn_for)\n"
     ]
    },
    {
     "name": "stdout",
     "output_type": "stream",
     "text": [
      " 0, 2, 1\n",
      " 0, 2, 2\n",
      " 0, 2, 3\n",
      " 0, 2, 4\n",
      " 0, 2, 5\n",
      " 0, 2, 6\n",
      " 0, 2, 7\n",
      " 0, 2, 8\n",
      " 0, 2, 9\n",
      " 0, 2,10\n"
     ]
    },
    {
     "name": "stderr",
     "output_type": "stream",
     "text": [
      "C:\\ProgramData\\Anaconda3\\lib\\site-packages\\sklearn\\metrics\\classification.py:1437: UndefinedMetricWarning: F-score is ill-defined and being set to 0.0 due to no predicted samples.\n",
      "  'precision', 'predicted', average, warn_for)\n",
      "C:\\ProgramData\\Anaconda3\\lib\\site-packages\\sklearn\\metrics\\classification.py:1437: UndefinedMetricWarning: Precision is ill-defined and being set to 0.0 due to no predicted samples.\n",
      "  'precision', 'predicted', average, warn_for)\n"
     ]
    },
    {
     "name": "stdout",
     "output_type": "stream",
     "text": [
      " 1, 0, 0\n",
      " 1, 0, 1\n",
      " 1, 0, 2\n",
      " 1, 0, 3\n",
      " 1, 0, 4\n",
      " 1, 0, 5\n",
      " 1, 0, 6\n",
      " 1, 0, 7\n",
      " 1, 0, 8\n",
      " 1, 0, 9\n",
      " 1, 0,10\n"
     ]
    },
    {
     "name": "stderr",
     "output_type": "stream",
     "text": [
      "C:\\ProgramData\\Anaconda3\\lib\\site-packages\\sklearn\\metrics\\classification.py:1437: UndefinedMetricWarning: F-score is ill-defined and being set to 0.0 due to no predicted samples.\n",
      "  'precision', 'predicted', average, warn_for)\n",
      "C:\\ProgramData\\Anaconda3\\lib\\site-packages\\sklearn\\metrics\\classification.py:1437: UndefinedMetricWarning: Precision is ill-defined and being set to 0.0 due to no predicted samples.\n",
      "  'precision', 'predicted', average, warn_for)\n"
     ]
    },
    {
     "name": "stdout",
     "output_type": "stream",
     "text": [
      " 1, 1, 0\n",
      " 1, 1, 1\n",
      " 1, 1, 2\n",
      " 1, 1, 3\n",
      " 1, 1, 4\n",
      " 1, 1, 5\n",
      " 1, 1, 6\n",
      " 1, 1, 7\n",
      " 1, 1, 8\n",
      " 1, 1, 9\n",
      " 1, 1,10\n"
     ]
    },
    {
     "name": "stderr",
     "output_type": "stream",
     "text": [
      "C:\\ProgramData\\Anaconda3\\lib\\site-packages\\sklearn\\metrics\\classification.py:1437: UndefinedMetricWarning: F-score is ill-defined and being set to 0.0 due to no predicted samples.\n",
      "  'precision', 'predicted', average, warn_for)\n",
      "C:\\ProgramData\\Anaconda3\\lib\\site-packages\\sklearn\\metrics\\classification.py:1437: UndefinedMetricWarning: Precision is ill-defined and being set to 0.0 due to no predicted samples.\n",
      "  'precision', 'predicted', average, warn_for)\n"
     ]
    },
    {
     "name": "stdout",
     "output_type": "stream",
     "text": [
      " 1, 2, 0\n",
      " 1, 2, 1\n",
      " 1, 2, 2\n",
      " 1, 2, 3\n",
      " 1, 2, 4\n",
      " 1, 2, 5\n",
      " 1, 2, 6\n",
      " 1, 2, 7\n",
      " 1, 2, 8\n",
      " 1, 2, 9\n",
      " 1, 2,10\n"
     ]
    },
    {
     "name": "stderr",
     "output_type": "stream",
     "text": [
      "C:\\ProgramData\\Anaconda3\\lib\\site-packages\\sklearn\\metrics\\classification.py:1437: UndefinedMetricWarning: F-score is ill-defined and being set to 0.0 due to no predicted samples.\n",
      "  'precision', 'predicted', average, warn_for)\n",
      "C:\\ProgramData\\Anaconda3\\lib\\site-packages\\sklearn\\metrics\\classification.py:1437: UndefinedMetricWarning: Precision is ill-defined and being set to 0.0 due to no predicted samples.\n",
      "  'precision', 'predicted', average, warn_for)\n"
     ]
    },
    {
     "name": "stdout",
     "output_type": "stream",
     "text": [
      " 2, 0, 0\n"
     ]
    },
    {
     "name": "stderr",
     "output_type": "stream",
     "text": [
      "C:\\ProgramData\\Anaconda3\\lib\\site-packages\\sklearn\\metrics\\classification.py:1437: UndefinedMetricWarning: F-score is ill-defined and being set to 0.0 due to no predicted samples.\n",
      "  'precision', 'predicted', average, warn_for)\n",
      "C:\\ProgramData\\Anaconda3\\lib\\site-packages\\sklearn\\metrics\\classification.py:1437: UndefinedMetricWarning: Precision is ill-defined and being set to 0.0 due to no predicted samples.\n",
      "  'precision', 'predicted', average, warn_for)\n"
     ]
    },
    {
     "name": "stdout",
     "output_type": "stream",
     "text": [
      " 2, 0, 1\n",
      " 2, 0, 2\n",
      " 2, 0, 3\n",
      " 2, 0, 4\n",
      " 2, 0, 5\n",
      " 2, 0, 6\n",
      " 2, 0, 7\n",
      " 2, 0, 8\n",
      " 2, 0, 9\n",
      " 2, 0,10\n"
     ]
    },
    {
     "name": "stderr",
     "output_type": "stream",
     "text": [
      "C:\\ProgramData\\Anaconda3\\lib\\site-packages\\sklearn\\metrics\\classification.py:1437: UndefinedMetricWarning: F-score is ill-defined and being set to 0.0 due to no predicted samples.\n",
      "  'precision', 'predicted', average, warn_for)\n",
      "C:\\ProgramData\\Anaconda3\\lib\\site-packages\\sklearn\\metrics\\classification.py:1437: UndefinedMetricWarning: Precision is ill-defined and being set to 0.0 due to no predicted samples.\n",
      "  'precision', 'predicted', average, warn_for)\n"
     ]
    },
    {
     "name": "stdout",
     "output_type": "stream",
     "text": [
      " 2, 1, 0\n"
     ]
    },
    {
     "name": "stderr",
     "output_type": "stream",
     "text": [
      "C:\\ProgramData\\Anaconda3\\lib\\site-packages\\sklearn\\metrics\\classification.py:1437: UndefinedMetricWarning: F-score is ill-defined and being set to 0.0 due to no predicted samples.\n",
      "  'precision', 'predicted', average, warn_for)\n",
      "C:\\ProgramData\\Anaconda3\\lib\\site-packages\\sklearn\\metrics\\classification.py:1437: UndefinedMetricWarning: Precision is ill-defined and being set to 0.0 due to no predicted samples.\n",
      "  'precision', 'predicted', average, warn_for)\n"
     ]
    },
    {
     "name": "stdout",
     "output_type": "stream",
     "text": [
      " 2, 1, 1\n",
      " 2, 1, 2\n",
      " 2, 1, 3\n",
      " 2, 1, 4\n",
      " 2, 1, 5\n",
      " 2, 1, 6\n",
      " 2, 1, 7\n",
      " 2, 1, 8\n",
      " 2, 1, 9\n",
      " 2, 1,10\n"
     ]
    },
    {
     "name": "stderr",
     "output_type": "stream",
     "text": [
      "C:\\ProgramData\\Anaconda3\\lib\\site-packages\\sklearn\\metrics\\classification.py:1437: UndefinedMetricWarning: F-score is ill-defined and being set to 0.0 due to no predicted samples.\n",
      "  'precision', 'predicted', average, warn_for)\n",
      "C:\\ProgramData\\Anaconda3\\lib\\site-packages\\sklearn\\metrics\\classification.py:1437: UndefinedMetricWarning: Precision is ill-defined and being set to 0.0 due to no predicted samples.\n",
      "  'precision', 'predicted', average, warn_for)\n"
     ]
    },
    {
     "name": "stdout",
     "output_type": "stream",
     "text": [
      " 2, 2, 0\n"
     ]
    },
    {
     "name": "stderr",
     "output_type": "stream",
     "text": [
      "C:\\ProgramData\\Anaconda3\\lib\\site-packages\\sklearn\\metrics\\classification.py:1437: UndefinedMetricWarning: F-score is ill-defined and being set to 0.0 due to no predicted samples.\n",
      "  'precision', 'predicted', average, warn_for)\n",
      "C:\\ProgramData\\Anaconda3\\lib\\site-packages\\sklearn\\metrics\\classification.py:1437: UndefinedMetricWarning: Precision is ill-defined and being set to 0.0 due to no predicted samples.\n",
      "  'precision', 'predicted', average, warn_for)\n"
     ]
    },
    {
     "name": "stdout",
     "output_type": "stream",
     "text": [
      " 2, 2, 1\n",
      " 2, 2, 2\n",
      " 2, 2, 3\n",
      " 2, 2, 4\n",
      " 2, 2, 5\n",
      " 2, 2, 6\n",
      " 2, 2, 7\n",
      " 2, 2, 8\n",
      " 2, 2, 9\n",
      " 2, 2,10\n"
     ]
    }
   ],
   "source": [
    "datasets={}\n",
    "#'x_test':x_test_base,\n",
    "datasets['base']={ 'x_train': x_train_base,'y_train':y_train_base,'x_valid':x_valid_base,'y_valid':y_valid_base}\n",
    "#'x_test':x_test_basic_name,\n",
    "datasets['basic_name']={'x_train': x_train_basic_name,'y_train':y_train_basic_name,'x_valid':x_valid_basic_name,'y_valid':y_valid_basic_name}\n",
    "#'x_test':x_test_doc2vec,\n",
    "datasets['doc2vec']={ 'x_train': x_train_doc2vec,'y_train':y_train_doc2vec,'x_valid':x_valid_doc2vec,'y_valid':y_valid_doc2vec}\n",
    "\n",
    "\n",
    "dataset_keys=['base','basic_name','doc2vec']\n",
    "one_hot_cols=['main_category','category','launched_month','deadline_month']\n",
    "drop_cols=['Unnamed: 0']\n",
    "\n",
    "for key in dataset_keys:\n",
    "    datasets[key]=cast_to_nparray(datasets[key], one_hot_cols, drop_cols)\n",
    "\n",
    "\n",
    "x=1\n",
    "num_estimators=[1]\n",
    "for i in range(10):\n",
    "    x*=2\n",
    "    num_estimators+=[x]\n",
    "    \n",
    "print(num_estimators)\n",
    "\n",
    "data = np.full((len(datasets),len(max_depths),len(num_estimators)), 'e').tolist()\n",
    "\n",
    "#####################################################################\n",
    "max_acc_arg=[]\n",
    "max_acc=0\n",
    "max_depths=[1,2,3]\n",
    "for i in range(len(dataset_keys)):        \n",
    "    for j in range(len(max_depths)):\n",
    "        for k in range(len(num_estimators)):\n",
    "            model=AdaBoostClassifier(base_estimator=DecisionTreeClassifier(max_depth=1) ,n_estimators=num_estimators[k], random_state=42)\n",
    "            model.fit(datasets[dataset_keys[i]]['x_train'],datasets[dataset_keys[i]]['y_train'])\n",
    "            res=report_results(model,datasets[dataset_keys[i]]['x_valid'],datasets[dataset_keys[i]]['y_valid'])\n",
    "            if res[0]['acc']>max_acc:\n",
    "                max_acc=res[0]['acc']\n",
    "                max_acc_arg=[i,j,k]\n",
    "                dbfile = open('best_Adaboost', 'wb')\n",
    "                pickle.dump((max_acc,max_acc_arg,model), dbfile)                      \n",
    "                dbfile.close()\n",
    "#             dbfile = open('data_Adaboost', 'wb')\n",
    "#             pickle.dump(res, dbfile)                      \n",
    "#             dbfile.close()\n",
    "            data[i][j][k]=res\n",
    "            print(\"%2d,%2d,%2d\" % (i,j,k))\n",
    "        \n",
    "dbfile = open('data_AdaBoost', 'wb')\n",
    "pickle.dump(data, dbfile)                      \n",
    "dbfile.close()\n",
    "#######################################################################"
   ]
  },
  {
   "cell_type": "code",
   "execution_count": 36,
   "metadata": {
    "ExecuteTime": {
     "end_time": "2019-12-08T16:16:01.476168Z",
     "start_time": "2019-12-08T16:16:01.276683Z"
    }
   },
   "outputs": [
    {
     "data": {
      "image/png": "[encoded data removed]",
      "text/plain": [
       "<Figure size 432x288 with 1 Axes>"
      ]
     },
     "metadata": {
      "needs_background": "light"
     },
     "output_type": "display_data"
    }
   ],
   "source": [
    "labels=[]\n",
    "accuracies=[]\n",
    "for i in range(len(dataset_keys)):        \n",
    "    for j in range(len(max_depths)):\n",
    "        labels.append(dataset_keys[i]+', max_depth:'+str(j+1))\n",
    "        accs=[]\n",
    "        for k in range(len(num_estimators)):\n",
    "            accs.append(data[i][j][k][0]['acc'])\n",
    "        accuracies.append(accs)\n",
    "    \n",
    "# for i in range(len(dataset_keys)):        \n",
    "#     for j in range(len(max_depths)):\n",
    "#         for k in range(len(num_estimators)):\n",
    "#             print(data[i][j][k][0]['acc'])\n",
    "        \n",
    "fig=plt.figure()\n",
    "for i in range(len(accuracies)):\n",
    "    plt.plot(num_estimators,accuracies[i],label=labels[i])\n",
    "plt.legend()\n",
    "plt.title('Adaboost Classification')\n",
    "plt.ylabel('Accuracy')\n",
    "plt.xlabel('# Estimators')\n",
    "#plt.xlim(.639,.641)\n",
    "plt.show()"
   ]
  },
  {
   "cell_type": "code",
   "execution_count": 47,
   "metadata": {
    "ExecuteTime": {
     "end_time": "2019-12-08T16:34:32.451148Z",
     "start_time": "2019-12-08T16:34:32.263598Z"
    }
   },
   "outputs": [
    {
     "name": "stdout",
     "output_type": "stream",
     "text": [
      "9\n"
     ]
    },
    {
     "data": {
      "image/png": "[encoded data removed]",
      "text/plain": [
       "<Figure size 432x288 with 1 Axes>"
      ]
     },
     "metadata": {
      "needs_background": "light"
     },
     "output_type": "display_data"
    }
   ],
   "source": [
    "fig=plt.figure()\n",
    "print(len(accuracies))\n",
    "for i in range(len(accuracies[:8])):\n",
    "    plt.plot(num_estimators,accuracies[i],label=labels[i])\n",
    "plt.legend()\n",
    "plt.title('Adaboost Classification')\n",
    "plt.ylabel('Accuracy')\n",
    "plt.xlabel('# Estimators')\n",
    "plt.ylim(.675,.69)\n",
    "plt.show()"
   ]
  },
  {
   "cell_type": "code",
   "execution_count": 50,
   "metadata": {
    "ExecuteTime": {
     "end_time": "2019-12-08T16:44:28.038414Z",
     "start_time": "2019-12-08T16:44:27.846927Z"
    }
   },
   "outputs": [
    {
     "name": "stdout",
     "output_type": "stream",
     "text": [
      "9\n"
     ]
    },
    {
     "data": {
      "image/png": "[encoded data removed]",
      "text/plain": [
       "<Figure size 432x288 with 1 Axes>"
      ]
     },
     "metadata": {
      "needs_background": "light"
     },
     "output_type": "display_data"
    }
   ],
   "source": [
    "fig=plt.figure()\n",
    "print(len(accuracies))\n",
    "for i in range(len(accuracies)):\n",
    "    plt.plot(num_estimators,accuracies[i],label=labels[i])\n",
    "plt.legend()\n",
    "plt.title('Adaboost Classification')\n",
    "plt.ylabel('Accuracy')\n",
    "plt.xlabel('# Estimators')\n",
    "plt.xlim(0,20)\n",
    "#plt.ylim(0,.5)\n",
    "plt.show()"
   ]
  },
  {
   "cell_type": "code",
   "execution_count": 58,
   "metadata": {
    "ExecuteTime": {
     "end_time": "2019-12-08T19:28:18.449335Z",
     "start_time": "2019-12-08T19:28:18.428391Z"
    }
   },
   "outputs": [],
   "source": [
    "dbfile = open('data_Adaboost', 'rb')\n",
    "data = pickle.load(dbfile)\n",
    "dbfile.close()\n",
    "models=[0,0,0]\n",
    "for i in range(len(dataset_keys)):\n",
    "    best_model=0\n",
    "    best=0\n",
    "    for j in range(len(max_depths)):\n",
    "        for k in range(len(num_estimators)):\n",
    "            if best<data[i][j][k][0]['acc']:\n",
    "                best_model=[i,j,k]\n",
    "    models[i]=best_model"
   ]
  },
  {
   "cell_type": "code",
   "execution_count": 5,
   "metadata": {
    "ExecuteTime": {
     "end_time": "2019-12-08T23:59:19.861495Z",
     "start_time": "2019-12-08T23:59:11.002153Z"
    }
   },
   "outputs": [],
   "source": [
    "one_hot_cols=['main_category','category','launched_month','deadline_month']\n",
    "drop_cols=['Unnamed: 0']\n",
    "\n",
    "def cast_test_to_array(df,one_hot_cols,drop_cols):\n",
    "    return np.array(pd.get_dummies(df,columns=one_hot_cols).drop(columns=drop_cols))\n",
    "\n",
    "x_full_train_base=cast_test_to_array(x_train_base.append(x_valid_base),one_hot_cols,drop_cols)\n",
    "x_full_train_basic=cast_test_to_array(x_train_basic_name.append(x_valid_basic_name),one_hot_cols,drop_cols)\n",
    "x_full_train_doc2vec=cast_test_to_array(x_train_doc2vec.append(x_valid_doc2vec),one_hot_cols,drop_cols)\n",
    "y_full_train=np.array(y_train_base.append(y_valid_base)['success'])\n",
    "\n",
    "y_test=np.array(pd.read_csv(\"./data/preprocess-base-y-test.csv\")['success'])\n",
    "x_test_base=cast_test_to_array(pd.read_csv(\"./data/preprocess-base-x-test.csv\"),one_hot_cols,drop_cols)\n",
    "x_test_basic_name=cast_test_to_array(pd.read_csv(\"./data/preprocess-basic_name-x-test-correct.csv\").rename(columns={\"launched_month_deadline_month_0\": \"launched_month\", \"launched_month_deadline_month_1\": \"deadline_month\"}).drop(columns=['Unnamed: 0.1']),one_hot_cols,drop_cols)\n",
    "x_test_doc2vec=cast_test_to_array(pd.read_csv(\"./data/preprocess-doc2vec-x-test.csv\"),one_hot_cols,drop_cols)\n"
   ]
  },
  {
   "cell_type": "code",
   "execution_count": 6,
   "metadata": {
    "ExecuteTime": {
     "end_time": "2019-12-09T01:17:20.091634Z",
     "start_time": "2019-12-09T00:01:07.370316Z"
    }
   },
   "outputs": [
    {
     "name": "stdout",
     "output_type": "stream",
     "text": [
      "[[{'f1': 0.5645130446660293, 'acc': 0.6812246285520027, 'precision': 0.6313859692006845, 'recall': 0.5104490884837706}, array([False,  True, False, ...,  True,  True, False]), array([0.55664062, 0.26367188, 0.        , 0.00097656, 0.00097656,\n",
      "       0.00292969, 0.00097656, 0.00097656, 0.00097656, 0.00195312,\n",
      "       0.        , 0.00488281, 0.00195312, 0.        , 0.        ,\n",
      "       0.        , 0.00097656, 0.00097656, 0.00097656, 0.00097656,\n",
      "       0.00097656, 0.00097656, 0.00097656, 0.00097656, 0.00097656,\n",
      "       0.00195312, 0.        , 0.00097656, 0.00097656, 0.00292969,\n",
      "       0.00097656, 0.        , 0.        , 0.00097656, 0.00097656,\n",
      "       0.00097656, 0.        , 0.00097656, 0.00097656, 0.00097656,\n",
      "       0.00097656, 0.00097656, 0.00097656, 0.00097656, 0.00097656,\n",
      "       0.00097656, 0.        , 0.00097656, 0.00097656, 0.        ,\n",
      "       0.00097656, 0.00097656, 0.00097656, 0.00292969, 0.00195312,\n",
      "       0.00097656, 0.00097656, 0.00097656, 0.00097656, 0.00097656,\n",
      "       0.00097656, 0.00097656, 0.00097656, 0.00097656, 0.00097656,\n",
      "       0.00097656, 0.00097656, 0.00097656, 0.        , 0.        ,\n",
      "       0.        , 0.00097656, 0.00097656, 0.        , 0.00097656,\n",
      "       0.00097656, 0.00097656, 0.00097656, 0.00097656, 0.00097656,\n",
      "       0.00097656, 0.00097656, 0.        , 0.00097656, 0.00097656,\n",
      "       0.00195312, 0.        , 0.00195312, 0.00097656, 0.00097656,\n",
      "       0.00097656, 0.00097656, 0.00097656, 0.00097656, 0.00390625,\n",
      "       0.        , 0.00097656, 0.00097656, 0.00097656, 0.00097656,\n",
      "       0.00097656, 0.00097656, 0.00097656, 0.00097656, 0.00097656,\n",
      "       0.00097656, 0.00097656, 0.        , 0.00097656, 0.00097656,\n",
      "       0.00097656, 0.00097656, 0.00097656, 0.00097656, 0.00097656,\n",
      "       0.00097656, 0.        , 0.00097656, 0.        , 0.00195312,\n",
      "       0.00097656, 0.00097656, 0.00097656, 0.00097656, 0.00097656,\n",
      "       0.00097656, 0.        , 0.00097656, 0.00292969, 0.        ,\n",
      "       0.00097656, 0.00097656, 0.00097656, 0.00097656, 0.00097656,\n",
      "       0.00097656, 0.00097656, 0.00097656, 0.00097656, 0.00097656,\n",
      "       0.00097656, 0.00097656, 0.00097656, 0.        , 0.00097656,\n",
      "       0.00097656, 0.00097656, 0.00097656, 0.00097656, 0.00097656,\n",
      "       0.00097656, 0.        , 0.00097656, 0.00195312, 0.00097656,\n",
      "       0.00097656, 0.00097656, 0.00097656, 0.00097656, 0.00097656,\n",
      "       0.00097656, 0.00097656, 0.00097656, 0.00292969, 0.00097656,\n",
      "       0.00097656, 0.00097656, 0.00097656, 0.00195312, 0.        ,\n",
      "       0.00097656, 0.        , 0.00097656, 0.00097656, 0.00097656,\n",
      "       0.00097656, 0.00097656, 0.        , 0.        , 0.00097656,\n",
      "       0.        , 0.00097656, 0.00195312, 0.00097656, 0.        ,\n",
      "       0.        , 0.        , 0.00195312, 0.00097656, 0.        ,\n",
      "       0.00097656, 0.00097656, 0.        , 0.        , 0.        ,\n",
      "       0.        , 0.        , 0.        , 0.        , 0.        ])], [{'f1': 0.5767144097222222, 'acc': 0.6879636850840882, 'precision': 0.6394754256151116, 'recall': 0.5251716812410454}, array([False,  True, False, ...,  True,  True, False]), array([0.50488281, 0.25      , 0.03222656, 0.00683594, 0.01269531,\n",
      "       0.        , 0.00097656, 0.00097656, 0.00292969, 0.        ,\n",
      "       0.00097656, 0.00097656, 0.00195312, 0.        , 0.00683594,\n",
      "       0.00195312, 0.        , 0.        , 0.00097656, 0.00097656,\n",
      "       0.00097656, 0.00097656, 0.00097656, 0.00097656, 0.00097656,\n",
      "       0.00097656, 0.00097656, 0.00097656, 0.00195312, 0.00097656,\n",
      "       0.00097656, 0.00097656, 0.00292969, 0.00097656, 0.        ,\n",
      "       0.        , 0.00097656, 0.00097656, 0.00097656, 0.00097656,\n",
      "       0.00097656, 0.00097656, 0.00097656, 0.00195312, 0.00097656,\n",
      "       0.00097656, 0.00097656, 0.00097656, 0.00097656, 0.00097656,\n",
      "       0.00097656, 0.00097656, 0.00097656, 0.00097656, 0.00097656,\n",
      "       0.00097656, 0.00195312, 0.00097656, 0.00097656, 0.00097656,\n",
      "       0.00097656, 0.00097656, 0.00097656, 0.00097656, 0.00097656,\n",
      "       0.00097656, 0.        , 0.00097656, 0.00097656, 0.        ,\n",
      "       0.00097656, 0.        , 0.        , 0.00097656, 0.00097656,\n",
      "       0.        , 0.00097656, 0.00097656, 0.00097656, 0.00097656,\n",
      "       0.00097656, 0.00097656, 0.00097656, 0.00097656, 0.00097656,\n",
      "       0.00097656, 0.00097656, 0.00097656, 0.00195312, 0.        ,\n",
      "       0.00097656, 0.00097656, 0.00195312, 0.00097656, 0.00097656,\n",
      "       0.00097656, 0.00097656, 0.00488281, 0.        , 0.00097656,\n",
      "       0.00097656, 0.00097656, 0.00097656, 0.00097656, 0.00097656,\n",
      "       0.00097656, 0.00097656, 0.00097656, 0.00097656, 0.        ,\n",
      "       0.        , 0.00097656, 0.00097656, 0.00097656, 0.00097656,\n",
      "       0.00195312, 0.00097656, 0.00097656, 0.00097656, 0.        ,\n",
      "       0.00097656, 0.        , 0.00292969, 0.00097656, 0.00097656,\n",
      "       0.00097656, 0.00097656, 0.00097656, 0.00097656, 0.        ,\n",
      "       0.00097656, 0.00390625, 0.00097656, 0.00097656, 0.00195312,\n",
      "       0.00097656, 0.00097656, 0.        , 0.00097656, 0.00097656,\n",
      "       0.00097656, 0.00097656, 0.00097656, 0.00097656, 0.00097656,\n",
      "       0.00195312, 0.        , 0.00097656, 0.00097656, 0.00097656,\n",
      "       0.00097656, 0.00195312, 0.00097656, 0.00097656, 0.        ,\n",
      "       0.00097656, 0.00097656, 0.00097656, 0.00097656, 0.00097656,\n",
      "       0.00097656, 0.00097656, 0.00097656, 0.00097656, 0.00097656,\n",
      "       0.00097656, 0.00292969, 0.00097656, 0.00195312, 0.00097656,\n",
      "       0.00097656, 0.00292969, 0.        , 0.00097656, 0.        ,\n",
      "       0.00097656, 0.00097656, 0.00097656, 0.00097656, 0.00195312,\n",
      "       0.        , 0.00097656, 0.00097656, 0.        , 0.00097656,\n",
      "       0.00195312, 0.00097656, 0.        , 0.        , 0.        ,\n",
      "       0.00097656, 0.00097656, 0.00097656, 0.00097656, 0.00097656,\n",
      "       0.        , 0.        , 0.        , 0.        , 0.        ,\n",
      "       0.        , 0.        , 0.        ])], [{'f1': 0.5640487885644903, 'acc': 0.6840842282080509, 'precision': 0.638869788085266, 'recall': 0.5049157650313719}, array([False,  True, False, ...,  True, False, False]), array([0.22851562, 0.09277344, 0.03417969, 0.02929688, 0.03515625,\n",
      "       0.02539062, 0.02832031, 0.02636719, 0.02441406, 0.02539062,\n",
      "       0.03515625, 0.02929688, 0.01269531, 0.02539062, 0.02246094,\n",
      "       0.02734375, 0.01953125, 0.01757812, 0.02734375, 0.02148438,\n",
      "       0.02734375, 0.02148438, 0.        , 0.00097656, 0.00097656,\n",
      "       0.00195312, 0.        , 0.00097656, 0.00097656, 0.00195312,\n",
      "       0.        , 0.00390625, 0.00097656, 0.        , 0.        ,\n",
      "       0.        , 0.00097656, 0.00097656, 0.00097656, 0.00097656,\n",
      "       0.00097656, 0.00097656, 0.00097656, 0.00097656, 0.00097656,\n",
      "       0.00195312, 0.        , 0.00097656, 0.00097656, 0.00195312,\n",
      "       0.00097656, 0.        , 0.        , 0.00097656, 0.00097656,\n",
      "       0.00097656, 0.        , 0.00097656, 0.00097656, 0.00097656,\n",
      "       0.00195312, 0.00097656, 0.00097656, 0.00097656, 0.00097656,\n",
      "       0.00097656, 0.        , 0.00097656, 0.00097656, 0.        ,\n",
      "       0.        , 0.00097656, 0.00097656, 0.00195312, 0.00097656,\n",
      "       0.00097656, 0.00097656, 0.00097656, 0.00097656, 0.00097656,\n",
      "       0.00097656, 0.00097656, 0.00097656, 0.        , 0.00097656,\n",
      "       0.00097656, 0.        , 0.00097656, 0.        , 0.00097656,\n",
      "       0.        , 0.00097656, 0.        , 0.        , 0.00097656,\n",
      "       0.00097656, 0.00097656, 0.00097656, 0.00097656, 0.00097656,\n",
      "       0.00097656, 0.        , 0.00097656, 0.00097656, 0.00097656,\n",
      "       0.00195312, 0.        , 0.00097656, 0.00097656, 0.00097656,\n",
      "       0.00097656, 0.00097656, 0.00097656, 0.00097656, 0.00292969,\n",
      "       0.        , 0.00097656, 0.00097656, 0.00097656, 0.00097656,\n",
      "       0.00097656, 0.00097656, 0.00097656, 0.00097656, 0.00097656,\n",
      "       0.00097656, 0.        , 0.        , 0.00097656, 0.00097656,\n",
      "       0.00097656, 0.00097656, 0.00097656, 0.00097656, 0.00097656,\n",
      "       0.00097656, 0.        , 0.00097656, 0.        , 0.00195312,\n",
      "       0.00097656, 0.00097656, 0.00097656, 0.00097656, 0.00097656,\n",
      "       0.00097656, 0.        , 0.00097656, 0.00195312, 0.        ,\n",
      "       0.00195312, 0.00097656, 0.00097656, 0.00097656, 0.        ,\n",
      "       0.        , 0.00097656, 0.00097656, 0.00097656, 0.00097656,\n",
      "       0.00097656, 0.00097656, 0.00097656, 0.        , 0.00097656,\n",
      "       0.00097656, 0.00097656, 0.00097656, 0.00195312, 0.00097656,\n",
      "       0.00097656, 0.        , 0.00097656, 0.00195312, 0.00097656,\n",
      "       0.00097656, 0.00097656, 0.00097656, 0.00097656, 0.00097656,\n",
      "       0.00097656, 0.00097656, 0.00097656, 0.00195312, 0.00097656,\n",
      "       0.00097656, 0.00097656, 0.        , 0.00097656, 0.        ,\n",
      "       0.00097656, 0.        , 0.00097656, 0.00097656, 0.00097656,\n",
      "       0.00097656, 0.00097656, 0.        , 0.        , 0.00097656,\n",
      "       0.        , 0.00097656, 0.00195312, 0.00097656, 0.        ,\n",
      "       0.        , 0.        , 0.00097656, 0.00097656, 0.        ,\n",
      "       0.00097656, 0.00097656, 0.        , 0.        , 0.        ,\n",
      "       0.        , 0.        , 0.        , 0.        , 0.        ])]]\n"
     ]
    }
   ],
   "source": [
    "x=1\n",
    "num_estimators=[1]\n",
    "for i in range(10):\n",
    "    x*=2\n",
    "    num_estimators+=[x]\n",
    "    \n",
    "res=[]\n",
    "trains=[x_full_train_base,x_full_train_basic,x_full_train_doc2vec]\n",
    "tests=[x_test_base,x_test_basic_name,x_test_doc2vec]\n",
    "for i in range(len(trains)):\n",
    "    model=AdaBoostClassifier(base_estimator=DecisionTreeClassifier(max_depth=1) ,n_estimators=num_estimators[10], random_state=42)\n",
    "    model.fit(trains[i],y_full_train)\n",
    "    res.append(report_results(model,tests[i],y_test))\n",
    "print(res)"
   ]
  },
  {
   "cell_type": "code",
   "execution_count": 10,
   "metadata": {
    "ExecuteTime": {
     "end_time": "2019-12-09T01:45:56.205023Z",
     "start_time": "2019-12-09T01:45:56.200028Z"
    }
   },
   "outputs": [
    {
     "name": "stdout",
     "output_type": "stream",
     "text": [
      "base:  0.6812246285520027\n",
      "basic_name:  0.6879636850840882\n",
      "doc2vec:  0.6840842282080509\n"
     ]
    }
   ],
   "source": [
    "print('base: ',res[0][0]['acc'])\n",
    "print('basic_name: ',res[1][0]['acc'])\n",
    "print('doc2vec: ',res[2][0]['acc'])"
   ]
  },
  {
   "cell_type": "code",
   "execution_count": 70,
   "metadata": {
    "ExecuteTime": {
     "end_time": "2019-12-08T21:06:26.588133Z",
     "start_time": "2019-12-08T20:53:24.728384Z"
    }
   },
   "outputs": [
    {
     "ename": "MemoryError",
     "evalue": "",
     "output_type": "error",
     "traceback": [
      "\u001b[1;31m---------------------------------------------------------------------------\u001b[0m",
      "\u001b[1;31mMemoryError\u001b[0m                               Traceback (most recent call last)",
      "\u001b[1;32m<ipython-input-70-589a42b2458c>\u001b[0m in \u001b[0;36m<module>\u001b[1;34m\u001b[0m\n\u001b[0;32m      1\u001b[0m \u001b[0mmodel_base\u001b[0m\u001b[1;33m=\u001b[0m\u001b[0mAdaBoostClassifier\u001b[0m\u001b[1;33m(\u001b[0m\u001b[0mbase_estimator\u001b[0m\u001b[1;33m=\u001b[0m\u001b[0mDecisionTreeClassifier\u001b[0m\u001b[1;33m(\u001b[0m\u001b[0mmax_depth\u001b[0m\u001b[1;33m=\u001b[0m\u001b[0mmodels\u001b[0m\u001b[1;33m[\u001b[0m\u001b[1;36m0\u001b[0m\u001b[1;33m]\u001b[0m\u001b[1;33m[\u001b[0m\u001b[1;36m1\u001b[0m\u001b[1;33m]\u001b[0m\u001b[1;33m)\u001b[0m \u001b[1;33m,\u001b[0m\u001b[0mn_estimators\u001b[0m\u001b[1;33m=\u001b[0m\u001b[0mnum_estimators\u001b[0m\u001b[1;33m[\u001b[0m\u001b[0mmodels\u001b[0m\u001b[1;33m[\u001b[0m\u001b[1;36m0\u001b[0m\u001b[1;33m]\u001b[0m\u001b[1;33m[\u001b[0m\u001b[1;36m2\u001b[0m\u001b[1;33m]\u001b[0m\u001b[1;33m]\u001b[0m\u001b[1;33m,\u001b[0m \u001b[0mrandom_state\u001b[0m\u001b[1;33m=\u001b[0m\u001b[1;36m42\u001b[0m\u001b[1;33m)\u001b[0m\u001b[1;33m\u001b[0m\u001b[1;33m\u001b[0m\u001b[0m\n\u001b[1;32m----> 2\u001b[1;33m \u001b[0mmodel_base\u001b[0m\u001b[1;33m.\u001b[0m\u001b[0mfit\u001b[0m\u001b[1;33m(\u001b[0m\u001b[0mx_full_train_base\u001b[0m\u001b[1;33m,\u001b[0m\u001b[0my_full_train\u001b[0m\u001b[1;33m)\u001b[0m\u001b[1;33m\u001b[0m\u001b[1;33m\u001b[0m\u001b[0m\n\u001b[0m\u001b[0;32m      3\u001b[0m \u001b[0mprint\u001b[0m\u001b[1;33m(\u001b[0m\u001b[0mi\u001b[0m\u001b[1;33m)\u001b[0m\u001b[1;33m\u001b[0m\u001b[1;33m\u001b[0m\u001b[0m\n\u001b[0;32m      4\u001b[0m \u001b[0mmodel_basic\u001b[0m\u001b[1;33m=\u001b[0m\u001b[0mAdaBoostClassifier\u001b[0m\u001b[1;33m(\u001b[0m\u001b[0mbase_estimator\u001b[0m\u001b[1;33m=\u001b[0m\u001b[0mDecisionTreeClassifier\u001b[0m\u001b[1;33m(\u001b[0m\u001b[0mmax_depth\u001b[0m\u001b[1;33m=\u001b[0m\u001b[0mmodels\u001b[0m\u001b[1;33m[\u001b[0m\u001b[1;36m1\u001b[0m\u001b[1;33m]\u001b[0m\u001b[1;33m[\u001b[0m\u001b[1;36m1\u001b[0m\u001b[1;33m]\u001b[0m\u001b[1;33m)\u001b[0m \u001b[1;33m,\u001b[0m\u001b[0mn_estimators\u001b[0m\u001b[1;33m=\u001b[0m\u001b[0mnum_estimators\u001b[0m\u001b[1;33m[\u001b[0m\u001b[0mmodels\u001b[0m\u001b[1;33m[\u001b[0m\u001b[1;36m1\u001b[0m\u001b[1;33m]\u001b[0m\u001b[1;33m[\u001b[0m\u001b[1;36m2\u001b[0m\u001b[1;33m]\u001b[0m\u001b[1;33m]\u001b[0m\u001b[1;33m,\u001b[0m \u001b[0mrandom_state\u001b[0m\u001b[1;33m=\u001b[0m\u001b[1;36m42\u001b[0m\u001b[1;33m)\u001b[0m\u001b[1;33m\u001b[0m\u001b[1;33m\u001b[0m\u001b[0m\n\u001b[0;32m      5\u001b[0m \u001b[0mmodel_basic\u001b[0m\u001b[1;33m.\u001b[0m\u001b[0mfit\u001b[0m\u001b[1;33m(\u001b[0m\u001b[0mx_full_train_basic\u001b[0m\u001b[1;33m,\u001b[0m\u001b[0my_full_train\u001b[0m\u001b[1;33m)\u001b[0m\u001b[1;33m\u001b[0m\u001b[1;33m\u001b[0m\u001b[0m\n",
      "\u001b[1;32mC:\\ProgramData\\Anaconda3\\lib\\site-packages\\sklearn\\ensemble\\weight_boosting.py\u001b[0m in \u001b[0;36mfit\u001b[1;34m(self, X, y, sample_weight)\u001b[0m\n\u001b[0;32m    425\u001b[0m \u001b[1;33m\u001b[0m\u001b[0m\n\u001b[0;32m    426\u001b[0m         \u001b[1;31m# Fit\u001b[0m\u001b[1;33m\u001b[0m\u001b[1;33m\u001b[0m\u001b[1;33m\u001b[0m\u001b[0m\n\u001b[1;32m--> 427\u001b[1;33m         \u001b[1;32mreturn\u001b[0m \u001b[0msuper\u001b[0m\u001b[1;33m(\u001b[0m\u001b[1;33m)\u001b[0m\u001b[1;33m.\u001b[0m\u001b[0mfit\u001b[0m\u001b[1;33m(\u001b[0m\u001b[0mX\u001b[0m\u001b[1;33m,\u001b[0m \u001b[0my\u001b[0m\u001b[1;33m,\u001b[0m \u001b[0msample_weight\u001b[0m\u001b[1;33m)\u001b[0m\u001b[1;33m\u001b[0m\u001b[1;33m\u001b[0m\u001b[0m\n\u001b[0m\u001b[0;32m    428\u001b[0m \u001b[1;33m\u001b[0m\u001b[0m\n\u001b[0;32m    429\u001b[0m     \u001b[1;32mdef\u001b[0m \u001b[0m_validate_estimator\u001b[0m\u001b[1;33m(\u001b[0m\u001b[0mself\u001b[0m\u001b[1;33m)\u001b[0m\u001b[1;33m:\u001b[0m\u001b[1;33m\u001b[0m\u001b[1;33m\u001b[0m\u001b[0m\n",
      "\u001b[1;32mC:\\ProgramData\\Anaconda3\\lib\\site-packages\\sklearn\\ensemble\\weight_boosting.py\u001b[0m in \u001b[0;36mfit\u001b[1;34m(self, X, y, sample_weight)\u001b[0m\n\u001b[0;32m    148\u001b[0m                 \u001b[0mX\u001b[0m\u001b[1;33m,\u001b[0m \u001b[0my\u001b[0m\u001b[1;33m,\u001b[0m\u001b[1;33m\u001b[0m\u001b[1;33m\u001b[0m\u001b[0m\n\u001b[0;32m    149\u001b[0m                 \u001b[0msample_weight\u001b[0m\u001b[1;33m,\u001b[0m\u001b[1;33m\u001b[0m\u001b[1;33m\u001b[0m\u001b[0m\n\u001b[1;32m--> 150\u001b[1;33m                 random_state)\n\u001b[0m\u001b[0;32m    151\u001b[0m \u001b[1;33m\u001b[0m\u001b[0m\n\u001b[0;32m    152\u001b[0m             \u001b[1;31m# Early termination\u001b[0m\u001b[1;33m\u001b[0m\u001b[1;33m\u001b[0m\u001b[1;33m\u001b[0m\u001b[0m\n",
      "\u001b[1;32mC:\\ProgramData\\Anaconda3\\lib\\site-packages\\sklearn\\ensemble\\weight_boosting.py\u001b[0m in \u001b[0;36m_boost\u001b[1;34m(self, iboost, X, y, sample_weight, random_state)\u001b[0m\n\u001b[0;32m    484\u001b[0m         \"\"\"\n\u001b[0;32m    485\u001b[0m         \u001b[1;32mif\u001b[0m \u001b[0mself\u001b[0m\u001b[1;33m.\u001b[0m\u001b[0malgorithm\u001b[0m \u001b[1;33m==\u001b[0m \u001b[1;34m'SAMME.R'\u001b[0m\u001b[1;33m:\u001b[0m\u001b[1;33m\u001b[0m\u001b[1;33m\u001b[0m\u001b[0m\n\u001b[1;32m--> 486\u001b[1;33m             \u001b[1;32mreturn\u001b[0m \u001b[0mself\u001b[0m\u001b[1;33m.\u001b[0m\u001b[0m_boost_real\u001b[0m\u001b[1;33m(\u001b[0m\u001b[0miboost\u001b[0m\u001b[1;33m,\u001b[0m \u001b[0mX\u001b[0m\u001b[1;33m,\u001b[0m \u001b[0my\u001b[0m\u001b[1;33m,\u001b[0m \u001b[0msample_weight\u001b[0m\u001b[1;33m,\u001b[0m \u001b[0mrandom_state\u001b[0m\u001b[1;33m)\u001b[0m\u001b[1;33m\u001b[0m\u001b[1;33m\u001b[0m\u001b[0m\n\u001b[0m\u001b[0;32m    487\u001b[0m \u001b[1;33m\u001b[0m\u001b[0m\n\u001b[0;32m    488\u001b[0m         \u001b[1;32melse\u001b[0m\u001b[1;33m:\u001b[0m  \u001b[1;31m# elif self.algorithm == \"SAMME\":\u001b[0m\u001b[1;33m\u001b[0m\u001b[1;33m\u001b[0m\u001b[0m\n",
      "\u001b[1;32mC:\\ProgramData\\Anaconda3\\lib\\site-packages\\sklearn\\ensemble\\weight_boosting.py\u001b[0m in \u001b[0;36m_boost_real\u001b[1;34m(self, iboost, X, y, sample_weight, random_state)\u001b[0m\n\u001b[0;32m    494\u001b[0m         \u001b[0mestimator\u001b[0m \u001b[1;33m=\u001b[0m \u001b[0mself\u001b[0m\u001b[1;33m.\u001b[0m\u001b[0m_make_estimator\u001b[0m\u001b[1;33m(\u001b[0m\u001b[0mrandom_state\u001b[0m\u001b[1;33m=\u001b[0m\u001b[0mrandom_state\u001b[0m\u001b[1;33m)\u001b[0m\u001b[1;33m\u001b[0m\u001b[1;33m\u001b[0m\u001b[0m\n\u001b[0;32m    495\u001b[0m \u001b[1;33m\u001b[0m\u001b[0m\n\u001b[1;32m--> 496\u001b[1;33m         \u001b[0mestimator\u001b[0m\u001b[1;33m.\u001b[0m\u001b[0mfit\u001b[0m\u001b[1;33m(\u001b[0m\u001b[0mX\u001b[0m\u001b[1;33m,\u001b[0m \u001b[0my\u001b[0m\u001b[1;33m,\u001b[0m \u001b[0msample_weight\u001b[0m\u001b[1;33m=\u001b[0m\u001b[0msample_weight\u001b[0m\u001b[1;33m)\u001b[0m\u001b[1;33m\u001b[0m\u001b[1;33m\u001b[0m\u001b[0m\n\u001b[0m\u001b[0;32m    497\u001b[0m \u001b[1;33m\u001b[0m\u001b[0m\n\u001b[0;32m    498\u001b[0m         \u001b[0my_predict_proba\u001b[0m \u001b[1;33m=\u001b[0m \u001b[0mestimator\u001b[0m\u001b[1;33m.\u001b[0m\u001b[0mpredict_proba\u001b[0m\u001b[1;33m(\u001b[0m\u001b[0mX\u001b[0m\u001b[1;33m)\u001b[0m\u001b[1;33m\u001b[0m\u001b[1;33m\u001b[0m\u001b[0m\n",
      "\u001b[1;32mC:\\ProgramData\\Anaconda3\\lib\\site-packages\\sklearn\\tree\\tree.py\u001b[0m in \u001b[0;36mfit\u001b[1;34m(self, X, y, sample_weight, check_input, X_idx_sorted)\u001b[0m\n\u001b[0;32m    814\u001b[0m             \u001b[0msample_weight\u001b[0m\u001b[1;33m=\u001b[0m\u001b[0msample_weight\u001b[0m\u001b[1;33m,\u001b[0m\u001b[1;33m\u001b[0m\u001b[1;33m\u001b[0m\u001b[0m\n\u001b[0;32m    815\u001b[0m             \u001b[0mcheck_input\u001b[0m\u001b[1;33m=\u001b[0m\u001b[0mcheck_input\u001b[0m\u001b[1;33m,\u001b[0m\u001b[1;33m\u001b[0m\u001b[1;33m\u001b[0m\u001b[0m\n\u001b[1;32m--> 816\u001b[1;33m             X_idx_sorted=X_idx_sorted)\n\u001b[0m\u001b[0;32m    817\u001b[0m         \u001b[1;32mreturn\u001b[0m \u001b[0mself\u001b[0m\u001b[1;33m\u001b[0m\u001b[1;33m\u001b[0m\u001b[0m\n\u001b[0;32m    818\u001b[0m \u001b[1;33m\u001b[0m\u001b[0m\n",
      "\u001b[1;32mC:\\ProgramData\\Anaconda3\\lib\\site-packages\\sklearn\\tree\\tree.py\u001b[0m in \u001b[0;36mfit\u001b[1;34m(self, X, y, sample_weight, check_input, X_idx_sorted)\u001b[0m\n\u001b[0;32m    128\u001b[0m         \u001b[0mrandom_state\u001b[0m \u001b[1;33m=\u001b[0m \u001b[0mcheck_random_state\u001b[0m\u001b[1;33m(\u001b[0m\u001b[0mself\u001b[0m\u001b[1;33m.\u001b[0m\u001b[0mrandom_state\u001b[0m\u001b[1;33m)\u001b[0m\u001b[1;33m\u001b[0m\u001b[1;33m\u001b[0m\u001b[0m\n\u001b[0;32m    129\u001b[0m         \u001b[1;32mif\u001b[0m \u001b[0mcheck_input\u001b[0m\u001b[1;33m:\u001b[0m\u001b[1;33m\u001b[0m\u001b[1;33m\u001b[0m\u001b[0m\n\u001b[1;32m--> 130\u001b[1;33m             \u001b[0mX\u001b[0m \u001b[1;33m=\u001b[0m \u001b[0mcheck_array\u001b[0m\u001b[1;33m(\u001b[0m\u001b[0mX\u001b[0m\u001b[1;33m,\u001b[0m \u001b[0mdtype\u001b[0m\u001b[1;33m=\u001b[0m\u001b[0mDTYPE\u001b[0m\u001b[1;33m,\u001b[0m \u001b[0maccept_sparse\u001b[0m\u001b[1;33m=\u001b[0m\u001b[1;34m\"csc\"\u001b[0m\u001b[1;33m)\u001b[0m\u001b[1;33m\u001b[0m\u001b[1;33m\u001b[0m\u001b[0m\n\u001b[0m\u001b[0;32m    131\u001b[0m             \u001b[0my\u001b[0m \u001b[1;33m=\u001b[0m \u001b[0mcheck_array\u001b[0m\u001b[1;33m(\u001b[0m\u001b[0my\u001b[0m\u001b[1;33m,\u001b[0m \u001b[0mensure_2d\u001b[0m\u001b[1;33m=\u001b[0m\u001b[1;32mFalse\u001b[0m\u001b[1;33m,\u001b[0m \u001b[0mdtype\u001b[0m\u001b[1;33m=\u001b[0m\u001b[1;32mNone\u001b[0m\u001b[1;33m)\u001b[0m\u001b[1;33m\u001b[0m\u001b[1;33m\u001b[0m\u001b[0m\n\u001b[0;32m    132\u001b[0m             \u001b[1;32mif\u001b[0m \u001b[0missparse\u001b[0m\u001b[1;33m(\u001b[0m\u001b[0mX\u001b[0m\u001b[1;33m)\u001b[0m\u001b[1;33m:\u001b[0m\u001b[1;33m\u001b[0m\u001b[1;33m\u001b[0m\u001b[0m\n",
      "\u001b[1;32mC:\\ProgramData\\Anaconda3\\lib\\site-packages\\sklearn\\utils\\validation.py\u001b[0m in \u001b[0;36mcheck_array\u001b[1;34m(array, accept_sparse, accept_large_sparse, dtype, order, copy, force_all_finite, ensure_2d, allow_nd, ensure_min_samples, ensure_min_features, warn_on_dtype, estimator)\u001b[0m\n\u001b[0;32m    494\u001b[0m             \u001b[1;32mtry\u001b[0m\u001b[1;33m:\u001b[0m\u001b[1;33m\u001b[0m\u001b[1;33m\u001b[0m\u001b[0m\n\u001b[0;32m    495\u001b[0m                 \u001b[0mwarnings\u001b[0m\u001b[1;33m.\u001b[0m\u001b[0msimplefilter\u001b[0m\u001b[1;33m(\u001b[0m\u001b[1;34m'error'\u001b[0m\u001b[1;33m,\u001b[0m \u001b[0mComplexWarning\u001b[0m\u001b[1;33m)\u001b[0m\u001b[1;33m\u001b[0m\u001b[1;33m\u001b[0m\u001b[0m\n\u001b[1;32m--> 496\u001b[1;33m                 \u001b[0marray\u001b[0m \u001b[1;33m=\u001b[0m \u001b[0mnp\u001b[0m\u001b[1;33m.\u001b[0m\u001b[0masarray\u001b[0m\u001b[1;33m(\u001b[0m\u001b[0marray\u001b[0m\u001b[1;33m,\u001b[0m \u001b[0mdtype\u001b[0m\u001b[1;33m=\u001b[0m\u001b[0mdtype\u001b[0m\u001b[1;33m,\u001b[0m \u001b[0morder\u001b[0m\u001b[1;33m=\u001b[0m\u001b[0morder\u001b[0m\u001b[1;33m)\u001b[0m\u001b[1;33m\u001b[0m\u001b[1;33m\u001b[0m\u001b[0m\n\u001b[0m\u001b[0;32m    497\u001b[0m             \u001b[1;32mexcept\u001b[0m \u001b[0mComplexWarning\u001b[0m\u001b[1;33m:\u001b[0m\u001b[1;33m\u001b[0m\u001b[1;33m\u001b[0m\u001b[0m\n\u001b[0;32m    498\u001b[0m                 raise ValueError(\"Complex data not supported\\n\"\n",
      "\u001b[1;32mC:\\ProgramData\\Anaconda3\\lib\\site-packages\\numpy\\core\\numeric.py\u001b[0m in \u001b[0;36masarray\u001b[1;34m(a, dtype, order)\u001b[0m\n\u001b[0;32m    536\u001b[0m \u001b[1;33m\u001b[0m\u001b[0m\n\u001b[0;32m    537\u001b[0m     \"\"\"\n\u001b[1;32m--> 538\u001b[1;33m     \u001b[1;32mreturn\u001b[0m \u001b[0marray\u001b[0m\u001b[1;33m(\u001b[0m\u001b[0ma\u001b[0m\u001b[1;33m,\u001b[0m \u001b[0mdtype\u001b[0m\u001b[1;33m,\u001b[0m \u001b[0mcopy\u001b[0m\u001b[1;33m=\u001b[0m\u001b[1;32mFalse\u001b[0m\u001b[1;33m,\u001b[0m \u001b[0morder\u001b[0m\u001b[1;33m=\u001b[0m\u001b[0morder\u001b[0m\u001b[1;33m)\u001b[0m\u001b[1;33m\u001b[0m\u001b[1;33m\u001b[0m\u001b[0m\n\u001b[0m\u001b[0;32m    539\u001b[0m \u001b[1;33m\u001b[0m\u001b[0m\n\u001b[0;32m    540\u001b[0m \u001b[1;33m\u001b[0m\u001b[0m\n",
      "\u001b[1;31mMemoryError\u001b[0m: "
     ]
    }
   ],
   "source": [
    "\n",
    "model_base=AdaBoostClassifier(base_estimator=DecisionTreeClassifier(max_depth=models[0][1]) ,n_estimators=num_estimators[models[0][2]], random_state=42)\n",
    "model_base.fit(x_full_train_base,y_full_train)\n",
    "print(i)\n",
    "model_basic=AdaBoostClassifier(base_estimator=DecisionTreeClassifier(max_depth=models[1][1]) ,n_estimators=num_estimators[models[1][2]], random_state=42)\n",
    "model_basic.fit(x_full_train_basic,y_full_train)\n",
    "print(i)\n",
    "model_doc2vec=AdaBoostClassifier(base_estimator=DecisionTreeClassifier(max_depth=models[2][1]) ,n_estimators=num_estimators[models[2][2]], random_state=42)\n",
    "model_doc2vec.fit(x_full_train_doc2vec,y_full_train)\n",
    "print(i)"
   ]
  },
  {
   "cell_type": "code",
   "execution_count": 57,
   "metadata": {
    "ExecuteTime": {
     "end_time": "2019-12-08T19:22:44.917968Z",
     "start_time": "2019-12-08T19:22:44.190918Z"
    }
   },
   "outputs": [
    {
     "ename": "ValueError",
     "evalue": "Number of features of the model must match the input. Model n_features is 203 and input n_features is 200 ",
     "output_type": "error",
     "traceback": [
      "\u001b[1;31m---------------------------------------------------------------------------\u001b[0m",
      "\u001b[1;31mValueError\u001b[0m                                Traceback (most recent call last)",
      "\u001b[1;32m<ipython-input-57-8cb98f5266e8>\u001b[0m in \u001b[0;36m<module>\u001b[1;34m\u001b[0m\n\u001b[0;32m     14\u001b[0m \u001b[0mdbfile\u001b[0m\u001b[1;33m.\u001b[0m\u001b[0mclose\u001b[0m\u001b[1;33m(\u001b[0m\u001b[1;33m)\u001b[0m\u001b[1;33m\u001b[0m\u001b[1;33m\u001b[0m\u001b[0m\n\u001b[0;32m     15\u001b[0m \u001b[1;33m\u001b[0m\u001b[0m\n\u001b[1;32m---> 16\u001b[1;33m \u001b[0mres_base\u001b[0m\u001b[1;33m=\u001b[0m\u001b[0mreport_results\u001b[0m\u001b[1;33m(\u001b[0m\u001b[0mmodel\u001b[0m\u001b[1;33m,\u001b[0m\u001b[0mx_test_base\u001b[0m\u001b[1;33m,\u001b[0m\u001b[0my_test\u001b[0m\u001b[1;33m)\u001b[0m\u001b[1;33m\u001b[0m\u001b[1;33m\u001b[0m\u001b[0m\n\u001b[0m\u001b[0;32m     17\u001b[0m \u001b[0mres_basic\u001b[0m\u001b[1;33m=\u001b[0m\u001b[0mreport_results\u001b[0m\u001b[1;33m(\u001b[0m\u001b[0mmodel\u001b[0m\u001b[1;33m,\u001b[0m\u001b[0mx_test_basic_name\u001b[0m\u001b[1;33m,\u001b[0m\u001b[0my_test\u001b[0m\u001b[1;33m)\u001b[0m\u001b[1;33m\u001b[0m\u001b[1;33m\u001b[0m\u001b[0m\n\u001b[0;32m     18\u001b[0m \u001b[0mres_doc2vec\u001b[0m\u001b[1;33m=\u001b[0m\u001b[0mreport_results\u001b[0m\u001b[1;33m(\u001b[0m\u001b[0mmodel\u001b[0m\u001b[1;33m,\u001b[0m\u001b[0mx_test_doc2vec\u001b[0m\u001b[1;33m,\u001b[0m\u001b[0my_test\u001b[0m\u001b[1;33m)\u001b[0m\u001b[1;33m\u001b[0m\u001b[1;33m\u001b[0m\u001b[0m\n",
      "\u001b[1;32m<ipython-input-14-42b967ec4d1a>\u001b[0m in \u001b[0;36mreport_results\u001b[1;34m(model, X, y)\u001b[0m\n\u001b[0;32m      1\u001b[0m \u001b[1;32mdef\u001b[0m \u001b[0mreport_results\u001b[0m\u001b[1;33m(\u001b[0m\u001b[0mmodel\u001b[0m\u001b[1;33m,\u001b[0m \u001b[0mX\u001b[0m\u001b[1;33m,\u001b[0m \u001b[0my\u001b[0m\u001b[1;33m)\u001b[0m\u001b[1;33m:\u001b[0m\u001b[1;33m\u001b[0m\u001b[1;33m\u001b[0m\u001b[0m\n\u001b[1;32m----> 2\u001b[1;33m     \u001b[0mpred\u001b[0m \u001b[1;33m=\u001b[0m \u001b[0mmodel\u001b[0m\u001b[1;33m.\u001b[0m\u001b[0mpredict\u001b[0m\u001b[1;33m(\u001b[0m\u001b[0mX\u001b[0m\u001b[1;33m)\u001b[0m\u001b[1;33m\u001b[0m\u001b[1;33m\u001b[0m\u001b[0m\n\u001b[0m\u001b[0;32m      3\u001b[0m     \u001b[0macc\u001b[0m \u001b[1;33m=\u001b[0m \u001b[0maccuracy_score\u001b[0m\u001b[1;33m(\u001b[0m\u001b[0my\u001b[0m\u001b[1;33m,\u001b[0m \u001b[0mpred\u001b[0m\u001b[1;33m)\u001b[0m\u001b[1;33m\u001b[0m\u001b[1;33m\u001b[0m\u001b[0m\n\u001b[0;32m      4\u001b[0m     \u001b[0mf1\u001b[0m \u001b[1;33m=\u001b[0m \u001b[0mf1_score\u001b[0m\u001b[1;33m(\u001b[0m\u001b[0my\u001b[0m\u001b[1;33m,\u001b[0m \u001b[0mpred\u001b[0m\u001b[1;33m)\u001b[0m\u001b[1;33m\u001b[0m\u001b[1;33m\u001b[0m\u001b[0m\n\u001b[0;32m      5\u001b[0m     \u001b[0mprec\u001b[0m \u001b[1;33m=\u001b[0m \u001b[0mprecision_score\u001b[0m\u001b[1;33m(\u001b[0m\u001b[0my\u001b[0m\u001b[1;33m,\u001b[0m \u001b[0mpred\u001b[0m\u001b[1;33m)\u001b[0m\u001b[1;33m\u001b[0m\u001b[1;33m\u001b[0m\u001b[0m\n",
      "\u001b[1;32mC:\\ProgramData\\Anaconda3\\lib\\site-packages\\sklearn\\ensemble\\weight_boosting.py\u001b[0m in \u001b[0;36mpredict\u001b[1;34m(self, X)\u001b[0m\n\u001b[0;32m    615\u001b[0m         \u001b[0mX\u001b[0m \u001b[1;33m=\u001b[0m \u001b[0mself\u001b[0m\u001b[1;33m.\u001b[0m\u001b[0m_validate_data\u001b[0m\u001b[1;33m(\u001b[0m\u001b[0mX\u001b[0m\u001b[1;33m)\u001b[0m\u001b[1;33m\u001b[0m\u001b[1;33m\u001b[0m\u001b[0m\n\u001b[0;32m    616\u001b[0m \u001b[1;33m\u001b[0m\u001b[0m\n\u001b[1;32m--> 617\u001b[1;33m         \u001b[0mpred\u001b[0m \u001b[1;33m=\u001b[0m \u001b[0mself\u001b[0m\u001b[1;33m.\u001b[0m\u001b[0mdecision_function\u001b[0m\u001b[1;33m(\u001b[0m\u001b[0mX\u001b[0m\u001b[1;33m)\u001b[0m\u001b[1;33m\u001b[0m\u001b[1;33m\u001b[0m\u001b[0m\n\u001b[0m\u001b[0;32m    618\u001b[0m \u001b[1;33m\u001b[0m\u001b[0m\n\u001b[0;32m    619\u001b[0m         \u001b[1;32mif\u001b[0m \u001b[0mself\u001b[0m\u001b[1;33m.\u001b[0m\u001b[0mn_classes_\u001b[0m \u001b[1;33m==\u001b[0m \u001b[1;36m2\u001b[0m\u001b[1;33m:\u001b[0m\u001b[1;33m\u001b[0m\u001b[1;33m\u001b[0m\u001b[0m\n",
      "\u001b[1;32mC:\\ProgramData\\Anaconda3\\lib\\site-packages\\sklearn\\ensemble\\weight_boosting.py\u001b[0m in \u001b[0;36mdecision_function\u001b[1;34m(self, X)\u001b[0m\n\u001b[0;32m    685\u001b[0m             \u001b[1;31m# The weights are all 1. for SAMME.R\u001b[0m\u001b[1;33m\u001b[0m\u001b[1;33m\u001b[0m\u001b[1;33m\u001b[0m\u001b[0m\n\u001b[0;32m    686\u001b[0m             pred = sum(_samme_proba(estimator, n_classes, X)\n\u001b[1;32m--> 687\u001b[1;33m                        for estimator in self.estimators_)\n\u001b[0m\u001b[0;32m    688\u001b[0m         \u001b[1;32melse\u001b[0m\u001b[1;33m:\u001b[0m  \u001b[1;31m# self.algorithm == \"SAMME\"\u001b[0m\u001b[1;33m\u001b[0m\u001b[1;33m\u001b[0m\u001b[0m\n\u001b[0;32m    689\u001b[0m             pred = sum((estimator.predict(X) == classes).T * w\n",
      "\u001b[1;32mC:\\ProgramData\\Anaconda3\\lib\\site-packages\\sklearn\\ensemble\\weight_boosting.py\u001b[0m in \u001b[0;36m<genexpr>\u001b[1;34m(.0)\u001b[0m\n\u001b[0;32m    685\u001b[0m             \u001b[1;31m# The weights are all 1. for SAMME.R\u001b[0m\u001b[1;33m\u001b[0m\u001b[1;33m\u001b[0m\u001b[1;33m\u001b[0m\u001b[0m\n\u001b[0;32m    686\u001b[0m             pred = sum(_samme_proba(estimator, n_classes, X)\n\u001b[1;32m--> 687\u001b[1;33m                        for estimator in self.estimators_)\n\u001b[0m\u001b[0;32m    688\u001b[0m         \u001b[1;32melse\u001b[0m\u001b[1;33m:\u001b[0m  \u001b[1;31m# self.algorithm == \"SAMME\"\u001b[0m\u001b[1;33m\u001b[0m\u001b[1;33m\u001b[0m\u001b[0m\n\u001b[0;32m    689\u001b[0m             pred = sum((estimator.predict(X) == classes).T * w\n",
      "\u001b[1;32mC:\\ProgramData\\Anaconda3\\lib\\site-packages\\sklearn\\ensemble\\weight_boosting.py\u001b[0m in \u001b[0;36m_samme_proba\u001b[1;34m(estimator, n_classes, X)\u001b[0m\n\u001b[0;32m    278\u001b[0m \u001b[1;33m\u001b[0m\u001b[0m\n\u001b[0;32m    279\u001b[0m     \"\"\"\n\u001b[1;32m--> 280\u001b[1;33m     \u001b[0mproba\u001b[0m \u001b[1;33m=\u001b[0m \u001b[0mestimator\u001b[0m\u001b[1;33m.\u001b[0m\u001b[0mpredict_proba\u001b[0m\u001b[1;33m(\u001b[0m\u001b[0mX\u001b[0m\u001b[1;33m)\u001b[0m\u001b[1;33m\u001b[0m\u001b[1;33m\u001b[0m\u001b[0m\n\u001b[0m\u001b[0;32m    281\u001b[0m \u001b[1;33m\u001b[0m\u001b[0m\n\u001b[0;32m    282\u001b[0m     \u001b[1;31m# Displace zero probabilities so the log is defined.\u001b[0m\u001b[1;33m\u001b[0m\u001b[1;33m\u001b[0m\u001b[1;33m\u001b[0m\u001b[0m\n",
      "\u001b[1;32mC:\\ProgramData\\Anaconda3\\lib\\site-packages\\sklearn\\tree\\tree.py\u001b[0m in \u001b[0;36mpredict_proba\u001b[1;34m(self, X, check_input)\u001b[0m\n\u001b[0;32m    845\u001b[0m         \"\"\"\n\u001b[0;32m    846\u001b[0m         \u001b[0mcheck_is_fitted\u001b[0m\u001b[1;33m(\u001b[0m\u001b[0mself\u001b[0m\u001b[1;33m,\u001b[0m \u001b[1;34m'tree_'\u001b[0m\u001b[1;33m)\u001b[0m\u001b[1;33m\u001b[0m\u001b[1;33m\u001b[0m\u001b[0m\n\u001b[1;32m--> 847\u001b[1;33m         \u001b[0mX\u001b[0m \u001b[1;33m=\u001b[0m \u001b[0mself\u001b[0m\u001b[1;33m.\u001b[0m\u001b[0m_validate_X_predict\u001b[0m\u001b[1;33m(\u001b[0m\u001b[0mX\u001b[0m\u001b[1;33m,\u001b[0m \u001b[0mcheck_input\u001b[0m\u001b[1;33m)\u001b[0m\u001b[1;33m\u001b[0m\u001b[1;33m\u001b[0m\u001b[0m\n\u001b[0m\u001b[0;32m    848\u001b[0m         \u001b[0mproba\u001b[0m \u001b[1;33m=\u001b[0m \u001b[0mself\u001b[0m\u001b[1;33m.\u001b[0m\u001b[0mtree_\u001b[0m\u001b[1;33m.\u001b[0m\u001b[0mpredict\u001b[0m\u001b[1;33m(\u001b[0m\u001b[0mX\u001b[0m\u001b[1;33m)\u001b[0m\u001b[1;33m\u001b[0m\u001b[1;33m\u001b[0m\u001b[0m\n\u001b[0;32m    849\u001b[0m \u001b[1;33m\u001b[0m\u001b[0m\n",
      "\u001b[1;32mC:\\ProgramData\\Anaconda3\\lib\\site-packages\\sklearn\\tree\\tree.py\u001b[0m in \u001b[0;36m_validate_X_predict\u001b[1;34m(self, X, check_input)\u001b[0m\n\u001b[0;32m    400\u001b[0m                              \u001b[1;34m\"match the input. Model n_features is %s and \"\u001b[0m\u001b[1;33m\u001b[0m\u001b[1;33m\u001b[0m\u001b[0m\n\u001b[0;32m    401\u001b[0m                              \u001b[1;34m\"input n_features is %s \"\u001b[0m\u001b[1;33m\u001b[0m\u001b[1;33m\u001b[0m\u001b[0m\n\u001b[1;32m--> 402\u001b[1;33m                              % (self.n_features_, n_features))\n\u001b[0m\u001b[0;32m    403\u001b[0m \u001b[1;33m\u001b[0m\u001b[0m\n\u001b[0;32m    404\u001b[0m         \u001b[1;32mreturn\u001b[0m \u001b[0mX\u001b[0m\u001b[1;33m\u001b[0m\u001b[1;33m\u001b[0m\u001b[0m\n",
      "\u001b[1;31mValueError\u001b[0m: Number of features of the model must match the input. Model n_features is 203 and input n_features is 200 "
     ]
    }
   ],
   "source": [
    "res_base=report_results(model_base,x_test_base,y_test)\n",
    "res_basic=report_results(model_basic,x_test_basic_name,y_test)\n",
    "res_doc2vec=report_results(model_doc2vec,x_test_doc2vec,y_test)\n",
    "print(res_base[0]['acc'])\n",
    "print(res_basic[0]['acc'])\n",
    "print(res_doc2vec[0]['acc'])"
   ]
  },
  {
   "cell_type": "code",
   "execution_count": null,
   "metadata": {},
   "outputs": [],
   "source": [
    "\n",
    "def comparePredictions(predictions,modelNames):\n",
    "    l={}\n",
    "    n_pred=len(predictions[0])\n",
    "    for i,n1 in zip(predictions,modelNames):\n",
    "        for j,n2 in zip(predictions,modelNames):\n",
    "            c=0\n",
    "            for k in range(n_pred):\n",
    "                if predictions[i]!=predictions[j]:\n",
    "                    c+=1\n",
    "            l[n1+' '+n2]=c/l\n",
    "    return l"
   ]
  }
 ],
 "metadata": {
  "kernelspec": {
   "display_name": "Python 3",
   "language": "python",
   "name": "python3"
  },
  "language_info": {
   "codemirror_mode": {
    "name": "ipython",
    "version": 3
   },
   "file_extension": ".py",
   "mimetype": "text/x-python",
   "name": "python",
   "nbconvert_exporter": "python",
   "pygments_lexer": "ipython3",
   "version": "3.7.4"
  }
 },
 "nbformat": 4,
 "nbformat_minor": 2
}
