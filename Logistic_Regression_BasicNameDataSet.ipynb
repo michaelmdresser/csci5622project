{
 "cells": [
  {
   "cell_type": "code",
   "execution_count": 1,
   "metadata": {},
   "outputs": [],
   "source": [
    "# Load Necessary Libraries\n",
    "import numpy as np\n",
    "import pandas as pd\n",
    "import matplotlib.pyplot as plt\n",
    "import datetime\n",
    "import os\n",
    "\n",
    "from sklearn.linear_model import LogisticRegression\n",
    "from sklearn.pipeline import make_pipeline\n",
    "from sklearn.model_selection import GridSearchCV\n",
    "from sklearn.model_selection import KFold\n",
    "from sklearn.metrics import accuracy_score\n",
    "\n",
    "\n",
    "#Set Working Directory\n",
    "os.chdir(r\"/Users/glinn/Documents/CSCI5622-machine-learning/project/csci5622project\")"
   ]
  },
  {
   "cell_type": "code",
   "execution_count": 2,
   "metadata": {},
   "outputs": [],
   "source": [
    "def TurnDfXIntoArray(df):\n",
    "    df=df.drop(columns=[\"Unnamed: 0\"])\n",
    "    array = np.array(df)\n",
    "    return array\n",
    "def TurnDfYIntoVector(df):\n",
    "    array = np.array(df,dtype=int)\n",
    "    return array\n",
    "def TuneParameters(Model,C,X_train,Y_train,X_valid,Y_valid):\n",
    "    accuracy = []\n",
    "    accuracy_train = []\n",
    "    best_accuracy = 0.0\n",
    "    for i in range(len(C)):\n",
    "        Model.set_params(C=C[i])\n",
    "        Model.fit(X_train,Y_train)\n",
    "        yhat = Model.predict(X_valid)\n",
    "        accuracy.append(accuracy_score(Y_valid,yhat))\n",
    "        yhat_train = Model.predict(X_train)\n",
    "        accuracy_train.append(accuracy_score(Y_train,yhat_train))\n",
    "        if accuracy[i]>best_accuracy:\n",
    "            best_accuracy = accuracy[i]\n",
    "            Coef = Model.coef_\n",
    "    accuracy = np.array(accuracy)\n",
    "    accuracy_train = np.array(accuracy_train)\n",
    "    return accuracy, accuracy_train, Coef\n",
    "def OneHotEncodeCategory(df,CategoryHeader):\n",
    "    df = pd.get_dummies(df,columns = CategoryHeader)\n",
    "    array = TurnDfXIntoArray(df)\n",
    "    return array\n",
    "\n",
    "def PlotBiasVariance(accuracy_train,accuracy_valid,C):\n",
    "    plt.plot(C,1-accuracy_train,'b')\n",
    "    plt.plot(C,1-accuracy_valid,'r')\n",
    "    plt.title(\"Error vs. Complexity (Regularization parameter, C)\")\n",
    "    plt.xlabel(\"Model Complexity ~ C\")\n",
    "    plt.ylabel(\"1-accuracy\")\n",
    "    plt.legend([\"Training 1-Accuracy\",\"Validation 1-Accuracy\"])\n",
    "\n",
    "def ReportBest(accuracy_train,accuracy_valid,C,Coef):\n",
    "    print(f\"The best validation accuracy is {np.amax(accuracy_valid)}.\")\n",
    "    print(f\"The best training accuracy is {np.amax(accuracy_train)}.\")\n",
    "    print(f\"The best value for C is {C[np.argmax(accuracy_valid)]}\")\n",
    "    print(f\"And, the best model coefficients are {Coef}.\")\n",
    "\n",
    "def ReportFull(accuracy_train,accuracy_valid,C,Coef):\n",
    "    print(f\"The validation accuracy is {accuracy_valid}.\")\n",
    "    print(f\"The training accuracy is {accuracy_train}.\")\n",
    "    print(f\"The best value for C is {C[np.argmax(accuracy_valid)]}\")\n",
    "    print(f\"And, the best model coefficients are {Coef}.\")"
   ]
  },
  {
   "cell_type": "markdown",
   "metadata": {},
   "source": [
    "Import the Data"
   ]
  },
  {
   "cell_type": "code",
   "execution_count": 3,
   "metadata": {},
   "outputs": [
    {
     "name": "stdout",
     "output_type": "stream",
     "text": [
      "   Unnamed: 0  Unnamed: 0.1  main_category  category  duration  usd_goal_real  \\\n",
      "0           0             0             12        19 -0.316333      -0.036515   \n",
      "1           1             2              8       136  2.025723      -0.031740   \n",
      "2           2             4              7        44 -0.272265      -0.032463   \n",
      "3           3             5              5        31 -0.400095      -0.034948   \n",
      "4           4             6              6        93 -0.326225       0.008140   \n",
      "\n",
      "   launched_month_deadline_month_0  launched_month_deadline_month_1  \\\n",
      "0                              4.0                              5.0   \n",
      "1                             10.0                              0.0   \n",
      "2                              7.0                              8.0   \n",
      "3                              2.0                              3.0   \n",
      "4                              0.0                              2.0   \n",
      "\n",
      "   num_chars  num_unusual_words  num_weird_chars  \n",
      "0         56                  1                2  \n",
      "1         30                  2                0  \n",
      "2         60                  4                0  \n",
      "3         34                  3                1  \n",
      "4         49                  2                6  \n"
     ]
    }
   ],
   "source": [
    "#training data\n",
    "X_train_df = pd.read_csv(r\"data/preprocess-basic_name-x-train-correct.csv\")\n",
    "Y_train_df = pd.read_csv(r\"data/preprocess-basic_name-y-train-correct.csv\")\n",
    "#validation data\n",
    "X_valid_df = pd.read_csv(r\"data/preprocess-basic_name-x-valid-correct.csv\")\n",
    "Y_valid_df = pd.read_csv(r\"data/preprocess-basic_name-y-valid-correct.csv\")\n",
    "\n",
    "X_train = TurnDfXIntoArray(X_train_df)\n",
    "X_valid = TurnDfXIntoArray(X_valid_df)\n",
    "Y_train = TurnDfYIntoVector(Y_train_df)\n",
    "Y_valid = TurnDfYIntoVector(Y_valid_df)\n",
    "\n",
    "print(X_train_df.head(5))"
   ]
  },
  {
   "cell_type": "markdown",
   "metadata": {},
   "source": [
    "Choose a random seed for repeatability"
   ]
  },
  {
   "cell_type": "code",
   "execution_count": 4,
   "metadata": {},
   "outputs": [],
   "source": [
    "np.random.seed(6591)"
   ]
  },
  {
   "cell_type": "markdown",
   "metadata": {},
   "source": [
    "# Build the Model"
   ]
  },
  {
   "cell_type": "code",
   "execution_count": 5,
   "metadata": {},
   "outputs": [],
   "source": [
    "# Define pipeline\n",
    "pipeline_LogReg = LogisticRegression(penalty='l1',n_jobs=-1,max_iter=200)"
   ]
  },
  {
   "cell_type": "markdown",
   "metadata": {},
   "source": [
    "# Test the Model"
   ]
  },
  {
   "cell_type": "code",
   "execution_count": 6,
   "metadata": {},
   "outputs": [
    {
     "name": "stderr",
     "output_type": "stream",
     "text": [
      "/Users/glinn/anaconda3/lib/python3.6/site-packages/sklearn/linear_model/logistic.py:432: FutureWarning: Default solver will be changed to 'lbfgs' in 0.22. Specify a solver to silence this warning.\n",
      "  FutureWarning)\n",
      "/Users/glinn/anaconda3/lib/python3.6/site-packages/sklearn/utils/validation.py:724: DataConversionWarning: A column-vector y was passed when a 1d array was expected. Please change the shape of y to (n_samples, ), for example using ravel().\n",
      "  y = column_or_1d(y, warn=True)\n",
      "/Users/glinn/anaconda3/lib/python3.6/site-packages/sklearn/linear_model/logistic.py:1544: UserWarning: 'n_jobs' > 1 does not have any effect when 'solver' is set to 'liblinear'. Got 'n_jobs' = 8.\n",
      "  \" = {}.\".format(effective_n_jobs(self.n_jobs)))\n",
      "/Users/glinn/anaconda3/lib/python3.6/site-packages/sklearn/linear_model/logistic.py:432: FutureWarning: Default solver will be changed to 'lbfgs' in 0.22. Specify a solver to silence this warning.\n",
      "  FutureWarning)\n",
      "/Users/glinn/anaconda3/lib/python3.6/site-packages/sklearn/utils/validation.py:724: DataConversionWarning: A column-vector y was passed when a 1d array was expected. Please change the shape of y to (n_samples, ), for example using ravel().\n",
      "  y = column_or_1d(y, warn=True)\n",
      "/Users/glinn/anaconda3/lib/python3.6/site-packages/sklearn/linear_model/logistic.py:1544: UserWarning: 'n_jobs' > 1 does not have any effect when 'solver' is set to 'liblinear'. Got 'n_jobs' = 8.\n",
      "  \" = {}.\".format(effective_n_jobs(self.n_jobs)))\n",
      "/Users/glinn/anaconda3/lib/python3.6/site-packages/sklearn/linear_model/logistic.py:432: FutureWarning: Default solver will be changed to 'lbfgs' in 0.22. Specify a solver to silence this warning.\n",
      "  FutureWarning)\n",
      "/Users/glinn/anaconda3/lib/python3.6/site-packages/sklearn/utils/validation.py:724: DataConversionWarning: A column-vector y was passed when a 1d array was expected. Please change the shape of y to (n_samples, ), for example using ravel().\n",
      "  y = column_or_1d(y, warn=True)\n",
      "/Users/glinn/anaconda3/lib/python3.6/site-packages/sklearn/linear_model/logistic.py:1544: UserWarning: 'n_jobs' > 1 does not have any effect when 'solver' is set to 'liblinear'. Got 'n_jobs' = 8.\n",
      "  \" = {}.\".format(effective_n_jobs(self.n_jobs)))\n",
      "/Users/glinn/anaconda3/lib/python3.6/site-packages/sklearn/linear_model/logistic.py:432: FutureWarning: Default solver will be changed to 'lbfgs' in 0.22. Specify a solver to silence this warning.\n",
      "  FutureWarning)\n",
      "/Users/glinn/anaconda3/lib/python3.6/site-packages/sklearn/utils/validation.py:724: DataConversionWarning: A column-vector y was passed when a 1d array was expected. Please change the shape of y to (n_samples, ), for example using ravel().\n",
      "  y = column_or_1d(y, warn=True)\n",
      "/Users/glinn/anaconda3/lib/python3.6/site-packages/sklearn/linear_model/logistic.py:1544: UserWarning: 'n_jobs' > 1 does not have any effect when 'solver' is set to 'liblinear'. Got 'n_jobs' = 8.\n",
      "  \" = {}.\".format(effective_n_jobs(self.n_jobs)))\n",
      "/Users/glinn/anaconda3/lib/python3.6/site-packages/sklearn/linear_model/logistic.py:432: FutureWarning: Default solver will be changed to 'lbfgs' in 0.22. Specify a solver to silence this warning.\n",
      "  FutureWarning)\n",
      "/Users/glinn/anaconda3/lib/python3.6/site-packages/sklearn/utils/validation.py:724: DataConversionWarning: A column-vector y was passed when a 1d array was expected. Please change the shape of y to (n_samples, ), for example using ravel().\n",
      "  y = column_or_1d(y, warn=True)\n",
      "/Users/glinn/anaconda3/lib/python3.6/site-packages/sklearn/linear_model/logistic.py:1544: UserWarning: 'n_jobs' > 1 does not have any effect when 'solver' is set to 'liblinear'. Got 'n_jobs' = 8.\n",
      "  \" = {}.\".format(effective_n_jobs(self.n_jobs)))\n"
     ]
    },
    {
     "name": "stdout",
     "output_type": "stream",
     "text": [
      "The validation accuracy is [0.61746218 0.61830431 0.61962766 0.61875545 0.61929682].\n",
      "The training accuracy is [0.61487222 0.61767271 0.61786874 0.61739666 0.61779673].\n",
      "The best value for C is 10.0\n",
      "And, the best model coefficients are [[-1.80068463e-08 -1.76147148e-02  2.28669258e-03 -2.08107652e-01\n",
      "  -1.83866446e+01 -9.81787055e-03  4.52631400e-03  1.20913113e-02\n",
      "  -1.22873137e-03  5.86037510e-02]].\n"
     ]
    }
   ],
   "source": [
    "C=[0.01,1.0,10.0,100.0,1000.0]\n",
    "Accuracy, Accuracy_train, Coef = TuneParameters(pipeline_LogReg,C,X_train,Y_train,X_valid,Y_valid)\n",
    "ReportFull(Accuracy_train,Accuracy,C,Coef)"
   ]
  },
  {
   "cell_type": "code",
   "execution_count": 7,
   "metadata": {},
   "outputs": [
    {
     "data": {
      "image/png": "[encoded data removed]",
      "text/plain": [
       "<Figure size 432x288 with 1 Axes>"
      ]
     },
     "metadata": {
      "needs_background": "light"
     },
     "output_type": "display_data"
    }
   ],
   "source": [
    "PlotBiasVariance(Accuracy_train,Accuracy,C)\n",
    "plt.savefig('Figures/LogReg/BasicNamesDataSet/BiasVarianceCoarseTunedC.png')"
   ]
  },
  {
   "cell_type": "code",
   "execution_count": 8,
   "metadata": {},
   "outputs": [
    {
     "name": "stderr",
     "output_type": "stream",
     "text": [
      "/Users/glinn/anaconda3/lib/python3.6/site-packages/sklearn/linear_model/logistic.py:432: FutureWarning: Default solver will be changed to 'lbfgs' in 0.22. Specify a solver to silence this warning.\n",
      "  FutureWarning)\n",
      "/Users/glinn/anaconda3/lib/python3.6/site-packages/sklearn/utils/validation.py:724: DataConversionWarning: A column-vector y was passed when a 1d array was expected. Please change the shape of y to (n_samples, ), for example using ravel().\n",
      "  y = column_or_1d(y, warn=True)\n",
      "/Users/glinn/anaconda3/lib/python3.6/site-packages/sklearn/linear_model/logistic.py:1544: UserWarning: 'n_jobs' > 1 does not have any effect when 'solver' is set to 'liblinear'. Got 'n_jobs' = 8.\n",
      "  \" = {}.\".format(effective_n_jobs(self.n_jobs)))\n",
      "/Users/glinn/anaconda3/lib/python3.6/site-packages/sklearn/linear_model/logistic.py:432: FutureWarning: Default solver will be changed to 'lbfgs' in 0.22. Specify a solver to silence this warning.\n",
      "  FutureWarning)\n",
      "/Users/glinn/anaconda3/lib/python3.6/site-packages/sklearn/utils/validation.py:724: DataConversionWarning: A column-vector y was passed when a 1d array was expected. Please change the shape of y to (n_samples, ), for example using ravel().\n",
      "  y = column_or_1d(y, warn=True)\n",
      "/Users/glinn/anaconda3/lib/python3.6/site-packages/sklearn/linear_model/logistic.py:1544: UserWarning: 'n_jobs' > 1 does not have any effect when 'solver' is set to 'liblinear'. Got 'n_jobs' = 8.\n",
      "  \" = {}.\".format(effective_n_jobs(self.n_jobs)))\n",
      "/Users/glinn/anaconda3/lib/python3.6/site-packages/sklearn/linear_model/logistic.py:432: FutureWarning: Default solver will be changed to 'lbfgs' in 0.22. Specify a solver to silence this warning.\n",
      "  FutureWarning)\n",
      "/Users/glinn/anaconda3/lib/python3.6/site-packages/sklearn/utils/validation.py:724: DataConversionWarning: A column-vector y was passed when a 1d array was expected. Please change the shape of y to (n_samples, ), for example using ravel().\n",
      "  y = column_or_1d(y, warn=True)\n",
      "/Users/glinn/anaconda3/lib/python3.6/site-packages/sklearn/linear_model/logistic.py:1544: UserWarning: 'n_jobs' > 1 does not have any effect when 'solver' is set to 'liblinear'. Got 'n_jobs' = 8.\n",
      "  \" = {}.\".format(effective_n_jobs(self.n_jobs)))\n",
      "/Users/glinn/anaconda3/lib/python3.6/site-packages/sklearn/linear_model/logistic.py:432: FutureWarning: Default solver will be changed to 'lbfgs' in 0.22. Specify a solver to silence this warning.\n",
      "  FutureWarning)\n",
      "/Users/glinn/anaconda3/lib/python3.6/site-packages/sklearn/utils/validation.py:724: DataConversionWarning: A column-vector y was passed when a 1d array was expected. Please change the shape of y to (n_samples, ), for example using ravel().\n",
      "  y = column_or_1d(y, warn=True)\n",
      "/Users/glinn/anaconda3/lib/python3.6/site-packages/sklearn/linear_model/logistic.py:1544: UserWarning: 'n_jobs' > 1 does not have any effect when 'solver' is set to 'liblinear'. Got 'n_jobs' = 8.\n",
      "  \" = {}.\".format(effective_n_jobs(self.n_jobs)))\n",
      "/Users/glinn/anaconda3/lib/python3.6/site-packages/sklearn/linear_model/logistic.py:432: FutureWarning: Default solver will be changed to 'lbfgs' in 0.22. Specify a solver to silence this warning.\n",
      "  FutureWarning)\n",
      "/Users/glinn/anaconda3/lib/python3.6/site-packages/sklearn/utils/validation.py:724: DataConversionWarning: A column-vector y was passed when a 1d array was expected. Please change the shape of y to (n_samples, ), for example using ravel().\n",
      "  y = column_or_1d(y, warn=True)\n",
      "/Users/glinn/anaconda3/lib/python3.6/site-packages/sklearn/linear_model/logistic.py:1544: UserWarning: 'n_jobs' > 1 does not have any effect when 'solver' is set to 'liblinear'. Got 'n_jobs' = 8.\n",
      "  \" = {}.\".format(effective_n_jobs(self.n_jobs)))\n",
      "/Users/glinn/anaconda3/lib/python3.6/site-packages/sklearn/linear_model/logistic.py:432: FutureWarning: Default solver will be changed to 'lbfgs' in 0.22. Specify a solver to silence this warning.\n",
      "  FutureWarning)\n",
      "/Users/glinn/anaconda3/lib/python3.6/site-packages/sklearn/utils/validation.py:724: DataConversionWarning: A column-vector y was passed when a 1d array was expected. Please change the shape of y to (n_samples, ), for example using ravel().\n",
      "  y = column_or_1d(y, warn=True)\n",
      "/Users/glinn/anaconda3/lib/python3.6/site-packages/sklearn/linear_model/logistic.py:1544: UserWarning: 'n_jobs' > 1 does not have any effect when 'solver' is set to 'liblinear'. Got 'n_jobs' = 8.\n",
      "  \" = {}.\".format(effective_n_jobs(self.n_jobs)))\n",
      "/Users/glinn/anaconda3/lib/python3.6/site-packages/sklearn/linear_model/logistic.py:432: FutureWarning: Default solver will be changed to 'lbfgs' in 0.22. Specify a solver to silence this warning.\n",
      "  FutureWarning)\n",
      "/Users/glinn/anaconda3/lib/python3.6/site-packages/sklearn/utils/validation.py:724: DataConversionWarning: A column-vector y was passed when a 1d array was expected. Please change the shape of y to (n_samples, ), for example using ravel().\n",
      "  y = column_or_1d(y, warn=True)\n",
      "/Users/glinn/anaconda3/lib/python3.6/site-packages/sklearn/linear_model/logistic.py:1544: UserWarning: 'n_jobs' > 1 does not have any effect when 'solver' is set to 'liblinear'. Got 'n_jobs' = 8.\n",
      "  \" = {}.\".format(effective_n_jobs(self.n_jobs)))\n",
      "/Users/glinn/anaconda3/lib/python3.6/site-packages/sklearn/linear_model/logistic.py:432: FutureWarning: Default solver will be changed to 'lbfgs' in 0.22. Specify a solver to silence this warning.\n",
      "  FutureWarning)\n",
      "/Users/glinn/anaconda3/lib/python3.6/site-packages/sklearn/utils/validation.py:724: DataConversionWarning: A column-vector y was passed when a 1d array was expected. Please change the shape of y to (n_samples, ), for example using ravel().\n",
      "  y = column_or_1d(y, warn=True)\n",
      "/Users/glinn/anaconda3/lib/python3.6/site-packages/sklearn/linear_model/logistic.py:1544: UserWarning: 'n_jobs' > 1 does not have any effect when 'solver' is set to 'liblinear'. Got 'n_jobs' = 8.\n",
      "  \" = {}.\".format(effective_n_jobs(self.n_jobs)))\n",
      "/Users/glinn/anaconda3/lib/python3.6/site-packages/sklearn/linear_model/logistic.py:432: FutureWarning: Default solver will be changed to 'lbfgs' in 0.22. Specify a solver to silence this warning.\n",
      "  FutureWarning)\n",
      "/Users/glinn/anaconda3/lib/python3.6/site-packages/sklearn/utils/validation.py:724: DataConversionWarning: A column-vector y was passed when a 1d array was expected. Please change the shape of y to (n_samples, ), for example using ravel().\n",
      "  y = column_or_1d(y, warn=True)\n",
      "/Users/glinn/anaconda3/lib/python3.6/site-packages/sklearn/linear_model/logistic.py:1544: UserWarning: 'n_jobs' > 1 does not have any effect when 'solver' is set to 'liblinear'. Got 'n_jobs' = 8.\n",
      "  \" = {}.\".format(effective_n_jobs(self.n_jobs)))\n",
      "/Users/glinn/anaconda3/lib/python3.6/site-packages/sklearn/linear_model/logistic.py:432: FutureWarning: Default solver will be changed to 'lbfgs' in 0.22. Specify a solver to silence this warning.\n",
      "  FutureWarning)\n",
      "/Users/glinn/anaconda3/lib/python3.6/site-packages/sklearn/utils/validation.py:724: DataConversionWarning: A column-vector y was passed when a 1d array was expected. Please change the shape of y to (n_samples, ), for example using ravel().\n",
      "  y = column_or_1d(y, warn=True)\n",
      "/Users/glinn/anaconda3/lib/python3.6/site-packages/sklearn/linear_model/logistic.py:1544: UserWarning: 'n_jobs' > 1 does not have any effect when 'solver' is set to 'liblinear'. Got 'n_jobs' = 8.\n",
      "  \" = {}.\".format(effective_n_jobs(self.n_jobs)))\n"
     ]
    },
    {
     "name": "stdout",
     "output_type": "stream",
     "text": [
      "The best validation accuracy is 0.6196276579746759.\n",
      "The best training accuracy is 0.6178567427867304.\n",
      "The best value for C is 50.88888888888889\n",
      "And, the best model coefficients are [[-1.78620560e-08 -1.76235738e-02  2.28650032e-03 -2.08101737e-01\n",
      "  -1.83942751e+01 -9.85622900e-03  4.54310121e-03  1.20951733e-02\n",
      "  -1.19881329e-03  5.86783805e-02]].\n"
     ]
    }
   ],
   "source": [
    "C_fine=np.linspace(2.0,90,10)\n",
    "Accuracy_fine, Accuracy_train_fine, Coef_fine = TuneParameters(pipeline_LogReg,C_fine,X_train,Y_train,X_valid,Y_valid)\n",
    "ReportBest(Accuracy_train_fine,Accuracy_fine,C_fine,Coef_fine)"
   ]
  },
  {
   "cell_type": "code",
   "execution_count": 9,
   "metadata": {},
   "outputs": [
    {
     "data": {
      "image/png": "[encoded data removed]",
      "text/plain": [
       "<Figure size 432x288 with 1 Axes>"
      ]
     },
     "metadata": {
      "needs_background": "light"
     },
     "output_type": "display_data"
    }
   ],
   "source": [
    "PlotBiasVariance(Accuracy_train_fine,Accuracy_fine,C_fine)\n",
    "plt.savefig('Figures/LogReg/BasicNamesDataSet/BiasVarianceFineTunedC.png')"
   ]
  },
  {
   "cell_type": "markdown",
   "metadata": {},
   "source": [
    "Okay, so in the end, our best result after tuning the complexity of our model is:"
   ]
  },
  {
   "cell_type": "code",
   "execution_count": 10,
   "metadata": {},
   "outputs": [
    {
     "name": "stdout",
     "output_type": "stream",
     "text": [
      "The best validation accuracy is 0.6196276579746759.\n",
      "The best training accuracy is 0.6178567427867304.\n",
      "The best value for C is 50.88888888888889\n",
      "And, the best model coefficients are [[-1.78620560e-08 -1.76235738e-02  2.28650032e-03 -2.08101737e-01\n",
      "  -1.83942751e+01 -9.85622900e-03  4.54310121e-03  1.20951733e-02\n",
      "  -1.19881329e-03  5.86783805e-02]].\n"
     ]
    }
   ],
   "source": [
    "ReportBest(Accuracy_train_fine,Accuracy_fine,C_fine,Coef_fine)"
   ]
  },
  {
   "cell_type": "markdown",
   "metadata": {},
   "source": [
    "# Okay, and what if we one hot encode the categories?"
   ]
  },
  {
   "cell_type": "code",
   "execution_count": 11,
   "metadata": {},
   "outputs": [],
   "source": [
    "# Just one hot the main category first\n",
    "X_train_OneHot_Main = OneHotEncodeCategory(X_train_df,[\"main_category\"])\n",
    "X_valid_OneHot_Main = OneHotEncodeCategory(X_valid_df,[\"main_category\"])\n",
    "\n",
    "#Now just the sub category\n",
    "X_train_OneHot_Sub = OneHotEncodeCategory(X_train_df,[\"category\"])\n",
    "X_valid_OneHot_Sub = OneHotEncodeCategory(X_valid_df,[\"category\"])\n",
    "\n",
    "# One hot both categories\n",
    "X_train_OneHot_Both = OneHotEncodeCategory(X_train_df,[\"main_category\",\"category\"])\n",
    "X_valid_OneHot_Both = OneHotEncodeCategory(X_valid_df,[\"main_category\",\"category\"])"
   ]
  },
  {
   "cell_type": "markdown",
   "metadata": {},
   "source": [
    "First, Let's just look at one hot encoding the main category."
   ]
  },
  {
   "cell_type": "code",
   "execution_count": 12,
   "metadata": {},
   "outputs": [
    {
     "name": "stderr",
     "output_type": "stream",
     "text": [
      "/Users/glinn/anaconda3/lib/python3.6/site-packages/sklearn/linear_model/logistic.py:432: FutureWarning: Default solver will be changed to 'lbfgs' in 0.22. Specify a solver to silence this warning.\n",
      "  FutureWarning)\n",
      "/Users/glinn/anaconda3/lib/python3.6/site-packages/sklearn/utils/validation.py:724: DataConversionWarning: A column-vector y was passed when a 1d array was expected. Please change the shape of y to (n_samples, ), for example using ravel().\n",
      "  y = column_or_1d(y, warn=True)\n",
      "/Users/glinn/anaconda3/lib/python3.6/site-packages/sklearn/linear_model/logistic.py:1544: UserWarning: 'n_jobs' > 1 does not have any effect when 'solver' is set to 'liblinear'. Got 'n_jobs' = 8.\n",
      "  \" = {}.\".format(effective_n_jobs(self.n_jobs)))\n",
      "/Users/glinn/anaconda3/lib/python3.6/site-packages/sklearn/linear_model/logistic.py:432: FutureWarning: Default solver will be changed to 'lbfgs' in 0.22. Specify a solver to silence this warning.\n",
      "  FutureWarning)\n",
      "/Users/glinn/anaconda3/lib/python3.6/site-packages/sklearn/utils/validation.py:724: DataConversionWarning: A column-vector y was passed when a 1d array was expected. Please change the shape of y to (n_samples, ), for example using ravel().\n",
      "  y = column_or_1d(y, warn=True)\n",
      "/Users/glinn/anaconda3/lib/python3.6/site-packages/sklearn/linear_model/logistic.py:1544: UserWarning: 'n_jobs' > 1 does not have any effect when 'solver' is set to 'liblinear'. Got 'n_jobs' = 8.\n",
      "  \" = {}.\".format(effective_n_jobs(self.n_jobs)))\n",
      "/Users/glinn/anaconda3/lib/python3.6/site-packages/sklearn/linear_model/logistic.py:432: FutureWarning: Default solver will be changed to 'lbfgs' in 0.22. Specify a solver to silence this warning.\n",
      "  FutureWarning)\n",
      "/Users/glinn/anaconda3/lib/python3.6/site-packages/sklearn/utils/validation.py:724: DataConversionWarning: A column-vector y was passed when a 1d array was expected. Please change the shape of y to (n_samples, ), for example using ravel().\n",
      "  y = column_or_1d(y, warn=True)\n",
      "/Users/glinn/anaconda3/lib/python3.6/site-packages/sklearn/linear_model/logistic.py:1544: UserWarning: 'n_jobs' > 1 does not have any effect when 'solver' is set to 'liblinear'. Got 'n_jobs' = 8.\n",
      "  \" = {}.\".format(effective_n_jobs(self.n_jobs)))\n",
      "/Users/glinn/anaconda3/lib/python3.6/site-packages/sklearn/linear_model/logistic.py:432: FutureWarning: Default solver will be changed to 'lbfgs' in 0.22. Specify a solver to silence this warning.\n",
      "  FutureWarning)\n",
      "/Users/glinn/anaconda3/lib/python3.6/site-packages/sklearn/utils/validation.py:724: DataConversionWarning: A column-vector y was passed when a 1d array was expected. Please change the shape of y to (n_samples, ), for example using ravel().\n",
      "  y = column_or_1d(y, warn=True)\n",
      "/Users/glinn/anaconda3/lib/python3.6/site-packages/sklearn/linear_model/logistic.py:1544: UserWarning: 'n_jobs' > 1 does not have any effect when 'solver' is set to 'liblinear'. Got 'n_jobs' = 8.\n",
      "  \" = {}.\".format(effective_n_jobs(self.n_jobs)))\n",
      "/Users/glinn/anaconda3/lib/python3.6/site-packages/sklearn/linear_model/logistic.py:432: FutureWarning: Default solver will be changed to 'lbfgs' in 0.22. Specify a solver to silence this warning.\n",
      "  FutureWarning)\n",
      "/Users/glinn/anaconda3/lib/python3.6/site-packages/sklearn/utils/validation.py:724: DataConversionWarning: A column-vector y was passed when a 1d array was expected. Please change the shape of y to (n_samples, ), for example using ravel().\n",
      "  y = column_or_1d(y, warn=True)\n",
      "/Users/glinn/anaconda3/lib/python3.6/site-packages/sklearn/linear_model/logistic.py:1544: UserWarning: 'n_jobs' > 1 does not have any effect when 'solver' is set to 'liblinear'. Got 'n_jobs' = 8.\n",
      "  \" = {}.\".format(effective_n_jobs(self.n_jobs)))\n"
     ]
    },
    {
     "name": "stdout",
     "output_type": "stream",
     "text": [
      "The validation accuracy is [0.643478   0.64480135 0.64477127 0.6449818  0.64477127].\n",
      "The training accuracy is [0.64642177 0.64857015 0.64853414 0.64863416 0.64849814].\n",
      "The best value for C is 100.0\n",
      "And, the best model coefficients are [[-2.25920552e-08  5.59483048e-04 -2.32294384e-01 -1.59907067e+01\n",
      "  -7.98522747e-03  5.47923499e-03  1.34083733e-02  2.00349892e-02\n",
      "   3.13391139e-02 -6.87576677e-01 -5.61045157e-02 -1.55322300e+00\n",
      "   1.45695235e-01 -7.02508003e-01 -1.39225512e+00 -5.90738408e-01\n",
      "  -1.28836064e+00 -6.03450855e-01 -1.57562928e+00 -3.67983198e-01\n",
      "  -1.15211090e+00 -1.11225490e+00 -1.35922788e+00  7.87918499e-02]].\n"
     ]
    }
   ],
   "source": [
    "C_Main=[0.01,1.0,10.0,100.0,1000.0]\n",
    "Accuracy_Main,Accuracy_train_Main,Coef_Main = TuneParameters(pipeline_LogReg,C_Main,X_train_OneHot_Main,Y_train,X_valid_OneHot_Main,Y_valid)\n",
    "ReportFull(Accuracy_train_Main,Accuracy_Main,C_Main,Coef_Main)"
   ]
  },
  {
   "cell_type": "code",
   "execution_count": 13,
   "metadata": {},
   "outputs": [
    {
     "data": {
      "image/png": "[encoded data removed]",
      "text/plain": [
       "<Figure size 432x288 with 1 Axes>"
      ]
     },
     "metadata": {
      "needs_background": "light"
     },
     "output_type": "display_data"
    }
   ],
   "source": [
    "PlotBiasVariance(Accuracy_train_Main,Accuracy_Main,C_Main)\n",
    "plt.savefig('Figures/LogReg/BasicNamesDataSet/BiasVarianceOneHotMainCoarseTunedC.png')"
   ]
  },
  {
   "cell_type": "code",
   "execution_count": 14,
   "metadata": {},
   "outputs": [
    {
     "name": "stderr",
     "output_type": "stream",
     "text": [
      "/Users/glinn/anaconda3/lib/python3.6/site-packages/sklearn/linear_model/logistic.py:432: FutureWarning: Default solver will be changed to 'lbfgs' in 0.22. Specify a solver to silence this warning.\n",
      "  FutureWarning)\n",
      "/Users/glinn/anaconda3/lib/python3.6/site-packages/sklearn/utils/validation.py:724: DataConversionWarning: A column-vector y was passed when a 1d array was expected. Please change the shape of y to (n_samples, ), for example using ravel().\n",
      "  y = column_or_1d(y, warn=True)\n",
      "/Users/glinn/anaconda3/lib/python3.6/site-packages/sklearn/linear_model/logistic.py:1544: UserWarning: 'n_jobs' > 1 does not have any effect when 'solver' is set to 'liblinear'. Got 'n_jobs' = 8.\n",
      "  \" = {}.\".format(effective_n_jobs(self.n_jobs)))\n",
      "/Users/glinn/anaconda3/lib/python3.6/site-packages/sklearn/linear_model/logistic.py:432: FutureWarning: Default solver will be changed to 'lbfgs' in 0.22. Specify a solver to silence this warning.\n",
      "  FutureWarning)\n",
      "/Users/glinn/anaconda3/lib/python3.6/site-packages/sklearn/utils/validation.py:724: DataConversionWarning: A column-vector y was passed when a 1d array was expected. Please change the shape of y to (n_samples, ), for example using ravel().\n",
      "  y = column_or_1d(y, warn=True)\n",
      "/Users/glinn/anaconda3/lib/python3.6/site-packages/sklearn/linear_model/logistic.py:1544: UserWarning: 'n_jobs' > 1 does not have any effect when 'solver' is set to 'liblinear'. Got 'n_jobs' = 8.\n",
      "  \" = {}.\".format(effective_n_jobs(self.n_jobs)))\n",
      "/Users/glinn/anaconda3/lib/python3.6/site-packages/sklearn/linear_model/logistic.py:432: FutureWarning: Default solver will be changed to 'lbfgs' in 0.22. Specify a solver to silence this warning.\n",
      "  FutureWarning)\n",
      "/Users/glinn/anaconda3/lib/python3.6/site-packages/sklearn/utils/validation.py:724: DataConversionWarning: A column-vector y was passed when a 1d array was expected. Please change the shape of y to (n_samples, ), for example using ravel().\n",
      "  y = column_or_1d(y, warn=True)\n",
      "/Users/glinn/anaconda3/lib/python3.6/site-packages/sklearn/linear_model/logistic.py:1544: UserWarning: 'n_jobs' > 1 does not have any effect when 'solver' is set to 'liblinear'. Got 'n_jobs' = 8.\n",
      "  \" = {}.\".format(effective_n_jobs(self.n_jobs)))\n",
      "/Users/glinn/anaconda3/lib/python3.6/site-packages/sklearn/linear_model/logistic.py:432: FutureWarning: Default solver will be changed to 'lbfgs' in 0.22. Specify a solver to silence this warning.\n",
      "  FutureWarning)\n",
      "/Users/glinn/anaconda3/lib/python3.6/site-packages/sklearn/utils/validation.py:724: DataConversionWarning: A column-vector y was passed when a 1d array was expected. Please change the shape of y to (n_samples, ), for example using ravel().\n",
      "  y = column_or_1d(y, warn=True)\n",
      "/Users/glinn/anaconda3/lib/python3.6/site-packages/sklearn/linear_model/logistic.py:1544: UserWarning: 'n_jobs' > 1 does not have any effect when 'solver' is set to 'liblinear'. Got 'n_jobs' = 8.\n",
      "  \" = {}.\".format(effective_n_jobs(self.n_jobs)))\n",
      "/Users/glinn/anaconda3/lib/python3.6/site-packages/sklearn/linear_model/logistic.py:432: FutureWarning: Default solver will be changed to 'lbfgs' in 0.22. Specify a solver to silence this warning.\n",
      "  FutureWarning)\n",
      "/Users/glinn/anaconda3/lib/python3.6/site-packages/sklearn/utils/validation.py:724: DataConversionWarning: A column-vector y was passed when a 1d array was expected. Please change the shape of y to (n_samples, ), for example using ravel().\n",
      "  y = column_or_1d(y, warn=True)\n",
      "/Users/glinn/anaconda3/lib/python3.6/site-packages/sklearn/linear_model/logistic.py:1544: UserWarning: 'n_jobs' > 1 does not have any effect when 'solver' is set to 'liblinear'. Got 'n_jobs' = 8.\n",
      "  \" = {}.\".format(effective_n_jobs(self.n_jobs)))\n",
      "/Users/glinn/anaconda3/lib/python3.6/site-packages/sklearn/linear_model/logistic.py:432: FutureWarning: Default solver will be changed to 'lbfgs' in 0.22. Specify a solver to silence this warning.\n",
      "  FutureWarning)\n",
      "/Users/glinn/anaconda3/lib/python3.6/site-packages/sklearn/utils/validation.py:724: DataConversionWarning: A column-vector y was passed when a 1d array was expected. Please change the shape of y to (n_samples, ), for example using ravel().\n",
      "  y = column_or_1d(y, warn=True)\n",
      "/Users/glinn/anaconda3/lib/python3.6/site-packages/sklearn/linear_model/logistic.py:1544: UserWarning: 'n_jobs' > 1 does not have any effect when 'solver' is set to 'liblinear'. Got 'n_jobs' = 8.\n",
      "  \" = {}.\".format(effective_n_jobs(self.n_jobs)))\n",
      "/Users/glinn/anaconda3/lib/python3.6/site-packages/sklearn/linear_model/logistic.py:432: FutureWarning: Default solver will be changed to 'lbfgs' in 0.22. Specify a solver to silence this warning.\n",
      "  FutureWarning)\n",
      "/Users/glinn/anaconda3/lib/python3.6/site-packages/sklearn/utils/validation.py:724: DataConversionWarning: A column-vector y was passed when a 1d array was expected. Please change the shape of y to (n_samples, ), for example using ravel().\n",
      "  y = column_or_1d(y, warn=True)\n",
      "/Users/glinn/anaconda3/lib/python3.6/site-packages/sklearn/linear_model/logistic.py:1544: UserWarning: 'n_jobs' > 1 does not have any effect when 'solver' is set to 'liblinear'. Got 'n_jobs' = 8.\n",
      "  \" = {}.\".format(effective_n_jobs(self.n_jobs)))\n",
      "/Users/glinn/anaconda3/lib/python3.6/site-packages/sklearn/linear_model/logistic.py:432: FutureWarning: Default solver will be changed to 'lbfgs' in 0.22. Specify a solver to silence this warning.\n",
      "  FutureWarning)\n",
      "/Users/glinn/anaconda3/lib/python3.6/site-packages/sklearn/utils/validation.py:724: DataConversionWarning: A column-vector y was passed when a 1d array was expected. Please change the shape of y to (n_samples, ), for example using ravel().\n",
      "  y = column_or_1d(y, warn=True)\n",
      "/Users/glinn/anaconda3/lib/python3.6/site-packages/sklearn/linear_model/logistic.py:1544: UserWarning: 'n_jobs' > 1 does not have any effect when 'solver' is set to 'liblinear'. Got 'n_jobs' = 8.\n",
      "  \" = {}.\".format(effective_n_jobs(self.n_jobs)))\n",
      "/Users/glinn/anaconda3/lib/python3.6/site-packages/sklearn/linear_model/logistic.py:432: FutureWarning: Default solver will be changed to 'lbfgs' in 0.22. Specify a solver to silence this warning.\n",
      "  FutureWarning)\n",
      "/Users/glinn/anaconda3/lib/python3.6/site-packages/sklearn/utils/validation.py:724: DataConversionWarning: A column-vector y was passed when a 1d array was expected. Please change the shape of y to (n_samples, ), for example using ravel().\n",
      "  y = column_or_1d(y, warn=True)\n",
      "/Users/glinn/anaconda3/lib/python3.6/site-packages/sklearn/linear_model/logistic.py:1544: UserWarning: 'n_jobs' > 1 does not have any effect when 'solver' is set to 'liblinear'. Got 'n_jobs' = 8.\n",
      "  \" = {}.\".format(effective_n_jobs(self.n_jobs)))\n",
      "/Users/glinn/anaconda3/lib/python3.6/site-packages/sklearn/linear_model/logistic.py:432: FutureWarning: Default solver will be changed to 'lbfgs' in 0.22. Specify a solver to silence this warning.\n",
      "  FutureWarning)\n",
      "/Users/glinn/anaconda3/lib/python3.6/site-packages/sklearn/utils/validation.py:724: DataConversionWarning: A column-vector y was passed when a 1d array was expected. Please change the shape of y to (n_samples, ), for example using ravel().\n",
      "  y = column_or_1d(y, warn=True)\n",
      "/Users/glinn/anaconda3/lib/python3.6/site-packages/sklearn/linear_model/logistic.py:1544: UserWarning: 'n_jobs' > 1 does not have any effect when 'solver' is set to 'liblinear'. Got 'n_jobs' = 8.\n",
      "  \" = {}.\".format(effective_n_jobs(self.n_jobs)))\n"
     ]
    },
    {
     "name": "stdout",
     "output_type": "stream",
     "text": [
      "The best validation accuracy is 0.6451321844265993.\n",
      "The best training accuracy is 0.6487981884811727.\n",
      "The best value for C is 215.55555555555554\n",
      "And, the best model coefficients are [[-2.16194233e-08  4.89067523e-04 -2.32364235e-01 -1.59128787e+01\n",
      "  -7.56583765e-03  4.38189469e-03  1.31315644e-02  2.10606510e-02\n",
      "   3.29684145e-02 -7.33939162e-01 -1.05092593e-01 -1.59910196e+00\n",
      "   9.95354380e-02 -7.47674733e-01 -1.43868062e+00 -6.37857804e-01\n",
      "  -1.33487412e+00 -6.43605250e-01 -1.61621320e+00 -4.14130387e-01\n",
      "  -1.19539768e+00 -1.15814186e+00 -1.40442181e+00  3.67718534e-02]].\n"
     ]
    }
   ],
   "source": [
    "C_Main_fine=np.linspace(20.0,900.0,10)\n",
    "Accuracy_Main_fine,Accuracy_train_Main_fine,Coef_Main_fine = TuneParameters(pipeline_LogReg,C_Main_fine,X_train_OneHot_Main,Y_train,X_valid_OneHot_Main,Y_valid)\n",
    "ReportBest(Accuracy_train_Main_fine,Accuracy_Main_fine,C_Main_fine,Coef_Main_fine)"
   ]
  },
  {
   "cell_type": "code",
   "execution_count": 15,
   "metadata": {
    "scrolled": true
   },
   "outputs": [
    {
     "data": {
      "image/png": "[encoded data removed]",
      "text/plain": [
       "<Figure size 432x288 with 1 Axes>"
      ]
     },
     "metadata": {
      "needs_background": "light"
     },
     "output_type": "display_data"
    }
   ],
   "source": [
    "PlotBiasVariance(Accuracy_train_Main_fine,Accuracy_Main_fine,C_Main_fine)\n",
    "plt.savefig('Figures/LogReg/BasicNamesDataSet/BiasVarianceOneHotMainFineTunedC.png')"
   ]
  },
  {
   "cell_type": "markdown",
   "metadata": {},
   "source": [
    "Okay, so in the end, our best result after tuning the complexity of our model is:"
   ]
  },
  {
   "cell_type": "code",
   "execution_count": 16,
   "metadata": {},
   "outputs": [
    {
     "name": "stdout",
     "output_type": "stream",
     "text": [
      "The best validation accuracy is 0.6451321844265993.\n",
      "The best training accuracy is 0.6487981884811727.\n",
      "The best value for C is 215.55555555555554\n",
      "And, the best model coefficients are [[-2.16194233e-08  4.89067523e-04 -2.32364235e-01 -1.59128787e+01\n",
      "  -7.56583765e-03  4.38189469e-03  1.31315644e-02  2.10606510e-02\n",
      "   3.29684145e-02 -7.33939162e-01 -1.05092593e-01 -1.59910196e+00\n",
      "   9.95354380e-02 -7.47674733e-01 -1.43868062e+00 -6.37857804e-01\n",
      "  -1.33487412e+00 -6.43605250e-01 -1.61621320e+00 -4.14130387e-01\n",
      "  -1.19539768e+00 -1.15814186e+00 -1.40442181e+00  3.67718534e-02]].\n"
     ]
    }
   ],
   "source": [
    "ReportBest(Accuracy_train_Main_fine,Accuracy_Main_fine,C_Main_fine,Coef_Main_fine)"
   ]
  },
  {
   "cell_type": "markdown",
   "metadata": {},
   "source": [
    "Second, we look at what happens if we just one hot the sub-categories."
   ]
  },
  {
   "cell_type": "code",
   "execution_count": 17,
   "metadata": {},
   "outputs": [
    {
     "name": "stderr",
     "output_type": "stream",
     "text": [
      "/Users/glinn/anaconda3/lib/python3.6/site-packages/sklearn/linear_model/logistic.py:432: FutureWarning: Default solver will be changed to 'lbfgs' in 0.22. Specify a solver to silence this warning.\n",
      "  FutureWarning)\n",
      "/Users/glinn/anaconda3/lib/python3.6/site-packages/sklearn/utils/validation.py:724: DataConversionWarning: A column-vector y was passed when a 1d array was expected. Please change the shape of y to (n_samples, ), for example using ravel().\n",
      "  y = column_or_1d(y, warn=True)\n",
      "/Users/glinn/anaconda3/lib/python3.6/site-packages/sklearn/linear_model/logistic.py:1544: UserWarning: 'n_jobs' > 1 does not have any effect when 'solver' is set to 'liblinear'. Got 'n_jobs' = 8.\n",
      "  \" = {}.\".format(effective_n_jobs(self.n_jobs)))\n",
      "/Users/glinn/anaconda3/lib/python3.6/site-packages/sklearn/linear_model/logistic.py:432: FutureWarning: Default solver will be changed to 'lbfgs' in 0.22. Specify a solver to silence this warning.\n",
      "  FutureWarning)\n",
      "/Users/glinn/anaconda3/lib/python3.6/site-packages/sklearn/utils/validation.py:724: DataConversionWarning: A column-vector y was passed when a 1d array was expected. Please change the shape of y to (n_samples, ), for example using ravel().\n",
      "  y = column_or_1d(y, warn=True)\n",
      "/Users/glinn/anaconda3/lib/python3.6/site-packages/sklearn/linear_model/logistic.py:1544: UserWarning: 'n_jobs' > 1 does not have any effect when 'solver' is set to 'liblinear'. Got 'n_jobs' = 8.\n",
      "  \" = {}.\".format(effective_n_jobs(self.n_jobs)))\n",
      "/Users/glinn/anaconda3/lib/python3.6/site-packages/sklearn/linear_model/logistic.py:432: FutureWarning: Default solver will be changed to 'lbfgs' in 0.22. Specify a solver to silence this warning.\n",
      "  FutureWarning)\n",
      "/Users/glinn/anaconda3/lib/python3.6/site-packages/sklearn/utils/validation.py:724: DataConversionWarning: A column-vector y was passed when a 1d array was expected. Please change the shape of y to (n_samples, ), for example using ravel().\n",
      "  y = column_or_1d(y, warn=True)\n",
      "/Users/glinn/anaconda3/lib/python3.6/site-packages/sklearn/linear_model/logistic.py:1544: UserWarning: 'n_jobs' > 1 does not have any effect when 'solver' is set to 'liblinear'. Got 'n_jobs' = 8.\n",
      "  \" = {}.\".format(effective_n_jobs(self.n_jobs)))\n",
      "/Users/glinn/anaconda3/lib/python3.6/site-packages/sklearn/linear_model/logistic.py:432: FutureWarning: Default solver will be changed to 'lbfgs' in 0.22. Specify a solver to silence this warning.\n",
      "  FutureWarning)\n",
      "/Users/glinn/anaconda3/lib/python3.6/site-packages/sklearn/utils/validation.py:724: DataConversionWarning: A column-vector y was passed when a 1d array was expected. Please change the shape of y to (n_samples, ), for example using ravel().\n",
      "  y = column_or_1d(y, warn=True)\n",
      "/Users/glinn/anaconda3/lib/python3.6/site-packages/sklearn/linear_model/logistic.py:1544: UserWarning: 'n_jobs' > 1 does not have any effect when 'solver' is set to 'liblinear'. Got 'n_jobs' = 8.\n",
      "  \" = {}.\".format(effective_n_jobs(self.n_jobs)))\n",
      "/Users/glinn/anaconda3/lib/python3.6/site-packages/sklearn/linear_model/logistic.py:432: FutureWarning: Default solver will be changed to 'lbfgs' in 0.22. Specify a solver to silence this warning.\n",
      "  FutureWarning)\n",
      "/Users/glinn/anaconda3/lib/python3.6/site-packages/sklearn/utils/validation.py:724: DataConversionWarning: A column-vector y was passed when a 1d array was expected. Please change the shape of y to (n_samples, ), for example using ravel().\n",
      "  y = column_or_1d(y, warn=True)\n",
      "/Users/glinn/anaconda3/lib/python3.6/site-packages/sklearn/linear_model/logistic.py:1544: UserWarning: 'n_jobs' > 1 does not have any effect when 'solver' is set to 'liblinear'. Got 'n_jobs' = 8.\n",
      "  \" = {}.\".format(effective_n_jobs(self.n_jobs)))\n"
     ]
    },
    {
     "name": "stdout",
     "output_type": "stream",
     "text": [
      "The validation accuracy is [0.65737315 0.66504256 0.66543355 0.66552378 0.66471172].\n",
      "The training accuracy is [0.66402887 0.67169422 0.67162221 0.67163421 0.67164221].\n",
      "The best value for C is 100.0\n",
      "And, the best model coefficients are [[-5.95115495e-09 -1.65114643e-02 -2.31085844e-01 -1.55560320e+01\n",
      "  -7.94426630e-03  4.88833841e-03  1.16694587e-02  2.73994036e-02\n",
      "   3.33854935e-02 -3.78762613e-02 -1.13939408e+00 -6.43339439e-01\n",
      "  -1.17740587e+00 -1.13598017e+00 -6.81376101e-01  6.36069057e-01\n",
      "  -1.35085494e+00 -2.25154189e+00 -8.46304096e-01 -4.15062672e-01\n",
      "   2.36650727e-01 -8.16782148e-01 -1.39937710e+00 -1.21650309e-01\n",
      "  -3.87553396e-01  3.27060591e-01 -1.97044874e+00 -3.46277083e-01\n",
      "  -5.76410354e-01 -1.42344738e+00  1.39122795e+00 -4.54890442e-01\n",
      "   6.44980778e-01 -1.86573307e-01  3.77407603e-01  3.60534133e-02\n",
      "  -1.21909431e+00 -7.19545880e-01 -1.02611045e+00  5.73377988e-01\n",
      "  -1.61531682e+00 -1.23176726e+00 -1.24928791e+00 -1.84460164e+00\n",
      "   5.69684782e-02  6.51682428e-01 -4.42430512e-01 -1.08678345e+00\n",
      "  -2.78556339e-01 -1.72853781e-01 -8.76865951e-01 -6.50435539e-01\n",
      "  -1.90474462e+00 -1.38159934e+00 -2.95176443e-01 -4.32384315e-01\n",
      "  -2.01885999e-01 -1.28367967e+00 -3.87763309e-01 -1.57712689e+00\n",
      "  -9.55998785e-01 -1.04595247e+00  2.51993930e-01 -1.02365229e+00\n",
      "  -4.74773435e-01 -4.46602153e-01 -8.86818727e-01 -7.84255668e-01\n",
      "  -1.76199654e+00 -5.28593869e-01 -3.73904388e-01 -8.19623899e-01\n",
      "  -7.53968169e-01 -1.00741020e+00 -5.19610879e-01  2.19155759e-01\n",
      "  -7.96012906e-02 -1.62372028e+00 -5.24256622e-01 -8.53114031e-02\n",
      "   5.89052960e-01  6.81662950e-01 -1.00410841e-01 -1.27921117e+00\n",
      "   4.77477492e-01 -1.18437608e+00 -8.61234541e-01 -1.27029414e-01\n",
      "  -7.56254238e-02 -8.02058608e-01  3.50376697e-01  3.71566411e-02\n",
      "   9.30017259e-01 -1.18762631e+00 -3.10518655e-01 -4.08861494e-01\n",
      "  -7.18501483e-01 -2.08404051e+00 -4.88820325e-01  1.24595090e-02\n",
      "  -6.34120196e-01  2.72874550e-01 -6.41726145e-02 -1.54003015e+00\n",
      "  -8.82409557e-01 -7.57628189e-01 -1.15994527e+00 -3.09072321e-01\n",
      "   3.50153759e-01 -1.80087406e-01 -8.74427293e-01 -1.58487837e+00\n",
      "  -2.40737896e-01 -6.35690348e-01 -1.52978565e+00 -2.02617064e-01\n",
      "   4.83926614e-01 -5.27102951e-01  1.83565597e-02 -3.12376790e-01\n",
      "  -1.11086787e+00 -1.30165403e+00 -3.27572823e-01 -1.38185105e-02\n",
      "  -7.01198796e-01  2.19605791e-02 -3.22769260e-01 -9.96309023e-01\n",
      "  -1.13927594e+00 -1.61022923e-01 -1.54197075e+00  1.16198856e+00\n",
      "  -1.26323988e+00  1.20424360e-01  1.72899893e-01 -4.91754498e-01\n",
      "  -1.53319439e-01 -5.50145532e-01  3.28152187e-01 -7.34754770e-01\n",
      "  -1.55610846e+00  3.71897427e-01  2.32048099e-02 -2.56311633e-01\n",
      "  -9.91817776e-01  6.48973262e-01 -6.78341108e-02 -8.99440020e-01\n",
      "  -1.42414491e+00 -1.01275219e+00  6.63451925e-01 -6.38053882e-01\n",
      "  -1.05954314e+00  4.37736146e-01 -7.30548850e-01 -1.80498276e+00\n",
      "  -1.01408258e+00 -8.99395601e-01 -4.74180882e-02 -9.79843514e-01\n",
      "  -2.03485250e+00  2.22753411e-01 -7.11684210e-01 -1.29111005e+00\n",
      "  -9.22584242e-01 -1.43059186e-01 -1.19786008e+00 -1.10546916e-01]].\n"
     ]
    }
   ],
   "source": [
    "C_Sub=[0.01,1.0,10.0,100.0,1000.0]\n",
    "Accuracy_Sub,Accuracy_train_Sub,Coef_Sub = TuneParameters(pipeline_LogReg,C_Sub,X_train_OneHot_Sub,Y_train,X_valid_OneHot_Sub,Y_valid)\n",
    "ReportFull(Accuracy_train_Sub,Accuracy_Sub,C_Sub,Coef_Sub)"
   ]
  },
  {
   "cell_type": "code",
   "execution_count": 18,
   "metadata": {},
   "outputs": [
    {
     "data": {
      "image/png": "[encoded data removed]",
      "text/plain": [
       "<Figure size 432x288 with 1 Axes>"
      ]
     },
     "metadata": {
      "needs_background": "light"
     },
     "output_type": "display_data"
    }
   ],
   "source": [
    "PlotBiasVariance(Accuracy_train_Sub,Accuracy_Sub,C_Sub)\n",
    "plt.savefig('Figures/LogReg/BasicNamesDataSet/BiasVarianceOneHotSubCoarseTunedC.png')"
   ]
  },
  {
   "cell_type": "code",
   "execution_count": 19,
   "metadata": {},
   "outputs": [
    {
     "name": "stderr",
     "output_type": "stream",
     "text": [
      "/Users/glinn/anaconda3/lib/python3.6/site-packages/sklearn/linear_model/logistic.py:432: FutureWarning: Default solver will be changed to 'lbfgs' in 0.22. Specify a solver to silence this warning.\n",
      "  FutureWarning)\n",
      "/Users/glinn/anaconda3/lib/python3.6/site-packages/sklearn/utils/validation.py:724: DataConversionWarning: A column-vector y was passed when a 1d array was expected. Please change the shape of y to (n_samples, ), for example using ravel().\n",
      "  y = column_or_1d(y, warn=True)\n",
      "/Users/glinn/anaconda3/lib/python3.6/site-packages/sklearn/linear_model/logistic.py:1544: UserWarning: 'n_jobs' > 1 does not have any effect when 'solver' is set to 'liblinear'. Got 'n_jobs' = 8.\n",
      "  \" = {}.\".format(effective_n_jobs(self.n_jobs)))\n",
      "/Users/glinn/anaconda3/lib/python3.6/site-packages/sklearn/linear_model/logistic.py:432: FutureWarning: Default solver will be changed to 'lbfgs' in 0.22. Specify a solver to silence this warning.\n",
      "  FutureWarning)\n",
      "/Users/glinn/anaconda3/lib/python3.6/site-packages/sklearn/utils/validation.py:724: DataConversionWarning: A column-vector y was passed when a 1d array was expected. Please change the shape of y to (n_samples, ), for example using ravel().\n",
      "  y = column_or_1d(y, warn=True)\n",
      "/Users/glinn/anaconda3/lib/python3.6/site-packages/sklearn/linear_model/logistic.py:1544: UserWarning: 'n_jobs' > 1 does not have any effect when 'solver' is set to 'liblinear'. Got 'n_jobs' = 8.\n",
      "  \" = {}.\".format(effective_n_jobs(self.n_jobs)))\n",
      "/Users/glinn/anaconda3/lib/python3.6/site-packages/sklearn/linear_model/logistic.py:432: FutureWarning: Default solver will be changed to 'lbfgs' in 0.22. Specify a solver to silence this warning.\n",
      "  FutureWarning)\n",
      "/Users/glinn/anaconda3/lib/python3.6/site-packages/sklearn/utils/validation.py:724: DataConversionWarning: A column-vector y was passed when a 1d array was expected. Please change the shape of y to (n_samples, ), for example using ravel().\n",
      "  y = column_or_1d(y, warn=True)\n",
      "/Users/glinn/anaconda3/lib/python3.6/site-packages/sklearn/linear_model/logistic.py:1544: UserWarning: 'n_jobs' > 1 does not have any effect when 'solver' is set to 'liblinear'. Got 'n_jobs' = 8.\n",
      "  \" = {}.\".format(effective_n_jobs(self.n_jobs)))\n",
      "/Users/glinn/anaconda3/lib/python3.6/site-packages/sklearn/linear_model/logistic.py:432: FutureWarning: Default solver will be changed to 'lbfgs' in 0.22. Specify a solver to silence this warning.\n",
      "  FutureWarning)\n",
      "/Users/glinn/anaconda3/lib/python3.6/site-packages/sklearn/utils/validation.py:724: DataConversionWarning: A column-vector y was passed when a 1d array was expected. Please change the shape of y to (n_samples, ), for example using ravel().\n",
      "  y = column_or_1d(y, warn=True)\n",
      "/Users/glinn/anaconda3/lib/python3.6/site-packages/sklearn/linear_model/logistic.py:1544: UserWarning: 'n_jobs' > 1 does not have any effect when 'solver' is set to 'liblinear'. Got 'n_jobs' = 8.\n",
      "  \" = {}.\".format(effective_n_jobs(self.n_jobs)))\n",
      "/Users/glinn/anaconda3/lib/python3.6/site-packages/sklearn/linear_model/logistic.py:432: FutureWarning: Default solver will be changed to 'lbfgs' in 0.22. Specify a solver to silence this warning.\n",
      "  FutureWarning)\n",
      "/Users/glinn/anaconda3/lib/python3.6/site-packages/sklearn/utils/validation.py:724: DataConversionWarning: A column-vector y was passed when a 1d array was expected. Please change the shape of y to (n_samples, ), for example using ravel().\n",
      "  y = column_or_1d(y, warn=True)\n",
      "/Users/glinn/anaconda3/lib/python3.6/site-packages/sklearn/linear_model/logistic.py:1544: UserWarning: 'n_jobs' > 1 does not have any effect when 'solver' is set to 'liblinear'. Got 'n_jobs' = 8.\n",
      "  \" = {}.\".format(effective_n_jobs(self.n_jobs)))\n",
      "/Users/glinn/anaconda3/lib/python3.6/site-packages/sklearn/linear_model/logistic.py:432: FutureWarning: Default solver will be changed to 'lbfgs' in 0.22. Specify a solver to silence this warning.\n",
      "  FutureWarning)\n",
      "/Users/glinn/anaconda3/lib/python3.6/site-packages/sklearn/utils/validation.py:724: DataConversionWarning: A column-vector y was passed when a 1d array was expected. Please change the shape of y to (n_samples, ), for example using ravel().\n",
      "  y = column_or_1d(y, warn=True)\n",
      "/Users/glinn/anaconda3/lib/python3.6/site-packages/sklearn/linear_model/logistic.py:1544: UserWarning: 'n_jobs' > 1 does not have any effect when 'solver' is set to 'liblinear'. Got 'n_jobs' = 8.\n",
      "  \" = {}.\".format(effective_n_jobs(self.n_jobs)))\n",
      "/Users/glinn/anaconda3/lib/python3.6/site-packages/sklearn/linear_model/logistic.py:432: FutureWarning: Default solver will be changed to 'lbfgs' in 0.22. Specify a solver to silence this warning.\n",
      "  FutureWarning)\n",
      "/Users/glinn/anaconda3/lib/python3.6/site-packages/sklearn/utils/validation.py:724: DataConversionWarning: A column-vector y was passed when a 1d array was expected. Please change the shape of y to (n_samples, ), for example using ravel().\n",
      "  y = column_or_1d(y, warn=True)\n",
      "/Users/glinn/anaconda3/lib/python3.6/site-packages/sklearn/linear_model/logistic.py:1544: UserWarning: 'n_jobs' > 1 does not have any effect when 'solver' is set to 'liblinear'. Got 'n_jobs' = 8.\n",
      "  \" = {}.\".format(effective_n_jobs(self.n_jobs)))\n",
      "/Users/glinn/anaconda3/lib/python3.6/site-packages/sklearn/linear_model/logistic.py:432: FutureWarning: Default solver will be changed to 'lbfgs' in 0.22. Specify a solver to silence this warning.\n",
      "  FutureWarning)\n",
      "/Users/glinn/anaconda3/lib/python3.6/site-packages/sklearn/utils/validation.py:724: DataConversionWarning: A column-vector y was passed when a 1d array was expected. Please change the shape of y to (n_samples, ), for example using ravel().\n",
      "  y = column_or_1d(y, warn=True)\n",
      "/Users/glinn/anaconda3/lib/python3.6/site-packages/sklearn/linear_model/logistic.py:1544: UserWarning: 'n_jobs' > 1 does not have any effect when 'solver' is set to 'liblinear'. Got 'n_jobs' = 8.\n",
      "  \" = {}.\".format(effective_n_jobs(self.n_jobs)))\n",
      "/Users/glinn/anaconda3/lib/python3.6/site-packages/sklearn/linear_model/logistic.py:432: FutureWarning: Default solver will be changed to 'lbfgs' in 0.22. Specify a solver to silence this warning.\n",
      "  FutureWarning)\n",
      "/Users/glinn/anaconda3/lib/python3.6/site-packages/sklearn/utils/validation.py:724: DataConversionWarning: A column-vector y was passed when a 1d array was expected. Please change the shape of y to (n_samples, ), for example using ravel().\n",
      "  y = column_or_1d(y, warn=True)\n",
      "/Users/glinn/anaconda3/lib/python3.6/site-packages/sklearn/linear_model/logistic.py:1544: UserWarning: 'n_jobs' > 1 does not have any effect when 'solver' is set to 'liblinear'. Got 'n_jobs' = 8.\n",
      "  \" = {}.\".format(effective_n_jobs(self.n_jobs)))\n",
      "/Users/glinn/anaconda3/lib/python3.6/site-packages/sklearn/linear_model/logistic.py:432: FutureWarning: Default solver will be changed to 'lbfgs' in 0.22. Specify a solver to silence this warning.\n",
      "  FutureWarning)\n",
      "/Users/glinn/anaconda3/lib/python3.6/site-packages/sklearn/utils/validation.py:724: DataConversionWarning: A column-vector y was passed when a 1d array was expected. Please change the shape of y to (n_samples, ), for example using ravel().\n",
      "  y = column_or_1d(y, warn=True)\n",
      "/Users/glinn/anaconda3/lib/python3.6/site-packages/sklearn/linear_model/logistic.py:1544: UserWarning: 'n_jobs' > 1 does not have any effect when 'solver' is set to 'liblinear'. Got 'n_jobs' = 8.\n",
      "  \" = {}.\".format(effective_n_jobs(self.n_jobs)))\n"
     ]
    },
    {
     "name": "stdout",
     "output_type": "stream",
     "text": [
      "The best validation accuracy is 0.6656140034286745.\n",
      "The best training accuracy is 0.6716862167741523.\n",
      "The best value for C is 802.2222222222222\n",
      "And, the best model coefficients are [[-8.07061308e-09 -2.40560992e-02 -2.31069585e-01 -1.55396153e+01\n",
      "  -7.97201468e-03  4.82432524e-03  1.16643751e-02  2.76858796e-02\n",
      "   3.32795752e-02 -2.30978852e-01 -1.34057074e+00 -8.97248978e-01\n",
      "  -1.42371411e+00 -1.34409692e+00 -9.27438932e-01  3.95170655e-01\n",
      "  -1.60478678e+00 -2.44434186e+00 -1.10796469e+00 -7.07598885e-01\n",
      "   3.64155229e-02 -1.04097374e+00 -1.63873412e+00 -3.37637476e-01\n",
      "  -5.88133058e-01  1.33948061e-01 -2.24739788e+00 -6.38574499e-01\n",
      "  -7.76724188e-01 -1.67787011e+00  1.17829033e+00 -7.16799643e-01\n",
      "   4.29510586e-01 -4.28237976e-01  9.31198176e-02 -2.48728082e-01\n",
      "  -1.45743995e+00 -1.01193728e+00 -1.26518204e+00  3.57611508e-01\n",
      "  -1.86980988e+00 -1.50884285e+00 -1.52659454e+00 -2.12165236e+00\n",
      "  -1.35598804e-01  3.82505100e-01 -7.04044797e-01 -1.37872475e+00\n",
      "  -5.25235077e-01 -4.19058422e-01 -1.11571222e+00 -8.65974375e-01\n",
      "  -2.18291404e+00 -1.62951677e+00 -5.15678595e-01 -6.25758417e-01\n",
      "  -4.17463061e-01 -1.53015716e+00 -6.33797150e-01 -1.81607937e+00\n",
      "  -1.19494180e+00 -1.29998139e+00  4.57083251e-02 -1.22361997e+00\n",
      "  -7.20924419e-01 -6.54594580e-01 -1.08018766e+00 -1.02310134e+00\n",
      "  -2.00106079e+00 -7.83032422e-01 -5.66954843e-01 -1.05058610e+00\n",
      "  -9.85151154e-01 -1.28442808e+00 -7.81431348e-01 -6.47172561e-02\n",
      "  -2.72806670e-01 -1.83948812e+00 -7.70552511e-01 -3.77499447e-01\n",
      "   4.04370624e-01  4.65838386e-01 -3.92980232e-01 -1.54092921e+00\n",
      "   2.61603649e-01 -1.43872162e+00 -1.08433661e+00 -3.42848819e-01\n",
      "  -3.52666139e-01 -1.01803044e+00  9.71342792e-02 -1.62777189e-01\n",
      "   7.31861611e-01 -1.41918386e+00 -5.04022470e-01 -6.23673687e-01\n",
      "  -1.01070887e+00 -2.31506896e+00 -7.35847123e-01 -2.03812403e-01\n",
      "  -8.80491436e-01  8.76546099e-02 -3.10298180e-01 -1.74823363e+00\n",
      "  -1.08267019e+00 -1.04967253e+00 -1.36865563e+00 -6.01659512e-01\n",
      "   8.13343557e-02 -3.81137953e-01 -1.12872717e+00 -1.80841637e+00\n",
      "  -4.48379445e-01 -8.43612341e-01 -1.73780228e+00 -4.34203437e-01\n",
      "   2.99301357e-01 -7.26892383e-01 -1.96792753e-01 -5.89905607e-01\n",
      "  -1.33383828e+00 -1.57925188e+00 -5.89138622e-01 -3.06129300e-01\n",
      "  -9.01485931e-01 -1.93201054e-01 -5.53861829e-01 -1.27421907e+00\n",
      "  -1.35523959e+00 -3.61176242e-01 -1.79641504e+00  8.93510660e-01\n",
      "  -1.50204333e+00 -7.24803385e-02 -4.24439772e-02 -7.37959169e-01\n",
      "  -3.99898453e-01 -8.42408205e-01  8.21802290e-02 -9.73546446e-01\n",
      "  -1.74853145e+00  1.78183272e-01 -1.69203311e-01 -4.89969480e-01\n",
      "  -1.26937477e+00  4.18065591e-01 -3.50233384e-01 -1.09253564e+00\n",
      "  -1.67074438e+00 -1.30557399e+00  4.78341634e-01 -8.84514630e-01\n",
      "  -1.26026383e+00  1.76342175e-01 -9.69858398e-01 -2.02878449e+00\n",
      "  -1.30664231e+00 -1.13022297e+00 -2.40090457e-01 -1.25743624e+00\n",
      "  -2.23640333e+00 -6.18034771e-02 -9.58038210e-01 -1.56791718e+00\n",
      "  -1.19213131e+00 -3.58695065e-01 -1.39801204e+00 -3.11711854e-01]].\n"
     ]
    }
   ],
   "source": [
    "C_Sub_fine=np.linspace(20.0,900.0,10)\n",
    "Accuracy_Sub_fine,Accuracy_train_Sub_fine,Coef_Sub_fine = TuneParameters(pipeline_LogReg,C_Sub_fine,X_train_OneHot_Sub,Y_train,X_valid_OneHot_Sub,Y_valid)\n",
    "ReportBest(Accuracy_train_Sub_fine,Accuracy_Sub_fine,C_Sub_fine,Coef_Sub_fine)"
   ]
  },
  {
   "cell_type": "code",
   "execution_count": 20,
   "metadata": {},
   "outputs": [
    {
     "data": {
      "image/png": "[encoded data removed]",
      "text/plain": [
       "<Figure size 432x288 with 1 Axes>"
      ]
     },
     "metadata": {
      "needs_background": "light"
     },
     "output_type": "display_data"
    }
   ],
   "source": [
    "PlotBiasVariance(Accuracy_train_Sub_fine,Accuracy_Sub_fine,C_Sub_fine)\n",
    "plt.savefig('Figures/LogReg/BasicNamesDataSet/BiasVarianceOneHotSubFineTunedC.png')"
   ]
  },
  {
   "cell_type": "markdown",
   "metadata": {},
   "source": [
    "Okay, so in the end, our best result after tuning the complexity of our model is:"
   ]
  },
  {
   "cell_type": "code",
   "execution_count": 21,
   "metadata": {},
   "outputs": [
    {
     "name": "stdout",
     "output_type": "stream",
     "text": [
      "The best validation accuracy is 0.6656140034286745.\n",
      "The best training accuracy is 0.6716862167741523.\n",
      "The best value for C is 802.2222222222222\n",
      "And, the best model coefficients are [[-8.07061308e-09 -2.40560992e-02 -2.31069585e-01 -1.55396153e+01\n",
      "  -7.97201468e-03  4.82432524e-03  1.16643751e-02  2.76858796e-02\n",
      "   3.32795752e-02 -2.30978852e-01 -1.34057074e+00 -8.97248978e-01\n",
      "  -1.42371411e+00 -1.34409692e+00 -9.27438932e-01  3.95170655e-01\n",
      "  -1.60478678e+00 -2.44434186e+00 -1.10796469e+00 -7.07598885e-01\n",
      "   3.64155229e-02 -1.04097374e+00 -1.63873412e+00 -3.37637476e-01\n",
      "  -5.88133058e-01  1.33948061e-01 -2.24739788e+00 -6.38574499e-01\n",
      "  -7.76724188e-01 -1.67787011e+00  1.17829033e+00 -7.16799643e-01\n",
      "   4.29510586e-01 -4.28237976e-01  9.31198176e-02 -2.48728082e-01\n",
      "  -1.45743995e+00 -1.01193728e+00 -1.26518204e+00  3.57611508e-01\n",
      "  -1.86980988e+00 -1.50884285e+00 -1.52659454e+00 -2.12165236e+00\n",
      "  -1.35598804e-01  3.82505100e-01 -7.04044797e-01 -1.37872475e+00\n",
      "  -5.25235077e-01 -4.19058422e-01 -1.11571222e+00 -8.65974375e-01\n",
      "  -2.18291404e+00 -1.62951677e+00 -5.15678595e-01 -6.25758417e-01\n",
      "  -4.17463061e-01 -1.53015716e+00 -6.33797150e-01 -1.81607937e+00\n",
      "  -1.19494180e+00 -1.29998139e+00  4.57083251e-02 -1.22361997e+00\n",
      "  -7.20924419e-01 -6.54594580e-01 -1.08018766e+00 -1.02310134e+00\n",
      "  -2.00106079e+00 -7.83032422e-01 -5.66954843e-01 -1.05058610e+00\n",
      "  -9.85151154e-01 -1.28442808e+00 -7.81431348e-01 -6.47172561e-02\n",
      "  -2.72806670e-01 -1.83948812e+00 -7.70552511e-01 -3.77499447e-01\n",
      "   4.04370624e-01  4.65838386e-01 -3.92980232e-01 -1.54092921e+00\n",
      "   2.61603649e-01 -1.43872162e+00 -1.08433661e+00 -3.42848819e-01\n",
      "  -3.52666139e-01 -1.01803044e+00  9.71342792e-02 -1.62777189e-01\n",
      "   7.31861611e-01 -1.41918386e+00 -5.04022470e-01 -6.23673687e-01\n",
      "  -1.01070887e+00 -2.31506896e+00 -7.35847123e-01 -2.03812403e-01\n",
      "  -8.80491436e-01  8.76546099e-02 -3.10298180e-01 -1.74823363e+00\n",
      "  -1.08267019e+00 -1.04967253e+00 -1.36865563e+00 -6.01659512e-01\n",
      "   8.13343557e-02 -3.81137953e-01 -1.12872717e+00 -1.80841637e+00\n",
      "  -4.48379445e-01 -8.43612341e-01 -1.73780228e+00 -4.34203437e-01\n",
      "   2.99301357e-01 -7.26892383e-01 -1.96792753e-01 -5.89905607e-01\n",
      "  -1.33383828e+00 -1.57925188e+00 -5.89138622e-01 -3.06129300e-01\n",
      "  -9.01485931e-01 -1.93201054e-01 -5.53861829e-01 -1.27421907e+00\n",
      "  -1.35523959e+00 -3.61176242e-01 -1.79641504e+00  8.93510660e-01\n",
      "  -1.50204333e+00 -7.24803385e-02 -4.24439772e-02 -7.37959169e-01\n",
      "  -3.99898453e-01 -8.42408205e-01  8.21802290e-02 -9.73546446e-01\n",
      "  -1.74853145e+00  1.78183272e-01 -1.69203311e-01 -4.89969480e-01\n",
      "  -1.26937477e+00  4.18065591e-01 -3.50233384e-01 -1.09253564e+00\n",
      "  -1.67074438e+00 -1.30557399e+00  4.78341634e-01 -8.84514630e-01\n",
      "  -1.26026383e+00  1.76342175e-01 -9.69858398e-01 -2.02878449e+00\n",
      "  -1.30664231e+00 -1.13022297e+00 -2.40090457e-01 -1.25743624e+00\n",
      "  -2.23640333e+00 -6.18034771e-02 -9.58038210e-01 -1.56791718e+00\n",
      "  -1.19213131e+00 -3.58695065e-01 -1.39801204e+00 -3.11711854e-01]].\n"
     ]
    }
   ],
   "source": [
    "ReportBest(Accuracy_train_Sub_fine,Accuracy_Sub_fine,C_Sub_fine,Coef_Sub_fine)"
   ]
  },
  {
   "cell_type": "markdown",
   "metadata": {},
   "source": [
    "Now, let's try one hot encoding both: "
   ]
  },
  {
   "cell_type": "code",
   "execution_count": 22,
   "metadata": {
    "scrolled": false
   },
   "outputs": [
    {
     "name": "stderr",
     "output_type": "stream",
     "text": [
      "/Users/glinn/anaconda3/lib/python3.6/site-packages/sklearn/linear_model/logistic.py:432: FutureWarning: Default solver will be changed to 'lbfgs' in 0.22. Specify a solver to silence this warning.\n",
      "  FutureWarning)\n",
      "/Users/glinn/anaconda3/lib/python3.6/site-packages/sklearn/utils/validation.py:724: DataConversionWarning: A column-vector y was passed when a 1d array was expected. Please change the shape of y to (n_samples, ), for example using ravel().\n",
      "  y = column_or_1d(y, warn=True)\n",
      "/Users/glinn/anaconda3/lib/python3.6/site-packages/sklearn/linear_model/logistic.py:1544: UserWarning: 'n_jobs' > 1 does not have any effect when 'solver' is set to 'liblinear'. Got 'n_jobs' = 8.\n",
      "  \" = {}.\".format(effective_n_jobs(self.n_jobs)))\n",
      "/Users/glinn/anaconda3/lib/python3.6/site-packages/sklearn/linear_model/logistic.py:432: FutureWarning: Default solver will be changed to 'lbfgs' in 0.22. Specify a solver to silence this warning.\n",
      "  FutureWarning)\n",
      "/Users/glinn/anaconda3/lib/python3.6/site-packages/sklearn/utils/validation.py:724: DataConversionWarning: A column-vector y was passed when a 1d array was expected. Please change the shape of y to (n_samples, ), for example using ravel().\n",
      "  y = column_or_1d(y, warn=True)\n",
      "/Users/glinn/anaconda3/lib/python3.6/site-packages/sklearn/linear_model/logistic.py:1544: UserWarning: 'n_jobs' > 1 does not have any effect when 'solver' is set to 'liblinear'. Got 'n_jobs' = 8.\n",
      "  \" = {}.\".format(effective_n_jobs(self.n_jobs)))\n",
      "/Users/glinn/anaconda3/lib/python3.6/site-packages/sklearn/linear_model/logistic.py:432: FutureWarning: Default solver will be changed to 'lbfgs' in 0.22. Specify a solver to silence this warning.\n",
      "  FutureWarning)\n",
      "/Users/glinn/anaconda3/lib/python3.6/site-packages/sklearn/utils/validation.py:724: DataConversionWarning: A column-vector y was passed when a 1d array was expected. Please change the shape of y to (n_samples, ), for example using ravel().\n",
      "  y = column_or_1d(y, warn=True)\n",
      "/Users/glinn/anaconda3/lib/python3.6/site-packages/sklearn/linear_model/logistic.py:1544: UserWarning: 'n_jobs' > 1 does not have any effect when 'solver' is set to 'liblinear'. Got 'n_jobs' = 8.\n",
      "  \" = {}.\".format(effective_n_jobs(self.n_jobs)))\n",
      "/Users/glinn/anaconda3/lib/python3.6/site-packages/sklearn/linear_model/logistic.py:432: FutureWarning: Default solver will be changed to 'lbfgs' in 0.22. Specify a solver to silence this warning.\n",
      "  FutureWarning)\n",
      "/Users/glinn/anaconda3/lib/python3.6/site-packages/sklearn/utils/validation.py:724: DataConversionWarning: A column-vector y was passed when a 1d array was expected. Please change the shape of y to (n_samples, ), for example using ravel().\n",
      "  y = column_or_1d(y, warn=True)\n",
      "/Users/glinn/anaconda3/lib/python3.6/site-packages/sklearn/linear_model/logistic.py:1544: UserWarning: 'n_jobs' > 1 does not have any effect when 'solver' is set to 'liblinear'. Got 'n_jobs' = 8.\n",
      "  \" = {}.\".format(effective_n_jobs(self.n_jobs)))\n",
      "/Users/glinn/anaconda3/lib/python3.6/site-packages/sklearn/linear_model/logistic.py:432: FutureWarning: Default solver will be changed to 'lbfgs' in 0.22. Specify a solver to silence this warning.\n",
      "  FutureWarning)\n",
      "/Users/glinn/anaconda3/lib/python3.6/site-packages/sklearn/utils/validation.py:724: DataConversionWarning: A column-vector y was passed when a 1d array was expected. Please change the shape of y to (n_samples, ), for example using ravel().\n",
      "  y = column_or_1d(y, warn=True)\n",
      "/Users/glinn/anaconda3/lib/python3.6/site-packages/sklearn/linear_model/logistic.py:1544: UserWarning: 'n_jobs' > 1 does not have any effect when 'solver' is set to 'liblinear'. Got 'n_jobs' = 8.\n",
      "  \" = {}.\".format(effective_n_jobs(self.n_jobs)))\n",
      "/Users/glinn/anaconda3/lib/python3.6/site-packages/sklearn/linear_model/logistic.py:432: FutureWarning: Default solver will be changed to 'lbfgs' in 0.22. Specify a solver to silence this warning.\n",
      "  FutureWarning)\n",
      "/Users/glinn/anaconda3/lib/python3.6/site-packages/sklearn/utils/validation.py:724: DataConversionWarning: A column-vector y was passed when a 1d array was expected. Please change the shape of y to (n_samples, ), for example using ravel().\n",
      "  y = column_or_1d(y, warn=True)\n",
      "/Users/glinn/anaconda3/lib/python3.6/site-packages/sklearn/linear_model/logistic.py:1544: UserWarning: 'n_jobs' > 1 does not have any effect when 'solver' is set to 'liblinear'. Got 'n_jobs' = 8.\n",
      "  \" = {}.\".format(effective_n_jobs(self.n_jobs)))\n"
     ]
    },
    {
     "name": "stdout",
     "output_type": "stream",
     "text": [
      "The validation accuracy is [0.66143343 0.66585461 0.6661253  0.66600499 0.66594484 0.66618545].\n",
      "The training accuracy is [0.66709341 0.67207429 0.67201828 0.67204228 0.67205428 0.67205828].\n",
      "The best value for C is 5000.0\n",
      "And, the best model coefficients are [[-7.83952263e-09 -2.31196962e-01 -1.54598215e+01 -7.97026109e-03\n",
      "   4.69734677e-03  1.14204263e-02  2.80585248e-02  3.48420495e-02\n",
      "  -5.04147251e-01 -3.33195017e-02 -1.20493590e+00 -5.85418719e-01\n",
      "  -4.32505924e-01 -3.93327267e-01 -3.85692237e-01 -6.05588891e-01\n",
      "   9.22913293e-02 -6.37834811e-02 -3.38009788e-01 -5.26370581e-01\n",
      "  -6.51841245e-01 -7.62112604e-01  2.32049947e-01  1.08381535e-01\n",
      "  -1.08659467e+00 -7.33544216e-01 -1.29298140e+00 -1.19214441e+00\n",
      "  -7.96719532e-01  4.85654824e-01 -1.44143196e+00 -2.10641906e+00\n",
      "  -8.78903742e-01 -3.12277692e-01  2.90274989e-01 -1.30139545e+00\n",
      "  -1.31103684e+00 -3.48321297e-01 -3.32943535e-01  4.71586210e-01\n",
      "  -1.19836957e+00 -2.42474380e-01 -5.22948252e-01 -1.51435432e+00\n",
      "   1.16803427e+00 -4.87927547e-01  4.19846585e-01 -3.29924468e-01\n",
      "  -1.46967180e-04 -3.47889002e-01 -1.12928215e+00 -6.15762663e-01\n",
      "  -9.36720830e-01  3.46675416e-01 -1.70554584e+00 -4.59456062e-01\n",
      "  -4.77905968e-01 -1.07310691e+00  2.04841360e-01  7.86696764e-01\n",
      "  -4.75443530e-01 -9.82323523e-01 -3.92229267e-01 -2.88216556e-01\n",
      "  -7.88184389e-01 -8.78089889e-01 -1.13192193e+00 -1.39479670e+00\n",
      "  -7.29094558e-01 -2.87528937e-01 -4.29669629e-01 -1.39890292e+00\n",
      "  -5.02653351e-01 -1.48795614e+00 -8.66132010e-01 -1.13562538e+00\n",
      "  -3.48483726e-01 -9.69912442e-01 -5.90241250e-01 -5.02652521e-01\n",
      "  -7.41455489e-01 -6.95337138e-01 -1.67418295e+00 -6.19132819e-01\n",
      "  -2.27796375e-01 -1.44417465e+00 -1.37934106e+00 -2.34387376e-01\n",
      "  -5.53531050e-01 -1.64395321e-01  6.61663857e-02 -1.85288052e+00\n",
      "  -6.38438185e-01  1.96847931e-02 -2.75062684e-01  4.53844731e-01\n",
      "   4.04693503e-03 -1.31319157e+00  2.49457269e-01 -1.27356073e+00\n",
      "  -1.34421429e+00 -3.54547393e-01  6.96302846e-01 -1.03084475e+00\n",
      "   9.30759755e-01  9.05555163e-02  9.86073307e-01 -1.81347624e+00\n",
      "  -1.65043166e-01 -6.35883937e-01 -6.14994570e-01 -2.71020449e+00\n",
      "  -6.04782714e-01 -2.14972251e-01 -7.48444206e-01 -5.80989887e-01\n",
      "  -1.80177619e-01 -1.59538907e+00 -8.28719150e-01 -6.52508089e-01\n",
      "  -1.21515782e+00 -2.05116590e-01  4.85851944e-01 -1.26986511e-01\n",
      "  -9.63999559e-01 -2.06785109e+00 -2.97434090e-01 -6.90686166e-01\n",
      "  -1.58502894e+00 -8.28228604e-01 -3.69550665e-01 -4.75380002e-01\n",
      "  -2.08871291e-01  4.59601446e-01 -1.59364528e+00 -5.29477127e-01\n",
      "  -3.61698059e-01  9.02831960e-02 -6.47539755e-01 -2.05259706e-01\n",
      "  -9.46769143e-01 -2.23884466e-01 -1.36821404e+00 -1.07201805e-01\n",
      "  -1.63299774e+00  1.29921916e+00 -1.17637875e+00  2.66558618e-01\n",
      "  -5.41577088e-02 -6.07046809e-01 -2.68812377e-01 -4.46050182e-01\n",
      "   2.12841756e-01 -6.45786466e-01 -1.40888772e+00  5.17970554e-01\n",
      "   1.70615188e-01 -4.02007652e-01 -2.19265985e-01  2.35469056e-02\n",
      "   6.98410105e-01 -7.53576446e-01 -1.54067070e+00 -9.09989017e-01\n",
      "  -1.99579572e-01 -7.53702237e-01 -1.00618694e+00  4.04542540e-01\n",
      "  -6.41809128e-01 -2.29053998e+00 -9.11621325e-01 -1.52606017e+00\n",
      "   9.80190747e-02 -2.08792214e-01 -2.09079806e+00 -1.54420597e-01\n",
      "  -8.27318367e-01 -5.19628339e-01 -7.87415734e-01 -3.69418865e-01\n",
      "  -1.14623616e+00 -5.77875748e-02]].\n"
     ]
    }
   ],
   "source": [
    "C_Both=[0.01,1.0,10.0,100.0,1000.0,5000.0]\n",
    "Accuracy_Both,Accuracy_train_Both,Coef_Both = TuneParameters(pipeline_LogReg,C_Both,X_train_OneHot_Both,Y_train,X_valid_OneHot_Both,Y_valid)\n",
    "ReportFull(Accuracy_train_Both,Accuracy_Both,C_Both,Coef_Both)"
   ]
  },
  {
   "cell_type": "code",
   "execution_count": 23,
   "metadata": {},
   "outputs": [
    {
     "data": {
      "image/png": "[encoded data removed]",
      "text/plain": [
       "<Figure size 432x288 with 1 Axes>"
      ]
     },
     "metadata": {
      "needs_background": "light"
     },
     "output_type": "display_data"
    }
   ],
   "source": [
    "PlotBiasVariance(Accuracy_train_Both,Accuracy_Both,C_Both)\n",
    "plt.savefig('Figures/LogReg/BasicNamesDataSet/BiasVarianceOneHotBothCoarseTunedC.png')"
   ]
  },
  {
   "cell_type": "code",
   "execution_count": 24,
   "metadata": {},
   "outputs": [
    {
     "name": "stderr",
     "output_type": "stream",
     "text": [
      "/Users/glinn/anaconda3/lib/python3.6/site-packages/sklearn/linear_model/logistic.py:432: FutureWarning: Default solver will be changed to 'lbfgs' in 0.22. Specify a solver to silence this warning.\n",
      "  FutureWarning)\n",
      "/Users/glinn/anaconda3/lib/python3.6/site-packages/sklearn/utils/validation.py:724: DataConversionWarning: A column-vector y was passed when a 1d array was expected. Please change the shape of y to (n_samples, ), for example using ravel().\n",
      "  y = column_or_1d(y, warn=True)\n",
      "/Users/glinn/anaconda3/lib/python3.6/site-packages/sklearn/linear_model/logistic.py:1544: UserWarning: 'n_jobs' > 1 does not have any effect when 'solver' is set to 'liblinear'. Got 'n_jobs' = 8.\n",
      "  \" = {}.\".format(effective_n_jobs(self.n_jobs)))\n",
      "/Users/glinn/anaconda3/lib/python3.6/site-packages/sklearn/linear_model/logistic.py:432: FutureWarning: Default solver will be changed to 'lbfgs' in 0.22. Specify a solver to silence this warning.\n",
      "  FutureWarning)\n",
      "/Users/glinn/anaconda3/lib/python3.6/site-packages/sklearn/utils/validation.py:724: DataConversionWarning: A column-vector y was passed when a 1d array was expected. Please change the shape of y to (n_samples, ), for example using ravel().\n",
      "  y = column_or_1d(y, warn=True)\n",
      "/Users/glinn/anaconda3/lib/python3.6/site-packages/sklearn/linear_model/logistic.py:1544: UserWarning: 'n_jobs' > 1 does not have any effect when 'solver' is set to 'liblinear'. Got 'n_jobs' = 8.\n",
      "  \" = {}.\".format(effective_n_jobs(self.n_jobs)))\n",
      "/Users/glinn/anaconda3/lib/python3.6/site-packages/sklearn/linear_model/logistic.py:432: FutureWarning: Default solver will be changed to 'lbfgs' in 0.22. Specify a solver to silence this warning.\n",
      "  FutureWarning)\n",
      "/Users/glinn/anaconda3/lib/python3.6/site-packages/sklearn/utils/validation.py:724: DataConversionWarning: A column-vector y was passed when a 1d array was expected. Please change the shape of y to (n_samples, ), for example using ravel().\n",
      "  y = column_or_1d(y, warn=True)\n",
      "/Users/glinn/anaconda3/lib/python3.6/site-packages/sklearn/linear_model/logistic.py:1544: UserWarning: 'n_jobs' > 1 does not have any effect when 'solver' is set to 'liblinear'. Got 'n_jobs' = 8.\n",
      "  \" = {}.\".format(effective_n_jobs(self.n_jobs)))\n",
      "/Users/glinn/anaconda3/lib/python3.6/site-packages/sklearn/linear_model/logistic.py:432: FutureWarning: Default solver will be changed to 'lbfgs' in 0.22. Specify a solver to silence this warning.\n",
      "  FutureWarning)\n",
      "/Users/glinn/anaconda3/lib/python3.6/site-packages/sklearn/utils/validation.py:724: DataConversionWarning: A column-vector y was passed when a 1d array was expected. Please change the shape of y to (n_samples, ), for example using ravel().\n",
      "  y = column_or_1d(y, warn=True)\n",
      "/Users/glinn/anaconda3/lib/python3.6/site-packages/sklearn/linear_model/logistic.py:1544: UserWarning: 'n_jobs' > 1 does not have any effect when 'solver' is set to 'liblinear'. Got 'n_jobs' = 8.\n",
      "  \" = {}.\".format(effective_n_jobs(self.n_jobs)))\n",
      "/Users/glinn/anaconda3/lib/python3.6/site-packages/sklearn/linear_model/logistic.py:432: FutureWarning: Default solver will be changed to 'lbfgs' in 0.22. Specify a solver to silence this warning.\n",
      "  FutureWarning)\n",
      "/Users/glinn/anaconda3/lib/python3.6/site-packages/sklearn/utils/validation.py:724: DataConversionWarning: A column-vector y was passed when a 1d array was expected. Please change the shape of y to (n_samples, ), for example using ravel().\n",
      "  y = column_or_1d(y, warn=True)\n",
      "/Users/glinn/anaconda3/lib/python3.6/site-packages/sklearn/linear_model/logistic.py:1544: UserWarning: 'n_jobs' > 1 does not have any effect when 'solver' is set to 'liblinear'. Got 'n_jobs' = 8.\n",
      "  \" = {}.\".format(effective_n_jobs(self.n_jobs)))\n",
      "/Users/glinn/anaconda3/lib/python3.6/site-packages/sklearn/linear_model/logistic.py:432: FutureWarning: Default solver will be changed to 'lbfgs' in 0.22. Specify a solver to silence this warning.\n",
      "  FutureWarning)\n",
      "/Users/glinn/anaconda3/lib/python3.6/site-packages/sklearn/utils/validation.py:724: DataConversionWarning: A column-vector y was passed when a 1d array was expected. Please change the shape of y to (n_samples, ), for example using ravel().\n",
      "  y = column_or_1d(y, warn=True)\n",
      "/Users/glinn/anaconda3/lib/python3.6/site-packages/sklearn/linear_model/logistic.py:1544: UserWarning: 'n_jobs' > 1 does not have any effect when 'solver' is set to 'liblinear'. Got 'n_jobs' = 8.\n",
      "  \" = {}.\".format(effective_n_jobs(self.n_jobs)))\n",
      "/Users/glinn/anaconda3/lib/python3.6/site-packages/sklearn/linear_model/logistic.py:432: FutureWarning: Default solver will be changed to 'lbfgs' in 0.22. Specify a solver to silence this warning.\n",
      "  FutureWarning)\n",
      "/Users/glinn/anaconda3/lib/python3.6/site-packages/sklearn/utils/validation.py:724: DataConversionWarning: A column-vector y was passed when a 1d array was expected. Please change the shape of y to (n_samples, ), for example using ravel().\n",
      "  y = column_or_1d(y, warn=True)\n",
      "/Users/glinn/anaconda3/lib/python3.6/site-packages/sklearn/linear_model/logistic.py:1544: UserWarning: 'n_jobs' > 1 does not have any effect when 'solver' is set to 'liblinear'. Got 'n_jobs' = 8.\n",
      "  \" = {}.\".format(effective_n_jobs(self.n_jobs)))\n",
      "/Users/glinn/anaconda3/lib/python3.6/site-packages/sklearn/linear_model/logistic.py:432: FutureWarning: Default solver will be changed to 'lbfgs' in 0.22. Specify a solver to silence this warning.\n",
      "  FutureWarning)\n",
      "/Users/glinn/anaconda3/lib/python3.6/site-packages/sklearn/utils/validation.py:724: DataConversionWarning: A column-vector y was passed when a 1d array was expected. Please change the shape of y to (n_samples, ), for example using ravel().\n",
      "  y = column_or_1d(y, warn=True)\n",
      "/Users/glinn/anaconda3/lib/python3.6/site-packages/sklearn/linear_model/logistic.py:1544: UserWarning: 'n_jobs' > 1 does not have any effect when 'solver' is set to 'liblinear'. Got 'n_jobs' = 8.\n",
      "  \" = {}.\".format(effective_n_jobs(self.n_jobs)))\n",
      "/Users/glinn/anaconda3/lib/python3.6/site-packages/sklearn/linear_model/logistic.py:432: FutureWarning: Default solver will be changed to 'lbfgs' in 0.22. Specify a solver to silence this warning.\n",
      "  FutureWarning)\n",
      "/Users/glinn/anaconda3/lib/python3.6/site-packages/sklearn/utils/validation.py:724: DataConversionWarning: A column-vector y was passed when a 1d array was expected. Please change the shape of y to (n_samples, ), for example using ravel().\n",
      "  y = column_or_1d(y, warn=True)\n",
      "/Users/glinn/anaconda3/lib/python3.6/site-packages/sklearn/linear_model/logistic.py:1544: UserWarning: 'n_jobs' > 1 does not have any effect when 'solver' is set to 'liblinear'. Got 'n_jobs' = 8.\n",
      "  \" = {}.\".format(effective_n_jobs(self.n_jobs)))\n",
      "/Users/glinn/anaconda3/lib/python3.6/site-packages/sklearn/linear_model/logistic.py:432: FutureWarning: Default solver will be changed to 'lbfgs' in 0.22. Specify a solver to silence this warning.\n",
      "  FutureWarning)\n",
      "/Users/glinn/anaconda3/lib/python3.6/site-packages/sklearn/utils/validation.py:724: DataConversionWarning: A column-vector y was passed when a 1d array was expected. Please change the shape of y to (n_samples, ), for example using ravel().\n",
      "  y = column_or_1d(y, warn=True)\n",
      "/Users/glinn/anaconda3/lib/python3.6/site-packages/sklearn/linear_model/logistic.py:1544: UserWarning: 'n_jobs' > 1 does not have any effect when 'solver' is set to 'liblinear'. Got 'n_jobs' = 8.\n",
      "  \" = {}.\".format(effective_n_jobs(self.n_jobs)))\n"
     ]
    },
    {
     "name": "stdout",
     "output_type": "stream",
     "text": [
      "The best validation accuracy is 0.6662756774639839.\n",
      "The best training accuracy is 0.672186304789643.\n",
      "The best value for C is 6.033333333333333\n",
      "And, the best model coefficients are [[-9.18553535e-09 -2.31179819e-01 -1.54795326e+01 -7.91639097e-03\n",
      "   4.78266196e-03  1.15433734e-02  2.79947041e-02  3.40376314e-02\n",
      "  -3.90934826e-01 -8.65137607e-02 -1.35384389e+00 -4.75561065e-01\n",
      "  -3.72966637e-01 -3.88305381e-01 -3.59525727e-01 -6.42137621e-01\n",
      "  -8.86951842e-02 -3.95604233e-01 -1.77008552e-01 -8.28361848e-01\n",
      "  -7.79020636e-01 -1.09149861e+00  3.51663479e-01  3.89288855e-01\n",
      "  -1.00491451e+00 -7.84269751e-01 -1.36287082e+00 -9.31239914e-01\n",
      "  -8.68035363e-01  5.31995467e-01 -1.49214522e+00 -1.82200880e+00\n",
      "  -9.85492217e-01 -4.71223996e-01  3.70132047e-01 -1.01415458e+00\n",
      "  -1.31320509e+00 -5.53134045e-01 -2.50324829e-01  7.53282972e-01\n",
      "  -1.09212770e+00 -3.99087150e-01 -4.43733809e-01 -1.56297776e+00\n",
      "   9.09939373e-01 -5.92374526e-01  2.10186498e-01 -4.02065847e-01\n",
      "   0.00000000e+00 -3.38207645e-01 -1.13439701e+00 -7.74362202e-01\n",
      "  -9.44654664e-01  1.37456416e-01 -1.75044485e+00 -3.57598351e-01\n",
      "  -3.68837252e-01 -9.69354043e-01  4.85811478e-01  6.28642801e-01\n",
      "  -5.82781372e-01 -1.14219497e+00 -4.65913767e-01 -3.59957416e-01\n",
      "  -7.97188081e-01 -1.08490483e+00 -1.01522100e+00 -1.39845427e+00\n",
      "  -8.40280290e-01  0.00000000e+00 -6.36647732e-01 -1.46586474e+00\n",
      "  -5.71207945e-01 -1.49389153e+00 -8.75843698e-01 -1.18726385e+00\n",
      "  -4.79748078e-01 -8.89517548e-01 -6.61950065e-01 -2.45394318e-01\n",
      "  -4.54595810e-01 -7.04435127e-01 -1.68226875e+00 -6.69621676e-01\n",
      "   5.46035064e-02 -1.30998246e+00 -1.24151772e+00 -1.25571010e-01\n",
      "  -6.59797802e-01 -1.57109183e-01  3.48580417e-01 -2.05961791e+00\n",
      "  -7.10445054e-01 -1.40782981e-01 -4.37542367e-01  2.46089713e-01\n",
      "  -1.54555901e-01 -1.41667813e+00  4.07132445e-02 -1.32476769e+00\n",
      "  -1.06049264e+00 -5.59136289e-01  7.91820306e-01 -1.22986103e+00\n",
      "   1.00659428e+00  1.67479213e-01  1.01719045e+00 -1.67728356e+00\n",
      "   1.12604659e-01 -8.42365103e-01 -7.74148971e-01 -2.57354883e+00\n",
      "  -6.71174721e-01 -4.22987023e-01 -8.19305399e-01 -7.55488543e-01\n",
      "  -2.51719429e-01 -1.33750721e+00 -7.48253729e-01 -8.12727083e-01\n",
      "  -9.58845931e-01 -3.64510018e-01  3.28543622e-01 -4.68583547e-02\n",
      "  -1.00764943e+00 -1.77609498e+00 -4.05424993e-02 -4.35209706e-01\n",
      "  -1.32761252e+00 -6.93428719e-01 -5.45183483e-01 -3.91749284e-01\n",
      "  -4.17107797e-01  5.51069691e-01 -1.30815853e+00 -4.22293183e-01\n",
      "  -4.67912751e-01 -6.92521467e-02 -5.68460565e-01 -4.09963441e-01\n",
      "  -8.08832734e-01 -1.09338417e-01 -1.57220924e+00 -2.60154432e-02\n",
      "  -1.68201978e+00  1.12169570e+00 -1.18437869e+00  5.47127490e-01\n",
      "  -2.62119644e-01 -6.72526897e-01 -3.39981612e-01 -6.05256696e-01\n",
      "   1.40875305e-01 -6.54393649e-01 -1.12601941e+00  7.99139064e-01\n",
      "   4.49013886e-01 -4.89372532e-01 -1.12737143e-01  1.58054351e-01\n",
      "   7.02045100e-01 -4.70416335e-01 -1.61011605e+00 -1.06533197e+00\n",
      "  -3.66710099e-01 -8.24166890e-01 -9.19156615e-01  2.88239903e-01\n",
      "  -6.50155008e-01 -2.00079315e+00 -1.06403791e+00 -1.39083955e+00\n",
      "   3.79949033e-01 -9.29407912e-02 -1.80691923e+00 -1.50276688e-01\n",
      "  -8.98603226e-01 -4.16319134e-01 -9.36709604e-01 -5.77785908e-01\n",
      "  -1.06219062e+00  2.03073036e-02]].\n"
     ]
    }
   ],
   "source": [
    "C_Both_fine=np.linspace(0.1,9.0,10)\n",
    "Accuracy_Both_fine,Accuracy_train_Both_fine,Coef_Both_fine = TuneParameters(pipeline_LogReg,C_Both_fine,X_train_OneHot_Both,Y_train,X_valid_OneHot_Both,Y_valid)\n",
    "ReportBest(Accuracy_train_Both_fine,Accuracy_Both_fine,C_Both_fine,Coef_Both_fine)"
   ]
  },
  {
   "cell_type": "code",
   "execution_count": 25,
   "metadata": {},
   "outputs": [
    {
     "data": {
      "image/png": "[encoded data removed]",
      "text/plain": [
       "<Figure size 432x288 with 1 Axes>"
      ]
     },
     "metadata": {
      "needs_background": "light"
     },
     "output_type": "display_data"
    }
   ],
   "source": [
    "PlotBiasVariance(Accuracy_train_Both_fine,Accuracy_Both_fine,C_Both_fine)\n",
    "plt.savefig('Figures/LogReg/BasicNamesDataSet/BiasVarianceOneHotBothFineTunedC.png')"
   ]
  },
  {
   "cell_type": "markdown",
   "metadata": {},
   "source": [
    "Okay, so in the end, our best result after tuning the complexity of our model is:"
   ]
  },
  {
   "cell_type": "code",
   "execution_count": 26,
   "metadata": {},
   "outputs": [
    {
     "name": "stdout",
     "output_type": "stream",
     "text": [
      "The best validation accuracy is 0.6662756774639839.\n",
      "The best training accuracy is 0.672186304789643.\n",
      "The best value for C is 6.033333333333333\n",
      "And, the best model coefficients are [[-9.18553535e-09 -2.31179819e-01 -1.54795326e+01 -7.91639097e-03\n",
      "   4.78266196e-03  1.15433734e-02  2.79947041e-02  3.40376314e-02\n",
      "  -3.90934826e-01 -8.65137607e-02 -1.35384389e+00 -4.75561065e-01\n",
      "  -3.72966637e-01 -3.88305381e-01 -3.59525727e-01 -6.42137621e-01\n",
      "  -8.86951842e-02 -3.95604233e-01 -1.77008552e-01 -8.28361848e-01\n",
      "  -7.79020636e-01 -1.09149861e+00  3.51663479e-01  3.89288855e-01\n",
      "  -1.00491451e+00 -7.84269751e-01 -1.36287082e+00 -9.31239914e-01\n",
      "  -8.68035363e-01  5.31995467e-01 -1.49214522e+00 -1.82200880e+00\n",
      "  -9.85492217e-01 -4.71223996e-01  3.70132047e-01 -1.01415458e+00\n",
      "  -1.31320509e+00 -5.53134045e-01 -2.50324829e-01  7.53282972e-01\n",
      "  -1.09212770e+00 -3.99087150e-01 -4.43733809e-01 -1.56297776e+00\n",
      "   9.09939373e-01 -5.92374526e-01  2.10186498e-01 -4.02065847e-01\n",
      "   0.00000000e+00 -3.38207645e-01 -1.13439701e+00 -7.74362202e-01\n",
      "  -9.44654664e-01  1.37456416e-01 -1.75044485e+00 -3.57598351e-01\n",
      "  -3.68837252e-01 -9.69354043e-01  4.85811478e-01  6.28642801e-01\n",
      "  -5.82781372e-01 -1.14219497e+00 -4.65913767e-01 -3.59957416e-01\n",
      "  -7.97188081e-01 -1.08490483e+00 -1.01522100e+00 -1.39845427e+00\n",
      "  -8.40280290e-01  0.00000000e+00 -6.36647732e-01 -1.46586474e+00\n",
      "  -5.71207945e-01 -1.49389153e+00 -8.75843698e-01 -1.18726385e+00\n",
      "  -4.79748078e-01 -8.89517548e-01 -6.61950065e-01 -2.45394318e-01\n",
      "  -4.54595810e-01 -7.04435127e-01 -1.68226875e+00 -6.69621676e-01\n",
      "   5.46035064e-02 -1.30998246e+00 -1.24151772e+00 -1.25571010e-01\n",
      "  -6.59797802e-01 -1.57109183e-01  3.48580417e-01 -2.05961791e+00\n",
      "  -7.10445054e-01 -1.40782981e-01 -4.37542367e-01  2.46089713e-01\n",
      "  -1.54555901e-01 -1.41667813e+00  4.07132445e-02 -1.32476769e+00\n",
      "  -1.06049264e+00 -5.59136289e-01  7.91820306e-01 -1.22986103e+00\n",
      "   1.00659428e+00  1.67479213e-01  1.01719045e+00 -1.67728356e+00\n",
      "   1.12604659e-01 -8.42365103e-01 -7.74148971e-01 -2.57354883e+00\n",
      "  -6.71174721e-01 -4.22987023e-01 -8.19305399e-01 -7.55488543e-01\n",
      "  -2.51719429e-01 -1.33750721e+00 -7.48253729e-01 -8.12727083e-01\n",
      "  -9.58845931e-01 -3.64510018e-01  3.28543622e-01 -4.68583547e-02\n",
      "  -1.00764943e+00 -1.77609498e+00 -4.05424993e-02 -4.35209706e-01\n",
      "  -1.32761252e+00 -6.93428719e-01 -5.45183483e-01 -3.91749284e-01\n",
      "  -4.17107797e-01  5.51069691e-01 -1.30815853e+00 -4.22293183e-01\n",
      "  -4.67912751e-01 -6.92521467e-02 -5.68460565e-01 -4.09963441e-01\n",
      "  -8.08832734e-01 -1.09338417e-01 -1.57220924e+00 -2.60154432e-02\n",
      "  -1.68201978e+00  1.12169570e+00 -1.18437869e+00  5.47127490e-01\n",
      "  -2.62119644e-01 -6.72526897e-01 -3.39981612e-01 -6.05256696e-01\n",
      "   1.40875305e-01 -6.54393649e-01 -1.12601941e+00  7.99139064e-01\n",
      "   4.49013886e-01 -4.89372532e-01 -1.12737143e-01  1.58054351e-01\n",
      "   7.02045100e-01 -4.70416335e-01 -1.61011605e+00 -1.06533197e+00\n",
      "  -3.66710099e-01 -8.24166890e-01 -9.19156615e-01  2.88239903e-01\n",
      "  -6.50155008e-01 -2.00079315e+00 -1.06403791e+00 -1.39083955e+00\n",
      "   3.79949033e-01 -9.29407912e-02 -1.80691923e+00 -1.50276688e-01\n",
      "  -8.98603226e-01 -4.16319134e-01 -9.36709604e-01 -5.77785908e-01\n",
      "  -1.06219062e+00  2.03073036e-02]].\n"
     ]
    }
   ],
   "source": [
    "ReportBest(Accuracy_train_Both_fine,Accuracy_Both_fine,C_Both_fine,Coef_Both_fine)"
   ]
  },
  {
   "cell_type": "markdown",
   "metadata": {},
   "source": [
    "# What was the best dataset? One hot encoding good or bad?"
   ]
  },
  {
   "cell_type": "code",
   "execution_count": 27,
   "metadata": {},
   "outputs": [
    {
     "data": {
      "image/png": "[encoded data removed]",
      "text/plain": [
       "<Figure size 432x288 with 1 Axes>"
      ]
     },
     "metadata": {
      "needs_background": "light"
     },
     "output_type": "display_data"
    }
   ],
   "source": [
    "plt.bar([\"Ordinal\",\"1 Hot Main-Cat\",\"1 Hot Sub-Cat\",\"1 Hot Both-Cats\"],[np.amax(Accuracy_fine),np.amax(Accuracy_Main_fine),np.amax(Accuracy_Sub_fine),np.amax(np.amax(Accuracy_Both_fine))])\n",
    "plt.ylabel(\"Accuracy\")\n",
    "plt.title(\"Accuracy of ordinally encoded categories vs. one hot encoded\")\n",
    "plt.savefig('Figures/LogReg/BasicNamesDataSet/BarChartVariousCatEncodings.png')"
   ]
  },
  {
   "cell_type": "markdown",
   "metadata": {},
   "source": [
    "We find in the end that the best dataset is one hot encoding both the main and the sub categories. Below is the report of the best overall model on the best dataset: "
   ]
  },
  {
   "cell_type": "code",
   "execution_count": 28,
   "metadata": {},
   "outputs": [
    {
     "name": "stdout",
     "output_type": "stream",
     "text": [
      "The best validation accuracy is 0.6662756774639839.\n",
      "The best training accuracy is 0.672186304789643.\n",
      "The best value for C is 6.033333333333333\n",
      "And, the best model coefficients are [[-9.18553535e-09 -2.31179819e-01 -1.54795326e+01 -7.91639097e-03\n",
      "   4.78266196e-03  1.15433734e-02  2.79947041e-02  3.40376314e-02\n",
      "  -3.90934826e-01 -8.65137607e-02 -1.35384389e+00 -4.75561065e-01\n",
      "  -3.72966637e-01 -3.88305381e-01 -3.59525727e-01 -6.42137621e-01\n",
      "  -8.86951842e-02 -3.95604233e-01 -1.77008552e-01 -8.28361848e-01\n",
      "  -7.79020636e-01 -1.09149861e+00  3.51663479e-01  3.89288855e-01\n",
      "  -1.00491451e+00 -7.84269751e-01 -1.36287082e+00 -9.31239914e-01\n",
      "  -8.68035363e-01  5.31995467e-01 -1.49214522e+00 -1.82200880e+00\n",
      "  -9.85492217e-01 -4.71223996e-01  3.70132047e-01 -1.01415458e+00\n",
      "  -1.31320509e+00 -5.53134045e-01 -2.50324829e-01  7.53282972e-01\n",
      "  -1.09212770e+00 -3.99087150e-01 -4.43733809e-01 -1.56297776e+00\n",
      "   9.09939373e-01 -5.92374526e-01  2.10186498e-01 -4.02065847e-01\n",
      "   0.00000000e+00 -3.38207645e-01 -1.13439701e+00 -7.74362202e-01\n",
      "  -9.44654664e-01  1.37456416e-01 -1.75044485e+00 -3.57598351e-01\n",
      "  -3.68837252e-01 -9.69354043e-01  4.85811478e-01  6.28642801e-01\n",
      "  -5.82781372e-01 -1.14219497e+00 -4.65913767e-01 -3.59957416e-01\n",
      "  -7.97188081e-01 -1.08490483e+00 -1.01522100e+00 -1.39845427e+00\n",
      "  -8.40280290e-01  0.00000000e+00 -6.36647732e-01 -1.46586474e+00\n",
      "  -5.71207945e-01 -1.49389153e+00 -8.75843698e-01 -1.18726385e+00\n",
      "  -4.79748078e-01 -8.89517548e-01 -6.61950065e-01 -2.45394318e-01\n",
      "  -4.54595810e-01 -7.04435127e-01 -1.68226875e+00 -6.69621676e-01\n",
      "   5.46035064e-02 -1.30998246e+00 -1.24151772e+00 -1.25571010e-01\n",
      "  -6.59797802e-01 -1.57109183e-01  3.48580417e-01 -2.05961791e+00\n",
      "  -7.10445054e-01 -1.40782981e-01 -4.37542367e-01  2.46089713e-01\n",
      "  -1.54555901e-01 -1.41667813e+00  4.07132445e-02 -1.32476769e+00\n",
      "  -1.06049264e+00 -5.59136289e-01  7.91820306e-01 -1.22986103e+00\n",
      "   1.00659428e+00  1.67479213e-01  1.01719045e+00 -1.67728356e+00\n",
      "   1.12604659e-01 -8.42365103e-01 -7.74148971e-01 -2.57354883e+00\n",
      "  -6.71174721e-01 -4.22987023e-01 -8.19305399e-01 -7.55488543e-01\n",
      "  -2.51719429e-01 -1.33750721e+00 -7.48253729e-01 -8.12727083e-01\n",
      "  -9.58845931e-01 -3.64510018e-01  3.28543622e-01 -4.68583547e-02\n",
      "  -1.00764943e+00 -1.77609498e+00 -4.05424993e-02 -4.35209706e-01\n",
      "  -1.32761252e+00 -6.93428719e-01 -5.45183483e-01 -3.91749284e-01\n",
      "  -4.17107797e-01  5.51069691e-01 -1.30815853e+00 -4.22293183e-01\n",
      "  -4.67912751e-01 -6.92521467e-02 -5.68460565e-01 -4.09963441e-01\n",
      "  -8.08832734e-01 -1.09338417e-01 -1.57220924e+00 -2.60154432e-02\n",
      "  -1.68201978e+00  1.12169570e+00 -1.18437869e+00  5.47127490e-01\n",
      "  -2.62119644e-01 -6.72526897e-01 -3.39981612e-01 -6.05256696e-01\n",
      "   1.40875305e-01 -6.54393649e-01 -1.12601941e+00  7.99139064e-01\n",
      "   4.49013886e-01 -4.89372532e-01 -1.12737143e-01  1.58054351e-01\n",
      "   7.02045100e-01 -4.70416335e-01 -1.61011605e+00 -1.06533197e+00\n",
      "  -3.66710099e-01 -8.24166890e-01 -9.19156615e-01  2.88239903e-01\n",
      "  -6.50155008e-01 -2.00079315e+00 -1.06403791e+00 -1.39083955e+00\n",
      "   3.79949033e-01 -9.29407912e-02 -1.80691923e+00 -1.50276688e-01\n",
      "  -8.98603226e-01 -4.16319134e-01 -9.36709604e-01 -5.77785908e-01\n",
      "  -1.06219062e+00  2.03073036e-02]].\n"
     ]
    }
   ],
   "source": [
    "ReportBest(Accuracy_train_Both_fine,Accuracy_Both_fine,C_Both_fine,Coef_Both_fine)"
   ]
  },
  {
   "cell_type": "code",
   "execution_count": 29,
   "metadata": {},
   "outputs": [],
   "source": [
    "X_valid_df=X_valid_df.drop(columns=[\"Unnamed: 0\"])\n",
    "X_valid_OneHotBoth_df = pd.get_dummies(X_valid_df,columns = [\"main_category\",\"category\"])"
   ]
  },
  {
   "cell_type": "code",
   "execution_count": 30,
   "metadata": {},
   "outputs": [
    {
     "name": "stdout",
     "output_type": "stream",
     "text": [
      "The most negatively linearly correlated feature is usd_goal_real.\n",
      "The most positively linearly correlated feature is category_122.\n"
     ]
    }
   ],
   "source": [
    "print(f\"The most negatively linearly correlated feature is {X_valid_OneHotBoth_df.columns[np.argmin(Coef_Both_fine)]}.\")\n",
    "print(f\"The most positively linearly correlated feature is {X_valid_OneHotBoth_df.columns[np.argmax(Coef_Both_fine)]}.\")"
   ]
  },
  {
   "cell_type": "code",
   "execution_count": 31,
   "metadata": {},
   "outputs": [],
   "source": [
    "np.savetxt(\"Figures/LogReg/BasicNamesDataSet/CoefficientsBothOneHot\",Coef_Both_fine, delimiter=\",\")"
   ]
  }
 ],
 "metadata": {
  "kernelspec": {
   "display_name": "Python 3",
   "language": "python",
   "name": "python3"
  },
  "language_info": {
   "codemirror_mode": {
    "name": "ipython",
    "version": 3
   },
   "file_extension": ".py",
   "mimetype": "text/x-python",
   "name": "python",
   "nbconvert_exporter": "python",
   "pygments_lexer": "ipython3",
   "version": "3.6.9"
  }
 },
 "nbformat": 4,
 "nbformat_minor": 2
}
