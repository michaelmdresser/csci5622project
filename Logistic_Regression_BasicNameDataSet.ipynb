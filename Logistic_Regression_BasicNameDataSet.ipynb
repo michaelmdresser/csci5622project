{
 "cells": [
  {
   "cell_type": "code",
   "execution_count": 1,
   "metadata": {},
   "outputs": [],
   "source": [
    "# Load Necessary Libraries\n",
    "import numpy as np\n",
    "import pandas as pd\n",
    "import matplotlib.pyplot as plt\n",
    "import datetime\n",
    "import os\n",
    "\n",
    "from sklearn.linear_model import LogisticRegression\n",
    "from sklearn.pipeline import make_pipeline\n",
    "from sklearn.model_selection import GridSearchCV\n",
    "from sklearn.model_selection import KFold\n",
    "from sklearn.metrics import accuracy_score\n",
    "\n",
    "\n",
    "#Set Working Directory\n",
    "os.chdir(r\"/Users/glinn/Documents/CSCI5622-machine-learning/project/csci5622project\")"
   ]
  },
  {
   "cell_type": "code",
   "execution_count": 2,
   "metadata": {},
   "outputs": [],
   "source": [
    "def TurnDfXIntoArray(df):\n",
    "    df=df.drop(columns=[\"Unnamed: 0\"])\n",
    "    array = np.array(df)\n",
    "    return array\n",
    "def TurnDfYIntoVector(df):\n",
    "    array = np.array(df,dtype=int)\n",
    "    return array\n",
    "def TuneParameters(Model,C,X_train,Y_train,X_valid,Y_valid):\n",
    "    accuracy = []\n",
    "    accuracy_train = []\n",
    "    best_accuracy = 0.0\n",
    "    for i in range(len(C)):\n",
    "        Model.set_params(C=C[i])\n",
    "        Model.fit(X_train,Y_train)\n",
    "        yhat = Model.predict(X_valid)\n",
    "        accuracy.append(accuracy_score(Y_valid,yhat))\n",
    "        yhat_train = Model.predict(X_train)\n",
    "        accuracy_train.append(accuracy_score(Y_train,yhat_train))\n",
    "        if accuracy[i]>best_accuracy:\n",
    "            best_accuracy = accuracy[i]\n",
    "            Coef = Model.coef_\n",
    "    accuracy = np.array(accuracy)\n",
    "    accuracy_train = np.array(accuracy_train)\n",
    "    return accuracy, accuracy_train, Coef\n",
    "def OneHotEncodeCategory(df,CategoryHeader):\n",
    "    df = pd.get_dummies(df,columns = CategoryHeader)\n",
    "    array = TurnDfXIntoArray(df)\n",
    "    return array\n",
    "\n",
    "def PlotBiasVariance(accuracy_train,accuracy_valid,C):\n",
    "    plt.plot(C,1-accuracy_train,'b')\n",
    "    plt.plot(C,1-accuracy_valid,'r')\n",
    "    plt.title(\"Error vs. Complexity (Regularization parameter, C)\")\n",
    "    plt.xlabel(\"Model Complexity ~ C\")\n",
    "    plt.ylabel(\"1-accuracy\")\n",
    "    plt.legend([\"Training 1-Accuracy\",\"Validation 1-Accuracy\"])\n",
    "\n",
    "def ReportBest(accuracy_train,accuracy_valid,C,Coef):\n",
    "    print(f\"The best validation accuracy is {np.amax(accuracy_valid)}.\")\n",
    "    print(f\"The best training accuracy is {np.amax(accuracy_train)}.\")\n",
    "    print(f\"The best value for C is {C[np.argmax(accuracy_valid)]}\")\n",
    "    print(f\"And, the best model coefficients are {Coef}.\")\n",
    "\n",
    "def ReportFull(accuracy_train,accuracy_valid,C,Coef):\n",
    "    print(f\"The validation accuracy is {accuracy_valid}.\")\n",
    "    print(f\"The training accuracy is {accuracy_train}.\")\n",
    "    print(f\"The best value for C is {C[np.argmax(accuracy_valid)]}\")\n",
    "    print(f\"And, the best model coefficients are {Coef}.\")"
   ]
  },
  {
   "cell_type": "markdown",
   "metadata": {},
   "source": [
    "Import the Data"
   ]
  },
  {
   "cell_type": "code",
   "execution_count": 3,
   "metadata": {},
   "outputs": [
    {
     "name": "stdout",
     "output_type": "stream",
     "text": [
      "   Unnamed: 0  Unnamed: 0.1  main_category  category  duration  usd_goal_real  \\\n",
      "0           0             0             12        19 -0.316333      -0.036515   \n",
      "1           1             2              8       136  2.025723      -0.031740   \n",
      "2           2             4              7        44 -0.272265      -0.032463   \n",
      "3           3             5              5        31 -0.400095      -0.034948   \n",
      "4           4             6              6        93 -0.326225       0.008140   \n",
      "\n",
      "   launched_month_deadline_month_0  launched_month_deadline_month_1  \\\n",
      "0                              4.0                              5.0   \n",
      "1                             10.0                              0.0   \n",
      "2                              7.0                              8.0   \n",
      "3                              2.0                              3.0   \n",
      "4                              0.0                              2.0   \n",
      "\n",
      "   num_chars  num_unusual_words  num_weird_chars  \n",
      "0         56                  1                2  \n",
      "1         30                  2                0  \n",
      "2         60                  4                0  \n",
      "3         34                  3                1  \n",
      "4         49                  2                6  \n"
     ]
    }
   ],
   "source": [
    "#training data\n",
    "X_train_df = pd.read_csv(r\"data/preprocess-basic_name-x-train-correct.csv\")\n",
    "Y_train_df = pd.read_csv(r\"data/preprocess-basic_name-y-train-correct.csv\")\n",
    "#validation data\n",
    "X_valid_df = pd.read_csv(r\"data/preprocess-basic_name-x-valid-correct.csv\")\n",
    "Y_valid_df = pd.read_csv(r\"data/preprocess-basic_name-y-valid-correct.csv\")\n",
    "\n",
    "X_train = TurnDfXIntoArray(X_train_df)\n",
    "X_valid = TurnDfXIntoArray(X_valid_df)\n",
    "Y_train = TurnDfYIntoVector(Y_train_df)\n",
    "Y_valid = TurnDfYIntoVector(Y_valid_df)\n",
    "\n",
    "print(X_train_df.head(5))"
   ]
  },
  {
   "cell_type": "markdown",
   "metadata": {},
   "source": [
    "Choose a random seed for repeatability"
   ]
  },
  {
   "cell_type": "code",
   "execution_count": 4,
   "metadata": {},
   "outputs": [],
   "source": [
    "np.random.seed(6591)"
   ]
  },
  {
   "cell_type": "markdown",
   "metadata": {},
   "source": [
    "# Build the Model"
   ]
  },
  {
   "cell_type": "code",
   "execution_count": 5,
   "metadata": {},
   "outputs": [],
   "source": [
    "# Define pipeline\n",
    "pipeline_LogReg = LogisticRegression(penalty='l1',n_jobs=-1,max_iter=200)"
   ]
  },
  {
   "cell_type": "markdown",
   "metadata": {},
   "source": [
    "# Test the Model"
   ]
  },
  {
   "cell_type": "code",
   "execution_count": 6,
   "metadata": {},
   "outputs": [
    {
     "name": "stderr",
     "output_type": "stream",
     "text": [
      "/Users/glinn/anaconda3/lib/python3.6/site-packages/sklearn/linear_model/logistic.py:432: FutureWarning: Default solver will be changed to 'lbfgs' in 0.22. Specify a solver to silence this warning.\n",
      "  FutureWarning)\n",
      "/Users/glinn/anaconda3/lib/python3.6/site-packages/sklearn/utils/validation.py:724: DataConversionWarning: A column-vector y was passed when a 1d array was expected. Please change the shape of y to (n_samples, ), for example using ravel().\n",
      "  y = column_or_1d(y, warn=True)\n",
      "/Users/glinn/anaconda3/lib/python3.6/site-packages/sklearn/linear_model/logistic.py:1544: UserWarning: 'n_jobs' > 1 does not have any effect when 'solver' is set to 'liblinear'. Got 'n_jobs' = 8.\n",
      "  \" = {}.\".format(effective_n_jobs(self.n_jobs)))\n",
      "/Users/glinn/anaconda3/lib/python3.6/site-packages/sklearn/linear_model/logistic.py:432: FutureWarning: Default solver will be changed to 'lbfgs' in 0.22. Specify a solver to silence this warning.\n",
      "  FutureWarning)\n",
      "/Users/glinn/anaconda3/lib/python3.6/site-packages/sklearn/utils/validation.py:724: DataConversionWarning: A column-vector y was passed when a 1d array was expected. Please change the shape of y to (n_samples, ), for example using ravel().\n",
      "  y = column_or_1d(y, warn=True)\n",
      "/Users/glinn/anaconda3/lib/python3.6/site-packages/sklearn/linear_model/logistic.py:1544: UserWarning: 'n_jobs' > 1 does not have any effect when 'solver' is set to 'liblinear'. Got 'n_jobs' = 8.\n",
      "  \" = {}.\".format(effective_n_jobs(self.n_jobs)))\n",
      "/Users/glinn/anaconda3/lib/python3.6/site-packages/sklearn/linear_model/logistic.py:432: FutureWarning: Default solver will be changed to 'lbfgs' in 0.22. Specify a solver to silence this warning.\n",
      "  FutureWarning)\n",
      "/Users/glinn/anaconda3/lib/python3.6/site-packages/sklearn/utils/validation.py:724: DataConversionWarning: A column-vector y was passed when a 1d array was expected. Please change the shape of y to (n_samples, ), for example using ravel().\n",
      "  y = column_or_1d(y, warn=True)\n",
      "/Users/glinn/anaconda3/lib/python3.6/site-packages/sklearn/linear_model/logistic.py:1544: UserWarning: 'n_jobs' > 1 does not have any effect when 'solver' is set to 'liblinear'. Got 'n_jobs' = 8.\n",
      "  \" = {}.\".format(effective_n_jobs(self.n_jobs)))\n",
      "/Users/glinn/anaconda3/lib/python3.6/site-packages/sklearn/linear_model/logistic.py:432: FutureWarning: Default solver will be changed to 'lbfgs' in 0.22. Specify a solver to silence this warning.\n",
      "  FutureWarning)\n",
      "/Users/glinn/anaconda3/lib/python3.6/site-packages/sklearn/utils/validation.py:724: DataConversionWarning: A column-vector y was passed when a 1d array was expected. Please change the shape of y to (n_samples, ), for example using ravel().\n",
      "  y = column_or_1d(y, warn=True)\n",
      "/Users/glinn/anaconda3/lib/python3.6/site-packages/sklearn/linear_model/logistic.py:1544: UserWarning: 'n_jobs' > 1 does not have any effect when 'solver' is set to 'liblinear'. Got 'n_jobs' = 8.\n",
      "  \" = {}.\".format(effective_n_jobs(self.n_jobs)))\n",
      "/Users/glinn/anaconda3/lib/python3.6/site-packages/sklearn/linear_model/logistic.py:432: FutureWarning: Default solver will be changed to 'lbfgs' in 0.22. Specify a solver to silence this warning.\n",
      "  FutureWarning)\n",
      "/Users/glinn/anaconda3/lib/python3.6/site-packages/sklearn/utils/validation.py:724: DataConversionWarning: A column-vector y was passed when a 1d array was expected. Please change the shape of y to (n_samples, ), for example using ravel().\n",
      "  y = column_or_1d(y, warn=True)\n",
      "/Users/glinn/anaconda3/lib/python3.6/site-packages/sklearn/linear_model/logistic.py:1544: UserWarning: 'n_jobs' > 1 does not have any effect when 'solver' is set to 'liblinear'. Got 'n_jobs' = 8.\n",
      "  \" = {}.\".format(effective_n_jobs(self.n_jobs)))\n"
     ]
    },
    {
     "name": "stdout",
     "output_type": "stream",
     "text": [
      "The validation accuracy is [0.61746218 0.61830431 0.61962766 0.61875545 0.61929682].\n",
      "The training accuracy is [0.61487222 0.61767271 0.61786874 0.61739666 0.61779673].\n",
      "The best value for C is 10.0\n",
      "And, the best model coefficients are [[-1.80068463e-08 -1.76147148e-02  2.28669258e-03 -2.08107652e-01\n",
      "  -1.83866446e+01 -9.81787055e-03  4.52631400e-03  1.20913113e-02\n",
      "  -1.22873137e-03  5.86037510e-02]].\n"
     ]
    }
   ],
   "source": [
    "C=[0.01,1.0,10.0,100.0,1000.0]\n",
    "Accuracy, Accuracy_train, Coef = TuneParameters(pipeline_LogReg,C,X_train,Y_train,X_valid,Y_valid)\n",
    "ReportFull(Accuracy_train,Accuracy,C,Coef)"
   ]
  },
  {
   "cell_type": "code",
   "execution_count": 7,
   "metadata": {},
   "outputs": [
    {
     "data": {
      "image/png": "[encoded data removed]",
      "text/plain": [
       "<Figure size 432x288 with 1 Axes>"
      ]
     },
     "metadata": {
      "needs_background": "light"
     },
     "output_type": "display_data"
    }
   ],
   "source": [
    "PlotBiasVariance(Accuracy_train,Accuracy,C)\n",
    "plt.savefig('Figures/LogReg/BasicNamesDataSet/BiasVarianceCoarseTunedC.png')"
   ]
  },
  {
   "cell_type": "code",
   "execution_count": 8,
   "metadata": {},
   "outputs": [
    {
     "name": "stderr",
     "output_type": "stream",
     "text": [
      "/Users/glinn/anaconda3/lib/python3.6/site-packages/sklearn/linear_model/logistic.py:432: FutureWarning: Default solver will be changed to 'lbfgs' in 0.22. Specify a solver to silence this warning.\n",
      "  FutureWarning)\n",
      "/Users/glinn/anaconda3/lib/python3.6/site-packages/sklearn/utils/validation.py:724: DataConversionWarning: A column-vector y was passed when a 1d array was expected. Please change the shape of y to (n_samples, ), for example using ravel().\n",
      "  y = column_or_1d(y, warn=True)\n",
      "/Users/glinn/anaconda3/lib/python3.6/site-packages/sklearn/linear_model/logistic.py:1544: UserWarning: 'n_jobs' > 1 does not have any effect when 'solver' is set to 'liblinear'. Got 'n_jobs' = 8.\n",
      "  \" = {}.\".format(effective_n_jobs(self.n_jobs)))\n",
      "/Users/glinn/anaconda3/lib/python3.6/site-packages/sklearn/linear_model/logistic.py:432: FutureWarning: Default solver will be changed to 'lbfgs' in 0.22. Specify a solver to silence this warning.\n",
      "  FutureWarning)\n",
      "/Users/glinn/anaconda3/lib/python3.6/site-packages/sklearn/utils/validation.py:724: DataConversionWarning: A column-vector y was passed when a 1d array was expected. Please change the shape of y to (n_samples, ), for example using ravel().\n",
      "  y = column_or_1d(y, warn=True)\n",
      "/Users/glinn/anaconda3/lib/python3.6/site-packages/sklearn/linear_model/logistic.py:1544: UserWarning: 'n_jobs' > 1 does not have any effect when 'solver' is set to 'liblinear'. Got 'n_jobs' = 8.\n",
      "  \" = {}.\".format(effective_n_jobs(self.n_jobs)))\n",
      "/Users/glinn/anaconda3/lib/python3.6/site-packages/sklearn/linear_model/logistic.py:432: FutureWarning: Default solver will be changed to 'lbfgs' in 0.22. Specify a solver to silence this warning.\n",
      "  FutureWarning)\n",
      "/Users/glinn/anaconda3/lib/python3.6/site-packages/sklearn/utils/validation.py:724: DataConversionWarning: A column-vector y was passed when a 1d array was expected. Please change the shape of y to (n_samples, ), for example using ravel().\n",
      "  y = column_or_1d(y, warn=True)\n",
      "/Users/glinn/anaconda3/lib/python3.6/site-packages/sklearn/linear_model/logistic.py:1544: UserWarning: 'n_jobs' > 1 does not have any effect when 'solver' is set to 'liblinear'. Got 'n_jobs' = 8.\n",
      "  \" = {}.\".format(effective_n_jobs(self.n_jobs)))\n",
      "/Users/glinn/anaconda3/lib/python3.6/site-packages/sklearn/linear_model/logistic.py:432: FutureWarning: Default solver will be changed to 'lbfgs' in 0.22. Specify a solver to silence this warning.\n",
      "  FutureWarning)\n",
      "/Users/glinn/anaconda3/lib/python3.6/site-packages/sklearn/utils/validation.py:724: DataConversionWarning: A column-vector y was passed when a 1d array was expected. Please change the shape of y to (n_samples, ), for example using ravel().\n",
      "  y = column_or_1d(y, warn=True)\n",
      "/Users/glinn/anaconda3/lib/python3.6/site-packages/sklearn/linear_model/logistic.py:1544: UserWarning: 'n_jobs' > 1 does not have any effect when 'solver' is set to 'liblinear'. Got 'n_jobs' = 8.\n",
      "  \" = {}.\".format(effective_n_jobs(self.n_jobs)))\n",
      "/Users/glinn/anaconda3/lib/python3.6/site-packages/sklearn/linear_model/logistic.py:432: FutureWarning: Default solver will be changed to 'lbfgs' in 0.22. Specify a solver to silence this warning.\n",
      "  FutureWarning)\n",
      "/Users/glinn/anaconda3/lib/python3.6/site-packages/sklearn/utils/validation.py:724: DataConversionWarning: A column-vector y was passed when a 1d array was expected. Please change the shape of y to (n_samples, ), for example using ravel().\n",
      "  y = column_or_1d(y, warn=True)\n",
      "/Users/glinn/anaconda3/lib/python3.6/site-packages/sklearn/linear_model/logistic.py:1544: UserWarning: 'n_jobs' > 1 does not have any effect when 'solver' is set to 'liblinear'. Got 'n_jobs' = 8.\n",
      "  \" = {}.\".format(effective_n_jobs(self.n_jobs)))\n",
      "/Users/glinn/anaconda3/lib/python3.6/site-packages/sklearn/linear_model/logistic.py:432: FutureWarning: Default solver will be changed to 'lbfgs' in 0.22. Specify a solver to silence this warning.\n",
      "  FutureWarning)\n",
      "/Users/glinn/anaconda3/lib/python3.6/site-packages/sklearn/utils/validation.py:724: DataConversionWarning: A column-vector y was passed when a 1d array was expected. Please change the shape of y to (n_samples, ), for example using ravel().\n",
      "  y = column_or_1d(y, warn=True)\n",
      "/Users/glinn/anaconda3/lib/python3.6/site-packages/sklearn/linear_model/logistic.py:1544: UserWarning: 'n_jobs' > 1 does not have any effect when 'solver' is set to 'liblinear'. Got 'n_jobs' = 8.\n",
      "  \" = {}.\".format(effective_n_jobs(self.n_jobs)))\n",
      "/Users/glinn/anaconda3/lib/python3.6/site-packages/sklearn/linear_model/logistic.py:432: FutureWarning: Default solver will be changed to 'lbfgs' in 0.22. Specify a solver to silence this warning.\n",
      "  FutureWarning)\n",
      "/Users/glinn/anaconda3/lib/python3.6/site-packages/sklearn/utils/validation.py:724: DataConversionWarning: A column-vector y was passed when a 1d array was expected. Please change the shape of y to (n_samples, ), for example using ravel().\n",
      "  y = column_or_1d(y, warn=True)\n",
      "/Users/glinn/anaconda3/lib/python3.6/site-packages/sklearn/linear_model/logistic.py:1544: UserWarning: 'n_jobs' > 1 does not have any effect when 'solver' is set to 'liblinear'. Got 'n_jobs' = 8.\n",
      "  \" = {}.\".format(effective_n_jobs(self.n_jobs)))\n",
      "/Users/glinn/anaconda3/lib/python3.6/site-packages/sklearn/linear_model/logistic.py:432: FutureWarning: Default solver will be changed to 'lbfgs' in 0.22. Specify a solver to silence this warning.\n",
      "  FutureWarning)\n",
      "/Users/glinn/anaconda3/lib/python3.6/site-packages/sklearn/utils/validation.py:724: DataConversionWarning: A column-vector y was passed when a 1d array was expected. Please change the shape of y to (n_samples, ), for example using ravel().\n",
      "  y = column_or_1d(y, warn=True)\n",
      "/Users/glinn/anaconda3/lib/python3.6/site-packages/sklearn/linear_model/logistic.py:1544: UserWarning: 'n_jobs' > 1 does not have any effect when 'solver' is set to 'liblinear'. Got 'n_jobs' = 8.\n",
      "  \" = {}.\".format(effective_n_jobs(self.n_jobs)))\n",
      "/Users/glinn/anaconda3/lib/python3.6/site-packages/sklearn/linear_model/logistic.py:432: FutureWarning: Default solver will be changed to 'lbfgs' in 0.22. Specify a solver to silence this warning.\n",
      "  FutureWarning)\n",
      "/Users/glinn/anaconda3/lib/python3.6/site-packages/sklearn/utils/validation.py:724: DataConversionWarning: A column-vector y was passed when a 1d array was expected. Please change the shape of y to (n_samples, ), for example using ravel().\n",
      "  y = column_or_1d(y, warn=True)\n",
      "/Users/glinn/anaconda3/lib/python3.6/site-packages/sklearn/linear_model/logistic.py:1544: UserWarning: 'n_jobs' > 1 does not have any effect when 'solver' is set to 'liblinear'. Got 'n_jobs' = 8.\n",
      "  \" = {}.\".format(effective_n_jobs(self.n_jobs)))\n",
      "/Users/glinn/anaconda3/lib/python3.6/site-packages/sklearn/linear_model/logistic.py:432: FutureWarning: Default solver will be changed to 'lbfgs' in 0.22. Specify a solver to silence this warning.\n",
      "  FutureWarning)\n",
      "/Users/glinn/anaconda3/lib/python3.6/site-packages/sklearn/utils/validation.py:724: DataConversionWarning: A column-vector y was passed when a 1d array was expected. Please change the shape of y to (n_samples, ), for example using ravel().\n",
      "  y = column_or_1d(y, warn=True)\n",
      "/Users/glinn/anaconda3/lib/python3.6/site-packages/sklearn/linear_model/logistic.py:1544: UserWarning: 'n_jobs' > 1 does not have any effect when 'solver' is set to 'liblinear'. Got 'n_jobs' = 8.\n",
      "  \" = {}.\".format(effective_n_jobs(self.n_jobs)))\n"
     ]
    },
    {
     "name": "stdout",
     "output_type": "stream",
     "text": [
      "The best validation accuracy is 0.6196276579746759.\n",
      "The best training accuracy is 0.6178767463073501.\n",
      "The best value for C is 1.1555555555555557\n",
      "And, the best model coefficients are [[-1.81584595e-08 -1.76360494e-02  2.28526080e-03 -2.08175951e-01\n",
      "  -1.83331011e+01 -9.85695834e-03  4.52979715e-03  1.20901177e-02\n",
      "  -1.18447902e-03  5.86726031e-02]].\n"
     ]
    }
   ],
   "source": [
    "C_fine=np.linspace(0.1,2.0,10)\n",
    "Accuracy_fine, Accuracy_train_fine, Coef_fine = TuneParameters(pipeline_LogReg,C_fine,X_train,Y_train,X_valid,Y_valid)\n",
    "ReportBest(Accuracy_train_fine,Accuracy_fine,C_fine,Coef_fine)"
   ]
  },
  {
   "cell_type": "code",
   "execution_count": 9,
   "metadata": {},
   "outputs": [
    {
     "data": {
      "image/png": "[encoded data removed]",
      "text/plain": [
       "<Figure size 432x288 with 1 Axes>"
      ]
     },
     "metadata": {
      "needs_background": "light"
     },
     "output_type": "display_data"
    }
   ],
   "source": [
    "PlotBiasVariance(Accuracy_train_fine,Accuracy_fine,C_fine)\n",
    "plt.savefig('Figures/LogReg/BasicNamesDataSet/BiasVarianceFineTunedC.png')"
   ]
  },
  {
   "cell_type": "markdown",
   "metadata": {},
   "source": [
    "Okay, so in the end, our best result after tuning the complexity of our model is:"
   ]
  },
  {
   "cell_type": "code",
   "execution_count": 10,
   "metadata": {},
   "outputs": [
    {
     "name": "stdout",
     "output_type": "stream",
     "text": [
      "The best validation accuracy is 0.6196276579746759.\n",
      "The best training accuracy is 0.6178767463073501.\n",
      "The best value for C is 1.1555555555555557\n",
      "And, the best model coefficients are [[-1.81584595e-08 -1.76360494e-02  2.28526080e-03 -2.08175951e-01\n",
      "  -1.83331011e+01 -9.85695834e-03  4.52979715e-03  1.20901177e-02\n",
      "  -1.18447902e-03  5.86726031e-02]].\n"
     ]
    }
   ],
   "source": [
    "ReportBest(Accuracy_train_fine,Accuracy_fine,C_fine,Coef_fine)"
   ]
  },
  {
   "cell_type": "markdown",
   "metadata": {},
   "source": [
    "# Okay, and what if we one hot encode the categories?"
   ]
  },
  {
   "cell_type": "code",
   "execution_count": 11,
   "metadata": {},
   "outputs": [],
   "source": [
    "# Just one hot the main category first\n",
    "X_train_OneHot_Main = OneHotEncodeCategory(X_train_df,[\"main_category\"])\n",
    "X_valid_OneHot_Main = OneHotEncodeCategory(X_valid_df,[\"main_category\"])\n",
    "\n",
    "#Now just the sub category\n",
    "X_train_OneHot_Sub = OneHotEncodeCategory(X_train_df,[\"category\"])\n",
    "X_valid_OneHot_Sub = OneHotEncodeCategory(X_valid_df,[\"category\"])\n",
    "\n",
    "# One hot both categories\n",
    "X_train_OneHot_Both = OneHotEncodeCategory(X_train_df,[\"main_category\",\"category\"])\n",
    "X_valid_OneHot_Both = OneHotEncodeCategory(X_valid_df,[\"main_category\",\"category\"])"
   ]
  },
  {
   "cell_type": "markdown",
   "metadata": {},
   "source": [
    "First, Let's just look at one hot encoding the main category."
   ]
  },
  {
   "cell_type": "code",
   "execution_count": 12,
   "metadata": {},
   "outputs": [
    {
     "name": "stderr",
     "output_type": "stream",
     "text": [
      "/Users/glinn/anaconda3/lib/python3.6/site-packages/sklearn/linear_model/logistic.py:432: FutureWarning: Default solver will be changed to 'lbfgs' in 0.22. Specify a solver to silence this warning.\n",
      "  FutureWarning)\n",
      "/Users/glinn/anaconda3/lib/python3.6/site-packages/sklearn/utils/validation.py:724: DataConversionWarning: A column-vector y was passed when a 1d array was expected. Please change the shape of y to (n_samples, ), for example using ravel().\n",
      "  y = column_or_1d(y, warn=True)\n",
      "/Users/glinn/anaconda3/lib/python3.6/site-packages/sklearn/linear_model/logistic.py:1544: UserWarning: 'n_jobs' > 1 does not have any effect when 'solver' is set to 'liblinear'. Got 'n_jobs' = 8.\n",
      "  \" = {}.\".format(effective_n_jobs(self.n_jobs)))\n",
      "/Users/glinn/anaconda3/lib/python3.6/site-packages/sklearn/linear_model/logistic.py:432: FutureWarning: Default solver will be changed to 'lbfgs' in 0.22. Specify a solver to silence this warning.\n",
      "  FutureWarning)\n",
      "/Users/glinn/anaconda3/lib/python3.6/site-packages/sklearn/utils/validation.py:724: DataConversionWarning: A column-vector y was passed when a 1d array was expected. Please change the shape of y to (n_samples, ), for example using ravel().\n",
      "  y = column_or_1d(y, warn=True)\n",
      "/Users/glinn/anaconda3/lib/python3.6/site-packages/sklearn/linear_model/logistic.py:1544: UserWarning: 'n_jobs' > 1 does not have any effect when 'solver' is set to 'liblinear'. Got 'n_jobs' = 8.\n",
      "  \" = {}.\".format(effective_n_jobs(self.n_jobs)))\n",
      "/Users/glinn/anaconda3/lib/python3.6/site-packages/sklearn/linear_model/logistic.py:432: FutureWarning: Default solver will be changed to 'lbfgs' in 0.22. Specify a solver to silence this warning.\n",
      "  FutureWarning)\n",
      "/Users/glinn/anaconda3/lib/python3.6/site-packages/sklearn/utils/validation.py:724: DataConversionWarning: A column-vector y was passed when a 1d array was expected. Please change the shape of y to (n_samples, ), for example using ravel().\n",
      "  y = column_or_1d(y, warn=True)\n",
      "/Users/glinn/anaconda3/lib/python3.6/site-packages/sklearn/linear_model/logistic.py:1544: UserWarning: 'n_jobs' > 1 does not have any effect when 'solver' is set to 'liblinear'. Got 'n_jobs' = 8.\n",
      "  \" = {}.\".format(effective_n_jobs(self.n_jobs)))\n",
      "/Users/glinn/anaconda3/lib/python3.6/site-packages/sklearn/linear_model/logistic.py:432: FutureWarning: Default solver will be changed to 'lbfgs' in 0.22. Specify a solver to silence this warning.\n",
      "  FutureWarning)\n",
      "/Users/glinn/anaconda3/lib/python3.6/site-packages/sklearn/utils/validation.py:724: DataConversionWarning: A column-vector y was passed when a 1d array was expected. Please change the shape of y to (n_samples, ), for example using ravel().\n",
      "  y = column_or_1d(y, warn=True)\n",
      "/Users/glinn/anaconda3/lib/python3.6/site-packages/sklearn/linear_model/logistic.py:1544: UserWarning: 'n_jobs' > 1 does not have any effect when 'solver' is set to 'liblinear'. Got 'n_jobs' = 8.\n",
      "  \" = {}.\".format(effective_n_jobs(self.n_jobs)))\n",
      "/Users/glinn/anaconda3/lib/python3.6/site-packages/sklearn/linear_model/logistic.py:432: FutureWarning: Default solver will be changed to 'lbfgs' in 0.22. Specify a solver to silence this warning.\n",
      "  FutureWarning)\n",
      "/Users/glinn/anaconda3/lib/python3.6/site-packages/sklearn/utils/validation.py:724: DataConversionWarning: A column-vector y was passed when a 1d array was expected. Please change the shape of y to (n_samples, ), for example using ravel().\n",
      "  y = column_or_1d(y, warn=True)\n",
      "/Users/glinn/anaconda3/lib/python3.6/site-packages/sklearn/linear_model/logistic.py:1544: UserWarning: 'n_jobs' > 1 does not have any effect when 'solver' is set to 'liblinear'. Got 'n_jobs' = 8.\n",
      "  \" = {}.\".format(effective_n_jobs(self.n_jobs)))\n"
     ]
    },
    {
     "name": "stdout",
     "output_type": "stream",
     "text": [
      "The validation accuracy is [0.643478   0.64480135 0.64477127 0.6449818  0.64477127].\n",
      "The training accuracy is [0.64642177 0.64857015 0.64853414 0.64863416 0.64849814].\n",
      "The best value for C is 100.0\n",
      "And, the best model coefficients are [[-2.25920552e-08  5.59483048e-04 -2.32294384e-01 -1.59907067e+01\n",
      "  -7.98522747e-03  5.47923499e-03  1.34083733e-02  2.00349892e-02\n",
      "   3.13391139e-02 -6.87576677e-01 -5.61045157e-02 -1.55322300e+00\n",
      "   1.45695235e-01 -7.02508003e-01 -1.39225512e+00 -5.90738408e-01\n",
      "  -1.28836064e+00 -6.03450855e-01 -1.57562928e+00 -3.67983198e-01\n",
      "  -1.15211090e+00 -1.11225490e+00 -1.35922788e+00  7.87918499e-02]].\n"
     ]
    }
   ],
   "source": [
    "C_Main=[0.01,1.0,10.0,100.0,1000.0]\n",
    "Accuracy_Main,Accuracy_train_Main,Coef_Main = TuneParameters(pipeline_LogReg,C_Main,X_train_OneHot_Main,Y_train,X_valid_OneHot_Main,Y_valid)\n",
    "ReportFull(Accuracy_train_Main,Accuracy_Main,C_Main,Coef_Main)"
   ]
  },
  {
   "cell_type": "code",
   "execution_count": 13,
   "metadata": {},
   "outputs": [
    {
     "data": {
      "image/png": "[encoded data removed]",
      "text/plain": [
       "<Figure size 432x288 with 1 Axes>"
      ]
     },
     "metadata": {
      "needs_background": "light"
     },
     "output_type": "display_data"
    }
   ],
   "source": [
    "PlotBiasVariance(Accuracy_train_Main,Accuracy_Main,C_Main)\n",
    "plt.savefig('Figures/LogReg/BasicNamesDataSet/BiasVarianceOneHotMainCoarseTunedC.png')"
   ]
  },
  {
   "cell_type": "code",
   "execution_count": 14,
   "metadata": {},
   "outputs": [
    {
     "name": "stderr",
     "output_type": "stream",
     "text": [
      "/Users/glinn/anaconda3/lib/python3.6/site-packages/sklearn/linear_model/logistic.py:432: FutureWarning: Default solver will be changed to 'lbfgs' in 0.22. Specify a solver to silence this warning.\n",
      "  FutureWarning)\n",
      "/Users/glinn/anaconda3/lib/python3.6/site-packages/sklearn/utils/validation.py:724: DataConversionWarning: A column-vector y was passed when a 1d array was expected. Please change the shape of y to (n_samples, ), for example using ravel().\n",
      "  y = column_or_1d(y, warn=True)\n",
      "/Users/glinn/anaconda3/lib/python3.6/site-packages/sklearn/linear_model/logistic.py:1544: UserWarning: 'n_jobs' > 1 does not have any effect when 'solver' is set to 'liblinear'. Got 'n_jobs' = 8.\n",
      "  \" = {}.\".format(effective_n_jobs(self.n_jobs)))\n",
      "/Users/glinn/anaconda3/lib/python3.6/site-packages/sklearn/linear_model/logistic.py:432: FutureWarning: Default solver will be changed to 'lbfgs' in 0.22. Specify a solver to silence this warning.\n",
      "  FutureWarning)\n",
      "/Users/glinn/anaconda3/lib/python3.6/site-packages/sklearn/utils/validation.py:724: DataConversionWarning: A column-vector y was passed when a 1d array was expected. Please change the shape of y to (n_samples, ), for example using ravel().\n",
      "  y = column_or_1d(y, warn=True)\n",
      "/Users/glinn/anaconda3/lib/python3.6/site-packages/sklearn/linear_model/logistic.py:1544: UserWarning: 'n_jobs' > 1 does not have any effect when 'solver' is set to 'liblinear'. Got 'n_jobs' = 8.\n",
      "  \" = {}.\".format(effective_n_jobs(self.n_jobs)))\n",
      "/Users/glinn/anaconda3/lib/python3.6/site-packages/sklearn/linear_model/logistic.py:432: FutureWarning: Default solver will be changed to 'lbfgs' in 0.22. Specify a solver to silence this warning.\n",
      "  FutureWarning)\n",
      "/Users/glinn/anaconda3/lib/python3.6/site-packages/sklearn/utils/validation.py:724: DataConversionWarning: A column-vector y was passed when a 1d array was expected. Please change the shape of y to (n_samples, ), for example using ravel().\n",
      "  y = column_or_1d(y, warn=True)\n",
      "/Users/glinn/anaconda3/lib/python3.6/site-packages/sklearn/linear_model/logistic.py:1544: UserWarning: 'n_jobs' > 1 does not have any effect when 'solver' is set to 'liblinear'. Got 'n_jobs' = 8.\n",
      "  \" = {}.\".format(effective_n_jobs(self.n_jobs)))\n",
      "/Users/glinn/anaconda3/lib/python3.6/site-packages/sklearn/linear_model/logistic.py:432: FutureWarning: Default solver will be changed to 'lbfgs' in 0.22. Specify a solver to silence this warning.\n",
      "  FutureWarning)\n",
      "/Users/glinn/anaconda3/lib/python3.6/site-packages/sklearn/utils/validation.py:724: DataConversionWarning: A column-vector y was passed when a 1d array was expected. Please change the shape of y to (n_samples, ), for example using ravel().\n",
      "  y = column_or_1d(y, warn=True)\n",
      "/Users/glinn/anaconda3/lib/python3.6/site-packages/sklearn/linear_model/logistic.py:1544: UserWarning: 'n_jobs' > 1 does not have any effect when 'solver' is set to 'liblinear'. Got 'n_jobs' = 8.\n",
      "  \" = {}.\".format(effective_n_jobs(self.n_jobs)))\n",
      "/Users/glinn/anaconda3/lib/python3.6/site-packages/sklearn/linear_model/logistic.py:432: FutureWarning: Default solver will be changed to 'lbfgs' in 0.22. Specify a solver to silence this warning.\n",
      "  FutureWarning)\n",
      "/Users/glinn/anaconda3/lib/python3.6/site-packages/sklearn/utils/validation.py:724: DataConversionWarning: A column-vector y was passed when a 1d array was expected. Please change the shape of y to (n_samples, ), for example using ravel().\n",
      "  y = column_or_1d(y, warn=True)\n",
      "/Users/glinn/anaconda3/lib/python3.6/site-packages/sklearn/linear_model/logistic.py:1544: UserWarning: 'n_jobs' > 1 does not have any effect when 'solver' is set to 'liblinear'. Got 'n_jobs' = 8.\n",
      "  \" = {}.\".format(effective_n_jobs(self.n_jobs)))\n",
      "/Users/glinn/anaconda3/lib/python3.6/site-packages/sklearn/linear_model/logistic.py:432: FutureWarning: Default solver will be changed to 'lbfgs' in 0.22. Specify a solver to silence this warning.\n",
      "  FutureWarning)\n",
      "/Users/glinn/anaconda3/lib/python3.6/site-packages/sklearn/utils/validation.py:724: DataConversionWarning: A column-vector y was passed when a 1d array was expected. Please change the shape of y to (n_samples, ), for example using ravel().\n",
      "  y = column_or_1d(y, warn=True)\n",
      "/Users/glinn/anaconda3/lib/python3.6/site-packages/sklearn/linear_model/logistic.py:1544: UserWarning: 'n_jobs' > 1 does not have any effect when 'solver' is set to 'liblinear'. Got 'n_jobs' = 8.\n",
      "  \" = {}.\".format(effective_n_jobs(self.n_jobs)))\n",
      "/Users/glinn/anaconda3/lib/python3.6/site-packages/sklearn/linear_model/logistic.py:432: FutureWarning: Default solver will be changed to 'lbfgs' in 0.22. Specify a solver to silence this warning.\n",
      "  FutureWarning)\n",
      "/Users/glinn/anaconda3/lib/python3.6/site-packages/sklearn/utils/validation.py:724: DataConversionWarning: A column-vector y was passed when a 1d array was expected. Please change the shape of y to (n_samples, ), for example using ravel().\n",
      "  y = column_or_1d(y, warn=True)\n",
      "/Users/glinn/anaconda3/lib/python3.6/site-packages/sklearn/linear_model/logistic.py:1544: UserWarning: 'n_jobs' > 1 does not have any effect when 'solver' is set to 'liblinear'. Got 'n_jobs' = 8.\n",
      "  \" = {}.\".format(effective_n_jobs(self.n_jobs)))\n",
      "/Users/glinn/anaconda3/lib/python3.6/site-packages/sklearn/linear_model/logistic.py:432: FutureWarning: Default solver will be changed to 'lbfgs' in 0.22. Specify a solver to silence this warning.\n",
      "  FutureWarning)\n",
      "/Users/glinn/anaconda3/lib/python3.6/site-packages/sklearn/utils/validation.py:724: DataConversionWarning: A column-vector y was passed when a 1d array was expected. Please change the shape of y to (n_samples, ), for example using ravel().\n",
      "  y = column_or_1d(y, warn=True)\n",
      "/Users/glinn/anaconda3/lib/python3.6/site-packages/sklearn/linear_model/logistic.py:1544: UserWarning: 'n_jobs' > 1 does not have any effect when 'solver' is set to 'liblinear'. Got 'n_jobs' = 8.\n",
      "  \" = {}.\".format(effective_n_jobs(self.n_jobs)))\n",
      "/Users/glinn/anaconda3/lib/python3.6/site-packages/sklearn/linear_model/logistic.py:432: FutureWarning: Default solver will be changed to 'lbfgs' in 0.22. Specify a solver to silence this warning.\n",
      "  FutureWarning)\n",
      "/Users/glinn/anaconda3/lib/python3.6/site-packages/sklearn/utils/validation.py:724: DataConversionWarning: A column-vector y was passed when a 1d array was expected. Please change the shape of y to (n_samples, ), for example using ravel().\n",
      "  y = column_or_1d(y, warn=True)\n",
      "/Users/glinn/anaconda3/lib/python3.6/site-packages/sklearn/linear_model/logistic.py:1544: UserWarning: 'n_jobs' > 1 does not have any effect when 'solver' is set to 'liblinear'. Got 'n_jobs' = 8.\n",
      "  \" = {}.\".format(effective_n_jobs(self.n_jobs)))\n",
      "/Users/glinn/anaconda3/lib/python3.6/site-packages/sklearn/linear_model/logistic.py:432: FutureWarning: Default solver will be changed to 'lbfgs' in 0.22. Specify a solver to silence this warning.\n",
      "  FutureWarning)\n",
      "/Users/glinn/anaconda3/lib/python3.6/site-packages/sklearn/utils/validation.py:724: DataConversionWarning: A column-vector y was passed when a 1d array was expected. Please change the shape of y to (n_samples, ), for example using ravel().\n",
      "  y = column_or_1d(y, warn=True)\n",
      "/Users/glinn/anaconda3/lib/python3.6/site-packages/sklearn/linear_model/logistic.py:1544: UserWarning: 'n_jobs' > 1 does not have any effect when 'solver' is set to 'liblinear'. Got 'n_jobs' = 8.\n",
      "  \" = {}.\".format(effective_n_jobs(self.n_jobs)))\n"
     ]
    },
    {
     "name": "stdout",
     "output_type": "stream",
     "text": [
      "The best validation accuracy is 0.6453727931667118.\n",
      "The best training accuracy is 0.6487621821440573.\n",
      "The best value for C is 0.5222222222222223\n",
      "And, the best model coefficients are [[-2.58289913e-08  4.77440868e-04 -2.32516495e-01 -1.57563296e+01\n",
      "  -7.63083552e-03  4.28535545e-03  1.30979050e-02  2.09357922e-02\n",
      "   3.30218481e-02 -7.19703817e-01 -9.06506653e-02 -1.58345335e+00\n",
      "   1.10035374e-01 -7.34315961e-01 -1.42484613e+00 -6.24804653e-01\n",
      "  -1.32152580e+00 -6.29759778e-01 -1.59911583e+00 -3.99923608e-01\n",
      "  -1.18005857e+00 -1.14406786e+00 -1.39171366e+00  4.98596162e-02]].\n"
     ]
    }
   ],
   "source": [
    "C_Main_fine=np.linspace(0.1,2.0,10)\n",
    "Accuracy_Main_fine,Accuracy_train_Main_fine,Coef_Main_fine = TuneParameters(pipeline_LogReg,C_Main_fine,X_train_OneHot_Main,Y_train,X_valid_OneHot_Main,Y_valid)\n",
    "ReportBest(Accuracy_train_Main_fine,Accuracy_Main_fine,C_Main_fine,Coef_Main_fine)"
   ]
  },
  {
   "cell_type": "code",
   "execution_count": 15,
   "metadata": {
    "scrolled": true
   },
   "outputs": [
    {
     "data": {
      "image/png": "[encoded data removed]",
      "text/plain": [
       "<Figure size 432x288 with 1 Axes>"
      ]
     },
     "metadata": {
      "needs_background": "light"
     },
     "output_type": "display_data"
    }
   ],
   "source": [
    "PlotBiasVariance(Accuracy_train_Main_fine,Accuracy_Main_fine,C_Main_fine)\n",
    "plt.savefig('Figures/LogReg/BasicNamesDataSet/BiasVarianceOneHotMainFineTunedC.png')"
   ]
  },
  {
   "cell_type": "markdown",
   "metadata": {},
   "source": [
    "Okay, so in the end, our best result after tuning the complexity of our model is:"
   ]
  },
  {
   "cell_type": "code",
   "execution_count": 16,
   "metadata": {},
   "outputs": [
    {
     "name": "stdout",
     "output_type": "stream",
     "text": [
      "The best validation accuracy is 0.6453727931667118.\n",
      "The best training accuracy is 0.6487621821440573.\n",
      "The best value for C is 0.5222222222222223\n",
      "And, the best model coefficients are [[-2.58289913e-08  4.77440868e-04 -2.32516495e-01 -1.57563296e+01\n",
      "  -7.63083552e-03  4.28535545e-03  1.30979050e-02  2.09357922e-02\n",
      "   3.30218481e-02 -7.19703817e-01 -9.06506653e-02 -1.58345335e+00\n",
      "   1.10035374e-01 -7.34315961e-01 -1.42484613e+00 -6.24804653e-01\n",
      "  -1.32152580e+00 -6.29759778e-01 -1.59911583e+00 -3.99923608e-01\n",
      "  -1.18005857e+00 -1.14406786e+00 -1.39171366e+00  4.98596162e-02]].\n"
     ]
    }
   ],
   "source": [
    "ReportBest(Accuracy_train_Main_fine,Accuracy_Main_fine,C_Main_fine,Coef_Main_fine)"
   ]
  },
  {
   "cell_type": "markdown",
   "metadata": {},
   "source": [
    "Second, we look at what happens if we just one hot the sub-categories."
   ]
  },
  {
   "cell_type": "code",
   "execution_count": 17,
   "metadata": {},
   "outputs": [
    {
     "name": "stderr",
     "output_type": "stream",
     "text": [
      "/Users/glinn/anaconda3/lib/python3.6/site-packages/sklearn/linear_model/logistic.py:432: FutureWarning: Default solver will be changed to 'lbfgs' in 0.22. Specify a solver to silence this warning.\n",
      "  FutureWarning)\n",
      "/Users/glinn/anaconda3/lib/python3.6/site-packages/sklearn/utils/validation.py:724: DataConversionWarning: A column-vector y was passed when a 1d array was expected. Please change the shape of y to (n_samples, ), for example using ravel().\n",
      "  y = column_or_1d(y, warn=True)\n",
      "/Users/glinn/anaconda3/lib/python3.6/site-packages/sklearn/linear_model/logistic.py:1544: UserWarning: 'n_jobs' > 1 does not have any effect when 'solver' is set to 'liblinear'. Got 'n_jobs' = 8.\n",
      "  \" = {}.\".format(effective_n_jobs(self.n_jobs)))\n",
      "/Users/glinn/anaconda3/lib/python3.6/site-packages/sklearn/linear_model/logistic.py:432: FutureWarning: Default solver will be changed to 'lbfgs' in 0.22. Specify a solver to silence this warning.\n",
      "  FutureWarning)\n",
      "/Users/glinn/anaconda3/lib/python3.6/site-packages/sklearn/utils/validation.py:724: DataConversionWarning: A column-vector y was passed when a 1d array was expected. Please change the shape of y to (n_samples, ), for example using ravel().\n",
      "  y = column_or_1d(y, warn=True)\n",
      "/Users/glinn/anaconda3/lib/python3.6/site-packages/sklearn/linear_model/logistic.py:1544: UserWarning: 'n_jobs' > 1 does not have any effect when 'solver' is set to 'liblinear'. Got 'n_jobs' = 8.\n",
      "  \" = {}.\".format(effective_n_jobs(self.n_jobs)))\n",
      "/Users/glinn/anaconda3/lib/python3.6/site-packages/sklearn/linear_model/logistic.py:432: FutureWarning: Default solver will be changed to 'lbfgs' in 0.22. Specify a solver to silence this warning.\n",
      "  FutureWarning)\n",
      "/Users/glinn/anaconda3/lib/python3.6/site-packages/sklearn/utils/validation.py:724: DataConversionWarning: A column-vector y was passed when a 1d array was expected. Please change the shape of y to (n_samples, ), for example using ravel().\n",
      "  y = column_or_1d(y, warn=True)\n",
      "/Users/glinn/anaconda3/lib/python3.6/site-packages/sklearn/linear_model/logistic.py:1544: UserWarning: 'n_jobs' > 1 does not have any effect when 'solver' is set to 'liblinear'. Got 'n_jobs' = 8.\n",
      "  \" = {}.\".format(effective_n_jobs(self.n_jobs)))\n",
      "/Users/glinn/anaconda3/lib/python3.6/site-packages/sklearn/linear_model/logistic.py:432: FutureWarning: Default solver will be changed to 'lbfgs' in 0.22. Specify a solver to silence this warning.\n",
      "  FutureWarning)\n",
      "/Users/glinn/anaconda3/lib/python3.6/site-packages/sklearn/utils/validation.py:724: DataConversionWarning: A column-vector y was passed when a 1d array was expected. Please change the shape of y to (n_samples, ), for example using ravel().\n",
      "  y = column_or_1d(y, warn=True)\n",
      "/Users/glinn/anaconda3/lib/python3.6/site-packages/sklearn/linear_model/logistic.py:1544: UserWarning: 'n_jobs' > 1 does not have any effect when 'solver' is set to 'liblinear'. Got 'n_jobs' = 8.\n",
      "  \" = {}.\".format(effective_n_jobs(self.n_jobs)))\n",
      "/Users/glinn/anaconda3/lib/python3.6/site-packages/sklearn/linear_model/logistic.py:432: FutureWarning: Default solver will be changed to 'lbfgs' in 0.22. Specify a solver to silence this warning.\n",
      "  FutureWarning)\n",
      "/Users/glinn/anaconda3/lib/python3.6/site-packages/sklearn/utils/validation.py:724: DataConversionWarning: A column-vector y was passed when a 1d array was expected. Please change the shape of y to (n_samples, ), for example using ravel().\n",
      "  y = column_or_1d(y, warn=True)\n",
      "/Users/glinn/anaconda3/lib/python3.6/site-packages/sklearn/linear_model/logistic.py:1544: UserWarning: 'n_jobs' > 1 does not have any effect when 'solver' is set to 'liblinear'. Got 'n_jobs' = 8.\n",
      "  \" = {}.\".format(effective_n_jobs(self.n_jobs)))\n"
     ]
    },
    {
     "name": "stdout",
     "output_type": "stream",
     "text": [
      "The validation accuracy is [0.65737315 0.66504256 0.66543355 0.66552378 0.66471172].\n",
      "The training accuracy is [0.66402887 0.67169422 0.67162221 0.67163421 0.67164221].\n",
      "The best value for C is 100.0\n",
      "And, the best model coefficients are [[-5.95115495e-09 -1.65114643e-02 -2.31085844e-01 -1.55560320e+01\n",
      "  -7.94426630e-03  4.88833841e-03  1.16694587e-02  2.73994036e-02\n",
      "   3.33854935e-02 -3.78762613e-02 -1.13939408e+00 -6.43339439e-01\n",
      "  -1.17740587e+00 -1.13598017e+00 -6.81376101e-01  6.36069057e-01\n",
      "  -1.35085494e+00 -2.25154189e+00 -8.46304096e-01 -4.15062672e-01\n",
      "   2.36650727e-01 -8.16782148e-01 -1.39937710e+00 -1.21650309e-01\n",
      "  -3.87553396e-01  3.27060591e-01 -1.97044874e+00 -3.46277083e-01\n",
      "  -5.76410354e-01 -1.42344738e+00  1.39122795e+00 -4.54890442e-01\n",
      "   6.44980778e-01 -1.86573307e-01  3.77407603e-01  3.60534133e-02\n",
      "  -1.21909431e+00 -7.19545880e-01 -1.02611045e+00  5.73377988e-01\n",
      "  -1.61531682e+00 -1.23176726e+00 -1.24928791e+00 -1.84460164e+00\n",
      "   5.69684782e-02  6.51682428e-01 -4.42430512e-01 -1.08678345e+00\n",
      "  -2.78556339e-01 -1.72853781e-01 -8.76865951e-01 -6.50435539e-01\n",
      "  -1.90474462e+00 -1.38159934e+00 -2.95176443e-01 -4.32384315e-01\n",
      "  -2.01885999e-01 -1.28367967e+00 -3.87763309e-01 -1.57712689e+00\n",
      "  -9.55998785e-01 -1.04595247e+00  2.51993930e-01 -1.02365229e+00\n",
      "  -4.74773435e-01 -4.46602153e-01 -8.86818727e-01 -7.84255668e-01\n",
      "  -1.76199654e+00 -5.28593869e-01 -3.73904388e-01 -8.19623899e-01\n",
      "  -7.53968169e-01 -1.00741020e+00 -5.19610879e-01  2.19155759e-01\n",
      "  -7.96012906e-02 -1.62372028e+00 -5.24256622e-01 -8.53114031e-02\n",
      "   5.89052960e-01  6.81662950e-01 -1.00410841e-01 -1.27921117e+00\n",
      "   4.77477492e-01 -1.18437608e+00 -8.61234541e-01 -1.27029414e-01\n",
      "  -7.56254238e-02 -8.02058608e-01  3.50376697e-01  3.71566411e-02\n",
      "   9.30017259e-01 -1.18762631e+00 -3.10518655e-01 -4.08861494e-01\n",
      "  -7.18501483e-01 -2.08404051e+00 -4.88820325e-01  1.24595090e-02\n",
      "  -6.34120196e-01  2.72874550e-01 -6.41726145e-02 -1.54003015e+00\n",
      "  -8.82409557e-01 -7.57628189e-01 -1.15994527e+00 -3.09072321e-01\n",
      "   3.50153759e-01 -1.80087406e-01 -8.74427293e-01 -1.58487837e+00\n",
      "  -2.40737896e-01 -6.35690348e-01 -1.52978565e+00 -2.02617064e-01\n",
      "   4.83926614e-01 -5.27102951e-01  1.83565597e-02 -3.12376790e-01\n",
      "  -1.11086787e+00 -1.30165403e+00 -3.27572823e-01 -1.38185105e-02\n",
      "  -7.01198796e-01  2.19605791e-02 -3.22769260e-01 -9.96309023e-01\n",
      "  -1.13927594e+00 -1.61022923e-01 -1.54197075e+00  1.16198856e+00\n",
      "  -1.26323988e+00  1.20424360e-01  1.72899893e-01 -4.91754498e-01\n",
      "  -1.53319439e-01 -5.50145532e-01  3.28152187e-01 -7.34754770e-01\n",
      "  -1.55610846e+00  3.71897427e-01  2.32048099e-02 -2.56311633e-01\n",
      "  -9.91817776e-01  6.48973262e-01 -6.78341108e-02 -8.99440020e-01\n",
      "  -1.42414491e+00 -1.01275219e+00  6.63451925e-01 -6.38053882e-01\n",
      "  -1.05954314e+00  4.37736146e-01 -7.30548850e-01 -1.80498276e+00\n",
      "  -1.01408258e+00 -8.99395601e-01 -4.74180882e-02 -9.79843514e-01\n",
      "  -2.03485250e+00  2.22753411e-01 -7.11684210e-01 -1.29111005e+00\n",
      "  -9.22584242e-01 -1.43059186e-01 -1.19786008e+00 -1.10546916e-01]].\n"
     ]
    }
   ],
   "source": [
    "C_Sub=[0.01,1.0,10.0,100.0,1000.0]\n",
    "Accuracy_Sub,Accuracy_train_Sub,Coef_Sub = TuneParameters(pipeline_LogReg,C_Sub,X_train_OneHot_Sub,Y_train,X_valid_OneHot_Sub,Y_valid)\n",
    "ReportFull(Accuracy_train_Sub,Accuracy_Sub,C_Sub,Coef_Sub)"
   ]
  },
  {
   "cell_type": "code",
   "execution_count": 18,
   "metadata": {},
   "outputs": [
    {
     "data": {
      "image/png": "[encoded data removed]",
      "text/plain": [
       "<Figure size 432x288 with 1 Axes>"
      ]
     },
     "metadata": {
      "needs_background": "light"
     },
     "output_type": "display_data"
    }
   ],
   "source": [
    "PlotBiasVariance(Accuracy_train_Sub,Accuracy_Sub,C_Sub)\n",
    "plt.savefig('Figures/LogReg/BasicNamesDataSet/BiasVarianceOneHotSubCoarseTunedC.png')"
   ]
  },
  {
   "cell_type": "code",
   "execution_count": 19,
   "metadata": {},
   "outputs": [
    {
     "name": "stderr",
     "output_type": "stream",
     "text": [
      "/Users/glinn/anaconda3/lib/python3.6/site-packages/sklearn/linear_model/logistic.py:432: FutureWarning: Default solver will be changed to 'lbfgs' in 0.22. Specify a solver to silence this warning.\n",
      "  FutureWarning)\n",
      "/Users/glinn/anaconda3/lib/python3.6/site-packages/sklearn/utils/validation.py:724: DataConversionWarning: A column-vector y was passed when a 1d array was expected. Please change the shape of y to (n_samples, ), for example using ravel().\n",
      "  y = column_or_1d(y, warn=True)\n",
      "/Users/glinn/anaconda3/lib/python3.6/site-packages/sklearn/linear_model/logistic.py:1544: UserWarning: 'n_jobs' > 1 does not have any effect when 'solver' is set to 'liblinear'. Got 'n_jobs' = 8.\n",
      "  \" = {}.\".format(effective_n_jobs(self.n_jobs)))\n",
      "/Users/glinn/anaconda3/lib/python3.6/site-packages/sklearn/linear_model/logistic.py:432: FutureWarning: Default solver will be changed to 'lbfgs' in 0.22. Specify a solver to silence this warning.\n",
      "  FutureWarning)\n",
      "/Users/glinn/anaconda3/lib/python3.6/site-packages/sklearn/utils/validation.py:724: DataConversionWarning: A column-vector y was passed when a 1d array was expected. Please change the shape of y to (n_samples, ), for example using ravel().\n",
      "  y = column_or_1d(y, warn=True)\n",
      "/Users/glinn/anaconda3/lib/python3.6/site-packages/sklearn/linear_model/logistic.py:1544: UserWarning: 'n_jobs' > 1 does not have any effect when 'solver' is set to 'liblinear'. Got 'n_jobs' = 8.\n",
      "  \" = {}.\".format(effective_n_jobs(self.n_jobs)))\n",
      "/Users/glinn/anaconda3/lib/python3.6/site-packages/sklearn/linear_model/logistic.py:432: FutureWarning: Default solver will be changed to 'lbfgs' in 0.22. Specify a solver to silence this warning.\n",
      "  FutureWarning)\n",
      "/Users/glinn/anaconda3/lib/python3.6/site-packages/sklearn/utils/validation.py:724: DataConversionWarning: A column-vector y was passed when a 1d array was expected. Please change the shape of y to (n_samples, ), for example using ravel().\n",
      "  y = column_or_1d(y, warn=True)\n",
      "/Users/glinn/anaconda3/lib/python3.6/site-packages/sklearn/linear_model/logistic.py:1544: UserWarning: 'n_jobs' > 1 does not have any effect when 'solver' is set to 'liblinear'. Got 'n_jobs' = 8.\n",
      "  \" = {}.\".format(effective_n_jobs(self.n_jobs)))\n",
      "/Users/glinn/anaconda3/lib/python3.6/site-packages/sklearn/linear_model/logistic.py:432: FutureWarning: Default solver will be changed to 'lbfgs' in 0.22. Specify a solver to silence this warning.\n",
      "  FutureWarning)\n",
      "/Users/glinn/anaconda3/lib/python3.6/site-packages/sklearn/utils/validation.py:724: DataConversionWarning: A column-vector y was passed when a 1d array was expected. Please change the shape of y to (n_samples, ), for example using ravel().\n",
      "  y = column_or_1d(y, warn=True)\n",
      "/Users/glinn/anaconda3/lib/python3.6/site-packages/sklearn/linear_model/logistic.py:1544: UserWarning: 'n_jobs' > 1 does not have any effect when 'solver' is set to 'liblinear'. Got 'n_jobs' = 8.\n",
      "  \" = {}.\".format(effective_n_jobs(self.n_jobs)))\n",
      "/Users/glinn/anaconda3/lib/python3.6/site-packages/sklearn/linear_model/logistic.py:432: FutureWarning: Default solver will be changed to 'lbfgs' in 0.22. Specify a solver to silence this warning.\n",
      "  FutureWarning)\n",
      "/Users/glinn/anaconda3/lib/python3.6/site-packages/sklearn/utils/validation.py:724: DataConversionWarning: A column-vector y was passed when a 1d array was expected. Please change the shape of y to (n_samples, ), for example using ravel().\n",
      "  y = column_or_1d(y, warn=True)\n",
      "/Users/glinn/anaconda3/lib/python3.6/site-packages/sklearn/linear_model/logistic.py:1544: UserWarning: 'n_jobs' > 1 does not have any effect when 'solver' is set to 'liblinear'. Got 'n_jobs' = 8.\n",
      "  \" = {}.\".format(effective_n_jobs(self.n_jobs)))\n",
      "/Users/glinn/anaconda3/lib/python3.6/site-packages/sklearn/linear_model/logistic.py:432: FutureWarning: Default solver will be changed to 'lbfgs' in 0.22. Specify a solver to silence this warning.\n",
      "  FutureWarning)\n",
      "/Users/glinn/anaconda3/lib/python3.6/site-packages/sklearn/utils/validation.py:724: DataConversionWarning: A column-vector y was passed when a 1d array was expected. Please change the shape of y to (n_samples, ), for example using ravel().\n",
      "  y = column_or_1d(y, warn=True)\n",
      "/Users/glinn/anaconda3/lib/python3.6/site-packages/sklearn/linear_model/logistic.py:1544: UserWarning: 'n_jobs' > 1 does not have any effect when 'solver' is set to 'liblinear'. Got 'n_jobs' = 8.\n",
      "  \" = {}.\".format(effective_n_jobs(self.n_jobs)))\n",
      "/Users/glinn/anaconda3/lib/python3.6/site-packages/sklearn/linear_model/logistic.py:432: FutureWarning: Default solver will be changed to 'lbfgs' in 0.22. Specify a solver to silence this warning.\n",
      "  FutureWarning)\n",
      "/Users/glinn/anaconda3/lib/python3.6/site-packages/sklearn/utils/validation.py:724: DataConversionWarning: A column-vector y was passed when a 1d array was expected. Please change the shape of y to (n_samples, ), for example using ravel().\n",
      "  y = column_or_1d(y, warn=True)\n",
      "/Users/glinn/anaconda3/lib/python3.6/site-packages/sklearn/linear_model/logistic.py:1544: UserWarning: 'n_jobs' > 1 does not have any effect when 'solver' is set to 'liblinear'. Got 'n_jobs' = 8.\n",
      "  \" = {}.\".format(effective_n_jobs(self.n_jobs)))\n",
      "/Users/glinn/anaconda3/lib/python3.6/site-packages/sklearn/linear_model/logistic.py:432: FutureWarning: Default solver will be changed to 'lbfgs' in 0.22. Specify a solver to silence this warning.\n",
      "  FutureWarning)\n",
      "/Users/glinn/anaconda3/lib/python3.6/site-packages/sklearn/utils/validation.py:724: DataConversionWarning: A column-vector y was passed when a 1d array was expected. Please change the shape of y to (n_samples, ), for example using ravel().\n",
      "  y = column_or_1d(y, warn=True)\n",
      "/Users/glinn/anaconda3/lib/python3.6/site-packages/sklearn/linear_model/logistic.py:1544: UserWarning: 'n_jobs' > 1 does not have any effect when 'solver' is set to 'liblinear'. Got 'n_jobs' = 8.\n",
      "  \" = {}.\".format(effective_n_jobs(self.n_jobs)))\n",
      "/Users/glinn/anaconda3/lib/python3.6/site-packages/sklearn/linear_model/logistic.py:432: FutureWarning: Default solver will be changed to 'lbfgs' in 0.22. Specify a solver to silence this warning.\n",
      "  FutureWarning)\n",
      "/Users/glinn/anaconda3/lib/python3.6/site-packages/sklearn/utils/validation.py:724: DataConversionWarning: A column-vector y was passed when a 1d array was expected. Please change the shape of y to (n_samples, ), for example using ravel().\n",
      "  y = column_or_1d(y, warn=True)\n",
      "/Users/glinn/anaconda3/lib/python3.6/site-packages/sklearn/linear_model/logistic.py:1544: UserWarning: 'n_jobs' > 1 does not have any effect when 'solver' is set to 'liblinear'. Got 'n_jobs' = 8.\n",
      "  \" = {}.\".format(effective_n_jobs(self.n_jobs)))\n",
      "/Users/glinn/anaconda3/lib/python3.6/site-packages/sklearn/linear_model/logistic.py:432: FutureWarning: Default solver will be changed to 'lbfgs' in 0.22. Specify a solver to silence this warning.\n",
      "  FutureWarning)\n",
      "/Users/glinn/anaconda3/lib/python3.6/site-packages/sklearn/utils/validation.py:724: DataConversionWarning: A column-vector y was passed when a 1d array was expected. Please change the shape of y to (n_samples, ), for example using ravel().\n",
      "  y = column_or_1d(y, warn=True)\n",
      "/Users/glinn/anaconda3/lib/python3.6/site-packages/sklearn/linear_model/logistic.py:1544: UserWarning: 'n_jobs' > 1 does not have any effect when 'solver' is set to 'liblinear'. Got 'n_jobs' = 8.\n",
      "  \" = {}.\".format(effective_n_jobs(self.n_jobs)))\n"
     ]
    },
    {
     "name": "stdout",
     "output_type": "stream",
     "text": [
      "The best validation accuracy is 0.665313242503534.\n",
      "The best training accuracy is 0.6717622301525068.\n",
      "The best value for C is 0.3111111111111111\n",
      "And, the best model coefficients are [[-7.72889988e-08 -3.47428816e-02 -2.30595393e-01 -1.49993805e+01\n",
      "  -8.88686400e-03  3.87466938e-03  1.09059870e-02  2.73886742e-02\n",
      "   3.64580242e-02  6.76970394e-03 -1.04232495e+00 -6.97927323e-01\n",
      "  -1.18537914e+00 -9.90135671e-01 -7.20474481e-01  5.75618340e-01\n",
      "  -1.41214111e+00 -2.16440130e+00 -8.93097480e-01 -5.68178243e-01\n",
      "   2.94317684e-01 -7.50623999e-01 -1.28578465e+00 -1.52098231e-02\n",
      "  -2.57094432e-01  3.54255630e-01 -2.00341560e+00 -4.36374578e-01\n",
      "  -5.06470971e-01 -1.42818776e+00  6.46448519e-01 -4.63730253e-01\n",
      "   6.66206144e-01 -2.15136186e-01  2.31732196e-01 -9.55089304e-02\n",
      "  -1.15202836e+00 -8.53029279e-01 -1.00539050e+00  5.97640796e-01\n",
      "  -1.54760368e+00 -1.33973240e+00 -1.23273515e+00 -1.93056989e+00\n",
      "   1.16546737e-01  5.43570375e-01 -5.19009684e-01 -1.22206825e+00\n",
      "  -3.30099069e-01 -2.18705971e-01 -8.99241676e-01 -6.09238205e-01\n",
      "  -1.72612395e+00 -1.39716990e+00 -2.56438427e-01 -2.61388890e-01\n",
      "  -1.58016231e-01 -1.23597588e+00 -3.73168845e-01 -1.52586618e+00\n",
      "  -9.65141807e-01 -1.10777242e+00  2.81448786e-01 -9.56733977e-01\n",
      "  -5.23286751e-01 -3.68164150e-01 -7.38794559e-01 -8.10741323e-01\n",
      "  -1.77054601e+00 -5.74439751e-01 -2.88822205e-01 -8.24082780e-01\n",
      "  -7.00877932e-01 -9.68684947e-01 -5.90657868e-01  7.06476288e-02\n",
      "   0.00000000e+00 -1.58807253e+00 -5.56724964e-01 -2.30031358e-01\n",
      "   6.14772570e-01  7.07448661e-01 -2.12686223e-01 -1.28993117e+00\n",
      "   4.97840716e-01 -1.22328417e+00 -8.38650090e-01 -3.60234849e-02\n",
      "  -7.43116162e-02 -6.18466403e-01  0.00000000e+00  2.87005857e-02\n",
      "   1.34927426e-01 -1.16748526e+00 -1.40781662e-01 -3.50066880e-01\n",
      "  -8.65884696e-01 -2.06720673e+00 -4.25166978e-01  3.84132819e-02\n",
      "  -6.47149016e-01  3.48585783e-01 -1.15632428e-01 -1.43497794e+00\n",
      "  -8.11906042e-01 -9.04030402e-01 -1.09177091e+00 -4.53762750e-01\n",
      "   2.32307958e-01 -1.00360903e-01 -7.70691533e-01 -1.41151600e+00\n",
      "  -1.84933392e-01 -5.83868964e-01 -1.43801329e+00 -2.00904858e-01\n",
      "   5.67453670e-01 -4.46905477e-01  3.72198073e-02 -2.42500339e-01\n",
      "  -1.06531776e+00 -1.29916886e+00 -4.09385115e-01 -1.61282409e-01\n",
      "  -6.29559921e-01  0.00000000e+00 -2.41837926e-01 -8.46933975e-01\n",
      "  -1.05853866e+00 -7.29342575e-02 -1.57224218e+00  6.99552272e-01\n",
      "  -1.28929419e+00  1.59902279e-01  1.99431884e-01 -4.17625203e-01\n",
      "  -1.79703775e-01 -6.92959384e-01  2.76731445e-01 -7.50966998e-01\n",
      "  -1.46099573e+00  4.11058996e-01  2.95661127e-02 -2.48523529e-01\n",
      "  -1.00060714e+00  6.34653217e-01  0.00000000e+00 -8.15742160e-01\n",
      "  -1.43748466e+00 -1.08624171e+00  7.59239469e-01 -6.60029322e-01\n",
      "  -8.32577067e-01  1.79992988e-01 -7.25002572e-01 -1.70649211e+00\n",
      "  -1.05087795e+00 -9.14053807e-01  3.90616779e-03 -8.39525645e-01\n",
      "  -1.96413596e+00  5.28697360e-02 -7.58632213e-01 -1.38360931e+00\n",
      "  -8.91508091e-01 -1.02884954e-01 -1.09936849e+00  0.00000000e+00]].\n"
     ]
    }
   ],
   "source": [
    "C_Sub_fine=np.linspace(0.1,2.0,10)\n",
    "Accuracy_Sub_fine,Accuracy_train_Sub_fine,Coef_Sub_fine = TuneParameters(pipeline_LogReg,C_Sub_fine,X_train_OneHot_Sub,Y_train,X_valid_OneHot_Sub,Y_valid)\n",
    "ReportBest(Accuracy_train_Sub_fine,Accuracy_Sub_fine,C_Sub_fine,Coef_Sub_fine)"
   ]
  },
  {
   "cell_type": "code",
   "execution_count": 20,
   "metadata": {},
   "outputs": [
    {
     "data": {
      "image/png": "[encoded data removed]",
      "text/plain": [
       "<Figure size 432x288 with 1 Axes>"
      ]
     },
     "metadata": {
      "needs_background": "light"
     },
     "output_type": "display_data"
    }
   ],
   "source": [
    "PlotBiasVariance(Accuracy_train_Sub_fine,Accuracy_Sub_fine,C_Sub_fine)\n",
    "plt.savefig('Figures/LogReg/BasicNamesDataSet/BiasVarianceOneHotSubFineTunedC.png')"
   ]
  },
  {
   "cell_type": "markdown",
   "metadata": {},
   "source": [
    "Okay, so in the end, our best result after tuning the complexity of our model is:"
   ]
  },
  {
   "cell_type": "code",
   "execution_count": 21,
   "metadata": {},
   "outputs": [
    {
     "name": "stdout",
     "output_type": "stream",
     "text": [
      "The best validation accuracy is 0.665313242503534.\n",
      "The best training accuracy is 0.6717622301525068.\n",
      "The best value for C is 0.3111111111111111\n",
      "And, the best model coefficients are [[-7.72889988e-08 -3.47428816e-02 -2.30595393e-01 -1.49993805e+01\n",
      "  -8.88686400e-03  3.87466938e-03  1.09059870e-02  2.73886742e-02\n",
      "   3.64580242e-02  6.76970394e-03 -1.04232495e+00 -6.97927323e-01\n",
      "  -1.18537914e+00 -9.90135671e-01 -7.20474481e-01  5.75618340e-01\n",
      "  -1.41214111e+00 -2.16440130e+00 -8.93097480e-01 -5.68178243e-01\n",
      "   2.94317684e-01 -7.50623999e-01 -1.28578465e+00 -1.52098231e-02\n",
      "  -2.57094432e-01  3.54255630e-01 -2.00341560e+00 -4.36374578e-01\n",
      "  -5.06470971e-01 -1.42818776e+00  6.46448519e-01 -4.63730253e-01\n",
      "   6.66206144e-01 -2.15136186e-01  2.31732196e-01 -9.55089304e-02\n",
      "  -1.15202836e+00 -8.53029279e-01 -1.00539050e+00  5.97640796e-01\n",
      "  -1.54760368e+00 -1.33973240e+00 -1.23273515e+00 -1.93056989e+00\n",
      "   1.16546737e-01  5.43570375e-01 -5.19009684e-01 -1.22206825e+00\n",
      "  -3.30099069e-01 -2.18705971e-01 -8.99241676e-01 -6.09238205e-01\n",
      "  -1.72612395e+00 -1.39716990e+00 -2.56438427e-01 -2.61388890e-01\n",
      "  -1.58016231e-01 -1.23597588e+00 -3.73168845e-01 -1.52586618e+00\n",
      "  -9.65141807e-01 -1.10777242e+00  2.81448786e-01 -9.56733977e-01\n",
      "  -5.23286751e-01 -3.68164150e-01 -7.38794559e-01 -8.10741323e-01\n",
      "  -1.77054601e+00 -5.74439751e-01 -2.88822205e-01 -8.24082780e-01\n",
      "  -7.00877932e-01 -9.68684947e-01 -5.90657868e-01  7.06476288e-02\n",
      "   0.00000000e+00 -1.58807253e+00 -5.56724964e-01 -2.30031358e-01\n",
      "   6.14772570e-01  7.07448661e-01 -2.12686223e-01 -1.28993117e+00\n",
      "   4.97840716e-01 -1.22328417e+00 -8.38650090e-01 -3.60234849e-02\n",
      "  -7.43116162e-02 -6.18466403e-01  0.00000000e+00  2.87005857e-02\n",
      "   1.34927426e-01 -1.16748526e+00 -1.40781662e-01 -3.50066880e-01\n",
      "  -8.65884696e-01 -2.06720673e+00 -4.25166978e-01  3.84132819e-02\n",
      "  -6.47149016e-01  3.48585783e-01 -1.15632428e-01 -1.43497794e+00\n",
      "  -8.11906042e-01 -9.04030402e-01 -1.09177091e+00 -4.53762750e-01\n",
      "   2.32307958e-01 -1.00360903e-01 -7.70691533e-01 -1.41151600e+00\n",
      "  -1.84933392e-01 -5.83868964e-01 -1.43801329e+00 -2.00904858e-01\n",
      "   5.67453670e-01 -4.46905477e-01  3.72198073e-02 -2.42500339e-01\n",
      "  -1.06531776e+00 -1.29916886e+00 -4.09385115e-01 -1.61282409e-01\n",
      "  -6.29559921e-01  0.00000000e+00 -2.41837926e-01 -8.46933975e-01\n",
      "  -1.05853866e+00 -7.29342575e-02 -1.57224218e+00  6.99552272e-01\n",
      "  -1.28929419e+00  1.59902279e-01  1.99431884e-01 -4.17625203e-01\n",
      "  -1.79703775e-01 -6.92959384e-01  2.76731445e-01 -7.50966998e-01\n",
      "  -1.46099573e+00  4.11058996e-01  2.95661127e-02 -2.48523529e-01\n",
      "  -1.00060714e+00  6.34653217e-01  0.00000000e+00 -8.15742160e-01\n",
      "  -1.43748466e+00 -1.08624171e+00  7.59239469e-01 -6.60029322e-01\n",
      "  -8.32577067e-01  1.79992988e-01 -7.25002572e-01 -1.70649211e+00\n",
      "  -1.05087795e+00 -9.14053807e-01  3.90616779e-03 -8.39525645e-01\n",
      "  -1.96413596e+00  5.28697360e-02 -7.58632213e-01 -1.38360931e+00\n",
      "  -8.91508091e-01 -1.02884954e-01 -1.09936849e+00  0.00000000e+00]].\n"
     ]
    }
   ],
   "source": [
    "ReportBest(Accuracy_train_Sub_fine,Accuracy_Sub_fine,C_Sub_fine,Coef_Sub_fine)"
   ]
  },
  {
   "cell_type": "markdown",
   "metadata": {},
   "source": [
    "Now, let's try one hot encoding both: "
   ]
  },
  {
   "cell_type": "code",
   "execution_count": 22,
   "metadata": {
    "scrolled": false
   },
   "outputs": [
    {
     "name": "stderr",
     "output_type": "stream",
     "text": [
      "/Users/glinn/anaconda3/lib/python3.6/site-packages/sklearn/linear_model/logistic.py:432: FutureWarning: Default solver will be changed to 'lbfgs' in 0.22. Specify a solver to silence this warning.\n",
      "  FutureWarning)\n",
      "/Users/glinn/anaconda3/lib/python3.6/site-packages/sklearn/utils/validation.py:724: DataConversionWarning: A column-vector y was passed when a 1d array was expected. Please change the shape of y to (n_samples, ), for example using ravel().\n",
      "  y = column_or_1d(y, warn=True)\n",
      "/Users/glinn/anaconda3/lib/python3.6/site-packages/sklearn/linear_model/logistic.py:1544: UserWarning: 'n_jobs' > 1 does not have any effect when 'solver' is set to 'liblinear'. Got 'n_jobs' = 8.\n",
      "  \" = {}.\".format(effective_n_jobs(self.n_jobs)))\n",
      "/Users/glinn/anaconda3/lib/python3.6/site-packages/sklearn/linear_model/logistic.py:432: FutureWarning: Default solver will be changed to 'lbfgs' in 0.22. Specify a solver to silence this warning.\n",
      "  FutureWarning)\n",
      "/Users/glinn/anaconda3/lib/python3.6/site-packages/sklearn/utils/validation.py:724: DataConversionWarning: A column-vector y was passed when a 1d array was expected. Please change the shape of y to (n_samples, ), for example using ravel().\n",
      "  y = column_or_1d(y, warn=True)\n",
      "/Users/glinn/anaconda3/lib/python3.6/site-packages/sklearn/linear_model/logistic.py:1544: UserWarning: 'n_jobs' > 1 does not have any effect when 'solver' is set to 'liblinear'. Got 'n_jobs' = 8.\n",
      "  \" = {}.\".format(effective_n_jobs(self.n_jobs)))\n",
      "/Users/glinn/anaconda3/lib/python3.6/site-packages/sklearn/linear_model/logistic.py:432: FutureWarning: Default solver will be changed to 'lbfgs' in 0.22. Specify a solver to silence this warning.\n",
      "  FutureWarning)\n",
      "/Users/glinn/anaconda3/lib/python3.6/site-packages/sklearn/utils/validation.py:724: DataConversionWarning: A column-vector y was passed when a 1d array was expected. Please change the shape of y to (n_samples, ), for example using ravel().\n",
      "  y = column_or_1d(y, warn=True)\n",
      "/Users/glinn/anaconda3/lib/python3.6/site-packages/sklearn/linear_model/logistic.py:1544: UserWarning: 'n_jobs' > 1 does not have any effect when 'solver' is set to 'liblinear'. Got 'n_jobs' = 8.\n",
      "  \" = {}.\".format(effective_n_jobs(self.n_jobs)))\n",
      "/Users/glinn/anaconda3/lib/python3.6/site-packages/sklearn/linear_model/logistic.py:432: FutureWarning: Default solver will be changed to 'lbfgs' in 0.22. Specify a solver to silence this warning.\n",
      "  FutureWarning)\n",
      "/Users/glinn/anaconda3/lib/python3.6/site-packages/sklearn/utils/validation.py:724: DataConversionWarning: A column-vector y was passed when a 1d array was expected. Please change the shape of y to (n_samples, ), for example using ravel().\n",
      "  y = column_or_1d(y, warn=True)\n",
      "/Users/glinn/anaconda3/lib/python3.6/site-packages/sklearn/linear_model/logistic.py:1544: UserWarning: 'n_jobs' > 1 does not have any effect when 'solver' is set to 'liblinear'. Got 'n_jobs' = 8.\n",
      "  \" = {}.\".format(effective_n_jobs(self.n_jobs)))\n",
      "/Users/glinn/anaconda3/lib/python3.6/site-packages/sklearn/linear_model/logistic.py:432: FutureWarning: Default solver will be changed to 'lbfgs' in 0.22. Specify a solver to silence this warning.\n",
      "  FutureWarning)\n",
      "/Users/glinn/anaconda3/lib/python3.6/site-packages/sklearn/utils/validation.py:724: DataConversionWarning: A column-vector y was passed when a 1d array was expected. Please change the shape of y to (n_samples, ), for example using ravel().\n",
      "  y = column_or_1d(y, warn=True)\n",
      "/Users/glinn/anaconda3/lib/python3.6/site-packages/sklearn/linear_model/logistic.py:1544: UserWarning: 'n_jobs' > 1 does not have any effect when 'solver' is set to 'liblinear'. Got 'n_jobs' = 8.\n",
      "  \" = {}.\".format(effective_n_jobs(self.n_jobs)))\n",
      "/Users/glinn/anaconda3/lib/python3.6/site-packages/sklearn/linear_model/logistic.py:432: FutureWarning: Default solver will be changed to 'lbfgs' in 0.22. Specify a solver to silence this warning.\n",
      "  FutureWarning)\n",
      "/Users/glinn/anaconda3/lib/python3.6/site-packages/sklearn/utils/validation.py:724: DataConversionWarning: A column-vector y was passed when a 1d array was expected. Please change the shape of y to (n_samples, ), for example using ravel().\n",
      "  y = column_or_1d(y, warn=True)\n",
      "/Users/glinn/anaconda3/lib/python3.6/site-packages/sklearn/linear_model/logistic.py:1544: UserWarning: 'n_jobs' > 1 does not have any effect when 'solver' is set to 'liblinear'. Got 'n_jobs' = 8.\n",
      "  \" = {}.\".format(effective_n_jobs(self.n_jobs)))\n"
     ]
    },
    {
     "name": "stdout",
     "output_type": "stream",
     "text": [
      "The validation accuracy is [0.66143343 0.66585461 0.6661253  0.66600499 0.66594484 0.66618545].\n",
      "The training accuracy is [0.66709341 0.67207429 0.67201828 0.67204228 0.67205428 0.67206628].\n",
      "The best value for C is 2000.0\n",
      "And, the best model coefficients are [[-7.84498792e-09 -2.31196963e-01 -1.54597681e+01 -7.97031616e-03\n",
      "   4.69723997e-03  1.14204006e-02  2.80583854e-02  3.48420665e-02\n",
      "  -5.04153055e-01 -3.33153862e-02 -1.20497081e+00 -5.85396342e-01\n",
      "  -4.32507732e-01 -3.93347128e-01 -3.85700519e-01 -6.05607823e-01\n",
      "   9.22816845e-02 -6.37999306e-02 -3.38010629e-01 -5.26399970e-01\n",
      "  -6.51844071e-01 -7.62111931e-01  2.32039027e-01  1.08389097e-01\n",
      "  -1.08657704e+00 -7.33512059e-01 -1.29295697e+00 -1.19209347e+00\n",
      "  -7.96698548e-01  4.85664190e-01 -1.44140028e+00 -2.10640693e+00\n",
      "  -8.78886921e-01 -3.12259636e-01  2.90289376e-01 -1.30136161e+00\n",
      "  -1.31099181e+00 -3.48300938e-01 -3.32922520e-01  4.71592298e-01\n",
      "  -1.19831549e+00 -2.42450151e-01 -5.22932733e-01 -1.51431722e+00\n",
      "   1.16795637e+00 -4.87907072e-01  4.19858842e-01 -3.29903514e-01\n",
      "  -1.39053541e-04 -3.47880667e-01 -1.12924214e+00 -6.15742560e-01\n",
      "  -9.36685176e-01  3.46688038e-01 -1.70550090e+00 -4.59409403e-01\n",
      "  -4.77846840e-01 -1.07305657e+00  2.04850900e-01  7.86685820e-01\n",
      "  -4.75429430e-01 -9.82304088e-01 -3.92209246e-01 -2.88195797e-01\n",
      "  -7.88152538e-01 -8.78075660e-01 -1.13184563e+00 -1.39476810e+00\n",
      "  -7.29070797e-01 -2.87508996e-01 -4.29655092e-01 -1.39887324e+00\n",
      "  -5.02626832e-01 -1.48791765e+00 -8.66099183e-01 -1.13559389e+00\n",
      "  -3.48459253e-01 -9.69896955e-01 -5.90220943e-01 -5.02608589e-01\n",
      "  -7.41437643e-01 -6.95305968e-01 -1.67415069e+00 -6.19099728e-01\n",
      "  -2.27784601e-01 -1.44415231e+00 -1.37931327e+00 -2.34326557e-01\n",
      "  -5.53516072e-01 -1.64386153e-01  6.61765218e-02 -1.85286655e+00\n",
      "  -6.38416501e-01  1.97021470e-02 -2.75033319e-01  4.53857658e-01\n",
      "   4.06059941e-03 -1.31317108e+00  2.49469473e-01 -1.27352729e+00\n",
      "  -1.34418462e+00 -3.54528096e-01  6.96337936e-01 -1.03081674e+00\n",
      "   9.30761875e-01  9.05639951e-02  9.85998983e-01 -1.81345176e+00\n",
      "  -1.65023091e-01 -6.35867915e-01 -6.14975973e-01 -2.71017982e+00\n",
      "  -6.04751842e-01 -2.14959161e-01 -7.48420796e-01 -5.80965674e-01\n",
      "  -1.80157398e-01 -1.59534242e+00 -8.28703737e-01 -6.52489712e-01\n",
      "  -1.21511440e+00 -2.05097964e-01  4.85840129e-01 -1.26970075e-01\n",
      "  -9.63952301e-01 -2.06780666e+00 -2.97391772e-01 -6.90644054e-01\n",
      "  -1.58498355e+00 -8.28205752e-01 -3.69527072e-01 -4.75363604e-01\n",
      "  -2.08857789e-01  4.59630250e-01 -1.59361342e+00 -5.29419701e-01\n",
      "  -3.61684416e-01  9.03002063e-02 -6.47524278e-01 -2.05240544e-01\n",
      "  -9.46738897e-01 -2.23812334e-01 -1.36819580e+00 -1.07184592e-01\n",
      "  -1.63296304e+00  1.29917126e+00 -1.17634788e+00  2.66565967e-01\n",
      "  -5.41443279e-02 -6.07014635e-01 -2.68789778e-01 -4.46031003e-01\n",
      "   2.12861951e-01 -6.45754870e-01 -1.40887504e+00  5.17977819e-01\n",
      "   1.70619737e-01 -4.01987191e-01 -2.19209769e-01  2.35684850e-02\n",
      "   6.98278901e-01 -7.53564999e-01 -1.54064772e+00 -9.09963489e-01\n",
      "  -1.99556217e-01 -7.53679253e-01 -1.00615615e+00  4.04539502e-01\n",
      "  -6.41774655e-01 -2.29050295e+00 -9.11592198e-01 -1.52603852e+00\n",
      "   9.80277484e-02 -2.08719585e-01 -2.09077953e+00 -1.54410620e-01\n",
      "  -8.27298235e-01 -5.19578909e-01 -7.87413368e-01 -3.69404983e-01\n",
      "  -1.14621814e+00 -5.77678084e-02]].\n"
     ]
    }
   ],
   "source": [
    "C_Both=[0.01,1.0,10.0,100.0,1000.0,2000.0]\n",
    "Accuracy_Both,Accuracy_train_Both,Coef_Both = TuneParameters(pipeline_LogReg,C_Both,X_train_OneHot_Both,Y_train,X_valid_OneHot_Both,Y_valid)\n",
    "ReportFull(Accuracy_train_Both,Accuracy_Both,C_Both,Coef_Both)"
   ]
  },
  {
   "cell_type": "code",
   "execution_count": 23,
   "metadata": {},
   "outputs": [
    {
     "data": {
      "image/png": "[encoded data removed]",
      "text/plain": [
       "<Figure size 432x288 with 1 Axes>"
      ]
     },
     "metadata": {
      "needs_background": "light"
     },
     "output_type": "display_data"
    }
   ],
   "source": [
    "PlotBiasVariance(Accuracy_train_Both,Accuracy_Both,C_Both)\n",
    "plt.savefig('Figures/LogReg/BasicNamesDataSet/BiasVarianceOneHotBothCoarseTunedC.png')"
   ]
  },
  {
   "cell_type": "code",
   "execution_count": 24,
   "metadata": {},
   "outputs": [
    {
     "name": "stderr",
     "output_type": "stream",
     "text": [
      "/Users/glinn/anaconda3/lib/python3.6/site-packages/sklearn/linear_model/logistic.py:432: FutureWarning: Default solver will be changed to 'lbfgs' in 0.22. Specify a solver to silence this warning.\n",
      "  FutureWarning)\n",
      "/Users/glinn/anaconda3/lib/python3.6/site-packages/sklearn/utils/validation.py:724: DataConversionWarning: A column-vector y was passed when a 1d array was expected. Please change the shape of y to (n_samples, ), for example using ravel().\n",
      "  y = column_or_1d(y, warn=True)\n",
      "/Users/glinn/anaconda3/lib/python3.6/site-packages/sklearn/linear_model/logistic.py:1544: UserWarning: 'n_jobs' > 1 does not have any effect when 'solver' is set to 'liblinear'. Got 'n_jobs' = 8.\n",
      "  \" = {}.\".format(effective_n_jobs(self.n_jobs)))\n",
      "/Users/glinn/anaconda3/lib/python3.6/site-packages/sklearn/linear_model/logistic.py:432: FutureWarning: Default solver will be changed to 'lbfgs' in 0.22. Specify a solver to silence this warning.\n",
      "  FutureWarning)\n",
      "/Users/glinn/anaconda3/lib/python3.6/site-packages/sklearn/utils/validation.py:724: DataConversionWarning: A column-vector y was passed when a 1d array was expected. Please change the shape of y to (n_samples, ), for example using ravel().\n",
      "  y = column_or_1d(y, warn=True)\n",
      "/Users/glinn/anaconda3/lib/python3.6/site-packages/sklearn/linear_model/logistic.py:1544: UserWarning: 'n_jobs' > 1 does not have any effect when 'solver' is set to 'liblinear'. Got 'n_jobs' = 8.\n",
      "  \" = {}.\".format(effective_n_jobs(self.n_jobs)))\n",
      "/Users/glinn/anaconda3/lib/python3.6/site-packages/sklearn/linear_model/logistic.py:432: FutureWarning: Default solver will be changed to 'lbfgs' in 0.22. Specify a solver to silence this warning.\n",
      "  FutureWarning)\n",
      "/Users/glinn/anaconda3/lib/python3.6/site-packages/sklearn/utils/validation.py:724: DataConversionWarning: A column-vector y was passed when a 1d array was expected. Please change the shape of y to (n_samples, ), for example using ravel().\n",
      "  y = column_or_1d(y, warn=True)\n",
      "/Users/glinn/anaconda3/lib/python3.6/site-packages/sklearn/linear_model/logistic.py:1544: UserWarning: 'n_jobs' > 1 does not have any effect when 'solver' is set to 'liblinear'. Got 'n_jobs' = 8.\n",
      "  \" = {}.\".format(effective_n_jobs(self.n_jobs)))\n",
      "/Users/glinn/anaconda3/lib/python3.6/site-packages/sklearn/linear_model/logistic.py:432: FutureWarning: Default solver will be changed to 'lbfgs' in 0.22. Specify a solver to silence this warning.\n",
      "  FutureWarning)\n",
      "/Users/glinn/anaconda3/lib/python3.6/site-packages/sklearn/utils/validation.py:724: DataConversionWarning: A column-vector y was passed when a 1d array was expected. Please change the shape of y to (n_samples, ), for example using ravel().\n",
      "  y = column_or_1d(y, warn=True)\n",
      "/Users/glinn/anaconda3/lib/python3.6/site-packages/sklearn/linear_model/logistic.py:1544: UserWarning: 'n_jobs' > 1 does not have any effect when 'solver' is set to 'liblinear'. Got 'n_jobs' = 8.\n",
      "  \" = {}.\".format(effective_n_jobs(self.n_jobs)))\n",
      "/Users/glinn/anaconda3/lib/python3.6/site-packages/sklearn/linear_model/logistic.py:432: FutureWarning: Default solver will be changed to 'lbfgs' in 0.22. Specify a solver to silence this warning.\n",
      "  FutureWarning)\n",
      "/Users/glinn/anaconda3/lib/python3.6/site-packages/sklearn/utils/validation.py:724: DataConversionWarning: A column-vector y was passed when a 1d array was expected. Please change the shape of y to (n_samples, ), for example using ravel().\n",
      "  y = column_or_1d(y, warn=True)\n",
      "/Users/glinn/anaconda3/lib/python3.6/site-packages/sklearn/linear_model/logistic.py:1544: UserWarning: 'n_jobs' > 1 does not have any effect when 'solver' is set to 'liblinear'. Got 'n_jobs' = 8.\n",
      "  \" = {}.\".format(effective_n_jobs(self.n_jobs)))\n",
      "/Users/glinn/anaconda3/lib/python3.6/site-packages/sklearn/linear_model/logistic.py:432: FutureWarning: Default solver will be changed to 'lbfgs' in 0.22. Specify a solver to silence this warning.\n",
      "  FutureWarning)\n",
      "/Users/glinn/anaconda3/lib/python3.6/site-packages/sklearn/utils/validation.py:724: DataConversionWarning: A column-vector y was passed when a 1d array was expected. Please change the shape of y to (n_samples, ), for example using ravel().\n",
      "  y = column_or_1d(y, warn=True)\n",
      "/Users/glinn/anaconda3/lib/python3.6/site-packages/sklearn/linear_model/logistic.py:1544: UserWarning: 'n_jobs' > 1 does not have any effect when 'solver' is set to 'liblinear'. Got 'n_jobs' = 8.\n",
      "  \" = {}.\".format(effective_n_jobs(self.n_jobs)))\n",
      "/Users/glinn/anaconda3/lib/python3.6/site-packages/sklearn/linear_model/logistic.py:432: FutureWarning: Default solver will be changed to 'lbfgs' in 0.22. Specify a solver to silence this warning.\n",
      "  FutureWarning)\n",
      "/Users/glinn/anaconda3/lib/python3.6/site-packages/sklearn/utils/validation.py:724: DataConversionWarning: A column-vector y was passed when a 1d array was expected. Please change the shape of y to (n_samples, ), for example using ravel().\n",
      "  y = column_or_1d(y, warn=True)\n",
      "/Users/glinn/anaconda3/lib/python3.6/site-packages/sklearn/linear_model/logistic.py:1544: UserWarning: 'n_jobs' > 1 does not have any effect when 'solver' is set to 'liblinear'. Got 'n_jobs' = 8.\n",
      "  \" = {}.\".format(effective_n_jobs(self.n_jobs)))\n",
      "/Users/glinn/anaconda3/lib/python3.6/site-packages/sklearn/linear_model/logistic.py:432: FutureWarning: Default solver will be changed to 'lbfgs' in 0.22. Specify a solver to silence this warning.\n",
      "  FutureWarning)\n",
      "/Users/glinn/anaconda3/lib/python3.6/site-packages/sklearn/utils/validation.py:724: DataConversionWarning: A column-vector y was passed when a 1d array was expected. Please change the shape of y to (n_samples, ), for example using ravel().\n",
      "  y = column_or_1d(y, warn=True)\n",
      "/Users/glinn/anaconda3/lib/python3.6/site-packages/sklearn/linear_model/logistic.py:1544: UserWarning: 'n_jobs' > 1 does not have any effect when 'solver' is set to 'liblinear'. Got 'n_jobs' = 8.\n",
      "  \" = {}.\".format(effective_n_jobs(self.n_jobs)))\n",
      "/Users/glinn/anaconda3/lib/python3.6/site-packages/sklearn/linear_model/logistic.py:432: FutureWarning: Default solver will be changed to 'lbfgs' in 0.22. Specify a solver to silence this warning.\n",
      "  FutureWarning)\n",
      "/Users/glinn/anaconda3/lib/python3.6/site-packages/sklearn/utils/validation.py:724: DataConversionWarning: A column-vector y was passed when a 1d array was expected. Please change the shape of y to (n_samples, ), for example using ravel().\n",
      "  y = column_or_1d(y, warn=True)\n",
      "/Users/glinn/anaconda3/lib/python3.6/site-packages/sklearn/linear_model/logistic.py:1544: UserWarning: 'n_jobs' > 1 does not have any effect when 'solver' is set to 'liblinear'. Got 'n_jobs' = 8.\n",
      "  \" = {}.\".format(effective_n_jobs(self.n_jobs)))\n",
      "/Users/glinn/anaconda3/lib/python3.6/site-packages/sklearn/linear_model/logistic.py:432: FutureWarning: Default solver will be changed to 'lbfgs' in 0.22. Specify a solver to silence this warning.\n",
      "  FutureWarning)\n",
      "/Users/glinn/anaconda3/lib/python3.6/site-packages/sklearn/utils/validation.py:724: DataConversionWarning: A column-vector y was passed when a 1d array was expected. Please change the shape of y to (n_samples, ), for example using ravel().\n",
      "  y = column_or_1d(y, warn=True)\n",
      "/Users/glinn/anaconda3/lib/python3.6/site-packages/sklearn/linear_model/logistic.py:1544: UserWarning: 'n_jobs' > 1 does not have any effect when 'solver' is set to 'liblinear'. Got 'n_jobs' = 8.\n",
      "  \" = {}.\".format(effective_n_jobs(self.n_jobs)))\n"
     ]
    },
    {
     "name": "stdout",
     "output_type": "stream",
     "text": [
      "The best validation accuracy is 0.6662155252789558.\n",
      "The best training accuracy is 0.6722183104226344.\n",
      "The best value for C is 388.8888888888889\n",
      "And, the best model coefficients are [[-4.57567688e-09 -2.31152582e-01 -1.55344612e+01 -7.83986512e-03\n",
      "   4.90244504e-03  1.16243959e-02  2.78303317e-02  3.35967020e-02\n",
      "  -2.60119850e-01 -1.86782099e-03 -9.33181826e-01 -6.35380506e-01\n",
      "  -2.17376944e-01 -5.07697936e-01 -5.67138931e-01 -8.11436417e-01\n",
      "  -3.96639052e-01  3.08396835e-02 -1.78119709e-01 -1.14061488e+00\n",
      "  -8.45834424e-01 -6.77442235e-01  1.72144995e-01 -1.58058849e-03\n",
      "  -9.18075621e-01 -6.44147275e-01 -1.13581633e+00 -6.03187617e-01\n",
      "  -6.39854389e-01  5.54964874e-01 -1.35208927e+00 -2.21508548e+00\n",
      "  -1.12081741e+00 -5.81091180e-01  4.57784359e-01 -1.42297118e+00\n",
      "  -1.13016144e+00 -5.35323270e-01 -1.66725286e-01  3.63359790e-01\n",
      "  -1.49656248e+00 -5.12250713e-01 -3.55454542e-01 -1.42484253e+00\n",
      "   9.80482760e-01 -7.30067486e-01  2.32009720e-01 -1.81105030e-01\n",
      "  -6.31701887e-02 -4.04881826e-01 -9.48975530e-01 -8.85508697e-01\n",
      "  -7.56622610e-01  1.59761343e-01 -1.61646820e+00 -7.57694837e-01\n",
      "  -7.75596892e-01 -1.37083567e+00  9.35224100e-02  8.11088463e-01\n",
      "  -7.17389799e-01 -1.25246506e+00 -2.37030422e-01 -1.31400949e-01\n",
      "  -6.07505394e-01 -1.06366822e+00 -1.43171420e+00 -1.27229857e+00\n",
      "  -6.24971226e-01 -3.96617755e-01 -6.15611554e-01 -1.24211059e+00\n",
      "  -3.45802161e-01 -1.30783106e+00 -6.86655265e-01 -1.04678520e+00\n",
      "  -2.70195521e-01 -8.02676187e-01 -4.32831500e-01  8.60950592e-02\n",
      "  -8.50900132e-01 -5.14405708e-01 -1.49241068e+00 -5.30130092e-01\n",
      "  -3.37418011e-01 -9.81527448e-01 -9.15896855e-01 -5.33450186e-01\n",
      "  -7.94592110e-01 -2.21151101e-01 -4.34331951e-02 -2.03752889e+00\n",
      "  -4.82722266e-01 -2.50926289e-01 -2.40005395e-01  2.68179620e-01\n",
      "  -2.66358440e-01 -1.55438445e+00  6.42268689e-02 -1.18545511e+00\n",
      "  -1.46655691e+00 -5.40489765e-01  3.97919750e-01 -1.21569022e+00\n",
      "   7.53819981e-01  2.58805481e-01  1.15266744e+00 -1.34982870e+00\n",
      "  -2.74634533e-01 -8.21699905e-01 -8.84232153e-01 -2.24604276e+00\n",
      "  -4.47830258e-01 -4.00702487e-01 -5.92470883e-01 -5.56647683e-01\n",
      "  -2.26505341e-02 -1.00702032e+00 -6.61418922e-01 -9.23563593e-01\n",
      "  -6.26875747e-01 -4.75126026e-01  5.09860707e-01  4.07018768e-02\n",
      "  -8.76046005e-01 -2.19019924e+00  2.91921902e-01 -1.02389216e-01\n",
      "  -9.96635374e-01 -3.65071884e-01 -3.44846110e-01 -3.05522462e-01\n",
      "  -3.95080532e-01  1.60971869e-01 -1.71573649e+00 -8.28120350e-01\n",
      "  -6.02567185e-01 -1.79888665e-01 -4.80417638e-01 -3.90935752e-01\n",
      "  -4.84643333e-01 -5.23202286e-01 -1.55316910e+00  6.00658328e-02\n",
      "  -1.54313788e+00  1.32194374e+00 -9.94021569e-01  1.56646311e-01\n",
      "  -2.40583205e-01 -4.50146686e-01 -1.12285423e-01 -7.15827230e-01\n",
      "   3.69740997e-01 -4.64955636e-01 -1.51901259e+00  4.08324431e-01\n",
      "   5.98829978e-02 -2.99211686e-01 -5.18259702e-01  4.87195452e-01\n",
      "   3.98464920e-01 -8.63416429e-01 -1.38283649e+00 -1.17950239e+00\n",
      "  -1.65997355e-01 -5.96708133e-01 -8.38352923e-01  1.62851898e-01\n",
      "  -4.61301731e-01 -2.41079681e+00 -1.18036285e+00 -1.06157885e+00\n",
      "  -1.13123003e-02 -5.06381005e-01 -2.20479419e+00 -2.17824110e-01\n",
      "  -6.70167090e-01 -8.17166150e-01 -7.63775835e-01 -5.56302437e-01\n",
      "  -9.76706132e-01  1.10376629e-01]].\n"
     ]
    }
   ],
   "source": [
    "C_Both_fine=np.linspace(200,1900,10)\n",
    "Accuracy_Both_fine,Accuracy_train_Both_fine,Coef_Both_fine = TuneParameters(pipeline_LogReg,C_Both_fine,X_train_OneHot_Both,Y_train,X_valid_OneHot_Both,Y_valid)\n",
    "ReportBest(Accuracy_train_Both_fine,Accuracy_Both_fine,C_Both_fine,Coef_Both_fine)"
   ]
  },
  {
   "cell_type": "code",
   "execution_count": 25,
   "metadata": {},
   "outputs": [
    {
     "data": {
      "image/png": "[encoded data removed]",
      "text/plain": [
       "<Figure size 432x288 with 1 Axes>"
      ]
     },
     "metadata": {
      "needs_background": "light"
     },
     "output_type": "display_data"
    }
   ],
   "source": [
    "PlotBiasVariance(Accuracy_train_Both_fine,Accuracy_Both_fine,C_Both_fine)\n",
    "plt.savefig('Figures/LogReg/BasicNamesDataSet/BiasVarianceOneHotBothFineTunedC.png')"
   ]
  },
  {
   "cell_type": "markdown",
   "metadata": {},
   "source": [
    "Okay, so in the end, our best result after tuning the complexity of our model is:"
   ]
  },
  {
   "cell_type": "code",
   "execution_count": 26,
   "metadata": {},
   "outputs": [
    {
     "name": "stdout",
     "output_type": "stream",
     "text": [
      "The best validation accuracy is 0.6662155252789558.\n",
      "The best training accuracy is 0.6722183104226344.\n",
      "The best value for C is 388.8888888888889\n",
      "And, the best model coefficients are [[-4.57567688e-09 -2.31152582e-01 -1.55344612e+01 -7.83986512e-03\n",
      "   4.90244504e-03  1.16243959e-02  2.78303317e-02  3.35967020e-02\n",
      "  -2.60119850e-01 -1.86782099e-03 -9.33181826e-01 -6.35380506e-01\n",
      "  -2.17376944e-01 -5.07697936e-01 -5.67138931e-01 -8.11436417e-01\n",
      "  -3.96639052e-01  3.08396835e-02 -1.78119709e-01 -1.14061488e+00\n",
      "  -8.45834424e-01 -6.77442235e-01  1.72144995e-01 -1.58058849e-03\n",
      "  -9.18075621e-01 -6.44147275e-01 -1.13581633e+00 -6.03187617e-01\n",
      "  -6.39854389e-01  5.54964874e-01 -1.35208927e+00 -2.21508548e+00\n",
      "  -1.12081741e+00 -5.81091180e-01  4.57784359e-01 -1.42297118e+00\n",
      "  -1.13016144e+00 -5.35323270e-01 -1.66725286e-01  3.63359790e-01\n",
      "  -1.49656248e+00 -5.12250713e-01 -3.55454542e-01 -1.42484253e+00\n",
      "   9.80482760e-01 -7.30067486e-01  2.32009720e-01 -1.81105030e-01\n",
      "  -6.31701887e-02 -4.04881826e-01 -9.48975530e-01 -8.85508697e-01\n",
      "  -7.56622610e-01  1.59761343e-01 -1.61646820e+00 -7.57694837e-01\n",
      "  -7.75596892e-01 -1.37083567e+00  9.35224100e-02  8.11088463e-01\n",
      "  -7.17389799e-01 -1.25246506e+00 -2.37030422e-01 -1.31400949e-01\n",
      "  -6.07505394e-01 -1.06366822e+00 -1.43171420e+00 -1.27229857e+00\n",
      "  -6.24971226e-01 -3.96617755e-01 -6.15611554e-01 -1.24211059e+00\n",
      "  -3.45802161e-01 -1.30783106e+00 -6.86655265e-01 -1.04678520e+00\n",
      "  -2.70195521e-01 -8.02676187e-01 -4.32831500e-01  8.60950592e-02\n",
      "  -8.50900132e-01 -5.14405708e-01 -1.49241068e+00 -5.30130092e-01\n",
      "  -3.37418011e-01 -9.81527448e-01 -9.15896855e-01 -5.33450186e-01\n",
      "  -7.94592110e-01 -2.21151101e-01 -4.34331951e-02 -2.03752889e+00\n",
      "  -4.82722266e-01 -2.50926289e-01 -2.40005395e-01  2.68179620e-01\n",
      "  -2.66358440e-01 -1.55438445e+00  6.42268689e-02 -1.18545511e+00\n",
      "  -1.46655691e+00 -5.40489765e-01  3.97919750e-01 -1.21569022e+00\n",
      "   7.53819981e-01  2.58805481e-01  1.15266744e+00 -1.34982870e+00\n",
      "  -2.74634533e-01 -8.21699905e-01 -8.84232153e-01 -2.24604276e+00\n",
      "  -4.47830258e-01 -4.00702487e-01 -5.92470883e-01 -5.56647683e-01\n",
      "  -2.26505341e-02 -1.00702032e+00 -6.61418922e-01 -9.23563593e-01\n",
      "  -6.26875747e-01 -4.75126026e-01  5.09860707e-01  4.07018768e-02\n",
      "  -8.76046005e-01 -2.19019924e+00  2.91921902e-01 -1.02389216e-01\n",
      "  -9.96635374e-01 -3.65071884e-01 -3.44846110e-01 -3.05522462e-01\n",
      "  -3.95080532e-01  1.60971869e-01 -1.71573649e+00 -8.28120350e-01\n",
      "  -6.02567185e-01 -1.79888665e-01 -4.80417638e-01 -3.90935752e-01\n",
      "  -4.84643333e-01 -5.23202286e-01 -1.55316910e+00  6.00658328e-02\n",
      "  -1.54313788e+00  1.32194374e+00 -9.94021569e-01  1.56646311e-01\n",
      "  -2.40583205e-01 -4.50146686e-01 -1.12285423e-01 -7.15827230e-01\n",
      "   3.69740997e-01 -4.64955636e-01 -1.51901259e+00  4.08324431e-01\n",
      "   5.98829978e-02 -2.99211686e-01 -5.18259702e-01  4.87195452e-01\n",
      "   3.98464920e-01 -8.63416429e-01 -1.38283649e+00 -1.17950239e+00\n",
      "  -1.65997355e-01 -5.96708133e-01 -8.38352923e-01  1.62851898e-01\n",
      "  -4.61301731e-01 -2.41079681e+00 -1.18036285e+00 -1.06157885e+00\n",
      "  -1.13123003e-02 -5.06381005e-01 -2.20479419e+00 -2.17824110e-01\n",
      "  -6.70167090e-01 -8.17166150e-01 -7.63775835e-01 -5.56302437e-01\n",
      "  -9.76706132e-01  1.10376629e-01]].\n"
     ]
    }
   ],
   "source": [
    "ReportBest(Accuracy_train_Both_fine,Accuracy_Both_fine,C_Both_fine,Coef_Both_fine)"
   ]
  },
  {
   "cell_type": "markdown",
   "metadata": {},
   "source": [
    "We find in the end that the best dataset is one hot encoding both the main and the sub categories. Below is the report of the best overall model on the best dataset: "
   ]
  },
  {
   "cell_type": "code",
   "execution_count": 27,
   "metadata": {},
   "outputs": [
    {
     "name": "stdout",
     "output_type": "stream",
     "text": [
      "The best validation accuracy is 0.6662155252789558.\n",
      "The best training accuracy is 0.6722183104226344.\n",
      "The best value for C is 388.8888888888889\n",
      "And, the best model coefficients are [[-4.57567688e-09 -2.31152582e-01 -1.55344612e+01 -7.83986512e-03\n",
      "   4.90244504e-03  1.16243959e-02  2.78303317e-02  3.35967020e-02\n",
      "  -2.60119850e-01 -1.86782099e-03 -9.33181826e-01 -6.35380506e-01\n",
      "  -2.17376944e-01 -5.07697936e-01 -5.67138931e-01 -8.11436417e-01\n",
      "  -3.96639052e-01  3.08396835e-02 -1.78119709e-01 -1.14061488e+00\n",
      "  -8.45834424e-01 -6.77442235e-01  1.72144995e-01 -1.58058849e-03\n",
      "  -9.18075621e-01 -6.44147275e-01 -1.13581633e+00 -6.03187617e-01\n",
      "  -6.39854389e-01  5.54964874e-01 -1.35208927e+00 -2.21508548e+00\n",
      "  -1.12081741e+00 -5.81091180e-01  4.57784359e-01 -1.42297118e+00\n",
      "  -1.13016144e+00 -5.35323270e-01 -1.66725286e-01  3.63359790e-01\n",
      "  -1.49656248e+00 -5.12250713e-01 -3.55454542e-01 -1.42484253e+00\n",
      "   9.80482760e-01 -7.30067486e-01  2.32009720e-01 -1.81105030e-01\n",
      "  -6.31701887e-02 -4.04881826e-01 -9.48975530e-01 -8.85508697e-01\n",
      "  -7.56622610e-01  1.59761343e-01 -1.61646820e+00 -7.57694837e-01\n",
      "  -7.75596892e-01 -1.37083567e+00  9.35224100e-02  8.11088463e-01\n",
      "  -7.17389799e-01 -1.25246506e+00 -2.37030422e-01 -1.31400949e-01\n",
      "  -6.07505394e-01 -1.06366822e+00 -1.43171420e+00 -1.27229857e+00\n",
      "  -6.24971226e-01 -3.96617755e-01 -6.15611554e-01 -1.24211059e+00\n",
      "  -3.45802161e-01 -1.30783106e+00 -6.86655265e-01 -1.04678520e+00\n",
      "  -2.70195521e-01 -8.02676187e-01 -4.32831500e-01  8.60950592e-02\n",
      "  -8.50900132e-01 -5.14405708e-01 -1.49241068e+00 -5.30130092e-01\n",
      "  -3.37418011e-01 -9.81527448e-01 -9.15896855e-01 -5.33450186e-01\n",
      "  -7.94592110e-01 -2.21151101e-01 -4.34331951e-02 -2.03752889e+00\n",
      "  -4.82722266e-01 -2.50926289e-01 -2.40005395e-01  2.68179620e-01\n",
      "  -2.66358440e-01 -1.55438445e+00  6.42268689e-02 -1.18545511e+00\n",
      "  -1.46655691e+00 -5.40489765e-01  3.97919750e-01 -1.21569022e+00\n",
      "   7.53819981e-01  2.58805481e-01  1.15266744e+00 -1.34982870e+00\n",
      "  -2.74634533e-01 -8.21699905e-01 -8.84232153e-01 -2.24604276e+00\n",
      "  -4.47830258e-01 -4.00702487e-01 -5.92470883e-01 -5.56647683e-01\n",
      "  -2.26505341e-02 -1.00702032e+00 -6.61418922e-01 -9.23563593e-01\n",
      "  -6.26875747e-01 -4.75126026e-01  5.09860707e-01  4.07018768e-02\n",
      "  -8.76046005e-01 -2.19019924e+00  2.91921902e-01 -1.02389216e-01\n",
      "  -9.96635374e-01 -3.65071884e-01 -3.44846110e-01 -3.05522462e-01\n",
      "  -3.95080532e-01  1.60971869e-01 -1.71573649e+00 -8.28120350e-01\n",
      "  -6.02567185e-01 -1.79888665e-01 -4.80417638e-01 -3.90935752e-01\n",
      "  -4.84643333e-01 -5.23202286e-01 -1.55316910e+00  6.00658328e-02\n",
      "  -1.54313788e+00  1.32194374e+00 -9.94021569e-01  1.56646311e-01\n",
      "  -2.40583205e-01 -4.50146686e-01 -1.12285423e-01 -7.15827230e-01\n",
      "   3.69740997e-01 -4.64955636e-01 -1.51901259e+00  4.08324431e-01\n",
      "   5.98829978e-02 -2.99211686e-01 -5.18259702e-01  4.87195452e-01\n",
      "   3.98464920e-01 -8.63416429e-01 -1.38283649e+00 -1.17950239e+00\n",
      "  -1.65997355e-01 -5.96708133e-01 -8.38352923e-01  1.62851898e-01\n",
      "  -4.61301731e-01 -2.41079681e+00 -1.18036285e+00 -1.06157885e+00\n",
      "  -1.13123003e-02 -5.06381005e-01 -2.20479419e+00 -2.17824110e-01\n",
      "  -6.70167090e-01 -8.17166150e-01 -7.63775835e-01 -5.56302437e-01\n",
      "  -9.76706132e-01  1.10376629e-01]].\n"
     ]
    }
   ],
   "source": [
    "ReportBest(Accuracy_train_Both_fine,Accuracy_Both_fine,C_Both_fine,Coef_Both_fine)"
   ]
  },
  {
   "cell_type": "code",
   "execution_count": 28,
   "metadata": {},
   "outputs": [],
   "source": [
    "X_valid_df=X_valid_df.drop(columns=[\"Unnamed: 0\"])\n",
    "X_valid_OneHotBoth_df = pd.get_dummies(X_valid_df,columns = [\"main_category\",\"category\"])"
   ]
  },
  {
   "cell_type": "code",
   "execution_count": 29,
   "metadata": {},
   "outputs": [
    {
     "name": "stdout",
     "output_type": "stream",
     "text": [
      "The most negatively linearly correlated feature is usd_goal_real.\n",
      "The most positively linearly correlated feature is category_122.\n"
     ]
    }
   ],
   "source": [
    "print(f\"The most negatively linearly correlated feature is {X_valid_OneHotBoth_df.columns[np.argmin(Coef_Both_fine)]}.\")\n",
    "print(f\"The most positively linearly correlated feature is {X_valid_OneHotBoth_df.columns[np.argmax(Coef_Both_fine)]}.\")"
   ]
  }
 ],
 "metadata": {
  "kernelspec": {
   "display_name": "Python 3",
   "language": "python",
   "name": "python3"
  },
  "language_info": {
   "codemirror_mode": {
    "name": "ipython",
    "version": 3
   },
   "file_extension": ".py",
   "mimetype": "text/x-python",
   "name": "python",
   "nbconvert_exporter": "python",
   "pygments_lexer": "ipython3",
   "version": "3.6.9"
  }
 },
 "nbformat": 4,
 "nbformat_minor": 2
}
