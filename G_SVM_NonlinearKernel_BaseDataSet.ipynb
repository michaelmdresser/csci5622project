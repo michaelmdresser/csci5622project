{
 "cells": [
  {
   "cell_type": "code",
   "execution_count": 4,
   "metadata": {},
   "outputs": [],
   "source": [
    "# Load Necessary Libraries\n",
    "import numpy as np\n",
    "import pandas as pd\n",
    "import matplotlib.pyplot as plt\n",
    "import datetime\n",
    "import os\n",
    "\n",
    "from sklearn.svm import SVC\n",
    "from sklearn.pipeline import make_pipeline\n",
    "from sklearn.metrics import accuracy_score\n",
    "\n",
    "\n",
    "#Set Working Directory\n",
    "os.chdir(r\"/Users/glinn/Documents/CSCI5622-machine-learning/project/csci5622project\")"
   ]
  },
  {
   "cell_type": "code",
   "execution_count": 25,
   "metadata": {},
   "outputs": [],
   "source": [
    "def TurnDfXIntoArray(df):\n",
    "    df=df.drop(columns=[\"Unnamed: 0\"])\n",
    "    array = np.array(df)\n",
    "    return array\n",
    "def TurnDfYIntoVector(df):\n",
    "    array = np.array(df,dtype=int)\n",
    "    return array\n",
    "def TuneParameters(Model,C,X_train,Y_train,X_valid,Y_valid):\n",
    "    accuracy = []\n",
    "    for i in range(len(C)):\n",
    "        Model.set_params(svc__C=C[i])\n",
    "        Model.fit(X_train,Y_train)\n",
    "        yhat = Model.predict(X_valid)\n",
    "        accuracy.append(accuracy_score(Y_valid,yhat))\n",
    "    return accuracy\n",
    "def OneHotEncodeCategory(df,CategoryHeader):\n",
    "    df = pd.get_dummies(df,columns = CategoryHeader)\n",
    "    array = TurnDfXIntoArray(df)\n",
    "    return array"
   ]
  },
  {
   "cell_type": "markdown",
   "metadata": {},
   "source": [
    "Import the Data"
   ]
  },
  {
   "cell_type": "code",
   "execution_count": 3,
   "metadata": {},
   "outputs": [
    {
     "name": "stdout",
     "output_type": "stream",
     "text": [
      "   Unnamed: 0  main_category  category  duration  usd_goal_real  \\\n",
      "0           0             12        19 -0.316333      -0.036515   \n",
      "1           2              8       136  2.025723      -0.031740   \n",
      "2           4              7        44 -0.272265      -0.032463   \n",
      "3           5              5        31 -0.400095      -0.034948   \n",
      "4           6              6        93 -0.326225       0.008140   \n",
      "\n",
      "   launched_month  deadline_month  \n",
      "0             4.0             5.0  \n",
      "1            10.0             0.0  \n",
      "2             7.0             8.0  \n",
      "3             2.0             3.0  \n",
      "4             0.0             2.0  \n"
     ]
    }
   ],
   "source": [
    "#training data\n",
    "X_train_df = pd.read_csv(r\"data/preprocess-base-x-train.csv\")\n",
    "Y_train_df = pd.read_csv(r\"data/preprocess-base-y-train.csv\")\n",
    "#validation data\n",
    "X_valid_df = pd.read_csv(r\"data/preprocess-base-x-valid.csv\")\n",
    "Y_valid_df = pd.read_csv(r\"data/preprocess-base-y-valid.csv\")\n",
    "\n",
    "X_train = TurnDfXIntoArray(X_train_df)\n",
    "X_valid = TurnDfXIntoArray(X_valid_df)\n",
    "Y_train = TurnDfYIntoVector(Y_train_df)\n",
    "Y_valid = TurnDfYIntoVector(Y_valid_df)\n",
    "\n",
    "print(X_train_df.head(5))"
   ]
  },
  {
   "cell_type": "markdown",
   "metadata": {},
   "source": [
    "# Build the Model"
   ]
  },
  {
   "cell_type": "code",
   "execution_count": 35,
   "metadata": {},
   "outputs": [],
   "source": [
    "# Define pipeline\n",
    "SVM = SVC(max_iter = 1e6,kernel='rbf')\n",
    "pipeline_LogReg= make_pipeline(SVM)\n",
    "#SVM.get_key()"
   ]
  },
  {
   "cell_type": "markdown",
   "metadata": {},
   "source": [
    "# Test the Model"
   ]
  },
  {
   "cell_type": "code",
   "execution_count": 36,
   "metadata": {},
   "outputs": [
    {
     "name": "stderr",
     "output_type": "stream",
     "text": [
      "/Users/glinn/anaconda3/lib/python3.6/site-packages/sklearn/utils/validation.py:724: DataConversionWarning: A column-vector y was passed when a 1d array was expected. Please change the shape of y to (n_samples, ), for example using ravel().\n",
      "  y = column_or_1d(y, warn=True)\n",
      "/Users/glinn/anaconda3/lib/python3.6/site-packages/sklearn/svm/base.py:193: FutureWarning: The default value of gamma will change from 'auto' to 'scale' in version 0.22 to account better for unscaled features. Set gamma explicitly to 'auto' or 'scale' to avoid this warning.\n",
      "  \"avoid this warning.\", FutureWarning)\n",
      "/Users/glinn/anaconda3/lib/python3.6/site-packages/sklearn/utils/validation.py:724: DataConversionWarning: A column-vector y was passed when a 1d array was expected. Please change the shape of y to (n_samples, ), for example using ravel().\n",
      "  y = column_or_1d(y, warn=True)\n",
      "/Users/glinn/anaconda3/lib/python3.6/site-packages/sklearn/svm/base.py:193: FutureWarning: The default value of gamma will change from 'auto' to 'scale' in version 0.22 to account better for unscaled features. Set gamma explicitly to 'auto' or 'scale' to avoid this warning.\n",
      "  \"avoid this warning.\", FutureWarning)\n",
      "/Users/glinn/anaconda3/lib/python3.6/site-packages/sklearn/utils/validation.py:724: DataConversionWarning: A column-vector y was passed when a 1d array was expected. Please change the shape of y to (n_samples, ), for example using ravel().\n",
      "  y = column_or_1d(y, warn=True)\n",
      "/Users/glinn/anaconda3/lib/python3.6/site-packages/sklearn/svm/base.py:193: FutureWarning: The default value of gamma will change from 'auto' to 'scale' in version 0.22 to account better for unscaled features. Set gamma explicitly to 'auto' or 'scale' to avoid this warning.\n",
      "  \"avoid this warning.\", FutureWarning)\n",
      "/Users/glinn/anaconda3/lib/python3.6/site-packages/sklearn/svm/base.py:241: ConvergenceWarning: Solver terminated early (max_iter=1000000).  Consider pre-processing your data with StandardScaler or MinMaxScaler.\n",
      "  % self.max_iter, ConvergenceWarning)\n",
      "/Users/glinn/anaconda3/lib/python3.6/site-packages/sklearn/utils/validation.py:724: DataConversionWarning: A column-vector y was passed when a 1d array was expected. Please change the shape of y to (n_samples, ), for example using ravel().\n",
      "  y = column_or_1d(y, warn=True)\n",
      "/Users/glinn/anaconda3/lib/python3.6/site-packages/sklearn/svm/base.py:193: FutureWarning: The default value of gamma will change from 'auto' to 'scale' in version 0.22 to account better for unscaled features. Set gamma explicitly to 'auto' or 'scale' to avoid this warning.\n",
      "  \"avoid this warning.\", FutureWarning)\n",
      "/Users/glinn/anaconda3/lib/python3.6/site-packages/sklearn/svm/base.py:241: ConvergenceWarning: Solver terminated early (max_iter=1000000).  Consider pre-processing your data with StandardScaler or MinMaxScaler.\n",
      "  % self.max_iter, ConvergenceWarning)\n"
     ]
    },
    {
     "name": "stdout",
     "output_type": "stream",
     "text": [
      "[0.6429967818581009, 0.6537940990706488, 0.6510872507443833, 0.650425576709074]\n"
     ]
    }
   ],
   "source": [
    "C=[0.01,1.0,10.0,100.0]\n",
    "Accuracy = TuneParameters(pipeline_LogReg,C,X_train,Y_train,X_valid,Y_valid)\n",
    "print(Accuracy)"
   ]
  },
  {
   "cell_type": "markdown",
   "metadata": {},
   "source": [
    "# Okay, and what if we one hot encode the categories?"
   ]
  },
  {
   "cell_type": "code",
   "execution_count": 37,
   "metadata": {},
   "outputs": [],
   "source": [
    "# Just one hot the main category first\n",
    "X_train_OneHot_Main = OneHotEncodeCategory(X_train_df,[\"main_category\"])\n",
    "X_valid_OneHot_Main = OneHotEncodeCategory(X_valid_df,[\"main_category\"])\n",
    "\n",
    "#Now just the sub category\n",
    "X_train_OneHot_Sub = OneHotEncodeCategory(X_train_df,[\"category\"])\n",
    "X_valid_OneHot_Sub = OneHotEncodeCategory(X_valid_df,[\"category\"])\n",
    "\n",
    "# One hot both categories\n",
    "X_train_OneHot_Both = OneHotEncodeCategory(X_train_df,[\"main_category\",\"category\"])\n",
    "X_valid_OneHot_Both = OneHotEncodeCategory(X_valid_df,[\"main_category\",\"category\"])"
   ]
  },
  {
   "cell_type": "code",
   "execution_count": null,
   "metadata": {},
   "outputs": [
    {
     "name": "stderr",
     "output_type": "stream",
     "text": [
      "/Users/glinn/anaconda3/lib/python3.6/site-packages/sklearn/utils/validation.py:724: DataConversionWarning: A column-vector y was passed when a 1d array was expected. Please change the shape of y to (n_samples, ), for example using ravel().\n",
      "  y = column_or_1d(y, warn=True)\n",
      "/Users/glinn/anaconda3/lib/python3.6/site-packages/sklearn/svm/base.py:193: FutureWarning: The default value of gamma will change from 'auto' to 'scale' in version 0.22 to account better for unscaled features. Set gamma explicitly to 'auto' or 'scale' to avoid this warning.\n",
      "  \"avoid this warning.\", FutureWarning)\n"
     ]
    }
   ],
   "source": [
    "C=[0.01,1.0,10.0,100.0,1000.0]\n",
    "Accuracy_Main = TuneParameters(pipeline_LogReg,C,X_train_OneHot_Main,Y_train,X_valid_OneHot_Main,Y_valid)\n",
    "print(Accuracy_Main)"
   ]
  },
  {
   "cell_type": "code",
   "execution_count": null,
   "metadata": {},
   "outputs": [],
   "source": [
    "C=[0.01,1.0,10.0,100.0,1000.0]\n",
    "Accuracy_Sub = TuneParameters(pipeline_LogReg,C,X_train_OneHot_Sub,Y_train,X_valid_OneHot_Sub,Y_valid)\n",
    "print(Accuracy_Sub)"
   ]
  },
  {
   "cell_type": "code",
   "execution_count": null,
   "metadata": {},
   "outputs": [],
   "source": [
    "C=[0.01,1.0,10.0,100.0,1000.0]\n",
    "Accuracy_Both = TuneParameters(pipeline_LogReg,C,X_train_OneHot_Both,Y_train,X_valid_OneHot_Both,Y_valid)\n",
    "print(Accuracy_Both)"
   ]
  },
  {
   "cell_type": "code",
   "execution_count": null,
   "metadata": {},
   "outputs": [],
   "source": []
  },
  {
   "cell_type": "code",
   "execution_count": null,
   "metadata": {},
   "outputs": [],
   "source": []
  }
 ],
 "metadata": {
  "kernelspec": {
   "display_name": "Python 3",
   "language": "python",
   "name": "python3"
  },
  "language_info": {
   "codemirror_mode": {
    "name": "ipython",
    "version": 3
   },
   "file_extension": ".py",
   "mimetype": "text/x-python",
   "name": "python",
   "nbconvert_exporter": "python",
   "pygments_lexer": "ipython3",
   "version": "3.6.9"
  }
 },
 "nbformat": 4,
 "nbformat_minor": 2
}
