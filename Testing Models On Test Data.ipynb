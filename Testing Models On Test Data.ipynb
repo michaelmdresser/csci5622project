{
 "cells": [
  {
   "cell_type": "code",
   "execution_count": 1,
   "metadata": {},
   "outputs": [],
   "source": [
    "# Load Necessary Libraries\n",
    "import numpy as np\n",
    "import pandas as pd\n",
    "import matplotlib.pyplot as plt\n",
    "import datetime\n",
    "import os\n",
    "import pickle\n",
    "\n",
    "from sklearn.linear_model import LogisticRegression\n",
    "from sklearn.pipeline import make_pipeline\n",
    "from sklearn.model_selection import GridSearchCV\n",
    "from sklearn.model_selection import KFold\n",
    "from sklearn.metrics import accuracy_score\n",
    "\n",
    "\n",
    "#Set Working Directory\n",
    "os.chdir(r\"/Users/glinn/Documents/CSCI5622-machine-learning/project/csci5622project\")"
   ]
  },
  {
   "cell_type": "code",
   "execution_count": 2,
   "metadata": {},
   "outputs": [],
   "source": [
    "def TurnDfXIntoArray(df):\n",
    "    df=df.drop(columns=[\"Unnamed: 0\"])\n",
    "    array = np.array(df)\n",
    "    return array\n",
    "def TurnDfYIntoVector(df):\n",
    "    array = np.array(df,dtype=int)\n",
    "    return array\n",
    "def OneHotEncodeCategory(df,CategoryHeader):\n",
    "    df = pd.get_dummies(df,columns = CategoryHeader)\n",
    "    array = TurnDfXIntoArray(df)\n",
    "    return array\n",
    "def ScoreModels(Model,X_test,Y_test):\n",
    "    yhat = Model.predict(X_test)\n",
    "    yhat = np.array(yhat)\n",
    "    accuracy = accuracy_score(Y_test,yhat)\n",
    "    return accuracy,yhat"
   ]
  },
  {
   "cell_type": "markdown",
   "metadata": {},
   "source": [
    "Import the test data"
   ]
  },
  {
   "cell_type": "code",
   "execution_count": 3,
   "metadata": {
    "scrolled": false
   },
   "outputs": [],
   "source": [
    "#Test Data:\n",
    "\n",
    "#Base\n",
    "X_test_Base_df = pd.read_csv(r\"data/preprocess-base-x-test.csv\")\n",
    "Y_test_Base_df = pd.read_csv(r\"data/preprocess-base-y-test.csv\")\n",
    "X_test_Base = OneHotEncodeCategory(X_test_Base_df,[\"main_category\",\"category\"])\n",
    "Y_test_Base = TurnDfYIntoVector(Y_test_Base_df)\n",
    "#Doc2Vec\n",
    "X_test_Doc2Vec_df = pd.read_csv(r\"data/preprocess-doc2vec-x-test.csv\")\n",
    "Y_test_Doc2Vec_df = pd.read_csv(r\"data/preprocess-doc2vec-y-test.csv\")\n",
    "X_test_Doc2Vec = OneHotEncodeCategory(X_test_Doc2Vec_df,[\"main_category\",\"category\"])\n",
    "Y_test_Doc2Vec = TurnDfYIntoVector(Y_test_Doc2Vec_df)\n",
    "#Basic Name\n",
    "X_test_BasicName_df = pd.read_csv(r\"data/preprocess-basic_name-x-test-correct.csv\")\n",
    "X_test_BasicName_df = X_test_BasicName_df.drop(columns=[\"Unnamed: 0.1\"])\n",
    "Y_test_BasicName_df = pd.read_csv(r\"data/preprocess-basic_name-y-test-correct.csv\")\n",
    "X_test_BasicName= OneHotEncodeCategory(X_test_BasicName_df,[\"main_category\",\"category\"])\n",
    "Y_test_BasicName = TurnDfYIntoVector(Y_test_BasicName_df)"
   ]
  },
  {
   "cell_type": "markdown",
   "metadata": {},
   "source": [
    "Import the optimal model coefficients "
   ]
  },
  {
   "cell_type": "code",
   "execution_count": 4,
   "metadata": {},
   "outputs": [],
   "source": [
    "#Base\n",
    "Coef_Base = pd.read_csv(r\"Figures/LogReg/BaseDataset/CoefficientsBothOneHot\",header=None)\n",
    "Coef_Base = np.array(Coef_Base)\n",
    "#Doc2Vec\n",
    "Coef_Doc2Vec = pd.read_csv(r\"Figures/LogReg/Doc2VecDataSet/CoefficientsBothOneHot\",header=None)\n",
    "Coef_Doc2Vec = np.array(Coef_Doc2Vec)\n",
    "#Basic Name\n",
    "Coef_BasicName = pd.read_csv(r\"Figures/LogReg/BasicNamesDataSet/CoefficientsBothOneHot\",header=None)\n",
    "Coef_BasicName = np.array(Coef_BasicName)"
   ]
  },
  {
   "cell_type": "markdown",
   "metadata": {},
   "source": [
    "Build the Optimal Models"
   ]
  },
  {
   "cell_type": "code",
   "execution_count": 5,
   "metadata": {},
   "outputs": [],
   "source": [
    "Clases = np.array([0,1])\n",
    "#Base\n",
    "LogReg_Base = LogisticRegression(penalty='l1',n_jobs=-1,max_iter=200)\n",
    "LogReg_Base.classes_= Clases\n",
    "LogReg_Base.coef_ = Coef_Base[0,1:].reshape(1,len(Coef_Base[0,1:]))\n",
    "LogReg_Base.intercept_ = Coef_Base[0,0]\n",
    "#Doc2Vec\n",
    "LogReg_Doc2Vec = LogisticRegression(penalty='l1',n_jobs=-1,max_iter=200)\n",
    "LogReg_Doc2Vec.classes_= Clases\n",
    "LogReg_Doc2Vec.coef_ = Coef_Doc2Vec[0,1:].reshape(1,len(Coef_Doc2Vec[0,1:]))\n",
    "LogReg_Doc2Vec.intercept_ = Coef_Doc2Vec[0,0]\n",
    "#Basic Name\n",
    "LogReg_BasicName = LogisticRegression(penalty='l1',n_jobs=-1,max_iter=200)\n",
    "LogReg_BasicName.classes_= Clases\n",
    "LogReg_BasicName.coef_ = Coef_BasicName[0,1:].reshape(1,len(Coef_BasicName[0,1:]))\n",
    "LogReg_BasicName.intercept_ = Coef_BasicName[0,0]"
   ]
  },
  {
   "cell_type": "markdown",
   "metadata": {},
   "source": [
    "Score all of the models"
   ]
  },
  {
   "cell_type": "code",
   "execution_count": 6,
   "metadata": {},
   "outputs": [],
   "source": [
    "#Base\n",
    "Accuracy_Base,yhat_Base = ScoreModels(LogReg_Base,X_test_Base,Y_test_Base)\n",
    "#Doc2Vec\n",
    "Accuracy_Doc2Vec,yhat_Doc2Vec = ScoreModels(LogReg_Doc2Vec,X_test_Doc2Vec,Y_test_Doc2Vec)\n",
    "#BasicName\n",
    "Accuracy_BasicName,yhat_BasicName = ScoreModels(LogReg_BasicName,X_test_BasicName,Y_test_BasicName)"
   ]
  },
  {
   "cell_type": "code",
   "execution_count": 7,
   "metadata": {},
   "outputs": [
    {
     "name": "stdout",
     "output_type": "stream",
     "text": [
      "0.666546683464315 0.6667866498690184 0.662907192992981\n"
     ]
    },
    {
     "data": {
      "image/png": "[encoded data removed]",
      "text/plain": [
       "<Figure size 432x288 with 1 Axes>"
      ]
     },
     "metadata": {
      "needs_background": "light"
     },
     "output_type": "display_data"
    }
   ],
   "source": [
    "plt.bar([\"Accuracy Base Data\",\"Accuracy Doc2Vec Data\",\"Accuracy BasicName Data\"],[Accuracy_Base,Accuracy_Doc2Vec,Accuracy_BasicName])\n",
    "print(Accuracy_Base,Accuracy_Doc2Vec,Accuracy_BasicName)"
   ]
  },
  {
   "cell_type": "code",
   "execution_count": 8,
   "metadata": {},
   "outputs": [],
   "source": [
    "pickle.dump(yhat_Base, open(r\"Figures/LogReg/BaseDataset/yhat_TEST_Base.pickle\",\"wb\"))\n",
    "#yhat_Base_test = pickle.load(open(r\"Figures/LogReg/BaseDataset/yhat_TEST_Base.pickle\",\"rb\"))\n",
    "pickle.dump(yhat_Doc2Vec, open(r\"Figures/LogReg/Doc2VecDataSet/yhat_TEST_Doc2Vec.pickle\",\"wb\"))\n",
    "pickle.dump(yhat_BasicName, open(r\"Figures/LogReg/BasicNamesDataSet/yhat_TEST_BasicName.pickle\",\"wb\"))"
   ]
  },
  {
   "cell_type": "code",
   "execution_count": null,
   "metadata": {},
   "outputs": [],
   "source": []
  }
 ],
 "metadata": {
  "kernelspec": {
   "display_name": "Python 3",
   "language": "python",
   "name": "python3"
  },
  "language_info": {
   "codemirror_mode": {
    "name": "ipython",
    "version": 3
   },
   "file_extension": ".py",
   "mimetype": "text/x-python",
   "name": "python",
   "nbconvert_exporter": "python",
   "pygments_lexer": "ipython3",
   "version": "3.6.9"
  }
 },
 "nbformat": 4,
 "nbformat_minor": 2
}
