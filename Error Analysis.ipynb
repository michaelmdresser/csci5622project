{
 "cells": [
  {
   "cell_type": "code",
   "execution_count": 3,
   "metadata": {
    "ExecuteTime": {
     "end_time": "2019-12-13T18:29:12.150438Z",
     "start_time": "2019-12-13T18:29:12.113535Z"
    }
   },
   "outputs": [],
   "source": [
    "import matplotlib.pyplot as plt\n",
    "import numpy as np\n",
    "import pandas as pd\n",
    "import pickle\n",
    "from prettytable import PrettyTable\n",
    "\n",
    "labels=[]\n",
    "preds=[]\n",
    "dbfile = open('./knn-predictions/base-test-predictions-1575836051.143159.pickle', 'rb')\n",
    "preds.append(pickle.load(dbfile))\n",
    "labels.append('knn_base')\n",
    "dbfile.close()\n",
    "dbfile = open('./knn-predictions/basic-test-predictions-1575835928.691891.pickle', 'rb')\n",
    "preds.append(pickle.load(dbfile))\n",
    "labels.append('knn_basic')\n",
    "dbfile.close()\n",
    "dbfile = open('./knn-predictions/d2v-test-predictions-1575836012.216281.pickle', 'rb')\n",
    "preds.append(pickle.load(dbfile))\n",
    "labels.append('knn_d2v')\n",
    "dbfile.close()\n",
    "\n",
    "dbfile = open('./nn-final-models/base-test-predictions-1575835107.478405.pickle', 'rb')\n",
    "preds.append(pickle.load(dbfile))\n",
    "labels.append('nn_base')\n",
    "dbfile.close()\n",
    "dbfile = open('./nn-final-models/basicname-test-predictions-1575835107.478405.pickle', 'rb')\n",
    "preds.append(pickle.load(dbfile))\n",
    "labels.append('nn_basic')\n",
    "dbfile.close()\n",
    "dbfile = open('./nn-final-models/doc2vec-test-predictions-1575835107.478405.pickle', 'rb')\n",
    "preds.append(pickle.load(dbfile))\n",
    "labels.append('nn_d2v')\n",
    "dbfile.close()\n",
    "\n",
    "dbfile = open('./svm-predictions/base-test-predictions-1575838424.324989.pickle', 'rb')\n",
    "preds.append(pickle.load(dbfile))\n",
    "labels.append('svm_base')\n",
    "dbfile.close()\n",
    "dbfile = open('./svm-predictions/basic-test-predictions-1575835932.142707.pickle', 'rb')\n",
    "preds.append(pickle.load(dbfile))\n",
    "labels.append('svm_basic')\n",
    "dbfile.close()\n",
    "\n",
    "dbfile = open('./Figures/LogReg/BaseDataset/yhat_TEST_Base.pickle', 'rb')\n",
    "preds.append(pickle.load(dbfile))\n",
    "labels.append('LogReg_base')\n",
    "dbfile.close()\n",
    "dbfile = open('./Figures/LogReg/BasicNamesDataSet/yhat_TEST_BasicName.pickle', 'rb')\n",
    "preds.append(pickle.load(dbfile))\n",
    "labels.append('LogReg_basic')\n",
    "dbfile.close()\n",
    "dbfile = open('./Figures/LogReg/Doc2VecDataSet/yhat_TEST_Doc2Vec.pickle', 'rb')\n",
    "preds.append(pickle.load(dbfile))\n",
    "labels.append('LogReg_d2v')\n",
    "dbfile.close()\n",
    "\n",
    "dbfile = open('./Curry_Figs/Ada_Pred0', 'rb')\n",
    "preds.append(pickle.load(dbfile))\n",
    "labels.append('Ada_base')\n",
    "dbfile.close()\n",
    "dbfile = open('./Curry_Figs/Ada_Pred1', 'rb')\n",
    "preds.append(pickle.load(dbfile))\n",
    "labels.append('Ada_basic')\n",
    "dbfile.close()\n",
    "dbfile = open('./Curry_Figs/Ada_Pred2', 'rb')\n",
    "preds.append(pickle.load(dbfile))\n",
    "labels.append('Ada_d2v')\n",
    "dbfile.close()\n",
    "\n",
    "dbfile = open('./Curry_Figs/rfc_pred0', 'rb')\n",
    "preds.append(pickle.load(dbfile))\n",
    "labels.append('RFC_base')\n",
    "dbfile.close()\n",
    "dbfile = open('./Curry_Figs/rfc_pred1', 'rb')\n",
    "preds.append(pickle.load(dbfile))\n",
    "labels.append('RFC_basic')\n",
    "dbfile.close()\n",
    "dbfile = open('./Curry_Figs/rfc_pred2', 'rb')\n",
    "preds.append(pickle.load(dbfile))\n",
    "labels.append('RFC_d2v')\n",
    "dbfile.close()\n",
    "\n",
    "y_test=np.array(pd.read_csv(\"./data/preprocess-base-y-test.csv\")['success'])"
   ]
  },
  {
   "cell_type": "code",
   "execution_count": 4,
   "metadata": {
    "ExecuteTime": {
     "end_time": "2019-12-13T18:29:13.507808Z",
     "start_time": "2019-12-13T18:29:13.388069Z"
    }
   },
   "outputs": [],
   "source": [
    "for i in range(len(preds)):\n",
    "    preds[i]=preds[i].flatten()\n",
    "    \n",
    "for i in range(len(preds)):\n",
    "    preds[i]=preds[i].tolist()\n",
    "    \n",
    "for i in range(len(preds)):\n",
    "    if type(preds[i][0])!=type(True):\n",
    "        for j in range(len(preds[0])):\n",
    "            preds[i][j]=True if preds[i][j] >= .5 else False\n",
    "preds=np.asarray(preds)"
   ]
  },
  {
   "cell_type": "code",
   "execution_count": null,
   "metadata": {},
   "outputs": [],
   "source": [
    "def comparePredictions(predictions,modelNames):\n",
    "    l={}\n",
    "    n_pred=len(predictions[0])\n",
    "    tbl=np.zeros((len(predictions)+1,len(predictions)+1)).tolist()\n",
    "    tbl[0][0]=''\n",
    "    for i,n1 in zip(range(len(predictions)),modelNames):\n",
    "        tbl[0][i+1]=n1\n",
    "        tbl[i+1][0]=n1\n",
    "        for j,n2 in zip(range(len(predictions)),modelNames):\n",
    "            \n",
    "            c=0\n",
    "            for k in range(n_pred):\n",
    "                if predictions[i][k]==predictions[j][k]:\n",
    "                    c+=1\n",
    "            \n",
    "            tbl[i+1][j+1]=round(c/n_pred*100,0)\n",
    "            l[n1+' '+n2]=round(c/n_pred*100,0)\n",
    "#     print(tbl)\n",
    "    return tbl"
   ]
  },
  {
   "cell_type": "code",
   "execution_count": 9,
   "metadata": {
    "ExecuteTime": {
     "end_time": "2019-12-13T18:31:41.975226Z",
     "start_time": "2019-12-13T18:31:40.628826Z"
    }
   },
   "outputs": [],
   "source": [
    "def allWrongPredictions(predictions,y_test,modelNames):\n",
    "    all_faileds=[]\n",
    "    for k in range(len(y_test)):\n",
    "        all_failed=True\n",
    "        for i in predictions:\n",
    "            if i[k]==y_test[k]:\n",
    "                all_failed=False\n",
    "        if all_failed:\n",
    "            all_faileds.append(k)\n",
    "    return all_faileds\n",
    "wrong=allWrongPredictions(preds,y_test,labels)"
   ]
  },
  {
   "cell_type": "code",
   "execution_count": 17,
   "metadata": {
    "ExecuteTime": {
     "end_time": "2019-12-13T18:35:25.841337Z",
     "start_time": "2019-12-13T18:35:25.788478Z"
    }
   },
   "outputs": [
    {
     "name": "stdout",
     "output_type": "stream",
     "text": [
      "[20, 28, 40, 50, 69, 88, 120, 125, 138, 161, 182, 184, 185, 190, 195, 196, 203, 206, 220, 229]\n"
     ]
    }
   ],
   "source": [
    "df=pd.read_csv(\"./data/preprocess-base-x-test.csv\")\n",
    "print(wrong[:20])"
   ]
  },
  {
   "cell_type": "code",
   "execution_count": 16,
   "metadata": {
    "ExecuteTime": {
     "end_time": "2019-12-13T18:35:11.193430Z",
     "start_time": "2019-12-13T18:35:11.180463Z"
    }
   },
   "outputs": [
    {
     "data": {
      "text/html": [
       "<div>\n",
       "<style scoped>\n",
       "    .dataframe tbody tr th:only-of-type {\n",
       "        vertical-align: middle;\n",
       "    }\n",
       "\n",
       "    .dataframe tbody tr th {\n",
       "        vertical-align: top;\n",
       "    }\n",
       "\n",
       "    .dataframe thead th {\n",
       "        text-align: right;\n",
       "    }\n",
       "</style>\n",
       "<table border=\"1\" class=\"dataframe\">\n",
       "  <thead>\n",
       "    <tr style=\"text-align: right;\">\n",
       "      <th></th>\n",
       "      <th>Unnamed: 0</th>\n",
       "      <th>main_category</th>\n",
       "      <th>category</th>\n",
       "      <th>duration</th>\n",
       "      <th>usd_goal_real</th>\n",
       "      <th>launched_month</th>\n",
       "      <th>deadline_month</th>\n",
       "    </tr>\n",
       "  </thead>\n",
       "  <tbody>\n",
       "    <tr>\n",
       "      <td>20</td>\n",
       "      <td>24</td>\n",
       "      <td>9</td>\n",
       "      <td>77</td>\n",
       "      <td>2.086260</td>\n",
       "      <td>-0.034459</td>\n",
       "      <td>3.0</td>\n",
       "      <td>5.0</td>\n",
       "    </tr>\n",
       "    <tr>\n",
       "      <td>28</td>\n",
       "      <td>33</td>\n",
       "      <td>6</td>\n",
       "      <td>153</td>\n",
       "      <td>-0.329163</td>\n",
       "      <td>-0.027208</td>\n",
       "      <td>2.0</td>\n",
       "      <td>3.0</td>\n",
       "    </tr>\n",
       "    <tr>\n",
       "      <td>40</td>\n",
       "      <td>46</td>\n",
       "      <td>10</td>\n",
       "      <td>72</td>\n",
       "      <td>-0.324727</td>\n",
       "      <td>-0.033552</td>\n",
       "      <td>3.0</td>\n",
       "      <td>4.0</td>\n",
       "    </tr>\n",
       "    <tr>\n",
       "      <td>50</td>\n",
       "      <td>58</td>\n",
       "      <td>2</td>\n",
       "      <td>32</td>\n",
       "      <td>-0.336801</td>\n",
       "      <td>-0.036725</td>\n",
       "      <td>9.0</td>\n",
       "      <td>10.0</td>\n",
       "    </tr>\n",
       "    <tr>\n",
       "      <td>69</td>\n",
       "      <td>78</td>\n",
       "      <td>8</td>\n",
       "      <td>148</td>\n",
       "      <td>-0.326634</td>\n",
       "      <td>-0.009987</td>\n",
       "      <td>9.0</td>\n",
       "      <td>10.0</td>\n",
       "    </tr>\n",
       "  </tbody>\n",
       "</table>\n",
       "</div>"
      ],
      "text/plain": [
       "    Unnamed: 0  main_category  category  duration  usd_goal_real  \\\n",
       "20          24              9        77  2.086260      -0.034459   \n",
       "28          33              6       153 -0.329163      -0.027208   \n",
       "40          46             10        72 -0.324727      -0.033552   \n",
       "50          58              2        32 -0.336801      -0.036725   \n",
       "69          78              8       148 -0.326634      -0.009987   \n",
       "\n",
       "    launched_month  deadline_month  \n",
       "20             3.0             5.0  \n",
       "28             2.0             3.0  \n",
       "40             3.0             4.0  \n",
       "50             9.0            10.0  \n",
       "69             9.0            10.0  "
      ]
     },
     "execution_count": 16,
     "metadata": {},
     "output_type": "execute_result"
    }
   ],
   "source": [
    "df.iloc[wrong].head()"
   ]
  },
  {
   "cell_type": "code",
   "execution_count": null,
   "metadata": {},
   "outputs": [],
   "source": [
    "df.loc(wrong)"
   ]
  }
 ],
 "metadata": {
  "kernelspec": {
   "display_name": "Python 3",
   "language": "python",
   "name": "python3"
  },
  "language_info": {
   "codemirror_mode": {
    "name": "ipython",
    "version": 3
   },
   "file_extension": ".py",
   "mimetype": "text/x-python",
   "name": "python",
   "nbconvert_exporter": "python",
   "pygments_lexer": "ipython3",
   "version": "3.7.4"
  }
 },
 "nbformat": 4,
 "nbformat_minor": 2
}
