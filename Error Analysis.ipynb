{
 "cells": [
  {
   "cell_type": "code",
   "execution_count": 1,
   "metadata": {
    "ExecuteTime": {
     "end_time": "2019-12-13T19:40:07.511752Z",
     "start_time": "2019-12-13T19:40:07.478564Z"
    }
   },
   "outputs": [],
   "source": [
    "import matplotlib.pyplot as plt\n",
    "import numpy as np\n",
    "import pandas as pd\n",
    "import pickle\n",
    "from prettytable import PrettyTable\n",
    "\n",
    "\n",
    "#load predictions\n",
    "labels=[]\n",
    "preds=[]\n",
    "dbfile = open('./knn-predictions/base-test-predictions-1575836051.143159.pickle', 'rb')\n",
    "preds.append(pickle.load(dbfile))\n",
    "labels.append('knn_base')\n",
    "dbfile.close()\n",
    "dbfile = open('./knn-predictions/basic-test-predictions-1575835928.691891.pickle', 'rb')\n",
    "preds.append(pickle.load(dbfile))\n",
    "labels.append('knn_basic')\n",
    "dbfile.close()\n",
    "dbfile = open('./knn-predictions/d2v-test-predictions-1575836012.216281.pickle', 'rb')\n",
    "preds.append(pickle.load(dbfile))\n",
    "labels.append('knn_d2v')\n",
    "dbfile.close()\n",
    "\n",
    "dbfile = open('./nn-final-models/base-test-predictions-1575835107.478405.pickle', 'rb')\n",
    "preds.append(pickle.load(dbfile))\n",
    "labels.append('nn_base')\n",
    "dbfile.close()\n",
    "dbfile = open('./nn-final-models/basicname-test-predictions-1575835107.478405.pickle', 'rb')\n",
    "preds.append(pickle.load(dbfile))\n",
    "labels.append('nn_basic')\n",
    "dbfile.close()\n",
    "dbfile = open('./nn-final-models/doc2vec-test-predictions-1575835107.478405.pickle', 'rb')\n",
    "preds.append(pickle.load(dbfile))\n",
    "labels.append('nn_d2v')\n",
    "dbfile.close()\n",
    "\n",
    "dbfile = open('./svm-predictions/base-test-predictions-1575838424.324989.pickle', 'rb')\n",
    "preds.append(pickle.load(dbfile))\n",
    "labels.append('svm_base')\n",
    "dbfile.close()\n",
    "dbfile = open('./svm-predictions/basic-test-predictions-1575835932.142707.pickle', 'rb')\n",
    "preds.append(pickle.load(dbfile))\n",
    "labels.append('svm_basic')\n",
    "dbfile.close()\n",
    "\n",
    "dbfile = open('./Figures/LogReg/BaseDataset/yhat_TEST_Base.pickle', 'rb')\n",
    "preds.append(pickle.load(dbfile))\n",
    "labels.append('LogReg_base')\n",
    "dbfile.close()\n",
    "dbfile = open('./Figures/LogReg/BasicNamesDataSet/yhat_TEST_BasicName.pickle', 'rb')\n",
    "preds.append(pickle.load(dbfile))\n",
    "labels.append('LogReg_basic')\n",
    "dbfile.close()\n",
    "dbfile = open('./Figures/LogReg/Doc2VecDataSet/yhat_TEST_Doc2Vec.pickle', 'rb')\n",
    "preds.append(pickle.load(dbfile))\n",
    "labels.append('LogReg_d2v')\n",
    "dbfile.close()\n",
    "\n",
    "dbfile = open('./Curry_Figs/Ada_Pred0', 'rb')\n",
    "preds.append(pickle.load(dbfile))\n",
    "labels.append('Ada_base')\n",
    "dbfile.close()\n",
    "dbfile = open('./Curry_Figs/Ada_Pred1', 'rb')\n",
    "preds.append(pickle.load(dbfile))\n",
    "labels.append('Ada_basic')\n",
    "dbfile.close()\n",
    "dbfile = open('./Curry_Figs/Ada_Pred2', 'rb')\n",
    "preds.append(pickle.load(dbfile))\n",
    "labels.append('Ada_d2v')\n",
    "dbfile.close()\n",
    "\n",
    "dbfile = open('./Curry_Figs/rfc_pred0', 'rb')\n",
    "preds.append(pickle.load(dbfile))\n",
    "labels.append('RFC_base')\n",
    "dbfile.close()\n",
    "dbfile = open('./Curry_Figs/rfc_pred1', 'rb')\n",
    "preds.append(pickle.load(dbfile))\n",
    "labels.append('RFC_basic')\n",
    "dbfile.close()\n",
    "dbfile = open('./Curry_Figs/rfc_pred2', 'rb')\n",
    "preds.append(pickle.load(dbfile))\n",
    "labels.append('RFC_d2v')\n",
    "dbfile.close()\n",
    "\n",
    "y_test=np.array(pd.read_csv(\"./data/preprocess-base-y-test.csv\")['success'])"
   ]
  },
  {
   "cell_type": "code",
   "execution_count": 2,
   "metadata": {
    "ExecuteTime": {
     "end_time": "2019-12-13T19:40:07.863581Z",
     "start_time": "2019-12-13T19:40:07.747619Z"
    }
   },
   "outputs": [],
   "source": [
    "#correct differences in prediction data types\n",
    "for i in range(len(preds)):\n",
    "    preds[i]=preds[i].flatten()\n",
    "    \n",
    "for i in range(len(preds)):\n",
    "    preds[i]=preds[i].tolist()\n",
    "    \n",
    "for i in range(len(preds)):\n",
    "    if type(preds[i][0])!=type(True):\n",
    "        for j in range(len(preds[0])):\n",
    "            preds[i][j]=True if preds[i][j] >= .5 else False\n",
    "preds=np.asarray(preds)"
   ]
  },
  {
   "cell_type": "code",
   "execution_count": 4,
   "metadata": {
    "ExecuteTime": {
     "end_time": "2019-12-13T19:40:12.795892Z",
     "start_time": "2019-12-13T19:40:10.064047Z"
    }
   },
   "outputs": [],
   "source": [
    "#find examples that are either always correctly or incorrectly predicted by all models\n",
    "def allWrongPredictions(predictions,y_test,modelNames):\n",
    "    all_faileds=[]\n",
    "    for k in range(len(y_test)):\n",
    "        all_failed=True\n",
    "        for i in predictions:\n",
    "            if i[k]==y_test[k]:\n",
    "                all_failed=False\n",
    "        if all_failed:\n",
    "            all_faileds.append(k)\n",
    "    return all_faileds\n",
    "wrong=allWrongPredictions(preds,y_test,labels)\n",
    "\n",
    "def allRightPredictions(predictions,y_test,modelNames):\n",
    "    all_rights=[]\n",
    "    for k in range(len(y_test)):\n",
    "        all_right=True\n",
    "        for i in predictions:\n",
    "            if i[k]!=y_test[k]:\n",
    "                all_right=False\n",
    "        if all_right:\n",
    "            all_rights.append(k)\n",
    "    return all_rights\n",
    "rights=allRightPredictions(preds,y_test,labels)"
   ]
  },
  {
   "cell_type": "code",
   "execution_count": 19,
   "metadata": {},
   "outputs": [
    {
     "data": {
      "text/html": [
       "<div>\n",
       "<style scoped>\n",
       "    .dataframe tbody tr th:only-of-type {\n",
       "        vertical-align: middle;\n",
       "    }\n",
       "\n",
       "    .dataframe tbody tr th {\n",
       "        vertical-align: top;\n",
       "    }\n",
       "\n",
       "    .dataframe thead th {\n",
       "        text-align: right;\n",
       "    }\n",
       "</style>\n",
       "<table border=\"1\" class=\"dataframe\">\n",
       "  <thead>\n",
       "    <tr style=\"text-align: right;\">\n",
       "      <th></th>\n",
       "      <th>Unnamed: 0</th>\n",
       "      <th>main_category</th>\n",
       "      <th>category</th>\n",
       "      <th>duration</th>\n",
       "      <th>usd_goal_real</th>\n",
       "      <th>launched_month</th>\n",
       "      <th>deadline_month</th>\n",
       "    </tr>\n",
       "  </thead>\n",
       "  <tbody>\n",
       "    <tr>\n",
       "      <td>0</td>\n",
       "      <td>0</td>\n",
       "      <td>13</td>\n",
       "      <td>67</td>\n",
       "      <td>-0.267523</td>\n",
       "      <td>0.642591</td>\n",
       "      <td>8.0</td>\n",
       "      <td>9.0</td>\n",
       "    </tr>\n",
       "    <tr>\n",
       "      <td>1</td>\n",
       "      <td>1</td>\n",
       "      <td>7</td>\n",
       "      <td>58</td>\n",
       "      <td>-0.877738</td>\n",
       "      <td>-0.037169</td>\n",
       "      <td>6.0</td>\n",
       "      <td>6.0</td>\n",
       "    </tr>\n",
       "    <tr>\n",
       "      <td>2</td>\n",
       "      <td>2</td>\n",
       "      <td>6</td>\n",
       "      <td>129</td>\n",
       "      <td>4.440430</td>\n",
       "      <td>-0.032646</td>\n",
       "      <td>9.0</td>\n",
       "      <td>0.0</td>\n",
       "    </tr>\n",
       "    <tr>\n",
       "      <td>3</td>\n",
       "      <td>3</td>\n",
       "      <td>6</td>\n",
       "      <td>40</td>\n",
       "      <td>-0.183799</td>\n",
       "      <td>-0.022676</td>\n",
       "      <td>1.0</td>\n",
       "      <td>2.0</td>\n",
       "    </tr>\n",
       "    <tr>\n",
       "      <td>4</td>\n",
       "      <td>4</td>\n",
       "      <td>10</td>\n",
       "      <td>90</td>\n",
       "      <td>-0.744063</td>\n",
       "      <td>-0.034459</td>\n",
       "      <td>1.0</td>\n",
       "      <td>2.0</td>\n",
       "    </tr>\n",
       "  </tbody>\n",
       "</table>\n",
       "</div>"
      ],
      "text/plain": [
       "   Unnamed: 0  main_category  category  duration  usd_goal_real  \\\n",
       "0           0             13        67 -0.267523       0.642591   \n",
       "1           1              7        58 -0.877738      -0.037169   \n",
       "2           2              6       129  4.440430      -0.032646   \n",
       "3           3              6        40 -0.183799      -0.022676   \n",
       "4           4             10        90 -0.744063      -0.034459   \n",
       "\n",
       "   launched_month  deadline_month  \n",
       "0             8.0             9.0  \n",
       "1             6.0             6.0  \n",
       "2             9.0             0.0  \n",
       "3             1.0             2.0  \n",
       "4             1.0             2.0  "
      ]
     },
     "execution_count": 19,
     "metadata": {},
     "output_type": "execute_result"
    }
   ],
   "source": [
    "df.head(5)"
   ]
  },
  {
   "cell_type": "code",
   "execution_count": 13,
   "metadata": {
    "ExecuteTime": {
     "end_time": "2019-12-13T19:41:00.780558Z",
     "start_time": "2019-12-13T19:41:00.285875Z"
    },
    "scrolled": true
   },
   "outputs": [
    {
     "name": "stdout",
     "output_type": "stream",
     "text": [
      "-0.0371779238078841\n"
     ]
    },
    {
     "data": {
      "image/png": "[encoded data removed]",
      "text/plain": [
       "<Figure size 432x288 with 6 Axes>"
      ]
     },
     "metadata": {
      "needs_background": "light"
     },
     "output_type": "display_data"
    },
    {
     "data": {
      "image/png": "[encoded data removed]",
      "text/plain": [
       "<Figure size 432x288 with 1 Axes>"
      ]
     },
     "metadata": {
      "needs_background": "light"
     },
     "output_type": "display_data"
    },
    {
     "data": {
      "image/png": "[encoded data removed]",
      "text/plain": [
       "<Figure size 432x288 with 1 Axes>"
      ]
     },
     "metadata": {
      "needs_background": "light"
     },
     "output_type": "display_data"
    }
   ],
   "source": [
    "df=pd.read_csv(\"./data/preprocess-base-x-test.csv\")\n",
    "X_test = np.array(df)\n",
    "#X_test[:,3]=X_test[:,3]/np.amax(X_test[:,3])\n",
    "#X_test[:,4]=X_test[:,4]/np.amax(X_test[:,4])\n",
    "loc = [1,2,3,4,5,6]\n",
    "bins = [14,150,50,100,12,12]\n",
    "fig,ax = plt.subplots(2,3)\n",
    "i=0\n",
    "for row in ax:\n",
    "    for col in row:\n",
    "        col.hist(X_test[:,loc[i]],bins=bins[i])\n",
    "        i+=1\n",
    "\n",
    "fig,ax = plt.subplots()\n",
    "ax.hist(X_test[:,4],bins[3])\n",
    "plt.ylim(0,100)\n",
    "\n",
    "INDEX = np.asarray(X_test[:,3]<=100).nonzero()\n",
    "fig,ax = plt.subplots()\n",
    "ax.hist(X_test[INDEX[0],3],bins[2])\n",
    "#plt.ylim(0,100)\n",
    "        \n",
    "print(np.amin(X_test[:,4]))"
   ]
  },
  {
   "cell_type": "code",
   "execution_count": 14,
   "metadata": {
    "ExecuteTime": {
     "end_time": "2019-12-13T19:41:01.502235Z",
     "start_time": "2019-12-13T19:41:01.040528Z"
    }
   },
   "outputs": [
    {
     "name": "stdout",
     "output_type": "stream",
     "text": [
      "-0.037177026512662935\n"
     ]
    },
    {
     "data": {
      "image/png": "[encoded data removed]",
      "text/plain": [
       "<Figure size 432x288 with 6 Axes>"
      ]
     },
     "metadata": {
      "needs_background": "light"
     },
     "output_type": "display_data"
    },
    {
     "data": {
      "image/png": "[encoded data removed]",
      "text/plain": [
       "<Figure size 432x288 with 1 Axes>"
      ]
     },
     "metadata": {
      "needs_background": "light"
     },
     "output_type": "display_data"
    }
   ],
   "source": [
    "dfright=df.iloc[rights]\n",
    "X_test_right = np.array(dfright)\n",
    "#X_test[:,3]=X_test[:,3]/np.amax(X_test[:,3])\n",
    "#X_test[:,4]=X_test[:,4]/np.amax(X_test[:,4])\n",
    "loc = [1,2,3,4,5,6]\n",
    "bins = [14,150,20,50,12,12]\n",
    "fig,ax = plt.subplots(2,3)\n",
    "i=0\n",
    "for row in ax:\n",
    "    for col in row:\n",
    "        col.hist(X_test_right[:,loc[i]],bins=bins[i])\n",
    "        i+=1\n",
    "        \n",
    "fig,ax = plt.subplots()\n",
    "ax.hist(X_test_right[:,4],bins[3])\n",
    "plt.ylim(0,100)\n",
    "        \n",
    "print(np.amin(X_test_right[:,4]))"
   ]
  },
  {
   "cell_type": "code",
   "execution_count": 97,
   "metadata": {
    "ExecuteTime": {
     "end_time": "2019-12-13T19:41:03.041357Z",
     "start_time": "2019-12-13T19:41:02.344222Z"
    }
   },
   "outputs": [
    {
     "data": {
      "text/plain": [
       "array([[<matplotlib.axes._subplots.AxesSubplot object at 0x13db0a160>,\n",
       "        <matplotlib.axes._subplots.AxesSubplot object at 0x1374190f0>,\n",
       "        <matplotlib.axes._subplots.AxesSubplot object at 0x13bc9aeb8>],\n",
       "       [<matplotlib.axes._subplots.AxesSubplot object at 0x13340f4a8>,\n",
       "        <matplotlib.axes._subplots.AxesSubplot object at 0x1333eda58>,\n",
       "        <matplotlib.axes._subplots.AxesSubplot object at 0x131eb8048>],\n",
       "       [<matplotlib.axes._subplots.AxesSubplot object at 0x1310e55f8>,\n",
       "        <matplotlib.axes._subplots.AxesSubplot object at 0x13351bbe0>,\n",
       "        <matplotlib.axes._subplots.AxesSubplot object at 0x13351bc18>]],\n",
       "      dtype=object)"
      ]
     },
     "execution_count": 97,
     "metadata": {},
     "output_type": "execute_result"
    },
    {
     "data": {
      "image/png": "[encoded data removed]",
      "text/plain": [
       "<Figure size 432x288 with 9 Axes>"
      ]
     },
     "metadata": {
      "needs_background": "light"
     },
     "output_type": "display_data"
    }
   ],
   "source": [
    "df.hist()"
   ]
  },
  {
   "cell_type": "code",
   "execution_count": 17,
   "metadata": {
    "ExecuteTime": {
     "end_time": "2019-12-13T19:41:03.067287Z",
     "start_time": "2019-12-13T19:41:03.062301Z"
    }
   },
   "outputs": [],
   "source": [
    "dfwrong=df.iloc[wrong]"
   ]
  },
  {
   "cell_type": "code",
   "execution_count": 18,
   "metadata": {
    "ExecuteTime": {
     "end_time": "2019-12-13T19:41:04.620336Z",
     "start_time": "2019-12-13T19:41:04.193425Z"
    }
   },
   "outputs": [
    {
     "name": "stdout",
     "output_type": "stream",
     "text": [
      "-0.037177026512662935\n"
     ]
    },
    {
     "data": {
      "image/png": "[encoded data removed]",
      "text/plain": [
       "<Figure size 432x288 with 6 Axes>"
      ]
     },
     "metadata": {
      "needs_background": "light"
     },
     "output_type": "display_data"
    },
    {
     "data": {
      "image/png": "[encoded data removed]",
      "text/plain": [
       "<Figure size 432x288 with 1 Axes>"
      ]
     },
     "metadata": {
      "needs_background": "light"
     },
     "output_type": "display_data"
    }
   ],
   "source": [
    "X_test_wrong = np.array(dfwrong)\n",
    "#X_test[:,3]=X_test[:,3]/np.amax(X_test[:,3])\n",
    "#X_test[:,4]=X_test[:,4]/np.amax(X_test[:,4])\n",
    "loc = [1,2,3,4,5,6]\n",
    "bins = [14,150,20,50,12,12]\n",
    "fig,ax = plt.subplots(2,3)\n",
    "i=0\n",
    "for row in ax:\n",
    "    for col in row:\n",
    "        col.hist(X_test_wrong[:,loc[i]],bins=bins[i])\n",
    "        i+=1\n",
    "\n",
    "fig,ax = plt.subplots()\n",
    "ax.hist(X_test_wrong[:,4],bins[3])\n",
    "plt.ylim(0,100)\n",
    "\n",
    "print(np.amin(X_test_wrong[:,4]))"
   ]
  },
  {
   "cell_type": "code",
   "execution_count": 41,
   "metadata": {},
   "outputs": [
    {
     "data": {
      "image/png": "[encoded data removed]",
      "text/plain": [
       "<Figure size 432x288 with 3 Axes>"
      ]
     },
     "metadata": {
      "needs_background": "light"
     },
     "output_type": "display_data"
    }
   ],
   "source": [
    "fig,[ax1,ax2,ax3] = plt.subplots(1,3)\n",
    "ax1.hist(X_test[:,4],bins[3])\n",
    "ax1.set_title(\"Full Dataset\")\n",
    "ax1.set_ylim(0,100)\n",
    "ax2.hist(X_test_right[:,4],bins[3])\n",
    "ax2.set_title(\"Correctly\")\n",
    "ax2.set_ylim(0,100)\n",
    "ax3.hist(X_test_wrong[:,4],bins[3])\n",
    "ax3.set_title(\"Incorrectly\")\n",
    "ax3.set_ylim(0,100)\n",
    "fig.suptitle(\"usd_goal_real histograms\")\n",
    "fig.text(0.5, 0.04, 'usd_goal_real as standard scalar', ha='center')\n",
    "plt.savefig(r\"/Users/glinn/Documents/CSCI5622-machine-learning/project/csci5622project/Figures/ErrorAnalysis\")"
   ]
  },
  {
   "cell_type": "code",
   "execution_count": 42,
   "metadata": {},
   "outputs": [
    {
     "data": {
      "text/plain": [
       "Unnamed: 0        24.000000\n",
       "main_category      9.000000\n",
       "category          77.000000\n",
       "duration           2.086260\n",
       "usd_goal_real     -0.034459\n",
       "launched_month     3.000000\n",
       "deadline_month     5.000000\n",
       "Name: 20, dtype: float64"
      ]
     },
     "execution_count": 42,
     "metadata": {},
     "output_type": "execute_result"
    }
   ],
   "source": [
    "dfwrong.iloc[0]"
   ]
  },
  {
   "cell_type": "code",
   "execution_count": null,
   "metadata": {},
   "outputs": [],
   "source": [
    "c"
   ]
  }
 ],
 "metadata": {
  "kernelspec": {
   "display_name": "Python 3",
   "language": "python",
   "name": "python3"
  },
  "language_info": {
   "codemirror_mode": {
    "name": "ipython",
    "version": 3
   },
   "file_extension": ".py",
   "mimetype": "text/x-python",
   "name": "python",
   "nbconvert_exporter": "python",
   "pygments_lexer": "ipython3",
   "version": "3.7.4"
  }
 },
 "nbformat": 4,
 "nbformat_minor": 2
}
