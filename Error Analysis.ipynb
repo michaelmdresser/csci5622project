{
 "cells": [
  {
   "cell_type": "code",
   "execution_count": 3,
   "metadata": {
    "ExecuteTime": {
     "end_time": "2019-12-13T18:29:12.150438Z",
     "start_time": "2019-12-13T18:29:12.113535Z"
    }
   },
   "outputs": [],
   "source": [
    "import matplotlib.pyplot as plt\n",
    "import numpy as np\n",
    "import pandas as pd\n",
    "import pickle\n",
    "from prettytable import PrettyTable\n",
    "\n",
    "labels=[]\n",
    "preds=[]\n",
    "dbfile = open('./knn-predictions/base-test-predictions-1575836051.143159.pickle', 'rb')\n",
    "preds.append(pickle.load(dbfile))\n",
    "labels.append('knn_base')\n",
    "dbfile.close()\n",
    "dbfile = open('./knn-predictions/basic-test-predictions-1575835928.691891.pickle', 'rb')\n",
    "preds.append(pickle.load(dbfile))\n",
    "labels.append('knn_basic')\n",
    "dbfile.close()\n",
    "dbfile = open('./knn-predictions/d2v-test-predictions-1575836012.216281.pickle', 'rb')\n",
    "preds.append(pickle.load(dbfile))\n",
    "labels.append('knn_d2v')\n",
    "dbfile.close()\n",
    "\n",
    "dbfile = open('./nn-final-models/base-test-predictions-1575835107.478405.pickle', 'rb')\n",
    "preds.append(pickle.load(dbfile))\n",
    "labels.append('nn_base')\n",
    "dbfile.close()\n",
    "dbfile = open('./nn-final-models/basicname-test-predictions-1575835107.478405.pickle', 'rb')\n",
    "preds.append(pickle.load(dbfile))\n",
    "labels.append('nn_basic')\n",
    "dbfile.close()\n",
    "dbfile = open('./nn-final-models/doc2vec-test-predictions-1575835107.478405.pickle', 'rb')\n",
    "preds.append(pickle.load(dbfile))\n",
    "labels.append('nn_d2v')\n",
    "dbfile.close()\n",
    "\n",
    "dbfile = open('./svm-predictions/base-test-predictions-1575838424.324989.pickle', 'rb')\n",
    "preds.append(pickle.load(dbfile))\n",
    "labels.append('svm_base')\n",
    "dbfile.close()\n",
    "dbfile = open('./svm-predictions/basic-test-predictions-1575835932.142707.pickle', 'rb')\n",
    "preds.append(pickle.load(dbfile))\n",
    "labels.append('svm_basic')\n",
    "dbfile.close()\n",
    "\n",
    "dbfile = open('./Figures/LogReg/BaseDataset/yhat_TEST_Base.pickle', 'rb')\n",
    "preds.append(pickle.load(dbfile))\n",
    "labels.append('LogReg_base')\n",
    "dbfile.close()\n",
    "dbfile = open('./Figures/LogReg/BasicNamesDataSet/yhat_TEST_BasicName.pickle', 'rb')\n",
    "preds.append(pickle.load(dbfile))\n",
    "labels.append('LogReg_basic')\n",
    "dbfile.close()\n",
    "dbfile = open('./Figures/LogReg/Doc2VecDataSet/yhat_TEST_Doc2Vec.pickle', 'rb')\n",
    "preds.append(pickle.load(dbfile))\n",
    "labels.append('LogReg_d2v')\n",
    "dbfile.close()\n",
    "\n",
    "dbfile = open('./Curry_Figs/Ada_Pred0', 'rb')\n",
    "preds.append(pickle.load(dbfile))\n",
    "labels.append('Ada_base')\n",
    "dbfile.close()\n",
    "dbfile = open('./Curry_Figs/Ada_Pred1', 'rb')\n",
    "preds.append(pickle.load(dbfile))\n",
    "labels.append('Ada_basic')\n",
    "dbfile.close()\n",
    "dbfile = open('./Curry_Figs/Ada_Pred2', 'rb')\n",
    "preds.append(pickle.load(dbfile))\n",
    "labels.append('Ada_d2v')\n",
    "dbfile.close()\n",
    "\n",
    "dbfile = open('./Curry_Figs/rfc_pred0', 'rb')\n",
    "preds.append(pickle.load(dbfile))\n",
    "labels.append('RFC_base')\n",
    "dbfile.close()\n",
    "dbfile = open('./Curry_Figs/rfc_pred1', 'rb')\n",
    "preds.append(pickle.load(dbfile))\n",
    "labels.append('RFC_basic')\n",
    "dbfile.close()\n",
    "dbfile = open('./Curry_Figs/rfc_pred2', 'rb')\n",
    "preds.append(pickle.load(dbfile))\n",
    "labels.append('RFC_d2v')\n",
    "dbfile.close()\n",
    "\n",
    "y_test=np.array(pd.read_csv(\"./data/preprocess-base-y-test.csv\")['success'])"
   ]
  },
  {
   "cell_type": "code",
   "execution_count": 4,
   "metadata": {
    "ExecuteTime": {
     "end_time": "2019-12-13T18:29:13.507808Z",
     "start_time": "2019-12-13T18:29:13.388069Z"
    }
   },
   "outputs": [],
   "source": [
    "for i in range(len(preds)):\n",
    "    preds[i]=preds[i].flatten()\n",
    "    \n",
    "for i in range(len(preds)):\n",
    "    preds[i]=preds[i].tolist()\n",
    "    \n",
    "for i in range(len(preds)):\n",
    "    if type(preds[i][0])!=type(True):\n",
    "        for j in range(len(preds[0])):\n",
    "            preds[i][j]=True if preds[i][j] >= .5 else False\n",
    "preds=np.asarray(preds)"
   ]
  },
  {
   "cell_type": "code",
   "execution_count": null,
   "metadata": {},
   "outputs": [],
   "source": [
    "def comparePredictions(predictions,modelNames):\n",
    "    l={}\n",
    "    n_pred=len(predictions[0])\n",
    "    tbl=np.zeros((len(predictions)+1,len(predictions)+1)).tolist()\n",
    "    tbl[0][0]=''\n",
    "    for i,n1 in zip(range(len(predictions)),modelNames):\n",
    "        tbl[0][i+1]=n1\n",
    "        tbl[i+1][0]=n1\n",
    "        for j,n2 in zip(range(len(predictions)),modelNames):\n",
    "            \n",
    "            c=0\n",
    "            for k in range(n_pred):\n",
    "                if predictions[i][k]==predictions[j][k]:\n",
    "                    c+=1\n",
    "            \n",
    "            tbl[i+1][j+1]=round(c/n_pred*100,0)\n",
    "            l[n1+' '+n2]=round(c/n_pred*100,0)\n",
    "#     print(tbl)\n",
    "    return tbl"
   ]
  },
  {
   "cell_type": "code",
   "execution_count": 9,
   "metadata": {
    "ExecuteTime": {
     "end_time": "2019-12-13T18:31:41.975226Z",
     "start_time": "2019-12-13T18:31:40.628826Z"
    }
   },
   "outputs": [],
   "source": [
    "def allWrongPredictions(predictions,y_test,modelNames):\n",
    "    all_faileds=[]\n",
    "    for k in range(len(y_test)):\n",
    "        all_failed=True\n",
    "        for i in predictions:\n",
    "            if i[k]==y_test[k]:\n",
    "                all_failed=False\n",
    "        if all_failed:\n",
    "            all_faileds.append(k)\n",
    "    return all_faileds\n",
    "wrong=allWrongPredictions(preds,y_test,labels)"
   ]
  },
  {
   "cell_type": "code",
   "execution_count": 39,
   "metadata": {
    "ExecuteTime": {
     "end_time": "2019-12-13T19:16:03.635890Z",
     "start_time": "2019-12-13T19:16:03.141174Z"
    }
   },
   "outputs": [
    {
     "data": {
      "text/plain": [
       "array([[<matplotlib.axes._subplots.AxesSubplot object at 0x000001B507F4BF08>]],\n",
       "      dtype=object)"
      ]
     },
     "execution_count": 39,
     "metadata": {},
     "output_type": "execute_result"
    },
    {
     "data": {
      "image/png": "[encoded data removed]",
      "text/plain": [
       "<Figure size 432x288 with 1 Axes>"
      ]
     },
     "metadata": {
      "needs_background": "light"
     },
     "output_type": "display_data"
    },
    {
     "data": {
      "image/png": "[encoded data removed]",
      "text/plain": [
       "<Figure size 432x288 with 1 Axes>"
      ]
     },
     "metadata": {
      "needs_background": "light"
     },
     "output_type": "display_data"
    },
    {
     "data": {
      "image/png": "[encoded data removed]",
      "text/plain": [
       "<Figure size 432x288 with 1 Axes>"
      ]
     },
     "metadata": {
      "needs_background": "light"
     },
     "output_type": "display_data"
    }
   ],
   "source": [
    "df=pd.read_csv(\"./data/preprocess-base-x-test.csv\")\n",
    "df.hist(column='main_category',bins=len(list(df.main_category.unique())),grid=False)\n",
    "df.hist(column='launched_month',bins=len(list(df.launched_month.unique())),grid=False)\n",
    "df.hist(column='deadline_month',bins=len(list(df.deadline_month.unique())),grid=False)"
   ]
  },
  {
   "cell_type": "code",
   "execution_count": 20,
   "metadata": {
    "ExecuteTime": {
     "end_time": "2019-12-13T18:52:27.971885Z",
     "start_time": "2019-12-13T18:52:27.207888Z"
    }
   },
   "outputs": [
    {
     "data": {
      "text/plain": [
       "array([[<matplotlib.axes._subplots.AxesSubplot object at 0x000001B57D106588>,\n",
       "        <matplotlib.axes._subplots.AxesSubplot object at 0x000001B579A61748>,\n",
       "        <matplotlib.axes._subplots.AxesSubplot object at 0x000001B57D1ECD08>],\n",
       "       [<matplotlib.axes._subplots.AxesSubplot object at 0x000001B57D26CBC8>,\n",
       "        <matplotlib.axes._subplots.AxesSubplot object at 0x000001B57D2F65C8>,\n",
       "        <matplotlib.axes._subplots.AxesSubplot object at 0x000001B57CF4E108>],\n",
       "       [<matplotlib.axes._subplots.AxesSubplot object at 0x000001B57D412E48>,\n",
       "        <matplotlib.axes._subplots.AxesSubplot object at 0x000001B57D490D88>,\n",
       "        <matplotlib.axes._subplots.AxesSubplot object at 0x000001B57D49E408>]],\n",
       "      dtype=object)"
      ]
     },
     "execution_count": 20,
     "metadata": {},
     "output_type": "execute_result"
    },
    {
     "data": {
      "image/png": "[encoded data removed]",
      "text/plain": [
       "<Figure size 432x288 with 9 Axes>"
      ]
     },
     "metadata": {
      "needs_background": "light"
     },
     "output_type": "display_data"
    }
   ],
   "source": [
    "df.hist()"
   ]
  },
  {
   "cell_type": "code",
   "execution_count": 37,
   "metadata": {
    "ExecuteTime": {
     "end_time": "2019-12-13T19:13:24.937623Z",
     "start_time": "2019-12-13T19:13:24.931639Z"
    }
   },
   "outputs": [],
   "source": [
    "df=df.iloc[wrong]"
   ]
  },
  {
   "cell_type": "code",
   "execution_count": 40,
   "metadata": {
    "ExecuteTime": {
     "end_time": "2019-12-13T19:16:11.020328Z",
     "start_time": "2019-12-13T19:16:10.573485Z"
    }
   },
   "outputs": [
    {
     "name": "stdout",
     "output_type": "stream",
     "text": [
      "['main_category', 'category', 'duration', 'usd_goal_real', 'launched_month', 'deadline_month']\n"
     ]
    },
    {
     "data": {
      "text/plain": [
       "array([[<matplotlib.axes._subplots.AxesSubplot object at 0x000001B5080C8188>]],\n",
       "      dtype=object)"
      ]
     },
     "execution_count": 40,
     "metadata": {},
     "output_type": "execute_result"
    },
    {
     "data": {
      "image/png": "[encoded data removed]",
      "text/plain": [
       "<Figure size 432x288 with 1 Axes>"
      ]
     },
     "metadata": {
      "needs_background": "light"
     },
     "output_type": "display_data"
    },
    {
     "data": {
      "image/png": "[encoded data removed]",
      "text/plain": [
       "<Figure size 432x288 with 1 Axes>"
      ]
     },
     "metadata": {
      "needs_background": "light"
     },
     "output_type": "display_data"
    },
    {
     "data": {
      "image/png": "[encoded data removed]",
      "text/plain": [
       "<Figure size 432x288 with 1 Axes>"
      ]
     },
     "metadata": {
      "needs_background": "light"
     },
     "output_type": "display_data"
    }
   ],
   "source": [
    "print(list(df.columns)[1:])\n",
    "cols=['main_category','launched_month','deadline_month']\n",
    "\n",
    "df.hist(column='main_category',bins=len(list(df.main_category.unique())),grid=False)\n",
    "df.hist(column='launched_month',bins=len(list(df.launched_month.unique())),grid=False)\n",
    "df.hist(column='deadline_month',bins=len(list(df.deadline_month.unique())),grid=False)"
   ]
  },
  {
   "cell_type": "code",
   "execution_count": null,
   "metadata": {},
   "outputs": [],
   "source": [
    "df.loc(wrong)"
   ]
  }
 ],
 "metadata": {
  "kernelspec": {
   "display_name": "Python 3",
   "language": "python",
   "name": "python3"
  },
  "language_info": {
   "codemirror_mode": {
    "name": "ipython",
    "version": 3
   },
   "file_extension": ".py",
   "mimetype": "text/x-python",
   "name": "python",
   "nbconvert_exporter": "python",
   "pygments_lexer": "ipython3",
   "version": "3.7.4"
  }
 },
 "nbformat": 4,
 "nbformat_minor": 2
}
