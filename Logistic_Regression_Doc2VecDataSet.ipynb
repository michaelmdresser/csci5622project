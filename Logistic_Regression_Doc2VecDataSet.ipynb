{
 "cells": [
  {
   "cell_type": "code",
   "execution_count": 1,
   "metadata": {},
   "outputs": [],
   "source": [
    "# Load Necessary Libraries\n",
    "import numpy as np\n",
    "import pandas as pd\n",
    "import matplotlib.pyplot as plt\n",
    "import datetime\n",
    "import os\n",
    "\n",
    "from sklearn.linear_model import LogisticRegression\n",
    "from sklearn.pipeline import make_pipeline\n",
    "from sklearn.model_selection import GridSearchCV\n",
    "from sklearn.model_selection import KFold\n",
    "from sklearn.metrics import accuracy_score\n",
    "\n",
    "\n",
    "#Set Working Directory\n",
    "os.chdir(r\"/Users/glinn/Documents/CSCI5622-machine-learning/project/csci5622project\")"
   ]
  },
  {
   "cell_type": "code",
   "execution_count": 2,
   "metadata": {},
   "outputs": [],
   "source": [
    "def TurnDfXIntoArray(df):\n",
    "    df=df.drop(columns=[\"Unnamed: 0\"])\n",
    "    array = np.array(df)\n",
    "    return array\n",
    "def TurnDfYIntoVector(df):\n",
    "    array = np.array(df,dtype=int)\n",
    "    return array\n",
    "def TuneParameters(Model,C,X_train,Y_train,X_valid,Y_valid):\n",
    "    accuracy = []\n",
    "    accuracy_train = []\n",
    "    best_accuracy = 0.0\n",
    "    for i in range(len(C)):\n",
    "        Model.set_params(C=C[i])\n",
    "        Model.fit(X_train,Y_train)\n",
    "        yhat = Model.predict(X_valid)\n",
    "        accuracy.append(accuracy_score(Y_valid,yhat))\n",
    "        yhat_train = Model.predict(X_train)\n",
    "        accuracy_train.append(accuracy_score(Y_train,yhat_train))\n",
    "        if accuracy[i]>best_accuracy:\n",
    "            best_accuracy = accuracy[i]\n",
    "            Coef = [Model.intercept_, Model.coef_]\n",
    "    Coef = np.concatenate((Coef[0].reshape(1,1),Coef[1]),axis=1)\n",
    "    Coef = np.array(Coef)\n",
    "    accuracy = np.array(accuracy)\n",
    "    accuracy_train = np.array(accuracy_train)\n",
    "    return accuracy, accuracy_train, Coef\n",
    "def OneHotEncodeCategory(df,CategoryHeader):\n",
    "    df = pd.get_dummies(df,columns = CategoryHeader)\n",
    "    array = TurnDfXIntoArray(df)\n",
    "    return array\n",
    "\n",
    "def PlotBiasVariance(accuracy_train,accuracy_valid,C):\n",
    "    plt.plot(C,1-accuracy_train,'b')\n",
    "    plt.plot(C,1-accuracy_valid,'r')\n",
    "    plt.title(\"Error vs. Complexity (Regularization parameter, C)\")\n",
    "    plt.xlabel(\"Model Complexity ~ C\")\n",
    "    plt.ylabel(\"1-accuracy\")\n",
    "    plt.legend([\"Training 1-Accuracy\",\"Validation 1-Accuracy\"])\n",
    "\n",
    "def ReportBest(accuracy_train,accuracy_valid,C,Coef):\n",
    "    print(f\"The best validation accuracy is {np.amax(accuracy_valid)}.\")\n",
    "    print(f\"The best training accuracy is {np.amax(accuracy_train)}.\")\n",
    "    print(f\"The best value for C is {C[np.argmax(accuracy_valid)]}\")\n",
    "    print(f\"And, the best model coefficients are {Coef}.\")\n",
    "\n",
    "def ReportFull(accuracy_train,accuracy_valid,C,Coef):\n",
    "    print(f\"The validation accuracy is {accuracy_valid}.\")\n",
    "    print(f\"The training accuracy is {accuracy_train}.\")\n",
    "    print(f\"The best value for C is {C[np.argmax(accuracy_valid)]}\")\n",
    "    print(f\"And, the best model coefficients are {Coef}.\")"
   ]
  },
  {
   "cell_type": "markdown",
   "metadata": {},
   "source": [
    "Import the Data"
   ]
  },
  {
   "cell_type": "code",
   "execution_count": 3,
   "metadata": {},
   "outputs": [
    {
     "name": "stdout",
     "output_type": "stream",
     "text": [
      "   Unnamed: 0  main_category  category  duration  usd_goal_real  \\\n",
      "0           0             12        19 -0.316333      -0.036515   \n",
      "1           2              8       136  2.025723      -0.031740   \n",
      "2           4              7        44 -0.272265      -0.032463   \n",
      "3           5              5        31 -0.400095      -0.034948   \n",
      "4           6              6        93 -0.326225       0.008140   \n",
      "\n",
      "   launched_month  deadline_month  doc2vec_names_0  doc2vec_names_1  \\\n",
      "0             4.0             5.0         0.009077        -0.029281   \n",
      "1            10.0             0.0        -0.015903         0.037791   \n",
      "2             7.0             8.0         0.018435         0.037622   \n",
      "3             2.0             3.0         0.020175        -0.015965   \n",
      "4             0.0             2.0         0.005605         0.003581   \n",
      "\n",
      "   doc2vec_names_2  ...  doc2vec_names_10  doc2vec_names_11  doc2vec_names_12  \\\n",
      "0        -0.014818  ...          0.013778         -0.047939         -0.063131   \n",
      "1        -0.035279  ...         -0.055231         -0.034383          0.003102   \n",
      "2         0.031674  ...         -0.048317          0.023729         -0.057103   \n",
      "3        -0.012979  ...         -0.008836         -0.055694         -0.005870   \n",
      "4         0.019905  ...         -0.033168         -0.017154         -0.019477   \n",
      "\n",
      "   doc2vec_names_13  doc2vec_names_14  doc2vec_names_15  doc2vec_names_16  \\\n",
      "0          0.015074         -0.003315         -0.072243          0.029401   \n",
      "1          0.029496         -0.097409         -0.059037          0.045664   \n",
      "2          0.023843          0.044732         -0.049317         -0.029703   \n",
      "3          0.016705         -0.025267          0.002448          0.018852   \n",
      "4          0.027361         -0.083247          0.006590         -0.020938   \n",
      "\n",
      "   doc2vec_names_17  doc2vec_names_18  doc2vec_names_19  \n",
      "0         -0.058894         -0.008851         -0.004987  \n",
      "1         -0.052574          0.034218          0.041212  \n",
      "2         -0.100054          0.014423          0.055918  \n",
      "3         -0.024194          0.007968          0.031140  \n",
      "4         -0.052568         -0.026672          0.040495  \n",
      "\n",
      "[5 rows x 27 columns]\n"
     ]
    }
   ],
   "source": [
    "#training data\n",
    "X_train_df = pd.read_csv(r\"data/preprocess-doc2vec-x-train.csv\")\n",
    "Y_train_df = pd.read_csv(r\"data/preprocess-doc2vec-y-train.csv\")\n",
    "#validation data\n",
    "X_valid_df = pd.read_csv(r\"data/preprocess-doc2vec-x-valid.csv\")\n",
    "Y_valid_df = pd.read_csv(r\"data/preprocess-doc2vec-y-valid.csv\")\n",
    "\n",
    "X_train = TurnDfXIntoArray(X_train_df)\n",
    "X_valid = TurnDfXIntoArray(X_valid_df)\n",
    "Y_train = TurnDfYIntoVector(Y_train_df)\n",
    "Y_valid = TurnDfYIntoVector(Y_valid_df)\n",
    "\n",
    "print(X_train_df.head(5))"
   ]
  },
  {
   "cell_type": "markdown",
   "metadata": {},
   "source": [
    "Choose a random seed for repeatability"
   ]
  },
  {
   "cell_type": "code",
   "execution_count": 4,
   "metadata": {},
   "outputs": [],
   "source": [
    "np.random.seed(6591)"
   ]
  },
  {
   "cell_type": "markdown",
   "metadata": {},
   "source": [
    "# Build the Model"
   ]
  },
  {
   "cell_type": "code",
   "execution_count": 5,
   "metadata": {},
   "outputs": [],
   "source": [
    "# Define pipeline\n",
    "pipeline_LogReg = LogisticRegression(penalty='l1',n_jobs=-1,max_iter=200)"
   ]
  },
  {
   "cell_type": "markdown",
   "metadata": {},
   "source": [
    "# Test the Model"
   ]
  },
  {
   "cell_type": "code",
   "execution_count": 6,
   "metadata": {},
   "outputs": [
    {
     "name": "stderr",
     "output_type": "stream",
     "text": [
      "/Users/glinn/anaconda3/lib/python3.6/site-packages/sklearn/linear_model/logistic.py:432: FutureWarning: Default solver will be changed to 'lbfgs' in 0.22. Specify a solver to silence this warning.\n",
      "  FutureWarning)\n",
      "/Users/glinn/anaconda3/lib/python3.6/site-packages/sklearn/utils/validation.py:724: DataConversionWarning: A column-vector y was passed when a 1d array was expected. Please change the shape of y to (n_samples, ), for example using ravel().\n",
      "  y = column_or_1d(y, warn=True)\n",
      "/Users/glinn/anaconda3/lib/python3.6/site-packages/sklearn/linear_model/logistic.py:1544: UserWarning: 'n_jobs' > 1 does not have any effect when 'solver' is set to 'liblinear'. Got 'n_jobs' = 8.\n",
      "  \" = {}.\".format(effective_n_jobs(self.n_jobs)))\n",
      "/Users/glinn/anaconda3/lib/python3.6/site-packages/sklearn/linear_model/logistic.py:432: FutureWarning: Default solver will be changed to 'lbfgs' in 0.22. Specify a solver to silence this warning.\n",
      "  FutureWarning)\n",
      "/Users/glinn/anaconda3/lib/python3.6/site-packages/sklearn/utils/validation.py:724: DataConversionWarning: A column-vector y was passed when a 1d array was expected. Please change the shape of y to (n_samples, ), for example using ravel().\n",
      "  y = column_or_1d(y, warn=True)\n",
      "/Users/glinn/anaconda3/lib/python3.6/site-packages/sklearn/linear_model/logistic.py:1544: UserWarning: 'n_jobs' > 1 does not have any effect when 'solver' is set to 'liblinear'. Got 'n_jobs' = 8.\n",
      "  \" = {}.\".format(effective_n_jobs(self.n_jobs)))\n",
      "/Users/glinn/anaconda3/lib/python3.6/site-packages/sklearn/linear_model/logistic.py:432: FutureWarning: Default solver will be changed to 'lbfgs' in 0.22. Specify a solver to silence this warning.\n",
      "  FutureWarning)\n",
      "/Users/glinn/anaconda3/lib/python3.6/site-packages/sklearn/utils/validation.py:724: DataConversionWarning: A column-vector y was passed when a 1d array was expected. Please change the shape of y to (n_samples, ), for example using ravel().\n",
      "  y = column_or_1d(y, warn=True)\n",
      "/Users/glinn/anaconda3/lib/python3.6/site-packages/sklearn/linear_model/logistic.py:1544: UserWarning: 'n_jobs' > 1 does not have any effect when 'solver' is set to 'liblinear'. Got 'n_jobs' = 8.\n",
      "  \" = {}.\".format(effective_n_jobs(self.n_jobs)))\n",
      "/Users/glinn/anaconda3/lib/python3.6/site-packages/sklearn/linear_model/logistic.py:432: FutureWarning: Default solver will be changed to 'lbfgs' in 0.22. Specify a solver to silence this warning.\n",
      "  FutureWarning)\n",
      "/Users/glinn/anaconda3/lib/python3.6/site-packages/sklearn/utils/validation.py:724: DataConversionWarning: A column-vector y was passed when a 1d array was expected. Please change the shape of y to (n_samples, ), for example using ravel().\n",
      "  y = column_or_1d(y, warn=True)\n",
      "/Users/glinn/anaconda3/lib/python3.6/site-packages/sklearn/linear_model/logistic.py:1544: UserWarning: 'n_jobs' > 1 does not have any effect when 'solver' is set to 'liblinear'. Got 'n_jobs' = 8.\n",
      "  \" = {}.\".format(effective_n_jobs(self.n_jobs)))\n",
      "/Users/glinn/anaconda3/lib/python3.6/site-packages/sklearn/linear_model/logistic.py:432: FutureWarning: Default solver will be changed to 'lbfgs' in 0.22. Specify a solver to silence this warning.\n",
      "  FutureWarning)\n",
      "/Users/glinn/anaconda3/lib/python3.6/site-packages/sklearn/utils/validation.py:724: DataConversionWarning: A column-vector y was passed when a 1d array was expected. Please change the shape of y to (n_samples, ), for example using ravel().\n",
      "  y = column_or_1d(y, warn=True)\n",
      "/Users/glinn/anaconda3/lib/python3.6/site-packages/sklearn/linear_model/logistic.py:1544: UserWarning: 'n_jobs' > 1 does not have any effect when 'solver' is set to 'liblinear'. Got 'n_jobs' = 8.\n",
      "  \" = {}.\".format(effective_n_jobs(self.n_jobs)))\n"
     ]
    },
    {
     "name": "stdout",
     "output_type": "stream",
     "text": [
      "The validation accuracy is [0.6146651  0.62059009 0.6201991  0.61998857 0.62004872].\n",
      "The training accuracy is [0.61117557 0.62182144 0.62174543 0.62177743 0.62179344].\n",
      "The best value for C is 1.0\n",
      "And, the best model coefficients are [[-8.65983662e-01 -1.49421473e-02  2.11907976e-03 -2.05843537e-01\n",
      "  -1.73098234e+01 -9.19238511e-03  6.17851287e-03 -2.58165853e+00\n",
      "  -7.37042176e-01 -2.22962960e+00 -1.16473561e+00 -1.10821704e+00\n",
      "  -2.91130407e+00 -2.02532024e+00 -1.44471390e-02  4.90105165e-01\n",
      "   0.00000000e+00 -5.21201046e-01 -3.14326526e-01  6.28916435e-01\n",
      "  -2.55425089e+00 -9.36252920e-01 -2.45330288e+00 -1.09459671e+00\n",
      "   1.15790914e+00 -7.70651809e-01  1.15350783e+00]].\n"
     ]
    }
   ],
   "source": [
    "C=[0.01,1.0,10.0,100.0,1000.0]\n",
    "Accuracy, Accuracy_train, Coef = TuneParameters(pipeline_LogReg,C,X_train,Y_train,X_valid,Y_valid)\n",
    "ReportFull(Accuracy_train,Accuracy,C,Coef)"
   ]
  },
  {
   "cell_type": "code",
   "execution_count": 7,
   "metadata": {},
   "outputs": [
    {
     "data": {
      "image/png": "[encoded data removed]",
      "text/plain": [
       "<Figure size 432x288 with 1 Axes>"
      ]
     },
     "metadata": {
      "needs_background": "light"
     },
     "output_type": "display_data"
    }
   ],
   "source": [
    "PlotBiasVariance(Accuracy_train,Accuracy,C)\n",
    "plt.savefig('Figures/LogReg/Doc2VecDataSet/BiasVarianceCoarseTunedC.png')"
   ]
  },
  {
   "cell_type": "code",
   "execution_count": 8,
   "metadata": {},
   "outputs": [
    {
     "name": "stderr",
     "output_type": "stream",
     "text": [
      "/Users/glinn/anaconda3/lib/python3.6/site-packages/sklearn/linear_model/logistic.py:432: FutureWarning: Default solver will be changed to 'lbfgs' in 0.22. Specify a solver to silence this warning.\n",
      "  FutureWarning)\n",
      "/Users/glinn/anaconda3/lib/python3.6/site-packages/sklearn/utils/validation.py:724: DataConversionWarning: A column-vector y was passed when a 1d array was expected. Please change the shape of y to (n_samples, ), for example using ravel().\n",
      "  y = column_or_1d(y, warn=True)\n",
      "/Users/glinn/anaconda3/lib/python3.6/site-packages/sklearn/linear_model/logistic.py:1544: UserWarning: 'n_jobs' > 1 does not have any effect when 'solver' is set to 'liblinear'. Got 'n_jobs' = 8.\n",
      "  \" = {}.\".format(effective_n_jobs(self.n_jobs)))\n",
      "/Users/glinn/anaconda3/lib/python3.6/site-packages/sklearn/linear_model/logistic.py:432: FutureWarning: Default solver will be changed to 'lbfgs' in 0.22. Specify a solver to silence this warning.\n",
      "  FutureWarning)\n",
      "/Users/glinn/anaconda3/lib/python3.6/site-packages/sklearn/utils/validation.py:724: DataConversionWarning: A column-vector y was passed when a 1d array was expected. Please change the shape of y to (n_samples, ), for example using ravel().\n",
      "  y = column_or_1d(y, warn=True)\n",
      "/Users/glinn/anaconda3/lib/python3.6/site-packages/sklearn/linear_model/logistic.py:1544: UserWarning: 'n_jobs' > 1 does not have any effect when 'solver' is set to 'liblinear'. Got 'n_jobs' = 8.\n",
      "  \" = {}.\".format(effective_n_jobs(self.n_jobs)))\n",
      "/Users/glinn/anaconda3/lib/python3.6/site-packages/sklearn/linear_model/logistic.py:432: FutureWarning: Default solver will be changed to 'lbfgs' in 0.22. Specify a solver to silence this warning.\n",
      "  FutureWarning)\n",
      "/Users/glinn/anaconda3/lib/python3.6/site-packages/sklearn/utils/validation.py:724: DataConversionWarning: A column-vector y was passed when a 1d array was expected. Please change the shape of y to (n_samples, ), for example using ravel().\n",
      "  y = column_or_1d(y, warn=True)\n",
      "/Users/glinn/anaconda3/lib/python3.6/site-packages/sklearn/linear_model/logistic.py:1544: UserWarning: 'n_jobs' > 1 does not have any effect when 'solver' is set to 'liblinear'. Got 'n_jobs' = 8.\n",
      "  \" = {}.\".format(effective_n_jobs(self.n_jobs)))\n",
      "/Users/glinn/anaconda3/lib/python3.6/site-packages/sklearn/linear_model/logistic.py:432: FutureWarning: Default solver will be changed to 'lbfgs' in 0.22. Specify a solver to silence this warning.\n",
      "  FutureWarning)\n",
      "/Users/glinn/anaconda3/lib/python3.6/site-packages/sklearn/utils/validation.py:724: DataConversionWarning: A column-vector y was passed when a 1d array was expected. Please change the shape of y to (n_samples, ), for example using ravel().\n",
      "  y = column_or_1d(y, warn=True)\n",
      "/Users/glinn/anaconda3/lib/python3.6/site-packages/sklearn/linear_model/logistic.py:1544: UserWarning: 'n_jobs' > 1 does not have any effect when 'solver' is set to 'liblinear'. Got 'n_jobs' = 8.\n",
      "  \" = {}.\".format(effective_n_jobs(self.n_jobs)))\n",
      "/Users/glinn/anaconda3/lib/python3.6/site-packages/sklearn/linear_model/logistic.py:432: FutureWarning: Default solver will be changed to 'lbfgs' in 0.22. Specify a solver to silence this warning.\n",
      "  FutureWarning)\n",
      "/Users/glinn/anaconda3/lib/python3.6/site-packages/sklearn/utils/validation.py:724: DataConversionWarning: A column-vector y was passed when a 1d array was expected. Please change the shape of y to (n_samples, ), for example using ravel().\n",
      "  y = column_or_1d(y, warn=True)\n",
      "/Users/glinn/anaconda3/lib/python3.6/site-packages/sklearn/linear_model/logistic.py:1544: UserWarning: 'n_jobs' > 1 does not have any effect when 'solver' is set to 'liblinear'. Got 'n_jobs' = 8.\n",
      "  \" = {}.\".format(effective_n_jobs(self.n_jobs)))\n",
      "/Users/glinn/anaconda3/lib/python3.6/site-packages/sklearn/linear_model/logistic.py:432: FutureWarning: Default solver will be changed to 'lbfgs' in 0.22. Specify a solver to silence this warning.\n",
      "  FutureWarning)\n",
      "/Users/glinn/anaconda3/lib/python3.6/site-packages/sklearn/utils/validation.py:724: DataConversionWarning: A column-vector y was passed when a 1d array was expected. Please change the shape of y to (n_samples, ), for example using ravel().\n",
      "  y = column_or_1d(y, warn=True)\n",
      "/Users/glinn/anaconda3/lib/python3.6/site-packages/sklearn/linear_model/logistic.py:1544: UserWarning: 'n_jobs' > 1 does not have any effect when 'solver' is set to 'liblinear'. Got 'n_jobs' = 8.\n",
      "  \" = {}.\".format(effective_n_jobs(self.n_jobs)))\n",
      "/Users/glinn/anaconda3/lib/python3.6/site-packages/sklearn/linear_model/logistic.py:432: FutureWarning: Default solver will be changed to 'lbfgs' in 0.22. Specify a solver to silence this warning.\n",
      "  FutureWarning)\n",
      "/Users/glinn/anaconda3/lib/python3.6/site-packages/sklearn/utils/validation.py:724: DataConversionWarning: A column-vector y was passed when a 1d array was expected. Please change the shape of y to (n_samples, ), for example using ravel().\n",
      "  y = column_or_1d(y, warn=True)\n",
      "/Users/glinn/anaconda3/lib/python3.6/site-packages/sklearn/linear_model/logistic.py:1544: UserWarning: 'n_jobs' > 1 does not have any effect when 'solver' is set to 'liblinear'. Got 'n_jobs' = 8.\n",
      "  \" = {}.\".format(effective_n_jobs(self.n_jobs)))\n",
      "/Users/glinn/anaconda3/lib/python3.6/site-packages/sklearn/linear_model/logistic.py:432: FutureWarning: Default solver will be changed to 'lbfgs' in 0.22. Specify a solver to silence this warning.\n",
      "  FutureWarning)\n",
      "/Users/glinn/anaconda3/lib/python3.6/site-packages/sklearn/utils/validation.py:724: DataConversionWarning: A column-vector y was passed when a 1d array was expected. Please change the shape of y to (n_samples, ), for example using ravel().\n",
      "  y = column_or_1d(y, warn=True)\n",
      "/Users/glinn/anaconda3/lib/python3.6/site-packages/sklearn/linear_model/logistic.py:1544: UserWarning: 'n_jobs' > 1 does not have any effect when 'solver' is set to 'liblinear'. Got 'n_jobs' = 8.\n",
      "  \" = {}.\".format(effective_n_jobs(self.n_jobs)))\n",
      "/Users/glinn/anaconda3/lib/python3.6/site-packages/sklearn/linear_model/logistic.py:432: FutureWarning: Default solver will be changed to 'lbfgs' in 0.22. Specify a solver to silence this warning.\n",
      "  FutureWarning)\n",
      "/Users/glinn/anaconda3/lib/python3.6/site-packages/sklearn/utils/validation.py:724: DataConversionWarning: A column-vector y was passed when a 1d array was expected. Please change the shape of y to (n_samples, ), for example using ravel().\n",
      "  y = column_or_1d(y, warn=True)\n",
      "/Users/glinn/anaconda3/lib/python3.6/site-packages/sklearn/linear_model/logistic.py:1544: UserWarning: 'n_jobs' > 1 does not have any effect when 'solver' is set to 'liblinear'. Got 'n_jobs' = 8.\n",
      "  \" = {}.\".format(effective_n_jobs(self.n_jobs)))\n",
      "/Users/glinn/anaconda3/lib/python3.6/site-packages/sklearn/linear_model/logistic.py:432: FutureWarning: Default solver will be changed to 'lbfgs' in 0.22. Specify a solver to silence this warning.\n",
      "  FutureWarning)\n",
      "/Users/glinn/anaconda3/lib/python3.6/site-packages/sklearn/utils/validation.py:724: DataConversionWarning: A column-vector y was passed when a 1d array was expected. Please change the shape of y to (n_samples, ), for example using ravel().\n",
      "  y = column_or_1d(y, warn=True)\n",
      "/Users/glinn/anaconda3/lib/python3.6/site-packages/sklearn/linear_model/logistic.py:1544: UserWarning: 'n_jobs' > 1 does not have any effect when 'solver' is set to 'liblinear'. Got 'n_jobs' = 8.\n",
      "  \" = {}.\".format(effective_n_jobs(self.n_jobs)))\n"
     ]
    },
    {
     "name": "stdout",
     "output_type": "stream",
     "text": [
      "The best validation accuracy is 0.6207705494902103.\n",
      "The best training accuracy is 0.6219654659220023.\n",
      "The best value for C is 0.5222222222222223\n",
      "And, the best model coefficients are [[-8.68077505e-01 -1.48414323e-02  2.12571035e-03 -2.05816887e-01\n",
      "  -1.72868601e+01 -9.13288877e-03  6.27596998e-03 -2.57532792e+00\n",
      "  -7.01024585e-01 -2.20635099e+00 -1.15338687e+00 -1.08737783e+00\n",
      "  -2.88975468e+00 -2.00141206e+00  0.00000000e+00  4.66706716e-01\n",
      "   0.00000000e+00 -5.00296843e-01 -3.03201385e-01  6.12160257e-01\n",
      "  -2.52930593e+00 -9.18758513e-01 -2.42981763e+00 -1.06674337e+00\n",
      "   1.12449061e+00 -7.44857671e-01  1.13730900e+00]].\n"
     ]
    }
   ],
   "source": [
    "C_fine=np.linspace(0.1,2.0,10)\n",
    "Accuracy_fine, Accuracy_train_fine, Coef_fine = TuneParameters(pipeline_LogReg,C_fine,X_train,Y_train,X_valid,Y_valid)\n",
    "ReportBest(Accuracy_train_fine,Accuracy_fine,C_fine,Coef_fine)"
   ]
  },
  {
   "cell_type": "code",
   "execution_count": 9,
   "metadata": {},
   "outputs": [
    {
     "data": {
      "image/png": "[encoded data removed]",
      "text/plain": [
       "<Figure size 432x288 with 1 Axes>"
      ]
     },
     "metadata": {
      "needs_background": "light"
     },
     "output_type": "display_data"
    }
   ],
   "source": [
    "PlotBiasVariance(Accuracy_train_fine,Accuracy_fine,C_fine)\n",
    "plt.savefig('Figures/LogReg/Doc2VecDataSet/BiasVarianceFineTunedC.png')"
   ]
  },
  {
   "cell_type": "markdown",
   "metadata": {},
   "source": [
    "Okay, so in the end, our best result after tuning the complexity of our model is:"
   ]
  },
  {
   "cell_type": "code",
   "execution_count": 10,
   "metadata": {},
   "outputs": [
    {
     "name": "stdout",
     "output_type": "stream",
     "text": [
      "The best validation accuracy is 0.6207705494902103.\n",
      "The best training accuracy is 0.6219654659220023.\n",
      "The best value for C is 0.5222222222222223\n",
      "And, the best model coefficients are [[-8.68077505e-01 -1.48414323e-02  2.12571035e-03 -2.05816887e-01\n",
      "  -1.72868601e+01 -9.13288877e-03  6.27596998e-03 -2.57532792e+00\n",
      "  -7.01024585e-01 -2.20635099e+00 -1.15338687e+00 -1.08737783e+00\n",
      "  -2.88975468e+00 -2.00141206e+00  0.00000000e+00  4.66706716e-01\n",
      "   0.00000000e+00 -5.00296843e-01 -3.03201385e-01  6.12160257e-01\n",
      "  -2.52930593e+00 -9.18758513e-01 -2.42981763e+00 -1.06674337e+00\n",
      "   1.12449061e+00 -7.44857671e-01  1.13730900e+00]].\n"
     ]
    }
   ],
   "source": [
    "ReportBest(Accuracy_train_fine,Accuracy_fine,C_fine,Coef_fine)"
   ]
  },
  {
   "cell_type": "markdown",
   "metadata": {},
   "source": [
    "# Okay, and what if we one hot encode the categories?"
   ]
  },
  {
   "cell_type": "code",
   "execution_count": 11,
   "metadata": {},
   "outputs": [],
   "source": [
    "# Just one hot the main category first\n",
    "X_train_OneHot_Main = OneHotEncodeCategory(X_train_df,[\"main_category\"])\n",
    "X_valid_OneHot_Main = OneHotEncodeCategory(X_valid_df,[\"main_category\"])\n",
    "\n",
    "#Now just the sub category\n",
    "X_train_OneHot_Sub = OneHotEncodeCategory(X_train_df,[\"category\"])\n",
    "X_valid_OneHot_Sub = OneHotEncodeCategory(X_valid_df,[\"category\"])\n",
    "\n",
    "# One hot both categories\n",
    "X_train_OneHot_Both = OneHotEncodeCategory(X_train_df,[\"main_category\",\"category\"])\n",
    "X_valid_OneHot_Both = OneHotEncodeCategory(X_valid_df,[\"main_category\",\"category\"])"
   ]
  },
  {
   "cell_type": "markdown",
   "metadata": {},
   "source": [
    "First, Let's just look at one hot encoding the main category."
   ]
  },
  {
   "cell_type": "code",
   "execution_count": 12,
   "metadata": {},
   "outputs": [
    {
     "name": "stderr",
     "output_type": "stream",
     "text": [
      "/Users/glinn/anaconda3/lib/python3.6/site-packages/sklearn/linear_model/logistic.py:432: FutureWarning: Default solver will be changed to 'lbfgs' in 0.22. Specify a solver to silence this warning.\n",
      "  FutureWarning)\n",
      "/Users/glinn/anaconda3/lib/python3.6/site-packages/sklearn/utils/validation.py:724: DataConversionWarning: A column-vector y was passed when a 1d array was expected. Please change the shape of y to (n_samples, ), for example using ravel().\n",
      "  y = column_or_1d(y, warn=True)\n",
      "/Users/glinn/anaconda3/lib/python3.6/site-packages/sklearn/linear_model/logistic.py:1544: UserWarning: 'n_jobs' > 1 does not have any effect when 'solver' is set to 'liblinear'. Got 'n_jobs' = 8.\n",
      "  \" = {}.\".format(effective_n_jobs(self.n_jobs)))\n",
      "/Users/glinn/anaconda3/lib/python3.6/site-packages/sklearn/linear_model/logistic.py:432: FutureWarning: Default solver will be changed to 'lbfgs' in 0.22. Specify a solver to silence this warning.\n",
      "  FutureWarning)\n",
      "/Users/glinn/anaconda3/lib/python3.6/site-packages/sklearn/utils/validation.py:724: DataConversionWarning: A column-vector y was passed when a 1d array was expected. Please change the shape of y to (n_samples, ), for example using ravel().\n",
      "  y = column_or_1d(y, warn=True)\n",
      "/Users/glinn/anaconda3/lib/python3.6/site-packages/sklearn/linear_model/logistic.py:1544: UserWarning: 'n_jobs' > 1 does not have any effect when 'solver' is set to 'liblinear'. Got 'n_jobs' = 8.\n",
      "  \" = {}.\".format(effective_n_jobs(self.n_jobs)))\n",
      "/Users/glinn/anaconda3/lib/python3.6/site-packages/sklearn/linear_model/logistic.py:432: FutureWarning: Default solver will be changed to 'lbfgs' in 0.22. Specify a solver to silence this warning.\n",
      "  FutureWarning)\n",
      "/Users/glinn/anaconda3/lib/python3.6/site-packages/sklearn/utils/validation.py:724: DataConversionWarning: A column-vector y was passed when a 1d array was expected. Please change the shape of y to (n_samples, ), for example using ravel().\n",
      "  y = column_or_1d(y, warn=True)\n",
      "/Users/glinn/anaconda3/lib/python3.6/site-packages/sklearn/linear_model/logistic.py:1544: UserWarning: 'n_jobs' > 1 does not have any effect when 'solver' is set to 'liblinear'. Got 'n_jobs' = 8.\n",
      "  \" = {}.\".format(effective_n_jobs(self.n_jobs)))\n",
      "/Users/glinn/anaconda3/lib/python3.6/site-packages/sklearn/linear_model/logistic.py:432: FutureWarning: Default solver will be changed to 'lbfgs' in 0.22. Specify a solver to silence this warning.\n",
      "  FutureWarning)\n",
      "/Users/glinn/anaconda3/lib/python3.6/site-packages/sklearn/utils/validation.py:724: DataConversionWarning: A column-vector y was passed when a 1d array was expected. Please change the shape of y to (n_samples, ), for example using ravel().\n",
      "  y = column_or_1d(y, warn=True)\n",
      "/Users/glinn/anaconda3/lib/python3.6/site-packages/sklearn/linear_model/logistic.py:1544: UserWarning: 'n_jobs' > 1 does not have any effect when 'solver' is set to 'liblinear'. Got 'n_jobs' = 8.\n",
      "  \" = {}.\".format(effective_n_jobs(self.n_jobs)))\n",
      "/Users/glinn/anaconda3/lib/python3.6/site-packages/sklearn/linear_model/logistic.py:432: FutureWarning: Default solver will be changed to 'lbfgs' in 0.22. Specify a solver to silence this warning.\n",
      "  FutureWarning)\n",
      "/Users/glinn/anaconda3/lib/python3.6/site-packages/sklearn/utils/validation.py:724: DataConversionWarning: A column-vector y was passed when a 1d array was expected. Please change the shape of y to (n_samples, ), for example using ravel().\n",
      "  y = column_or_1d(y, warn=True)\n",
      "/Users/glinn/anaconda3/lib/python3.6/site-packages/sklearn/linear_model/logistic.py:1544: UserWarning: 'n_jobs' > 1 does not have any effect when 'solver' is set to 'liblinear'. Got 'n_jobs' = 8.\n",
      "  \" = {}.\".format(effective_n_jobs(self.n_jobs)))\n"
     ]
    },
    {
     "name": "stdout",
     "output_type": "stream",
     "text": [
      "The validation accuracy is [0.64019971 0.64407952 0.64419983 0.64404945 0.64404945].\n",
      "The training accuracy is [0.64164493 0.6482901  0.64822209 0.64821809 0.64821409].\n",
      "The best value for C is 10.0\n",
      "And, the best model coefficients are [[-2.78951077e-01  4.37660669e-04 -2.25568821e-01 -1.56694448e+01\n",
      "  -7.41888740e-03  6.91612119e-03  1.35614493e-02 -1.00854783e+00\n",
      "  -2.26074608e+00 -7.92960820e-01 -3.48792084e-01 -2.13222818e+00\n",
      "  -1.13620893e+00  3.32262515e-01  1.79971415e+00  2.01654819e-01\n",
      "  -7.18891474e-01 -6.39729693e-01  9.41040131e-01 -1.80588508e+00\n",
      "  -2.24128264e-01 -1.73420107e+00 -6.70871404e-01 -3.17944520e-02\n",
      "  -1.70208797e+00  1.08577176e+00 -4.78884146e-01  8.00357087e-02\n",
      "  -1.36995508e+00  3.73432439e-01 -4.60950598e-01 -1.21241352e+00\n",
      "  -4.46498080e-01 -1.06402339e+00 -4.15555396e-01 -1.34361684e+00\n",
      "  -1.15863943e-01 -9.42423423e-01 -8.60247462e-01 -1.06457001e+00\n",
      "   3.05353729e-01]].\n"
     ]
    }
   ],
   "source": [
    "C_Main=[0.01,1.0,10.0,100.0,1000.0]\n",
    "Accuracy_Main,Accuracy_train_Main,Coef_Main = TuneParameters(pipeline_LogReg,C_Main,X_train_OneHot_Main,Y_train,X_valid_OneHot_Main,Y_valid)\n",
    "ReportFull(Accuracy_train_Main,Accuracy_Main,C_Main,Coef_Main)"
   ]
  },
  {
   "cell_type": "code",
   "execution_count": 13,
   "metadata": {},
   "outputs": [
    {
     "data": {
      "image/png": "[encoded data removed]",
      "text/plain": [
       "<Figure size 432x288 with 1 Axes>"
      ]
     },
     "metadata": {
      "needs_background": "light"
     },
     "output_type": "display_data"
    }
   ],
   "source": [
    "PlotBiasVariance(Accuracy_train_Main,Accuracy_Main,C_Main)\n",
    "plt.savefig('Figures/LogReg/Doc2VecDataSet/BiasVarianceOneHotMainCoarseTunedC.png')"
   ]
  },
  {
   "cell_type": "code",
   "execution_count": 14,
   "metadata": {},
   "outputs": [
    {
     "name": "stderr",
     "output_type": "stream",
     "text": [
      "/Users/glinn/anaconda3/lib/python3.6/site-packages/sklearn/linear_model/logistic.py:432: FutureWarning: Default solver will be changed to 'lbfgs' in 0.22. Specify a solver to silence this warning.\n",
      "  FutureWarning)\n",
      "/Users/glinn/anaconda3/lib/python3.6/site-packages/sklearn/utils/validation.py:724: DataConversionWarning: A column-vector y was passed when a 1d array was expected. Please change the shape of y to (n_samples, ), for example using ravel().\n",
      "  y = column_or_1d(y, warn=True)\n",
      "/Users/glinn/anaconda3/lib/python3.6/site-packages/sklearn/linear_model/logistic.py:1544: UserWarning: 'n_jobs' > 1 does not have any effect when 'solver' is set to 'liblinear'. Got 'n_jobs' = 8.\n",
      "  \" = {}.\".format(effective_n_jobs(self.n_jobs)))\n",
      "/Users/glinn/anaconda3/lib/python3.6/site-packages/sklearn/linear_model/logistic.py:432: FutureWarning: Default solver will be changed to 'lbfgs' in 0.22. Specify a solver to silence this warning.\n",
      "  FutureWarning)\n",
      "/Users/glinn/anaconda3/lib/python3.6/site-packages/sklearn/utils/validation.py:724: DataConversionWarning: A column-vector y was passed when a 1d array was expected. Please change the shape of y to (n_samples, ), for example using ravel().\n",
      "  y = column_or_1d(y, warn=True)\n",
      "/Users/glinn/anaconda3/lib/python3.6/site-packages/sklearn/linear_model/logistic.py:1544: UserWarning: 'n_jobs' > 1 does not have any effect when 'solver' is set to 'liblinear'. Got 'n_jobs' = 8.\n",
      "  \" = {}.\".format(effective_n_jobs(self.n_jobs)))\n",
      "/Users/glinn/anaconda3/lib/python3.6/site-packages/sklearn/linear_model/logistic.py:432: FutureWarning: Default solver will be changed to 'lbfgs' in 0.22. Specify a solver to silence this warning.\n",
      "  FutureWarning)\n",
      "/Users/glinn/anaconda3/lib/python3.6/site-packages/sklearn/utils/validation.py:724: DataConversionWarning: A column-vector y was passed when a 1d array was expected. Please change the shape of y to (n_samples, ), for example using ravel().\n",
      "  y = column_or_1d(y, warn=True)\n",
      "/Users/glinn/anaconda3/lib/python3.6/site-packages/sklearn/linear_model/logistic.py:1544: UserWarning: 'n_jobs' > 1 does not have any effect when 'solver' is set to 'liblinear'. Got 'n_jobs' = 8.\n",
      "  \" = {}.\".format(effective_n_jobs(self.n_jobs)))\n",
      "/Users/glinn/anaconda3/lib/python3.6/site-packages/sklearn/linear_model/logistic.py:432: FutureWarning: Default solver will be changed to 'lbfgs' in 0.22. Specify a solver to silence this warning.\n",
      "  FutureWarning)\n",
      "/Users/glinn/anaconda3/lib/python3.6/site-packages/sklearn/utils/validation.py:724: DataConversionWarning: A column-vector y was passed when a 1d array was expected. Please change the shape of y to (n_samples, ), for example using ravel().\n",
      "  y = column_or_1d(y, warn=True)\n",
      "/Users/glinn/anaconda3/lib/python3.6/site-packages/sklearn/linear_model/logistic.py:1544: UserWarning: 'n_jobs' > 1 does not have any effect when 'solver' is set to 'liblinear'. Got 'n_jobs' = 8.\n",
      "  \" = {}.\".format(effective_n_jobs(self.n_jobs)))\n",
      "/Users/glinn/anaconda3/lib/python3.6/site-packages/sklearn/linear_model/logistic.py:432: FutureWarning: Default solver will be changed to 'lbfgs' in 0.22. Specify a solver to silence this warning.\n",
      "  FutureWarning)\n",
      "/Users/glinn/anaconda3/lib/python3.6/site-packages/sklearn/utils/validation.py:724: DataConversionWarning: A column-vector y was passed when a 1d array was expected. Please change the shape of y to (n_samples, ), for example using ravel().\n",
      "  y = column_or_1d(y, warn=True)\n",
      "/Users/glinn/anaconda3/lib/python3.6/site-packages/sklearn/linear_model/logistic.py:1544: UserWarning: 'n_jobs' > 1 does not have any effect when 'solver' is set to 'liblinear'. Got 'n_jobs' = 8.\n",
      "  \" = {}.\".format(effective_n_jobs(self.n_jobs)))\n",
      "/Users/glinn/anaconda3/lib/python3.6/site-packages/sklearn/linear_model/logistic.py:432: FutureWarning: Default solver will be changed to 'lbfgs' in 0.22. Specify a solver to silence this warning.\n",
      "  FutureWarning)\n",
      "/Users/glinn/anaconda3/lib/python3.6/site-packages/sklearn/utils/validation.py:724: DataConversionWarning: A column-vector y was passed when a 1d array was expected. Please change the shape of y to (n_samples, ), for example using ravel().\n",
      "  y = column_or_1d(y, warn=True)\n",
      "/Users/glinn/anaconda3/lib/python3.6/site-packages/sklearn/linear_model/logistic.py:1544: UserWarning: 'n_jobs' > 1 does not have any effect when 'solver' is set to 'liblinear'. Got 'n_jobs' = 8.\n",
      "  \" = {}.\".format(effective_n_jobs(self.n_jobs)))\n",
      "/Users/glinn/anaconda3/lib/python3.6/site-packages/sklearn/linear_model/logistic.py:432: FutureWarning: Default solver will be changed to 'lbfgs' in 0.22. Specify a solver to silence this warning.\n",
      "  FutureWarning)\n",
      "/Users/glinn/anaconda3/lib/python3.6/site-packages/sklearn/utils/validation.py:724: DataConversionWarning: A column-vector y was passed when a 1d array was expected. Please change the shape of y to (n_samples, ), for example using ravel().\n",
      "  y = column_or_1d(y, warn=True)\n",
      "/Users/glinn/anaconda3/lib/python3.6/site-packages/sklearn/linear_model/logistic.py:1544: UserWarning: 'n_jobs' > 1 does not have any effect when 'solver' is set to 'liblinear'. Got 'n_jobs' = 8.\n",
      "  \" = {}.\".format(effective_n_jobs(self.n_jobs)))\n",
      "/Users/glinn/anaconda3/lib/python3.6/site-packages/sklearn/linear_model/logistic.py:432: FutureWarning: Default solver will be changed to 'lbfgs' in 0.22. Specify a solver to silence this warning.\n",
      "  FutureWarning)\n",
      "/Users/glinn/anaconda3/lib/python3.6/site-packages/sklearn/utils/validation.py:724: DataConversionWarning: A column-vector y was passed when a 1d array was expected. Please change the shape of y to (n_samples, ), for example using ravel().\n",
      "  y = column_or_1d(y, warn=True)\n",
      "/Users/glinn/anaconda3/lib/python3.6/site-packages/sklearn/linear_model/logistic.py:1544: UserWarning: 'n_jobs' > 1 does not have any effect when 'solver' is set to 'liblinear'. Got 'n_jobs' = 8.\n",
      "  \" = {}.\".format(effective_n_jobs(self.n_jobs)))\n",
      "/Users/glinn/anaconda3/lib/python3.6/site-packages/sklearn/linear_model/logistic.py:432: FutureWarning: Default solver will be changed to 'lbfgs' in 0.22. Specify a solver to silence this warning.\n",
      "  FutureWarning)\n",
      "/Users/glinn/anaconda3/lib/python3.6/site-packages/sklearn/utils/validation.py:724: DataConversionWarning: A column-vector y was passed when a 1d array was expected. Please change the shape of y to (n_samples, ), for example using ravel().\n",
      "  y = column_or_1d(y, warn=True)\n",
      "/Users/glinn/anaconda3/lib/python3.6/site-packages/sklearn/linear_model/logistic.py:1544: UserWarning: 'n_jobs' > 1 does not have any effect when 'solver' is set to 'liblinear'. Got 'n_jobs' = 8.\n",
      "  \" = {}.\".format(effective_n_jobs(self.n_jobs)))\n",
      "/Users/glinn/anaconda3/lib/python3.6/site-packages/sklearn/linear_model/logistic.py:432: FutureWarning: Default solver will be changed to 'lbfgs' in 0.22. Specify a solver to silence this warning.\n",
      "  FutureWarning)\n",
      "/Users/glinn/anaconda3/lib/python3.6/site-packages/sklearn/utils/validation.py:724: DataConversionWarning: A column-vector y was passed when a 1d array was expected. Please change the shape of y to (n_samples, ), for example using ravel().\n",
      "  y = column_or_1d(y, warn=True)\n",
      "/Users/glinn/anaconda3/lib/python3.6/site-packages/sklearn/linear_model/logistic.py:1544: UserWarning: 'n_jobs' > 1 does not have any effect when 'solver' is set to 'liblinear'. Got 'n_jobs' = 8.\n",
      "  \" = {}.\".format(effective_n_jobs(self.n_jobs)))\n"
     ]
    },
    {
     "name": "stdout",
     "output_type": "stream",
     "text": [
      "The best validation accuracy is 0.6441998255586634.\n",
      "The best training accuracy is 0.648242090607947.\n",
      "The best value for C is 2.0\n",
      "And, the best model coefficients are [[-4.54824226e-01  4.35830659e-04 -2.25589294e-01 -1.56376158e+01\n",
      "  -7.42164526e-03  6.89486681e-03  0.00000000e+00 -9.90029962e-01\n",
      "  -2.24657378e+00 -7.87722931e-01 -3.45085594e-01 -2.12715620e+00\n",
      "  -1.12707482e+00  3.24663109e-01  1.79219859e+00  1.96902694e-01\n",
      "  -7.09343679e-01 -6.38343129e-01  9.26828972e-01 -1.79374983e+00\n",
      "  -2.17738267e-01 -1.72246950e+00 -6.54709127e-01 -2.98370890e-02\n",
      "  -1.69043920e+00  1.07794640e+00 -3.01387744e-01  2.57591672e-01\n",
      "  -1.19188510e+00  5.49974619e-01 -2.83096741e-01 -1.03441287e+00\n",
      "  -2.69087812e-01 -8.86619311e-01 -2.38128769e-01 -1.16551275e+00\n",
      "   6.15185563e-02 -7.64645341e-01 -6.82581761e-01 -8.87289333e-01\n",
      "   4.82621390e-01]].\n"
     ]
    }
   ],
   "source": [
    "C_Main_fine=np.linspace(2.0,90.0,10)\n",
    "Accuracy_Main_fine,Accuracy_train_Main_fine,Coef_Main_fine = TuneParameters(pipeline_LogReg,C_Main_fine,X_train_OneHot_Main,Y_train,X_valid_OneHot_Main,Y_valid)\n",
    "ReportBest(Accuracy_train_Main_fine,Accuracy_Main_fine,C_Main_fine,Coef_Main_fine)"
   ]
  },
  {
   "cell_type": "code",
   "execution_count": 15,
   "metadata": {
    "scrolled": true
   },
   "outputs": [
    {
     "data": {
      "image/png": "[encoded data removed]",
      "text/plain": [
       "<Figure size 432x288 with 1 Axes>"
      ]
     },
     "metadata": {
      "needs_background": "light"
     },
     "output_type": "display_data"
    }
   ],
   "source": [
    "PlotBiasVariance(Accuracy_train_Main_fine,Accuracy_Main_fine,C_Main_fine)\n",
    "plt.savefig('Figures/LogReg/Doc2VecDataSet/BiasVarianceOneHotMainFineTunedC.png')"
   ]
  },
  {
   "cell_type": "markdown",
   "metadata": {},
   "source": [
    "Okay, so in the end, our best result after tuning the complexity of our model is:"
   ]
  },
  {
   "cell_type": "code",
   "execution_count": 16,
   "metadata": {},
   "outputs": [
    {
     "name": "stdout",
     "output_type": "stream",
     "text": [
      "The best validation accuracy is 0.6441998255586634.\n",
      "The best training accuracy is 0.648242090607947.\n",
      "The best value for C is 2.0\n",
      "And, the best model coefficients are [[-4.54824226e-01  4.35830659e-04 -2.25589294e-01 -1.56376158e+01\n",
      "  -7.42164526e-03  6.89486681e-03  0.00000000e+00 -9.90029962e-01\n",
      "  -2.24657378e+00 -7.87722931e-01 -3.45085594e-01 -2.12715620e+00\n",
      "  -1.12707482e+00  3.24663109e-01  1.79219859e+00  1.96902694e-01\n",
      "  -7.09343679e-01 -6.38343129e-01  9.26828972e-01 -1.79374983e+00\n",
      "  -2.17738267e-01 -1.72246950e+00 -6.54709127e-01 -2.98370890e-02\n",
      "  -1.69043920e+00  1.07794640e+00 -3.01387744e-01  2.57591672e-01\n",
      "  -1.19188510e+00  5.49974619e-01 -2.83096741e-01 -1.03441287e+00\n",
      "  -2.69087812e-01 -8.86619311e-01 -2.38128769e-01 -1.16551275e+00\n",
      "   6.15185563e-02 -7.64645341e-01 -6.82581761e-01 -8.87289333e-01\n",
      "   4.82621390e-01]].\n"
     ]
    }
   ],
   "source": [
    "ReportBest(Accuracy_train_Main_fine,Accuracy_Main_fine,C_Main_fine,Coef_Main_fine)"
   ]
  },
  {
   "cell_type": "markdown",
   "metadata": {},
   "source": [
    "Second, we look at what happens if we just one hot the sub-categories."
   ]
  },
  {
   "cell_type": "code",
   "execution_count": 17,
   "metadata": {},
   "outputs": [
    {
     "name": "stderr",
     "output_type": "stream",
     "text": [
      "/Users/glinn/anaconda3/lib/python3.6/site-packages/sklearn/linear_model/logistic.py:432: FutureWarning: Default solver will be changed to 'lbfgs' in 0.22. Specify a solver to silence this warning.\n",
      "  FutureWarning)\n",
      "/Users/glinn/anaconda3/lib/python3.6/site-packages/sklearn/utils/validation.py:724: DataConversionWarning: A column-vector y was passed when a 1d array was expected. Please change the shape of y to (n_samples, ), for example using ravel().\n",
      "  y = column_or_1d(y, warn=True)\n",
      "/Users/glinn/anaconda3/lib/python3.6/site-packages/sklearn/linear_model/logistic.py:1544: UserWarning: 'n_jobs' > 1 does not have any effect when 'solver' is set to 'liblinear'. Got 'n_jobs' = 8.\n",
      "  \" = {}.\".format(effective_n_jobs(self.n_jobs)))\n",
      "/Users/glinn/anaconda3/lib/python3.6/site-packages/sklearn/linear_model/logistic.py:432: FutureWarning: Default solver will be changed to 'lbfgs' in 0.22. Specify a solver to silence this warning.\n",
      "  FutureWarning)\n",
      "/Users/glinn/anaconda3/lib/python3.6/site-packages/sklearn/utils/validation.py:724: DataConversionWarning: A column-vector y was passed when a 1d array was expected. Please change the shape of y to (n_samples, ), for example using ravel().\n",
      "  y = column_or_1d(y, warn=True)\n",
      "/Users/glinn/anaconda3/lib/python3.6/site-packages/sklearn/linear_model/logistic.py:1544: UserWarning: 'n_jobs' > 1 does not have any effect when 'solver' is set to 'liblinear'. Got 'n_jobs' = 8.\n",
      "  \" = {}.\".format(effective_n_jobs(self.n_jobs)))\n",
      "/Users/glinn/anaconda3/lib/python3.6/site-packages/sklearn/linear_model/logistic.py:432: FutureWarning: Default solver will be changed to 'lbfgs' in 0.22. Specify a solver to silence this warning.\n",
      "  FutureWarning)\n",
      "/Users/glinn/anaconda3/lib/python3.6/site-packages/sklearn/utils/validation.py:724: DataConversionWarning: A column-vector y was passed when a 1d array was expected. Please change the shape of y to (n_samples, ), for example using ravel().\n",
      "  y = column_or_1d(y, warn=True)\n",
      "/Users/glinn/anaconda3/lib/python3.6/site-packages/sklearn/linear_model/logistic.py:1544: UserWarning: 'n_jobs' > 1 does not have any effect when 'solver' is set to 'liblinear'. Got 'n_jobs' = 8.\n",
      "  \" = {}.\".format(effective_n_jobs(self.n_jobs)))\n",
      "/Users/glinn/anaconda3/lib/python3.6/site-packages/sklearn/linear_model/logistic.py:432: FutureWarning: Default solver will be changed to 'lbfgs' in 0.22. Specify a solver to silence this warning.\n",
      "  FutureWarning)\n",
      "/Users/glinn/anaconda3/lib/python3.6/site-packages/sklearn/utils/validation.py:724: DataConversionWarning: A column-vector y was passed when a 1d array was expected. Please change the shape of y to (n_samples, ), for example using ravel().\n",
      "  y = column_or_1d(y, warn=True)\n",
      "/Users/glinn/anaconda3/lib/python3.6/site-packages/sklearn/linear_model/logistic.py:1544: UserWarning: 'n_jobs' > 1 does not have any effect when 'solver' is set to 'liblinear'. Got 'n_jobs' = 8.\n",
      "  \" = {}.\".format(effective_n_jobs(self.n_jobs)))\n",
      "/Users/glinn/anaconda3/lib/python3.6/site-packages/sklearn/linear_model/logistic.py:432: FutureWarning: Default solver will be changed to 'lbfgs' in 0.22. Specify a solver to silence this warning.\n",
      "  FutureWarning)\n",
      "/Users/glinn/anaconda3/lib/python3.6/site-packages/sklearn/utils/validation.py:724: DataConversionWarning: A column-vector y was passed when a 1d array was expected. Please change the shape of y to (n_samples, ), for example using ravel().\n",
      "  y = column_or_1d(y, warn=True)\n",
      "/Users/glinn/anaconda3/lib/python3.6/site-packages/sklearn/linear_model/logistic.py:1544: UserWarning: 'n_jobs' > 1 does not have any effect when 'solver' is set to 'liblinear'. Got 'n_jobs' = 8.\n",
      "  \" = {}.\".format(effective_n_jobs(self.n_jobs)))\n",
      "/Users/glinn/anaconda3/lib/python3.6/site-packages/sklearn/linear_model/logistic.py:432: FutureWarning: Default solver will be changed to 'lbfgs' in 0.22. Specify a solver to silence this warning.\n",
      "  FutureWarning)\n",
      "/Users/glinn/anaconda3/lib/python3.6/site-packages/sklearn/utils/validation.py:724: DataConversionWarning: A column-vector y was passed when a 1d array was expected. Please change the shape of y to (n_samples, ), for example using ravel().\n",
      "  y = column_or_1d(y, warn=True)\n",
      "/Users/glinn/anaconda3/lib/python3.6/site-packages/sklearn/linear_model/logistic.py:1544: UserWarning: 'n_jobs' > 1 does not have any effect when 'solver' is set to 'liblinear'. Got 'n_jobs' = 8.\n",
      "  \" = {}.\".format(effective_n_jobs(self.n_jobs)))\n"
     ]
    },
    {
     "name": "stdout",
     "output_type": "stream",
     "text": [
      "The validation accuracy is [0.65481669 0.6633583  0.66365906 0.66359891 0.66368913 0.66368913].\n",
      "The training accuracy is [0.66062427 0.67033398 0.67035398 0.67036598 0.67037399 0.67036598].\n",
      "The best value for C is 1000.0\n",
      "And, the best model coefficients are [[-5.91084256e-01  1.37549297e-02 -2.25782923e-01 -1.53128432e+01\n",
      "  -7.53216823e-03  6.05081342e-03 -3.09800323e-01 -8.50067149e-01\n",
      "  -1.82809555e+00 -5.55779236e-01 -2.39418202e-01 -1.83352565e+00\n",
      "  -8.92613202e-01  6.22610050e-01  1.25589901e+00  9.63740937e-02\n",
      "  -1.04506991e+00 -6.15429964e-01  1.06931672e+00 -1.64946579e+00\n",
      "  -1.27643918e-01 -1.70212320e+00 -4.28337124e-01  2.08666349e-01\n",
      "  -1.59316998e+00  1.11230317e+00 -1.31111724e-02 -1.07366873e+00\n",
      "  -4.62981685e-01 -1.15598831e+00 -1.17078003e+00 -5.79567190e-01\n",
      "   7.49030038e-01 -1.20621388e+00 -2.24421434e+00 -6.55229537e-01\n",
      "  -9.19017452e-02  2.26228635e-01 -7.61231948e-01 -1.30898505e+00\n",
      "  -2.88377310e-02 -4.38762364e-01  4.14508524e-01 -1.73130365e+00\n",
      "  -5.60806090e-02 -5.30326621e-01 -1.15997422e+00  1.64937582e+00\n",
      "  -2.50306807e-01  7.34745748e-01 -1.37279243e-01  5.79546375e-01\n",
      "   2.77800346e-01 -1.08892781e+00 -4.09016283e-01 -8.73147465e-01\n",
      "   6.57065593e-01 -1.47205445e+00 -9.73284298e-01 -1.01715278e+00\n",
      "  -1.57257322e+00  1.35021247e-01  9.06565786e-01 -2.17161313e-01\n",
      "  -7.73620955e-01 -1.40031944e-01 -1.76630476e-01 -8.01127596e-01\n",
      "  -5.89297022e-01 -1.63290842e+00 -1.23923981e+00 -3.10998688e-01\n",
      "  -4.65659262e-01 -1.90179261e-01 -1.10677668e+00 -3.18923124e-01\n",
      "  -1.44025721e+00 -8.19878231e-01 -8.74335425e-01  2.19784414e-01\n",
      "  -1.08175991e+00 -3.88562558e-01 -4.52429755e-01 -8.91778517e-01\n",
      "  -6.30485178e-01 -1.66096674e+00 -3.47517784e-01 -3.07966884e-01\n",
      "  -7.30567098e-01 -6.27766505e-01 -7.51767520e-01 -3.32343311e-01\n",
      "   4.53228981e-01 -1.33611092e-02 -1.59853146e+00 -4.96534102e-01\n",
      "   2.37740296e-01  4.32124927e-01  7.62089561e-01  2.15287814e-01\n",
      "  -1.03515781e+00  5.66715067e-01 -1.01852255e+00 -7.76525412e-01\n",
      "   4.71781346e-02  1.91565500e-01 -7.40986436e-01  5.61174856e-01\n",
      "  -5.52463142e-02  9.21858150e-01 -1.10247170e+00 -2.80976446e-01\n",
      "  -3.93442448e-01 -3.84597979e-01 -2.04709505e+00 -3.73491587e-01\n",
      "   7.02509248e-02 -4.86291122e-01  1.66803350e-01 -9.51055181e-03\n",
      "  -1.55278523e+00 -8.48524184e-01 -4.01879189e-01 -1.18900339e+00\n",
      "   2.04727532e-02  5.72397224e-01 -2.23672816e-01 -6.62718717e-01\n",
      "  -1.47498955e+00 -2.65773995e-01 -6.44101431e-01 -1.56212856e+00\n",
      "  -1.06639885e-01  3.54475688e-01 -5.51890713e-01  8.50484843e-02\n",
      "  -7.12479838e-02 -1.05418889e+00 -1.00154933e+00 -5.98668898e-02\n",
      "   3.15722996e-01 -7.20478068e-01  4.62527211e-02 -2.10917425e-01\n",
      "  -7.29403988e-01 -1.13562449e+00 -1.37714215e-01 -1.38829802e+00\n",
      "   1.36891570e+00 -1.14832441e+00  1.61381431e-01  2.39233938e-01\n",
      "  -4.55671730e-01 -1.21582676e-01 -2.47256758e-01  3.47117630e-01\n",
      "  -6.12745142e-01 -1.52906187e+00  4.39044568e-01 -1.74218801e-02\n",
      "  -1.23382866e-01 -6.64457298e-01  7.32832831e-01  3.60409671e-01\n",
      "  -8.87088322e-01 -1.32442674e+00 -7.08168532e-01  5.82887271e-01\n",
      "  -6.39546601e-01 -1.00606528e+00  6.38404844e-01 -5.21199260e-01\n",
      "  -1.74255682e+00 -7.14548767e-01 -8.66390034e-01 -1.29418868e-03\n",
      "  -7.55618599e-01 -2.02944112e+00  4.59676076e-01 -6.14027516e-01\n",
      "  -1.05778308e+00 -6.49559630e-01 -6.45755647e-02 -1.25050798e+00\n",
      "  -1.74768182e-01]].\n"
     ]
    }
   ],
   "source": [
    "C_Sub=[0.01,1.0,10.0,100.0,1000.0,5000.0]\n",
    "Accuracy_Sub,Accuracy_train_Sub,Coef_Sub = TuneParameters(pipeline_LogReg,C_Sub,X_train_OneHot_Sub,Y_train,X_valid_OneHot_Sub,Y_valid)\n",
    "ReportFull(Accuracy_train_Sub,Accuracy_Sub,C_Sub,Coef_Sub)"
   ]
  },
  {
   "cell_type": "code",
   "execution_count": 18,
   "metadata": {},
   "outputs": [
    {
     "data": {
      "image/png": "[encoded data removed]",
      "text/plain": [
       "<Figure size 432x288 with 1 Axes>"
      ]
     },
     "metadata": {
      "needs_background": "light"
     },
     "output_type": "display_data"
    }
   ],
   "source": [
    "PlotBiasVariance(Accuracy_train_Sub,Accuracy_Sub,C_Sub)\n",
    "plt.savefig('Figures/LogReg/Doc2VecDataSet/BiasVarianceOneHotSubCoarseTunedC.png')"
   ]
  },
  {
   "cell_type": "code",
   "execution_count": 19,
   "metadata": {},
   "outputs": [
    {
     "name": "stderr",
     "output_type": "stream",
     "text": [
      "/Users/glinn/anaconda3/lib/python3.6/site-packages/sklearn/linear_model/logistic.py:432: FutureWarning: Default solver will be changed to 'lbfgs' in 0.22. Specify a solver to silence this warning.\n",
      "  FutureWarning)\n",
      "/Users/glinn/anaconda3/lib/python3.6/site-packages/sklearn/utils/validation.py:724: DataConversionWarning: A column-vector y was passed when a 1d array was expected. Please change the shape of y to (n_samples, ), for example using ravel().\n",
      "  y = column_or_1d(y, warn=True)\n",
      "/Users/glinn/anaconda3/lib/python3.6/site-packages/sklearn/linear_model/logistic.py:1544: UserWarning: 'n_jobs' > 1 does not have any effect when 'solver' is set to 'liblinear'. Got 'n_jobs' = 8.\n",
      "  \" = {}.\".format(effective_n_jobs(self.n_jobs)))\n",
      "/Users/glinn/anaconda3/lib/python3.6/site-packages/sklearn/linear_model/logistic.py:432: FutureWarning: Default solver will be changed to 'lbfgs' in 0.22. Specify a solver to silence this warning.\n",
      "  FutureWarning)\n",
      "/Users/glinn/anaconda3/lib/python3.6/site-packages/sklearn/utils/validation.py:724: DataConversionWarning: A column-vector y was passed when a 1d array was expected. Please change the shape of y to (n_samples, ), for example using ravel().\n",
      "  y = column_or_1d(y, warn=True)\n",
      "/Users/glinn/anaconda3/lib/python3.6/site-packages/sklearn/linear_model/logistic.py:1544: UserWarning: 'n_jobs' > 1 does not have any effect when 'solver' is set to 'liblinear'. Got 'n_jobs' = 8.\n",
      "  \" = {}.\".format(effective_n_jobs(self.n_jobs)))\n",
      "/Users/glinn/anaconda3/lib/python3.6/site-packages/sklearn/linear_model/logistic.py:432: FutureWarning: Default solver will be changed to 'lbfgs' in 0.22. Specify a solver to silence this warning.\n",
      "  FutureWarning)\n",
      "/Users/glinn/anaconda3/lib/python3.6/site-packages/sklearn/utils/validation.py:724: DataConversionWarning: A column-vector y was passed when a 1d array was expected. Please change the shape of y to (n_samples, ), for example using ravel().\n",
      "  y = column_or_1d(y, warn=True)\n",
      "/Users/glinn/anaconda3/lib/python3.6/site-packages/sklearn/linear_model/logistic.py:1544: UserWarning: 'n_jobs' > 1 does not have any effect when 'solver' is set to 'liblinear'. Got 'n_jobs' = 8.\n",
      "  \" = {}.\".format(effective_n_jobs(self.n_jobs)))\n",
      "/Users/glinn/anaconda3/lib/python3.6/site-packages/sklearn/linear_model/logistic.py:432: FutureWarning: Default solver will be changed to 'lbfgs' in 0.22. Specify a solver to silence this warning.\n",
      "  FutureWarning)\n",
      "/Users/glinn/anaconda3/lib/python3.6/site-packages/sklearn/utils/validation.py:724: DataConversionWarning: A column-vector y was passed when a 1d array was expected. Please change the shape of y to (n_samples, ), for example using ravel().\n",
      "  y = column_or_1d(y, warn=True)\n",
      "/Users/glinn/anaconda3/lib/python3.6/site-packages/sklearn/linear_model/logistic.py:1544: UserWarning: 'n_jobs' > 1 does not have any effect when 'solver' is set to 'liblinear'. Got 'n_jobs' = 8.\n",
      "  \" = {}.\".format(effective_n_jobs(self.n_jobs)))\n",
      "/Users/glinn/anaconda3/lib/python3.6/site-packages/sklearn/linear_model/logistic.py:432: FutureWarning: Default solver will be changed to 'lbfgs' in 0.22. Specify a solver to silence this warning.\n",
      "  FutureWarning)\n",
      "/Users/glinn/anaconda3/lib/python3.6/site-packages/sklearn/utils/validation.py:724: DataConversionWarning: A column-vector y was passed when a 1d array was expected. Please change the shape of y to (n_samples, ), for example using ravel().\n",
      "  y = column_or_1d(y, warn=True)\n",
      "/Users/glinn/anaconda3/lib/python3.6/site-packages/sklearn/linear_model/logistic.py:1544: UserWarning: 'n_jobs' > 1 does not have any effect when 'solver' is set to 'liblinear'. Got 'n_jobs' = 8.\n",
      "  \" = {}.\".format(effective_n_jobs(self.n_jobs)))\n",
      "/Users/glinn/anaconda3/lib/python3.6/site-packages/sklearn/linear_model/logistic.py:432: FutureWarning: Default solver will be changed to 'lbfgs' in 0.22. Specify a solver to silence this warning.\n",
      "  FutureWarning)\n",
      "/Users/glinn/anaconda3/lib/python3.6/site-packages/sklearn/utils/validation.py:724: DataConversionWarning: A column-vector y was passed when a 1d array was expected. Please change the shape of y to (n_samples, ), for example using ravel().\n",
      "  y = column_or_1d(y, warn=True)\n",
      "/Users/glinn/anaconda3/lib/python3.6/site-packages/sklearn/linear_model/logistic.py:1544: UserWarning: 'n_jobs' > 1 does not have any effect when 'solver' is set to 'liblinear'. Got 'n_jobs' = 8.\n",
      "  \" = {}.\".format(effective_n_jobs(self.n_jobs)))\n",
      "/Users/glinn/anaconda3/lib/python3.6/site-packages/sklearn/linear_model/logistic.py:432: FutureWarning: Default solver will be changed to 'lbfgs' in 0.22. Specify a solver to silence this warning.\n",
      "  FutureWarning)\n",
      "/Users/glinn/anaconda3/lib/python3.6/site-packages/sklearn/utils/validation.py:724: DataConversionWarning: A column-vector y was passed when a 1d array was expected. Please change the shape of y to (n_samples, ), for example using ravel().\n",
      "  y = column_or_1d(y, warn=True)\n",
      "/Users/glinn/anaconda3/lib/python3.6/site-packages/sklearn/linear_model/logistic.py:1544: UserWarning: 'n_jobs' > 1 does not have any effect when 'solver' is set to 'liblinear'. Got 'n_jobs' = 8.\n",
      "  \" = {}.\".format(effective_n_jobs(self.n_jobs)))\n",
      "/Users/glinn/anaconda3/lib/python3.6/site-packages/sklearn/linear_model/logistic.py:432: FutureWarning: Default solver will be changed to 'lbfgs' in 0.22. Specify a solver to silence this warning.\n",
      "  FutureWarning)\n",
      "/Users/glinn/anaconda3/lib/python3.6/site-packages/sklearn/utils/validation.py:724: DataConversionWarning: A column-vector y was passed when a 1d array was expected. Please change the shape of y to (n_samples, ), for example using ravel().\n",
      "  y = column_or_1d(y, warn=True)\n",
      "/Users/glinn/anaconda3/lib/python3.6/site-packages/sklearn/linear_model/logistic.py:1544: UserWarning: 'n_jobs' > 1 does not have any effect when 'solver' is set to 'liblinear'. Got 'n_jobs' = 8.\n",
      "  \" = {}.\".format(effective_n_jobs(self.n_jobs)))\n",
      "/Users/glinn/anaconda3/lib/python3.6/site-packages/sklearn/linear_model/logistic.py:432: FutureWarning: Default solver will be changed to 'lbfgs' in 0.22. Specify a solver to silence this warning.\n",
      "  FutureWarning)\n",
      "/Users/glinn/anaconda3/lib/python3.6/site-packages/sklearn/utils/validation.py:724: DataConversionWarning: A column-vector y was passed when a 1d array was expected. Please change the shape of y to (n_samples, ), for example using ravel().\n",
      "  y = column_or_1d(y, warn=True)\n",
      "/Users/glinn/anaconda3/lib/python3.6/site-packages/sklearn/linear_model/logistic.py:1544: UserWarning: 'n_jobs' > 1 does not have any effect when 'solver' is set to 'liblinear'. Got 'n_jobs' = 8.\n",
      "  \" = {}.\".format(effective_n_jobs(self.n_jobs)))\n",
      "/Users/glinn/anaconda3/lib/python3.6/site-packages/sklearn/linear_model/logistic.py:432: FutureWarning: Default solver will be changed to 'lbfgs' in 0.22. Specify a solver to silence this warning.\n",
      "  FutureWarning)\n",
      "/Users/glinn/anaconda3/lib/python3.6/site-packages/sklearn/utils/validation.py:724: DataConversionWarning: A column-vector y was passed when a 1d array was expected. Please change the shape of y to (n_samples, ), for example using ravel().\n",
      "  y = column_or_1d(y, warn=True)\n",
      "/Users/glinn/anaconda3/lib/python3.6/site-packages/sklearn/linear_model/logistic.py:1544: UserWarning: 'n_jobs' > 1 does not have any effect when 'solver' is set to 'liblinear'. Got 'n_jobs' = 8.\n",
      "  \" = {}.\".format(effective_n_jobs(self.n_jobs)))\n"
     ]
    },
    {
     "name": "stdout",
     "output_type": "stream",
     "text": [
      "The best validation accuracy is 0.6638094378778309.\n",
      "The best training accuracy is 0.6703779865256285.\n",
      "The best value for C is 11.777777777777779\n",
      "And, the best model coefficients are [[-5.19734439e-01  1.41279758e-02 -2.25752593e-01 -1.53053125e+01\n",
      "  -7.53906702e-03  6.04159863e-03 -3.11095394e-01 -8.46620899e-01\n",
      "  -1.82660697e+00 -5.54982868e-01 -2.39913587e-01 -1.83219840e+00\n",
      "  -8.91329135e-01  6.19412345e-01  1.25231261e+00  9.38434864e-02\n",
      "  -1.04308209e+00 -6.13912858e-01  1.06696911e+00 -1.64807676e+00\n",
      "  -1.27079513e-01 -1.69971403e+00 -4.26089999e-01  2.06403024e-01\n",
      "  -1.58850350e+00  1.11135246e+00 -8.81867268e-02 -1.14838845e+00\n",
      "  -5.35498170e-01 -1.22797409e+00 -1.24327445e+00 -6.52549908e-01\n",
      "   6.74953810e-01 -1.27885871e+00 -2.31988236e+00 -7.26742027e-01\n",
      "  -1.62815831e-01  1.50574543e-01 -8.34070086e-01 -1.37870772e+00\n",
      "  -1.01635259e-01 -5.12513390e-01  3.37188231e-01 -1.80066250e+00\n",
      "  -1.25376070e-01 -6.05721018e-01 -1.23121475e+00  1.54917791e+00\n",
      "  -3.20821308e-01  6.59749475e-01 -2.10457304e-01  5.08107815e-01\n",
      "   2.06415599e-01 -1.16005124e+00 -4.79447209e-01 -9.45517009e-01\n",
      "   5.82130591e-01 -1.54121127e+00 -1.04480755e+00 -1.08521186e+00\n",
      "  -1.64345851e+00  5.85321804e-02  8.34240223e-01 -2.89429331e-01\n",
      "  -8.44105071e-01 -2.13245604e-01 -2.49588356e-01 -8.74470768e-01\n",
      "  -6.63803408e-01 -1.69622369e+00 -1.31145073e+00 -3.84864770e-01\n",
      "  -5.39023512e-01 -2.64519783e-01 -1.17749362e+00 -3.90339939e-01\n",
      "  -1.51186612e+00 -8.92974069e-01 -9.46975635e-01  1.44054751e-01\n",
      "  -1.15709093e+00 -4.61750456e-01 -5.26728022e-01 -9.65769232e-01\n",
      "  -7.04036717e-01 -1.73398731e+00 -4.19680371e-01 -3.83684093e-01\n",
      "  -8.04365648e-01 -7.00105413e-01 -8.19361814e-01 -4.04476809e-01\n",
      "   3.81709695e-01 -8.92096435e-02 -1.67303243e+00 -5.69203652e-01\n",
      "   1.66670250e-01  3.54170496e-01  6.87184569e-01  1.43249927e-01\n",
      "  -1.10575483e+00  4.91603234e-01 -1.09066411e+00 -8.50522071e-01\n",
      "  -2.60518764e-02  1.16765708e-01 -8.11586238e-01  4.78376047e-01\n",
      "  -1.28831457e-01  8.21140152e-01 -1.17567770e+00 -3.54450345e-01\n",
      "  -4.67435978e-01 -4.55367763e-01 -2.12026586e+00 -4.43725987e-01\n",
      "  -4.50816376e-03 -5.58759168e-01  9.00543306e-02 -8.26478814e-02\n",
      "  -1.62636694e+00 -9.23902372e-01 -4.72707139e-01 -1.26337616e+00\n",
      "  -5.02250968e-02  4.99831968e-01 -2.98732446e-01 -7.30999917e-01\n",
      "  -1.54497742e+00 -3.40498442e-01 -7.19058427e-01 -1.63599972e+00\n",
      "  -1.80417792e-01  2.77955527e-01 -6.26924068e-01  0.00000000e+00\n",
      "  -1.38130466e-01 -1.12754685e+00 -1.07017946e+00 -1.32264259e-01\n",
      "   2.44575439e-01 -7.95846082e-01 -2.68269931e-02 -2.82502378e-01\n",
      "  -7.93900078e-01 -1.20891382e+00 -2.12652254e-01 -1.46006133e+00\n",
      "   1.28642923e+00 -1.22173753e+00  8.44419821e-02  1.64377522e-01\n",
      "  -5.25530660e-01 -1.93973758e-01 -3.17893512e-01  2.73926527e-01\n",
      "  -6.86019886e-01 -1.60464022e+00  3.62080428e-01 -9.15149428e-02\n",
      "  -1.96707898e-01 -7.33372088e-01  6.58819001e-01  2.39393342e-01\n",
      "  -9.62915670e-01 -1.39670119e+00 -7.77016607e-01  5.06641838e-01\n",
      "  -7.11866959e-01 -1.07721050e+00  5.61193223e-01 -5.93916074e-01\n",
      "  -1.81455426e+00 -7.82353045e-01 -9.40354634e-01 -7.67223228e-02\n",
      "  -8.20248492e-01 -2.10465000e+00  3.87563095e-01 -6.87132760e-01\n",
      "  -1.12886701e+00 -7.18252853e-01 -1.39151371e-01 -1.32505844e+00\n",
      "  -2.48914968e-01]].\n"
     ]
    }
   ],
   "source": [
    "C_Sub_fine=np.linspace(2.0,90.0,10)\n",
    "Accuracy_Sub_fine,Accuracy_train_Sub_fine,Coef_Sub_fine = TuneParameters(pipeline_LogReg,C_Sub_fine,X_train_OneHot_Sub,Y_train,X_valid_OneHot_Sub,Y_valid)\n",
    "ReportBest(Accuracy_train_Sub_fine,Accuracy_Sub_fine,C_Sub_fine,Coef_Sub_fine)"
   ]
  },
  {
   "cell_type": "code",
   "execution_count": 20,
   "metadata": {},
   "outputs": [
    {
     "data": {
      "image/png": "[encoded data removed]",
      "text/plain": [
       "<Figure size 432x288 with 1 Axes>"
      ]
     },
     "metadata": {
      "needs_background": "light"
     },
     "output_type": "display_data"
    }
   ],
   "source": [
    "PlotBiasVariance(Accuracy_train_Sub_fine,Accuracy_Sub_fine,C_Sub_fine)\n",
    "plt.savefig('Figures/LogReg/Doc2VecDataSet/BiasVarianceOneHotSubFineTunedC.png')"
   ]
  },
  {
   "cell_type": "markdown",
   "metadata": {},
   "source": [
    "Okay, so in the end, our best result after tuning the complexity of our model is:"
   ]
  },
  {
   "cell_type": "code",
   "execution_count": 21,
   "metadata": {},
   "outputs": [
    {
     "name": "stdout",
     "output_type": "stream",
     "text": [
      "The best validation accuracy is 0.6638094378778309.\n",
      "The best training accuracy is 0.6703779865256285.\n",
      "The best value for C is 11.777777777777779\n",
      "And, the best model coefficients are [[-5.19734439e-01  1.41279758e-02 -2.25752593e-01 -1.53053125e+01\n",
      "  -7.53906702e-03  6.04159863e-03 -3.11095394e-01 -8.46620899e-01\n",
      "  -1.82660697e+00 -5.54982868e-01 -2.39913587e-01 -1.83219840e+00\n",
      "  -8.91329135e-01  6.19412345e-01  1.25231261e+00  9.38434864e-02\n",
      "  -1.04308209e+00 -6.13912858e-01  1.06696911e+00 -1.64807676e+00\n",
      "  -1.27079513e-01 -1.69971403e+00 -4.26089999e-01  2.06403024e-01\n",
      "  -1.58850350e+00  1.11135246e+00 -8.81867268e-02 -1.14838845e+00\n",
      "  -5.35498170e-01 -1.22797409e+00 -1.24327445e+00 -6.52549908e-01\n",
      "   6.74953810e-01 -1.27885871e+00 -2.31988236e+00 -7.26742027e-01\n",
      "  -1.62815831e-01  1.50574543e-01 -8.34070086e-01 -1.37870772e+00\n",
      "  -1.01635259e-01 -5.12513390e-01  3.37188231e-01 -1.80066250e+00\n",
      "  -1.25376070e-01 -6.05721018e-01 -1.23121475e+00  1.54917791e+00\n",
      "  -3.20821308e-01  6.59749475e-01 -2.10457304e-01  5.08107815e-01\n",
      "   2.06415599e-01 -1.16005124e+00 -4.79447209e-01 -9.45517009e-01\n",
      "   5.82130591e-01 -1.54121127e+00 -1.04480755e+00 -1.08521186e+00\n",
      "  -1.64345851e+00  5.85321804e-02  8.34240223e-01 -2.89429331e-01\n",
      "  -8.44105071e-01 -2.13245604e-01 -2.49588356e-01 -8.74470768e-01\n",
      "  -6.63803408e-01 -1.69622369e+00 -1.31145073e+00 -3.84864770e-01\n",
      "  -5.39023512e-01 -2.64519783e-01 -1.17749362e+00 -3.90339939e-01\n",
      "  -1.51186612e+00 -8.92974069e-01 -9.46975635e-01  1.44054751e-01\n",
      "  -1.15709093e+00 -4.61750456e-01 -5.26728022e-01 -9.65769232e-01\n",
      "  -7.04036717e-01 -1.73398731e+00 -4.19680371e-01 -3.83684093e-01\n",
      "  -8.04365648e-01 -7.00105413e-01 -8.19361814e-01 -4.04476809e-01\n",
      "   3.81709695e-01 -8.92096435e-02 -1.67303243e+00 -5.69203652e-01\n",
      "   1.66670250e-01  3.54170496e-01  6.87184569e-01  1.43249927e-01\n",
      "  -1.10575483e+00  4.91603234e-01 -1.09066411e+00 -8.50522071e-01\n",
      "  -2.60518764e-02  1.16765708e-01 -8.11586238e-01  4.78376047e-01\n",
      "  -1.28831457e-01  8.21140152e-01 -1.17567770e+00 -3.54450345e-01\n",
      "  -4.67435978e-01 -4.55367763e-01 -2.12026586e+00 -4.43725987e-01\n",
      "  -4.50816376e-03 -5.58759168e-01  9.00543306e-02 -8.26478814e-02\n",
      "  -1.62636694e+00 -9.23902372e-01 -4.72707139e-01 -1.26337616e+00\n",
      "  -5.02250968e-02  4.99831968e-01 -2.98732446e-01 -7.30999917e-01\n",
      "  -1.54497742e+00 -3.40498442e-01 -7.19058427e-01 -1.63599972e+00\n",
      "  -1.80417792e-01  2.77955527e-01 -6.26924068e-01  0.00000000e+00\n",
      "  -1.38130466e-01 -1.12754685e+00 -1.07017946e+00 -1.32264259e-01\n",
      "   2.44575439e-01 -7.95846082e-01 -2.68269931e-02 -2.82502378e-01\n",
      "  -7.93900078e-01 -1.20891382e+00 -2.12652254e-01 -1.46006133e+00\n",
      "   1.28642923e+00 -1.22173753e+00  8.44419821e-02  1.64377522e-01\n",
      "  -5.25530660e-01 -1.93973758e-01 -3.17893512e-01  2.73926527e-01\n",
      "  -6.86019886e-01 -1.60464022e+00  3.62080428e-01 -9.15149428e-02\n",
      "  -1.96707898e-01 -7.33372088e-01  6.58819001e-01  2.39393342e-01\n",
      "  -9.62915670e-01 -1.39670119e+00 -7.77016607e-01  5.06641838e-01\n",
      "  -7.11866959e-01 -1.07721050e+00  5.61193223e-01 -5.93916074e-01\n",
      "  -1.81455426e+00 -7.82353045e-01 -9.40354634e-01 -7.67223228e-02\n",
      "  -8.20248492e-01 -2.10465000e+00  3.87563095e-01 -6.87132760e-01\n",
      "  -1.12886701e+00 -7.18252853e-01 -1.39151371e-01 -1.32505844e+00\n",
      "  -2.48914968e-01]].\n"
     ]
    }
   ],
   "source": [
    "ReportBest(Accuracy_train_Sub_fine,Accuracy_Sub_fine,C_Sub_fine,Coef_Sub_fine)"
   ]
  },
  {
   "cell_type": "markdown",
   "metadata": {},
   "source": [
    "Now, let's try one hot encoding both: "
   ]
  },
  {
   "cell_type": "code",
   "execution_count": 22,
   "metadata": {
    "scrolled": false
   },
   "outputs": [
    {
     "name": "stderr",
     "output_type": "stream",
     "text": [
      "/Users/glinn/anaconda3/lib/python3.6/site-packages/sklearn/linear_model/logistic.py:432: FutureWarning: Default solver will be changed to 'lbfgs' in 0.22. Specify a solver to silence this warning.\n",
      "  FutureWarning)\n",
      "/Users/glinn/anaconda3/lib/python3.6/site-packages/sklearn/utils/validation.py:724: DataConversionWarning: A column-vector y was passed when a 1d array was expected. Please change the shape of y to (n_samples, ), for example using ravel().\n",
      "  y = column_or_1d(y, warn=True)\n",
      "/Users/glinn/anaconda3/lib/python3.6/site-packages/sklearn/linear_model/logistic.py:1544: UserWarning: 'n_jobs' > 1 does not have any effect when 'solver' is set to 'liblinear'. Got 'n_jobs' = 8.\n",
      "  \" = {}.\".format(effective_n_jobs(self.n_jobs)))\n",
      "/Users/glinn/anaconda3/lib/python3.6/site-packages/sklearn/linear_model/logistic.py:432: FutureWarning: Default solver will be changed to 'lbfgs' in 0.22. Specify a solver to silence this warning.\n",
      "  FutureWarning)\n",
      "/Users/glinn/anaconda3/lib/python3.6/site-packages/sklearn/utils/validation.py:724: DataConversionWarning: A column-vector y was passed when a 1d array was expected. Please change the shape of y to (n_samples, ), for example using ravel().\n",
      "  y = column_or_1d(y, warn=True)\n",
      "/Users/glinn/anaconda3/lib/python3.6/site-packages/sklearn/linear_model/logistic.py:1544: UserWarning: 'n_jobs' > 1 does not have any effect when 'solver' is set to 'liblinear'. Got 'n_jobs' = 8.\n",
      "  \" = {}.\".format(effective_n_jobs(self.n_jobs)))\n",
      "/Users/glinn/anaconda3/lib/python3.6/site-packages/sklearn/linear_model/logistic.py:432: FutureWarning: Default solver will be changed to 'lbfgs' in 0.22. Specify a solver to silence this warning.\n",
      "  FutureWarning)\n",
      "/Users/glinn/anaconda3/lib/python3.6/site-packages/sklearn/utils/validation.py:724: DataConversionWarning: A column-vector y was passed when a 1d array was expected. Please change the shape of y to (n_samples, ), for example using ravel().\n",
      "  y = column_or_1d(y, warn=True)\n",
      "/Users/glinn/anaconda3/lib/python3.6/site-packages/sklearn/linear_model/logistic.py:1544: UserWarning: 'n_jobs' > 1 does not have any effect when 'solver' is set to 'liblinear'. Got 'n_jobs' = 8.\n",
      "  \" = {}.\".format(effective_n_jobs(self.n_jobs)))\n",
      "/Users/glinn/anaconda3/lib/python3.6/site-packages/sklearn/linear_model/logistic.py:432: FutureWarning: Default solver will be changed to 'lbfgs' in 0.22. Specify a solver to silence this warning.\n",
      "  FutureWarning)\n",
      "/Users/glinn/anaconda3/lib/python3.6/site-packages/sklearn/utils/validation.py:724: DataConversionWarning: A column-vector y was passed when a 1d array was expected. Please change the shape of y to (n_samples, ), for example using ravel().\n",
      "  y = column_or_1d(y, warn=True)\n",
      "/Users/glinn/anaconda3/lib/python3.6/site-packages/sklearn/linear_model/logistic.py:1544: UserWarning: 'n_jobs' > 1 does not have any effect when 'solver' is set to 'liblinear'. Got 'n_jobs' = 8.\n",
      "  \" = {}.\".format(effective_n_jobs(self.n_jobs)))\n",
      "/Users/glinn/anaconda3/lib/python3.6/site-packages/sklearn/linear_model/logistic.py:432: FutureWarning: Default solver will be changed to 'lbfgs' in 0.22. Specify a solver to silence this warning.\n",
      "  FutureWarning)\n",
      "/Users/glinn/anaconda3/lib/python3.6/site-packages/sklearn/utils/validation.py:724: DataConversionWarning: A column-vector y was passed when a 1d array was expected. Please change the shape of y to (n_samples, ), for example using ravel().\n",
      "  y = column_or_1d(y, warn=True)\n",
      "/Users/glinn/anaconda3/lib/python3.6/site-packages/sklearn/linear_model/logistic.py:1544: UserWarning: 'n_jobs' > 1 does not have any effect when 'solver' is set to 'liblinear'. Got 'n_jobs' = 8.\n",
      "  \" = {}.\".format(effective_n_jobs(self.n_jobs)))\n",
      "/Users/glinn/anaconda3/lib/python3.6/site-packages/sklearn/linear_model/logistic.py:432: FutureWarning: Default solver will be changed to 'lbfgs' in 0.22. Specify a solver to silence this warning.\n",
      "  FutureWarning)\n",
      "/Users/glinn/anaconda3/lib/python3.6/site-packages/sklearn/utils/validation.py:724: DataConversionWarning: A column-vector y was passed when a 1d array was expected. Please change the shape of y to (n_samples, ), for example using ravel().\n",
      "  y = column_or_1d(y, warn=True)\n",
      "/Users/glinn/anaconda3/lib/python3.6/site-packages/sklearn/linear_model/logistic.py:1544: UserWarning: 'n_jobs' > 1 does not have any effect when 'solver' is set to 'liblinear'. Got 'n_jobs' = 8.\n",
      "  \" = {}.\".format(effective_n_jobs(self.n_jobs)))\n"
     ]
    },
    {
     "name": "stdout",
     "output_type": "stream",
     "text": [
      "The validation accuracy is [0.6571927  0.66344852 0.66371921 0.66395982 0.66401997 0.66395982].\n",
      "The training accuracy is [0.66296068 0.67067004 0.67074205 0.67071004 0.67069804 0.67073005].\n",
      "The best value for C is 1000.0\n",
      "And, the best model coefficients are [[-1.43626802e-01 -2.25836634e-01 -1.52924584e+01 -7.49967157e-03\n",
      "   6.03629228e-03 -3.06842488e-01 -8.56862334e-01 -1.82835717e+00\n",
      "  -5.45258713e-01 -2.46679418e-01 -1.82131572e+00 -8.83341065e-01\n",
      "   6.13459321e-01  1.26097455e+00  9.65756636e-02 -1.03465079e+00\n",
      "  -6.16848893e-01  1.05547712e+00 -1.64382287e+00 -1.31755317e-01\n",
      "  -1.68445292e+00 -4.34983719e-01  1.95708831e-01 -1.60235802e+00\n",
      "   1.10462953e+00 -2.44037390e-01  4.30201897e-01 -5.30158831e-01\n",
      "  -2.84671594e-01 -1.40107479e-01 -4.47013720e-01 -3.05940591e-01\n",
      "  -2.85223570e-01 -2.99877974e-01  6.78875683e-02 -2.42375385e-01\n",
      "  -2.82060916e-01 -4.03125362e-01 -5.69926918e-01  5.09668316e-01\n",
      "   2.87292740e-01 -9.52357056e-01 -3.94620753e-01 -1.21430437e+00\n",
      "  -1.18394538e+00 -6.37964600e-01  4.09705817e-01 -1.13756448e+00\n",
      "  -1.94328689e+00 -9.07187817e-01 -2.94470920e-01  3.47958893e-01\n",
      "  -1.15208928e+00 -1.37478429e+00 -9.55143713e-02 -3.17118639e-01\n",
      "   7.14465731e-01 -1.62088827e+00 -2.58891956e-01 -4.09129862e-01\n",
      "  -1.09144758e+00  1.58262026e+00 -5.02305555e-01  6.68370362e-01\n",
      "  -2.19769229e-01 -2.83013308e-01 -5.84856614e-01 -1.15446674e+00\n",
      "  -6.11494143e-01 -9.38770336e-01  5.90321460e-01 -1.40294380e+00\n",
      "  -8.62223611e-01 -9.06120865e-01 -1.46165959e+00  4.35379344e-01\n",
      "   7.86092884e-01 -4.69517973e-01 -9.76267154e-01 -1.98421503e-01\n",
      "  -2.35003613e-01 -8.66894560e-01 -6.56085228e-01 -1.52211991e+00\n",
      "  -1.47979236e+00 -6.72198808e-01 -1.65021031e-01 -2.56887787e-01\n",
      "  -1.16540067e+00 -3.77119640e-01 -1.50544376e+00 -8.85050940e-01\n",
      "  -8.05577231e-01 -2.92251972e-01 -9.59793590e-01 -4.46921762e-01\n",
      "  -4.65414604e-01 -5.90632385e-01 -6.95713592e-01 -1.72666856e+00\n",
      "  -2.79349956e-01 -7.68506964e-03 -7.67819200e-01 -6.65612473e-01\n",
      "  -6.40625053e-01 -5.84068385e-01 -4.09477858e-01  2.86844978e-01\n",
      "  -1.66522674e+00 -5.54796880e-01  3.52876690e-02 -3.31488317e-01\n",
      "   6.95421014e-01  1.27205487e-02 -1.28748017e+00  5.00183252e-01\n",
      "  -9.49905535e-01 -1.16726445e+00 -1.96233922e-02  3.02750972e-01\n",
      "  -8.07679438e-01  6.75248080e-01  6.66078176e-02  1.04339255e+00\n",
      "  -1.13978101e+00  2.02610878e-02 -4.60019940e-01 -5.87171643e-01\n",
      "  -2.08444172e+00 -4.31850958e-01  3.52136254e-03 -5.44713640e-01\n",
      "  -5.96543487e-01 -6.78989786e-02 -1.56587625e+00 -7.26925674e-01\n",
      "  -6.04269538e-01 -1.20225712e+00 -1.81839018e-01  4.51903213e-01\n",
      "  -1.02283551e-01 -5.94438976e-01 -1.86562859e+00 -2.78832795e-01\n",
      "  -6.57156366e-01 -1.57516546e+00 -1.43768008e-01 -4.08974903e-01\n",
      "  -4.29822054e-01  1.82546429e-02  3.94289186e-02 -1.44492684e+00\n",
      "  -8.90660073e-01 -3.12683440e-01  1.13140925e-01 -5.98942658e-01\n",
      "  -2.03820708e-02 -2.48237905e-01 -6.18947036e-01 -1.20231814e+00\n",
      "  -1.67094548e-02 -1.31948052e+00  1.24845862e+00 -1.21423644e+00\n",
      "   4.61973962e-01  1.72542609e-01 -5.14085954e-01 -1.79919884e-01\n",
      "  -4.49939457e-01  2.88867903e-01 -6.78511294e-01 -1.22812725e+00\n",
      "   7.39428281e-01  2.84252347e-01 -3.84191448e-01 -5.54186364e-01\n",
      "   6.95667891e-01  4.71698149e-01 -5.86279736e-01 -1.38294673e+00\n",
      "  -9.10928334e-01 -1.80472160e-01 -6.97867047e-01 -8.84573238e-01\n",
      "   3.86558950e-01 -5.87196976e-01 -2.13354259e+00 -9.17040561e-01\n",
      "  -9.03619750e-01  2.98977299e-01 -6.44412620e-01 -1.94857027e+00\n",
      "  -4.02926397e-01 -6.72326063e-01 -9.46831526e-01 -7.70412697e-01\n",
      "  -1.31179661e-01 -1.12864863e+00 -5.31468791e-02]].\n"
     ]
    }
   ],
   "source": [
    "C_Both=[0.01,1.0,10.0,100.0,1000.0,2000.0]\n",
    "Accuracy_Both,Accuracy_train_Both,Coef_Both = TuneParameters(pipeline_LogReg,C_Both,X_train_OneHot_Both,Y_train,X_valid_OneHot_Both,Y_valid)\n",
    "ReportFull(Accuracy_train_Both,Accuracy_Both,C_Both,Coef_Both)"
   ]
  },
  {
   "cell_type": "code",
   "execution_count": 23,
   "metadata": {},
   "outputs": [
    {
     "data": {
      "image/png": "[encoded data removed]",
      "text/plain": [
       "<Figure size 432x288 with 1 Axes>"
      ]
     },
     "metadata": {
      "needs_background": "light"
     },
     "output_type": "display_data"
    }
   ],
   "source": [
    "PlotBiasVariance(Accuracy_train_Both,Accuracy_Both,C_Both)\n",
    "plt.savefig('Figures/LogReg/Doc2VecDataSet/BiasVarianceOneHotBothCoarseTunedC.png')"
   ]
  },
  {
   "cell_type": "code",
   "execution_count": 24,
   "metadata": {},
   "outputs": [
    {
     "name": "stderr",
     "output_type": "stream",
     "text": [
      "/Users/glinn/anaconda3/lib/python3.6/site-packages/sklearn/linear_model/logistic.py:432: FutureWarning: Default solver will be changed to 'lbfgs' in 0.22. Specify a solver to silence this warning.\n",
      "  FutureWarning)\n",
      "/Users/glinn/anaconda3/lib/python3.6/site-packages/sklearn/utils/validation.py:724: DataConversionWarning: A column-vector y was passed when a 1d array was expected. Please change the shape of y to (n_samples, ), for example using ravel().\n",
      "  y = column_or_1d(y, warn=True)\n",
      "/Users/glinn/anaconda3/lib/python3.6/site-packages/sklearn/linear_model/logistic.py:1544: UserWarning: 'n_jobs' > 1 does not have any effect when 'solver' is set to 'liblinear'. Got 'n_jobs' = 8.\n",
      "  \" = {}.\".format(effective_n_jobs(self.n_jobs)))\n",
      "/Users/glinn/anaconda3/lib/python3.6/site-packages/sklearn/linear_model/logistic.py:432: FutureWarning: Default solver will be changed to 'lbfgs' in 0.22. Specify a solver to silence this warning.\n",
      "  FutureWarning)\n",
      "/Users/glinn/anaconda3/lib/python3.6/site-packages/sklearn/utils/validation.py:724: DataConversionWarning: A column-vector y was passed when a 1d array was expected. Please change the shape of y to (n_samples, ), for example using ravel().\n",
      "  y = column_or_1d(y, warn=True)\n",
      "/Users/glinn/anaconda3/lib/python3.6/site-packages/sklearn/linear_model/logistic.py:1544: UserWarning: 'n_jobs' > 1 does not have any effect when 'solver' is set to 'liblinear'. Got 'n_jobs' = 8.\n",
      "  \" = {}.\".format(effective_n_jobs(self.n_jobs)))\n",
      "/Users/glinn/anaconda3/lib/python3.6/site-packages/sklearn/linear_model/logistic.py:432: FutureWarning: Default solver will be changed to 'lbfgs' in 0.22. Specify a solver to silence this warning.\n",
      "  FutureWarning)\n",
      "/Users/glinn/anaconda3/lib/python3.6/site-packages/sklearn/utils/validation.py:724: DataConversionWarning: A column-vector y was passed when a 1d array was expected. Please change the shape of y to (n_samples, ), for example using ravel().\n",
      "  y = column_or_1d(y, warn=True)\n",
      "/Users/glinn/anaconda3/lib/python3.6/site-packages/sklearn/linear_model/logistic.py:1544: UserWarning: 'n_jobs' > 1 does not have any effect when 'solver' is set to 'liblinear'. Got 'n_jobs' = 8.\n",
      "  \" = {}.\".format(effective_n_jobs(self.n_jobs)))\n",
      "/Users/glinn/anaconda3/lib/python3.6/site-packages/sklearn/linear_model/logistic.py:432: FutureWarning: Default solver will be changed to 'lbfgs' in 0.22. Specify a solver to silence this warning.\n",
      "  FutureWarning)\n",
      "/Users/glinn/anaconda3/lib/python3.6/site-packages/sklearn/utils/validation.py:724: DataConversionWarning: A column-vector y was passed when a 1d array was expected. Please change the shape of y to (n_samples, ), for example using ravel().\n",
      "  y = column_or_1d(y, warn=True)\n",
      "/Users/glinn/anaconda3/lib/python3.6/site-packages/sklearn/linear_model/logistic.py:1544: UserWarning: 'n_jobs' > 1 does not have any effect when 'solver' is set to 'liblinear'. Got 'n_jobs' = 8.\n",
      "  \" = {}.\".format(effective_n_jobs(self.n_jobs)))\n",
      "/Users/glinn/anaconda3/lib/python3.6/site-packages/sklearn/linear_model/logistic.py:432: FutureWarning: Default solver will be changed to 'lbfgs' in 0.22. Specify a solver to silence this warning.\n",
      "  FutureWarning)\n",
      "/Users/glinn/anaconda3/lib/python3.6/site-packages/sklearn/utils/validation.py:724: DataConversionWarning: A column-vector y was passed when a 1d array was expected. Please change the shape of y to (n_samples, ), for example using ravel().\n",
      "  y = column_or_1d(y, warn=True)\n",
      "/Users/glinn/anaconda3/lib/python3.6/site-packages/sklearn/linear_model/logistic.py:1544: UserWarning: 'n_jobs' > 1 does not have any effect when 'solver' is set to 'liblinear'. Got 'n_jobs' = 8.\n",
      "  \" = {}.\".format(effective_n_jobs(self.n_jobs)))\n",
      "/Users/glinn/anaconda3/lib/python3.6/site-packages/sklearn/linear_model/logistic.py:432: FutureWarning: Default solver will be changed to 'lbfgs' in 0.22. Specify a solver to silence this warning.\n",
      "  FutureWarning)\n",
      "/Users/glinn/anaconda3/lib/python3.6/site-packages/sklearn/utils/validation.py:724: DataConversionWarning: A column-vector y was passed when a 1d array was expected. Please change the shape of y to (n_samples, ), for example using ravel().\n",
      "  y = column_or_1d(y, warn=True)\n",
      "/Users/glinn/anaconda3/lib/python3.6/site-packages/sklearn/linear_model/logistic.py:1544: UserWarning: 'n_jobs' > 1 does not have any effect when 'solver' is set to 'liblinear'. Got 'n_jobs' = 8.\n",
      "  \" = {}.\".format(effective_n_jobs(self.n_jobs)))\n",
      "/Users/glinn/anaconda3/lib/python3.6/site-packages/sklearn/linear_model/logistic.py:432: FutureWarning: Default solver will be changed to 'lbfgs' in 0.22. Specify a solver to silence this warning.\n",
      "  FutureWarning)\n",
      "/Users/glinn/anaconda3/lib/python3.6/site-packages/sklearn/utils/validation.py:724: DataConversionWarning: A column-vector y was passed when a 1d array was expected. Please change the shape of y to (n_samples, ), for example using ravel().\n",
      "  y = column_or_1d(y, warn=True)\n",
      "/Users/glinn/anaconda3/lib/python3.6/site-packages/sklearn/linear_model/logistic.py:1544: UserWarning: 'n_jobs' > 1 does not have any effect when 'solver' is set to 'liblinear'. Got 'n_jobs' = 8.\n",
      "  \" = {}.\".format(effective_n_jobs(self.n_jobs)))\n",
      "/Users/glinn/anaconda3/lib/python3.6/site-packages/sklearn/linear_model/logistic.py:432: FutureWarning: Default solver will be changed to 'lbfgs' in 0.22. Specify a solver to silence this warning.\n",
      "  FutureWarning)\n",
      "/Users/glinn/anaconda3/lib/python3.6/site-packages/sklearn/utils/validation.py:724: DataConversionWarning: A column-vector y was passed when a 1d array was expected. Please change the shape of y to (n_samples, ), for example using ravel().\n",
      "  y = column_or_1d(y, warn=True)\n",
      "/Users/glinn/anaconda3/lib/python3.6/site-packages/sklearn/linear_model/logistic.py:1544: UserWarning: 'n_jobs' > 1 does not have any effect when 'solver' is set to 'liblinear'. Got 'n_jobs' = 8.\n",
      "  \" = {}.\".format(effective_n_jobs(self.n_jobs)))\n",
      "/Users/glinn/anaconda3/lib/python3.6/site-packages/sklearn/linear_model/logistic.py:432: FutureWarning: Default solver will be changed to 'lbfgs' in 0.22. Specify a solver to silence this warning.\n",
      "  FutureWarning)\n",
      "/Users/glinn/anaconda3/lib/python3.6/site-packages/sklearn/utils/validation.py:724: DataConversionWarning: A column-vector y was passed when a 1d array was expected. Please change the shape of y to (n_samples, ), for example using ravel().\n",
      "  y = column_or_1d(y, warn=True)\n",
      "/Users/glinn/anaconda3/lib/python3.6/site-packages/sklearn/linear_model/logistic.py:1544: UserWarning: 'n_jobs' > 1 does not have any effect when 'solver' is set to 'liblinear'. Got 'n_jobs' = 8.\n",
      "  \" = {}.\".format(effective_n_jobs(self.n_jobs)))\n",
      "/Users/glinn/anaconda3/lib/python3.6/site-packages/sklearn/linear_model/logistic.py:432: FutureWarning: Default solver will be changed to 'lbfgs' in 0.22. Specify a solver to silence this warning.\n",
      "  FutureWarning)\n",
      "/Users/glinn/anaconda3/lib/python3.6/site-packages/sklearn/utils/validation.py:724: DataConversionWarning: A column-vector y was passed when a 1d array was expected. Please change the shape of y to (n_samples, ), for example using ravel().\n",
      "  y = column_or_1d(y, warn=True)\n",
      "/Users/glinn/anaconda3/lib/python3.6/site-packages/sklearn/linear_model/logistic.py:1544: UserWarning: 'n_jobs' > 1 does not have any effect when 'solver' is set to 'liblinear'. Got 'n_jobs' = 8.\n",
      "  \" = {}.\".format(effective_n_jobs(self.n_jobs)))\n"
     ]
    },
    {
     "name": "stdout",
     "output_type": "stream",
     "text": [
      "The best validation accuracy is 0.6640801227104575.\n",
      "The best training accuracy is 0.6707380498967819.\n",
      "The best value for C is 117.77777777777777\n",
      "And, the best model coefficients are [[-3.04006558e-01 -2.25837195e-01 -1.52917077e+01 -7.49594844e-03\n",
      "   6.02638462e-03 -3.06606510e-01 -8.56595174e-01 -1.82823711e+00\n",
      "  -5.45872267e-01 -2.46434858e-01 -1.82136910e+00 -8.82735860e-01\n",
      "   6.13437732e-01  1.26040979e+00  9.59273814e-02 -1.03452038e+00\n",
      "  -6.17463717e-01  1.05532726e+00 -1.64320613e+00 -1.31706670e-01\n",
      "  -1.68422081e+00 -4.35143261e-01  1.95584478e-01 -1.60187864e+00\n",
      "   1.10354826e+00 -3.57688493e-01  4.32279521e-01 -7.40884567e-01\n",
      "  -2.25888062e-01 -7.95303742e-02 -1.03002384e+00 -2.31661332e-01\n",
      "  -2.51695027e-01 -1.39687865e-01  2.34422680e-01 -1.15040503e-01\n",
      "  -1.23400697e-01 -3.79727252e-01 -4.02673007e-01  5.76470785e-01\n",
      "   2.80367177e-01 -8.15224407e-01  3.48828385e-01 -1.12800630e+00\n",
      "  -1.18193229e+00 -5.51738406e-01  5.55749568e-01 -3.94094362e-01\n",
      "  -1.95009161e+00 -8.07246882e-01 -2.03604937e-02  4.84427961e-01\n",
      "  -1.15802918e+00 -1.24753730e+00 -6.23109299e-02 -1.80495012e-01\n",
      "   7.07509323e-01 -1.24881317e+00  1.49845639e-02 -2.71661650e-01\n",
      "  -3.47898636e-01  1.61349313e+00 -4.02241592e-01  7.01465879e-01\n",
      "  -1.32268753e-01 -1.24590463e-01 -4.25765571e-01 -1.02734106e+00\n",
      "  -3.37356370e-01 -8.11753947e-01  6.23341735e-01 -6.59177366e-01\n",
      "  -4.90852365e-01 -5.34449240e-01 -1.09095128e+00  4.28490795e-01\n",
      "   8.88030378e-01 -3.69641607e-01 -7.02116763e-01 -1.12221434e-01\n",
      "  -1.48780625e-01 -7.39979255e-01 -6.23046326e-01 -1.14947772e+00\n",
      "  -1.34494089e+00 -5.82642618e-01 -1.71658397e-01 -2.23835748e-01\n",
      "  -1.07898827e+00 -2.90748349e-01 -1.37800983e+00 -7.58679966e-01\n",
      "  -6.21177246e-02 -2.01144893e-01 -8.23269808e-01 -3.60719880e-01\n",
      "  -4.63534215e-01 -5.97307105e-01 -5.69361309e-01 -1.59972031e+00\n",
      "   4.64055006e-01 -1.45102356e-02 -7.67524284e-01 -6.65199475e-01\n",
      "  -2.68906029e-01 -4.84152448e-01 -2.51033139e-01  2.79999193e-01\n",
      "  -1.63209092e+00 -4.68535105e-01  3.09376502e-01 -2.37526346e-01\n",
      "   7.28411996e-01  2.86714010e-01 -1.18742787e+00  5.33181542e-01\n",
      "  -2.06414383e-01 -1.17330225e+00  1.32918157e-02  6.73828536e-01\n",
      "  -7.74317621e-01  9.84239299e-01  2.03496368e-01  1.17818843e+00\n",
      "  -1.13945468e+00  1.31890722e-02 -4.26964607e-01 -3.13039024e-01\n",
      "  -2.08408868e+00 -3.45407522e-01  3.66418615e-02 -4.58472243e-01\n",
      "  -5.02674862e-01  1.82933748e-02 -1.56398033e+00 -5.89834971e-01\n",
      "  -3.30149656e-01 -1.20041770e+00  9.22359187e-02  5.53815397e-01\n",
      "   3.51179616e-02  1.48454093e-01 -1.87132313e+00 -2.77014640e-01\n",
      "  -6.55369864e-01 -1.57326130e+00 -1.43465986e-01 -3.15117016e-01\n",
      "  -2.92707514e-01  5.13778600e-02  4.10896439e-01 -1.45089825e+00\n",
      "  -5.19762689e-01 -2.12808051e-01  3.87229095e-01 -4.62443120e-01\n",
      "   1.25692059e-02 -2.47736157e-01 -2.47150756e-01 -1.16918357e+00\n",
      "   1.20690445e-01 -5.75934757e-01  1.34949146e+00 -1.08733138e+00\n",
      "   4.55035230e-01  2.05665389e-01 -4.27574038e-01 -9.36245984e-02\n",
      "  -1.75818202e-01  3.75083033e-01 -5.51582762e-01 -1.23493272e+00\n",
      "   7.32483067e-01  2.77250674e-01 -2.72669592e-01 -1.82737890e-01\n",
      "   6.95942933e-01  8.38634052e-01 -5.93087399e-01 -1.29666139e+00\n",
      "  -6.36661657e-01 -8.66439225e-02 -6.11592959e-01 -7.47119423e-01\n",
      "   4.86003070e-01 -4.59311372e-01 -2.13939267e+00 -6.42641996e-01\n",
      "  -9.03346059e-01  2.92092701e-01 -2.73156734e-01 -1.95511213e+00\n",
      "  -2.44476149e-01 -5.86119078e-01 -5.75429605e-01 -6.68148852e-01\n",
      "  -9.81864291e-02 -9.92066284e-01  8.37703223e-02]].\n"
     ]
    }
   ],
   "source": [
    "C_Both_fine=np.linspace(20.0,900.0,10)\n",
    "Accuracy_Both_fine,Accuracy_train_Both_fine,Coef_Both_fine = TuneParameters(pipeline_LogReg,C_Both_fine,X_train_OneHot_Both,Y_train,X_valid_OneHot_Both,Y_valid)\n",
    "ReportBest(Accuracy_train_Both_fine,Accuracy_Both_fine,C_Both_fine,Coef_Both_fine)"
   ]
  },
  {
   "cell_type": "code",
   "execution_count": 25,
   "metadata": {},
   "outputs": [
    {
     "data": {
      "image/png": "[encoded data removed]",
      "text/plain": [
       "<Figure size 432x288 with 1 Axes>"
      ]
     },
     "metadata": {
      "needs_background": "light"
     },
     "output_type": "display_data"
    }
   ],
   "source": [
    "PlotBiasVariance(Accuracy_train_Both_fine,Accuracy_Both_fine,C_Both_fine)\n",
    "plt.savefig('Figures/LogReg/Doc2VecDataSet/BiasVarianceOneHotBothFineTunedC.png')"
   ]
  },
  {
   "cell_type": "markdown",
   "metadata": {},
   "source": [
    "Okay, so in the end, our best result after tuning the complexity of our model is:"
   ]
  },
  {
   "cell_type": "code",
   "execution_count": 26,
   "metadata": {},
   "outputs": [
    {
     "name": "stdout",
     "output_type": "stream",
     "text": [
      "The best validation accuracy is 0.6640801227104575.\n",
      "The best training accuracy is 0.6707380498967819.\n",
      "The best value for C is 117.77777777777777\n",
      "And, the best model coefficients are [[-3.04006558e-01 -2.25837195e-01 -1.52917077e+01 -7.49594844e-03\n",
      "   6.02638462e-03 -3.06606510e-01 -8.56595174e-01 -1.82823711e+00\n",
      "  -5.45872267e-01 -2.46434858e-01 -1.82136910e+00 -8.82735860e-01\n",
      "   6.13437732e-01  1.26040979e+00  9.59273814e-02 -1.03452038e+00\n",
      "  -6.17463717e-01  1.05532726e+00 -1.64320613e+00 -1.31706670e-01\n",
      "  -1.68422081e+00 -4.35143261e-01  1.95584478e-01 -1.60187864e+00\n",
      "   1.10354826e+00 -3.57688493e-01  4.32279521e-01 -7.40884567e-01\n",
      "  -2.25888062e-01 -7.95303742e-02 -1.03002384e+00 -2.31661332e-01\n",
      "  -2.51695027e-01 -1.39687865e-01  2.34422680e-01 -1.15040503e-01\n",
      "  -1.23400697e-01 -3.79727252e-01 -4.02673007e-01  5.76470785e-01\n",
      "   2.80367177e-01 -8.15224407e-01  3.48828385e-01 -1.12800630e+00\n",
      "  -1.18193229e+00 -5.51738406e-01  5.55749568e-01 -3.94094362e-01\n",
      "  -1.95009161e+00 -8.07246882e-01 -2.03604937e-02  4.84427961e-01\n",
      "  -1.15802918e+00 -1.24753730e+00 -6.23109299e-02 -1.80495012e-01\n",
      "   7.07509323e-01 -1.24881317e+00  1.49845639e-02 -2.71661650e-01\n",
      "  -3.47898636e-01  1.61349313e+00 -4.02241592e-01  7.01465879e-01\n",
      "  -1.32268753e-01 -1.24590463e-01 -4.25765571e-01 -1.02734106e+00\n",
      "  -3.37356370e-01 -8.11753947e-01  6.23341735e-01 -6.59177366e-01\n",
      "  -4.90852365e-01 -5.34449240e-01 -1.09095128e+00  4.28490795e-01\n",
      "   8.88030378e-01 -3.69641607e-01 -7.02116763e-01 -1.12221434e-01\n",
      "  -1.48780625e-01 -7.39979255e-01 -6.23046326e-01 -1.14947772e+00\n",
      "  -1.34494089e+00 -5.82642618e-01 -1.71658397e-01 -2.23835748e-01\n",
      "  -1.07898827e+00 -2.90748349e-01 -1.37800983e+00 -7.58679966e-01\n",
      "  -6.21177246e-02 -2.01144893e-01 -8.23269808e-01 -3.60719880e-01\n",
      "  -4.63534215e-01 -5.97307105e-01 -5.69361309e-01 -1.59972031e+00\n",
      "   4.64055006e-01 -1.45102356e-02 -7.67524284e-01 -6.65199475e-01\n",
      "  -2.68906029e-01 -4.84152448e-01 -2.51033139e-01  2.79999193e-01\n",
      "  -1.63209092e+00 -4.68535105e-01  3.09376502e-01 -2.37526346e-01\n",
      "   7.28411996e-01  2.86714010e-01 -1.18742787e+00  5.33181542e-01\n",
      "  -2.06414383e-01 -1.17330225e+00  1.32918157e-02  6.73828536e-01\n",
      "  -7.74317621e-01  9.84239299e-01  2.03496368e-01  1.17818843e+00\n",
      "  -1.13945468e+00  1.31890722e-02 -4.26964607e-01 -3.13039024e-01\n",
      "  -2.08408868e+00 -3.45407522e-01  3.66418615e-02 -4.58472243e-01\n",
      "  -5.02674862e-01  1.82933748e-02 -1.56398033e+00 -5.89834971e-01\n",
      "  -3.30149656e-01 -1.20041770e+00  9.22359187e-02  5.53815397e-01\n",
      "   3.51179616e-02  1.48454093e-01 -1.87132313e+00 -2.77014640e-01\n",
      "  -6.55369864e-01 -1.57326130e+00 -1.43465986e-01 -3.15117016e-01\n",
      "  -2.92707514e-01  5.13778600e-02  4.10896439e-01 -1.45089825e+00\n",
      "  -5.19762689e-01 -2.12808051e-01  3.87229095e-01 -4.62443120e-01\n",
      "   1.25692059e-02 -2.47736157e-01 -2.47150756e-01 -1.16918357e+00\n",
      "   1.20690445e-01 -5.75934757e-01  1.34949146e+00 -1.08733138e+00\n",
      "   4.55035230e-01  2.05665389e-01 -4.27574038e-01 -9.36245984e-02\n",
      "  -1.75818202e-01  3.75083033e-01 -5.51582762e-01 -1.23493272e+00\n",
      "   7.32483067e-01  2.77250674e-01 -2.72669592e-01 -1.82737890e-01\n",
      "   6.95942933e-01  8.38634052e-01 -5.93087399e-01 -1.29666139e+00\n",
      "  -6.36661657e-01 -8.66439225e-02 -6.11592959e-01 -7.47119423e-01\n",
      "   4.86003070e-01 -4.59311372e-01 -2.13939267e+00 -6.42641996e-01\n",
      "  -9.03346059e-01  2.92092701e-01 -2.73156734e-01 -1.95511213e+00\n",
      "  -2.44476149e-01 -5.86119078e-01 -5.75429605e-01 -6.68148852e-01\n",
      "  -9.81864291e-02 -9.92066284e-01  8.37703223e-02]].\n"
     ]
    }
   ],
   "source": [
    "ReportBest(Accuracy_train_Both_fine,Accuracy_Both_fine,C_Both_fine,Coef_Both_fine)"
   ]
  },
  {
   "cell_type": "markdown",
   "metadata": {},
   "source": [
    "# What was the best dataset? One hot encoding good or bad?"
   ]
  },
  {
   "cell_type": "code",
   "execution_count": 27,
   "metadata": {},
   "outputs": [
    {
     "data": {
      "image/png": "[encoded data removed]",
      "text/plain": [
       "<Figure size 432x288 with 1 Axes>"
      ]
     },
     "metadata": {
      "needs_background": "light"
     },
     "output_type": "display_data"
    }
   ],
   "source": [
    "plt.bar([\"Ordinal\",\"1 Hot Main-Cat\",\"1 Hot Sub-Cat\",\"1 Hot Both-Cats\"],[np.amax(Accuracy_fine),np.amax(Accuracy_Main_fine),np.amax(Accuracy_Sub_fine),np.amax(np.amax(Accuracy_Both_fine))])\n",
    "plt.ylabel(\"Accuracy\")\n",
    "plt.title(\"Accuracy of ordinally encoded categories vs. one hot encoded\")\n",
    "plt.savefig('Figures/LogReg/BasicNamesDataSet/BarChartVariousCatEncodings.png')"
   ]
  },
  {
   "cell_type": "markdown",
   "metadata": {},
   "source": [
    "We find in the end that the best dataset is one hot encoding both the main and the sub categories. Below is the report of the best overall model on the best dataset: "
   ]
  },
  {
   "cell_type": "code",
   "execution_count": 28,
   "metadata": {},
   "outputs": [
    {
     "name": "stdout",
     "output_type": "stream",
     "text": [
      "The best validation accuracy is 0.6640801227104575.\n",
      "The best training accuracy is 0.6707380498967819.\n",
      "The best value for C is 117.77777777777777\n",
      "And, the best model coefficients are [[-3.04006558e-01 -2.25837195e-01 -1.52917077e+01 -7.49594844e-03\n",
      "   6.02638462e-03 -3.06606510e-01 -8.56595174e-01 -1.82823711e+00\n",
      "  -5.45872267e-01 -2.46434858e-01 -1.82136910e+00 -8.82735860e-01\n",
      "   6.13437732e-01  1.26040979e+00  9.59273814e-02 -1.03452038e+00\n",
      "  -6.17463717e-01  1.05532726e+00 -1.64320613e+00 -1.31706670e-01\n",
      "  -1.68422081e+00 -4.35143261e-01  1.95584478e-01 -1.60187864e+00\n",
      "   1.10354826e+00 -3.57688493e-01  4.32279521e-01 -7.40884567e-01\n",
      "  -2.25888062e-01 -7.95303742e-02 -1.03002384e+00 -2.31661332e-01\n",
      "  -2.51695027e-01 -1.39687865e-01  2.34422680e-01 -1.15040503e-01\n",
      "  -1.23400697e-01 -3.79727252e-01 -4.02673007e-01  5.76470785e-01\n",
      "   2.80367177e-01 -8.15224407e-01  3.48828385e-01 -1.12800630e+00\n",
      "  -1.18193229e+00 -5.51738406e-01  5.55749568e-01 -3.94094362e-01\n",
      "  -1.95009161e+00 -8.07246882e-01 -2.03604937e-02  4.84427961e-01\n",
      "  -1.15802918e+00 -1.24753730e+00 -6.23109299e-02 -1.80495012e-01\n",
      "   7.07509323e-01 -1.24881317e+00  1.49845639e-02 -2.71661650e-01\n",
      "  -3.47898636e-01  1.61349313e+00 -4.02241592e-01  7.01465879e-01\n",
      "  -1.32268753e-01 -1.24590463e-01 -4.25765571e-01 -1.02734106e+00\n",
      "  -3.37356370e-01 -8.11753947e-01  6.23341735e-01 -6.59177366e-01\n",
      "  -4.90852365e-01 -5.34449240e-01 -1.09095128e+00  4.28490795e-01\n",
      "   8.88030378e-01 -3.69641607e-01 -7.02116763e-01 -1.12221434e-01\n",
      "  -1.48780625e-01 -7.39979255e-01 -6.23046326e-01 -1.14947772e+00\n",
      "  -1.34494089e+00 -5.82642618e-01 -1.71658397e-01 -2.23835748e-01\n",
      "  -1.07898827e+00 -2.90748349e-01 -1.37800983e+00 -7.58679966e-01\n",
      "  -6.21177246e-02 -2.01144893e-01 -8.23269808e-01 -3.60719880e-01\n",
      "  -4.63534215e-01 -5.97307105e-01 -5.69361309e-01 -1.59972031e+00\n",
      "   4.64055006e-01 -1.45102356e-02 -7.67524284e-01 -6.65199475e-01\n",
      "  -2.68906029e-01 -4.84152448e-01 -2.51033139e-01  2.79999193e-01\n",
      "  -1.63209092e+00 -4.68535105e-01  3.09376502e-01 -2.37526346e-01\n",
      "   7.28411996e-01  2.86714010e-01 -1.18742787e+00  5.33181542e-01\n",
      "  -2.06414383e-01 -1.17330225e+00  1.32918157e-02  6.73828536e-01\n",
      "  -7.74317621e-01  9.84239299e-01  2.03496368e-01  1.17818843e+00\n",
      "  -1.13945468e+00  1.31890722e-02 -4.26964607e-01 -3.13039024e-01\n",
      "  -2.08408868e+00 -3.45407522e-01  3.66418615e-02 -4.58472243e-01\n",
      "  -5.02674862e-01  1.82933748e-02 -1.56398033e+00 -5.89834971e-01\n",
      "  -3.30149656e-01 -1.20041770e+00  9.22359187e-02  5.53815397e-01\n",
      "   3.51179616e-02  1.48454093e-01 -1.87132313e+00 -2.77014640e-01\n",
      "  -6.55369864e-01 -1.57326130e+00 -1.43465986e-01 -3.15117016e-01\n",
      "  -2.92707514e-01  5.13778600e-02  4.10896439e-01 -1.45089825e+00\n",
      "  -5.19762689e-01 -2.12808051e-01  3.87229095e-01 -4.62443120e-01\n",
      "   1.25692059e-02 -2.47736157e-01 -2.47150756e-01 -1.16918357e+00\n",
      "   1.20690445e-01 -5.75934757e-01  1.34949146e+00 -1.08733138e+00\n",
      "   4.55035230e-01  2.05665389e-01 -4.27574038e-01 -9.36245984e-02\n",
      "  -1.75818202e-01  3.75083033e-01 -5.51582762e-01 -1.23493272e+00\n",
      "   7.32483067e-01  2.77250674e-01 -2.72669592e-01 -1.82737890e-01\n",
      "   6.95942933e-01  8.38634052e-01 -5.93087399e-01 -1.29666139e+00\n",
      "  -6.36661657e-01 -8.66439225e-02 -6.11592959e-01 -7.47119423e-01\n",
      "   4.86003070e-01 -4.59311372e-01 -2.13939267e+00 -6.42641996e-01\n",
      "  -9.03346059e-01  2.92092701e-01 -2.73156734e-01 -1.95511213e+00\n",
      "  -2.44476149e-01 -5.86119078e-01 -5.75429605e-01 -6.68148852e-01\n",
      "  -9.81864291e-02 -9.92066284e-01  8.37703223e-02]].\n"
     ]
    }
   ],
   "source": [
    "ReportBest(Accuracy_train_Both_fine,Accuracy_Both_fine,C_Both_fine,Coef_Both_fine)"
   ]
  },
  {
   "cell_type": "code",
   "execution_count": 29,
   "metadata": {},
   "outputs": [],
   "source": [
    "X_valid_df=X_valid_df.drop(columns=[\"Unnamed: 0\"])\n",
    "X_valid_OneHotBoth_df = pd.get_dummies(X_valid_df,columns = [\"main_category\",\"category\"])"
   ]
  },
  {
   "cell_type": "code",
   "execution_count": 30,
   "metadata": {},
   "outputs": [
    {
     "name": "stdout",
     "output_type": "stream",
     "text": [
      "The most negatively linearly correlated feature is launched_month.\n",
      "The most positively linearly correlated feature is category_22.\n"
     ]
    }
   ],
   "source": [
    "print(f\"The most negatively linearly correlated feature is {X_valid_OneHotBoth_df.columns[np.argmin(Coef_Both_fine)]}.\")\n",
    "print(f\"The most positively linearly correlated feature is {X_valid_OneHotBoth_df.columns[np.argmax(Coef_Both_fine)]}.\")"
   ]
  },
  {
   "cell_type": "code",
   "execution_count": 31,
   "metadata": {},
   "outputs": [],
   "source": [
    "np.savetxt(\"Figures/LogReg/Doc2VecDataSet/CoefficientsBothOneHot\",Coef_Both_fine, delimiter=\",\")"
   ]
  }
 ],
 "metadata": {
  "kernelspec": {
   "display_name": "Python 3",
   "language": "python",
   "name": "python3"
  },
  "language_info": {
   "codemirror_mode": {
    "name": "ipython",
    "version": 3
   },
   "file_extension": ".py",
   "mimetype": "text/x-python",
   "name": "python",
   "nbconvert_exporter": "python",
   "pygments_lexer": "ipython3",
   "version": "3.6.9"
  }
 },
 "nbformat": 4,
 "nbformat_minor": 2
}
