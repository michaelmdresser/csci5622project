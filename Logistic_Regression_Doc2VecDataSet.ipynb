{
 "cells": [
  {
   "cell_type": "code",
   "execution_count": 1,
   "metadata": {},
   "outputs": [],
   "source": [
    "# Load Necessary Libraries\n",
    "import numpy as np\n",
    "import pandas as pd\n",
    "import matplotlib.pyplot as plt\n",
    "import datetime\n",
    "import os\n",
    "\n",
    "from sklearn.linear_model import LogisticRegression\n",
    "from sklearn.pipeline import make_pipeline\n",
    "from sklearn.model_selection import GridSearchCV\n",
    "from sklearn.model_selection import KFold\n",
    "from sklearn.metrics import accuracy_score\n",
    "\n",
    "\n",
    "#Set Working Directory\n",
    "os.chdir(r\"/Users/glinn/Documents/CSCI5622-machine-learning/project/csci5622project\")"
   ]
  },
  {
   "cell_type": "code",
   "execution_count": 2,
   "metadata": {},
   "outputs": [],
   "source": [
    "def TurnDfXIntoArray(df):\n",
    "    df=df.drop(columns=[\"Unnamed: 0\"])\n",
    "    array = np.array(df)\n",
    "    return array\n",
    "def TurnDfYIntoVector(df):\n",
    "    array = np.array(df,dtype=int)\n",
    "    return array\n",
    "def TuneParameters(Model,C,X_train,Y_train,X_valid,Y_valid):\n",
    "    accuracy = []\n",
    "    accuracy_train = []\n",
    "    best_accuracy = 0.0\n",
    "    for i in range(len(C)):\n",
    "        Model.set_params(C=C[i])\n",
    "        Model.fit(X_train,Y_train)\n",
    "        yhat = Model.predict(X_valid)\n",
    "        accuracy.append(accuracy_score(Y_valid,yhat))\n",
    "        yhat_train = Model.predict(X_train)\n",
    "        accuracy_train.append(accuracy_score(Y_train,yhat_train))\n",
    "        if accuracy[i]>best_accuracy:\n",
    "            best_accuracy = accuracy[i]\n",
    "            Coef = Model.coef_\n",
    "    accuracy = np.array(accuracy)\n",
    "    accuracy_train = np.array(accuracy_train)\n",
    "    return accuracy, accuracy_train, Coef\n",
    "def OneHotEncodeCategory(df,CategoryHeader):\n",
    "    df = pd.get_dummies(df,columns = CategoryHeader)\n",
    "    array = TurnDfXIntoArray(df)\n",
    "    return array\n",
    "\n",
    "def PlotBiasVariance(accuracy_train,accuracy_valid,C):\n",
    "    plt.plot(C,1-accuracy_train,'b')\n",
    "    plt.plot(C,1-accuracy_valid,'r')\n",
    "    plt.title(\"Error vs. Complexity (Regularization parameter, C)\")\n",
    "    plt.xlabel(\"Model Complexity ~ C\")\n",
    "    plt.ylabel(\"1-accuracy\")\n",
    "    plt.legend([\"Training 1-Accuracy\",\"Validation 1-Accuracy\"])\n",
    "\n",
    "def ReportBest(accuracy_train,accuracy_valid,C,Coef):\n",
    "    print(f\"The best validation accuracy is {np.amax(accuracy_valid)}.\")\n",
    "    print(f\"The best training accuracy is {np.amax(accuracy_train)}.\")\n",
    "    print(f\"The best value for C is {C[np.argmax(accuracy_valid)]}\")\n",
    "    print(f\"And, the best model coefficients are {Coef}.\")\n",
    "\n",
    "def ReportFull(accuracy_train,accuracy_valid,C,Coef):\n",
    "    print(f\"The validation accuracy is {accuracy_valid}.\")\n",
    "    print(f\"The training accuracy is {accuracy_train}.\")\n",
    "    print(f\"The best value for C is {C[np.argmax(accuracy_valid)]}\")\n",
    "    print(f\"And, the best model coefficients are {Coef}.\")"
   ]
  },
  {
   "cell_type": "markdown",
   "metadata": {},
   "source": [
    "Import the Data"
   ]
  },
  {
   "cell_type": "code",
   "execution_count": 3,
   "metadata": {},
   "outputs": [
    {
     "name": "stdout",
     "output_type": "stream",
     "text": [
      "   Unnamed: 0  main_category  category  duration  usd_goal_real  \\\n",
      "0           0             12        19 -0.316333      -0.036515   \n",
      "1           2              8       136  2.025723      -0.031740   \n",
      "2           4              7        44 -0.272265      -0.032463   \n",
      "3           5              5        31 -0.400095      -0.034948   \n",
      "4           6              6        93 -0.326225       0.008140   \n",
      "\n",
      "   launched_month  deadline_month  \\\n",
      "0             4.0             5.0   \n",
      "1            10.0             0.0   \n",
      "2             7.0             8.0   \n",
      "3             2.0             3.0   \n",
      "4             0.0             2.0   \n",
      "\n",
      "   doc2vec_names_0_doc2vec_names_1_doc2vec_names_2_doc2vec_names_3_doc2vec_names_4_doc2vec_names_5_doc2vec_names_6_doc2vec_names_7_doc2vec_names_8_doc2vec_names_9_doc2vec_names_10_doc2vec_names_11_doc2vec_names_12_doc2vec_names_13_doc2vec_names_14_doc2vec_names_15_doc2vec_names_16_doc2vec_names_17_doc2vec_names_18_doc2vec_names_19_0  \\\n",
      "0                                           0.005471                                                                                                                                                                                                                                                                                             \n",
      "1                                          -0.043001                                                                                                                                                                                                                                                                                             \n",
      "2                                           0.043284                                                                                                                                                                                                                                                                                             \n",
      "3                                          -0.001420                                                                                                                                                                                                                                                                                             \n",
      "4                                          -0.036838                                                                                                                                                                                                                                                                                             \n",
      "\n",
      "   doc2vec_names_0_doc2vec_names_1_doc2vec_names_2_doc2vec_names_3_doc2vec_names_4_doc2vec_names_5_doc2vec_names_6_doc2vec_names_7_doc2vec_names_8_doc2vec_names_9_doc2vec_names_10_doc2vec_names_11_doc2vec_names_12_doc2vec_names_13_doc2vec_names_14_doc2vec_names_15_doc2vec_names_16_doc2vec_names_17_doc2vec_names_18_doc2vec_names_19_1  \\\n",
      "0                                           0.008017                                                                                                                                                                                                                                                                                             \n",
      "1                                          -0.023550                                                                                                                                                                                                                                                                                             \n",
      "2                                          -0.005664                                                                                                                                                                                                                                                                                             \n",
      "3                                          -0.025957                                                                                                                                                                                                                                                                                             \n",
      "4                                          -0.033212                                                                                                                                                                                                                                                                                             \n",
      "\n",
      "   doc2vec_names_0_doc2vec_names_1_doc2vec_names_2_doc2vec_names_3_doc2vec_names_4_doc2vec_names_5_doc2vec_names_6_doc2vec_names_7_doc2vec_names_8_doc2vec_names_9_doc2vec_names_10_doc2vec_names_11_doc2vec_names_12_doc2vec_names_13_doc2vec_names_14_doc2vec_names_15_doc2vec_names_16_doc2vec_names_17_doc2vec_names_18_doc2vec_names_19_2  \\\n",
      "0                                          -0.019736                                                                                                                                                                                                                                                                                             \n",
      "1                                          -0.023259                                                                                                                                                                                                                                                                                             \n",
      "2                                          -0.068600                                                                                                                                                                                                                                                                                             \n",
      "3                                          -0.023279                                                                                                                                                                                                                                                                                             \n",
      "4                                          -0.029557                                                                                                                                                                                                                                                                                             \n",
      "\n",
      "   ...  \\\n",
      "0  ...   \n",
      "1  ...   \n",
      "2  ...   \n",
      "3  ...   \n",
      "4  ...   \n",
      "\n",
      "   doc2vec_names_0_doc2vec_names_1_doc2vec_names_2_doc2vec_names_3_doc2vec_names_4_doc2vec_names_5_doc2vec_names_6_doc2vec_names_7_doc2vec_names_8_doc2vec_names_9_doc2vec_names_10_doc2vec_names_11_doc2vec_names_12_doc2vec_names_13_doc2vec_names_14_doc2vec_names_15_doc2vec_names_16_doc2vec_names_17_doc2vec_names_18_doc2vec_names_19_10  \\\n",
      "0                                          -0.019289                                                                                                                                                                                                                                                                                              \n",
      "1                                          -0.041323                                                                                                                                                                                                                                                                                              \n",
      "2                                           0.058962                                                                                                                                                                                                                                                                                              \n",
      "3                                           0.001655                                                                                                                                                                                                                                                                                              \n",
      "4                                          -0.041032                                                                                                                                                                                                                                                                                              \n",
      "\n",
      "   doc2vec_names_0_doc2vec_names_1_doc2vec_names_2_doc2vec_names_3_doc2vec_names_4_doc2vec_names_5_doc2vec_names_6_doc2vec_names_7_doc2vec_names_8_doc2vec_names_9_doc2vec_names_10_doc2vec_names_11_doc2vec_names_12_doc2vec_names_13_doc2vec_names_14_doc2vec_names_15_doc2vec_names_16_doc2vec_names_17_doc2vec_names_18_doc2vec_names_19_11  \\\n",
      "0                                           0.026343                                                                                                                                                                                                                                                                                              \n",
      "1                                           0.039452                                                                                                                                                                                                                                                                                              \n",
      "2                                          -0.049581                                                                                                                                                                                                                                                                                              \n",
      "3                                          -0.022141                                                                                                                                                                                                                                                                                              \n",
      "4                                           0.032499                                                                                                                                                                                                                                                                                              \n",
      "\n",
      "   doc2vec_names_0_doc2vec_names_1_doc2vec_names_2_doc2vec_names_3_doc2vec_names_4_doc2vec_names_5_doc2vec_names_6_doc2vec_names_7_doc2vec_names_8_doc2vec_names_9_doc2vec_names_10_doc2vec_names_11_doc2vec_names_12_doc2vec_names_13_doc2vec_names_14_doc2vec_names_15_doc2vec_names_16_doc2vec_names_17_doc2vec_names_18_doc2vec_names_19_12  \\\n",
      "0                                          -0.008755                                                                                                                                                                                                                                                                                              \n",
      "1                                          -0.036759                                                                                                                                                                                                                                                                                              \n",
      "2                                          -0.028228                                                                                                                                                                                                                                                                                              \n",
      "3                                          -0.005171                                                                                                                                                                                                                                                                                              \n",
      "4                                          -0.017591                                                                                                                                                                                                                                                                                              \n",
      "\n",
      "   doc2vec_names_0_doc2vec_names_1_doc2vec_names_2_doc2vec_names_3_doc2vec_names_4_doc2vec_names_5_doc2vec_names_6_doc2vec_names_7_doc2vec_names_8_doc2vec_names_9_doc2vec_names_10_doc2vec_names_11_doc2vec_names_12_doc2vec_names_13_doc2vec_names_14_doc2vec_names_15_doc2vec_names_16_doc2vec_names_17_doc2vec_names_18_doc2vec_names_19_13  \\\n",
      "0                                          -0.009531                                                                                                                                                                                                                                                                                              \n",
      "1                                          -0.058590                                                                                                                                                                                                                                                                                              \n",
      "2                                          -0.032085                                                                                                                                                                                                                                                                                              \n",
      "3                                          -0.012855                                                                                                                                                                                                                                                                                              \n",
      "4                                           0.009319                                                                                                                                                                                                                                                                                              \n",
      "\n",
      "   doc2vec_names_0_doc2vec_names_1_doc2vec_names_2_doc2vec_names_3_doc2vec_names_4_doc2vec_names_5_doc2vec_names_6_doc2vec_names_7_doc2vec_names_8_doc2vec_names_9_doc2vec_names_10_doc2vec_names_11_doc2vec_names_12_doc2vec_names_13_doc2vec_names_14_doc2vec_names_15_doc2vec_names_16_doc2vec_names_17_doc2vec_names_18_doc2vec_names_19_14  \\\n",
      "0                                          -0.049188                                                                                                                                                                                                                                                                                              \n",
      "1                                          -0.028212                                                                                                                                                                                                                                                                                              \n",
      "2                                          -0.043916                                                                                                                                                                                                                                                                                              \n",
      "3                                           0.011913                                                                                                                                                                                                                                                                                              \n",
      "4                                          -0.004028                                                                                                                                                                                                                                                                                              \n",
      "\n",
      "   doc2vec_names_0_doc2vec_names_1_doc2vec_names_2_doc2vec_names_3_doc2vec_names_4_doc2vec_names_5_doc2vec_names_6_doc2vec_names_7_doc2vec_names_8_doc2vec_names_9_doc2vec_names_10_doc2vec_names_11_doc2vec_names_12_doc2vec_names_13_doc2vec_names_14_doc2vec_names_15_doc2vec_names_16_doc2vec_names_17_doc2vec_names_18_doc2vec_names_19_15  \\\n",
      "0                                           0.095071                                                                                                                                                                                                                                                                                              \n",
      "1                                           0.023088                                                                                                                                                                                                                                                                                              \n",
      "2                                           0.035647                                                                                                                                                                                                                                                                                              \n",
      "3                                          -0.023795                                                                                                                                                                                                                                                                                              \n",
      "4                                           0.033815                                                                                                                                                                                                                                                                                              \n",
      "\n",
      "   doc2vec_names_0_doc2vec_names_1_doc2vec_names_2_doc2vec_names_3_doc2vec_names_4_doc2vec_names_5_doc2vec_names_6_doc2vec_names_7_doc2vec_names_8_doc2vec_names_9_doc2vec_names_10_doc2vec_names_11_doc2vec_names_12_doc2vec_names_13_doc2vec_names_14_doc2vec_names_15_doc2vec_names_16_doc2vec_names_17_doc2vec_names_18_doc2vec_names_19_16  \\\n",
      "0                                           0.062896                                                                                                                                                                                                                                                                                              \n",
      "1                                           0.068744                                                                                                                                                                                                                                                                                              \n",
      "2                                           0.092366                                                                                                                                                                                                                                                                                              \n",
      "3                                           0.073519                                                                                                                                                                                                                                                                                              \n",
      "4                                           0.091812                                                                                                                                                                                                                                                                                              \n",
      "\n",
      "   doc2vec_names_0_doc2vec_names_1_doc2vec_names_2_doc2vec_names_3_doc2vec_names_4_doc2vec_names_5_doc2vec_names_6_doc2vec_names_7_doc2vec_names_8_doc2vec_names_9_doc2vec_names_10_doc2vec_names_11_doc2vec_names_12_doc2vec_names_13_doc2vec_names_14_doc2vec_names_15_doc2vec_names_16_doc2vec_names_17_doc2vec_names_18_doc2vec_names_19_17  \\\n",
      "0                                          -0.031385                                                                                                                                                                                                                                                                                              \n",
      "1                                          -0.000085                                                                                                                                                                                                                                                                                              \n",
      "2                                           0.017699                                                                                                                                                                                                                                                                                              \n",
      "3                                           0.008528                                                                                                                                                                                                                                                                                              \n",
      "4                                          -0.001791                                                                                                                                                                                                                                                                                              \n",
      "\n",
      "   doc2vec_names_0_doc2vec_names_1_doc2vec_names_2_doc2vec_names_3_doc2vec_names_4_doc2vec_names_5_doc2vec_names_6_doc2vec_names_7_doc2vec_names_8_doc2vec_names_9_doc2vec_names_10_doc2vec_names_11_doc2vec_names_12_doc2vec_names_13_doc2vec_names_14_doc2vec_names_15_doc2vec_names_16_doc2vec_names_17_doc2vec_names_18_doc2vec_names_19_18  \\\n",
      "0                                          -0.038694                                                                                                                                                                                                                                                                                              \n",
      "1                                          -0.011181                                                                                                                                                                                                                                                                                              \n",
      "2                                           0.074212                                                                                                                                                                                                                                                                                              \n",
      "3                                          -0.045571                                                                                                                                                                                                                                                                                              \n",
      "4                                           0.047503                                                                                                                                                                                                                                                                                              \n",
      "\n",
      "   doc2vec_names_0_doc2vec_names_1_doc2vec_names_2_doc2vec_names_3_doc2vec_names_4_doc2vec_names_5_doc2vec_names_6_doc2vec_names_7_doc2vec_names_8_doc2vec_names_9_doc2vec_names_10_doc2vec_names_11_doc2vec_names_12_doc2vec_names_13_doc2vec_names_14_doc2vec_names_15_doc2vec_names_16_doc2vec_names_17_doc2vec_names_18_doc2vec_names_19_19  \n",
      "0                                          -0.077445                                                                                                                                                                                                                                                                                             \n",
      "1                                          -0.030674                                                                                                                                                                                                                                                                                             \n",
      "2                                          -0.076633                                                                                                                                                                                                                                                                                             \n",
      "3                                          -0.023815                                                                                                                                                                                                                                                                                             \n",
      "4                                          -0.002407                                                                                                                                                                                                                                                                                             \n",
      "\n",
      "[5 rows x 27 columns]\n"
     ]
    }
   ],
   "source": [
    "#training data\n",
    "X_train_df = pd.read_csv(r\"data/preprocess-doc2vec-x-train.csv\")\n",
    "Y_train_df = pd.read_csv(r\"data/preprocess-doc2vec-y-train.csv\")\n",
    "#validation data\n",
    "X_valid_df = pd.read_csv(r\"data/preprocess-doc2vec-x-valid.csv\")\n",
    "Y_valid_df = pd.read_csv(r\"data/preprocess-doc2vec-y-valid.csv\")\n",
    "\n",
    "X_train = TurnDfXIntoArray(X_train_df)\n",
    "X_valid = TurnDfXIntoArray(X_valid_df)\n",
    "Y_train = TurnDfYIntoVector(Y_train_df)\n",
    "Y_valid = TurnDfYIntoVector(Y_valid_df)\n",
    "\n",
    "print(X_train_df.head(5))"
   ]
  },
  {
   "cell_type": "markdown",
   "metadata": {},
   "source": [
    "Choose a random seed for repeatability"
   ]
  },
  {
   "cell_type": "code",
   "execution_count": 4,
   "metadata": {},
   "outputs": [],
   "source": [
    "np.random.seed(6591)"
   ]
  },
  {
   "cell_type": "markdown",
   "metadata": {},
   "source": [
    "# Build the Model"
   ]
  },
  {
   "cell_type": "code",
   "execution_count": 5,
   "metadata": {},
   "outputs": [],
   "source": [
    "# Define pipeline\n",
    "pipeline_LogReg = LogisticRegression(penalty='l1',n_jobs=-1,max_iter=200)"
   ]
  },
  {
   "cell_type": "markdown",
   "metadata": {},
   "source": [
    "# Test the Model"
   ]
  },
  {
   "cell_type": "code",
   "execution_count": 6,
   "metadata": {},
   "outputs": [
    {
     "name": "stderr",
     "output_type": "stream",
     "text": [
      "/Users/glinn/anaconda3/lib/python3.6/site-packages/sklearn/linear_model/logistic.py:432: FutureWarning: Default solver will be changed to 'lbfgs' in 0.22. Specify a solver to silence this warning.\n",
      "  FutureWarning)\n",
      "/Users/glinn/anaconda3/lib/python3.6/site-packages/sklearn/utils/validation.py:724: DataConversionWarning: A column-vector y was passed when a 1d array was expected. Please change the shape of y to (n_samples, ), for example using ravel().\n",
      "  y = column_or_1d(y, warn=True)\n",
      "/Users/glinn/anaconda3/lib/python3.6/site-packages/sklearn/linear_model/logistic.py:1544: UserWarning: 'n_jobs' > 1 does not have any effect when 'solver' is set to 'liblinear'. Got 'n_jobs' = 8.\n",
      "  \" = {}.\".format(effective_n_jobs(self.n_jobs)))\n",
      "/Users/glinn/anaconda3/lib/python3.6/site-packages/sklearn/linear_model/logistic.py:432: FutureWarning: Default solver will be changed to 'lbfgs' in 0.22. Specify a solver to silence this warning.\n",
      "  FutureWarning)\n",
      "/Users/glinn/anaconda3/lib/python3.6/site-packages/sklearn/utils/validation.py:724: DataConversionWarning: A column-vector y was passed when a 1d array was expected. Please change the shape of y to (n_samples, ), for example using ravel().\n",
      "  y = column_or_1d(y, warn=True)\n",
      "/Users/glinn/anaconda3/lib/python3.6/site-packages/sklearn/linear_model/logistic.py:1544: UserWarning: 'n_jobs' > 1 does not have any effect when 'solver' is set to 'liblinear'. Got 'n_jobs' = 8.\n",
      "  \" = {}.\".format(effective_n_jobs(self.n_jobs)))\n",
      "/Users/glinn/anaconda3/lib/python3.6/site-packages/sklearn/linear_model/logistic.py:432: FutureWarning: Default solver will be changed to 'lbfgs' in 0.22. Specify a solver to silence this warning.\n",
      "  FutureWarning)\n",
      "/Users/glinn/anaconda3/lib/python3.6/site-packages/sklearn/utils/validation.py:724: DataConversionWarning: A column-vector y was passed when a 1d array was expected. Please change the shape of y to (n_samples, ), for example using ravel().\n",
      "  y = column_or_1d(y, warn=True)\n",
      "/Users/glinn/anaconda3/lib/python3.6/site-packages/sklearn/linear_model/logistic.py:1544: UserWarning: 'n_jobs' > 1 does not have any effect when 'solver' is set to 'liblinear'. Got 'n_jobs' = 8.\n",
      "  \" = {}.\".format(effective_n_jobs(self.n_jobs)))\n",
      "/Users/glinn/anaconda3/lib/python3.6/site-packages/sklearn/linear_model/logistic.py:432: FutureWarning: Default solver will be changed to 'lbfgs' in 0.22. Specify a solver to silence this warning.\n",
      "  FutureWarning)\n",
      "/Users/glinn/anaconda3/lib/python3.6/site-packages/sklearn/utils/validation.py:724: DataConversionWarning: A column-vector y was passed when a 1d array was expected. Please change the shape of y to (n_samples, ), for example using ravel().\n",
      "  y = column_or_1d(y, warn=True)\n",
      "/Users/glinn/anaconda3/lib/python3.6/site-packages/sklearn/linear_model/logistic.py:1544: UserWarning: 'n_jobs' > 1 does not have any effect when 'solver' is set to 'liblinear'. Got 'n_jobs' = 8.\n",
      "  \" = {}.\".format(effective_n_jobs(self.n_jobs)))\n",
      "/Users/glinn/anaconda3/lib/python3.6/site-packages/sklearn/linear_model/logistic.py:432: FutureWarning: Default solver will be changed to 'lbfgs' in 0.22. Specify a solver to silence this warning.\n",
      "  FutureWarning)\n",
      "/Users/glinn/anaconda3/lib/python3.6/site-packages/sklearn/utils/validation.py:724: DataConversionWarning: A column-vector y was passed when a 1d array was expected. Please change the shape of y to (n_samples, ), for example using ravel().\n",
      "  y = column_or_1d(y, warn=True)\n",
      "/Users/glinn/anaconda3/lib/python3.6/site-packages/sklearn/linear_model/logistic.py:1544: UserWarning: 'n_jobs' > 1 does not have any effect when 'solver' is set to 'liblinear'. Got 'n_jobs' = 8.\n",
      "  \" = {}.\".format(effective_n_jobs(self.n_jobs)))\n"
     ]
    },
    {
     "name": "stdout",
     "output_type": "stream",
     "text": [
      "The validation accuracy is [0.61261993 0.62122169 0.6215826  0.62164276 0.62161268].\n",
      "The training accuracy is [0.6091112  0.62066124 0.62079326 0.62079326 0.62075325].\n",
      "The best value for C is 100.0\n",
      "And, the best model coefficients are [[-1.45410568e-02  2.13087781e-03 -2.04107609e-01 -1.73381148e+01\n",
      "  -9.19717908e-03  6.17645770e-03 -1.88773212e+00 -1.71038803e+00\n",
      "   1.87891270e+00 -8.10115659e-01 -1.62002691e+00 -1.60168386e+00\n",
      "   1.46342227e+00  8.34893281e-01  7.00733692e-01  1.56047727e+00\n",
      "  -1.16405385e+00  8.66729596e-01  1.73605958e+00 -5.52170248e-01\n",
      "   2.30778928e+00  1.28541099e+00 -8.23130921e-01 -2.13856585e-01\n",
      "  -8.58184197e-01 -7.96245556e-01]].\n"
     ]
    }
   ],
   "source": [
    "C=[0.01,1.0,10.0,100.0,1000.0]\n",
    "Accuracy, Accuracy_train, Coef = TuneParameters(pipeline_LogReg,C,X_train,Y_train,X_valid,Y_valid)\n",
    "ReportFull(Accuracy_train,Accuracy,C,Coef)"
   ]
  },
  {
   "cell_type": "code",
   "execution_count": 7,
   "metadata": {},
   "outputs": [
    {
     "data": {
      "image/png": "[encoded data removed]",
      "text/plain": [
       "<Figure size 432x288 with 1 Axes>"
      ]
     },
     "metadata": {
      "needs_background": "light"
     },
     "output_type": "display_data"
    }
   ],
   "source": [
    "PlotBiasVariance(Accuracy_train,Accuracy,C)\n",
    "plt.savefig('Figures/LogReg/Doc2VecDataSet/BiasVarianceCoarseTunedC.png')"
   ]
  },
  {
   "cell_type": "code",
   "execution_count": 8,
   "metadata": {},
   "outputs": [
    {
     "name": "stderr",
     "output_type": "stream",
     "text": [
      "/Users/glinn/anaconda3/lib/python3.6/site-packages/sklearn/linear_model/logistic.py:432: FutureWarning: Default solver will be changed to 'lbfgs' in 0.22. Specify a solver to silence this warning.\n",
      "  FutureWarning)\n",
      "/Users/glinn/anaconda3/lib/python3.6/site-packages/sklearn/utils/validation.py:724: DataConversionWarning: A column-vector y was passed when a 1d array was expected. Please change the shape of y to (n_samples, ), for example using ravel().\n",
      "  y = column_or_1d(y, warn=True)\n",
      "/Users/glinn/anaconda3/lib/python3.6/site-packages/sklearn/linear_model/logistic.py:1544: UserWarning: 'n_jobs' > 1 does not have any effect when 'solver' is set to 'liblinear'. Got 'n_jobs' = 8.\n",
      "  \" = {}.\".format(effective_n_jobs(self.n_jobs)))\n",
      "/Users/glinn/anaconda3/lib/python3.6/site-packages/sklearn/linear_model/logistic.py:432: FutureWarning: Default solver will be changed to 'lbfgs' in 0.22. Specify a solver to silence this warning.\n",
      "  FutureWarning)\n",
      "/Users/glinn/anaconda3/lib/python3.6/site-packages/sklearn/utils/validation.py:724: DataConversionWarning: A column-vector y was passed when a 1d array was expected. Please change the shape of y to (n_samples, ), for example using ravel().\n",
      "  y = column_or_1d(y, warn=True)\n",
      "/Users/glinn/anaconda3/lib/python3.6/site-packages/sklearn/linear_model/logistic.py:1544: UserWarning: 'n_jobs' > 1 does not have any effect when 'solver' is set to 'liblinear'. Got 'n_jobs' = 8.\n",
      "  \" = {}.\".format(effective_n_jobs(self.n_jobs)))\n",
      "/Users/glinn/anaconda3/lib/python3.6/site-packages/sklearn/linear_model/logistic.py:432: FutureWarning: Default solver will be changed to 'lbfgs' in 0.22. Specify a solver to silence this warning.\n",
      "  FutureWarning)\n",
      "/Users/glinn/anaconda3/lib/python3.6/site-packages/sklearn/utils/validation.py:724: DataConversionWarning: A column-vector y was passed when a 1d array was expected. Please change the shape of y to (n_samples, ), for example using ravel().\n",
      "  y = column_or_1d(y, warn=True)\n",
      "/Users/glinn/anaconda3/lib/python3.6/site-packages/sklearn/linear_model/logistic.py:1544: UserWarning: 'n_jobs' > 1 does not have any effect when 'solver' is set to 'liblinear'. Got 'n_jobs' = 8.\n",
      "  \" = {}.\".format(effective_n_jobs(self.n_jobs)))\n",
      "/Users/glinn/anaconda3/lib/python3.6/site-packages/sklearn/linear_model/logistic.py:432: FutureWarning: Default solver will be changed to 'lbfgs' in 0.22. Specify a solver to silence this warning.\n",
      "  FutureWarning)\n",
      "/Users/glinn/anaconda3/lib/python3.6/site-packages/sklearn/utils/validation.py:724: DataConversionWarning: A column-vector y was passed when a 1d array was expected. Please change the shape of y to (n_samples, ), for example using ravel().\n",
      "  y = column_or_1d(y, warn=True)\n",
      "/Users/glinn/anaconda3/lib/python3.6/site-packages/sklearn/linear_model/logistic.py:1544: UserWarning: 'n_jobs' > 1 does not have any effect when 'solver' is set to 'liblinear'. Got 'n_jobs' = 8.\n",
      "  \" = {}.\".format(effective_n_jobs(self.n_jobs)))\n",
      "/Users/glinn/anaconda3/lib/python3.6/site-packages/sklearn/linear_model/logistic.py:432: FutureWarning: Default solver will be changed to 'lbfgs' in 0.22. Specify a solver to silence this warning.\n",
      "  FutureWarning)\n",
      "/Users/glinn/anaconda3/lib/python3.6/site-packages/sklearn/utils/validation.py:724: DataConversionWarning: A column-vector y was passed when a 1d array was expected. Please change the shape of y to (n_samples, ), for example using ravel().\n",
      "  y = column_or_1d(y, warn=True)\n",
      "/Users/glinn/anaconda3/lib/python3.6/site-packages/sklearn/linear_model/logistic.py:1544: UserWarning: 'n_jobs' > 1 does not have any effect when 'solver' is set to 'liblinear'. Got 'n_jobs' = 8.\n",
      "  \" = {}.\".format(effective_n_jobs(self.n_jobs)))\n",
      "/Users/glinn/anaconda3/lib/python3.6/site-packages/sklearn/linear_model/logistic.py:432: FutureWarning: Default solver will be changed to 'lbfgs' in 0.22. Specify a solver to silence this warning.\n",
      "  FutureWarning)\n",
      "/Users/glinn/anaconda3/lib/python3.6/site-packages/sklearn/utils/validation.py:724: DataConversionWarning: A column-vector y was passed when a 1d array was expected. Please change the shape of y to (n_samples, ), for example using ravel().\n",
      "  y = column_or_1d(y, warn=True)\n",
      "/Users/glinn/anaconda3/lib/python3.6/site-packages/sklearn/linear_model/logistic.py:1544: UserWarning: 'n_jobs' > 1 does not have any effect when 'solver' is set to 'liblinear'. Got 'n_jobs' = 8.\n",
      "  \" = {}.\".format(effective_n_jobs(self.n_jobs)))\n",
      "/Users/glinn/anaconda3/lib/python3.6/site-packages/sklearn/linear_model/logistic.py:432: FutureWarning: Default solver will be changed to 'lbfgs' in 0.22. Specify a solver to silence this warning.\n",
      "  FutureWarning)\n",
      "/Users/glinn/anaconda3/lib/python3.6/site-packages/sklearn/utils/validation.py:724: DataConversionWarning: A column-vector y was passed when a 1d array was expected. Please change the shape of y to (n_samples, ), for example using ravel().\n",
      "  y = column_or_1d(y, warn=True)\n",
      "/Users/glinn/anaconda3/lib/python3.6/site-packages/sklearn/linear_model/logistic.py:1544: UserWarning: 'n_jobs' > 1 does not have any effect when 'solver' is set to 'liblinear'. Got 'n_jobs' = 8.\n",
      "  \" = {}.\".format(effective_n_jobs(self.n_jobs)))\n",
      "/Users/glinn/anaconda3/lib/python3.6/site-packages/sklearn/linear_model/logistic.py:432: FutureWarning: Default solver will be changed to 'lbfgs' in 0.22. Specify a solver to silence this warning.\n",
      "  FutureWarning)\n",
      "/Users/glinn/anaconda3/lib/python3.6/site-packages/sklearn/utils/validation.py:724: DataConversionWarning: A column-vector y was passed when a 1d array was expected. Please change the shape of y to (n_samples, ), for example using ravel().\n",
      "  y = column_or_1d(y, warn=True)\n",
      "/Users/glinn/anaconda3/lib/python3.6/site-packages/sklearn/linear_model/logistic.py:1544: UserWarning: 'n_jobs' > 1 does not have any effect when 'solver' is set to 'liblinear'. Got 'n_jobs' = 8.\n",
      "  \" = {}.\".format(effective_n_jobs(self.n_jobs)))\n",
      "/Users/glinn/anaconda3/lib/python3.6/site-packages/sklearn/linear_model/logistic.py:432: FutureWarning: Default solver will be changed to 'lbfgs' in 0.22. Specify a solver to silence this warning.\n",
      "  FutureWarning)\n",
      "/Users/glinn/anaconda3/lib/python3.6/site-packages/sklearn/utils/validation.py:724: DataConversionWarning: A column-vector y was passed when a 1d array was expected. Please change the shape of y to (n_samples, ), for example using ravel().\n",
      "  y = column_or_1d(y, warn=True)\n",
      "/Users/glinn/anaconda3/lib/python3.6/site-packages/sklearn/linear_model/logistic.py:1544: UserWarning: 'n_jobs' > 1 does not have any effect when 'solver' is set to 'liblinear'. Got 'n_jobs' = 8.\n",
      "  \" = {}.\".format(effective_n_jobs(self.n_jobs)))\n",
      "/Users/glinn/anaconda3/lib/python3.6/site-packages/sklearn/linear_model/logistic.py:432: FutureWarning: Default solver will be changed to 'lbfgs' in 0.22. Specify a solver to silence this warning.\n",
      "  FutureWarning)\n",
      "/Users/glinn/anaconda3/lib/python3.6/site-packages/sklearn/utils/validation.py:724: DataConversionWarning: A column-vector y was passed when a 1d array was expected. Please change the shape of y to (n_samples, ), for example using ravel().\n",
      "  y = column_or_1d(y, warn=True)\n",
      "/Users/glinn/anaconda3/lib/python3.6/site-packages/sklearn/linear_model/logistic.py:1544: UserWarning: 'n_jobs' > 1 does not have any effect when 'solver' is set to 'liblinear'. Got 'n_jobs' = 8.\n",
      "  \" = {}.\".format(effective_n_jobs(self.n_jobs)))\n"
     ]
    },
    {
     "name": "stdout",
     "output_type": "stream",
     "text": [
      "The best validation accuracy is 0.6215224518030618.\n",
      "The best training accuracy is 0.6207532525724527.\n",
      "The best value for C is 2.0\n",
      "And, the best model coefficients are [[-1.45012683e-02  2.13319709e-03 -2.04120345e-01 -1.73187457e+01\n",
      "  -9.17677624e-03  6.19662051e-03 -1.87434896e+00 -1.69830139e+00\n",
      "   1.86866461e+00 -8.05329945e-01 -1.60219060e+00 -1.59748834e+00\n",
      "   1.45617659e+00  8.25170950e-01  6.85232625e-01  1.55879257e+00\n",
      "  -1.15197724e+00  8.54830301e-01  1.72677012e+00 -5.43779393e-01\n",
      "   2.29482877e+00  1.27488317e+00 -8.03964736e-01 -2.01580524e-01\n",
      "  -8.49339212e-01 -7.84942999e-01]].\n"
     ]
    }
   ],
   "source": [
    "C_fine=np.linspace(0.1,2.0,10)\n",
    "Accuracy_fine, Accuracy_train_fine, Coef_fine = TuneParameters(pipeline_LogReg,C_fine,X_train,Y_train,X_valid,Y_valid)\n",
    "ReportBest(Accuracy_train_fine,Accuracy_fine,C_fine,Coef_fine)"
   ]
  },
  {
   "cell_type": "code",
   "execution_count": 9,
   "metadata": {},
   "outputs": [
    {
     "data": {
      "image/png": "[encoded data removed]",
      "text/plain": [
       "<Figure size 432x288 with 1 Axes>"
      ]
     },
     "metadata": {
      "needs_background": "light"
     },
     "output_type": "display_data"
    }
   ],
   "source": [
    "PlotBiasVariance(Accuracy_train_fine,Accuracy_fine,C_fine)\n",
    "plt.savefig('Figures/LogReg/Doc2VecDataSet/BiasVarianceFineTunedC.png')"
   ]
  },
  {
   "cell_type": "markdown",
   "metadata": {},
   "source": [
    "Okay, so in the end, our best result after tuning the complexity of our model is:"
   ]
  },
  {
   "cell_type": "code",
   "execution_count": 10,
   "metadata": {},
   "outputs": [
    {
     "name": "stdout",
     "output_type": "stream",
     "text": [
      "The best validation accuracy is 0.6215224518030618.\n",
      "The best training accuracy is 0.6207532525724527.\n",
      "The best value for C is 2.0\n",
      "And, the best model coefficients are [[-1.45012683e-02  2.13319709e-03 -2.04120345e-01 -1.73187457e+01\n",
      "  -9.17677624e-03  6.19662051e-03 -1.87434896e+00 -1.69830139e+00\n",
      "   1.86866461e+00 -8.05329945e-01 -1.60219060e+00 -1.59748834e+00\n",
      "   1.45617659e+00  8.25170950e-01  6.85232625e-01  1.55879257e+00\n",
      "  -1.15197724e+00  8.54830301e-01  1.72677012e+00 -5.43779393e-01\n",
      "   2.29482877e+00  1.27488317e+00 -8.03964736e-01 -2.01580524e-01\n",
      "  -8.49339212e-01 -7.84942999e-01]].\n"
     ]
    }
   ],
   "source": [
    "ReportBest(Accuracy_train_fine,Accuracy_fine,C_fine,Coef_fine)"
   ]
  },
  {
   "cell_type": "markdown",
   "metadata": {},
   "source": [
    "# Okay, and what if we one hot encode the categories?"
   ]
  },
  {
   "cell_type": "code",
   "execution_count": 11,
   "metadata": {},
   "outputs": [],
   "source": [
    "# Just one hot the main category first\n",
    "X_train_OneHot_Main = OneHotEncodeCategory(X_train_df,[\"main_category\"])\n",
    "X_valid_OneHot_Main = OneHotEncodeCategory(X_valid_df,[\"main_category\"])\n",
    "\n",
    "#Now just the sub category\n",
    "X_train_OneHot_Sub = OneHotEncodeCategory(X_train_df,[\"category\"])\n",
    "X_valid_OneHot_Sub = OneHotEncodeCategory(X_valid_df,[\"category\"])\n",
    "\n",
    "# One hot both categories\n",
    "X_train_OneHot_Both = OneHotEncodeCategory(X_train_df,[\"main_category\",\"category\"])\n",
    "X_valid_OneHot_Both = OneHotEncodeCategory(X_valid_df,[\"main_category\",\"category\"])"
   ]
  },
  {
   "cell_type": "markdown",
   "metadata": {},
   "source": [
    "First, Let's just look at one hot encoding the main category."
   ]
  },
  {
   "cell_type": "code",
   "execution_count": 12,
   "metadata": {},
   "outputs": [
    {
     "name": "stderr",
     "output_type": "stream",
     "text": [
      "/Users/glinn/anaconda3/lib/python3.6/site-packages/sklearn/linear_model/logistic.py:432: FutureWarning: Default solver will be changed to 'lbfgs' in 0.22. Specify a solver to silence this warning.\n",
      "  FutureWarning)\n",
      "/Users/glinn/anaconda3/lib/python3.6/site-packages/sklearn/utils/validation.py:724: DataConversionWarning: A column-vector y was passed when a 1d array was expected. Please change the shape of y to (n_samples, ), for example using ravel().\n",
      "  y = column_or_1d(y, warn=True)\n",
      "/Users/glinn/anaconda3/lib/python3.6/site-packages/sklearn/linear_model/logistic.py:1544: UserWarning: 'n_jobs' > 1 does not have any effect when 'solver' is set to 'liblinear'. Got 'n_jobs' = 8.\n",
      "  \" = {}.\".format(effective_n_jobs(self.n_jobs)))\n",
      "/Users/glinn/anaconda3/lib/python3.6/site-packages/sklearn/linear_model/logistic.py:432: FutureWarning: Default solver will be changed to 'lbfgs' in 0.22. Specify a solver to silence this warning.\n",
      "  FutureWarning)\n",
      "/Users/glinn/anaconda3/lib/python3.6/site-packages/sklearn/utils/validation.py:724: DataConversionWarning: A column-vector y was passed when a 1d array was expected. Please change the shape of y to (n_samples, ), for example using ravel().\n",
      "  y = column_or_1d(y, warn=True)\n",
      "/Users/glinn/anaconda3/lib/python3.6/site-packages/sklearn/linear_model/logistic.py:1544: UserWarning: 'n_jobs' > 1 does not have any effect when 'solver' is set to 'liblinear'. Got 'n_jobs' = 8.\n",
      "  \" = {}.\".format(effective_n_jobs(self.n_jobs)))\n",
      "/Users/glinn/anaconda3/lib/python3.6/site-packages/sklearn/linear_model/logistic.py:432: FutureWarning: Default solver will be changed to 'lbfgs' in 0.22. Specify a solver to silence this warning.\n",
      "  FutureWarning)\n",
      "/Users/glinn/anaconda3/lib/python3.6/site-packages/sklearn/utils/validation.py:724: DataConversionWarning: A column-vector y was passed when a 1d array was expected. Please change the shape of y to (n_samples, ), for example using ravel().\n",
      "  y = column_or_1d(y, warn=True)\n",
      "/Users/glinn/anaconda3/lib/python3.6/site-packages/sklearn/linear_model/logistic.py:1544: UserWarning: 'n_jobs' > 1 does not have any effect when 'solver' is set to 'liblinear'. Got 'n_jobs' = 8.\n",
      "  \" = {}.\".format(effective_n_jobs(self.n_jobs)))\n",
      "/Users/glinn/anaconda3/lib/python3.6/site-packages/sklearn/linear_model/logistic.py:432: FutureWarning: Default solver will be changed to 'lbfgs' in 0.22. Specify a solver to silence this warning.\n",
      "  FutureWarning)\n",
      "/Users/glinn/anaconda3/lib/python3.6/site-packages/sklearn/utils/validation.py:724: DataConversionWarning: A column-vector y was passed when a 1d array was expected. Please change the shape of y to (n_samples, ), for example using ravel().\n",
      "  y = column_or_1d(y, warn=True)\n",
      "/Users/glinn/anaconda3/lib/python3.6/site-packages/sklearn/linear_model/logistic.py:1544: UserWarning: 'n_jobs' > 1 does not have any effect when 'solver' is set to 'liblinear'. Got 'n_jobs' = 8.\n",
      "  \" = {}.\".format(effective_n_jobs(self.n_jobs)))\n",
      "/Users/glinn/anaconda3/lib/python3.6/site-packages/sklearn/linear_model/logistic.py:432: FutureWarning: Default solver will be changed to 'lbfgs' in 0.22. Specify a solver to silence this warning.\n",
      "  FutureWarning)\n",
      "/Users/glinn/anaconda3/lib/python3.6/site-packages/sklearn/utils/validation.py:724: DataConversionWarning: A column-vector y was passed when a 1d array was expected. Please change the shape of y to (n_samples, ), for example using ravel().\n",
      "  y = column_or_1d(y, warn=True)\n",
      "/Users/glinn/anaconda3/lib/python3.6/site-packages/sklearn/linear_model/logistic.py:1544: UserWarning: 'n_jobs' > 1 does not have any effect when 'solver' is set to 'liblinear'. Got 'n_jobs' = 8.\n",
      "  \" = {}.\".format(effective_n_jobs(self.n_jobs)))\n"
     ]
    },
    {
     "name": "stdout",
     "output_type": "stream",
     "text": [
      "The validation accuracy is [0.63980872 0.64203435 0.64185389 0.64176366 0.64170351].\n",
      "The training accuracy is [0.64169294 0.64787803 0.64793004 0.64790603 0.64792203].\n",
      "The best value for C is 1.0\n",
      "And, the best model coefficients are [[ 4.60214484e-04 -2.24351884e-01 -1.55224890e+01 -7.50794760e-03\n",
      "   6.71359215e-03 -1.96847775e+00 -7.08187715e-01  1.71517061e-01\n",
      "  -8.79452366e-01 -5.08715955e-01 -5.45351969e-02  1.60312343e+00\n",
      "   9.88550037e-03 -4.93835184e-01  3.50832051e-01 -8.80478594e-01\n",
      "  -3.20644143e-01  1.39196070e+00 -5.02230571e-01  1.98314786e+00\n",
      "   4.12730918e-01 -1.57422766e-01 -9.36296421e-01 -1.46269797e+00\n",
      "   1.38519685e-01 -4.93447714e-01  6.67186038e-02 -1.38209148e+00\n",
      "   3.86470487e-01 -4.55243810e-01 -1.19580637e+00 -4.38399306e-01\n",
      "  -1.06994665e+00 -4.39714968e-01 -1.34575973e+00 -1.15777920e-01\n",
      "  -9.46260108e-01 -8.68405381e-01 -1.07146197e+00  3.25619921e-01]].\n"
     ]
    }
   ],
   "source": [
    "C_Main=[0.01,1.0,10.0,100.0,1000.0]\n",
    "Accuracy_Main,Accuracy_train_Main,Coef_Main = TuneParameters(pipeline_LogReg,C_Main,X_train_OneHot_Main,Y_train,X_valid_OneHot_Main,Y_valid)\n",
    "ReportFull(Accuracy_train_Main,Accuracy_Main,C_Main,Coef_Main)"
   ]
  },
  {
   "cell_type": "code",
   "execution_count": 13,
   "metadata": {},
   "outputs": [
    {
     "data": {
      "image/png": "[encoded data removed]",
      "text/plain": [
       "<Figure size 432x288 with 1 Axes>"
      ]
     },
     "metadata": {
      "needs_background": "light"
     },
     "output_type": "display_data"
    }
   ],
   "source": [
    "PlotBiasVariance(Accuracy_train_Main,Accuracy_Main,C_Main)\n",
    "plt.savefig('Figures/LogReg/Doc2VecDataSet/BiasVarianceOneHotMainCoarseTunedC.png')"
   ]
  },
  {
   "cell_type": "code",
   "execution_count": 14,
   "metadata": {},
   "outputs": [
    {
     "name": "stderr",
     "output_type": "stream",
     "text": [
      "/Users/glinn/anaconda3/lib/python3.6/site-packages/sklearn/linear_model/logistic.py:432: FutureWarning: Default solver will be changed to 'lbfgs' in 0.22. Specify a solver to silence this warning.\n",
      "  FutureWarning)\n",
      "/Users/glinn/anaconda3/lib/python3.6/site-packages/sklearn/utils/validation.py:724: DataConversionWarning: A column-vector y was passed when a 1d array was expected. Please change the shape of y to (n_samples, ), for example using ravel().\n",
      "  y = column_or_1d(y, warn=True)\n",
      "/Users/glinn/anaconda3/lib/python3.6/site-packages/sklearn/linear_model/logistic.py:1544: UserWarning: 'n_jobs' > 1 does not have any effect when 'solver' is set to 'liblinear'. Got 'n_jobs' = 8.\n",
      "  \" = {}.\".format(effective_n_jobs(self.n_jobs)))\n",
      "/Users/glinn/anaconda3/lib/python3.6/site-packages/sklearn/linear_model/logistic.py:432: FutureWarning: Default solver will be changed to 'lbfgs' in 0.22. Specify a solver to silence this warning.\n",
      "  FutureWarning)\n",
      "/Users/glinn/anaconda3/lib/python3.6/site-packages/sklearn/utils/validation.py:724: DataConversionWarning: A column-vector y was passed when a 1d array was expected. Please change the shape of y to (n_samples, ), for example using ravel().\n",
      "  y = column_or_1d(y, warn=True)\n",
      "/Users/glinn/anaconda3/lib/python3.6/site-packages/sklearn/linear_model/logistic.py:1544: UserWarning: 'n_jobs' > 1 does not have any effect when 'solver' is set to 'liblinear'. Got 'n_jobs' = 8.\n",
      "  \" = {}.\".format(effective_n_jobs(self.n_jobs)))\n",
      "/Users/glinn/anaconda3/lib/python3.6/site-packages/sklearn/linear_model/logistic.py:432: FutureWarning: Default solver will be changed to 'lbfgs' in 0.22. Specify a solver to silence this warning.\n",
      "  FutureWarning)\n",
      "/Users/glinn/anaconda3/lib/python3.6/site-packages/sklearn/utils/validation.py:724: DataConversionWarning: A column-vector y was passed when a 1d array was expected. Please change the shape of y to (n_samples, ), for example using ravel().\n",
      "  y = column_or_1d(y, warn=True)\n",
      "/Users/glinn/anaconda3/lib/python3.6/site-packages/sklearn/linear_model/logistic.py:1544: UserWarning: 'n_jobs' > 1 does not have any effect when 'solver' is set to 'liblinear'. Got 'n_jobs' = 8.\n",
      "  \" = {}.\".format(effective_n_jobs(self.n_jobs)))\n",
      "/Users/glinn/anaconda3/lib/python3.6/site-packages/sklearn/linear_model/logistic.py:432: FutureWarning: Default solver will be changed to 'lbfgs' in 0.22. Specify a solver to silence this warning.\n",
      "  FutureWarning)\n",
      "/Users/glinn/anaconda3/lib/python3.6/site-packages/sklearn/utils/validation.py:724: DataConversionWarning: A column-vector y was passed when a 1d array was expected. Please change the shape of y to (n_samples, ), for example using ravel().\n",
      "  y = column_or_1d(y, warn=True)\n",
      "/Users/glinn/anaconda3/lib/python3.6/site-packages/sklearn/linear_model/logistic.py:1544: UserWarning: 'n_jobs' > 1 does not have any effect when 'solver' is set to 'liblinear'. Got 'n_jobs' = 8.\n",
      "  \" = {}.\".format(effective_n_jobs(self.n_jobs)))\n",
      "/Users/glinn/anaconda3/lib/python3.6/site-packages/sklearn/linear_model/logistic.py:432: FutureWarning: Default solver will be changed to 'lbfgs' in 0.22. Specify a solver to silence this warning.\n",
      "  FutureWarning)\n",
      "/Users/glinn/anaconda3/lib/python3.6/site-packages/sklearn/utils/validation.py:724: DataConversionWarning: A column-vector y was passed when a 1d array was expected. Please change the shape of y to (n_samples, ), for example using ravel().\n",
      "  y = column_or_1d(y, warn=True)\n",
      "/Users/glinn/anaconda3/lib/python3.6/site-packages/sklearn/linear_model/logistic.py:1544: UserWarning: 'n_jobs' > 1 does not have any effect when 'solver' is set to 'liblinear'. Got 'n_jobs' = 8.\n",
      "  \" = {}.\".format(effective_n_jobs(self.n_jobs)))\n",
      "/Users/glinn/anaconda3/lib/python3.6/site-packages/sklearn/linear_model/logistic.py:432: FutureWarning: Default solver will be changed to 'lbfgs' in 0.22. Specify a solver to silence this warning.\n",
      "  FutureWarning)\n",
      "/Users/glinn/anaconda3/lib/python3.6/site-packages/sklearn/utils/validation.py:724: DataConversionWarning: A column-vector y was passed when a 1d array was expected. Please change the shape of y to (n_samples, ), for example using ravel().\n",
      "  y = column_or_1d(y, warn=True)\n",
      "/Users/glinn/anaconda3/lib/python3.6/site-packages/sklearn/linear_model/logistic.py:1544: UserWarning: 'n_jobs' > 1 does not have any effect when 'solver' is set to 'liblinear'. Got 'n_jobs' = 8.\n",
      "  \" = {}.\".format(effective_n_jobs(self.n_jobs)))\n",
      "/Users/glinn/anaconda3/lib/python3.6/site-packages/sklearn/linear_model/logistic.py:432: FutureWarning: Default solver will be changed to 'lbfgs' in 0.22. Specify a solver to silence this warning.\n",
      "  FutureWarning)\n",
      "/Users/glinn/anaconda3/lib/python3.6/site-packages/sklearn/utils/validation.py:724: DataConversionWarning: A column-vector y was passed when a 1d array was expected. Please change the shape of y to (n_samples, ), for example using ravel().\n",
      "  y = column_or_1d(y, warn=True)\n",
      "/Users/glinn/anaconda3/lib/python3.6/site-packages/sklearn/linear_model/logistic.py:1544: UserWarning: 'n_jobs' > 1 does not have any effect when 'solver' is set to 'liblinear'. Got 'n_jobs' = 8.\n",
      "  \" = {}.\".format(effective_n_jobs(self.n_jobs)))\n",
      "/Users/glinn/anaconda3/lib/python3.6/site-packages/sklearn/linear_model/logistic.py:432: FutureWarning: Default solver will be changed to 'lbfgs' in 0.22. Specify a solver to silence this warning.\n",
      "  FutureWarning)\n",
      "/Users/glinn/anaconda3/lib/python3.6/site-packages/sklearn/utils/validation.py:724: DataConversionWarning: A column-vector y was passed when a 1d array was expected. Please change the shape of y to (n_samples, ), for example using ravel().\n",
      "  y = column_or_1d(y, warn=True)\n",
      "/Users/glinn/anaconda3/lib/python3.6/site-packages/sklearn/linear_model/logistic.py:1544: UserWarning: 'n_jobs' > 1 does not have any effect when 'solver' is set to 'liblinear'. Got 'n_jobs' = 8.\n",
      "  \" = {}.\".format(effective_n_jobs(self.n_jobs)))\n",
      "/Users/glinn/anaconda3/lib/python3.6/site-packages/sklearn/linear_model/logistic.py:432: FutureWarning: Default solver will be changed to 'lbfgs' in 0.22. Specify a solver to silence this warning.\n",
      "  FutureWarning)\n",
      "/Users/glinn/anaconda3/lib/python3.6/site-packages/sklearn/utils/validation.py:724: DataConversionWarning: A column-vector y was passed when a 1d array was expected. Please change the shape of y to (n_samples, ), for example using ravel().\n",
      "  y = column_or_1d(y, warn=True)\n",
      "/Users/glinn/anaconda3/lib/python3.6/site-packages/sklearn/linear_model/logistic.py:1544: UserWarning: 'n_jobs' > 1 does not have any effect when 'solver' is set to 'liblinear'. Got 'n_jobs' = 8.\n",
      "  \" = {}.\".format(effective_n_jobs(self.n_jobs)))\n",
      "/Users/glinn/anaconda3/lib/python3.6/site-packages/sklearn/linear_model/logistic.py:432: FutureWarning: Default solver will be changed to 'lbfgs' in 0.22. Specify a solver to silence this warning.\n",
      "  FutureWarning)\n",
      "/Users/glinn/anaconda3/lib/python3.6/site-packages/sklearn/utils/validation.py:724: DataConversionWarning: A column-vector y was passed when a 1d array was expected. Please change the shape of y to (n_samples, ), for example using ravel().\n",
      "  y = column_or_1d(y, warn=True)\n",
      "/Users/glinn/anaconda3/lib/python3.6/site-packages/sklearn/linear_model/logistic.py:1544: UserWarning: 'n_jobs' > 1 does not have any effect when 'solver' is set to 'liblinear'. Got 'n_jobs' = 8.\n",
      "  \" = {}.\".format(effective_n_jobs(self.n_jobs)))\n"
     ]
    },
    {
     "name": "stdout",
     "output_type": "stream",
     "text": [
      "The best validation accuracy is 0.6419140425275948.\n",
      "The best training accuracy is 0.6479340363904047.\n",
      "The best value for C is 0.5222222222222223\n",
      "And, the best model coefficients are [[ 4.64085122e-04 -2.24399877e-01 -1.54625081e+01 -7.43984848e-03\n",
      "   6.68516468e-03 -1.94510851e+00 -6.80423729e-01  1.46267935e-01\n",
      "  -8.69065931e-01 -4.84898233e-01 -3.29375152e-02  1.58204771e+00\n",
      "   0.00000000e+00 -4.70199593e-01  3.51469244e-01 -8.56531316e-01\n",
      "  -3.01055756e-01  1.37228847e+00 -4.82858110e-01  1.95536403e+00\n",
      "   3.89654065e-01 -1.29922511e-01 -9.14145298e-01 -1.44538115e+00\n",
      "   9.67283853e-02 -3.03382300e-01  2.57278008e-01 -1.19093239e+00\n",
      "   5.74487668e-01 -2.65638391e-01 -1.00500865e+00 -2.48668448e-01\n",
      "  -8.81131767e-01 -2.49551338e-01 -1.15502162e+00  7.40245531e-02\n",
      "  -7.55886913e-01 -6.78193835e-01 -8.83044896e-01  5.14516857e-01]].\n"
     ]
    }
   ],
   "source": [
    "C_Main_fine=np.linspace(0.1,2.0,10)\n",
    "Accuracy_Main_fine,Accuracy_train_Main_fine,Coef_Main_fine = TuneParameters(pipeline_LogReg,C_Main_fine,X_train_OneHot_Main,Y_train,X_valid_OneHot_Main,Y_valid)\n",
    "ReportBest(Accuracy_train_Main_fine,Accuracy_Main_fine,C_Main_fine,Coef_Main_fine)"
   ]
  },
  {
   "cell_type": "code",
   "execution_count": 15,
   "metadata": {
    "scrolled": true
   },
   "outputs": [
    {
     "data": {
      "image/png": "[encoded data removed]",
      "text/plain": [
       "<Figure size 432x288 with 1 Axes>"
      ]
     },
     "metadata": {
      "needs_background": "light"
     },
     "output_type": "display_data"
    }
   ],
   "source": [
    "PlotBiasVariance(Accuracy_train_Main_fine,Accuracy_Main_fine,C_Main_fine)\n",
    "plt.savefig('Figures/LogReg/Doc2VecDataSet/BiasVarianceOneHotMainFineTunedC.png')"
   ]
  },
  {
   "cell_type": "markdown",
   "metadata": {},
   "source": [
    "Okay, so in the end, our best result after tuning the complexity of our model is:"
   ]
  },
  {
   "cell_type": "code",
   "execution_count": 16,
   "metadata": {},
   "outputs": [
    {
     "name": "stdout",
     "output_type": "stream",
     "text": [
      "The best validation accuracy is 0.6419140425275948.\n",
      "The best training accuracy is 0.6479340363904047.\n",
      "The best value for C is 0.5222222222222223\n",
      "And, the best model coefficients are [[ 4.64085122e-04 -2.24399877e-01 -1.54625081e+01 -7.43984848e-03\n",
      "   6.68516468e-03 -1.94510851e+00 -6.80423729e-01  1.46267935e-01\n",
      "  -8.69065931e-01 -4.84898233e-01 -3.29375152e-02  1.58204771e+00\n",
      "   0.00000000e+00 -4.70199593e-01  3.51469244e-01 -8.56531316e-01\n",
      "  -3.01055756e-01  1.37228847e+00 -4.82858110e-01  1.95536403e+00\n",
      "   3.89654065e-01 -1.29922511e-01 -9.14145298e-01 -1.44538115e+00\n",
      "   9.67283853e-02 -3.03382300e-01  2.57278008e-01 -1.19093239e+00\n",
      "   5.74487668e-01 -2.65638391e-01 -1.00500865e+00 -2.48668448e-01\n",
      "  -8.81131767e-01 -2.49551338e-01 -1.15502162e+00  7.40245531e-02\n",
      "  -7.55886913e-01 -6.78193835e-01 -8.83044896e-01  5.14516857e-01]].\n"
     ]
    }
   ],
   "source": [
    "ReportBest(Accuracy_train_Main_fine,Accuracy_Main_fine,C_Main_fine,Coef_Main_fine)"
   ]
  },
  {
   "cell_type": "markdown",
   "metadata": {},
   "source": [
    "Second, we look at what happens if we just one hot the sub-categories."
   ]
  },
  {
   "cell_type": "code",
   "execution_count": 17,
   "metadata": {},
   "outputs": [
    {
     "name": "stderr",
     "output_type": "stream",
     "text": [
      "/Users/glinn/anaconda3/lib/python3.6/site-packages/sklearn/linear_model/logistic.py:432: FutureWarning: Default solver will be changed to 'lbfgs' in 0.22. Specify a solver to silence this warning.\n",
      "  FutureWarning)\n",
      "/Users/glinn/anaconda3/lib/python3.6/site-packages/sklearn/utils/validation.py:724: DataConversionWarning: A column-vector y was passed when a 1d array was expected. Please change the shape of y to (n_samples, ), for example using ravel().\n",
      "  y = column_or_1d(y, warn=True)\n",
      "/Users/glinn/anaconda3/lib/python3.6/site-packages/sklearn/linear_model/logistic.py:1544: UserWarning: 'n_jobs' > 1 does not have any effect when 'solver' is set to 'liblinear'. Got 'n_jobs' = 8.\n",
      "  \" = {}.\".format(effective_n_jobs(self.n_jobs)))\n",
      "/Users/glinn/anaconda3/lib/python3.6/site-packages/sklearn/linear_model/logistic.py:432: FutureWarning: Default solver will be changed to 'lbfgs' in 0.22. Specify a solver to silence this warning.\n",
      "  FutureWarning)\n",
      "/Users/glinn/anaconda3/lib/python3.6/site-packages/sklearn/utils/validation.py:724: DataConversionWarning: A column-vector y was passed when a 1d array was expected. Please change the shape of y to (n_samples, ), for example using ravel().\n",
      "  y = column_or_1d(y, warn=True)\n",
      "/Users/glinn/anaconda3/lib/python3.6/site-packages/sklearn/linear_model/logistic.py:1544: UserWarning: 'n_jobs' > 1 does not have any effect when 'solver' is set to 'liblinear'. Got 'n_jobs' = 8.\n",
      "  \" = {}.\".format(effective_n_jobs(self.n_jobs)))\n",
      "/Users/glinn/anaconda3/lib/python3.6/site-packages/sklearn/linear_model/logistic.py:432: FutureWarning: Default solver will be changed to 'lbfgs' in 0.22. Specify a solver to silence this warning.\n",
      "  FutureWarning)\n",
      "/Users/glinn/anaconda3/lib/python3.6/site-packages/sklearn/utils/validation.py:724: DataConversionWarning: A column-vector y was passed when a 1d array was expected. Please change the shape of y to (n_samples, ), for example using ravel().\n",
      "  y = column_or_1d(y, warn=True)\n",
      "/Users/glinn/anaconda3/lib/python3.6/site-packages/sklearn/linear_model/logistic.py:1544: UserWarning: 'n_jobs' > 1 does not have any effect when 'solver' is set to 'liblinear'. Got 'n_jobs' = 8.\n",
      "  \" = {}.\".format(effective_n_jobs(self.n_jobs)))\n",
      "/Users/glinn/anaconda3/lib/python3.6/site-packages/sklearn/linear_model/logistic.py:432: FutureWarning: Default solver will be changed to 'lbfgs' in 0.22. Specify a solver to silence this warning.\n",
      "  FutureWarning)\n",
      "/Users/glinn/anaconda3/lib/python3.6/site-packages/sklearn/utils/validation.py:724: DataConversionWarning: A column-vector y was passed when a 1d array was expected. Please change the shape of y to (n_samples, ), for example using ravel().\n",
      "  y = column_or_1d(y, warn=True)\n",
      "/Users/glinn/anaconda3/lib/python3.6/site-packages/sklearn/linear_model/logistic.py:1544: UserWarning: 'n_jobs' > 1 does not have any effect when 'solver' is set to 'liblinear'. Got 'n_jobs' = 8.\n",
      "  \" = {}.\".format(effective_n_jobs(self.n_jobs)))\n",
      "/Users/glinn/anaconda3/lib/python3.6/site-packages/sklearn/linear_model/logistic.py:432: FutureWarning: Default solver will be changed to 'lbfgs' in 0.22. Specify a solver to silence this warning.\n",
      "  FutureWarning)\n",
      "/Users/glinn/anaconda3/lib/python3.6/site-packages/sklearn/utils/validation.py:724: DataConversionWarning: A column-vector y was passed when a 1d array was expected. Please change the shape of y to (n_samples, ), for example using ravel().\n",
      "  y = column_or_1d(y, warn=True)\n",
      "/Users/glinn/anaconda3/lib/python3.6/site-packages/sklearn/linear_model/logistic.py:1544: UserWarning: 'n_jobs' > 1 does not have any effect when 'solver' is set to 'liblinear'. Got 'n_jobs' = 8.\n",
      "  \" = {}.\".format(effective_n_jobs(self.n_jobs)))\n"
     ]
    },
    {
     "name": "stdout",
     "output_type": "stream",
     "text": [
      "The validation accuracy is [0.65484676 0.66311769 0.66326807 0.66317784 0.66317784].\n",
      "The training accuracy is [0.66058826 0.6698779  0.6698779  0.6698779  0.6698859 ].\n",
      "The best value for C is 10.0\n",
      "And, the best model coefficients are [[ 1.58780987e-02 -2.24852442e-01 -1.52544496e+01 -7.58264346e-03\n",
      "   6.01334436e-03 -1.55803586e+00 -3.45187190e-01  3.93415107e-01\n",
      "  -9.31940054e-01 -4.04610110e-01 -3.05465564e-01  1.15689333e+00\n",
      "  -1.08731803e-01 -3.42440140e-01  6.05705938e-01 -6.00112348e-01\n",
      "   5.62628233e-03  1.47252943e+00 -7.42663078e-02  1.71673884e+00\n",
      "   2.96158762e-01  1.93345920e-01 -8.31839552e-01 -1.37204507e+00\n",
      "   3.09174872e-01  0.00000000e+00 -1.04005786e+00 -3.87994915e-01\n",
      "  -1.09189759e+00 -1.13655194e+00 -5.20380027e-01  7.95157181e-01\n",
      "  -1.12977967e+00 -2.21584236e+00 -5.90527567e-01 -3.49089865e-02\n",
      "   2.55850204e-01 -7.10707778e-01 -1.26067689e+00  3.64695376e-02\n",
      "  -4.10810458e-01  4.56549588e-01 -1.65149164e+00 -1.89049317e-03\n",
      "  -4.97742345e-01 -1.10880357e+00  1.65357874e+00 -1.84720222e-01\n",
      "   7.93501689e-01 -7.45000463e-02  6.31278120e-01  3.36539676e-01\n",
      "  -1.03205639e+00 -3.43839146e-01 -8.06521562e-01  7.17770286e-01\n",
      "  -1.38361451e+00 -9.15845750e-01 -9.70568118e-01 -1.51313260e+00\n",
      "   1.68206094e-01  9.89379814e-01 -1.48729313e-01 -7.22343318e-01\n",
      "  -6.94995802e-02 -1.06915830e-01 -7.37408067e-01 -5.40683064e-01\n",
      "  -1.56051843e+00 -1.18127919e+00 -2.59898830e-01 -4.30606344e-01\n",
      "  -1.37633405e-01 -1.05291160e+00 -2.49751395e-01 -1.38038426e+00\n",
      "  -7.60594635e-01 -7.96317683e-01  2.87496061e-01 -1.03815443e+00\n",
      "  -3.24746368e-01 -4.15737402e-01 -8.54426065e-01 -5.74163528e-01\n",
      "  -1.60490671e+00 -2.64982988e-01 -2.68040133e-01 -7.01121588e-01\n",
      "  -5.88490250e-01 -6.97826753e-01 -2.73168372e-01  5.20942830e-01\n",
      "   2.48237785e-02 -1.55114781e+00 -4.21475505e-01  2.85786649e-01\n",
      "   4.90276063e-01  8.17960536e-01  2.87111170e-01 -9.66616303e-01\n",
      "   6.30813347e-01 -9.44704167e-01 -7.29668258e-01  0.00000000e+00\n",
      "   2.47730043e-01 -6.76124470e-01  5.95611098e-01 -1.73107028e-02\n",
      "   9.55689541e-01 -1.06105841e+00 -2.34522623e-01 -3.42542986e-01\n",
      "  -3.23316178e-01 -2.01627838e+00 -3.04583101e-01  1.22504680e-01\n",
      "  -4.38829677e-01  2.34990398e-01  6.29849492e-02 -1.51783848e+00\n",
      "  -7.98832884e-01 -3.49873902e-01 -1.14867133e+00  1.01469141e-01\n",
      "   6.46431120e-01 -2.00601057e-01 -5.99372142e-01 -1.42845197e+00\n",
      "  -2.18396017e-01 -5.95184368e-01 -1.50147358e+00 -7.34536390e-02\n",
      "   4.10227281e-01 -5.06249384e-01  1.39962758e-01  0.00000000e+00\n",
      "  -1.00480963e+00 -9.70111337e-01  1.11078251e-02  3.78680172e-01\n",
      "  -6.78416403e-01  9.15447296e-02 -1.56859048e-01 -6.77553267e-01\n",
      "  -1.08036126e+00 -1.01129673e-01 -1.31101993e+00  1.42922470e+00\n",
      "  -1.09452416e+00  1.97181384e-01  2.94147858e-01 -3.68691096e-01\n",
      "  -4.32265863e-02 -1.81215688e-01  4.17690102e-01 -5.53962062e-01\n",
      "  -1.49704326e+00  4.85786364e-01  0.00000000e+00 -6.47645434e-02\n",
      "  -6.08362250e-01  7.63613818e-01  2.90117978e-01 -8.48403320e-01\n",
      "  -1.26099593e+00 -6.37991548e-01  6.46439648e-01 -5.65500199e-01\n",
      "  -9.58387629e-01  6.79434147e-01 -4.70467118e-01 -1.67962105e+00\n",
      "  -6.30664612e-01 -8.26876889e-01  5.03661576e-02 -6.80911619e-01\n",
      "  -1.98901980e+00  5.04506791e-01 -5.58794224e-01 -9.89092338e-01\n",
      "  -5.69462521e-01 -1.08523273e-02 -1.20376506e+00 -1.55217518e-01]].\n"
     ]
    }
   ],
   "source": [
    "C_Sub=[0.01,1.0,10.0,100.0,1000.0]\n",
    "Accuracy_Sub,Accuracy_train_Sub,Coef_Sub = TuneParameters(pipeline_LogReg,C_Sub,X_train_OneHot_Sub,Y_train,X_valid_OneHot_Sub,Y_valid)\n",
    "ReportFull(Accuracy_train_Sub,Accuracy_Sub,C_Sub,Coef_Sub)"
   ]
  },
  {
   "cell_type": "code",
   "execution_count": 18,
   "metadata": {},
   "outputs": [
    {
     "data": {
      "image/png": "[encoded data removed]",
      "text/plain": [
       "<Figure size 432x288 with 1 Axes>"
      ]
     },
     "metadata": {
      "needs_background": "light"
     },
     "output_type": "display_data"
    }
   ],
   "source": [
    "PlotBiasVariance(Accuracy_train_Sub,Accuracy_Sub,C_Sub)\n",
    "plt.savefig('Figures/LogReg/Doc2VecDataSet/BiasVarianceOneHotSubCoarseTunedC.png')"
   ]
  },
  {
   "cell_type": "code",
   "execution_count": 19,
   "metadata": {},
   "outputs": [
    {
     "name": "stderr",
     "output_type": "stream",
     "text": [
      "/Users/glinn/anaconda3/lib/python3.6/site-packages/sklearn/linear_model/logistic.py:432: FutureWarning: Default solver will be changed to 'lbfgs' in 0.22. Specify a solver to silence this warning.\n",
      "  FutureWarning)\n",
      "/Users/glinn/anaconda3/lib/python3.6/site-packages/sklearn/utils/validation.py:724: DataConversionWarning: A column-vector y was passed when a 1d array was expected. Please change the shape of y to (n_samples, ), for example using ravel().\n",
      "  y = column_or_1d(y, warn=True)\n",
      "/Users/glinn/anaconda3/lib/python3.6/site-packages/sklearn/linear_model/logistic.py:1544: UserWarning: 'n_jobs' > 1 does not have any effect when 'solver' is set to 'liblinear'. Got 'n_jobs' = 8.\n",
      "  \" = {}.\".format(effective_n_jobs(self.n_jobs)))\n",
      "/Users/glinn/anaconda3/lib/python3.6/site-packages/sklearn/linear_model/logistic.py:432: FutureWarning: Default solver will be changed to 'lbfgs' in 0.22. Specify a solver to silence this warning.\n",
      "  FutureWarning)\n",
      "/Users/glinn/anaconda3/lib/python3.6/site-packages/sklearn/utils/validation.py:724: DataConversionWarning: A column-vector y was passed when a 1d array was expected. Please change the shape of y to (n_samples, ), for example using ravel().\n",
      "  y = column_or_1d(y, warn=True)\n",
      "/Users/glinn/anaconda3/lib/python3.6/site-packages/sklearn/linear_model/logistic.py:1544: UserWarning: 'n_jobs' > 1 does not have any effect when 'solver' is set to 'liblinear'. Got 'n_jobs' = 8.\n",
      "  \" = {}.\".format(effective_n_jobs(self.n_jobs)))\n",
      "/Users/glinn/anaconda3/lib/python3.6/site-packages/sklearn/linear_model/logistic.py:432: FutureWarning: Default solver will be changed to 'lbfgs' in 0.22. Specify a solver to silence this warning.\n",
      "  FutureWarning)\n",
      "/Users/glinn/anaconda3/lib/python3.6/site-packages/sklearn/utils/validation.py:724: DataConversionWarning: A column-vector y was passed when a 1d array was expected. Please change the shape of y to (n_samples, ), for example using ravel().\n",
      "  y = column_or_1d(y, warn=True)\n",
      "/Users/glinn/anaconda3/lib/python3.6/site-packages/sklearn/linear_model/logistic.py:1544: UserWarning: 'n_jobs' > 1 does not have any effect when 'solver' is set to 'liblinear'. Got 'n_jobs' = 8.\n",
      "  \" = {}.\".format(effective_n_jobs(self.n_jobs)))\n",
      "/Users/glinn/anaconda3/lib/python3.6/site-packages/sklearn/linear_model/logistic.py:432: FutureWarning: Default solver will be changed to 'lbfgs' in 0.22. Specify a solver to silence this warning.\n",
      "  FutureWarning)\n",
      "/Users/glinn/anaconda3/lib/python3.6/site-packages/sklearn/utils/validation.py:724: DataConversionWarning: A column-vector y was passed when a 1d array was expected. Please change the shape of y to (n_samples, ), for example using ravel().\n",
      "  y = column_or_1d(y, warn=True)\n",
      "/Users/glinn/anaconda3/lib/python3.6/site-packages/sklearn/linear_model/logistic.py:1544: UserWarning: 'n_jobs' > 1 does not have any effect when 'solver' is set to 'liblinear'. Got 'n_jobs' = 8.\n",
      "  \" = {}.\".format(effective_n_jobs(self.n_jobs)))\n",
      "/Users/glinn/anaconda3/lib/python3.6/site-packages/sklearn/linear_model/logistic.py:432: FutureWarning: Default solver will be changed to 'lbfgs' in 0.22. Specify a solver to silence this warning.\n",
      "  FutureWarning)\n",
      "/Users/glinn/anaconda3/lib/python3.6/site-packages/sklearn/utils/validation.py:724: DataConversionWarning: A column-vector y was passed when a 1d array was expected. Please change the shape of y to (n_samples, ), for example using ravel().\n",
      "  y = column_or_1d(y, warn=True)\n",
      "/Users/glinn/anaconda3/lib/python3.6/site-packages/sklearn/linear_model/logistic.py:1544: UserWarning: 'n_jobs' > 1 does not have any effect when 'solver' is set to 'liblinear'. Got 'n_jobs' = 8.\n",
      "  \" = {}.\".format(effective_n_jobs(self.n_jobs)))\n",
      "/Users/glinn/anaconda3/lib/python3.6/site-packages/sklearn/linear_model/logistic.py:432: FutureWarning: Default solver will be changed to 'lbfgs' in 0.22. Specify a solver to silence this warning.\n",
      "  FutureWarning)\n",
      "/Users/glinn/anaconda3/lib/python3.6/site-packages/sklearn/utils/validation.py:724: DataConversionWarning: A column-vector y was passed when a 1d array was expected. Please change the shape of y to (n_samples, ), for example using ravel().\n",
      "  y = column_or_1d(y, warn=True)\n",
      "/Users/glinn/anaconda3/lib/python3.6/site-packages/sklearn/linear_model/logistic.py:1544: UserWarning: 'n_jobs' > 1 does not have any effect when 'solver' is set to 'liblinear'. Got 'n_jobs' = 8.\n",
      "  \" = {}.\".format(effective_n_jobs(self.n_jobs)))\n",
      "/Users/glinn/anaconda3/lib/python3.6/site-packages/sklearn/linear_model/logistic.py:432: FutureWarning: Default solver will be changed to 'lbfgs' in 0.22. Specify a solver to silence this warning.\n",
      "  FutureWarning)\n",
      "/Users/glinn/anaconda3/lib/python3.6/site-packages/sklearn/utils/validation.py:724: DataConversionWarning: A column-vector y was passed when a 1d array was expected. Please change the shape of y to (n_samples, ), for example using ravel().\n",
      "  y = column_or_1d(y, warn=True)\n",
      "/Users/glinn/anaconda3/lib/python3.6/site-packages/sklearn/linear_model/logistic.py:1544: UserWarning: 'n_jobs' > 1 does not have any effect when 'solver' is set to 'liblinear'. Got 'n_jobs' = 8.\n",
      "  \" = {}.\".format(effective_n_jobs(self.n_jobs)))\n",
      "/Users/glinn/anaconda3/lib/python3.6/site-packages/sklearn/linear_model/logistic.py:432: FutureWarning: Default solver will be changed to 'lbfgs' in 0.22. Specify a solver to silence this warning.\n",
      "  FutureWarning)\n",
      "/Users/glinn/anaconda3/lib/python3.6/site-packages/sklearn/utils/validation.py:724: DataConversionWarning: A column-vector y was passed when a 1d array was expected. Please change the shape of y to (n_samples, ), for example using ravel().\n",
      "  y = column_or_1d(y, warn=True)\n",
      "/Users/glinn/anaconda3/lib/python3.6/site-packages/sklearn/linear_model/logistic.py:1544: UserWarning: 'n_jobs' > 1 does not have any effect when 'solver' is set to 'liblinear'. Got 'n_jobs' = 8.\n",
      "  \" = {}.\".format(effective_n_jobs(self.n_jobs)))\n",
      "/Users/glinn/anaconda3/lib/python3.6/site-packages/sklearn/linear_model/logistic.py:432: FutureWarning: Default solver will be changed to 'lbfgs' in 0.22. Specify a solver to silence this warning.\n",
      "  FutureWarning)\n",
      "/Users/glinn/anaconda3/lib/python3.6/site-packages/sklearn/utils/validation.py:724: DataConversionWarning: A column-vector y was passed when a 1d array was expected. Please change the shape of y to (n_samples, ), for example using ravel().\n",
      "  y = column_or_1d(y, warn=True)\n",
      "/Users/glinn/anaconda3/lib/python3.6/site-packages/sklearn/linear_model/logistic.py:1544: UserWarning: 'n_jobs' > 1 does not have any effect when 'solver' is set to 'liblinear'. Got 'n_jobs' = 8.\n",
      "  \" = {}.\".format(effective_n_jobs(self.n_jobs)))\n",
      "/Users/glinn/anaconda3/lib/python3.6/site-packages/sklearn/linear_model/logistic.py:432: FutureWarning: Default solver will be changed to 'lbfgs' in 0.22. Specify a solver to silence this warning.\n",
      "  FutureWarning)\n",
      "/Users/glinn/anaconda3/lib/python3.6/site-packages/sklearn/utils/validation.py:724: DataConversionWarning: A column-vector y was passed when a 1d array was expected. Please change the shape of y to (n_samples, ), for example using ravel().\n",
      "  y = column_or_1d(y, warn=True)\n",
      "/Users/glinn/anaconda3/lib/python3.6/site-packages/sklearn/linear_model/logistic.py:1544: UserWarning: 'n_jobs' > 1 does not have any effect when 'solver' is set to 'liblinear'. Got 'n_jobs' = 8.\n",
      "  \" = {}.\".format(effective_n_jobs(self.n_jobs)))\n"
     ]
    },
    {
     "name": "stdout",
     "output_type": "stream",
     "text": [
      "The best validation accuracy is 0.6631477638425216.\n",
      "The best training accuracy is 0.6701019379410776.\n",
      "The best value for C is 0.3111111111111111\n",
      "And, the best model coefficients are [[ 1.53743337e-02 -2.24552089e-01 -1.50075807e+01 -7.59532843e-03\n",
      "   5.95735152e-03 -1.49926408e+00 -2.68505736e-01  3.15870834e-01\n",
      "  -8.65634667e-01 -3.52427643e-01 -2.51708438e-01  1.06191747e+00\n",
      "   0.00000000e+00 -2.56256188e-01  6.12600563e-01 -5.58883936e-01\n",
      "   0.00000000e+00  1.36638969e+00 -1.63239347e-02  1.60058514e+00\n",
      "   2.55653659e-01  1.64301618e-01 -7.49373101e-01 -1.31432277e+00\n",
      "   1.28450563e-01  3.51840274e-01 -6.36907003e-01 -6.44449180e-03\n",
      "  -6.74876619e-01 -6.65939772e-01 -1.38676266e-01  1.14574269e+00\n",
      "  -7.50950154e-01 -1.83466737e+00 -1.83837079e-01  3.33972527e-01\n",
      "   6.27612301e-01 -2.83071876e-01 -7.51072523e-01  3.37817653e-01\n",
      "   0.00000000e+00  7.74175409e-01 -1.19773079e+00  3.01941359e-01\n",
      "  -1.18071329e-01 -6.79876806e-01  1.28199319e+00  1.06684387e-01\n",
      "   1.16113119e+00  2.89180136e-01  9.98489405e-01  7.06700794e-01\n",
      "  -5.70063273e-01  7.72169718e-03 -3.89880817e-01  1.08809930e+00\n",
      "  -8.80417546e-01 -5.37359549e-01 -4.67696798e-01 -1.11173907e+00\n",
      "   5.17627952e-01  1.35194687e+00  2.17473427e-01 -3.32498786e-01\n",
      "   2.99835367e-01  2.55599553e-01 -3.55273381e-01 -1.55283859e-01\n",
      "  -9.04418305e-01 -7.74998083e-01  9.28908314e-02  0.00000000e+00\n",
      "   2.19347141e-01 -5.89149869e-01  5.22493772e-02 -9.35075188e-01\n",
      "  -3.69090582e-01 -4.18164996e-01  6.39790843e-01 -6.55537890e-01\n",
      "   4.44234507e-02 -1.01351420e-02 -4.12668106e-01 -2.01354410e-01\n",
      "  -1.21152884e+00  8.46001704e-02  9.29922686e-02 -3.19213783e-01\n",
      "  -1.55699250e-01 -1.75845590e-01  9.07781289e-02  8.84625555e-01\n",
      "   3.86585741e-01 -1.16689866e+00 -3.15381848e-02  6.53698321e-01\n",
      "   8.00406590e-01  1.18966545e+00  6.17074085e-01 -5.27871991e-01\n",
      "   9.95666039e-01 -5.47711344e-01 -3.42188473e-01  3.56516110e-01\n",
      "   5.07786602e-01 -1.49716475e-01  6.12408863e-01  2.88682544e-01\n",
      "   4.93139906e-01 -6.60956749e-01  4.07213133e-02  5.60048697e-03\n",
      "   4.07823105e-02 -1.61288439e+00  0.00000000e+00  4.96098281e-01\n",
      "  -3.84142048e-02  5.91452229e-01  4.30252102e-01 -1.08634435e+00\n",
      "  -4.19173414e-01  1.56798696e-02 -7.47948971e-01  4.63056652e-01\n",
      "   9.99931233e-01  1.60575331e-01 -6.51172728e-02 -8.99243450e-01\n",
      "   1.46684637e-01 -2.14232751e-01 -1.08176167e+00  2.92890267e-01\n",
      "   7.74588419e-01 -1.12238652e-01  5.08831662e-01  1.82711933e-01\n",
      "  -5.94180345e-01 -4.84278839e-01  3.79848742e-01  7.42133516e-01\n",
      "  -2.97536296e-01  4.08299636e-01  1.24674523e-01 -4.80751712e-02\n",
      "  -6.51384323e-01  2.50874604e-01 -9.01138941e-01  1.45364914e+00\n",
      "  -7.14236671e-01  5.29335630e-01  6.66705206e-01  0.00000000e+00\n",
      "   2.98607322e-01  1.79294124e-01  7.90194712e-01 -1.69615089e-01\n",
      "  -1.11231938e+00  8.20004951e-01  3.15578693e-01  2.79031920e-01\n",
      "  -1.36315670e-01  1.13678616e+00  0.00000000e+00 -4.73597083e-01\n",
      "  -8.55174604e-01 -1.88582124e-01  1.02108055e+00 -1.60880572e-01\n",
      "  -4.27001428e-01  8.80942979e-01 -6.56957340e-02 -1.22346451e+00\n",
      "  -1.45255779e-01 -4.51741462e-01  3.99024115e-01 -5.80578397e-02\n",
      "  -1.60604221e+00  8.49097495e-01 -1.82671290e-01 -5.94438536e-01\n",
      "  -7.58469556e-02  3.54484971e-01 -7.92639892e-01  1.71747912e-01]].\n"
     ]
    }
   ],
   "source": [
    "C_Sub_fine=np.linspace(0.1,2.0,10)\n",
    "Accuracy_Sub_fine,Accuracy_train_Sub_fine,Coef_Sub_fine = TuneParameters(pipeline_LogReg,C_Sub_fine,X_train_OneHot_Sub,Y_train,X_valid_OneHot_Sub,Y_valid)\n",
    "ReportBest(Accuracy_train_Sub_fine,Accuracy_Sub_fine,C_Sub_fine,Coef_Sub_fine)"
   ]
  },
  {
   "cell_type": "code",
   "execution_count": 20,
   "metadata": {},
   "outputs": [
    {
     "data": {
      "image/png": "[encoded data removed]",
      "text/plain": [
       "<Figure size 432x288 with 1 Axes>"
      ]
     },
     "metadata": {
      "needs_background": "light"
     },
     "output_type": "display_data"
    }
   ],
   "source": [
    "PlotBiasVariance(Accuracy_train_Sub_fine,Accuracy_Sub_fine,C_Sub_fine)\n",
    "plt.savefig('Figures/LogReg/Doc2VecDataSet/BiasVarianceOneHotSubFineTunedC.png')"
   ]
  },
  {
   "cell_type": "markdown",
   "metadata": {},
   "source": [
    "Okay, so in the end, our best result after tuning the complexity of our model is:"
   ]
  },
  {
   "cell_type": "code",
   "execution_count": 21,
   "metadata": {},
   "outputs": [
    {
     "name": "stdout",
     "output_type": "stream",
     "text": [
      "The best validation accuracy is 0.6631477638425216.\n",
      "The best training accuracy is 0.6701019379410776.\n",
      "The best value for C is 0.3111111111111111\n",
      "And, the best model coefficients are [[ 1.53743337e-02 -2.24552089e-01 -1.50075807e+01 -7.59532843e-03\n",
      "   5.95735152e-03 -1.49926408e+00 -2.68505736e-01  3.15870834e-01\n",
      "  -8.65634667e-01 -3.52427643e-01 -2.51708438e-01  1.06191747e+00\n",
      "   0.00000000e+00 -2.56256188e-01  6.12600563e-01 -5.58883936e-01\n",
      "   0.00000000e+00  1.36638969e+00 -1.63239347e-02  1.60058514e+00\n",
      "   2.55653659e-01  1.64301618e-01 -7.49373101e-01 -1.31432277e+00\n",
      "   1.28450563e-01  3.51840274e-01 -6.36907003e-01 -6.44449180e-03\n",
      "  -6.74876619e-01 -6.65939772e-01 -1.38676266e-01  1.14574269e+00\n",
      "  -7.50950154e-01 -1.83466737e+00 -1.83837079e-01  3.33972527e-01\n",
      "   6.27612301e-01 -2.83071876e-01 -7.51072523e-01  3.37817653e-01\n",
      "   0.00000000e+00  7.74175409e-01 -1.19773079e+00  3.01941359e-01\n",
      "  -1.18071329e-01 -6.79876806e-01  1.28199319e+00  1.06684387e-01\n",
      "   1.16113119e+00  2.89180136e-01  9.98489405e-01  7.06700794e-01\n",
      "  -5.70063273e-01  7.72169718e-03 -3.89880817e-01  1.08809930e+00\n",
      "  -8.80417546e-01 -5.37359549e-01 -4.67696798e-01 -1.11173907e+00\n",
      "   5.17627952e-01  1.35194687e+00  2.17473427e-01 -3.32498786e-01\n",
      "   2.99835367e-01  2.55599553e-01 -3.55273381e-01 -1.55283859e-01\n",
      "  -9.04418305e-01 -7.74998083e-01  9.28908314e-02  0.00000000e+00\n",
      "   2.19347141e-01 -5.89149869e-01  5.22493772e-02 -9.35075188e-01\n",
      "  -3.69090582e-01 -4.18164996e-01  6.39790843e-01 -6.55537890e-01\n",
      "   4.44234507e-02 -1.01351420e-02 -4.12668106e-01 -2.01354410e-01\n",
      "  -1.21152884e+00  8.46001704e-02  9.29922686e-02 -3.19213783e-01\n",
      "  -1.55699250e-01 -1.75845590e-01  9.07781289e-02  8.84625555e-01\n",
      "   3.86585741e-01 -1.16689866e+00 -3.15381848e-02  6.53698321e-01\n",
      "   8.00406590e-01  1.18966545e+00  6.17074085e-01 -5.27871991e-01\n",
      "   9.95666039e-01 -5.47711344e-01 -3.42188473e-01  3.56516110e-01\n",
      "   5.07786602e-01 -1.49716475e-01  6.12408863e-01  2.88682544e-01\n",
      "   4.93139906e-01 -6.60956749e-01  4.07213133e-02  5.60048697e-03\n",
      "   4.07823105e-02 -1.61288439e+00  0.00000000e+00  4.96098281e-01\n",
      "  -3.84142048e-02  5.91452229e-01  4.30252102e-01 -1.08634435e+00\n",
      "  -4.19173414e-01  1.56798696e-02 -7.47948971e-01  4.63056652e-01\n",
      "   9.99931233e-01  1.60575331e-01 -6.51172728e-02 -8.99243450e-01\n",
      "   1.46684637e-01 -2.14232751e-01 -1.08176167e+00  2.92890267e-01\n",
      "   7.74588419e-01 -1.12238652e-01  5.08831662e-01  1.82711933e-01\n",
      "  -5.94180345e-01 -4.84278839e-01  3.79848742e-01  7.42133516e-01\n",
      "  -2.97536296e-01  4.08299636e-01  1.24674523e-01 -4.80751712e-02\n",
      "  -6.51384323e-01  2.50874604e-01 -9.01138941e-01  1.45364914e+00\n",
      "  -7.14236671e-01  5.29335630e-01  6.66705206e-01  0.00000000e+00\n",
      "   2.98607322e-01  1.79294124e-01  7.90194712e-01 -1.69615089e-01\n",
      "  -1.11231938e+00  8.20004951e-01  3.15578693e-01  2.79031920e-01\n",
      "  -1.36315670e-01  1.13678616e+00  0.00000000e+00 -4.73597083e-01\n",
      "  -8.55174604e-01 -1.88582124e-01  1.02108055e+00 -1.60880572e-01\n",
      "  -4.27001428e-01  8.80942979e-01 -6.56957340e-02 -1.22346451e+00\n",
      "  -1.45255779e-01 -4.51741462e-01  3.99024115e-01 -5.80578397e-02\n",
      "  -1.60604221e+00  8.49097495e-01 -1.82671290e-01 -5.94438536e-01\n",
      "  -7.58469556e-02  3.54484971e-01 -7.92639892e-01  1.71747912e-01]].\n"
     ]
    }
   ],
   "source": [
    "ReportBest(Accuracy_train_Sub_fine,Accuracy_Sub_fine,C_Sub_fine,Coef_Sub_fine)"
   ]
  },
  {
   "cell_type": "markdown",
   "metadata": {},
   "source": [
    "Now, let's try one hot encoding both: "
   ]
  },
  {
   "cell_type": "code",
   "execution_count": 22,
   "metadata": {
    "scrolled": false
   },
   "outputs": [
    {
     "name": "stderr",
     "output_type": "stream",
     "text": [
      "/Users/glinn/anaconda3/lib/python3.6/site-packages/sklearn/linear_model/logistic.py:432: FutureWarning: Default solver will be changed to 'lbfgs' in 0.22. Specify a solver to silence this warning.\n",
      "  FutureWarning)\n",
      "/Users/glinn/anaconda3/lib/python3.6/site-packages/sklearn/utils/validation.py:724: DataConversionWarning: A column-vector y was passed when a 1d array was expected. Please change the shape of y to (n_samples, ), for example using ravel().\n",
      "  y = column_or_1d(y, warn=True)\n",
      "/Users/glinn/anaconda3/lib/python3.6/site-packages/sklearn/linear_model/logistic.py:1544: UserWarning: 'n_jobs' > 1 does not have any effect when 'solver' is set to 'liblinear'. Got 'n_jobs' = 8.\n",
      "  \" = {}.\".format(effective_n_jobs(self.n_jobs)))\n",
      "/Users/glinn/anaconda3/lib/python3.6/site-packages/sklearn/linear_model/logistic.py:432: FutureWarning: Default solver will be changed to 'lbfgs' in 0.22. Specify a solver to silence this warning.\n",
      "  FutureWarning)\n",
      "/Users/glinn/anaconda3/lib/python3.6/site-packages/sklearn/utils/validation.py:724: DataConversionWarning: A column-vector y was passed when a 1d array was expected. Please change the shape of y to (n_samples, ), for example using ravel().\n",
      "  y = column_or_1d(y, warn=True)\n",
      "/Users/glinn/anaconda3/lib/python3.6/site-packages/sklearn/linear_model/logistic.py:1544: UserWarning: 'n_jobs' > 1 does not have any effect when 'solver' is set to 'liblinear'. Got 'n_jobs' = 8.\n",
      "  \" = {}.\".format(effective_n_jobs(self.n_jobs)))\n",
      "/Users/glinn/anaconda3/lib/python3.6/site-packages/sklearn/linear_model/logistic.py:432: FutureWarning: Default solver will be changed to 'lbfgs' in 0.22. Specify a solver to silence this warning.\n",
      "  FutureWarning)\n",
      "/Users/glinn/anaconda3/lib/python3.6/site-packages/sklearn/utils/validation.py:724: DataConversionWarning: A column-vector y was passed when a 1d array was expected. Please change the shape of y to (n_samples, ), for example using ravel().\n",
      "  y = column_or_1d(y, warn=True)\n",
      "/Users/glinn/anaconda3/lib/python3.6/site-packages/sklearn/linear_model/logistic.py:1544: UserWarning: 'n_jobs' > 1 does not have any effect when 'solver' is set to 'liblinear'. Got 'n_jobs' = 8.\n",
      "  \" = {}.\".format(effective_n_jobs(self.n_jobs)))\n",
      "/Users/glinn/anaconda3/lib/python3.6/site-packages/sklearn/linear_model/logistic.py:432: FutureWarning: Default solver will be changed to 'lbfgs' in 0.22. Specify a solver to silence this warning.\n",
      "  FutureWarning)\n",
      "/Users/glinn/anaconda3/lib/python3.6/site-packages/sklearn/utils/validation.py:724: DataConversionWarning: A column-vector y was passed when a 1d array was expected. Please change the shape of y to (n_samples, ), for example using ravel().\n",
      "  y = column_or_1d(y, warn=True)\n",
      "/Users/glinn/anaconda3/lib/python3.6/site-packages/sklearn/linear_model/logistic.py:1544: UserWarning: 'n_jobs' > 1 does not have any effect when 'solver' is set to 'liblinear'. Got 'n_jobs' = 8.\n",
      "  \" = {}.\".format(effective_n_jobs(self.n_jobs)))\n",
      "/Users/glinn/anaconda3/lib/python3.6/site-packages/sklearn/linear_model/logistic.py:432: FutureWarning: Default solver will be changed to 'lbfgs' in 0.22. Specify a solver to silence this warning.\n",
      "  FutureWarning)\n",
      "/Users/glinn/anaconda3/lib/python3.6/site-packages/sklearn/utils/validation.py:724: DataConversionWarning: A column-vector y was passed when a 1d array was expected. Please change the shape of y to (n_samples, ), for example using ravel().\n",
      "  y = column_or_1d(y, warn=True)\n",
      "/Users/glinn/anaconda3/lib/python3.6/site-packages/sklearn/linear_model/logistic.py:1544: UserWarning: 'n_jobs' > 1 does not have any effect when 'solver' is set to 'liblinear'. Got 'n_jobs' = 8.\n",
      "  \" = {}.\".format(effective_n_jobs(self.n_jobs)))\n",
      "/Users/glinn/anaconda3/lib/python3.6/site-packages/sklearn/linear_model/logistic.py:432: FutureWarning: Default solver will be changed to 'lbfgs' in 0.22. Specify a solver to silence this warning.\n",
      "  FutureWarning)\n",
      "/Users/glinn/anaconda3/lib/python3.6/site-packages/sklearn/utils/validation.py:724: DataConversionWarning: A column-vector y was passed when a 1d array was expected. Please change the shape of y to (n_samples, ), for example using ravel().\n",
      "  y = column_or_1d(y, warn=True)\n",
      "/Users/glinn/anaconda3/lib/python3.6/site-packages/sklearn/linear_model/logistic.py:1544: UserWarning: 'n_jobs' > 1 does not have any effect when 'solver' is set to 'liblinear'. Got 'n_jobs' = 8.\n",
      "  \" = {}.\".format(effective_n_jobs(self.n_jobs)))\n"
     ]
    },
    {
     "name": "stdout",
     "output_type": "stream",
     "text": [
      "The validation accuracy is [0.6571927  0.66278685 0.66308761 0.66314776 0.66314776 0.66314776].\n",
      "The training accuracy is [0.66296068 0.67015395 0.67005793 0.67009794 0.67005393 0.67006993].\n",
      "The best value for C is 100.0\n",
      "And, the best model coefficients are [[-2.24914469e-01 -1.52449106e+01 -7.54717185e-03  6.00606232e-03\n",
      "  -1.56034759e+00 -3.48073680e-01  3.84487412e-01 -9.19893485e-01\n",
      "  -4.04019602e-01 -2.90295130e-01  1.14883618e+00 -9.62975178e-02\n",
      "  -3.45739905e-01  5.92643271e-01 -6.09110738e-01 -5.98650953e-03\n",
      "   1.46691112e+00 -7.90772004e-02  1.71437920e+00  2.97014317e-01\n",
      "   1.87324491e-01 -8.38368373e-01 -1.36746257e+00  3.24409795e-01\n",
      "  -2.44320532e-01  2.96728098e-01 -4.32809079e-01 -3.13265075e-01\n",
      "  -2.72335230e-01 -1.09850288e+00 -2.73311003e-01 -3.47927427e-01\n",
      "  -5.22739494e-02 -1.21699061e-01 -2.70145439e-01 -4.24328225e-01\n",
      "  -5.17967023e-01 -7.62397043e-01  5.40809917e-01  4.69968781e-01\n",
      "  -8.43228152e-01  2.78354741e-01 -1.23558584e+00 -1.05069570e+00\n",
      "  -6.62635559e-01  5.30481279e-01 -4.63019540e-01 -1.75867736e+00\n",
      "  -7.66509158e-01 -3.01104233e-01  4.53999179e-01 -9.58127073e-01\n",
      "  -1.31597688e+00 -4.23721104e-02 -2.14416003e-01  9.14633580e-01\n",
      "  -1.70052282e+00 -2.70122516e-01 -3.00003551e-01 -4.43637721e-01\n",
      "   1.59931858e+00 -3.61693889e-01  7.12524249e-01 -2.34374993e-01\n",
      "  -1.59075898e-01 -4.54352842e-01 -1.08643216e+00 -6.10493642e-01\n",
      "  -8.59077572e-01  6.36545050e-01 -7.20123585e-01 -9.62395887e-01\n",
      "  -1.02076365e+00 -1.56039958e+00  6.25674420e-01  8.40466742e-01\n",
      "  -3.24322425e-01 -9.89107086e-01 -2.11464594e-01 -2.49502071e-01\n",
      "  -7.88830644e-01 -6.22474571e-01 -1.61592517e+00 -1.39480391e+00\n",
      "  -6.97268909e-01  2.30676117e-02 -2.19527453e-01 -1.19786559e+00\n",
      "  -3.93563525e-01 -1.43374286e+00 -8.12194873e-01 -1.29418224e-01\n",
      "  -2.95308822e-01 -8.40082041e-01 -4.66709484e-01 -3.27733944e-01\n",
      "  -3.98827793e-01 -6.25378652e-01 -1.65674678e+00  4.00734020e-01\n",
      "   1.88541202e-01 -1.03306091e+00 -9.22460701e-01 -7.48639174e-01\n",
      "  -4.48387134e-01 -2.69454721e-01  4.81926814e-01 -1.63282206e+00\n",
      "  -5.63853002e-01  1.98137665e-02 -3.36191003e-01  7.36632181e-01\n",
      "   2.22055770e-02 -1.14394222e+00  5.49906676e-01 -2.78480067e-01\n",
      "  -9.75890424e-01 -3.38063897e-02  2.04693132e-01 -7.62015712e-01\n",
      "   6.26846781e-01  1.78424923e-01  1.18068486e+00 -1.39359248e+00\n",
      "   2.20101560e-01 -4.24717523e-01 -5.89660599e-01 -2.34889997e+00\n",
      "  -4.50029992e-01  4.10885875e-02 -5.81679948e-01 -5.92902332e-01\n",
      "  -7.88632010e-02 -1.43086934e+00 -6.01060025e-01 -6.15975926e-01\n",
      "  -1.06086200e+00 -1.64007603e-01  4.97750432e-01 -2.86900763e-03\n",
      "   6.13139974e-02 -1.67894769e+00 -1.30109523e-01 -5.06595734e-01\n",
      "  -1.41405694e+00 -4.05412884e-01 -4.17945798e-01 -3.08484729e-01\n",
      "   5.86858278e-02 -5.11215265e-02 -1.25161686e+00 -1.01981929e+00\n",
      "  -1.64699350e-01  1.12849337e-01 -4.80723531e-01  1.19340159e-02\n",
      "  -4.91370732e-01 -7.31527123e-01 -1.16341833e+00  9.61019739e-02\n",
      "  -6.44960174e-01  1.29201176e+00 -1.14691463e+00  6.55532369e-01\n",
      "   2.12775640e-01 -5.14281116e-01 -1.86047586e-01 -4.47804316e-01\n",
      "   2.75807815e-01 -6.06361874e-01 -1.03994330e+00  9.43848375e-01\n",
      "   4.70622829e-01 -3.44324657e-01 -6.57896959e-01  4.31985290e-01\n",
      "   2.97233571e-01 -3.91178457e-01 -1.40389200e+00 -9.06625854e-01\n",
      "  -1.81933441e-01 -7.08365387e-01 -7.65200539e-01  5.09495623e-01\n",
      "  -5.23714514e-01 -1.92803969e+00 -9.00190498e-01 -1.15855476e+00\n",
      "   5.07855337e-01 -7.34703695e-01 -1.75491675e+00 -2.85465367e-01\n",
      "  -7.00726018e-01 -1.03620867e+00 -7.22669320e-01 -9.24869679e-02\n",
      "  -1.00650071e+00  4.11599133e-02]].\n"
     ]
    }
   ],
   "source": [
    "C_Both=[0.01,1.0,10.0,100.0,1000.0,2000.0]\n",
    "Accuracy_Both,Accuracy_train_Both,Coef_Both = TuneParameters(pipeline_LogReg,C_Both,X_train_OneHot_Both,Y_train,X_valid_OneHot_Both,Y_valid)\n",
    "ReportFull(Accuracy_train_Both,Accuracy_Both,C_Both,Coef_Both)"
   ]
  },
  {
   "cell_type": "code",
   "execution_count": 23,
   "metadata": {},
   "outputs": [
    {
     "data": {
      "image/png": "[encoded data removed]",
      "text/plain": [
       "<Figure size 432x288 with 1 Axes>"
      ]
     },
     "metadata": {
      "needs_background": "light"
     },
     "output_type": "display_data"
    }
   ],
   "source": [
    "PlotBiasVariance(Accuracy_train_Both,Accuracy_Both,C_Both)\n",
    "plt.savefig('Figures/LogReg/Doc2VecDataSet/BiasVarianceOneHotBothCoarseTunedC.png')"
   ]
  },
  {
   "cell_type": "code",
   "execution_count": 24,
   "metadata": {},
   "outputs": [
    {
     "name": "stderr",
     "output_type": "stream",
     "text": [
      "/Users/glinn/anaconda3/lib/python3.6/site-packages/sklearn/linear_model/logistic.py:432: FutureWarning: Default solver will be changed to 'lbfgs' in 0.22. Specify a solver to silence this warning.\n",
      "  FutureWarning)\n",
      "/Users/glinn/anaconda3/lib/python3.6/site-packages/sklearn/utils/validation.py:724: DataConversionWarning: A column-vector y was passed when a 1d array was expected. Please change the shape of y to (n_samples, ), for example using ravel().\n",
      "  y = column_or_1d(y, warn=True)\n",
      "/Users/glinn/anaconda3/lib/python3.6/site-packages/sklearn/linear_model/logistic.py:1544: UserWarning: 'n_jobs' > 1 does not have any effect when 'solver' is set to 'liblinear'. Got 'n_jobs' = 8.\n",
      "  \" = {}.\".format(effective_n_jobs(self.n_jobs)))\n",
      "/Users/glinn/anaconda3/lib/python3.6/site-packages/sklearn/linear_model/logistic.py:432: FutureWarning: Default solver will be changed to 'lbfgs' in 0.22. Specify a solver to silence this warning.\n",
      "  FutureWarning)\n",
      "/Users/glinn/anaconda3/lib/python3.6/site-packages/sklearn/utils/validation.py:724: DataConversionWarning: A column-vector y was passed when a 1d array was expected. Please change the shape of y to (n_samples, ), for example using ravel().\n",
      "  y = column_or_1d(y, warn=True)\n",
      "/Users/glinn/anaconda3/lib/python3.6/site-packages/sklearn/linear_model/logistic.py:1544: UserWarning: 'n_jobs' > 1 does not have any effect when 'solver' is set to 'liblinear'. Got 'n_jobs' = 8.\n",
      "  \" = {}.\".format(effective_n_jobs(self.n_jobs)))\n",
      "/Users/glinn/anaconda3/lib/python3.6/site-packages/sklearn/linear_model/logistic.py:432: FutureWarning: Default solver will be changed to 'lbfgs' in 0.22. Specify a solver to silence this warning.\n",
      "  FutureWarning)\n",
      "/Users/glinn/anaconda3/lib/python3.6/site-packages/sklearn/utils/validation.py:724: DataConversionWarning: A column-vector y was passed when a 1d array was expected. Please change the shape of y to (n_samples, ), for example using ravel().\n",
      "  y = column_or_1d(y, warn=True)\n",
      "/Users/glinn/anaconda3/lib/python3.6/site-packages/sklearn/linear_model/logistic.py:1544: UserWarning: 'n_jobs' > 1 does not have any effect when 'solver' is set to 'liblinear'. Got 'n_jobs' = 8.\n",
      "  \" = {}.\".format(effective_n_jobs(self.n_jobs)))\n",
      "/Users/glinn/anaconda3/lib/python3.6/site-packages/sklearn/linear_model/logistic.py:432: FutureWarning: Default solver will be changed to 'lbfgs' in 0.22. Specify a solver to silence this warning.\n",
      "  FutureWarning)\n",
      "/Users/glinn/anaconda3/lib/python3.6/site-packages/sklearn/utils/validation.py:724: DataConversionWarning: A column-vector y was passed when a 1d array was expected. Please change the shape of y to (n_samples, ), for example using ravel().\n",
      "  y = column_or_1d(y, warn=True)\n",
      "/Users/glinn/anaconda3/lib/python3.6/site-packages/sklearn/linear_model/logistic.py:1544: UserWarning: 'n_jobs' > 1 does not have any effect when 'solver' is set to 'liblinear'. Got 'n_jobs' = 8.\n",
      "  \" = {}.\".format(effective_n_jobs(self.n_jobs)))\n",
      "/Users/glinn/anaconda3/lib/python3.6/site-packages/sklearn/linear_model/logistic.py:432: FutureWarning: Default solver will be changed to 'lbfgs' in 0.22. Specify a solver to silence this warning.\n",
      "  FutureWarning)\n",
      "/Users/glinn/anaconda3/lib/python3.6/site-packages/sklearn/utils/validation.py:724: DataConversionWarning: A column-vector y was passed when a 1d array was expected. Please change the shape of y to (n_samples, ), for example using ravel().\n",
      "  y = column_or_1d(y, warn=True)\n",
      "/Users/glinn/anaconda3/lib/python3.6/site-packages/sklearn/linear_model/logistic.py:1544: UserWarning: 'n_jobs' > 1 does not have any effect when 'solver' is set to 'liblinear'. Got 'n_jobs' = 8.\n",
      "  \" = {}.\".format(effective_n_jobs(self.n_jobs)))\n",
      "/Users/glinn/anaconda3/lib/python3.6/site-packages/sklearn/linear_model/logistic.py:432: FutureWarning: Default solver will be changed to 'lbfgs' in 0.22. Specify a solver to silence this warning.\n",
      "  FutureWarning)\n",
      "/Users/glinn/anaconda3/lib/python3.6/site-packages/sklearn/utils/validation.py:724: DataConversionWarning: A column-vector y was passed when a 1d array was expected. Please change the shape of y to (n_samples, ), for example using ravel().\n",
      "  y = column_or_1d(y, warn=True)\n",
      "/Users/glinn/anaconda3/lib/python3.6/site-packages/sklearn/linear_model/logistic.py:1544: UserWarning: 'n_jobs' > 1 does not have any effect when 'solver' is set to 'liblinear'. Got 'n_jobs' = 8.\n",
      "  \" = {}.\".format(effective_n_jobs(self.n_jobs)))\n",
      "/Users/glinn/anaconda3/lib/python3.6/site-packages/sklearn/linear_model/logistic.py:432: FutureWarning: Default solver will be changed to 'lbfgs' in 0.22. Specify a solver to silence this warning.\n",
      "  FutureWarning)\n",
      "/Users/glinn/anaconda3/lib/python3.6/site-packages/sklearn/utils/validation.py:724: DataConversionWarning: A column-vector y was passed when a 1d array was expected. Please change the shape of y to (n_samples, ), for example using ravel().\n",
      "  y = column_or_1d(y, warn=True)\n",
      "/Users/glinn/anaconda3/lib/python3.6/site-packages/sklearn/linear_model/logistic.py:1544: UserWarning: 'n_jobs' > 1 does not have any effect when 'solver' is set to 'liblinear'. Got 'n_jobs' = 8.\n",
      "  \" = {}.\".format(effective_n_jobs(self.n_jobs)))\n",
      "/Users/glinn/anaconda3/lib/python3.6/site-packages/sklearn/linear_model/logistic.py:432: FutureWarning: Default solver will be changed to 'lbfgs' in 0.22. Specify a solver to silence this warning.\n",
      "  FutureWarning)\n",
      "/Users/glinn/anaconda3/lib/python3.6/site-packages/sklearn/utils/validation.py:724: DataConversionWarning: A column-vector y was passed when a 1d array was expected. Please change the shape of y to (n_samples, ), for example using ravel().\n",
      "  y = column_or_1d(y, warn=True)\n",
      "/Users/glinn/anaconda3/lib/python3.6/site-packages/sklearn/linear_model/logistic.py:1544: UserWarning: 'n_jobs' > 1 does not have any effect when 'solver' is set to 'liblinear'. Got 'n_jobs' = 8.\n",
      "  \" = {}.\".format(effective_n_jobs(self.n_jobs)))\n",
      "/Users/glinn/anaconda3/lib/python3.6/site-packages/sklearn/linear_model/logistic.py:432: FutureWarning: Default solver will be changed to 'lbfgs' in 0.22. Specify a solver to silence this warning.\n",
      "  FutureWarning)\n",
      "/Users/glinn/anaconda3/lib/python3.6/site-packages/sklearn/utils/validation.py:724: DataConversionWarning: A column-vector y was passed when a 1d array was expected. Please change the shape of y to (n_samples, ), for example using ravel().\n",
      "  y = column_or_1d(y, warn=True)\n",
      "/Users/glinn/anaconda3/lib/python3.6/site-packages/sklearn/linear_model/logistic.py:1544: UserWarning: 'n_jobs' > 1 does not have any effect when 'solver' is set to 'liblinear'. Got 'n_jobs' = 8.\n",
      "  \" = {}.\".format(effective_n_jobs(self.n_jobs)))\n",
      "/Users/glinn/anaconda3/lib/python3.6/site-packages/sklearn/linear_model/logistic.py:432: FutureWarning: Default solver will be changed to 'lbfgs' in 0.22. Specify a solver to silence this warning.\n",
      "  FutureWarning)\n",
      "/Users/glinn/anaconda3/lib/python3.6/site-packages/sklearn/utils/validation.py:724: DataConversionWarning: A column-vector y was passed when a 1d array was expected. Please change the shape of y to (n_samples, ), for example using ravel().\n",
      "  y = column_or_1d(y, warn=True)\n",
      "/Users/glinn/anaconda3/lib/python3.6/site-packages/sklearn/linear_model/logistic.py:1544: UserWarning: 'n_jobs' > 1 does not have any effect when 'solver' is set to 'liblinear'. Got 'n_jobs' = 8.\n",
      "  \" = {}.\".format(effective_n_jobs(self.n_jobs)))\n"
     ]
    },
    {
     "name": "stdout",
     "output_type": "stream",
     "text": [
      "The best validation accuracy is 0.6631477638425216.\n",
      "The best training accuracy is 0.6700939365328298.\n",
      "The best value for C is 200.0\n",
      "And, the best model coefficients are [[-2.24904111e-01 -1.52464671e+01 -7.53312337e-03  6.00308190e-03\n",
      "  -1.56073592e+00 -3.47914119e-01  3.84271175e-01 -9.19603990e-01\n",
      "  -4.04182668e-01 -2.90444859e-01  1.14817371e+00 -9.66572823e-02\n",
      "  -3.45150585e-01  5.92396601e-01 -6.09483650e-01 -5.54566917e-03\n",
      "   1.46825293e+00 -7.91581293e-02  1.71396410e+00  2.97306334e-01\n",
      "   1.87039585e-01 -8.38123254e-01 -1.36895236e+00  3.24721533e-01\n",
      "  -2.89324952e-01  2.16115920e-01 -8.48775381e-01 -3.07026501e-01\n",
      "  -1.72807559e-01 -7.66585218e-01 -3.25838784e-01 -3.36231277e-01\n",
      "  -2.02963500e-01  2.92552536e-01 -7.40498158e-02 -5.64926450e-01\n",
      "  -5.98822855e-01 -3.48212482e-01  5.00287975e-01  7.89652525e-02\n",
      "  -7.39323593e-01 -3.04336261e-02 -1.15968207e+00 -8.87080538e-01\n",
      "  -5.87010262e-01  6.34996608e-01 -7.71823295e-01 -2.14976227e+00\n",
      "  -8.42930844e-01 -2.32996901e-01  5.57918034e-01 -1.34934017e+00\n",
      "  -1.30536663e+00 -2.15689050e-01 -1.10613408e-01  5.23714430e-01\n",
      "  -1.26155161e+00 -2.02078948e-01 -1.96057455e-01 -7.52509108e-01\n",
      "   1.42769102e+00 -4.38192797e-01  5.39391508e-01 -1.61130465e-01\n",
      "  -5.41765295e-02 -3.49183301e-01 -1.07494333e+00 -5.42425073e-01\n",
      "  -8.48339622e-01  4.63316596e-01 -1.02914139e+00 -5.23434427e-01\n",
      "  -5.82048275e-01 -1.12149438e+00  2.34674351e-01  8.57541426e-01\n",
      "  -4.00690123e-01 -9.21018752e-01 -1.35959684e-01 -1.73529372e-01\n",
      "  -7.78008762e-01 -7.95689765e-01 -1.17736429e+00 -1.36050081e+00\n",
      "  -6.26913662e-01 -3.67509653e-01 -3.92783442e-01 -1.12239218e+00\n",
      "  -3.18026353e-01 -1.42327168e+00 -8.01381455e-01 -4.38232589e-01\n",
      "  -2.27287974e-01 -7.35969080e-01 -3.91054268e-01 -1.64096197e-01\n",
      "  -7.89968920e-01 -6.14764880e-01 -1.64597137e+00  9.19548705e-02\n",
      "  -2.02423760e-01 -8.59250430e-01 -7.48698203e-01 -3.09783111e-01\n",
      "  -5.24811867e-01 -1.66051592e-01  9.09357708e-02 -1.80600653e+00\n",
      "  -4.88225716e-01  8.78822385e-02 -2.72616887e-01  5.63432028e-01\n",
      "   9.03831045e-02 -1.22046502e+00  3.76706744e-01 -5.87339098e-01\n",
      "  -1.36703443e+00 -2.07050778e-01  6.43810436e-01 -9.35467520e-01\n",
      "   9.75690677e-01  2.82706545e-01  1.28634451e+00 -1.21979809e+00\n",
      "  -1.70496667e-01 -5.97756775e-01 -5.21568249e-01 -2.17510162e+00\n",
      "  -3.74365656e-01 -1.32101565e-01 -5.06068042e-01 -5.29147483e-01\n",
      "  -3.20546571e-03 -1.26722194e+00 -4.97130054e-01 -5.47877352e-01\n",
      "  -8.97152214e-01 -9.59331338e-02  5.14786129e-01  1.00948298e-01\n",
      "  -2.46682461e-01 -2.07029664e+00  3.35951732e-02 -3.42871157e-01\n",
      "  -1.25037811e+00 -2.31618784e-01 -3.54296224e-01 -2.04585424e-01\n",
      "  -1.14521674e-01  3.86972372e-01 -1.64279336e+00 -5.81080566e-01\n",
      "  -2.41047915e-01  1.80982884e-01 -3.76553070e-01 -1.61004967e-01\n",
      "  -3.17647231e-01 -2.93041785e-01 -1.33666401e+00  2.00096099e-01\n",
      "  -9.53843494e-01  1.30897774e+00 -1.13525427e+00  2.64550643e-01\n",
      "   3.98173549e-02 -4.38787108e-01 -1.10561821e-01 -3.79711763e-01\n",
      "   3.51454142e-01 -5.94722111e-01 -1.43100933e+00  5.52909518e-01\n",
      "   7.96609729e-02 -3.17784640e-01 -2.19117031e-01  6.05830488e-01\n",
      "   7.39118975e-01 -7.82238137e-01 -1.32829092e+00 -8.38625552e-01\n",
      "  -1.18307906e-01 -6.32764636e-01 -6.61525845e-01  4.33392569e-01\n",
      "  -5.12078924e-01 -2.31926336e+00 -8.32256389e-01 -9.84758675e-01\n",
      "   1.16876694e-01 -2.96147107e-01 -2.14602860e+00 -1.80289550e-01\n",
      "  -6.25086361e-01 -5.97283665e-01 -7.05848987e-01 -2.65695095e-01\n",
      "  -9.02820015e-01  1.45132984e-01]].\n"
     ]
    }
   ],
   "source": [
    "C_Both_fine=np.linspace(200,1900,10)\n",
    "Accuracy_Both_fine,Accuracy_train_Both_fine,Coef_Both_fine = TuneParameters(pipeline_LogReg,C_Both_fine,X_train_OneHot_Both,Y_train,X_valid_OneHot_Both,Y_valid)\n",
    "ReportBest(Accuracy_train_Both_fine,Accuracy_Both_fine,C_Both_fine,Coef_Both_fine)"
   ]
  },
  {
   "cell_type": "code",
   "execution_count": 25,
   "metadata": {},
   "outputs": [
    {
     "data": {
      "image/png": "[encoded data removed]",
      "text/plain": [
       "<Figure size 432x288 with 1 Axes>"
      ]
     },
     "metadata": {
      "needs_background": "light"
     },
     "output_type": "display_data"
    }
   ],
   "source": [
    "PlotBiasVariance(Accuracy_train_Both_fine,Accuracy_Both_fine,C_Both_fine)\n",
    "plt.savefig('Figures/LogReg/Doc2VecDataSet/BiasVarianceOneHotBothFineTunedC.png')"
   ]
  },
  {
   "cell_type": "markdown",
   "metadata": {},
   "source": [
    "Okay, so in the end, our best result after tuning the complexity of our model is:"
   ]
  },
  {
   "cell_type": "code",
   "execution_count": 26,
   "metadata": {},
   "outputs": [
    {
     "name": "stdout",
     "output_type": "stream",
     "text": [
      "The best validation accuracy is 0.6631477638425216.\n",
      "The best training accuracy is 0.6700939365328298.\n",
      "The best value for C is 200.0\n",
      "And, the best model coefficients are [[-2.24904111e-01 -1.52464671e+01 -7.53312337e-03  6.00308190e-03\n",
      "  -1.56073592e+00 -3.47914119e-01  3.84271175e-01 -9.19603990e-01\n",
      "  -4.04182668e-01 -2.90444859e-01  1.14817371e+00 -9.66572823e-02\n",
      "  -3.45150585e-01  5.92396601e-01 -6.09483650e-01 -5.54566917e-03\n",
      "   1.46825293e+00 -7.91581293e-02  1.71396410e+00  2.97306334e-01\n",
      "   1.87039585e-01 -8.38123254e-01 -1.36895236e+00  3.24721533e-01\n",
      "  -2.89324952e-01  2.16115920e-01 -8.48775381e-01 -3.07026501e-01\n",
      "  -1.72807559e-01 -7.66585218e-01 -3.25838784e-01 -3.36231277e-01\n",
      "  -2.02963500e-01  2.92552536e-01 -7.40498158e-02 -5.64926450e-01\n",
      "  -5.98822855e-01 -3.48212482e-01  5.00287975e-01  7.89652525e-02\n",
      "  -7.39323593e-01 -3.04336261e-02 -1.15968207e+00 -8.87080538e-01\n",
      "  -5.87010262e-01  6.34996608e-01 -7.71823295e-01 -2.14976227e+00\n",
      "  -8.42930844e-01 -2.32996901e-01  5.57918034e-01 -1.34934017e+00\n",
      "  -1.30536663e+00 -2.15689050e-01 -1.10613408e-01  5.23714430e-01\n",
      "  -1.26155161e+00 -2.02078948e-01 -1.96057455e-01 -7.52509108e-01\n",
      "   1.42769102e+00 -4.38192797e-01  5.39391508e-01 -1.61130465e-01\n",
      "  -5.41765295e-02 -3.49183301e-01 -1.07494333e+00 -5.42425073e-01\n",
      "  -8.48339622e-01  4.63316596e-01 -1.02914139e+00 -5.23434427e-01\n",
      "  -5.82048275e-01 -1.12149438e+00  2.34674351e-01  8.57541426e-01\n",
      "  -4.00690123e-01 -9.21018752e-01 -1.35959684e-01 -1.73529372e-01\n",
      "  -7.78008762e-01 -7.95689765e-01 -1.17736429e+00 -1.36050081e+00\n",
      "  -6.26913662e-01 -3.67509653e-01 -3.92783442e-01 -1.12239218e+00\n",
      "  -3.18026353e-01 -1.42327168e+00 -8.01381455e-01 -4.38232589e-01\n",
      "  -2.27287974e-01 -7.35969080e-01 -3.91054268e-01 -1.64096197e-01\n",
      "  -7.89968920e-01 -6.14764880e-01 -1.64597137e+00  9.19548705e-02\n",
      "  -2.02423760e-01 -8.59250430e-01 -7.48698203e-01 -3.09783111e-01\n",
      "  -5.24811867e-01 -1.66051592e-01  9.09357708e-02 -1.80600653e+00\n",
      "  -4.88225716e-01  8.78822385e-02 -2.72616887e-01  5.63432028e-01\n",
      "   9.03831045e-02 -1.22046502e+00  3.76706744e-01 -5.87339098e-01\n",
      "  -1.36703443e+00 -2.07050778e-01  6.43810436e-01 -9.35467520e-01\n",
      "   9.75690677e-01  2.82706545e-01  1.28634451e+00 -1.21979809e+00\n",
      "  -1.70496667e-01 -5.97756775e-01 -5.21568249e-01 -2.17510162e+00\n",
      "  -3.74365656e-01 -1.32101565e-01 -5.06068042e-01 -5.29147483e-01\n",
      "  -3.20546571e-03 -1.26722194e+00 -4.97130054e-01 -5.47877352e-01\n",
      "  -8.97152214e-01 -9.59331338e-02  5.14786129e-01  1.00948298e-01\n",
      "  -2.46682461e-01 -2.07029664e+00  3.35951732e-02 -3.42871157e-01\n",
      "  -1.25037811e+00 -2.31618784e-01 -3.54296224e-01 -2.04585424e-01\n",
      "  -1.14521674e-01  3.86972372e-01 -1.64279336e+00 -5.81080566e-01\n",
      "  -2.41047915e-01  1.80982884e-01 -3.76553070e-01 -1.61004967e-01\n",
      "  -3.17647231e-01 -2.93041785e-01 -1.33666401e+00  2.00096099e-01\n",
      "  -9.53843494e-01  1.30897774e+00 -1.13525427e+00  2.64550643e-01\n",
      "   3.98173549e-02 -4.38787108e-01 -1.10561821e-01 -3.79711763e-01\n",
      "   3.51454142e-01 -5.94722111e-01 -1.43100933e+00  5.52909518e-01\n",
      "   7.96609729e-02 -3.17784640e-01 -2.19117031e-01  6.05830488e-01\n",
      "   7.39118975e-01 -7.82238137e-01 -1.32829092e+00 -8.38625552e-01\n",
      "  -1.18307906e-01 -6.32764636e-01 -6.61525845e-01  4.33392569e-01\n",
      "  -5.12078924e-01 -2.31926336e+00 -8.32256389e-01 -9.84758675e-01\n",
      "   1.16876694e-01 -2.96147107e-01 -2.14602860e+00 -1.80289550e-01\n",
      "  -6.25086361e-01 -5.97283665e-01 -7.05848987e-01 -2.65695095e-01\n",
      "  -9.02820015e-01  1.45132984e-01]].\n"
     ]
    }
   ],
   "source": [
    "ReportBest(Accuracy_train_Both_fine,Accuracy_Both_fine,C_Both_fine,Coef_Both_fine)"
   ]
  },
  {
   "cell_type": "markdown",
   "metadata": {},
   "source": [
    "We find in the end that the best dataset is one hot encoding both the main and the sub categories. Below is the report of the best overall model on the best dataset: "
   ]
  },
  {
   "cell_type": "code",
   "execution_count": 27,
   "metadata": {},
   "outputs": [
    {
     "name": "stdout",
     "output_type": "stream",
     "text": [
      "The best validation accuracy is 0.6631477638425216.\n",
      "The best training accuracy is 0.6700939365328298.\n",
      "The best value for C is 200.0\n",
      "And, the best model coefficients are [[-2.24904111e-01 -1.52464671e+01 -7.53312337e-03  6.00308190e-03\n",
      "  -1.56073592e+00 -3.47914119e-01  3.84271175e-01 -9.19603990e-01\n",
      "  -4.04182668e-01 -2.90444859e-01  1.14817371e+00 -9.66572823e-02\n",
      "  -3.45150585e-01  5.92396601e-01 -6.09483650e-01 -5.54566917e-03\n",
      "   1.46825293e+00 -7.91581293e-02  1.71396410e+00  2.97306334e-01\n",
      "   1.87039585e-01 -8.38123254e-01 -1.36895236e+00  3.24721533e-01\n",
      "  -2.89324952e-01  2.16115920e-01 -8.48775381e-01 -3.07026501e-01\n",
      "  -1.72807559e-01 -7.66585218e-01 -3.25838784e-01 -3.36231277e-01\n",
      "  -2.02963500e-01  2.92552536e-01 -7.40498158e-02 -5.64926450e-01\n",
      "  -5.98822855e-01 -3.48212482e-01  5.00287975e-01  7.89652525e-02\n",
      "  -7.39323593e-01 -3.04336261e-02 -1.15968207e+00 -8.87080538e-01\n",
      "  -5.87010262e-01  6.34996608e-01 -7.71823295e-01 -2.14976227e+00\n",
      "  -8.42930844e-01 -2.32996901e-01  5.57918034e-01 -1.34934017e+00\n",
      "  -1.30536663e+00 -2.15689050e-01 -1.10613408e-01  5.23714430e-01\n",
      "  -1.26155161e+00 -2.02078948e-01 -1.96057455e-01 -7.52509108e-01\n",
      "   1.42769102e+00 -4.38192797e-01  5.39391508e-01 -1.61130465e-01\n",
      "  -5.41765295e-02 -3.49183301e-01 -1.07494333e+00 -5.42425073e-01\n",
      "  -8.48339622e-01  4.63316596e-01 -1.02914139e+00 -5.23434427e-01\n",
      "  -5.82048275e-01 -1.12149438e+00  2.34674351e-01  8.57541426e-01\n",
      "  -4.00690123e-01 -9.21018752e-01 -1.35959684e-01 -1.73529372e-01\n",
      "  -7.78008762e-01 -7.95689765e-01 -1.17736429e+00 -1.36050081e+00\n",
      "  -6.26913662e-01 -3.67509653e-01 -3.92783442e-01 -1.12239218e+00\n",
      "  -3.18026353e-01 -1.42327168e+00 -8.01381455e-01 -4.38232589e-01\n",
      "  -2.27287974e-01 -7.35969080e-01 -3.91054268e-01 -1.64096197e-01\n",
      "  -7.89968920e-01 -6.14764880e-01 -1.64597137e+00  9.19548705e-02\n",
      "  -2.02423760e-01 -8.59250430e-01 -7.48698203e-01 -3.09783111e-01\n",
      "  -5.24811867e-01 -1.66051592e-01  9.09357708e-02 -1.80600653e+00\n",
      "  -4.88225716e-01  8.78822385e-02 -2.72616887e-01  5.63432028e-01\n",
      "   9.03831045e-02 -1.22046502e+00  3.76706744e-01 -5.87339098e-01\n",
      "  -1.36703443e+00 -2.07050778e-01  6.43810436e-01 -9.35467520e-01\n",
      "   9.75690677e-01  2.82706545e-01  1.28634451e+00 -1.21979809e+00\n",
      "  -1.70496667e-01 -5.97756775e-01 -5.21568249e-01 -2.17510162e+00\n",
      "  -3.74365656e-01 -1.32101565e-01 -5.06068042e-01 -5.29147483e-01\n",
      "  -3.20546571e-03 -1.26722194e+00 -4.97130054e-01 -5.47877352e-01\n",
      "  -8.97152214e-01 -9.59331338e-02  5.14786129e-01  1.00948298e-01\n",
      "  -2.46682461e-01 -2.07029664e+00  3.35951732e-02 -3.42871157e-01\n",
      "  -1.25037811e+00 -2.31618784e-01 -3.54296224e-01 -2.04585424e-01\n",
      "  -1.14521674e-01  3.86972372e-01 -1.64279336e+00 -5.81080566e-01\n",
      "  -2.41047915e-01  1.80982884e-01 -3.76553070e-01 -1.61004967e-01\n",
      "  -3.17647231e-01 -2.93041785e-01 -1.33666401e+00  2.00096099e-01\n",
      "  -9.53843494e-01  1.30897774e+00 -1.13525427e+00  2.64550643e-01\n",
      "   3.98173549e-02 -4.38787108e-01 -1.10561821e-01 -3.79711763e-01\n",
      "   3.51454142e-01 -5.94722111e-01 -1.43100933e+00  5.52909518e-01\n",
      "   7.96609729e-02 -3.17784640e-01 -2.19117031e-01  6.05830488e-01\n",
      "   7.39118975e-01 -7.82238137e-01 -1.32829092e+00 -8.38625552e-01\n",
      "  -1.18307906e-01 -6.32764636e-01 -6.61525845e-01  4.33392569e-01\n",
      "  -5.12078924e-01 -2.31926336e+00 -8.32256389e-01 -9.84758675e-01\n",
      "   1.16876694e-01 -2.96147107e-01 -2.14602860e+00 -1.80289550e-01\n",
      "  -6.25086361e-01 -5.97283665e-01 -7.05848987e-01 -2.65695095e-01\n",
      "  -9.02820015e-01  1.45132984e-01]].\n"
     ]
    }
   ],
   "source": [
    "ReportBest(Accuracy_train_Both_fine,Accuracy_Both_fine,C_Both_fine,Coef_Both_fine)"
   ]
  },
  {
   "cell_type": "code",
   "execution_count": 28,
   "metadata": {},
   "outputs": [],
   "source": [
    "X_valid_df=X_valid_df.drop(columns=[\"Unnamed: 0\"])\n",
    "X_valid_OneHotBoth_df = pd.get_dummies(X_valid_df,columns = [\"main_category\",\"category\"])"
   ]
  },
  {
   "cell_type": "code",
   "execution_count": 29,
   "metadata": {},
   "outputs": [
    {
     "name": "stdout",
     "output_type": "stream",
     "text": [
      "The most negatively linearly correlated feature is usd_goal_real.\n",
      "The most positively linearly correlated feature is doc2vec_names_0_doc2vec_names_1_doc2vec_names_2_doc2vec_names_3_doc2vec_names_4_doc2vec_names_5_doc2vec_names_6_doc2vec_names_7_doc2vec_names_8_doc2vec_names_9_doc2vec_names_10_doc2vec_names_11_doc2vec_names_12_doc2vec_names_13_doc2vec_names_14_doc2vec_names_15_doc2vec_names_16_doc2vec_names_17_doc2vec_names_18_doc2vec_names_19_14.\n"
     ]
    }
   ],
   "source": [
    "print(f\"The most negatively linearly correlated feature is {X_valid_OneHotBoth_df.columns[np.argmin(Coef_Both_fine)]}.\")\n",
    "print(f\"The most positively linearly correlated feature is {X_valid_OneHotBoth_df.columns[np.argmax(Coef_Both_fine)]}.\")"
   ]
  }
 ],
 "metadata": {
  "kernelspec": {
   "display_name": "Python 3",
   "language": "python",
   "name": "python3"
  },
  "language_info": {
   "codemirror_mode": {
    "name": "ipython",
    "version": 3
   },
   "file_extension": ".py",
   "mimetype": "text/x-python",
   "name": "python",
   "nbconvert_exporter": "python",
   "pygments_lexer": "ipython3",
   "version": "3.6.9"
  }
 },
 "nbformat": 4,
 "nbformat_minor": 2
}
