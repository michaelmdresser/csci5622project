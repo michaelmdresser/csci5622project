{
 "cells": [
  {
   "cell_type": "code",
   "execution_count": 17,
   "metadata": {},
   "outputs": [],
   "source": [
    "# Load necessary libraries\n",
    "import numpy as np\n",
    "import pandas as pd\n",
    "import matplotlib.pyplot as plt\n",
    "import datetime\n",
    "\n",
    "# For SVM stuff\n",
    "import nltk\n",
    "from sklearn.svm import LinearSVC, SVC\n",
    "from sklearn.metrics import accuracy_score, f1_score, recall_score, precision_score\n",
    "from sklearn.model_selection import KFold\n",
    "from sklearn.model_selection import RandomizedSearchCV, GridSearchCV\n",
    "from scipy.stats import uniform\n",
    "from sklearn_pandas import DataFrameMapper\n",
    "from sklearn.preprocessing import MinMaxScaler, StandardScaler, OneHotEncoder\n",
    "from copy import deepcopy"
   ]
  },
  {
   "cell_type": "code",
   "execution_count": 18,
   "metadata": {},
   "outputs": [],
   "source": [
    "def load_preprocessed_data(name):\n",
    "    # TODO: as additional preprocessing is completed, add options here.\n",
    "    if name == 'basic_name':\n",
    "        x_train = pd.read_csv(\"data/preprocess-{}-x-train-correct.csv\".format(name), index_col=0)\n",
    "        y_train = pd.read_csv(\"data/preprocess-{}-y-train-correct.csv\".format(name), squeeze=True)\n",
    "        x_valid = pd.read_csv(\"data/preprocess-{}-x-valid-correct.csv\".format(name), index_col=0)\n",
    "        y_valid = pd.read_csv(\"data/preprocess-{}-y-valid-correct.csv\".format(name), squeeze=True)\n",
    "    elif name == 'base' or name == 'doc2vec':\n",
    "        x_train = pd.read_csv(\"data/preprocess-{}-x-train.csv\".format(name), index_col=0)\n",
    "        y_train = pd.read_csv(\"data/preprocess-{}-y-train.csv\".format(name), squeeze=True)\n",
    "        x_valid = pd.read_csv(\"data/preprocess-{}-x-valid.csv\".format(name), index_col=0)\n",
    "        y_valid = pd.read_csv(\"data/preprocess-{}-y-valid.csv\".format(name), squeeze=True)\n",
    "    else:\n",
    "        raise Exception(\"No preprocessd data available for that name.\")\n",
    "    return x_train, y_train, x_valid, y_valid"
   ]
  },
  {
   "cell_type": "code",
   "execution_count": 19,
   "metadata": {},
   "outputs": [],
   "source": [
    "x_train_base, y_train_base, x_valid_base, y_valid_base = load_preprocessed_data('base')\n",
    "x_train_d2v, y_train_d2v, x_valid_d2v, y_valid_d2v = load_preprocessed_data('doc2vec')\n",
    "x_train_basic, y_train_basic, x_valid_basic, y_valid_basic = load_preprocessed_data('basic_name')\n",
    "# TODO: load addtional preprocessed data"
   ]
  },
  {
   "cell_type": "code",
   "execution_count": 20,
   "metadata": {},
   "outputs": [
    {
     "name": "stdout",
     "output_type": "stream",
     "text": [
      "249956\n",
      "249956\n",
      "0     True\n",
      "1     True\n",
      "2    False\n",
      "3    False\n",
      "4    False\n",
      "Name: success, dtype: bool\n"
     ]
    },
    {
     "data": {
      "text/html": [
       "<div>\n",
       "<style scoped>\n",
       "    .dataframe tbody tr th:only-of-type {\n",
       "        vertical-align: middle;\n",
       "    }\n",
       "\n",
       "    .dataframe tbody tr th {\n",
       "        vertical-align: top;\n",
       "    }\n",
       "\n",
       "    .dataframe thead th {\n",
       "        text-align: right;\n",
       "    }\n",
       "</style>\n",
       "<table border=\"1\" class=\"dataframe\">\n",
       "  <thead>\n",
       "    <tr style=\"text-align: right;\">\n",
       "      <th></th>\n",
       "      <th>main_category</th>\n",
       "      <th>category</th>\n",
       "      <th>duration</th>\n",
       "      <th>usd_goal_real</th>\n",
       "      <th>launched_month</th>\n",
       "      <th>deadline_month</th>\n",
       "    </tr>\n",
       "  </thead>\n",
       "  <tbody>\n",
       "    <tr>\n",
       "      <td>0</td>\n",
       "      <td>12</td>\n",
       "      <td>19</td>\n",
       "      <td>-0.316333</td>\n",
       "      <td>-0.036515</td>\n",
       "      <td>4.0</td>\n",
       "      <td>5.0</td>\n",
       "    </tr>\n",
       "    <tr>\n",
       "      <td>2</td>\n",
       "      <td>8</td>\n",
       "      <td>136</td>\n",
       "      <td>2.025723</td>\n",
       "      <td>-0.031740</td>\n",
       "      <td>10.0</td>\n",
       "      <td>0.0</td>\n",
       "    </tr>\n",
       "    <tr>\n",
       "      <td>4</td>\n",
       "      <td>7</td>\n",
       "      <td>44</td>\n",
       "      <td>-0.272265</td>\n",
       "      <td>-0.032463</td>\n",
       "      <td>7.0</td>\n",
       "      <td>8.0</td>\n",
       "    </tr>\n",
       "    <tr>\n",
       "      <td>5</td>\n",
       "      <td>5</td>\n",
       "      <td>31</td>\n",
       "      <td>-0.400095</td>\n",
       "      <td>-0.034948</td>\n",
       "      <td>2.0</td>\n",
       "      <td>3.0</td>\n",
       "    </tr>\n",
       "    <tr>\n",
       "      <td>6</td>\n",
       "      <td>6</td>\n",
       "      <td>93</td>\n",
       "      <td>-0.326225</td>\n",
       "      <td>0.008140</td>\n",
       "      <td>0.0</td>\n",
       "      <td>2.0</td>\n",
       "    </tr>\n",
       "  </tbody>\n",
       "</table>\n",
       "</div>"
      ],
      "text/plain": [
       "   main_category  category  duration  usd_goal_real  launched_month  \\\n",
       "0             12        19 -0.316333      -0.036515             4.0   \n",
       "2              8       136  2.025723      -0.031740            10.0   \n",
       "4              7        44 -0.272265      -0.032463             7.0   \n",
       "5              5        31 -0.400095      -0.034948             2.0   \n",
       "6              6        93 -0.326225       0.008140             0.0   \n",
       "\n",
       "   deadline_month  \n",
       "0             5.0  \n",
       "2             0.0  \n",
       "4             8.0  \n",
       "5             3.0  \n",
       "6             2.0  "
      ]
     },
     "execution_count": 20,
     "metadata": {},
     "output_type": "execute_result"
    }
   ],
   "source": [
    "print(len(x_train_base))\n",
    "print(len(y_train_base))\n",
    "print(y_train_base.head())\n",
    "x_train_base.head()"
   ]
  },
  {
   "cell_type": "code",
   "execution_count": 21,
   "metadata": {},
   "outputs": [
    {
     "name": "stdout",
     "output_type": "stream",
     "text": [
      "249956\n",
      "249956\n",
      "0     True\n",
      "1     True\n",
      "2    False\n",
      "3    False\n",
      "4    False\n",
      "Name: success, dtype: bool\n"
     ]
    },
    {
     "data": {
      "text/html": [
       "<div>\n",
       "<style scoped>\n",
       "    .dataframe tbody tr th:only-of-type {\n",
       "        vertical-align: middle;\n",
       "    }\n",
       "\n",
       "    .dataframe tbody tr th {\n",
       "        vertical-align: top;\n",
       "    }\n",
       "\n",
       "    .dataframe thead th {\n",
       "        text-align: right;\n",
       "    }\n",
       "</style>\n",
       "<table border=\"1\" class=\"dataframe\">\n",
       "  <thead>\n",
       "    <tr style=\"text-align: right;\">\n",
       "      <th></th>\n",
       "      <th>main_category</th>\n",
       "      <th>category</th>\n",
       "      <th>duration</th>\n",
       "      <th>usd_goal_real</th>\n",
       "      <th>launched_month</th>\n",
       "      <th>deadline_month</th>\n",
       "      <th>doc2vec_names_0</th>\n",
       "      <th>doc2vec_names_1</th>\n",
       "      <th>doc2vec_names_2</th>\n",
       "      <th>doc2vec_names_3</th>\n",
       "      <th>...</th>\n",
       "      <th>doc2vec_names_10</th>\n",
       "      <th>doc2vec_names_11</th>\n",
       "      <th>doc2vec_names_12</th>\n",
       "      <th>doc2vec_names_13</th>\n",
       "      <th>doc2vec_names_14</th>\n",
       "      <th>doc2vec_names_15</th>\n",
       "      <th>doc2vec_names_16</th>\n",
       "      <th>doc2vec_names_17</th>\n",
       "      <th>doc2vec_names_18</th>\n",
       "      <th>doc2vec_names_19</th>\n",
       "    </tr>\n",
       "  </thead>\n",
       "  <tbody>\n",
       "    <tr>\n",
       "      <td>0</td>\n",
       "      <td>12</td>\n",
       "      <td>19</td>\n",
       "      <td>-0.316333</td>\n",
       "      <td>-0.036515</td>\n",
       "      <td>4.0</td>\n",
       "      <td>5.0</td>\n",
       "      <td>0.009077</td>\n",
       "      <td>-0.029281</td>\n",
       "      <td>-0.014818</td>\n",
       "      <td>-0.017581</td>\n",
       "      <td>...</td>\n",
       "      <td>0.013778</td>\n",
       "      <td>-0.047939</td>\n",
       "      <td>-0.063131</td>\n",
       "      <td>0.015074</td>\n",
       "      <td>-0.003315</td>\n",
       "      <td>-0.072243</td>\n",
       "      <td>0.029401</td>\n",
       "      <td>-0.058894</td>\n",
       "      <td>-0.008851</td>\n",
       "      <td>-0.004987</td>\n",
       "    </tr>\n",
       "    <tr>\n",
       "      <td>2</td>\n",
       "      <td>8</td>\n",
       "      <td>136</td>\n",
       "      <td>2.025723</td>\n",
       "      <td>-0.031740</td>\n",
       "      <td>10.0</td>\n",
       "      <td>0.0</td>\n",
       "      <td>-0.015903</td>\n",
       "      <td>0.037791</td>\n",
       "      <td>-0.035279</td>\n",
       "      <td>-0.029695</td>\n",
       "      <td>...</td>\n",
       "      <td>-0.055231</td>\n",
       "      <td>-0.034383</td>\n",
       "      <td>0.003102</td>\n",
       "      <td>0.029496</td>\n",
       "      <td>-0.097409</td>\n",
       "      <td>-0.059037</td>\n",
       "      <td>0.045664</td>\n",
       "      <td>-0.052574</td>\n",
       "      <td>0.034218</td>\n",
       "      <td>0.041212</td>\n",
       "    </tr>\n",
       "    <tr>\n",
       "      <td>4</td>\n",
       "      <td>7</td>\n",
       "      <td>44</td>\n",
       "      <td>-0.272265</td>\n",
       "      <td>-0.032463</td>\n",
       "      <td>7.0</td>\n",
       "      <td>8.0</td>\n",
       "      <td>0.018435</td>\n",
       "      <td>0.037622</td>\n",
       "      <td>0.031674</td>\n",
       "      <td>-0.049406</td>\n",
       "      <td>...</td>\n",
       "      <td>-0.048317</td>\n",
       "      <td>0.023729</td>\n",
       "      <td>-0.057103</td>\n",
       "      <td>0.023843</td>\n",
       "      <td>0.044732</td>\n",
       "      <td>-0.049317</td>\n",
       "      <td>-0.029703</td>\n",
       "      <td>-0.100054</td>\n",
       "      <td>0.014423</td>\n",
       "      <td>0.055918</td>\n",
       "    </tr>\n",
       "    <tr>\n",
       "      <td>5</td>\n",
       "      <td>5</td>\n",
       "      <td>31</td>\n",
       "      <td>-0.400095</td>\n",
       "      <td>-0.034948</td>\n",
       "      <td>2.0</td>\n",
       "      <td>3.0</td>\n",
       "      <td>0.020175</td>\n",
       "      <td>-0.015965</td>\n",
       "      <td>-0.012979</td>\n",
       "      <td>-0.058172</td>\n",
       "      <td>...</td>\n",
       "      <td>-0.008836</td>\n",
       "      <td>-0.055694</td>\n",
       "      <td>-0.005870</td>\n",
       "      <td>0.016705</td>\n",
       "      <td>-0.025267</td>\n",
       "      <td>0.002448</td>\n",
       "      <td>0.018852</td>\n",
       "      <td>-0.024194</td>\n",
       "      <td>0.007968</td>\n",
       "      <td>0.031140</td>\n",
       "    </tr>\n",
       "    <tr>\n",
       "      <td>6</td>\n",
       "      <td>6</td>\n",
       "      <td>93</td>\n",
       "      <td>-0.326225</td>\n",
       "      <td>0.008140</td>\n",
       "      <td>0.0</td>\n",
       "      <td>2.0</td>\n",
       "      <td>0.005605</td>\n",
       "      <td>0.003581</td>\n",
       "      <td>0.019905</td>\n",
       "      <td>-0.063847</td>\n",
       "      <td>...</td>\n",
       "      <td>-0.033168</td>\n",
       "      <td>-0.017154</td>\n",
       "      <td>-0.019477</td>\n",
       "      <td>0.027361</td>\n",
       "      <td>-0.083247</td>\n",
       "      <td>0.006590</td>\n",
       "      <td>-0.020938</td>\n",
       "      <td>-0.052568</td>\n",
       "      <td>-0.026672</td>\n",
       "      <td>0.040495</td>\n",
       "    </tr>\n",
       "  </tbody>\n",
       "</table>\n",
       "<p>5 rows × 26 columns</p>\n",
       "</div>"
      ],
      "text/plain": [
       "   main_category  category  duration  usd_goal_real  launched_month  \\\n",
       "0             12        19 -0.316333      -0.036515             4.0   \n",
       "2              8       136  2.025723      -0.031740            10.0   \n",
       "4              7        44 -0.272265      -0.032463             7.0   \n",
       "5              5        31 -0.400095      -0.034948             2.0   \n",
       "6              6        93 -0.326225       0.008140             0.0   \n",
       "\n",
       "   deadline_month  doc2vec_names_0  doc2vec_names_1  doc2vec_names_2  \\\n",
       "0             5.0         0.009077        -0.029281        -0.014818   \n",
       "2             0.0        -0.015903         0.037791        -0.035279   \n",
       "4             8.0         0.018435         0.037622         0.031674   \n",
       "5             3.0         0.020175        -0.015965        -0.012979   \n",
       "6             2.0         0.005605         0.003581         0.019905   \n",
       "\n",
       "   doc2vec_names_3  ...  doc2vec_names_10  doc2vec_names_11  doc2vec_names_12  \\\n",
       "0        -0.017581  ...          0.013778         -0.047939         -0.063131   \n",
       "2        -0.029695  ...         -0.055231         -0.034383          0.003102   \n",
       "4        -0.049406  ...         -0.048317          0.023729         -0.057103   \n",
       "5        -0.058172  ...         -0.008836         -0.055694         -0.005870   \n",
       "6        -0.063847  ...         -0.033168         -0.017154         -0.019477   \n",
       "\n",
       "   doc2vec_names_13  doc2vec_names_14  doc2vec_names_15  doc2vec_names_16  \\\n",
       "0          0.015074         -0.003315         -0.072243          0.029401   \n",
       "2          0.029496         -0.097409         -0.059037          0.045664   \n",
       "4          0.023843          0.044732         -0.049317         -0.029703   \n",
       "5          0.016705         -0.025267          0.002448          0.018852   \n",
       "6          0.027361         -0.083247          0.006590         -0.020938   \n",
       "\n",
       "   doc2vec_names_17  doc2vec_names_18  doc2vec_names_19  \n",
       "0         -0.058894         -0.008851         -0.004987  \n",
       "2         -0.052574          0.034218          0.041212  \n",
       "4         -0.100054          0.014423          0.055918  \n",
       "5         -0.024194          0.007968          0.031140  \n",
       "6         -0.052568         -0.026672          0.040495  \n",
       "\n",
       "[5 rows x 26 columns]"
      ]
     },
     "execution_count": 21,
     "metadata": {},
     "output_type": "execute_result"
    }
   ],
   "source": [
    "print(len(x_train_d2v))\n",
    "print(len(y_train_d2v))\n",
    "print(y_train_d2v.head())\n",
    "x_train_d2v.head()"
   ]
  },
  {
   "cell_type": "code",
   "execution_count": 22,
   "metadata": {},
   "outputs": [
    {
     "name": "stdout",
     "output_type": "stream",
     "text": [
      "249956\n",
      "249956\n",
      "0     True\n",
      "1     True\n",
      "2    False\n",
      "3    False\n",
      "4    False\n",
      "Name: 1, dtype: bool\n"
     ]
    },
    {
     "data": {
      "text/html": [
       "<div>\n",
       "<style scoped>\n",
       "    .dataframe tbody tr th:only-of-type {\n",
       "        vertical-align: middle;\n",
       "    }\n",
       "\n",
       "    .dataframe tbody tr th {\n",
       "        vertical-align: top;\n",
       "    }\n",
       "\n",
       "    .dataframe thead th {\n",
       "        text-align: right;\n",
       "    }\n",
       "</style>\n",
       "<table border=\"1\" class=\"dataframe\">\n",
       "  <thead>\n",
       "    <tr style=\"text-align: right;\">\n",
       "      <th></th>\n",
       "      <th>main_category</th>\n",
       "      <th>category</th>\n",
       "      <th>duration</th>\n",
       "      <th>usd_goal_real</th>\n",
       "      <th>launched_month_deadline_month_0</th>\n",
       "      <th>launched_month_deadline_month_1</th>\n",
       "      <th>num_chars</th>\n",
       "      <th>num_unusual_words</th>\n",
       "      <th>num_weird_chars</th>\n",
       "    </tr>\n",
       "    <tr>\n",
       "      <th>Unnamed: 0.1</th>\n",
       "      <th></th>\n",
       "      <th></th>\n",
       "      <th></th>\n",
       "      <th></th>\n",
       "      <th></th>\n",
       "      <th></th>\n",
       "      <th></th>\n",
       "      <th></th>\n",
       "      <th></th>\n",
       "    </tr>\n",
       "  </thead>\n",
       "  <tbody>\n",
       "    <tr>\n",
       "      <td>0</td>\n",
       "      <td>12</td>\n",
       "      <td>19</td>\n",
       "      <td>-0.316333</td>\n",
       "      <td>-0.036515</td>\n",
       "      <td>4.0</td>\n",
       "      <td>5.0</td>\n",
       "      <td>56</td>\n",
       "      <td>1</td>\n",
       "      <td>2</td>\n",
       "    </tr>\n",
       "    <tr>\n",
       "      <td>2</td>\n",
       "      <td>8</td>\n",
       "      <td>136</td>\n",
       "      <td>2.025723</td>\n",
       "      <td>-0.031740</td>\n",
       "      <td>10.0</td>\n",
       "      <td>0.0</td>\n",
       "      <td>30</td>\n",
       "      <td>2</td>\n",
       "      <td>0</td>\n",
       "    </tr>\n",
       "    <tr>\n",
       "      <td>4</td>\n",
       "      <td>7</td>\n",
       "      <td>44</td>\n",
       "      <td>-0.272265</td>\n",
       "      <td>-0.032463</td>\n",
       "      <td>7.0</td>\n",
       "      <td>8.0</td>\n",
       "      <td>60</td>\n",
       "      <td>4</td>\n",
       "      <td>0</td>\n",
       "    </tr>\n",
       "    <tr>\n",
       "      <td>5</td>\n",
       "      <td>5</td>\n",
       "      <td>31</td>\n",
       "      <td>-0.400095</td>\n",
       "      <td>-0.034948</td>\n",
       "      <td>2.0</td>\n",
       "      <td>3.0</td>\n",
       "      <td>34</td>\n",
       "      <td>3</td>\n",
       "      <td>1</td>\n",
       "    </tr>\n",
       "    <tr>\n",
       "      <td>6</td>\n",
       "      <td>6</td>\n",
       "      <td>93</td>\n",
       "      <td>-0.326225</td>\n",
       "      <td>0.008140</td>\n",
       "      <td>0.0</td>\n",
       "      <td>2.0</td>\n",
       "      <td>49</td>\n",
       "      <td>2</td>\n",
       "      <td>6</td>\n",
       "    </tr>\n",
       "  </tbody>\n",
       "</table>\n",
       "</div>"
      ],
      "text/plain": [
       "              main_category  category  duration  usd_goal_real  \\\n",
       "Unnamed: 0.1                                                     \n",
       "0                        12        19 -0.316333      -0.036515   \n",
       "2                         8       136  2.025723      -0.031740   \n",
       "4                         7        44 -0.272265      -0.032463   \n",
       "5                         5        31 -0.400095      -0.034948   \n",
       "6                         6        93 -0.326225       0.008140   \n",
       "\n",
       "              launched_month_deadline_month_0  \\\n",
       "Unnamed: 0.1                                    \n",
       "0                                         4.0   \n",
       "2                                        10.0   \n",
       "4                                         7.0   \n",
       "5                                         2.0   \n",
       "6                                         0.0   \n",
       "\n",
       "              launched_month_deadline_month_1  num_chars  num_unusual_words  \\\n",
       "Unnamed: 0.1                                                                  \n",
       "0                                         5.0         56                  1   \n",
       "2                                         0.0         30                  2   \n",
       "4                                         8.0         60                  4   \n",
       "5                                         3.0         34                  3   \n",
       "6                                         2.0         49                  2   \n",
       "\n",
       "              num_weird_chars  \n",
       "Unnamed: 0.1                   \n",
       "0                           2  \n",
       "2                           0  \n",
       "4                           0  \n",
       "5                           1  \n",
       "6                           6  "
      ]
     },
     "execution_count": 22,
     "metadata": {},
     "output_type": "execute_result"
    }
   ],
   "source": [
    "# Had to rename due to a change in preprocessing. The values are the same, just not the column names.x_train_basic.columns = ['index', 'main_category', 'category', 'duration', 'usd_goal_real', 'launched_month', 'deadline_month', 'num_chars', 'num_unusual_words', 'num_weird_chars']\n",
    "x_train_basic.set_index('Unnamed: 0.1', drop=True, inplace=True)\n",
    "\n",
    "print(len(x_train_basic))\n",
    "print(len(y_train_basic))\n",
    "print(y_train_basic.head())\n",
    "x_train_basic.head()"
   ]
  },
  {
   "cell_type": "code",
   "execution_count": 12,
   "metadata": {},
   "outputs": [],
   "source": [
    "params = {\n",
    "    'C' : [0.01, 0.1, 0.5, 1.0, 1.5],\n",
    "    'gamma' : ['auto', 'scale'],\n",
    "}"
   ]
  },
  {
   "cell_type": "code",
   "execution_count": 17,
   "metadata": {},
   "outputs": [],
   "source": [
    "search = GridSearchCV(\n",
    "    SVC(kernel='rbf', max_iter=10000),\n",
    "    param_grid=params,\n",
    "    n_jobs=-1,\n",
    "    verbose=50,\n",
    ")"
   ]
  },
  {
   "cell_type": "code",
   "execution_count": 18,
   "metadata": {
    "scrolled": true
   },
   "outputs": [
    {
     "name": "stdout",
     "output_type": "stream",
     "text": [
      "Fitting 3 folds for each of 10 candidates, totalling 30 fits\n",
      "[Parallel(n_jobs=-1)]: Using backend LokyBackend with 40 concurrent workers.\n"
     ]
    },
    {
     "name": "stderr",
     "output_type": "stream",
     "text": [
      "/users/hunhoffe/anaconda3/lib/python3.7/site-packages/sklearn/model_selection/_split.py:1978: FutureWarning: The default value of cv will change from 3 to 5 in version 0.22. Specify it explicitly to silence this warning.\n",
      "  warnings.warn(CV_WARNING, FutureWarning)\n"
     ]
    },
    {
     "name": "stdout",
     "output_type": "stream",
     "text": [
      "[Parallel(n_jobs=-1)]: Done   1 tasks      | elapsed:  5.2min\n",
      "[Parallel(n_jobs=-1)]: Done   2 out of  30 | elapsed:  5.2min remaining: 72.6min\n",
      "[Parallel(n_jobs=-1)]: Done   3 out of  30 | elapsed:  5.2min remaining: 47.2min\n",
      "[Parallel(n_jobs=-1)]: Done   4 out of  30 | elapsed:  5.4min remaining: 35.2min\n",
      "[Parallel(n_jobs=-1)]: Done   5 out of  30 | elapsed:  5.4min remaining: 27.1min\n",
      "[Parallel(n_jobs=-1)]: Done   6 out of  30 | elapsed:  5.5min remaining: 21.8min\n",
      "[Parallel(n_jobs=-1)]: Done   7 out of  30 | elapsed:  5.5min remaining: 18.1min\n",
      "[Parallel(n_jobs=-1)]: Done   8 out of  30 | elapsed:  5.5min remaining: 15.1min\n",
      "[Parallel(n_jobs=-1)]: Done   9 out of  30 | elapsed:  5.6min remaining: 13.0min\n",
      "[Parallel(n_jobs=-1)]: Done  10 out of  30 | elapsed:  5.6min remaining: 11.2min\n",
      "[Parallel(n_jobs=-1)]: Done  11 out of  30 | elapsed:  5.6min remaining:  9.7min\n",
      "[Parallel(n_jobs=-1)]: Done  12 out of  30 | elapsed:  5.7min remaining:  8.5min\n",
      "[Parallel(n_jobs=-1)]: Done  13 out of  30 | elapsed:  5.8min remaining:  7.6min\n",
      "[Parallel(n_jobs=-1)]: Done  14 out of  30 | elapsed:  5.8min remaining:  6.6min\n",
      "[Parallel(n_jobs=-1)]: Done  15 out of  30 | elapsed:  5.8min remaining:  5.8min\n",
      "[Parallel(n_jobs=-1)]: Done  16 out of  30 | elapsed:  5.8min remaining:  5.1min\n",
      "[Parallel(n_jobs=-1)]: Done  17 out of  30 | elapsed:  5.9min remaining:  4.5min\n",
      "[Parallel(n_jobs=-1)]: Done  18 out of  30 | elapsed:  5.9min remaining:  3.9min\n",
      "[Parallel(n_jobs=-1)]: Done  19 out of  30 | elapsed:  6.0min remaining:  3.5min\n",
      "[Parallel(n_jobs=-1)]: Done  20 out of  30 | elapsed:  6.0min remaining:  3.0min\n",
      "[Parallel(n_jobs=-1)]: Done  21 out of  30 | elapsed:  6.0min remaining:  2.6min\n",
      "[Parallel(n_jobs=-1)]: Done  22 out of  30 | elapsed:  6.0min remaining:  2.2min\n",
      "[Parallel(n_jobs=-1)]: Done  23 out of  30 | elapsed:  6.1min remaining:  1.9min\n",
      "[Parallel(n_jobs=-1)]: Done  24 out of  30 | elapsed:  6.2min remaining:  1.5min\n",
      "[Parallel(n_jobs=-1)]: Done  25 out of  30 | elapsed:  6.2min remaining:  1.2min\n",
      "[Parallel(n_jobs=-1)]: Done  26 out of  30 | elapsed:  6.2min remaining:   57.4s\n",
      "[Parallel(n_jobs=-1)]: Done  27 out of  30 | elapsed:  6.4min remaining:   42.8s\n",
      "[Parallel(n_jobs=-1)]: Done  28 out of  30 | elapsed:  6.6min remaining:   28.4s\n",
      "[Parallel(n_jobs=-1)]: Done  30 out of  30 | elapsed:  7.1min remaining:    0.0s\n",
      "[Parallel(n_jobs=-1)]: Done  30 out of  30 | elapsed:  7.1min finished\n"
     ]
    },
    {
     "name": "stderr",
     "output_type": "stream",
     "text": [
      "/users/hunhoffe/anaconda3/lib/python3.7/site-packages/sklearn/svm/base.py:241: ConvergenceWarning: Solver terminated early (max_iter=10000).  Consider pre-processing your data with StandardScaler or MinMaxScaler.\n",
      "  % self.max_iter, ConvergenceWarning)\n"
     ]
    }
   ],
   "source": [
    "_ = search.fit(x_train_basic, y_train_basic)"
   ]
  },
  {
   "cell_type": "code",
   "execution_count": 19,
   "metadata": {},
   "outputs": [
    {
     "name": "stdout",
     "output_type": "stream",
     "text": [
      "0.6138000288050697\n",
      "{'C': 0.5, 'gamma': 'auto'}\n"
     ]
    }
   ],
   "source": [
    "print(search.best_score_)\n",
    "print(search.best_params_)"
   ]
  },
  {
   "cell_type": "code",
   "execution_count": 20,
   "metadata": {},
   "outputs": [
    {
     "name": "stdout",
     "output_type": "stream",
     "text": [
      "Fitting 3 folds for each of 10 candidates, totalling 30 fits\n",
      "[Parallel(n_jobs=-1)]: Using backend LokyBackend with 40 concurrent workers.\n"
     ]
    },
    {
     "name": "stderr",
     "output_type": "stream",
     "text": [
      "/users/hunhoffe/anaconda3/lib/python3.7/site-packages/sklearn/model_selection/_split.py:1978: FutureWarning: The default value of cv will change from 3 to 5 in version 0.22. Specify it explicitly to silence this warning.\n",
      "  warnings.warn(CV_WARNING, FutureWarning)\n"
     ]
    },
    {
     "name": "stdout",
     "output_type": "stream",
     "text": [
      "[Parallel(n_jobs=-1)]: Done   1 tasks      | elapsed:  5.1min\n",
      "[Parallel(n_jobs=-1)]: Done   2 out of  30 | elapsed:  5.2min remaining: 72.1min\n",
      "[Parallel(n_jobs=-1)]: Done   3 out of  30 | elapsed:  5.2min remaining: 47.0min\n",
      "[Parallel(n_jobs=-1)]: Done   4 out of  30 | elapsed:  5.2min remaining: 34.0min\n",
      "[Parallel(n_jobs=-1)]: Done   5 out of  30 | elapsed:  5.3min remaining: 26.6min\n",
      "[Parallel(n_jobs=-1)]: Done   6 out of  30 | elapsed:  5.4min remaining: 21.8min\n",
      "[Parallel(n_jobs=-1)]: Done   7 out of  30 | elapsed:  5.5min remaining: 17.9min\n",
      "[Parallel(n_jobs=-1)]: Done   8 out of  30 | elapsed:  5.5min remaining: 15.1min\n",
      "[Parallel(n_jobs=-1)]: Done   9 out of  30 | elapsed:  5.5min remaining: 12.9min\n",
      "[Parallel(n_jobs=-1)]: Done  10 out of  30 | elapsed:  5.5min remaining: 11.1min\n",
      "[Parallel(n_jobs=-1)]: Done  11 out of  30 | elapsed:  5.6min remaining:  9.7min\n",
      "[Parallel(n_jobs=-1)]: Done  12 out of  30 | elapsed:  5.6min remaining:  8.4min\n",
      "[Parallel(n_jobs=-1)]: Done  13 out of  30 | elapsed:  5.7min remaining:  7.5min\n",
      "[Parallel(n_jobs=-1)]: Done  14 out of  30 | elapsed:  5.8min remaining:  6.6min\n",
      "[Parallel(n_jobs=-1)]: Done  15 out of  30 | elapsed:  5.8min remaining:  5.8min\n",
      "[Parallel(n_jobs=-1)]: Done  16 out of  30 | elapsed:  5.8min remaining:  5.1min\n",
      "[Parallel(n_jobs=-1)]: Done  17 out of  30 | elapsed:  5.8min remaining:  4.5min\n",
      "[Parallel(n_jobs=-1)]: Done  18 out of  30 | elapsed:  5.9min remaining:  3.9min\n",
      "[Parallel(n_jobs=-1)]: Done  19 out of  30 | elapsed:  5.9min remaining:  3.4min\n",
      "[Parallel(n_jobs=-1)]: Done  20 out of  30 | elapsed:  5.9min remaining:  2.9min\n",
      "[Parallel(n_jobs=-1)]: Done  21 out of  30 | elapsed:  5.9min remaining:  2.5min\n",
      "[Parallel(n_jobs=-1)]: Done  22 out of  30 | elapsed:  6.0min remaining:  2.2min\n",
      "[Parallel(n_jobs=-1)]: Done  23 out of  30 | elapsed:  6.1min remaining:  1.8min\n",
      "[Parallel(n_jobs=-1)]: Done  24 out of  30 | elapsed:  6.1min remaining:  1.5min\n",
      "[Parallel(n_jobs=-1)]: Done  25 out of  30 | elapsed:  6.1min remaining:  1.2min\n",
      "[Parallel(n_jobs=-1)]: Done  26 out of  30 | elapsed:  6.1min remaining:   56.3s\n",
      "[Parallel(n_jobs=-1)]: Done  27 out of  30 | elapsed:  6.1min remaining:   40.8s\n",
      "[Parallel(n_jobs=-1)]: Done  28 out of  30 | elapsed:  6.2min remaining:   26.6s\n",
      "[Parallel(n_jobs=-1)]: Done  30 out of  30 | elapsed:  6.5min remaining:    0.0s\n",
      "[Parallel(n_jobs=-1)]: Done  30 out of  30 | elapsed:  6.5min finished\n",
      "0.6121397365936405\n",
      "{'C': 0.5, 'gamma': 'auto'}\n"
     ]
    },
    {
     "name": "stderr",
     "output_type": "stream",
     "text": [
      "/users/hunhoffe/anaconda3/lib/python3.7/site-packages/sklearn/svm/base.py:241: ConvergenceWarning: Solver terminated early (max_iter=10000).  Consider pre-processing your data with StandardScaler or MinMaxScaler.\n",
      "  % self.max_iter, ConvergenceWarning)\n"
     ]
    }
   ],
   "source": [
    "search_d2v = GridSearchCV(\n",
    "    SVC(kernel='rbf', max_iter=10000),\n",
    "    param_grid=params,\n",
    "    n_jobs=-1,\n",
    "    verbose=50,\n",
    ")\n",
    "_ = search_d2v.fit(x_train_base, y_train_base)\n",
    "print(search_d2v.best_score_)\n",
    "print(search_d2v.best_params_)"
   ]
  },
  {
   "cell_type": "code",
   "execution_count": 7,
   "metadata": {},
   "outputs": [
    {
     "name": "stdout",
     "output_type": "stream",
     "text": [
      "Fitting 3 folds for each of 3 candidates, totalling 9 fits\n",
      "[Parallel(n_jobs=-1)]: Using backend LokyBackend with 40 concurrent workers.\n"
     ]
    },
    {
     "name": "stderr",
     "output_type": "stream",
     "text": [
      "/users/hunhoffe/anaconda3/lib/python3.7/site-packages/sklearn/model_selection/_split.py:1978: FutureWarning: The default value of cv will change from 3 to 5 in version 0.22. Specify it explicitly to silence this warning.\n",
      "  warnings.warn(CV_WARNING, FutureWarning)\n"
     ]
    },
    {
     "name": "stdout",
     "output_type": "stream",
     "text": [
      "[Parallel(n_jobs=-1)]: Done   1 tasks      | elapsed:  9.3min\n",
      "[Parallel(n_jobs=-1)]: Done   2 out of   9 | elapsed:  9.3min remaining: 32.5min\n",
      "[Parallel(n_jobs=-1)]: Done   3 out of   9 | elapsed:  9.5min remaining: 19.0min\n",
      "[Parallel(n_jobs=-1)]: Done   4 out of   9 | elapsed:  9.6min remaining: 12.0min\n",
      "[Parallel(n_jobs=-1)]: Done   5 out of   9 | elapsed:  9.6min remaining:  7.7min\n",
      "[Parallel(n_jobs=-1)]: Done   6 out of   9 | elapsed: 10.1min remaining:  5.1min\n",
      "[Parallel(n_jobs=-1)]: Done   7 out of   9 | elapsed: 10.5min remaining:  3.0min\n",
      "[Parallel(n_jobs=-1)]: Done   9 out of   9 | elapsed: 11.2min remaining:    0.0s\n",
      "[Parallel(n_jobs=-1)]: Done   9 out of   9 | elapsed: 11.2min finished\n",
      "0.5515130662996688\n",
      "{'C': 0.75, 'gamma': 'auto'}\n"
     ]
    },
    {
     "name": "stderr",
     "output_type": "stream",
     "text": [
      "/users/hunhoffe/anaconda3/lib/python3.7/site-packages/sklearn/svm/base.py:241: ConvergenceWarning: Solver terminated early (max_iter=10000).  Consider pre-processing your data with StandardScaler or MinMaxScaler.\n",
      "  % self.max_iter, ConvergenceWarning)\n"
     ]
    }
   ],
   "source": [
    "params = {\n",
    "    'C' : [0.25, 0.5, 0.75],\n",
    "    'gamma' : ['auto'],\n",
    "}\n",
    "\n",
    "search_d2v = GridSearchCV(\n",
    "    SVC(kernel='rbf', max_iter=10000),\n",
    "    param_grid=params,\n",
    "    n_jobs=-1,\n",
    "    verbose=50,\n",
    ")\n",
    "_ = search_d2v.fit(x_train_d2v, y_train_d2v)\n",
    "print(search_d2v.best_score_)\n",
    "print(search_d2v.best_params_)"
   ]
  },
  {
   "cell_type": "code",
   "execution_count": 8,
   "metadata": {},
   "outputs": [
    {
     "name": "stdout",
     "output_type": "stream",
     "text": [
      "249956\n",
      "249956\n",
      "0     True\n",
      "1     True\n",
      "2    False\n",
      "3    False\n",
      "4    False\n",
      "Name: 1, dtype: bool\n"
     ]
    },
    {
     "data": {
      "text/html": [
       "<div>\n",
       "<style scoped>\n",
       "    .dataframe tbody tr th:only-of-type {\n",
       "        vertical-align: middle;\n",
       "    }\n",
       "\n",
       "    .dataframe tbody tr th {\n",
       "        vertical-align: top;\n",
       "    }\n",
       "\n",
       "    .dataframe thead th {\n",
       "        text-align: right;\n",
       "    }\n",
       "</style>\n",
       "<table border=\"1\" class=\"dataframe\">\n",
       "  <thead>\n",
       "    <tr style=\"text-align: right;\">\n",
       "      <th></th>\n",
       "      <th>main_category</th>\n",
       "      <th>category</th>\n",
       "      <th>duration</th>\n",
       "      <th>usd_goal_real</th>\n",
       "      <th>launched_month_deadline_month_0</th>\n",
       "      <th>launched_month_deadline_month_1</th>\n",
       "      <th>num_chars</th>\n",
       "      <th>num_unusual_words</th>\n",
       "      <th>num_weird_chars</th>\n",
       "    </tr>\n",
       "    <tr>\n",
       "      <th>Unnamed: 0.1</th>\n",
       "      <th></th>\n",
       "      <th></th>\n",
       "      <th></th>\n",
       "      <th></th>\n",
       "      <th></th>\n",
       "      <th></th>\n",
       "      <th></th>\n",
       "      <th></th>\n",
       "      <th></th>\n",
       "    </tr>\n",
       "  </thead>\n",
       "  <tbody>\n",
       "    <tr>\n",
       "      <td>0</td>\n",
       "      <td>12</td>\n",
       "      <td>19</td>\n",
       "      <td>-0.316333</td>\n",
       "      <td>-0.036515</td>\n",
       "      <td>4.0</td>\n",
       "      <td>5.0</td>\n",
       "      <td>56</td>\n",
       "      <td>1</td>\n",
       "      <td>2</td>\n",
       "    </tr>\n",
       "    <tr>\n",
       "      <td>2</td>\n",
       "      <td>8</td>\n",
       "      <td>136</td>\n",
       "      <td>2.025723</td>\n",
       "      <td>-0.031740</td>\n",
       "      <td>10.0</td>\n",
       "      <td>0.0</td>\n",
       "      <td>30</td>\n",
       "      <td>2</td>\n",
       "      <td>0</td>\n",
       "    </tr>\n",
       "    <tr>\n",
       "      <td>4</td>\n",
       "      <td>7</td>\n",
       "      <td>44</td>\n",
       "      <td>-0.272265</td>\n",
       "      <td>-0.032463</td>\n",
       "      <td>7.0</td>\n",
       "      <td>8.0</td>\n",
       "      <td>60</td>\n",
       "      <td>4</td>\n",
       "      <td>0</td>\n",
       "    </tr>\n",
       "    <tr>\n",
       "      <td>5</td>\n",
       "      <td>5</td>\n",
       "      <td>31</td>\n",
       "      <td>-0.400095</td>\n",
       "      <td>-0.034948</td>\n",
       "      <td>2.0</td>\n",
       "      <td>3.0</td>\n",
       "      <td>34</td>\n",
       "      <td>3</td>\n",
       "      <td>1</td>\n",
       "    </tr>\n",
       "    <tr>\n",
       "      <td>6</td>\n",
       "      <td>6</td>\n",
       "      <td>93</td>\n",
       "      <td>-0.326225</td>\n",
       "      <td>0.008140</td>\n",
       "      <td>0.0</td>\n",
       "      <td>2.0</td>\n",
       "      <td>49</td>\n",
       "      <td>2</td>\n",
       "      <td>6</td>\n",
       "    </tr>\n",
       "  </tbody>\n",
       "</table>\n",
       "</div>"
      ],
      "text/plain": [
       "              main_category  category  duration  usd_goal_real  \\\n",
       "Unnamed: 0.1                                                     \n",
       "0                        12        19 -0.316333      -0.036515   \n",
       "2                         8       136  2.025723      -0.031740   \n",
       "4                         7        44 -0.272265      -0.032463   \n",
       "5                         5        31 -0.400095      -0.034948   \n",
       "6                         6        93 -0.326225       0.008140   \n",
       "\n",
       "              launched_month_deadline_month_0  \\\n",
       "Unnamed: 0.1                                    \n",
       "0                                         4.0   \n",
       "2                                        10.0   \n",
       "4                                         7.0   \n",
       "5                                         2.0   \n",
       "6                                         0.0   \n",
       "\n",
       "              launched_month_deadline_month_1  num_chars  num_unusual_words  \\\n",
       "Unnamed: 0.1                                                                  \n",
       "0                                         5.0         56                  1   \n",
       "2                                         0.0         30                  2   \n",
       "4                                         8.0         60                  4   \n",
       "5                                         3.0         34                  3   \n",
       "6                                         2.0         49                  2   \n",
       "\n",
       "              num_weird_chars  \n",
       "Unnamed: 0.1                   \n",
       "0                           2  \n",
       "2                           0  \n",
       "4                           0  \n",
       "5                           1  \n",
       "6                           6  "
      ]
     },
     "execution_count": 8,
     "metadata": {},
     "output_type": "execute_result"
    }
   ],
   "source": [
    "print(len(x_train_basic))\n",
    "print(len(y_train_basic))\n",
    "print(y_train_basic.head())\n",
    "x_train_basic.head()"
   ]
  },
  {
   "cell_type": "code",
   "execution_count": 23,
   "metadata": {},
   "outputs": [],
   "source": [
    "def get_knn_basic_mapper():\n",
    "    mapper = DataFrameMapper([\n",
    "        (['launched_month_deadline_month_0'], None),\n",
    "        (['launched_month_deadline_month_1'], None),\n",
    "        (['num_chars'], MinMaxScaler()),\n",
    "        (['num_unusual_words'], MinMaxScaler()),\n",
    "        (['num_weird_chars'], MinMaxScaler()),\n",
    "        (['main_category'], None),\n",
    "        (['category'], None),\n",
    "        (['duration'], None),\n",
    "        (['usd_goal_real'], None)\n",
    "    ], df_out=True)\n",
    "    return mapper"
   ]
  },
  {
   "cell_type": "code",
   "execution_count": 24,
   "metadata": {},
   "outputs": [
    {
     "data": {
      "text/html": [
       "<div>\n",
       "<style scoped>\n",
       "    .dataframe tbody tr th:only-of-type {\n",
       "        vertical-align: middle;\n",
       "    }\n",
       "\n",
       "    .dataframe tbody tr th {\n",
       "        vertical-align: top;\n",
       "    }\n",
       "\n",
       "    .dataframe thead th {\n",
       "        text-align: right;\n",
       "    }\n",
       "</style>\n",
       "<table border=\"1\" class=\"dataframe\">\n",
       "  <thead>\n",
       "    <tr style=\"text-align: right;\">\n",
       "      <th></th>\n",
       "      <th>launched_month_deadline_month_0</th>\n",
       "      <th>launched_month_deadline_month_1</th>\n",
       "      <th>num_chars</th>\n",
       "      <th>num_unusual_words</th>\n",
       "      <th>num_weird_chars</th>\n",
       "      <th>main_category</th>\n",
       "      <th>category</th>\n",
       "      <th>duration</th>\n",
       "      <th>usd_goal_real</th>\n",
       "    </tr>\n",
       "    <tr>\n",
       "      <th>Unnamed: 0.1</th>\n",
       "      <th></th>\n",
       "      <th></th>\n",
       "      <th></th>\n",
       "      <th></th>\n",
       "      <th></th>\n",
       "      <th></th>\n",
       "      <th></th>\n",
       "      <th></th>\n",
       "      <th></th>\n",
       "    </tr>\n",
       "  </thead>\n",
       "  <tbody>\n",
       "    <tr>\n",
       "      <td>0</td>\n",
       "      <td>4.0</td>\n",
       "      <td>5.0</td>\n",
       "      <td>0.597826</td>\n",
       "      <td>0.111111</td>\n",
       "      <td>0.037037</td>\n",
       "      <td>12</td>\n",
       "      <td>19</td>\n",
       "      <td>-0.316333</td>\n",
       "      <td>-0.036515</td>\n",
       "    </tr>\n",
       "    <tr>\n",
       "      <td>2</td>\n",
       "      <td>10.0</td>\n",
       "      <td>0.0</td>\n",
       "      <td>0.315217</td>\n",
       "      <td>0.222222</td>\n",
       "      <td>0.000000</td>\n",
       "      <td>8</td>\n",
       "      <td>136</td>\n",
       "      <td>2.025723</td>\n",
       "      <td>-0.031740</td>\n",
       "    </tr>\n",
       "    <tr>\n",
       "      <td>4</td>\n",
       "      <td>7.0</td>\n",
       "      <td>8.0</td>\n",
       "      <td>0.641304</td>\n",
       "      <td>0.444444</td>\n",
       "      <td>0.000000</td>\n",
       "      <td>7</td>\n",
       "      <td>44</td>\n",
       "      <td>-0.272265</td>\n",
       "      <td>-0.032463</td>\n",
       "    </tr>\n",
       "    <tr>\n",
       "      <td>5</td>\n",
       "      <td>2.0</td>\n",
       "      <td>3.0</td>\n",
       "      <td>0.358696</td>\n",
       "      <td>0.333333</td>\n",
       "      <td>0.018519</td>\n",
       "      <td>5</td>\n",
       "      <td>31</td>\n",
       "      <td>-0.400095</td>\n",
       "      <td>-0.034948</td>\n",
       "    </tr>\n",
       "    <tr>\n",
       "      <td>6</td>\n",
       "      <td>0.0</td>\n",
       "      <td>2.0</td>\n",
       "      <td>0.521739</td>\n",
       "      <td>0.222222</td>\n",
       "      <td>0.111111</td>\n",
       "      <td>6</td>\n",
       "      <td>93</td>\n",
       "      <td>-0.326225</td>\n",
       "      <td>0.008140</td>\n",
       "    </tr>\n",
       "  </tbody>\n",
       "</table>\n",
       "</div>"
      ],
      "text/plain": [
       "              launched_month_deadline_month_0  \\\n",
       "Unnamed: 0.1                                    \n",
       "0                                         4.0   \n",
       "2                                        10.0   \n",
       "4                                         7.0   \n",
       "5                                         2.0   \n",
       "6                                         0.0   \n",
       "\n",
       "              launched_month_deadline_month_1  num_chars  num_unusual_words  \\\n",
       "Unnamed: 0.1                                                                  \n",
       "0                                         5.0   0.597826           0.111111   \n",
       "2                                         0.0   0.315217           0.222222   \n",
       "4                                         8.0   0.641304           0.444444   \n",
       "5                                         3.0   0.358696           0.333333   \n",
       "6                                         2.0   0.521739           0.222222   \n",
       "\n",
       "              num_weird_chars  main_category  category  duration  \\\n",
       "Unnamed: 0.1                                                       \n",
       "0                    0.037037             12        19 -0.316333   \n",
       "2                    0.000000              8       136  2.025723   \n",
       "4                    0.000000              7        44 -0.272265   \n",
       "5                    0.018519              5        31 -0.400095   \n",
       "6                    0.111111              6        93 -0.326225   \n",
       "\n",
       "              usd_goal_real  \n",
       "Unnamed: 0.1                 \n",
       "0                 -0.036515  \n",
       "2                 -0.031740  \n",
       "4                 -0.032463  \n",
       "5                 -0.034948  \n",
       "6                  0.008140  "
      ]
     },
     "execution_count": 24,
     "metadata": {},
     "output_type": "execute_result"
    }
   ],
   "source": [
    "basic_mapper = get_knn_basic_mapper()\n",
    "x_train_basic_scaled = basic_mapper.fit_transform(x_train_basic)\n",
    "x_valid_basic_scaled = basic_mapper.transform(x_valid_basic)\n",
    "x_train_basic_scaled.head()"
   ]
  },
  {
   "cell_type": "code",
   "execution_count": null,
   "metadata": {},
   "outputs": [
    {
     "name": "stdout",
     "output_type": "stream",
     "text": [
      "Fitting 3 folds for each of 3 candidates, totalling 9 fits\n",
      "[Parallel(n_jobs=-1)]: Using backend LokyBackend with 40 concurrent workers.\n"
     ]
    },
    {
     "name": "stderr",
     "output_type": "stream",
     "text": [
      "/users/hunhoffe/anaconda3/lib/python3.7/site-packages/sklearn/model_selection/_split.py:1978: FutureWarning: The default value of cv will change from 3 to 5 in version 0.22. Specify it explicitly to silence this warning.\n",
      "  warnings.warn(CV_WARNING, FutureWarning)\n"
     ]
    },
    {
     "name": "stdout",
     "output_type": "stream",
     "text": [
      "[Parallel(n_jobs=-1)]: Done   1 tasks      | elapsed:  4.5min\n",
      "[Parallel(n_jobs=-1)]: Done   2 out of   9 | elapsed:  4.5min remaining: 15.9min\n",
      "[Parallel(n_jobs=-1)]: Done   3 out of   9 | elapsed:  5.0min remaining:  9.9min\n",
      "[Parallel(n_jobs=-1)]: Done   4 out of   9 | elapsed:  5.1min remaining:  6.4min\n",
      "[Parallel(n_jobs=-1)]: Done   5 out of   9 | elapsed:  5.6min remaining:  4.5min\n",
      "[Parallel(n_jobs=-1)]: Done   6 out of   9 | elapsed:  5.8min remaining:  2.9min\n",
      "[Parallel(n_jobs=-1)]: Done   7 out of   9 | elapsed:  6.2min remaining:  1.8min\n",
      "[Parallel(n_jobs=-1)]: Done   9 out of   9 | elapsed:  6.2min remaining:    0.0s\n",
      "[Parallel(n_jobs=-1)]: Done   9 out of   9 | elapsed:  6.2min finished\n"
     ]
    }
   ],
   "source": [
    "params = {\n",
    "    'C' : [0.25, 0.5, 0.75],\n",
    "}\n",
    "\n",
    "search_basic = GridSearchCV(\n",
    "    SVC(kernel='rbf', gamma='auto', max_iter=10000),\n",
    "    param_grid=params,\n",
    "    n_jobs=-1,\n",
    "    verbose=50,\n",
    ")\n",
    "_ = search_basic.fit(x_train_basic, y_train_basic)\n",
    "print(search_basic.best_score_)\n",
    "print(search_basicd.best_params_)"
   ]
  },
  {
   "cell_type": "code",
   "execution_count": 30,
   "metadata": {},
   "outputs": [
    {
     "name": "stdout",
     "output_type": "stream",
     "text": [
      "Fitting 3 folds for each of 3 candidates, totalling 9 fits\n",
      "[Parallel(n_jobs=-1)]: Using backend LokyBackend with 40 concurrent workers.\n"
     ]
    },
    {
     "name": "stderr",
     "output_type": "stream",
     "text": [
      "/users/hunhoffe/anaconda3/lib/python3.7/site-packages/sklearn/model_selection/_split.py:1978: FutureWarning: The default value of cv will change from 3 to 5 in version 0.22. Specify it explicitly to silence this warning.\n",
      "  warnings.warn(CV_WARNING, FutureWarning)\n"
     ]
    },
    {
     "name": "stdout",
     "output_type": "stream",
     "text": [
      "[Parallel(n_jobs=-1)]: Done   1 tasks      | elapsed: 35.6min\n",
      "[Parallel(n_jobs=-1)]: Done   2 out of   9 | elapsed: 35.7min remaining: 124.9min\n",
      "[Parallel(n_jobs=-1)]: Done   3 out of   9 | elapsed: 35.8min remaining: 71.6min\n",
      "[Parallel(n_jobs=-1)]: Done   4 out of   9 | elapsed: 39.2min remaining: 49.0min\n",
      "[Parallel(n_jobs=-1)]: Done   5 out of   9 | elapsed: 40.0min remaining: 32.0min\n",
      "[Parallel(n_jobs=-1)]: Done   6 out of   9 | elapsed: 40.3min remaining: 20.2min\n",
      "[Parallel(n_jobs=-1)]: Done   7 out of   9 | elapsed: 40.8min remaining: 11.6min\n",
      "[Parallel(n_jobs=-1)]: Done   9 out of   9 | elapsed: 43.8min remaining:    0.0s\n",
      "[Parallel(n_jobs=-1)]: Done   9 out of   9 | elapsed: 43.8min finished\n",
      "0.4113804029509194\n",
      "{'C': 0.5}\n"
     ]
    },
    {
     "name": "stderr",
     "output_type": "stream",
     "text": [
      "/users/hunhoffe/anaconda3/lib/python3.7/site-packages/sklearn/svm/base.py:241: ConvergenceWarning: Solver terminated early (max_iter=10000).  Consider pre-processing your data with StandardScaler or MinMaxScaler.\n",
      "  % self.max_iter, ConvergenceWarning)\n"
     ]
    }
   ],
   "source": [
    "params = {\n",
    "    'C' : [0.25, 0.5, 0.75],\n",
    "}\n",
    "\n",
    "search_basic_scaled = GridSearchCV(\n",
    "    SVC(kernel='rbf', gamma='auto', max_iter=10000),\n",
    "    param_grid=params,\n",
    "    n_jobs=-1,\n",
    "    verbose=50,\n",
    ")\n",
    "_ = search_basic_scaled.fit(x_train_basic_scaled, y_train_basic)\n",
    "print(search_basic_scaled.best_score_)\n",
    "print(search_basic_scaled.best_params_)"
   ]
  },
  {
   "cell_type": "markdown",
   "metadata": {},
   "source": [
    "Doesn't look great, but best so far is:\n",
    "\n",
    "For Bas:\n",
    "SVC w/ rbf kernel, C=.75, gamma=auto on base dataset. Let's continue with this thought.\n",
    "\n",
    "For Doc2Vec, best current found is:\n",
    "0.6121397365936405\n",
    "{'C': 0.5, 'gamma': 'auto'"
   ]
  },
  {
   "cell_type": "code",
   "execution_count": 25,
   "metadata": {},
   "outputs": [],
   "source": [
    "x_test_base = pd.read_csv(\"data/preprocess-base-x-test.csv\", index_col=0)\n",
    "y_test_base = pd.read_csv(\"data/preprocess-base-y-test.csv\", squeeze=True)\n",
    "\n",
    "x_test_d2v = pd.read_csv(\"data/preprocess-doc2vec-x-test.csv\", index_col=0)\n",
    "y_test_d2v = pd.read_csv(\"data/preprocess-doc2vec-y-test.csv\", squeeze=True)"
   ]
  },
  {
   "cell_type": "code",
   "execution_count": 26,
   "metadata": {},
   "outputs": [],
   "source": [
    "svc_base = SVC(kernel='rbf', C=.75, gamma='auto', max_iter=75000)"
   ]
  },
  {
   "cell_type": "code",
   "execution_count": null,
   "metadata": {},
   "outputs": [],
   "source": [
    "%%time\n",
    "svc_base.fit(x_train_base, y_train_base)"
   ]
  },
  {
   "cell_type": "code",
   "execution_count": 11,
   "metadata": {},
   "outputs": [
    {
     "name": "stdout",
     "output_type": "stream",
     "text": [
      "0.6531885536024956\n"
     ]
    }
   ],
   "source": [
    "base_score_test = svc.score(x_test_base, y_test_base)\n",
    "print(base_score_test)"
   ]
  },
  {
   "cell_type": "code",
   "execution_count": 12,
   "metadata": {},
   "outputs": [
    {
     "name": "stdout",
     "output_type": "stream",
     "text": [
      "CPU times: user 1h 4min 39s, sys: 3.48 s, total: 1h 4min 43s\n",
      "Wall time: 1h 4min 39s\n"
     ]
    },
    {
     "name": "stderr",
     "output_type": "stream",
     "text": [
      "/users/hunhoffe/anaconda3/lib/python3.7/site-packages/sklearn/svm/base.py:241: ConvergenceWarning: Solver terminated early (max_iter=75000).  Consider pre-processing your data with StandardScaler or MinMaxScaler.\n",
      "  % self.max_iter, ConvergenceWarning)\n"
     ]
    },
    {
     "data": {
      "text/plain": [
       "SVC(C=0.75, cache_size=200, class_weight=None, coef0=0.0,\n",
       "    decision_function_shape='ovr', degree=3, gamma='auto', kernel='rbf',\n",
       "    max_iter=75000, probability=False, random_state=None, shrinking=True,\n",
       "    tol=0.001, verbose=False)"
      ]
     },
     "execution_count": 12,
     "metadata": {},
     "output_type": "execute_result"
    }
   ],
   "source": [
    "%%time\n",
    "svc2 = SVC(kernel='rbf', C=.75, gamma='auto', max_iter=75000)\n",
    "svc2.fit(x_train_d2v, y_train_d2v)"
   ]
  },
  {
   "cell_type": "code",
   "execution_count": 13,
   "metadata": {},
   "outputs": [
    {
     "name": "stdout",
     "output_type": "stream",
     "text": [
      "0.6459295698602195\n"
     ]
    }
   ],
   "source": [
    "d2v_score_test = svc2.score(x_test_d2v, y_test_d2v)\n",
    "print(d2v_score_test)"
   ]
  },
  {
   "cell_type": "code",
   "execution_count": 10,
   "metadata": {},
   "outputs": [
    {
     "data": {
      "text/html": [
       "<div>\n",
       "<style scoped>\n",
       "    .dataframe tbody tr th:only-of-type {\n",
       "        vertical-align: middle;\n",
       "    }\n",
       "\n",
       "    .dataframe tbody tr th {\n",
       "        vertical-align: top;\n",
       "    }\n",
       "\n",
       "    .dataframe thead th {\n",
       "        text-align: right;\n",
       "    }\n",
       "</style>\n",
       "<table border=\"1\" class=\"dataframe\">\n",
       "  <thead>\n",
       "    <tr style=\"text-align: right;\">\n",
       "      <th></th>\n",
       "      <th>main_category</th>\n",
       "      <th>category</th>\n",
       "      <th>duration</th>\n",
       "      <th>usd_goal_real</th>\n",
       "      <th>launched_month_deadline_month_0</th>\n",
       "      <th>launched_month_deadline_month_1</th>\n",
       "      <th>num_chars</th>\n",
       "      <th>num_unusual_words</th>\n",
       "      <th>num_weird_chars</th>\n",
       "    </tr>\n",
       "    <tr>\n",
       "      <th>Unnamed: 0.1</th>\n",
       "      <th></th>\n",
       "      <th></th>\n",
       "      <th></th>\n",
       "      <th></th>\n",
       "      <th></th>\n",
       "      <th></th>\n",
       "      <th></th>\n",
       "      <th></th>\n",
       "      <th></th>\n",
       "    </tr>\n",
       "  </thead>\n",
       "  <tbody>\n",
       "    <tr>\n",
       "      <td>0</td>\n",
       "      <td>13</td>\n",
       "      <td>67</td>\n",
       "      <td>-0.267523</td>\n",
       "      <td>0.642591</td>\n",
       "      <td>8.0</td>\n",
       "      <td>9.0</td>\n",
       "      <td>40</td>\n",
       "      <td>2</td>\n",
       "      <td>1</td>\n",
       "    </tr>\n",
       "    <tr>\n",
       "      <td>1</td>\n",
       "      <td>7</td>\n",
       "      <td>58</td>\n",
       "      <td>-0.877738</td>\n",
       "      <td>-0.037169</td>\n",
       "      <td>6.0</td>\n",
       "      <td>6.0</td>\n",
       "      <td>18</td>\n",
       "      <td>0</td>\n",
       "      <td>2</td>\n",
       "    </tr>\n",
       "    <tr>\n",
       "      <td>2</td>\n",
       "      <td>6</td>\n",
       "      <td>129</td>\n",
       "      <td>4.440430</td>\n",
       "      <td>-0.032646</td>\n",
       "      <td>9.0</td>\n",
       "      <td>0.0</td>\n",
       "      <td>13</td>\n",
       "      <td>2</td>\n",
       "      <td>0</td>\n",
       "    </tr>\n",
       "    <tr>\n",
       "      <td>3</td>\n",
       "      <td>6</td>\n",
       "      <td>40</td>\n",
       "      <td>-0.183799</td>\n",
       "      <td>-0.022676</td>\n",
       "      <td>1.0</td>\n",
       "      <td>2.0</td>\n",
       "      <td>15</td>\n",
       "      <td>0</td>\n",
       "      <td>0</td>\n",
       "    </tr>\n",
       "    <tr>\n",
       "      <td>4</td>\n",
       "      <td>10</td>\n",
       "      <td>90</td>\n",
       "      <td>-0.744063</td>\n",
       "      <td>-0.034459</td>\n",
       "      <td>1.0</td>\n",
       "      <td>2.0</td>\n",
       "      <td>35</td>\n",
       "      <td>1</td>\n",
       "      <td>1</td>\n",
       "    </tr>\n",
       "  </tbody>\n",
       "</table>\n",
       "</div>"
      ],
      "text/plain": [
       "              main_category  category  duration  usd_goal_real  \\\n",
       "Unnamed: 0.1                                                     \n",
       "0                        13        67 -0.267523       0.642591   \n",
       "1                         7        58 -0.877738      -0.037169   \n",
       "2                         6       129  4.440430      -0.032646   \n",
       "3                         6        40 -0.183799      -0.022676   \n",
       "4                        10        90 -0.744063      -0.034459   \n",
       "\n",
       "              launched_month_deadline_month_0  \\\n",
       "Unnamed: 0.1                                    \n",
       "0                                         8.0   \n",
       "1                                         6.0   \n",
       "2                                         9.0   \n",
       "3                                         1.0   \n",
       "4                                         1.0   \n",
       "\n",
       "              launched_month_deadline_month_1  num_chars  num_unusual_words  \\\n",
       "Unnamed: 0.1                                                                  \n",
       "0                                         9.0         40                  2   \n",
       "1                                         6.0         18                  0   \n",
       "2                                         0.0         13                  2   \n",
       "3                                         2.0         15                  0   \n",
       "4                                         2.0         35                  1   \n",
       "\n",
       "              num_weird_chars  \n",
       "Unnamed: 0.1                   \n",
       "0                           1  \n",
       "1                           2  \n",
       "2                           0  \n",
       "3                           0  \n",
       "4                           1  "
      ]
     },
     "execution_count": 10,
     "metadata": {},
     "output_type": "execute_result"
    }
   ],
   "source": [
    "x_test_basic = pd.read_csv(\"data/preprocess-basic_name-x-test-correct.csv\", index_col=0)\n",
    "y_test_basic = pd.read_csv(\"data/preprocess-basic_name-y-test-correct.csv\", squeeze=True)\n",
    "x_test_basic.set_index('Unnamed: 0.1', drop=True, inplace=True)\n",
    "x_test_basic.head()\n",
    "\n",
    "# 0.6138000288050697\n",
    "# {'C': 0.5, 'gamma': 'auto'}"
   ]
  },
  {
   "cell_type": "code",
   "execution_count": 8,
   "metadata": {},
   "outputs": [
    {
     "name": "stdout",
     "output_type": "stream",
     "text": [
      "CPU times: user 50min 12s, sys: 3.94 s, total: 50min 16s\n",
      "Wall time: 50min 13s\n"
     ]
    },
    {
     "name": "stderr",
     "output_type": "stream",
     "text": [
      "/users/hunhoffe/anaconda3/lib/python3.7/site-packages/sklearn/svm/base.py:241: ConvergenceWarning: Solver terminated early (max_iter=75000).  Consider pre-processing your data with StandardScaler or MinMaxScaler.\n",
      "  % self.max_iter, ConvergenceWarning)\n"
     ]
    },
    {
     "data": {
      "text/plain": [
       "SVC(C=0.5, cache_size=200, class_weight=None, coef0=0.0,\n",
       "    decision_function_shape='ovr', degree=3, gamma='auto', kernel='rbf',\n",
       "    max_iter=75000, probability=False, random_state=None, shrinking=True,\n",
       "    tol=0.001, verbose=False)"
      ]
     },
     "execution_count": 8,
     "metadata": {},
     "output_type": "execute_result"
    }
   ],
   "source": [
    "%%time\n",
    "svc2 = SVC(kernel='rbf', C=.5, gamma='auto', max_iter=75000)\n",
    "svc2.fit(x_train_basic, y_train_basic)"
   ]
  },
  {
   "cell_type": "code",
   "execution_count": 11,
   "metadata": {},
   "outputs": [
    {
     "name": "stdout",
     "output_type": "stream",
     "text": [
      "0.6397304377387166\n"
     ]
    }
   ],
   "source": [
    "basic_score_test = svc2.score(x_test_basic, y_test_basic)\n",
    "print(basic_score_test)"
   ]
  },
  {
   "cell_type": "code",
   "execution_count": 14,
   "metadata": {},
   "outputs": [],
   "source": [
    "basic_predictions = svc2.predict(x_test_basic)"
   ]
  },
  {
   "cell_type": "code",
   "execution_count": 15,
   "metadata": {},
   "outputs": [],
   "source": [
    "import pickle\n",
    "import datetime\n",
    "ts = datetime.datetime.now().timestamp()\n",
    "pickle.dump(basic_predictions, open(\"svm-predictions/basic-test-predictions-%s.pickle\" % ts, \"wb\"))"
   ]
  },
  {
   "cell_type": "code",
   "execution_count": null,
   "metadata": {},
   "outputs": [],
   "source": [
    "ts = datetime.datetime.now().timestamp()\n",
    "base_predictions = svc_base.predict(x_test_base)\n",
    "pickle.dump(base_predictions, open(\"svm-predictions/base-test-predictions-%s.pickle\" % ts, \"wb\"))"
   ]
  },
  {
   "cell_type": "code",
   "execution_count": null,
   "metadata": {},
   "outputs": [],
   "source": [
    "%%time\n",
    "svc_d2v = SVC(kernel='rbf', C=.75, gamma='auto', max_iter=75000)\n",
    "svc_d2v.fit(x_train_d2v, y_train_d2v)\n",
    "d2v_predictions = svc_de2v.predict(x_test_base)\n",
    "pickle.dump(doc2vec_predictions, open(\"svm-predictions/doc2vec-test-predictions-%s.pickle\" % ts, \"wb\"))"
   ]
  },
  {
   "cell_type": "code",
   "execution_count": null,
   "metadata": {},
   "outputs": [],
   "source": []
  }
 ],
 "metadata": {
  "kernelspec": {
   "display_name": "Python 3",
   "language": "python",
   "name": "python3"
  },
  "language_info": {
   "codemirror_mode": {
    "name": "ipython",
    "version": 3
   },
   "file_extension": ".py",
   "mimetype": "text/x-python",
   "name": "python",
   "nbconvert_exporter": "python",
   "pygments_lexer": "ipython3",
   "version": "3.7.4"
  }
 },
 "nbformat": 4,
 "nbformat_minor": 2
}
