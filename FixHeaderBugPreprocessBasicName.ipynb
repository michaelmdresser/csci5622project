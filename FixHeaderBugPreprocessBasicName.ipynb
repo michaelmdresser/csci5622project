{
 "cells": [
  {
   "cell_type": "code",
   "execution_count": 1,
   "metadata": {},
   "outputs": [],
   "source": [
    "import os\n",
    "import pandas as pd\n",
    "import numpy as np\n",
    "\n",
    "os.chdir(r\"/Users/glinn/Documents/CSCI5622-machine-learning/project/csci5622project\")"
   ]
  },
  {
   "cell_type": "code",
   "execution_count": 36,
   "metadata": {},
   "outputs": [],
   "source": [
    "X_train = pd.read_csv(\"data/preprocess-basic_name-x-train.csv\").dropna()\n",
    "Y_train = pd.read_csv(\"data/preprocess-basic_name-y-train.csv\",index_col=0,header=None).dropna()\n",
    "X_valid = pd.read_csv(\"data/preprocess-basic_name-x-valid.csv\").dropna()\n",
    "Y_valid = pd.read_csv(\"data/preprocess-basic_name-y-valid.csv\",header=None,index_col=0).dropna()"
   ]
  },
  {
   "cell_type": "code",
   "execution_count": 37,
   "metadata": {},
   "outputs": [
    {
     "name": "stdout",
     "output_type": "stream",
     "text": [
      "(249956, 10)\n",
      "(249956, 1)\n",
      "       1\n",
      "0       \n",
      "0   True\n",
      "2   True\n",
      "4  False\n",
      "5  False\n",
      "6  False\n"
     ]
    }
   ],
   "source": [
    "print(X_train.shape)\n",
    "print(Y_train.shape)\n",
    "print(Y_train.head(5))"
   ]
  },
  {
   "cell_type": "code",
   "execution_count": 40,
   "metadata": {},
   "outputs": [],
   "source": [
    "# TODO: write to file\n",
    "X_train.to_csv(\"data/preprocess-basic_name-x-train-correct.csv\", header=True)\n",
    "Y_train.to_csv(\"data/preprocess-basic_name-y-train-correct.csv\", header=True, index=False)\n",
    "X_valid.to_csv(\"data/preprocess-basic_name-x-valid-correct.csv\", header=True)\n",
    "Y_valid.to_csv(\"data/preprocess-basic_name-y-valid-correct.csv\", header=True, index=False)"
   ]
  },
  {
   "cell_type": "code",
   "execution_count": 41,
   "metadata": {},
   "outputs": [
    {
     "name": "stdout",
     "output_type": "stream",
     "text": [
      "(249956, 11)\n",
      "(249956, 1)\n"
     ]
    }
   ],
   "source": [
    "X_train_correct = pd.read_csv(\"data/preprocess-basic_name-x-train-correct.csv\").dropna()\n",
    "Y_train_correct = pd.read_csv(\"data/preprocess-basic_name-y-train-correct.csv\").dropna()\n",
    "print(X_train_correct.shape)\n",
    "print(Y_train_correct.shape)"
   ]
  },
  {
   "cell_type": "code",
   "execution_count": 42,
   "metadata": {},
   "outputs": [
    {
     "name": "stdout",
     "output_type": "stream",
     "text": [
      "       1\n",
      "0       \n",
      "0   True\n",
      "2   True\n",
      "4  False\n",
      "5  False\n",
      "6  False\n",
      "       1\n",
      "0   True\n",
      "1   True\n",
      "2  False\n",
      "3  False\n",
      "4  False\n",
      "   Unnamed: 0  main_category  category  duration  usd_goal_real  \\\n",
      "0           0             12        19 -0.316333      -0.036515   \n",
      "1           2              8       136  2.025723      -0.031740   \n",
      "2           4              7        44 -0.272265      -0.032463   \n",
      "3           5              5        31 -0.400095      -0.034948   \n",
      "4           6              6        93 -0.326225       0.008140   \n",
      "\n",
      "   launched_month_deadline_month_0  launched_month_deadline_month_1  \\\n",
      "0                              4.0                              5.0   \n",
      "1                             10.0                              0.0   \n",
      "2                              7.0                              8.0   \n",
      "3                              2.0                              3.0   \n",
      "4                              0.0                              2.0   \n",
      "\n",
      "   num_chars  num_unusual_words  num_weird_chars  \n",
      "0         56                  1                2  \n",
      "1         30                  2                0  \n",
      "2         60                  4                0  \n",
      "3         34                  3                1  \n",
      "4         49                  2                6  \n"
     ]
    }
   ],
   "source": [
    "print(Y_train.head(5))\n",
    "print(Y_train_correct.head(5))\n",
    "print(X_train.head(5))\n"
   ]
  },
  {
   "cell_type": "code",
   "execution_count": null,
   "metadata": {},
   "outputs": [],
   "source": []
  }
 ],
 "metadata": {
  "kernelspec": {
   "display_name": "Python 3",
   "language": "python",
   "name": "python3"
  },
  "language_info": {
   "codemirror_mode": {
    "name": "ipython",
    "version": 3
   },
   "file_extension": ".py",
   "mimetype": "text/x-python",
   "name": "python",
   "nbconvert_exporter": "python",
   "pygments_lexer": "ipython3",
   "version": "3.6.9"
  }
 },
 "nbformat": 4,
 "nbformat_minor": 2
}
