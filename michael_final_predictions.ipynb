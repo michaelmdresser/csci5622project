{
 "cells": [
  {
   "cell_type": "code",
   "execution_count": 1,
   "metadata": {},
   "outputs": [],
   "source": [
    "import numpy as np\n",
    "import pandas as pd\n",
    "from tensorflow.keras.models import load_model\n",
    "import pickle\n",
    "import datetime"
   ]
  },
  {
   "cell_type": "code",
   "execution_count": 2,
   "metadata": {},
   "outputs": [],
   "source": [
    "base_model = load_model(\"nn-final-models/base_model-1575783299.202439.kerasmodel\")\n",
    "doc2vec_model = load_model(\"nn-final-models/doc2vec_model-1575783152.668142.kerasmodel\")\n",
    "basicname_model = load_model(\"nn-final-models/basicname_model-1575829724.931042.kerasmodel\")"
   ]
  },
  {
   "cell_type": "code",
   "execution_count": 3,
   "metadata": {},
   "outputs": [],
   "source": [
    "def one_hot_df(df,one_hot_cols,drop_cols):\n",
    "    dfret = df.copy()\n",
    "    dfret = pd.get_dummies(dfret,columns=one_hot_cols).drop(columns=drop_cols)\n",
    "    return dfret\n",
    "\n",
    "# THIS RETURNS TEST DATA, NOT VALID DESPITE VARIABLE NAMES\n",
    "def get_data(data_category=\"base\", data_suffix=\"\", one_hot_main=False, one_hot_both=False):\n",
    "    train_x = pd.read_csv(\"data/preprocess-%s-x-train%s.csv\" % (data_category, data_suffix), index_col=0)\n",
    "    train_y = pd.read_csv(\"data/preprocess-%s-y-train%s.csv\" % (data_category, data_suffix))\n",
    "    valid_x = pd.read_csv(\"data/preprocess-%s-x-test%s.csv\" % (data_category, data_suffix), index_col=0)\n",
    "    valid_y = pd.read_csv(\"data/preprocess-%s-y-test%s.csv\" % (data_category, data_suffix))\n",
    "    \n",
    "    if data_category == \"basic_name\" and data_suffix == \"-correct\":\n",
    "        train_x.rename(inplace=True, columns={\n",
    "            \"launched_month_deadline_month_0\": \"launched_month\",\n",
    "            \"launched_month_deadline_month_1\": \"deadline_month\"})\n",
    "        valid_x.rename(inplace=True, columns={\n",
    "            \"launched_month_deadline_month_0\": \"launched_month\",\n",
    "            \"launched_month_deadline_month_1\": \"deadline_month\"})\n",
    "        for col in train_x.columns:\n",
    "            if \"Unnamed\" in col:\n",
    "                train_x = train_x.drop(col, axis=1)\n",
    "                valid_x = valid_x.drop(col, axis=1)\n",
    "        train_y[\"success\"] = train_y[\"1\"]\n",
    "        valid_y[\"success\"] = valid_y[\"1\"]\n",
    "    train_y.success = train_y.success.apply(lambda x: 1 if x else 0)\n",
    "    valid_y.success = valid_y.success.apply(lambda x: 1 if x else 0)\n",
    "    \n",
    "    if one_hot_both:\n",
    "        one_hot_cols = ['main_category', 'category', 'launched_month','deadline_month']\n",
    "        drop_cols = []\n",
    "        train_x = one_hot_df(train_x, one_hot_cols, drop_cols)\n",
    "        valid_x = one_hot_df(valid_x, one_hot_cols, drop_cols)\n",
    "    elif one_hot_main:\n",
    "        one_hot_cols = ['main_category','launched_month','deadline_month']\n",
    "        drop_cols = ['category']\n",
    "        train_x = one_hot_df(train_x, one_hot_cols, drop_cols)\n",
    "        valid_x = one_hot_df(valid_x, one_hot_cols, drop_cols)\n",
    "    \n",
    "    train_x = np.array(train_x)\n",
    "    train_y = np.array(train_y.success).reshape((-1, 1))\n",
    "    valid_x = np.array(valid_x)\n",
    "    valid_y = np.array(valid_y.success).reshape((-1, 1))\n",
    "    \n",
    "    return train_x, train_y, valid_x, valid_y\n",
    "\n",
    "data_base_one_hot_both = get_data(data_category=\"base\", one_hot_both=True)\n",
    "data_doc2vec_one_hot_both = get_data(data_category=\"doc2vec\", one_hot_both=True)\n",
    "data_basicname_one_hot_both = get_data(data_category=\"basic_name\", data_suffix=\"-correct\", one_hot_both=True)"
   ]
  },
  {
   "cell_type": "code",
   "execution_count": 4,
   "metadata": {},
   "outputs": [],
   "source": [
    "base_predictions = base_model.predict(data_base_one_hot_both[2])\n",
    "doc2vec_predictions = doc2vec_model.predict(data_doc2vec_one_hot_both[2])\n",
    "basicname_predictions = basicname_model.predict(data_basicname_one_hot_both[2])"
   ]
  },
  {
   "cell_type": "code",
   "execution_count": 5,
   "metadata": {},
   "outputs": [],
   "source": [
    "ts = datetime.datetime.now().timestamp()\n",
    "pickle.dump(base_predictions, open(\"nn-final-models/base-test-predictions-%s.pickle\" % ts, \"wb\"))\n",
    "pickle.dump(doc2vec_predictions, open(\"nn-final-models/doc2vec-test-predictions-%s.pickle\" % ts, \"wb\"))\n",
    "pickle.dump(basicname_predictions, open(\"nn-final-models/basicname-test-predictions-%s.pickle\" % ts, \"wb\"))"
   ]
  }
 ],
 "metadata": {
  "kernelspec": {
   "display_name": "py_3_7",
   "language": "python",
   "name": "py_3_7"
  },
  "language_info": {
   "codemirror_mode": {
    "name": "ipython",
    "version": 3
   },
   "file_extension": ".py",
   "mimetype": "text/x-python",
   "name": "python",
   "nbconvert_exporter": "python",
   "pygments_lexer": "ipython3",
   "version": "3.7.5"
  }
 },
 "nbformat": 4,
 "nbformat_minor": 2
}
