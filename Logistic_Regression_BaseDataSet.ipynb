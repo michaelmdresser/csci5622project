{
 "cells": [
  {
   "cell_type": "code",
   "execution_count": 1,
   "metadata": {},
   "outputs": [],
   "source": [
    "# Load Necessary Libraries\n",
    "import numpy as np\n",
    "import pandas as pd\n",
    "import matplotlib.pyplot as plt\n",
    "import datetime\n",
    "import os\n",
    "\n",
    "from sklearn.linear_model import LogisticRegression\n",
    "from sklearn.pipeline import make_pipeline\n",
    "from sklearn.model_selection import GridSearchCV\n",
    "from sklearn.model_selection import KFold\n",
    "from sklearn.metrics import accuracy_score\n",
    "\n",
    "\n",
    "#Set Working Directory\n",
    "os.chdir(r\"/Users/glinn/Documents/CSCI5622-machine-learning/project/csci5622project\")"
   ]
  },
  {
   "cell_type": "code",
   "execution_count": 2,
   "metadata": {},
   "outputs": [],
   "source": [
    "def TurnDfXIntoArray(df):\n",
    "    df=df.drop(columns=[\"Unnamed: 0\"])\n",
    "    array = np.array(df)\n",
    "    return array\n",
    "def TurnDfYIntoVector(df):\n",
    "    array = np.array(df,dtype=int)\n",
    "    return array\n",
    "def TuneParameters(Model,C,X_train,Y_train,X_valid,Y_valid):\n",
    "    accuracy = []\n",
    "    accuracy_train = []\n",
    "    best_accuracy = 0.0\n",
    "    for i in range(len(C)):\n",
    "        Model.set_params(C=C[i])\n",
    "        Model.fit(X_train,Y_train)\n",
    "        yhat = Model.predict(X_valid)\n",
    "        accuracy.append(accuracy_score(Y_valid,yhat))\n",
    "        yhat_train = Model.predict(X_train)\n",
    "        accuracy_train.append(accuracy_score(Y_train,yhat_train))\n",
    "        if accuracy[i]>best_accuracy:\n",
    "            best_accuracy = accuracy[i]\n",
    "            Coef = Model.coef_\n",
    "    accuracy = np.array(accuracy)\n",
    "    accuracy_train = np.array(accuracy_train)\n",
    "    return accuracy, accuracy_train, Coef\n",
    "def OneHotEncodeCategory(df,CategoryHeader):\n",
    "    df = pd.get_dummies(df,columns = CategoryHeader)\n",
    "    array = TurnDfXIntoArray(df)\n",
    "    return array\n",
    "\n",
    "def PlotBiasVariance(accuracy_train,accuracy_valid,C):\n",
    "    plt.plot(C,1-accuracy_train,'b')\n",
    "    plt.plot(C,1-accuracy_valid,'r')\n",
    "    plt.title(\"Error vs. Complexity (Regularization parameter, C)\")\n",
    "    plt.xlabel(\"Model Complexity ~ C\")\n",
    "    plt.ylabel(\"1-accuracy\")\n",
    "    plt.legend([\"Training 1-Accuracy\",\"Validation 1-Accuracy\"])\n",
    "\n",
    "def ReportBest(accuracy_train,accuracy_valid,C,Coef):\n",
    "    print(f\"The best validation accuracy is {np.amax(accuracy_valid)}.\")\n",
    "    print(f\"The best training accuracy is {np.amax(accuracy_train)}.\")\n",
    "    print(f\"The best value for C is {C[np.argmax(accuracy_valid)]}\")\n",
    "    print(f\"And, the best model coefficients are {Coef}.\")\n",
    "\n",
    "def ReportFull(accuracy_train,accuracy_valid,C,Coef):\n",
    "    print(f\"The validation accuracy is {accuracy_valid}.\")\n",
    "    print(f\"The training accuracy is {accuracy_train}.\")\n",
    "    print(f\"The best value for C is {C[np.argmax(accuracy_valid)]}\")\n",
    "    print(f\"And, the best model coefficients are {Coef}.\")"
   ]
  },
  {
   "cell_type": "markdown",
   "metadata": {},
   "source": [
    "Import the Data"
   ]
  },
  {
   "cell_type": "code",
   "execution_count": 3,
   "metadata": {},
   "outputs": [
    {
     "name": "stdout",
     "output_type": "stream",
     "text": [
      "   Unnamed: 0  main_category  category  duration  usd_goal_real  \\\n",
      "0           0             12        19 -0.316333      -0.036515   \n",
      "1           2              8       136  2.025723      -0.031740   \n",
      "2           4              7        44 -0.272265      -0.032463   \n",
      "3           5              5        31 -0.400095      -0.034948   \n",
      "4           6              6        93 -0.326225       0.008140   \n",
      "\n",
      "   launched_month  deadline_month  \n",
      "0             4.0             5.0  \n",
      "1            10.0             0.0  \n",
      "2             7.0             8.0  \n",
      "3             2.0             3.0  \n",
      "4             0.0             2.0  \n"
     ]
    }
   ],
   "source": [
    "#training data\n",
    "X_train_df = pd.read_csv(r\"data/preprocess-base-x-train.csv\")\n",
    "Y_train_df = pd.read_csv(r\"data/preprocess-base-y-train.csv\")\n",
    "#validation data\n",
    "X_valid_df = pd.read_csv(r\"data/preprocess-base-x-valid.csv\")\n",
    "Y_valid_df = pd.read_csv(r\"data/preprocess-base-y-valid.csv\")\n",
    "\n",
    "X_train = TurnDfXIntoArray(X_train_df)\n",
    "X_valid = TurnDfXIntoArray(X_valid_df)\n",
    "Y_train = TurnDfYIntoVector(Y_train_df)\n",
    "Y_valid = TurnDfYIntoVector(Y_valid_df)\n",
    "\n",
    "print(X_train_df.head(5))"
   ]
  },
  {
   "cell_type": "markdown",
   "metadata": {},
   "source": [
    "Choose a random seed for repeatability"
   ]
  },
  {
   "cell_type": "code",
   "execution_count": 4,
   "metadata": {},
   "outputs": [],
   "source": [
    "np.random.seed(6591)"
   ]
  },
  {
   "cell_type": "markdown",
   "metadata": {},
   "source": [
    "# Build the Model"
   ]
  },
  {
   "cell_type": "code",
   "execution_count": 5,
   "metadata": {},
   "outputs": [],
   "source": [
    "# Define pipeline\n",
    "pipeline_LogReg = LogisticRegression(penalty='l1',n_jobs=-1,max_iter=200)"
   ]
  },
  {
   "cell_type": "markdown",
   "metadata": {},
   "source": [
    "# Test the Model"
   ]
  },
  {
   "cell_type": "code",
   "execution_count": 6,
   "metadata": {},
   "outputs": [
    {
     "name": "stderr",
     "output_type": "stream",
     "text": [
      "/Users/glinn/anaconda3/lib/python3.6/site-packages/sklearn/linear_model/logistic.py:432: FutureWarning: Default solver will be changed to 'lbfgs' in 0.22. Specify a solver to silence this warning.\n",
      "  FutureWarning)\n",
      "/Users/glinn/anaconda3/lib/python3.6/site-packages/sklearn/utils/validation.py:724: DataConversionWarning: A column-vector y was passed when a 1d array was expected. Please change the shape of y to (n_samples, ), for example using ravel().\n",
      "  y = column_or_1d(y, warn=True)\n",
      "/Users/glinn/anaconda3/lib/python3.6/site-packages/sklearn/linear_model/logistic.py:1544: UserWarning: 'n_jobs' > 1 does not have any effect when 'solver' is set to 'liblinear'. Got 'n_jobs' = 8.\n",
      "  \" = {}.\".format(effective_n_jobs(self.n_jobs)))\n",
      "/Users/glinn/anaconda3/lib/python3.6/site-packages/sklearn/linear_model/logistic.py:432: FutureWarning: Default solver will be changed to 'lbfgs' in 0.22. Specify a solver to silence this warning.\n",
      "  FutureWarning)\n",
      "/Users/glinn/anaconda3/lib/python3.6/site-packages/sklearn/utils/validation.py:724: DataConversionWarning: A column-vector y was passed when a 1d array was expected. Please change the shape of y to (n_samples, ), for example using ravel().\n",
      "  y = column_or_1d(y, warn=True)\n",
      "/Users/glinn/anaconda3/lib/python3.6/site-packages/sklearn/linear_model/logistic.py:1544: UserWarning: 'n_jobs' > 1 does not have any effect when 'solver' is set to 'liblinear'. Got 'n_jobs' = 8.\n",
      "  \" = {}.\".format(effective_n_jobs(self.n_jobs)))\n",
      "/Users/glinn/anaconda3/lib/python3.6/site-packages/sklearn/linear_model/logistic.py:432: FutureWarning: Default solver will be changed to 'lbfgs' in 0.22. Specify a solver to silence this warning.\n",
      "  FutureWarning)\n",
      "/Users/glinn/anaconda3/lib/python3.6/site-packages/sklearn/utils/validation.py:724: DataConversionWarning: A column-vector y was passed when a 1d array was expected. Please change the shape of y to (n_samples, ), for example using ravel().\n",
      "  y = column_or_1d(y, warn=True)\n",
      "/Users/glinn/anaconda3/lib/python3.6/site-packages/sklearn/linear_model/logistic.py:1544: UserWarning: 'n_jobs' > 1 does not have any effect when 'solver' is set to 'liblinear'. Got 'n_jobs' = 8.\n",
      "  \" = {}.\".format(effective_n_jobs(self.n_jobs)))\n",
      "/Users/glinn/anaconda3/lib/python3.6/site-packages/sklearn/linear_model/logistic.py:432: FutureWarning: Default solver will be changed to 'lbfgs' in 0.22. Specify a solver to silence this warning.\n",
      "  FutureWarning)\n",
      "/Users/glinn/anaconda3/lib/python3.6/site-packages/sklearn/utils/validation.py:724: DataConversionWarning: A column-vector y was passed when a 1d array was expected. Please change the shape of y to (n_samples, ), for example using ravel().\n",
      "  y = column_or_1d(y, warn=True)\n",
      "/Users/glinn/anaconda3/lib/python3.6/site-packages/sklearn/linear_model/logistic.py:1544: UserWarning: 'n_jobs' > 1 does not have any effect when 'solver' is set to 'liblinear'. Got 'n_jobs' = 8.\n",
      "  \" = {}.\".format(effective_n_jobs(self.n_jobs)))\n",
      "/Users/glinn/anaconda3/lib/python3.6/site-packages/sklearn/linear_model/logistic.py:432: FutureWarning: Default solver will be changed to 'lbfgs' in 0.22. Specify a solver to silence this warning.\n",
      "  FutureWarning)\n",
      "/Users/glinn/anaconda3/lib/python3.6/site-packages/sklearn/utils/validation.py:724: DataConversionWarning: A column-vector y was passed when a 1d array was expected. Please change the shape of y to (n_samples, ), for example using ravel().\n",
      "  y = column_or_1d(y, warn=True)\n",
      "/Users/glinn/anaconda3/lib/python3.6/site-packages/sklearn/linear_model/logistic.py:1544: UserWarning: 'n_jobs' > 1 does not have any effect when 'solver' is set to 'liblinear'. Got 'n_jobs' = 8.\n",
      "  \" = {}.\".format(effective_n_jobs(self.n_jobs)))\n"
     ]
    },
    {
     "name": "stdout",
     "output_type": "stream",
     "text": [
      "The validation accuracy is [0.61192818 0.61385305 0.61382297 0.61376282 0.61370267].\n",
      "The training accuracy is [0.60787099 0.60986734 0.60990334 0.60991535 0.60990334].\n",
      "The best value for C is 1.0\n",
      "And, the best model coefficients are [[-1.35944239e-02  2.15847832e-03 -2.01575233e-01 -1.78757020e+01\n",
      "  -9.42695647e-03  5.90951536e-03]].\n"
     ]
    }
   ],
   "source": [
    "C=[0.01,1.0,10.0,100.0,1000.0]\n",
    "Accuracy, Accuracy_train, Coef = TuneParameters(pipeline_LogReg,C,X_train,Y_train,X_valid,Y_valid)\n",
    "ReportFull(Accuracy_train,Accuracy,C,Coef)"
   ]
  },
  {
   "cell_type": "code",
   "execution_count": 7,
   "metadata": {},
   "outputs": [
    {
     "data": {
      "image/png": "[encoded data removed]",
      "text/plain": [
       "<Figure size 432x288 with 1 Axes>"
      ]
     },
     "metadata": {
      "needs_background": "light"
     },
     "output_type": "display_data"
    }
   ],
   "source": [
    "PlotBiasVariance(Accuracy_train,Accuracy,C)\n",
    "plt.savefig('Figures/LogReg/BaseDataset/BiasVarianceCoarseTunedC.png')"
   ]
  },
  {
   "cell_type": "code",
   "execution_count": 8,
   "metadata": {},
   "outputs": [
    {
     "name": "stderr",
     "output_type": "stream",
     "text": [
      "/Users/glinn/anaconda3/lib/python3.6/site-packages/sklearn/linear_model/logistic.py:432: FutureWarning: Default solver will be changed to 'lbfgs' in 0.22. Specify a solver to silence this warning.\n",
      "  FutureWarning)\n",
      "/Users/glinn/anaconda3/lib/python3.6/site-packages/sklearn/utils/validation.py:724: DataConversionWarning: A column-vector y was passed when a 1d array was expected. Please change the shape of y to (n_samples, ), for example using ravel().\n",
      "  y = column_or_1d(y, warn=True)\n",
      "/Users/glinn/anaconda3/lib/python3.6/site-packages/sklearn/linear_model/logistic.py:1544: UserWarning: 'n_jobs' > 1 does not have any effect when 'solver' is set to 'liblinear'. Got 'n_jobs' = 8.\n",
      "  \" = {}.\".format(effective_n_jobs(self.n_jobs)))\n",
      "/Users/glinn/anaconda3/lib/python3.6/site-packages/sklearn/linear_model/logistic.py:432: FutureWarning: Default solver will be changed to 'lbfgs' in 0.22. Specify a solver to silence this warning.\n",
      "  FutureWarning)\n",
      "/Users/glinn/anaconda3/lib/python3.6/site-packages/sklearn/utils/validation.py:724: DataConversionWarning: A column-vector y was passed when a 1d array was expected. Please change the shape of y to (n_samples, ), for example using ravel().\n",
      "  y = column_or_1d(y, warn=True)\n",
      "/Users/glinn/anaconda3/lib/python3.6/site-packages/sklearn/linear_model/logistic.py:1544: UserWarning: 'n_jobs' > 1 does not have any effect when 'solver' is set to 'liblinear'. Got 'n_jobs' = 8.\n",
      "  \" = {}.\".format(effective_n_jobs(self.n_jobs)))\n",
      "/Users/glinn/anaconda3/lib/python3.6/site-packages/sklearn/linear_model/logistic.py:432: FutureWarning: Default solver will be changed to 'lbfgs' in 0.22. Specify a solver to silence this warning.\n",
      "  FutureWarning)\n",
      "/Users/glinn/anaconda3/lib/python3.6/site-packages/sklearn/utils/validation.py:724: DataConversionWarning: A column-vector y was passed when a 1d array was expected. Please change the shape of y to (n_samples, ), for example using ravel().\n",
      "  y = column_or_1d(y, warn=True)\n",
      "/Users/glinn/anaconda3/lib/python3.6/site-packages/sklearn/linear_model/logistic.py:1544: UserWarning: 'n_jobs' > 1 does not have any effect when 'solver' is set to 'liblinear'. Got 'n_jobs' = 8.\n",
      "  \" = {}.\".format(effective_n_jobs(self.n_jobs)))\n",
      "/Users/glinn/anaconda3/lib/python3.6/site-packages/sklearn/linear_model/logistic.py:432: FutureWarning: Default solver will be changed to 'lbfgs' in 0.22. Specify a solver to silence this warning.\n",
      "  FutureWarning)\n",
      "/Users/glinn/anaconda3/lib/python3.6/site-packages/sklearn/utils/validation.py:724: DataConversionWarning: A column-vector y was passed when a 1d array was expected. Please change the shape of y to (n_samples, ), for example using ravel().\n",
      "  y = column_or_1d(y, warn=True)\n",
      "/Users/glinn/anaconda3/lib/python3.6/site-packages/sklearn/linear_model/logistic.py:1544: UserWarning: 'n_jobs' > 1 does not have any effect when 'solver' is set to 'liblinear'. Got 'n_jobs' = 8.\n",
      "  \" = {}.\".format(effective_n_jobs(self.n_jobs)))\n",
      "/Users/glinn/anaconda3/lib/python3.6/site-packages/sklearn/linear_model/logistic.py:432: FutureWarning: Default solver will be changed to 'lbfgs' in 0.22. Specify a solver to silence this warning.\n",
      "  FutureWarning)\n",
      "/Users/glinn/anaconda3/lib/python3.6/site-packages/sklearn/utils/validation.py:724: DataConversionWarning: A column-vector y was passed when a 1d array was expected. Please change the shape of y to (n_samples, ), for example using ravel().\n",
      "  y = column_or_1d(y, warn=True)\n",
      "/Users/glinn/anaconda3/lib/python3.6/site-packages/sklearn/linear_model/logistic.py:1544: UserWarning: 'n_jobs' > 1 does not have any effect when 'solver' is set to 'liblinear'. Got 'n_jobs' = 8.\n",
      "  \" = {}.\".format(effective_n_jobs(self.n_jobs)))\n",
      "/Users/glinn/anaconda3/lib/python3.6/site-packages/sklearn/linear_model/logistic.py:432: FutureWarning: Default solver will be changed to 'lbfgs' in 0.22. Specify a solver to silence this warning.\n",
      "  FutureWarning)\n",
      "/Users/glinn/anaconda3/lib/python3.6/site-packages/sklearn/utils/validation.py:724: DataConversionWarning: A column-vector y was passed when a 1d array was expected. Please change the shape of y to (n_samples, ), for example using ravel().\n",
      "  y = column_or_1d(y, warn=True)\n",
      "/Users/glinn/anaconda3/lib/python3.6/site-packages/sklearn/linear_model/logistic.py:1544: UserWarning: 'n_jobs' > 1 does not have any effect when 'solver' is set to 'liblinear'. Got 'n_jobs' = 8.\n",
      "  \" = {}.\".format(effective_n_jobs(self.n_jobs)))\n",
      "/Users/glinn/anaconda3/lib/python3.6/site-packages/sklearn/linear_model/logistic.py:432: FutureWarning: Default solver will be changed to 'lbfgs' in 0.22. Specify a solver to silence this warning.\n",
      "  FutureWarning)\n",
      "/Users/glinn/anaconda3/lib/python3.6/site-packages/sklearn/utils/validation.py:724: DataConversionWarning: A column-vector y was passed when a 1d array was expected. Please change the shape of y to (n_samples, ), for example using ravel().\n",
      "  y = column_or_1d(y, warn=True)\n",
      "/Users/glinn/anaconda3/lib/python3.6/site-packages/sklearn/linear_model/logistic.py:1544: UserWarning: 'n_jobs' > 1 does not have any effect when 'solver' is set to 'liblinear'. Got 'n_jobs' = 8.\n",
      "  \" = {}.\".format(effective_n_jobs(self.n_jobs)))\n",
      "/Users/glinn/anaconda3/lib/python3.6/site-packages/sklearn/linear_model/logistic.py:432: FutureWarning: Default solver will be changed to 'lbfgs' in 0.22. Specify a solver to silence this warning.\n",
      "  FutureWarning)\n",
      "/Users/glinn/anaconda3/lib/python3.6/site-packages/sklearn/utils/validation.py:724: DataConversionWarning: A column-vector y was passed when a 1d array was expected. Please change the shape of y to (n_samples, ), for example using ravel().\n",
      "  y = column_or_1d(y, warn=True)\n",
      "/Users/glinn/anaconda3/lib/python3.6/site-packages/sklearn/linear_model/logistic.py:1544: UserWarning: 'n_jobs' > 1 does not have any effect when 'solver' is set to 'liblinear'. Got 'n_jobs' = 8.\n",
      "  \" = {}.\".format(effective_n_jobs(self.n_jobs)))\n",
      "/Users/glinn/anaconda3/lib/python3.6/site-packages/sklearn/linear_model/logistic.py:432: FutureWarning: Default solver will be changed to 'lbfgs' in 0.22. Specify a solver to silence this warning.\n",
      "  FutureWarning)\n",
      "/Users/glinn/anaconda3/lib/python3.6/site-packages/sklearn/utils/validation.py:724: DataConversionWarning: A column-vector y was passed when a 1d array was expected. Please change the shape of y to (n_samples, ), for example using ravel().\n",
      "  y = column_or_1d(y, warn=True)\n",
      "/Users/glinn/anaconda3/lib/python3.6/site-packages/sklearn/linear_model/logistic.py:1544: UserWarning: 'n_jobs' > 1 does not have any effect when 'solver' is set to 'liblinear'. Got 'n_jobs' = 8.\n",
      "  \" = {}.\".format(effective_n_jobs(self.n_jobs)))\n",
      "/Users/glinn/anaconda3/lib/python3.6/site-packages/sklearn/linear_model/logistic.py:432: FutureWarning: Default solver will be changed to 'lbfgs' in 0.22. Specify a solver to silence this warning.\n",
      "  FutureWarning)\n",
      "/Users/glinn/anaconda3/lib/python3.6/site-packages/sklearn/utils/validation.py:724: DataConversionWarning: A column-vector y was passed when a 1d array was expected. Please change the shape of y to (n_samples, ), for example using ravel().\n",
      "  y = column_or_1d(y, warn=True)\n",
      "/Users/glinn/anaconda3/lib/python3.6/site-packages/sklearn/linear_model/logistic.py:1544: UserWarning: 'n_jobs' > 1 does not have any effect when 'solver' is set to 'liblinear'. Got 'n_jobs' = 8.\n",
      "  \" = {}.\".format(effective_n_jobs(self.n_jobs)))\n"
     ]
    },
    {
     "name": "stdout",
     "output_type": "stream",
     "text": [
      "The best validation accuracy is 0.6138530482119763.\n",
      "The best training accuracy is 0.609899342284242.\n",
      "The best value for C is 0.9444444444444444\n",
      "And, the best model coefficients are [[-1.37102309e-02  2.15368390e-03 -2.01591361e-01 -1.78486198e+01\n",
      "  -9.41660565e-03  5.78876429e-03]].\n"
     ]
    }
   ],
   "source": [
    "C_fine=np.linspace(0.1,2.0,10)\n",
    "Accuracy_fine, Accuracy_train_fine, Coef_fine = TuneParameters(pipeline_LogReg,C_fine,X_train,Y_train,X_valid,Y_valid)\n",
    "ReportBest(Accuracy_train_fine,Accuracy_fine,C_fine,Coef_fine)"
   ]
  },
  {
   "cell_type": "code",
   "execution_count": 9,
   "metadata": {},
   "outputs": [
    {
     "data": {
      "image/png": "[encoded data removed]",
      "text/plain": [
       "<Figure size 432x288 with 1 Axes>"
      ]
     },
     "metadata": {
      "needs_background": "light"
     },
     "output_type": "display_data"
    }
   ],
   "source": [
    "PlotBiasVariance(Accuracy_train_fine,Accuracy_fine,C_fine)\n",
    "plt.savefig('Figures/LogReg/BaseDataset/BiasVarianceFineTunedC.png')"
   ]
  },
  {
   "cell_type": "markdown",
   "metadata": {},
   "source": [
    "Okay, so in the end, our best result after tuning the complexity of our model is:"
   ]
  },
  {
   "cell_type": "code",
   "execution_count": 10,
   "metadata": {},
   "outputs": [
    {
     "name": "stdout",
     "output_type": "stream",
     "text": [
      "The best validation accuracy is 0.6138530482119763.\n",
      "The best training accuracy is 0.609899342284242.\n",
      "The best value for C is 0.9444444444444444\n",
      "And, the best model coefficients are [[-1.37102309e-02  2.15368390e-03 -2.01591361e-01 -1.78486198e+01\n",
      "  -9.41660565e-03  5.78876429e-03]].\n"
     ]
    }
   ],
   "source": [
    "ReportBest(Accuracy_train_fine,Accuracy_fine,C_fine,Coef_fine)"
   ]
  },
  {
   "cell_type": "markdown",
   "metadata": {},
   "source": [
    "# Okay, and what if we one hot encode the categories?"
   ]
  },
  {
   "cell_type": "code",
   "execution_count": 11,
   "metadata": {},
   "outputs": [],
   "source": [
    "# Just one hot the main category first\n",
    "X_train_OneHot_Main = OneHotEncodeCategory(X_train_df,[\"main_category\"])\n",
    "X_valid_OneHot_Main = OneHotEncodeCategory(X_valid_df,[\"main_category\"])\n",
    "\n",
    "#Now just the sub category\n",
    "X_train_OneHot_Sub = OneHotEncodeCategory(X_train_df,[\"category\"])\n",
    "X_valid_OneHot_Sub = OneHotEncodeCategory(X_valid_df,[\"category\"])\n",
    "\n",
    "# One hot both categories\n",
    "X_train_OneHot_Both = OneHotEncodeCategory(X_train_df,[\"main_category\",\"category\"])\n",
    "X_valid_OneHot_Both = OneHotEncodeCategory(X_valid_df,[\"main_category\",\"category\"])"
   ]
  },
  {
   "cell_type": "markdown",
   "metadata": {},
   "source": [
    "First, Let's just look at one hot encoding the main category."
   ]
  },
  {
   "cell_type": "code",
   "execution_count": 12,
   "metadata": {},
   "outputs": [
    {
     "name": "stderr",
     "output_type": "stream",
     "text": [
      "/Users/glinn/anaconda3/lib/python3.6/site-packages/sklearn/linear_model/logistic.py:432: FutureWarning: Default solver will be changed to 'lbfgs' in 0.22. Specify a solver to silence this warning.\n",
      "  FutureWarning)\n",
      "/Users/glinn/anaconda3/lib/python3.6/site-packages/sklearn/utils/validation.py:724: DataConversionWarning: A column-vector y was passed when a 1d array was expected. Please change the shape of y to (n_samples, ), for example using ravel().\n",
      "  y = column_or_1d(y, warn=True)\n",
      "/Users/glinn/anaconda3/lib/python3.6/site-packages/sklearn/linear_model/logistic.py:1544: UserWarning: 'n_jobs' > 1 does not have any effect when 'solver' is set to 'liblinear'. Got 'n_jobs' = 8.\n",
      "  \" = {}.\".format(effective_n_jobs(self.n_jobs)))\n",
      "/Users/glinn/anaconda3/lib/python3.6/site-packages/sklearn/linear_model/logistic.py:432: FutureWarning: Default solver will be changed to 'lbfgs' in 0.22. Specify a solver to silence this warning.\n",
      "  FutureWarning)\n",
      "/Users/glinn/anaconda3/lib/python3.6/site-packages/sklearn/utils/validation.py:724: DataConversionWarning: A column-vector y was passed when a 1d array was expected. Please change the shape of y to (n_samples, ), for example using ravel().\n",
      "  y = column_or_1d(y, warn=True)\n",
      "/Users/glinn/anaconda3/lib/python3.6/site-packages/sklearn/linear_model/logistic.py:1544: UserWarning: 'n_jobs' > 1 does not have any effect when 'solver' is set to 'liblinear'. Got 'n_jobs' = 8.\n",
      "  \" = {}.\".format(effective_n_jobs(self.n_jobs)))\n",
      "/Users/glinn/anaconda3/lib/python3.6/site-packages/sklearn/linear_model/logistic.py:432: FutureWarning: Default solver will be changed to 'lbfgs' in 0.22. Specify a solver to silence this warning.\n",
      "  FutureWarning)\n",
      "/Users/glinn/anaconda3/lib/python3.6/site-packages/sklearn/utils/validation.py:724: DataConversionWarning: A column-vector y was passed when a 1d array was expected. Please change the shape of y to (n_samples, ), for example using ravel().\n",
      "  y = column_or_1d(y, warn=True)\n",
      "/Users/glinn/anaconda3/lib/python3.6/site-packages/sklearn/linear_model/logistic.py:1544: UserWarning: 'n_jobs' > 1 does not have any effect when 'solver' is set to 'liblinear'. Got 'n_jobs' = 8.\n",
      "  \" = {}.\".format(effective_n_jobs(self.n_jobs)))\n",
      "/Users/glinn/anaconda3/lib/python3.6/site-packages/sklearn/linear_model/logistic.py:432: FutureWarning: Default solver will be changed to 'lbfgs' in 0.22. Specify a solver to silence this warning.\n",
      "  FutureWarning)\n",
      "/Users/glinn/anaconda3/lib/python3.6/site-packages/sklearn/utils/validation.py:724: DataConversionWarning: A column-vector y was passed when a 1d array was expected. Please change the shape of y to (n_samples, ), for example using ravel().\n",
      "  y = column_or_1d(y, warn=True)\n",
      "/Users/glinn/anaconda3/lib/python3.6/site-packages/sklearn/linear_model/logistic.py:1544: UserWarning: 'n_jobs' > 1 does not have any effect when 'solver' is set to 'liblinear'. Got 'n_jobs' = 8.\n",
      "  \" = {}.\".format(effective_n_jobs(self.n_jobs)))\n",
      "/Users/glinn/anaconda3/lib/python3.6/site-packages/sklearn/linear_model/logistic.py:432: FutureWarning: Default solver will be changed to 'lbfgs' in 0.22. Specify a solver to silence this warning.\n",
      "  FutureWarning)\n",
      "/Users/glinn/anaconda3/lib/python3.6/site-packages/sklearn/utils/validation.py:724: DataConversionWarning: A column-vector y was passed when a 1d array was expected. Please change the shape of y to (n_samples, ), for example using ravel().\n",
      "  y = column_or_1d(y, warn=True)\n",
      "/Users/glinn/anaconda3/lib/python3.6/site-packages/sklearn/linear_model/logistic.py:1544: UserWarning: 'n_jobs' > 1 does not have any effect when 'solver' is set to 'liblinear'. Got 'n_jobs' = 8.\n",
      "  \" = {}.\".format(effective_n_jobs(self.n_jobs)))\n"
     ]
    },
    {
     "name": "stdout",
     "output_type": "stream",
     "text": [
      "The validation accuracy is [0.63989894 0.6441096  0.64395922 0.64395922 0.64395922].\n",
      "The training accuracy is [0.64162893 0.64551761 0.6454656  0.64549361 0.64549761].\n",
      "The best value for C is 1.0\n",
      "And, the best model coefficients are [[ 5.02128242e-04 -2.25731242e-01 -1.55673692e+01 -7.43853401e-03\n",
      "   6.87546823e-03 -1.37474595e-01  4.66951253e-01 -1.00825786e+00\n",
      "   7.15609268e-01 -8.13722006e-02 -8.17873141e-01 -1.01859475e-01\n",
      "  -7.31874859e-01 -7.52778584e-02 -1.02343805e+00  2.24409798e-01\n",
      "  -6.01095660e-01 -5.26005857e-01 -7.51917660e-01  6.63975183e-01]].\n"
     ]
    }
   ],
   "source": [
    "C_Main=[0.01,1.0,10.0,100.0,1000.0]\n",
    "Accuracy_Main,Accuracy_train_Main,Coef_Main = TuneParameters(pipeline_LogReg,C_Main,X_train_OneHot_Main,Y_train,X_valid_OneHot_Main,Y_valid)\n",
    "ReportFull(Accuracy_train_Main,Accuracy_Main,C_Main,Coef_Main)"
   ]
  },
  {
   "cell_type": "code",
   "execution_count": 13,
   "metadata": {},
   "outputs": [
    {
     "data": {
      "image/png": "[encoded data removed]",
      "text/plain": [
       "<Figure size 432x288 with 1 Axes>"
      ]
     },
     "metadata": {
      "needs_background": "light"
     },
     "output_type": "display_data"
    }
   ],
   "source": [
    "PlotBiasVariance(Accuracy_train_Main,Accuracy_Main,C_Main)\n",
    "plt.savefig('Figures/LogReg/BaseDataset/BiasVarianceOneHotMainCoarseTunedC.png')"
   ]
  },
  {
   "cell_type": "code",
   "execution_count": 14,
   "metadata": {},
   "outputs": [
    {
     "name": "stderr",
     "output_type": "stream",
     "text": [
      "/Users/glinn/anaconda3/lib/python3.6/site-packages/sklearn/linear_model/logistic.py:432: FutureWarning: Default solver will be changed to 'lbfgs' in 0.22. Specify a solver to silence this warning.\n",
      "  FutureWarning)\n",
      "/Users/glinn/anaconda3/lib/python3.6/site-packages/sklearn/utils/validation.py:724: DataConversionWarning: A column-vector y was passed when a 1d array was expected. Please change the shape of y to (n_samples, ), for example using ravel().\n",
      "  y = column_or_1d(y, warn=True)\n",
      "/Users/glinn/anaconda3/lib/python3.6/site-packages/sklearn/linear_model/logistic.py:1544: UserWarning: 'n_jobs' > 1 does not have any effect when 'solver' is set to 'liblinear'. Got 'n_jobs' = 8.\n",
      "  \" = {}.\".format(effective_n_jobs(self.n_jobs)))\n",
      "/Users/glinn/anaconda3/lib/python3.6/site-packages/sklearn/linear_model/logistic.py:432: FutureWarning: Default solver will be changed to 'lbfgs' in 0.22. Specify a solver to silence this warning.\n",
      "  FutureWarning)\n",
      "/Users/glinn/anaconda3/lib/python3.6/site-packages/sklearn/utils/validation.py:724: DataConversionWarning: A column-vector y was passed when a 1d array was expected. Please change the shape of y to (n_samples, ), for example using ravel().\n",
      "  y = column_or_1d(y, warn=True)\n",
      "/Users/glinn/anaconda3/lib/python3.6/site-packages/sklearn/linear_model/logistic.py:1544: UserWarning: 'n_jobs' > 1 does not have any effect when 'solver' is set to 'liblinear'. Got 'n_jobs' = 8.\n",
      "  \" = {}.\".format(effective_n_jobs(self.n_jobs)))\n",
      "/Users/glinn/anaconda3/lib/python3.6/site-packages/sklearn/linear_model/logistic.py:432: FutureWarning: Default solver will be changed to 'lbfgs' in 0.22. Specify a solver to silence this warning.\n",
      "  FutureWarning)\n",
      "/Users/glinn/anaconda3/lib/python3.6/site-packages/sklearn/utils/validation.py:724: DataConversionWarning: A column-vector y was passed when a 1d array was expected. Please change the shape of y to (n_samples, ), for example using ravel().\n",
      "  y = column_or_1d(y, warn=True)\n",
      "/Users/glinn/anaconda3/lib/python3.6/site-packages/sklearn/linear_model/logistic.py:1544: UserWarning: 'n_jobs' > 1 does not have any effect when 'solver' is set to 'liblinear'. Got 'n_jobs' = 8.\n",
      "  \" = {}.\".format(effective_n_jobs(self.n_jobs)))\n",
      "/Users/glinn/anaconda3/lib/python3.6/site-packages/sklearn/linear_model/logistic.py:432: FutureWarning: Default solver will be changed to 'lbfgs' in 0.22. Specify a solver to silence this warning.\n",
      "  FutureWarning)\n",
      "/Users/glinn/anaconda3/lib/python3.6/site-packages/sklearn/utils/validation.py:724: DataConversionWarning: A column-vector y was passed when a 1d array was expected. Please change the shape of y to (n_samples, ), for example using ravel().\n",
      "  y = column_or_1d(y, warn=True)\n",
      "/Users/glinn/anaconda3/lib/python3.6/site-packages/sklearn/linear_model/logistic.py:1544: UserWarning: 'n_jobs' > 1 does not have any effect when 'solver' is set to 'liblinear'. Got 'n_jobs' = 8.\n",
      "  \" = {}.\".format(effective_n_jobs(self.n_jobs)))\n",
      "/Users/glinn/anaconda3/lib/python3.6/site-packages/sklearn/linear_model/logistic.py:432: FutureWarning: Default solver will be changed to 'lbfgs' in 0.22. Specify a solver to silence this warning.\n",
      "  FutureWarning)\n",
      "/Users/glinn/anaconda3/lib/python3.6/site-packages/sklearn/utils/validation.py:724: DataConversionWarning: A column-vector y was passed when a 1d array was expected. Please change the shape of y to (n_samples, ), for example using ravel().\n",
      "  y = column_or_1d(y, warn=True)\n",
      "/Users/glinn/anaconda3/lib/python3.6/site-packages/sklearn/linear_model/logistic.py:1544: UserWarning: 'n_jobs' > 1 does not have any effect when 'solver' is set to 'liblinear'. Got 'n_jobs' = 8.\n",
      "  \" = {}.\".format(effective_n_jobs(self.n_jobs)))\n",
      "/Users/glinn/anaconda3/lib/python3.6/site-packages/sklearn/linear_model/logistic.py:432: FutureWarning: Default solver will be changed to 'lbfgs' in 0.22. Specify a solver to silence this warning.\n",
      "  FutureWarning)\n",
      "/Users/glinn/anaconda3/lib/python3.6/site-packages/sklearn/utils/validation.py:724: DataConversionWarning: A column-vector y was passed when a 1d array was expected. Please change the shape of y to (n_samples, ), for example using ravel().\n",
      "  y = column_or_1d(y, warn=True)\n",
      "/Users/glinn/anaconda3/lib/python3.6/site-packages/sklearn/linear_model/logistic.py:1544: UserWarning: 'n_jobs' > 1 does not have any effect when 'solver' is set to 'liblinear'. Got 'n_jobs' = 8.\n",
      "  \" = {}.\".format(effective_n_jobs(self.n_jobs)))\n",
      "/Users/glinn/anaconda3/lib/python3.6/site-packages/sklearn/linear_model/logistic.py:432: FutureWarning: Default solver will be changed to 'lbfgs' in 0.22. Specify a solver to silence this warning.\n",
      "  FutureWarning)\n",
      "/Users/glinn/anaconda3/lib/python3.6/site-packages/sklearn/utils/validation.py:724: DataConversionWarning: A column-vector y was passed when a 1d array was expected. Please change the shape of y to (n_samples, ), for example using ravel().\n",
      "  y = column_or_1d(y, warn=True)\n",
      "/Users/glinn/anaconda3/lib/python3.6/site-packages/sklearn/linear_model/logistic.py:1544: UserWarning: 'n_jobs' > 1 does not have any effect when 'solver' is set to 'liblinear'. Got 'n_jobs' = 8.\n",
      "  \" = {}.\".format(effective_n_jobs(self.n_jobs)))\n",
      "/Users/glinn/anaconda3/lib/python3.6/site-packages/sklearn/linear_model/logistic.py:432: FutureWarning: Default solver will be changed to 'lbfgs' in 0.22. Specify a solver to silence this warning.\n",
      "  FutureWarning)\n",
      "/Users/glinn/anaconda3/lib/python3.6/site-packages/sklearn/utils/validation.py:724: DataConversionWarning: A column-vector y was passed when a 1d array was expected. Please change the shape of y to (n_samples, ), for example using ravel().\n",
      "  y = column_or_1d(y, warn=True)\n",
      "/Users/glinn/anaconda3/lib/python3.6/site-packages/sklearn/linear_model/logistic.py:1544: UserWarning: 'n_jobs' > 1 does not have any effect when 'solver' is set to 'liblinear'. Got 'n_jobs' = 8.\n",
      "  \" = {}.\".format(effective_n_jobs(self.n_jobs)))\n",
      "/Users/glinn/anaconda3/lib/python3.6/site-packages/sklearn/linear_model/logistic.py:432: FutureWarning: Default solver will be changed to 'lbfgs' in 0.22. Specify a solver to silence this warning.\n",
      "  FutureWarning)\n",
      "/Users/glinn/anaconda3/lib/python3.6/site-packages/sklearn/utils/validation.py:724: DataConversionWarning: A column-vector y was passed when a 1d array was expected. Please change the shape of y to (n_samples, ), for example using ravel().\n",
      "  y = column_or_1d(y, warn=True)\n",
      "/Users/glinn/anaconda3/lib/python3.6/site-packages/sklearn/linear_model/logistic.py:1544: UserWarning: 'n_jobs' > 1 does not have any effect when 'solver' is set to 'liblinear'. Got 'n_jobs' = 8.\n",
      "  \" = {}.\".format(effective_n_jobs(self.n_jobs)))\n",
      "/Users/glinn/anaconda3/lib/python3.6/site-packages/sklearn/linear_model/logistic.py:432: FutureWarning: Default solver will be changed to 'lbfgs' in 0.22. Specify a solver to silence this warning.\n",
      "  FutureWarning)\n",
      "/Users/glinn/anaconda3/lib/python3.6/site-packages/sklearn/utils/validation.py:724: DataConversionWarning: A column-vector y was passed when a 1d array was expected. Please change the shape of y to (n_samples, ), for example using ravel().\n",
      "  y = column_or_1d(y, warn=True)\n",
      "/Users/glinn/anaconda3/lib/python3.6/site-packages/sklearn/linear_model/logistic.py:1544: UserWarning: 'n_jobs' > 1 does not have any effect when 'solver' is set to 'liblinear'. Got 'n_jobs' = 8.\n",
      "  \" = {}.\".format(effective_n_jobs(self.n_jobs)))\n"
     ]
    },
    {
     "name": "stdout",
     "output_type": "stream",
     "text": [
      "The best validation accuracy is 0.6440795211886072.\n",
      "The best training accuracy is 0.6455296132119253.\n",
      "The best value for C is 0.7333333333333333\n",
      "And, the best model coefficients are [[ 4.98798382e-04 -2.25771868e-01 -1.55361868e+01 -7.45225145e-03\n",
      "   6.85249301e-03 -3.70155039e-01  2.34000099e-01 -1.24050119e+00\n",
      "   4.82175628e-01 -3.14217656e-01 -1.05065328e+00 -3.34633715e-01\n",
      "  -9.64710578e-01 -3.07782278e-01 -1.25533436e+00 -7.93919125e-03\n",
      "  -8.33369474e-01 -7.58543068e-01 -9.84878327e-01  4.31226860e-01]].\n"
     ]
    }
   ],
   "source": [
    "C_Main_fine=np.linspace(0.1,2.0,10)\n",
    "Accuracy_Main_fine,Accuracy_train_Main_fine,Coef_Main_fine = TuneParameters(pipeline_LogReg,C_Main_fine,X_train_OneHot_Main,Y_train,X_valid_OneHot_Main,Y_valid)\n",
    "ReportBest(Accuracy_train_Main_fine,Accuracy_Main_fine,C_Main_fine,Coef_Main_fine)"
   ]
  },
  {
   "cell_type": "code",
   "execution_count": 15,
   "metadata": {
    "scrolled": true
   },
   "outputs": [
    {
     "data": {
      "image/png": "[encoded data removed]",
      "text/plain": [
       "<Figure size 432x288 with 1 Axes>"
      ]
     },
     "metadata": {
      "needs_background": "light"
     },
     "output_type": "display_data"
    }
   ],
   "source": [
    "PlotBiasVariance(Accuracy_train_Main_fine,Accuracy_Main_fine,C_Main_fine)\n",
    "plt.savefig('Figures/LogReg/BaseDataset/BiasVarianceOneHotMainFineTunedC.png')"
   ]
  },
  {
   "cell_type": "markdown",
   "metadata": {},
   "source": [
    "Okay, so in the end, our best result after tuning the complexity of our model is:"
   ]
  },
  {
   "cell_type": "code",
   "execution_count": 16,
   "metadata": {},
   "outputs": [
    {
     "name": "stdout",
     "output_type": "stream",
     "text": [
      "The best validation accuracy is 0.6440795211886072.\n",
      "The best training accuracy is 0.6455296132119253.\n",
      "The best value for C is 0.7333333333333333\n",
      "And, the best model coefficients are [[ 4.98798382e-04 -2.25771868e-01 -1.55361868e+01 -7.45225145e-03\n",
      "   6.85249301e-03 -3.70155039e-01  2.34000099e-01 -1.24050119e+00\n",
      "   4.82175628e-01 -3.14217656e-01 -1.05065328e+00 -3.34633715e-01\n",
      "  -9.64710578e-01 -3.07782278e-01 -1.25533436e+00 -7.93919125e-03\n",
      "  -8.33369474e-01 -7.58543068e-01 -9.84878327e-01  4.31226860e-01]].\n"
     ]
    }
   ],
   "source": [
    "ReportBest(Accuracy_train_Main_fine,Accuracy_Main_fine,C_Main_fine,Coef_Main_fine)"
   ]
  },
  {
   "cell_type": "markdown",
   "metadata": {},
   "source": [
    "Second, we look at what happens if we just one hot the sub-categories."
   ]
  },
  {
   "cell_type": "code",
   "execution_count": 17,
   "metadata": {},
   "outputs": [
    {
     "name": "stderr",
     "output_type": "stream",
     "text": [
      "/Users/glinn/anaconda3/lib/python3.6/site-packages/sklearn/linear_model/logistic.py:432: FutureWarning: Default solver will be changed to 'lbfgs' in 0.22. Specify a solver to silence this warning.\n",
      "  FutureWarning)\n",
      "/Users/glinn/anaconda3/lib/python3.6/site-packages/sklearn/utils/validation.py:724: DataConversionWarning: A column-vector y was passed when a 1d array was expected. Please change the shape of y to (n_samples, ), for example using ravel().\n",
      "  y = column_or_1d(y, warn=True)\n",
      "/Users/glinn/anaconda3/lib/python3.6/site-packages/sklearn/linear_model/logistic.py:1544: UserWarning: 'n_jobs' > 1 does not have any effect when 'solver' is set to 'liblinear'. Got 'n_jobs' = 8.\n",
      "  \" = {}.\".format(effective_n_jobs(self.n_jobs)))\n",
      "/Users/glinn/anaconda3/lib/python3.6/site-packages/sklearn/linear_model/logistic.py:432: FutureWarning: Default solver will be changed to 'lbfgs' in 0.22. Specify a solver to silence this warning.\n",
      "  FutureWarning)\n",
      "/Users/glinn/anaconda3/lib/python3.6/site-packages/sklearn/utils/validation.py:724: DataConversionWarning: A column-vector y was passed when a 1d array was expected. Please change the shape of y to (n_samples, ), for example using ravel().\n",
      "  y = column_or_1d(y, warn=True)\n",
      "/Users/glinn/anaconda3/lib/python3.6/site-packages/sklearn/linear_model/logistic.py:1544: UserWarning: 'n_jobs' > 1 does not have any effect when 'solver' is set to 'liblinear'. Got 'n_jobs' = 8.\n",
      "  \" = {}.\".format(effective_n_jobs(self.n_jobs)))\n",
      "/Users/glinn/anaconda3/lib/python3.6/site-packages/sklearn/linear_model/logistic.py:432: FutureWarning: Default solver will be changed to 'lbfgs' in 0.22. Specify a solver to silence this warning.\n",
      "  FutureWarning)\n",
      "/Users/glinn/anaconda3/lib/python3.6/site-packages/sklearn/utils/validation.py:724: DataConversionWarning: A column-vector y was passed when a 1d array was expected. Please change the shape of y to (n_samples, ), for example using ravel().\n",
      "  y = column_or_1d(y, warn=True)\n",
      "/Users/glinn/anaconda3/lib/python3.6/site-packages/sklearn/linear_model/logistic.py:1544: UserWarning: 'n_jobs' > 1 does not have any effect when 'solver' is set to 'liblinear'. Got 'n_jobs' = 8.\n",
      "  \" = {}.\".format(effective_n_jobs(self.n_jobs)))\n",
      "/Users/glinn/anaconda3/lib/python3.6/site-packages/sklearn/linear_model/logistic.py:432: FutureWarning: Default solver will be changed to 'lbfgs' in 0.22. Specify a solver to silence this warning.\n",
      "  FutureWarning)\n",
      "/Users/glinn/anaconda3/lib/python3.6/site-packages/sklearn/utils/validation.py:724: DataConversionWarning: A column-vector y was passed when a 1d array was expected. Please change the shape of y to (n_samples, ), for example using ravel().\n",
      "  y = column_or_1d(y, warn=True)\n",
      "/Users/glinn/anaconda3/lib/python3.6/site-packages/sklearn/linear_model/logistic.py:1544: UserWarning: 'n_jobs' > 1 does not have any effect when 'solver' is set to 'liblinear'. Got 'n_jobs' = 8.\n",
      "  \" = {}.\".format(effective_n_jobs(self.n_jobs)))\n",
      "/Users/glinn/anaconda3/lib/python3.6/site-packages/sklearn/linear_model/logistic.py:432: FutureWarning: Default solver will be changed to 'lbfgs' in 0.22. Specify a solver to silence this warning.\n",
      "  FutureWarning)\n",
      "/Users/glinn/anaconda3/lib/python3.6/site-packages/sklearn/utils/validation.py:724: DataConversionWarning: A column-vector y was passed when a 1d array was expected. Please change the shape of y to (n_samples, ), for example using ravel().\n",
      "  y = column_or_1d(y, warn=True)\n",
      "/Users/glinn/anaconda3/lib/python3.6/site-packages/sklearn/linear_model/logistic.py:1544: UserWarning: 'n_jobs' > 1 does not have any effect when 'solver' is set to 'liblinear'. Got 'n_jobs' = 8.\n",
      "  \" = {}.\".format(effective_n_jobs(self.n_jobs)))\n"
     ]
    },
    {
     "name": "stdout",
     "output_type": "stream",
     "text": [
      "The validation accuracy is [0.65484676 0.66194472 0.66194472 0.66191464 0.66194472].\n",
      "The training accuracy is [0.66058826 0.66832963 0.66833363 0.66826161 0.66827362].\n",
      "The best value for C is 1.0\n",
      "And, the best model coefficients are [[ 1.39596771e-02 -2.25817224e-01 -1.52028879e+01 -7.59079446e-03\n",
      "   5.95268379e-03  3.49143650e-01 -7.08523808e-01 -3.18785356e-02\n",
      "  -7.27403579e-01 -7.68902179e-01 -1.79794439e-01  1.16870289e+00\n",
      "  -7.91798662e-01 -1.93305523e+00 -2.43261239e-01  2.89750261e-01\n",
      "   6.13403132e-01 -3.79747512e-01 -9.09232807e-01  3.40986432e-01\n",
      "  -8.02573306e-03  7.37182428e-01 -1.28893270e+00  3.01567253e-01\n",
      "  -1.69325944e-01 -7.89576764e-01  1.74518973e+00  1.22904767e-01\n",
      "   1.12746506e+00  2.54495721e-01  1.01344154e+00  7.01622123e-01\n",
      "  -7.00029289e-01 -1.11614842e-02 -5.03459958e-01  1.03793308e+00\n",
      "  -9.87761741e-01 -5.81219771e-01 -6.28487755e-01 -1.18924078e+00\n",
      "   4.79516349e-01  1.30221875e+00  1.83162484e-01 -3.86902265e-01\n",
      "   2.48731002e-01  2.21036459e-01 -3.94862775e-01 -2.05350041e-01\n",
      "  -1.15059290e+00 -8.47745697e-01  7.06235779e-02 -5.28921617e-02\n",
      "   1.75921891e-01 -7.33966415e-01  7.61227026e-02 -1.05446928e+00\n",
      "  -4.49925437e-01 -4.50464234e-01  6.21380971e-01 -6.73265098e-01\n",
      "   3.40071884e-03 -4.15478073e-02 -4.98156328e-01 -2.63429258e-01\n",
      "  -1.28797290e+00  7.42853748e-02  5.46108894e-02 -3.61760783e-01\n",
      "  -2.44727899e-01 -3.36383638e-01  6.48917901e-02  8.94118290e-01\n",
      "   3.44052117e-01 -1.21087903e+00 -7.37802576e-02  6.31465483e-01\n",
      "   8.14691427e-01  1.14478734e+00  6.09030061e-01 -6.39813355e-01\n",
      "   9.69190753e-01 -5.82271723e-01 -3.96989450e-01  3.30524288e-01\n",
      "   5.37395143e-01 -2.72569926e-01  8.58971488e-01  3.20455230e-01\n",
      "   9.90252149e-01 -7.30471801e-01  5.21538542e-02  2.89844174e-03\n",
      "   0.00000000e+00 -1.68731931e+00  0.00000000e+00  4.51153401e-01\n",
      "  -1.06736056e-01  5.78458327e-01  4.00108077e-01 -1.15369899e+00\n",
      "  -4.69086551e-01 -3.48959370e-02 -8.09226259e-01  4.22235341e-01\n",
      "   9.62325434e-01  1.53285920e-01 -2.04719942e-01 -1.05895022e+00\n",
      "   1.32732439e-01 -2.52728842e-01 -1.15292083e+00  2.70281519e-01\n",
      "   7.59725665e-01 -1.53931821e-01  4.61547191e-01  2.67522021e-01\n",
      "  -6.61562085e-01 -6.13680272e-01  3.43839133e-01  6.98376797e-01\n",
      "  -3.37144494e-01  4.24876325e-01  1.45657596e-01 -2.91583792e-01\n",
      "  -7.29580002e-01  2.05290130e-01 -9.59560846e-01  1.65568889e+00\n",
      "  -7.77843455e-01  5.13037593e-01  6.26637565e-01 -2.77016941e-02\n",
      "   2.89577639e-01  1.55978372e-01  7.48688393e-01 -2.30345435e-01\n",
      "  -1.19381508e+00  8.04278444e-01  3.52135519e-01  2.36804534e-01\n",
      "  -2.71961200e-01  1.12371753e+00  1.69410936e-01 -5.29895113e-01\n",
      "  -9.40511659e-01 -2.79962986e-01  9.96371300e-01 -2.17427047e-01\n",
      "  -5.75616993e-01  9.85308224e-01 -1.51324932e-01 -1.34246792e+00\n",
      "  -2.94533798e-01 -4.86248283e-01  3.67047957e-01 -2.58291272e-01\n",
      "  -1.68632896e+00  8.65546117e-01 -2.29710753e-01 -6.42662615e-01\n",
      "  -2.41043588e-01  3.15672005e-01 -8.40003351e-01  1.86499485e-01]].\n"
     ]
    }
   ],
   "source": [
    "C_Sub=[0.01,1.0,10.0,100.0,1000.0]\n",
    "Accuracy_Sub,Accuracy_train_Sub,Coef_Sub = TuneParameters(pipeline_LogReg,C_Sub,X_train_OneHot_Sub,Y_train,X_valid_OneHot_Sub,Y_valid)\n",
    "ReportFull(Accuracy_train_Sub,Accuracy_Sub,C_Sub,Coef_Sub)"
   ]
  },
  {
   "cell_type": "code",
   "execution_count": 18,
   "metadata": {},
   "outputs": [
    {
     "data": {
      "image/png": "[encoded data removed]",
      "text/plain": [
       "<Figure size 432x288 with 1 Axes>"
      ]
     },
     "metadata": {
      "needs_background": "light"
     },
     "output_type": "display_data"
    }
   ],
   "source": [
    "PlotBiasVariance(Accuracy_train_Sub,Accuracy_Sub,C_Sub)\n",
    "plt.savefig('Figures/LogReg/BaseDataset/BiasVarianceOneHotSubCoarseTunedC.png')"
   ]
  },
  {
   "cell_type": "code",
   "execution_count": 19,
   "metadata": {},
   "outputs": [
    {
     "name": "stderr",
     "output_type": "stream",
     "text": [
      "/Users/glinn/anaconda3/lib/python3.6/site-packages/sklearn/linear_model/logistic.py:432: FutureWarning: Default solver will be changed to 'lbfgs' in 0.22. Specify a solver to silence this warning.\n",
      "  FutureWarning)\n",
      "/Users/glinn/anaconda3/lib/python3.6/site-packages/sklearn/utils/validation.py:724: DataConversionWarning: A column-vector y was passed when a 1d array was expected. Please change the shape of y to (n_samples, ), for example using ravel().\n",
      "  y = column_or_1d(y, warn=True)\n",
      "/Users/glinn/anaconda3/lib/python3.6/site-packages/sklearn/linear_model/logistic.py:1544: UserWarning: 'n_jobs' > 1 does not have any effect when 'solver' is set to 'liblinear'. Got 'n_jobs' = 8.\n",
      "  \" = {}.\".format(effective_n_jobs(self.n_jobs)))\n",
      "/Users/glinn/anaconda3/lib/python3.6/site-packages/sklearn/linear_model/logistic.py:432: FutureWarning: Default solver will be changed to 'lbfgs' in 0.22. Specify a solver to silence this warning.\n",
      "  FutureWarning)\n",
      "/Users/glinn/anaconda3/lib/python3.6/site-packages/sklearn/utils/validation.py:724: DataConversionWarning: A column-vector y was passed when a 1d array was expected. Please change the shape of y to (n_samples, ), for example using ravel().\n",
      "  y = column_or_1d(y, warn=True)\n",
      "/Users/glinn/anaconda3/lib/python3.6/site-packages/sklearn/linear_model/logistic.py:1544: UserWarning: 'n_jobs' > 1 does not have any effect when 'solver' is set to 'liblinear'. Got 'n_jobs' = 8.\n",
      "  \" = {}.\".format(effective_n_jobs(self.n_jobs)))\n",
      "/Users/glinn/anaconda3/lib/python3.6/site-packages/sklearn/linear_model/logistic.py:432: FutureWarning: Default solver will be changed to 'lbfgs' in 0.22. Specify a solver to silence this warning.\n",
      "  FutureWarning)\n",
      "/Users/glinn/anaconda3/lib/python3.6/site-packages/sklearn/utils/validation.py:724: DataConversionWarning: A column-vector y was passed when a 1d array was expected. Please change the shape of y to (n_samples, ), for example using ravel().\n",
      "  y = column_or_1d(y, warn=True)\n",
      "/Users/glinn/anaconda3/lib/python3.6/site-packages/sklearn/linear_model/logistic.py:1544: UserWarning: 'n_jobs' > 1 does not have any effect when 'solver' is set to 'liblinear'. Got 'n_jobs' = 8.\n",
      "  \" = {}.\".format(effective_n_jobs(self.n_jobs)))\n",
      "/Users/glinn/anaconda3/lib/python3.6/site-packages/sklearn/linear_model/logistic.py:432: FutureWarning: Default solver will be changed to 'lbfgs' in 0.22. Specify a solver to silence this warning.\n",
      "  FutureWarning)\n",
      "/Users/glinn/anaconda3/lib/python3.6/site-packages/sklearn/utils/validation.py:724: DataConversionWarning: A column-vector y was passed when a 1d array was expected. Please change the shape of y to (n_samples, ), for example using ravel().\n",
      "  y = column_or_1d(y, warn=True)\n",
      "/Users/glinn/anaconda3/lib/python3.6/site-packages/sklearn/linear_model/logistic.py:1544: UserWarning: 'n_jobs' > 1 does not have any effect when 'solver' is set to 'liblinear'. Got 'n_jobs' = 8.\n",
      "  \" = {}.\".format(effective_n_jobs(self.n_jobs)))\n",
      "/Users/glinn/anaconda3/lib/python3.6/site-packages/sklearn/linear_model/logistic.py:432: FutureWarning: Default solver will be changed to 'lbfgs' in 0.22. Specify a solver to silence this warning.\n",
      "  FutureWarning)\n",
      "/Users/glinn/anaconda3/lib/python3.6/site-packages/sklearn/utils/validation.py:724: DataConversionWarning: A column-vector y was passed when a 1d array was expected. Please change the shape of y to (n_samples, ), for example using ravel().\n",
      "  y = column_or_1d(y, warn=True)\n",
      "/Users/glinn/anaconda3/lib/python3.6/site-packages/sklearn/linear_model/logistic.py:1544: UserWarning: 'n_jobs' > 1 does not have any effect when 'solver' is set to 'liblinear'. Got 'n_jobs' = 8.\n",
      "  \" = {}.\".format(effective_n_jobs(self.n_jobs)))\n",
      "/Users/glinn/anaconda3/lib/python3.6/site-packages/sklearn/linear_model/logistic.py:432: FutureWarning: Default solver will be changed to 'lbfgs' in 0.22. Specify a solver to silence this warning.\n",
      "  FutureWarning)\n",
      "/Users/glinn/anaconda3/lib/python3.6/site-packages/sklearn/utils/validation.py:724: DataConversionWarning: A column-vector y was passed when a 1d array was expected. Please change the shape of y to (n_samples, ), for example using ravel().\n",
      "  y = column_or_1d(y, warn=True)\n",
      "/Users/glinn/anaconda3/lib/python3.6/site-packages/sklearn/linear_model/logistic.py:1544: UserWarning: 'n_jobs' > 1 does not have any effect when 'solver' is set to 'liblinear'. Got 'n_jobs' = 8.\n",
      "  \" = {}.\".format(effective_n_jobs(self.n_jobs)))\n",
      "/Users/glinn/anaconda3/lib/python3.6/site-packages/sklearn/linear_model/logistic.py:432: FutureWarning: Default solver will be changed to 'lbfgs' in 0.22. Specify a solver to silence this warning.\n",
      "  FutureWarning)\n",
      "/Users/glinn/anaconda3/lib/python3.6/site-packages/sklearn/utils/validation.py:724: DataConversionWarning: A column-vector y was passed when a 1d array was expected. Please change the shape of y to (n_samples, ), for example using ravel().\n",
      "  y = column_or_1d(y, warn=True)\n",
      "/Users/glinn/anaconda3/lib/python3.6/site-packages/sklearn/linear_model/logistic.py:1544: UserWarning: 'n_jobs' > 1 does not have any effect when 'solver' is set to 'liblinear'. Got 'n_jobs' = 8.\n",
      "  \" = {}.\".format(effective_n_jobs(self.n_jobs)))\n",
      "/Users/glinn/anaconda3/lib/python3.6/site-packages/sklearn/linear_model/logistic.py:432: FutureWarning: Default solver will be changed to 'lbfgs' in 0.22. Specify a solver to silence this warning.\n",
      "  FutureWarning)\n",
      "/Users/glinn/anaconda3/lib/python3.6/site-packages/sklearn/utils/validation.py:724: DataConversionWarning: A column-vector y was passed when a 1d array was expected. Please change the shape of y to (n_samples, ), for example using ravel().\n",
      "  y = column_or_1d(y, warn=True)\n",
      "/Users/glinn/anaconda3/lib/python3.6/site-packages/sklearn/linear_model/logistic.py:1544: UserWarning: 'n_jobs' > 1 does not have any effect when 'solver' is set to 'liblinear'. Got 'n_jobs' = 8.\n",
      "  \" = {}.\".format(effective_n_jobs(self.n_jobs)))\n",
      "/Users/glinn/anaconda3/lib/python3.6/site-packages/sklearn/linear_model/logistic.py:432: FutureWarning: Default solver will be changed to 'lbfgs' in 0.22. Specify a solver to silence this warning.\n",
      "  FutureWarning)\n",
      "/Users/glinn/anaconda3/lib/python3.6/site-packages/sklearn/utils/validation.py:724: DataConversionWarning: A column-vector y was passed when a 1d array was expected. Please change the shape of y to (n_samples, ), for example using ravel().\n",
      "  y = column_or_1d(y, warn=True)\n",
      "/Users/glinn/anaconda3/lib/python3.6/site-packages/sklearn/linear_model/logistic.py:1544: UserWarning: 'n_jobs' > 1 does not have any effect when 'solver' is set to 'liblinear'. Got 'n_jobs' = 8.\n",
      "  \" = {}.\".format(effective_n_jobs(self.n_jobs)))\n",
      "/Users/glinn/anaconda3/lib/python3.6/site-packages/sklearn/linear_model/logistic.py:432: FutureWarning: Default solver will be changed to 'lbfgs' in 0.22. Specify a solver to silence this warning.\n",
      "  FutureWarning)\n",
      "/Users/glinn/anaconda3/lib/python3.6/site-packages/sklearn/utils/validation.py:724: DataConversionWarning: A column-vector y was passed when a 1d array was expected. Please change the shape of y to (n_samples, ), for example using ravel().\n",
      "  y = column_or_1d(y, warn=True)\n",
      "/Users/glinn/anaconda3/lib/python3.6/site-packages/sklearn/linear_model/logistic.py:1544: UserWarning: 'n_jobs' > 1 does not have any effect when 'solver' is set to 'liblinear'. Got 'n_jobs' = 8.\n",
      "  \" = {}.\".format(effective_n_jobs(self.n_jobs)))\n"
     ]
    },
    {
     "name": "stdout",
     "output_type": "stream",
     "text": [
      "The best validation accuracy is 0.6620349484195014.\n",
      "The best training accuracy is 0.6683896365760373.\n",
      "The best value for C is 0.5222222222222223\n",
      "And, the best model coefficients are [[ 1.50134668e-02 -2.25729064e-01 -1.51313162e+01 -7.61020497e-03\n",
      "   5.95505711e-03  3.45315811e-01 -6.92603473e-01 -1.46140758e-02\n",
      "  -7.00402985e-01 -7.32491155e-01 -1.63221635e-01  1.17462630e+00\n",
      "  -7.75377721e-01 -1.92340905e+00 -2.16700541e-01  3.09906734e-01\n",
      "   6.19102163e-01 -3.52500645e-01 -8.55531247e-01  3.29432540e-01\n",
      "   0.00000000e+00  7.28356568e-01 -1.24706273e+00  3.03506384e-01\n",
      "  -1.60498069e-01 -7.57758636e-01  1.53520418e+00  1.17193537e-01\n",
      "   1.13536382e+00  2.65678226e-01  1.03092994e+00  7.20172808e-01\n",
      "  -6.60334755e-01  0.00000000e+00 -4.76968432e-01  1.04670701e+00\n",
      "  -9.35156517e-01 -5.61049151e-01 -5.71208522e-01 -1.16188097e+00\n",
      "   4.79746962e-01  1.31708385e+00  1.97788348e-01 -3.61026139e-01\n",
      "   2.62033211e-01  2.32301820e-01 -3.79229027e-01 -1.92194884e-01\n",
      "  -1.04809262e+00 -8.23240516e-01  7.51805513e-02 -1.96499805e-02\n",
      "   1.81146281e-01 -6.92366129e-01  7.04266518e-02 -1.01944132e+00\n",
      "  -4.30683536e-01 -4.34511690e-01  6.23546965e-01 -6.64319829e-01\n",
      "   1.66554491e-02 -2.47270673e-02 -4.71342477e-01 -2.49809110e-01\n",
      "  -1.26841489e+00  8.26401096e-02  5.78249478e-02 -3.47558217e-01\n",
      "  -2.14628067e-01 -2.73804542e-01  7.86671781e-02  9.10491758e-01\n",
      "   3.47562976e-01 -1.19826371e+00 -5.47170520e-02  6.50627854e-01\n",
      "   8.00943531e-01  1.15400240e+00  6.17501950e-01 -6.03456833e-01\n",
      "   9.76079935e-01 -5.60952702e-01 -3.82018451e-01  3.22086266e-01\n",
      "   5.23208413e-01 -2.18463793e-01  7.69847283e-01  3.08681359e-01\n",
      "   7.53699197e-01 -7.10149682e-01  3.16077251e-02  5.26566695e-03\n",
      "   1.69402702e-02 -1.66617187e+00  0.00000000e+00  4.60710367e-01\n",
      "  -8.40662052e-02  5.77834614e-01  4.12460182e-01 -1.12898131e+00\n",
      "  -4.60414428e-01 -1.23171100e-02 -7.93027757e-01  4.40398306e-01\n",
      "   9.74469969e-01  1.56777706e-01 -1.42427135e-01 -1.00231037e+00\n",
      "   1.38039946e-01 -2.42623881e-01 -1.13127864e+00  2.79940118e-01\n",
      "   7.61553405e-01 -1.41514262e-01  4.70003902e-01  2.33695939e-01\n",
      "  -6.40144704e-01 -5.62055315e-01  3.59201433e-01  7.17048281e-01\n",
      "  -3.28116913e-01  4.17858481e-01  1.32362205e-01 -1.97181066e-01\n",
      "  -7.03944033e-01  2.07405105e-01 -9.34048589e-01  1.56986289e+00\n",
      "  -7.62196550e-01  5.07984546e-01  6.36010571e-01  0.00000000e+00\n",
      "   2.95046777e-01  1.73525737e-01  7.62601588e-01 -2.13791822e-01\n",
      "  -1.18363457e+00  7.99383627e-01  3.38309033e-01  2.41316543e-01\n",
      "  -2.23616368e-01  1.13521170e+00  0.00000000e+00 -5.22477584e-01\n",
      "  -9.16188616e-01 -2.36761821e-01  1.00141913e+00 -1.94135921e-01\n",
      "  -5.22239403e-01  9.51113573e-01 -1.28355276e-01 -1.30681890e+00\n",
      "  -2.40006843e-01 -4.73817150e-01  3.66533184e-01 -1.66480445e-01\n",
      "  -1.67541678e+00  8.76487331e-01 -2.14532509e-01 -6.17982547e-01\n",
      "  -1.86962945e-01  3.23104563e-01 -8.22376248e-01  1.80602545e-01]].\n"
     ]
    }
   ],
   "source": [
    "C_Sub_fine=np.linspace(0.1,2.0,10)\n",
    "Accuracy_Sub_fine,Accuracy_train_Sub_fine,Coef_Sub_fine = TuneParameters(pipeline_LogReg,C_Sub_fine,X_train_OneHot_Sub,Y_train,X_valid_OneHot_Sub,Y_valid)\n",
    "ReportBest(Accuracy_train_Sub_fine,Accuracy_Sub_fine,C_Sub_fine,Coef_Sub_fine)"
   ]
  },
  {
   "cell_type": "code",
   "execution_count": 20,
   "metadata": {},
   "outputs": [
    {
     "data": {
      "image/png": "[encoded data removed]",
      "text/plain": [
       "<Figure size 432x288 with 1 Axes>"
      ]
     },
     "metadata": {
      "needs_background": "light"
     },
     "output_type": "display_data"
    }
   ],
   "source": [
    "PlotBiasVariance(Accuracy_train_Sub_fine,Accuracy_Sub_fine,C_Sub_fine)\n",
    "plt.savefig('Figures/LogReg/BaseDataset/BiasVarianceOneHotSubFineTunedC.png')"
   ]
  },
  {
   "cell_type": "markdown",
   "metadata": {},
   "source": [
    "Okay, so in the end, our best result after tuning the complexity of our model is:"
   ]
  },
  {
   "cell_type": "code",
   "execution_count": 21,
   "metadata": {},
   "outputs": [
    {
     "name": "stdout",
     "output_type": "stream",
     "text": [
      "The best validation accuracy is 0.6620349484195014.\n",
      "The best training accuracy is 0.6683896365760373.\n",
      "The best value for C is 0.5222222222222223\n",
      "And, the best model coefficients are [[ 1.50134668e-02 -2.25729064e-01 -1.51313162e+01 -7.61020497e-03\n",
      "   5.95505711e-03  3.45315811e-01 -6.92603473e-01 -1.46140758e-02\n",
      "  -7.00402985e-01 -7.32491155e-01 -1.63221635e-01  1.17462630e+00\n",
      "  -7.75377721e-01 -1.92340905e+00 -2.16700541e-01  3.09906734e-01\n",
      "   6.19102163e-01 -3.52500645e-01 -8.55531247e-01  3.29432540e-01\n",
      "   0.00000000e+00  7.28356568e-01 -1.24706273e+00  3.03506384e-01\n",
      "  -1.60498069e-01 -7.57758636e-01  1.53520418e+00  1.17193537e-01\n",
      "   1.13536382e+00  2.65678226e-01  1.03092994e+00  7.20172808e-01\n",
      "  -6.60334755e-01  0.00000000e+00 -4.76968432e-01  1.04670701e+00\n",
      "  -9.35156517e-01 -5.61049151e-01 -5.71208522e-01 -1.16188097e+00\n",
      "   4.79746962e-01  1.31708385e+00  1.97788348e-01 -3.61026139e-01\n",
      "   2.62033211e-01  2.32301820e-01 -3.79229027e-01 -1.92194884e-01\n",
      "  -1.04809262e+00 -8.23240516e-01  7.51805513e-02 -1.96499805e-02\n",
      "   1.81146281e-01 -6.92366129e-01  7.04266518e-02 -1.01944132e+00\n",
      "  -4.30683536e-01 -4.34511690e-01  6.23546965e-01 -6.64319829e-01\n",
      "   1.66554491e-02 -2.47270673e-02 -4.71342477e-01 -2.49809110e-01\n",
      "  -1.26841489e+00  8.26401096e-02  5.78249478e-02 -3.47558217e-01\n",
      "  -2.14628067e-01 -2.73804542e-01  7.86671781e-02  9.10491758e-01\n",
      "   3.47562976e-01 -1.19826371e+00 -5.47170520e-02  6.50627854e-01\n",
      "   8.00943531e-01  1.15400240e+00  6.17501950e-01 -6.03456833e-01\n",
      "   9.76079935e-01 -5.60952702e-01 -3.82018451e-01  3.22086266e-01\n",
      "   5.23208413e-01 -2.18463793e-01  7.69847283e-01  3.08681359e-01\n",
      "   7.53699197e-01 -7.10149682e-01  3.16077251e-02  5.26566695e-03\n",
      "   1.69402702e-02 -1.66617187e+00  0.00000000e+00  4.60710367e-01\n",
      "  -8.40662052e-02  5.77834614e-01  4.12460182e-01 -1.12898131e+00\n",
      "  -4.60414428e-01 -1.23171100e-02 -7.93027757e-01  4.40398306e-01\n",
      "   9.74469969e-01  1.56777706e-01 -1.42427135e-01 -1.00231037e+00\n",
      "   1.38039946e-01 -2.42623881e-01 -1.13127864e+00  2.79940118e-01\n",
      "   7.61553405e-01 -1.41514262e-01  4.70003902e-01  2.33695939e-01\n",
      "  -6.40144704e-01 -5.62055315e-01  3.59201433e-01  7.17048281e-01\n",
      "  -3.28116913e-01  4.17858481e-01  1.32362205e-01 -1.97181066e-01\n",
      "  -7.03944033e-01  2.07405105e-01 -9.34048589e-01  1.56986289e+00\n",
      "  -7.62196550e-01  5.07984546e-01  6.36010571e-01  0.00000000e+00\n",
      "   2.95046777e-01  1.73525737e-01  7.62601588e-01 -2.13791822e-01\n",
      "  -1.18363457e+00  7.99383627e-01  3.38309033e-01  2.41316543e-01\n",
      "  -2.23616368e-01  1.13521170e+00  0.00000000e+00 -5.22477584e-01\n",
      "  -9.16188616e-01 -2.36761821e-01  1.00141913e+00 -1.94135921e-01\n",
      "  -5.22239403e-01  9.51113573e-01 -1.28355276e-01 -1.30681890e+00\n",
      "  -2.40006843e-01 -4.73817150e-01  3.66533184e-01 -1.66480445e-01\n",
      "  -1.67541678e+00  8.76487331e-01 -2.14532509e-01 -6.17982547e-01\n",
      "  -1.86962945e-01  3.23104563e-01 -8.22376248e-01  1.80602545e-01]].\n"
     ]
    }
   ],
   "source": [
    "ReportBest(Accuracy_train_Sub_fine,Accuracy_Sub_fine,C_Sub_fine,Coef_Sub_fine)"
   ]
  },
  {
   "cell_type": "markdown",
   "metadata": {},
   "source": [
    "Now, let's try one hot encoding both: "
   ]
  },
  {
   "cell_type": "code",
   "execution_count": 22,
   "metadata": {
    "scrolled": false
   },
   "outputs": [
    {
     "name": "stderr",
     "output_type": "stream",
     "text": [
      "/Users/glinn/anaconda3/lib/python3.6/site-packages/sklearn/linear_model/logistic.py:432: FutureWarning: Default solver will be changed to 'lbfgs' in 0.22. Specify a solver to silence this warning.\n",
      "  FutureWarning)\n",
      "/Users/glinn/anaconda3/lib/python3.6/site-packages/sklearn/utils/validation.py:724: DataConversionWarning: A column-vector y was passed when a 1d array was expected. Please change the shape of y to (n_samples, ), for example using ravel().\n",
      "  y = column_or_1d(y, warn=True)\n",
      "/Users/glinn/anaconda3/lib/python3.6/site-packages/sklearn/linear_model/logistic.py:1544: UserWarning: 'n_jobs' > 1 does not have any effect when 'solver' is set to 'liblinear'. Got 'n_jobs' = 8.\n",
      "  \" = {}.\".format(effective_n_jobs(self.n_jobs)))\n",
      "/Users/glinn/anaconda3/lib/python3.6/site-packages/sklearn/linear_model/logistic.py:432: FutureWarning: Default solver will be changed to 'lbfgs' in 0.22. Specify a solver to silence this warning.\n",
      "  FutureWarning)\n",
      "/Users/glinn/anaconda3/lib/python3.6/site-packages/sklearn/utils/validation.py:724: DataConversionWarning: A column-vector y was passed when a 1d array was expected. Please change the shape of y to (n_samples, ), for example using ravel().\n",
      "  y = column_or_1d(y, warn=True)\n",
      "/Users/glinn/anaconda3/lib/python3.6/site-packages/sklearn/linear_model/logistic.py:1544: UserWarning: 'n_jobs' > 1 does not have any effect when 'solver' is set to 'liblinear'. Got 'n_jobs' = 8.\n",
      "  \" = {}.\".format(effective_n_jobs(self.n_jobs)))\n",
      "/Users/glinn/anaconda3/lib/python3.6/site-packages/sklearn/linear_model/logistic.py:432: FutureWarning: Default solver will be changed to 'lbfgs' in 0.22. Specify a solver to silence this warning.\n",
      "  FutureWarning)\n",
      "/Users/glinn/anaconda3/lib/python3.6/site-packages/sklearn/utils/validation.py:724: DataConversionWarning: A column-vector y was passed when a 1d array was expected. Please change the shape of y to (n_samples, ), for example using ravel().\n",
      "  y = column_or_1d(y, warn=True)\n",
      "/Users/glinn/anaconda3/lib/python3.6/site-packages/sklearn/linear_model/logistic.py:1544: UserWarning: 'n_jobs' > 1 does not have any effect when 'solver' is set to 'liblinear'. Got 'n_jobs' = 8.\n",
      "  \" = {}.\".format(effective_n_jobs(self.n_jobs)))\n",
      "/Users/glinn/anaconda3/lib/python3.6/site-packages/sklearn/linear_model/logistic.py:432: FutureWarning: Default solver will be changed to 'lbfgs' in 0.22. Specify a solver to silence this warning.\n",
      "  FutureWarning)\n",
      "/Users/glinn/anaconda3/lib/python3.6/site-packages/sklearn/utils/validation.py:724: DataConversionWarning: A column-vector y was passed when a 1d array was expected. Please change the shape of y to (n_samples, ), for example using ravel().\n",
      "  y = column_or_1d(y, warn=True)\n",
      "/Users/glinn/anaconda3/lib/python3.6/site-packages/sklearn/linear_model/logistic.py:1544: UserWarning: 'n_jobs' > 1 does not have any effect when 'solver' is set to 'liblinear'. Got 'n_jobs' = 8.\n",
      "  \" = {}.\".format(effective_n_jobs(self.n_jobs)))\n",
      "/Users/glinn/anaconda3/lib/python3.6/site-packages/sklearn/linear_model/logistic.py:432: FutureWarning: Default solver will be changed to 'lbfgs' in 0.22. Specify a solver to silence this warning.\n",
      "  FutureWarning)\n",
      "/Users/glinn/anaconda3/lib/python3.6/site-packages/sklearn/utils/validation.py:724: DataConversionWarning: A column-vector y was passed when a 1d array was expected. Please change the shape of y to (n_samples, ), for example using ravel().\n",
      "  y = column_or_1d(y, warn=True)\n",
      "/Users/glinn/anaconda3/lib/python3.6/site-packages/sklearn/linear_model/logistic.py:1544: UserWarning: 'n_jobs' > 1 does not have any effect when 'solver' is set to 'liblinear'. Got 'n_jobs' = 8.\n",
      "  \" = {}.\".format(effective_n_jobs(self.n_jobs)))\n",
      "/Users/glinn/anaconda3/lib/python3.6/site-packages/sklearn/linear_model/logistic.py:432: FutureWarning: Default solver will be changed to 'lbfgs' in 0.22. Specify a solver to silence this warning.\n",
      "  FutureWarning)\n",
      "/Users/glinn/anaconda3/lib/python3.6/site-packages/sklearn/utils/validation.py:724: DataConversionWarning: A column-vector y was passed when a 1d array was expected. Please change the shape of y to (n_samples, ), for example using ravel().\n",
      "  y = column_or_1d(y, warn=True)\n",
      "/Users/glinn/anaconda3/lib/python3.6/site-packages/sklearn/linear_model/logistic.py:1544: UserWarning: 'n_jobs' > 1 does not have any effect when 'solver' is set to 'liblinear'. Got 'n_jobs' = 8.\n",
      "  \" = {}.\".format(effective_n_jobs(self.n_jobs)))\n"
     ]
    },
    {
     "name": "stdout",
     "output_type": "stream",
     "text": [
      "The validation accuracy is [0.6571927  0.6620951  0.66224548 0.66224548 0.66230563 0.66233571].\n",
      "The training accuracy is [0.66296868 0.66866569 0.66856567 0.66860167 0.66863368 0.66862968].\n",
      "The best value for C is 2000.0\n",
      "And, the best model coefficients are [[-2.25972367e-01 -1.52665909e+01 -7.51222193e-03  5.99177687e-03\n",
      "  -1.75253160e-01  4.31593628e-01 -3.57112075e-01 -2.55500945e-01\n",
      "  -8.32617796e-02 -8.99908599e-01 -2.23802392e-01 -2.87862901e-01\n",
      "  -6.08748524e-02 -6.10847577e-01  1.39042372e-01 -2.52779506e-01\n",
      "  -4.20625488e-01 -1.27269391e+00  5.98730305e-01  9.59679888e-01\n",
      "  -9.84646507e-01  8.06170651e-02 -1.28903078e+00 -1.24811259e+00\n",
      "  -7.29849033e-01  4.38474303e-01 -6.78541683e-01 -1.33712558e+00\n",
      "  -9.70299694e-01 -3.89418170e-01  3.48696979e-01 -5.16299917e-01\n",
      "  -1.42395598e+00 -4.89778618e-01 -2.93653766e-01  1.35296755e+00\n",
      "  -1.78501986e+00 -3.58126341e-01 -4.37555880e-01 -6.93336799e-01\n",
      "   1.16809189e+00 -5.68927685e-01  2.75537855e-01 -3.14666908e-01\n",
      "  -2.57218048e-01 -5.69908725e-01 -1.19878961e+00 -6.97453543e-01\n",
      "  -9.87167389e-01  1.84710212e-01 -9.15069877e-01 -1.05321071e+00\n",
      "  -1.14171561e+00 -1.66887537e+00  1.08581115e+00  7.48372127e-01\n",
      "  -5.30910594e-01 -1.07244004e+00 -2.97811630e-01 -3.23170098e-01\n",
      "  -8.66966336e-01 -1.06316106e+00 -1.71770915e+00 -1.50223053e+00\n",
      "  -7.74949054e-01  5.17023851e-01 -6.73245632e-01 -1.31206779e+00\n",
      "  -4.49830056e-01 -1.54794659e+00 -9.26042760e-01 -3.36744718e-01\n",
      "  -3.76612847e-01 -9.41431385e-01 -5.43150807e-01 -4.99109565e-01\n",
      "   7.88356130e-02 -7.33227991e-01 -1.76443519e+00  1.96434895e-01\n",
      "   6.57229643e-01 -1.04670055e+00 -9.46893562e-01 -8.55416062e-01\n",
      "  -6.48248637e-01 -3.74985143e-01  9.46336092e-01 -2.06838159e+00\n",
      "  -6.26520461e-01 -4.68901221e-02 -4.22194940e-01  2.91221000e-01\n",
      "  -5.77991167e-02 -1.37812224e+00  1.18002782e-01 -4.74161228e-01\n",
      "  -5.19697334e-01 -5.03963083e-01  1.03326197e-01 -1.17588503e+00\n",
      "   5.62351653e-01  7.51222498e-02  1.00837195e+00 -1.42193844e+00\n",
      "   6.80730124e-01 -8.43120144e-01 -6.79388908e-01 -2.37972364e+00\n",
      "  -5.23561084e-01 -4.02951011e-01 -6.63599270e-01 -6.72937063e-01\n",
      "  -1.45560931e-01 -1.62001033e+00 -7.36933769e-01 -7.16805611e-01\n",
      "  -1.26572226e+00 -2.54837633e-01  4.11417930e-01 -1.09153874e-01\n",
      "  -1.42067031e-01 -1.22894888e+00 -3.12144508e-01 -7.02782153e-01\n",
      "  -1.61567576e+00 -4.09659269e-01 -4.94327759e-01 -4.25852643e-01\n",
      "  -3.91140515e-01 -1.45473306e-01 -7.91625112e-01 -1.12063994e+00\n",
      "  -3.71347314e-01  2.05036861e-02 -6.05471946e-01 -4.10992611e-01\n",
      "  -5.09007592e-01 -8.46810064e-01 -1.60147318e+00 -5.54253805e-02\n",
      "  -8.56101382e-01  1.21920071e+00 -1.24982842e+00  1.12505526e+00\n",
      "  -2.27201082e-01 -6.14513004e-01 -2.48458573e-01 -5.20474162e-01\n",
      "   2.01474489e-01 -7.03149987e-01 -5.98688960e-01  1.41598157e+00\n",
      "   9.73854319e-01 -4.51621741e-01 -7.74631933e-01  4.41917550e-01\n",
      "   2.76155941e-01  6.87162469e-02 -1.49942225e+00 -9.84678697e-01\n",
      "  -2.60993039e-01 -7.74794524e-01 -8.93598243e-01  3.25275103e-01\n",
      "  -6.31594739e-01 -1.48831521e+00 -1.01199149e+00 -1.16916726e+00\n",
      "   9.73974054e-01 -8.10530248e-01 -1.31725334e+00 -3.97279797e-01\n",
      "  -7.78460745e-01 -1.11947866e+00 -8.38596530e-01 -5.35907483e-01\n",
      "  -1.11749552e+00 -6.53945387e-02]].\n"
     ]
    }
   ],
   "source": [
    "C_Both=[0.01,1.0,10.0,100.0,1000.0,2000.0]\n",
    "Accuracy_Both,Accuracy_train_Both,Coef_Both = TuneParameters(pipeline_LogReg,C_Both,X_train_OneHot_Both,Y_train,X_valid_OneHot_Both,Y_valid)\n",
    "ReportFull(Accuracy_train_Both,Accuracy_Both,C_Both,Coef_Both)"
   ]
  },
  {
   "cell_type": "code",
   "execution_count": 23,
   "metadata": {},
   "outputs": [
    {
     "data": {
      "image/png": "[encoded data removed]",
      "text/plain": [
       "<Figure size 432x288 with 1 Axes>"
      ]
     },
     "metadata": {
      "needs_background": "light"
     },
     "output_type": "display_data"
    }
   ],
   "source": [
    "PlotBiasVariance(Accuracy_train_Both,Accuracy_Both,C_Both)\n",
    "plt.savefig('Figures/LogReg/BaseDataset/BiasVarianceOneHotBothCoarseTunedC.png')"
   ]
  },
  {
   "cell_type": "code",
   "execution_count": 24,
   "metadata": {},
   "outputs": [
    {
     "name": "stderr",
     "output_type": "stream",
     "text": [
      "/Users/glinn/anaconda3/lib/python3.6/site-packages/sklearn/linear_model/logistic.py:432: FutureWarning: Default solver will be changed to 'lbfgs' in 0.22. Specify a solver to silence this warning.\n",
      "  FutureWarning)\n",
      "/Users/glinn/anaconda3/lib/python3.6/site-packages/sklearn/utils/validation.py:724: DataConversionWarning: A column-vector y was passed when a 1d array was expected. Please change the shape of y to (n_samples, ), for example using ravel().\n",
      "  y = column_or_1d(y, warn=True)\n",
      "/Users/glinn/anaconda3/lib/python3.6/site-packages/sklearn/linear_model/logistic.py:1544: UserWarning: 'n_jobs' > 1 does not have any effect when 'solver' is set to 'liblinear'. Got 'n_jobs' = 8.\n",
      "  \" = {}.\".format(effective_n_jobs(self.n_jobs)))\n",
      "/Users/glinn/anaconda3/lib/python3.6/site-packages/sklearn/linear_model/logistic.py:432: FutureWarning: Default solver will be changed to 'lbfgs' in 0.22. Specify a solver to silence this warning.\n",
      "  FutureWarning)\n",
      "/Users/glinn/anaconda3/lib/python3.6/site-packages/sklearn/utils/validation.py:724: DataConversionWarning: A column-vector y was passed when a 1d array was expected. Please change the shape of y to (n_samples, ), for example using ravel().\n",
      "  y = column_or_1d(y, warn=True)\n",
      "/Users/glinn/anaconda3/lib/python3.6/site-packages/sklearn/linear_model/logistic.py:1544: UserWarning: 'n_jobs' > 1 does not have any effect when 'solver' is set to 'liblinear'. Got 'n_jobs' = 8.\n",
      "  \" = {}.\".format(effective_n_jobs(self.n_jobs)))\n",
      "/Users/glinn/anaconda3/lib/python3.6/site-packages/sklearn/linear_model/logistic.py:432: FutureWarning: Default solver will be changed to 'lbfgs' in 0.22. Specify a solver to silence this warning.\n",
      "  FutureWarning)\n",
      "/Users/glinn/anaconda3/lib/python3.6/site-packages/sklearn/utils/validation.py:724: DataConversionWarning: A column-vector y was passed when a 1d array was expected. Please change the shape of y to (n_samples, ), for example using ravel().\n",
      "  y = column_or_1d(y, warn=True)\n",
      "/Users/glinn/anaconda3/lib/python3.6/site-packages/sklearn/linear_model/logistic.py:1544: UserWarning: 'n_jobs' > 1 does not have any effect when 'solver' is set to 'liblinear'. Got 'n_jobs' = 8.\n",
      "  \" = {}.\".format(effective_n_jobs(self.n_jobs)))\n",
      "/Users/glinn/anaconda3/lib/python3.6/site-packages/sklearn/linear_model/logistic.py:432: FutureWarning: Default solver will be changed to 'lbfgs' in 0.22. Specify a solver to silence this warning.\n",
      "  FutureWarning)\n",
      "/Users/glinn/anaconda3/lib/python3.6/site-packages/sklearn/utils/validation.py:724: DataConversionWarning: A column-vector y was passed when a 1d array was expected. Please change the shape of y to (n_samples, ), for example using ravel().\n",
      "  y = column_or_1d(y, warn=True)\n",
      "/Users/glinn/anaconda3/lib/python3.6/site-packages/sklearn/linear_model/logistic.py:1544: UserWarning: 'n_jobs' > 1 does not have any effect when 'solver' is set to 'liblinear'. Got 'n_jobs' = 8.\n",
      "  \" = {}.\".format(effective_n_jobs(self.n_jobs)))\n",
      "/Users/glinn/anaconda3/lib/python3.6/site-packages/sklearn/linear_model/logistic.py:432: FutureWarning: Default solver will be changed to 'lbfgs' in 0.22. Specify a solver to silence this warning.\n",
      "  FutureWarning)\n",
      "/Users/glinn/anaconda3/lib/python3.6/site-packages/sklearn/utils/validation.py:724: DataConversionWarning: A column-vector y was passed when a 1d array was expected. Please change the shape of y to (n_samples, ), for example using ravel().\n",
      "  y = column_or_1d(y, warn=True)\n",
      "/Users/glinn/anaconda3/lib/python3.6/site-packages/sklearn/linear_model/logistic.py:1544: UserWarning: 'n_jobs' > 1 does not have any effect when 'solver' is set to 'liblinear'. Got 'n_jobs' = 8.\n",
      "  \" = {}.\".format(effective_n_jobs(self.n_jobs)))\n",
      "/Users/glinn/anaconda3/lib/python3.6/site-packages/sklearn/linear_model/logistic.py:432: FutureWarning: Default solver will be changed to 'lbfgs' in 0.22. Specify a solver to silence this warning.\n",
      "  FutureWarning)\n",
      "/Users/glinn/anaconda3/lib/python3.6/site-packages/sklearn/utils/validation.py:724: DataConversionWarning: A column-vector y was passed when a 1d array was expected. Please change the shape of y to (n_samples, ), for example using ravel().\n",
      "  y = column_or_1d(y, warn=True)\n",
      "/Users/glinn/anaconda3/lib/python3.6/site-packages/sklearn/linear_model/logistic.py:1544: UserWarning: 'n_jobs' > 1 does not have any effect when 'solver' is set to 'liblinear'. Got 'n_jobs' = 8.\n",
      "  \" = {}.\".format(effective_n_jobs(self.n_jobs)))\n",
      "/Users/glinn/anaconda3/lib/python3.6/site-packages/sklearn/linear_model/logistic.py:432: FutureWarning: Default solver will be changed to 'lbfgs' in 0.22. Specify a solver to silence this warning.\n",
      "  FutureWarning)\n",
      "/Users/glinn/anaconda3/lib/python3.6/site-packages/sklearn/utils/validation.py:724: DataConversionWarning: A column-vector y was passed when a 1d array was expected. Please change the shape of y to (n_samples, ), for example using ravel().\n",
      "  y = column_or_1d(y, warn=True)\n",
      "/Users/glinn/anaconda3/lib/python3.6/site-packages/sklearn/linear_model/logistic.py:1544: UserWarning: 'n_jobs' > 1 does not have any effect when 'solver' is set to 'liblinear'. Got 'n_jobs' = 8.\n",
      "  \" = {}.\".format(effective_n_jobs(self.n_jobs)))\n",
      "/Users/glinn/anaconda3/lib/python3.6/site-packages/sklearn/linear_model/logistic.py:432: FutureWarning: Default solver will be changed to 'lbfgs' in 0.22. Specify a solver to silence this warning.\n",
      "  FutureWarning)\n",
      "/Users/glinn/anaconda3/lib/python3.6/site-packages/sklearn/utils/validation.py:724: DataConversionWarning: A column-vector y was passed when a 1d array was expected. Please change the shape of y to (n_samples, ), for example using ravel().\n",
      "  y = column_or_1d(y, warn=True)\n",
      "/Users/glinn/anaconda3/lib/python3.6/site-packages/sklearn/linear_model/logistic.py:1544: UserWarning: 'n_jobs' > 1 does not have any effect when 'solver' is set to 'liblinear'. Got 'n_jobs' = 8.\n",
      "  \" = {}.\".format(effective_n_jobs(self.n_jobs)))\n",
      "/Users/glinn/anaconda3/lib/python3.6/site-packages/sklearn/linear_model/logistic.py:432: FutureWarning: Default solver will be changed to 'lbfgs' in 0.22. Specify a solver to silence this warning.\n",
      "  FutureWarning)\n",
      "/Users/glinn/anaconda3/lib/python3.6/site-packages/sklearn/utils/validation.py:724: DataConversionWarning: A column-vector y was passed when a 1d array was expected. Please change the shape of y to (n_samples, ), for example using ravel().\n",
      "  y = column_or_1d(y, warn=True)\n",
      "/Users/glinn/anaconda3/lib/python3.6/site-packages/sklearn/linear_model/logistic.py:1544: UserWarning: 'n_jobs' > 1 does not have any effect when 'solver' is set to 'liblinear'. Got 'n_jobs' = 8.\n",
      "  \" = {}.\".format(effective_n_jobs(self.n_jobs)))\n",
      "/Users/glinn/anaconda3/lib/python3.6/site-packages/sklearn/linear_model/logistic.py:432: FutureWarning: Default solver will be changed to 'lbfgs' in 0.22. Specify a solver to silence this warning.\n",
      "  FutureWarning)\n",
      "/Users/glinn/anaconda3/lib/python3.6/site-packages/sklearn/utils/validation.py:724: DataConversionWarning: A column-vector y was passed when a 1d array was expected. Please change the shape of y to (n_samples, ), for example using ravel().\n",
      "  y = column_or_1d(y, warn=True)\n",
      "/Users/glinn/anaconda3/lib/python3.6/site-packages/sklearn/linear_model/logistic.py:1544: UserWarning: 'n_jobs' > 1 does not have any effect when 'solver' is set to 'liblinear'. Got 'n_jobs' = 8.\n",
      "  \" = {}.\".format(effective_n_jobs(self.n_jobs)))\n"
     ]
    },
    {
     "name": "stdout",
     "output_type": "stream",
     "text": [
      "The best validation accuracy is 0.6623357093446419.\n",
      "The best training accuracy is 0.6686656851605882.\n",
      "The best value for C is 200.0\n",
      "And, the best model coefficients are [[-2.25982687e-01 -1.52676646e+01 -7.51601667e-03  5.99029982e-03\n",
      "  -1.49805847e-01  3.75342925e-01 -5.98359324e-01 -3.17141273e-01\n",
      "  -7.43295990e-02 -8.98507264e-01 -3.02950562e-01 -3.47029254e-01\n",
      "  -1.16616042e-01  3.10139752e-02 -7.35746812e-02 -7.50018811e-01\n",
      "  -4.84577832e-01 -6.30440946e-01  5.23936537e-01  4.17405786e-01\n",
      "  -8.20669796e-01  1.79274173e-01 -1.10974513e+00 -6.50669236e-01\n",
      "  -5.50719614e-01  5.99045462e-01 -5.79860120e-01 -1.87932096e+00\n",
      "  -8.79106872e-01 -3.14804090e-01  5.12401949e-01 -1.05805396e+00\n",
      "  -1.26483763e+00 -1.77175948e-01 -1.29325625e-01  8.10690149e-01\n",
      "  -1.44370948e+00 -2.83418281e-01 -2.73321109e-01 -5.94583481e-01\n",
      "   1.47941113e+00 -4.77689147e-01  5.88025927e-01 -1.34653767e-01\n",
      "  -1.00896025e-01 -4.13423709e-01 -1.03942911e+00 -6.22815627e-01\n",
      "  -8.28187246e-01  4.97201038e-01 -8.16207729e-01 -7.11906026e-01\n",
      "  -8.00332731e-01 -1.32757144e+00  5.43595922e-01  9.09954859e-01\n",
      "  -4.39782085e-01 -9.97805614e-01 -1.18589611e-01 -1.43955558e-01\n",
      "  -7.08031218e-01 -7.50667756e-01 -1.37606654e+00 -1.34366535e+00\n",
      "  -5.97557028e-01 -2.50160694e-02 -3.60737776e-01 -1.13272233e+00\n",
      "  -2.70515276e-01 -1.38860909e+00 -7.66779174e-01 -2.38092476e-01\n",
      "  -2.00157398e-01 -7.77209537e-01 -3.63936856e-01  9.81595532e-02\n",
      "  -4.63245806e-01 -5.73984140e-01 -1.60518012e+00  2.95071118e-01\n",
      "   1.15037431e-01 -8.90893813e-01 -7.91006753e-01 -5.14016106e-01\n",
      "  -5.57106750e-01 -2.18902671e-01  4.04166407e-01 -1.75587136e+00\n",
      "  -4.47276268e-01  2.77141021e-02 -2.47262205e-01  6.03894946e-01\n",
      "   1.67443574e-02 -1.28688357e+00  4.30488052e-01 -3.75473110e-01\n",
      "  -1.06147660e+00 -1.91370530e-01  4.44360512e-01 -8.63158972e-01\n",
      "   8.54245600e-01  2.38736207e-01  1.17075776e+00 -1.26611132e+00\n",
      "   1.38428875e-01 -5.30582698e-01 -6.04767877e-01 -2.22387100e+00\n",
      "  -3.44159822e-01 -9.04547579e-02 -4.84446604e-01 -4.98164117e-01\n",
      "   3.36397563e-02 -1.02263719e+00 -5.73214339e-01 -6.42182452e-01\n",
      "  -6.68379890e-01 -1.80220956e-01  5.72996475e-01  5.50583932e-02\n",
      "  -4.31547597e-02 -1.77055941e+00  2.85154928e-01 -1.05471454e-01\n",
      "  -1.01830117e+00 -2.53851128e-01 -3.19372029e-01 -2.61601570e-01\n",
      "  -7.86470068e-02  1.95416076e-01 -1.33337229e+00 -7.79188154e-01\n",
      "  -2.80202360e-01  9.50988820e-02 -4.41228619e-01 -9.84296453e-02\n",
      "  -3.53077749e-01 -5.05035030e-01 -1.28889749e+00  1.08472469e-01\n",
      "  -7.57390963e-01  1.38023878e+00 -1.09088308e+00  5.82827389e-01\n",
      "   8.54723554e-02 -4.35127344e-01 -6.92967268e-02 -4.45847155e-01\n",
      "   3.80684950e-01 -5.44026253e-01 -1.14086059e+00  8.73768851e-01\n",
      "   4.31581556e-01 -2.87823885e-01 -4.33304533e-01  5.97705400e-01\n",
      "   6.14707584e-01 -4.73446762e-01 -1.32014101e+00 -9.09954928e-01\n",
      "  -8.62506061e-02 -5.95530043e-01 -7.29129426e-01  4.16160517e-01\n",
      "  -4.72321192e-01 -2.02998575e+00 -9.37211177e-01 -1.01336449e+00\n",
      "   4.31750391e-01 -4.68958252e-01 -1.85930213e+00 -2.41338505e-01\n",
      "  -5.99242792e-01 -7.78262082e-01 -6.76805318e-01 -2.23395741e-01\n",
      "  -9.53436056e-01  9.85359440e-02]].\n"
     ]
    }
   ],
   "source": [
    "C_Both_fine=np.linspace(200,1900,10)\n",
    "Accuracy_Both_fine,Accuracy_train_Both_fine,Coef_Both_fine = TuneParameters(pipeline_LogReg,C_Both_fine,X_train_OneHot_Both,Y_train,X_valid_OneHot_Both,Y_valid)\n",
    "ReportBest(Accuracy_train_Both_fine,Accuracy_Both_fine,C_Both_fine,Coef_Both_fine)"
   ]
  },
  {
   "cell_type": "code",
   "execution_count": 25,
   "metadata": {},
   "outputs": [
    {
     "data": {
      "image/png": "[encoded data removed]",
      "text/plain": [
       "<Figure size 432x288 with 1 Axes>"
      ]
     },
     "metadata": {
      "needs_background": "light"
     },
     "output_type": "display_data"
    }
   ],
   "source": [
    "PlotBiasVariance(Accuracy_train_Both_fine,Accuracy_Both_fine,C_Both_fine)\n",
    "plt.savefig('Figures/LogReg/BaseDataset/BiasVarianceOneHotBothFineTunedC.png')"
   ]
  },
  {
   "cell_type": "markdown",
   "metadata": {},
   "source": [
    "Okay, so in the end, our best result after tuning the complexity of our model is:"
   ]
  },
  {
   "cell_type": "code",
   "execution_count": 26,
   "metadata": {},
   "outputs": [
    {
     "name": "stdout",
     "output_type": "stream",
     "text": [
      "The best validation accuracy is 0.6623357093446419.\n",
      "The best training accuracy is 0.6686656851605882.\n",
      "The best value for C is 200.0\n",
      "And, the best model coefficients are [[-2.25982687e-01 -1.52676646e+01 -7.51601667e-03  5.99029982e-03\n",
      "  -1.49805847e-01  3.75342925e-01 -5.98359324e-01 -3.17141273e-01\n",
      "  -7.43295990e-02 -8.98507264e-01 -3.02950562e-01 -3.47029254e-01\n",
      "  -1.16616042e-01  3.10139752e-02 -7.35746812e-02 -7.50018811e-01\n",
      "  -4.84577832e-01 -6.30440946e-01  5.23936537e-01  4.17405786e-01\n",
      "  -8.20669796e-01  1.79274173e-01 -1.10974513e+00 -6.50669236e-01\n",
      "  -5.50719614e-01  5.99045462e-01 -5.79860120e-01 -1.87932096e+00\n",
      "  -8.79106872e-01 -3.14804090e-01  5.12401949e-01 -1.05805396e+00\n",
      "  -1.26483763e+00 -1.77175948e-01 -1.29325625e-01  8.10690149e-01\n",
      "  -1.44370948e+00 -2.83418281e-01 -2.73321109e-01 -5.94583481e-01\n",
      "   1.47941113e+00 -4.77689147e-01  5.88025927e-01 -1.34653767e-01\n",
      "  -1.00896025e-01 -4.13423709e-01 -1.03942911e+00 -6.22815627e-01\n",
      "  -8.28187246e-01  4.97201038e-01 -8.16207729e-01 -7.11906026e-01\n",
      "  -8.00332731e-01 -1.32757144e+00  5.43595922e-01  9.09954859e-01\n",
      "  -4.39782085e-01 -9.97805614e-01 -1.18589611e-01 -1.43955558e-01\n",
      "  -7.08031218e-01 -7.50667756e-01 -1.37606654e+00 -1.34366535e+00\n",
      "  -5.97557028e-01 -2.50160694e-02 -3.60737776e-01 -1.13272233e+00\n",
      "  -2.70515276e-01 -1.38860909e+00 -7.66779174e-01 -2.38092476e-01\n",
      "  -2.00157398e-01 -7.77209537e-01 -3.63936856e-01  9.81595532e-02\n",
      "  -4.63245806e-01 -5.73984140e-01 -1.60518012e+00  2.95071118e-01\n",
      "   1.15037431e-01 -8.90893813e-01 -7.91006753e-01 -5.14016106e-01\n",
      "  -5.57106750e-01 -2.18902671e-01  4.04166407e-01 -1.75587136e+00\n",
      "  -4.47276268e-01  2.77141021e-02 -2.47262205e-01  6.03894946e-01\n",
      "   1.67443574e-02 -1.28688357e+00  4.30488052e-01 -3.75473110e-01\n",
      "  -1.06147660e+00 -1.91370530e-01  4.44360512e-01 -8.63158972e-01\n",
      "   8.54245600e-01  2.38736207e-01  1.17075776e+00 -1.26611132e+00\n",
      "   1.38428875e-01 -5.30582698e-01 -6.04767877e-01 -2.22387100e+00\n",
      "  -3.44159822e-01 -9.04547579e-02 -4.84446604e-01 -4.98164117e-01\n",
      "   3.36397563e-02 -1.02263719e+00 -5.73214339e-01 -6.42182452e-01\n",
      "  -6.68379890e-01 -1.80220956e-01  5.72996475e-01  5.50583932e-02\n",
      "  -4.31547597e-02 -1.77055941e+00  2.85154928e-01 -1.05471454e-01\n",
      "  -1.01830117e+00 -2.53851128e-01 -3.19372029e-01 -2.61601570e-01\n",
      "  -7.86470068e-02  1.95416076e-01 -1.33337229e+00 -7.79188154e-01\n",
      "  -2.80202360e-01  9.50988820e-02 -4.41228619e-01 -9.84296453e-02\n",
      "  -3.53077749e-01 -5.05035030e-01 -1.28889749e+00  1.08472469e-01\n",
      "  -7.57390963e-01  1.38023878e+00 -1.09088308e+00  5.82827389e-01\n",
      "   8.54723554e-02 -4.35127344e-01 -6.92967268e-02 -4.45847155e-01\n",
      "   3.80684950e-01 -5.44026253e-01 -1.14086059e+00  8.73768851e-01\n",
      "   4.31581556e-01 -2.87823885e-01 -4.33304533e-01  5.97705400e-01\n",
      "   6.14707584e-01 -4.73446762e-01 -1.32014101e+00 -9.09954928e-01\n",
      "  -8.62506061e-02 -5.95530043e-01 -7.29129426e-01  4.16160517e-01\n",
      "  -4.72321192e-01 -2.02998575e+00 -9.37211177e-01 -1.01336449e+00\n",
      "   4.31750391e-01 -4.68958252e-01 -1.85930213e+00 -2.41338505e-01\n",
      "  -5.99242792e-01 -7.78262082e-01 -6.76805318e-01 -2.23395741e-01\n",
      "  -9.53436056e-01  9.85359440e-02]].\n"
     ]
    }
   ],
   "source": [
    "ReportBest(Accuracy_train_Both_fine,Accuracy_Both_fine,C_Both_fine,Coef_Both_fine)"
   ]
  },
  {
   "cell_type": "markdown",
   "metadata": {},
   "source": [
    "We find in the end that the best dataset is one hot encoding both the main and the sub categories. Below is the report of the best overall model on the best dataset: "
   ]
  },
  {
   "cell_type": "code",
   "execution_count": 27,
   "metadata": {},
   "outputs": [
    {
     "name": "stdout",
     "output_type": "stream",
     "text": [
      "The best validation accuracy is 0.6623357093446419.\n",
      "The best training accuracy is 0.6686656851605882.\n",
      "The best value for C is 200.0\n",
      "And, the best model coefficients are [[-2.25982687e-01 -1.52676646e+01 -7.51601667e-03  5.99029982e-03\n",
      "  -1.49805847e-01  3.75342925e-01 -5.98359324e-01 -3.17141273e-01\n",
      "  -7.43295990e-02 -8.98507264e-01 -3.02950562e-01 -3.47029254e-01\n",
      "  -1.16616042e-01  3.10139752e-02 -7.35746812e-02 -7.50018811e-01\n",
      "  -4.84577832e-01 -6.30440946e-01  5.23936537e-01  4.17405786e-01\n",
      "  -8.20669796e-01  1.79274173e-01 -1.10974513e+00 -6.50669236e-01\n",
      "  -5.50719614e-01  5.99045462e-01 -5.79860120e-01 -1.87932096e+00\n",
      "  -8.79106872e-01 -3.14804090e-01  5.12401949e-01 -1.05805396e+00\n",
      "  -1.26483763e+00 -1.77175948e-01 -1.29325625e-01  8.10690149e-01\n",
      "  -1.44370948e+00 -2.83418281e-01 -2.73321109e-01 -5.94583481e-01\n",
      "   1.47941113e+00 -4.77689147e-01  5.88025927e-01 -1.34653767e-01\n",
      "  -1.00896025e-01 -4.13423709e-01 -1.03942911e+00 -6.22815627e-01\n",
      "  -8.28187246e-01  4.97201038e-01 -8.16207729e-01 -7.11906026e-01\n",
      "  -8.00332731e-01 -1.32757144e+00  5.43595922e-01  9.09954859e-01\n",
      "  -4.39782085e-01 -9.97805614e-01 -1.18589611e-01 -1.43955558e-01\n",
      "  -7.08031218e-01 -7.50667756e-01 -1.37606654e+00 -1.34366535e+00\n",
      "  -5.97557028e-01 -2.50160694e-02 -3.60737776e-01 -1.13272233e+00\n",
      "  -2.70515276e-01 -1.38860909e+00 -7.66779174e-01 -2.38092476e-01\n",
      "  -2.00157398e-01 -7.77209537e-01 -3.63936856e-01  9.81595532e-02\n",
      "  -4.63245806e-01 -5.73984140e-01 -1.60518012e+00  2.95071118e-01\n",
      "   1.15037431e-01 -8.90893813e-01 -7.91006753e-01 -5.14016106e-01\n",
      "  -5.57106750e-01 -2.18902671e-01  4.04166407e-01 -1.75587136e+00\n",
      "  -4.47276268e-01  2.77141021e-02 -2.47262205e-01  6.03894946e-01\n",
      "   1.67443574e-02 -1.28688357e+00  4.30488052e-01 -3.75473110e-01\n",
      "  -1.06147660e+00 -1.91370530e-01  4.44360512e-01 -8.63158972e-01\n",
      "   8.54245600e-01  2.38736207e-01  1.17075776e+00 -1.26611132e+00\n",
      "   1.38428875e-01 -5.30582698e-01 -6.04767877e-01 -2.22387100e+00\n",
      "  -3.44159822e-01 -9.04547579e-02 -4.84446604e-01 -4.98164117e-01\n",
      "   3.36397563e-02 -1.02263719e+00 -5.73214339e-01 -6.42182452e-01\n",
      "  -6.68379890e-01 -1.80220956e-01  5.72996475e-01  5.50583932e-02\n",
      "  -4.31547597e-02 -1.77055941e+00  2.85154928e-01 -1.05471454e-01\n",
      "  -1.01830117e+00 -2.53851128e-01 -3.19372029e-01 -2.61601570e-01\n",
      "  -7.86470068e-02  1.95416076e-01 -1.33337229e+00 -7.79188154e-01\n",
      "  -2.80202360e-01  9.50988820e-02 -4.41228619e-01 -9.84296453e-02\n",
      "  -3.53077749e-01 -5.05035030e-01 -1.28889749e+00  1.08472469e-01\n",
      "  -7.57390963e-01  1.38023878e+00 -1.09088308e+00  5.82827389e-01\n",
      "   8.54723554e-02 -4.35127344e-01 -6.92967268e-02 -4.45847155e-01\n",
      "   3.80684950e-01 -5.44026253e-01 -1.14086059e+00  8.73768851e-01\n",
      "   4.31581556e-01 -2.87823885e-01 -4.33304533e-01  5.97705400e-01\n",
      "   6.14707584e-01 -4.73446762e-01 -1.32014101e+00 -9.09954928e-01\n",
      "  -8.62506061e-02 -5.95530043e-01 -7.29129426e-01  4.16160517e-01\n",
      "  -4.72321192e-01 -2.02998575e+00 -9.37211177e-01 -1.01336449e+00\n",
      "   4.31750391e-01 -4.68958252e-01 -1.85930213e+00 -2.41338505e-01\n",
      "  -5.99242792e-01 -7.78262082e-01 -6.76805318e-01 -2.23395741e-01\n",
      "  -9.53436056e-01  9.85359440e-02]].\n"
     ]
    }
   ],
   "source": [
    "ReportBest(Accuracy_train_Both_fine,Accuracy_Both_fine,C_Both_fine,Coef_Both_fine)"
   ]
  },
  {
   "cell_type": "code",
   "execution_count": 28,
   "metadata": {},
   "outputs": [],
   "source": [
    "X_valid_df=X_valid_df.drop(columns=[\"Unnamed: 0\"])\n",
    "X_valid_OneHotBoth_df = pd.get_dummies(X_valid_df,columns = [\"main_category\",\"category\"])"
   ]
  },
  {
   "cell_type": "code",
   "execution_count": 29,
   "metadata": {},
   "outputs": [
    {
     "name": "stdout",
     "output_type": "stream",
     "text": [
      "The most negatively linearly correlated feature is usd_goal_real.\n",
      "The most positively linearly correlated feature is category_21.\n"
     ]
    }
   ],
   "source": [
    "print(f\"The most negatively linearly correlated feature is {X_valid_OneHotBoth_df.columns[np.argmin(Coef_Both_fine)]}.\")\n",
    "print(f\"The most positively linearly correlated feature is {X_valid_OneHotBoth_df.columns[np.argmax(Coef_Both_fine)]}.\")"
   ]
  }
 ],
 "metadata": {
  "kernelspec": {
   "display_name": "Python 3",
   "language": "python",
   "name": "python3"
  },
  "language_info": {
   "codemirror_mode": {
    "name": "ipython",
    "version": 3
   },
   "file_extension": ".py",
   "mimetype": "text/x-python",
   "name": "python",
   "nbconvert_exporter": "python",
   "pygments_lexer": "ipython3",
   "version": "3.6.9"
  }
 },
 "nbformat": 4,
 "nbformat_minor": 2
}
